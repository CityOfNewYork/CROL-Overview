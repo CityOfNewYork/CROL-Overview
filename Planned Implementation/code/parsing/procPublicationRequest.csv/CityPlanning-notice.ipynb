{
 "cells": [
  {
   "cell_type": "markdown",
   "metadata": {},
   "source": [
    "**Status**\n",
    "* Starter notebook for Parsing: City Planning Notice\n",
    "\n"
   ]
  },
  {
   "cell_type": "code",
   "execution_count": 1,
   "metadata": {
    "collapsed": false
   },
   "outputs": [],
   "source": [
    "from bs4 import BeautifulSoup as Soup\n",
    "from IPython.display import display, HTML\n",
    "import pandas as pd\n",
    "import re\n",
    "import pprint\n",
    "import json"
   ]
  },
  {
   "cell_type": "code",
   "execution_count": 2,
   "metadata": {
    "collapsed": true
   },
   "outputs": [],
   "source": [
    "orig_prettify = Soup.prettify\n",
    "r = re.compile(r'^(\\s*)', re.MULTILINE)\n",
    "def prettify(self, encoding=None, formatter=\"minimal\", indent_width=4):\n",
    "    return r.sub(r'\\1' * indent_width, orig_prettify(self, encoding, formatter))\n",
    "Soup.prettify = prettify\n"
   ]
  },
  {
   "cell_type": "code",
   "execution_count": 3,
   "metadata": {
    "collapsed": false
   },
   "outputs": [],
   "source": [
    "fn = 'procPublicationRequest Oct-Dec 2014 (Updated) - Sheet1-2.csv'\n",
    "rows = pd.read_csv(fn, header=0)"
   ]
  },
  {
   "cell_type": "code",
   "execution_count": 4,
   "metadata": {
    "collapsed": false
   },
   "outputs": [],
   "source": [
    "agency = rows['AgencyName'] == \"City Planning\"\n",
    "description = rows['TypeOfNoticeDescription'] == \"Notice\"\n",
    "target_rows = rows[agency & description]\n"
   ]
  },
  {
   "cell_type": "code",
   "execution_count": 5,
   "metadata": {
    "collapsed": true
   },
   "outputs": [],
   "source": [
    "def scrape(row):\n",
    "    output = {}\n",
    "    text = row.AdditionalDescription\n",
    "    if not isinstance(text, str):\n",
    "        output = { 'error' : 'source is not a string: {}'.format(text) }\n",
    "    else:\n",
    "        display(HTML(text))\n",
    "        display(HTML('<hr/>'))\n",
    "\n",
    "    row['output'] = json.dumps(output)\n",
    "    return row"
   ]
  },
  {
   "cell_type": "code",
   "execution_count": 6,
   "metadata": {
    "collapsed": false,
    "scrolled": false
   },
   "outputs": [
    {
     "data": {
      "text/html": [
       "<p style=text-align: center;\"> 39-41 West 23rd Street</p> <p style=\"text-align: center;\"> CEQR 14DCP167M- NEGATIVE DECLARATION</p> <p> &nbsp;</p> <p> The Applicant"
      ],
      "text/plain": [
       "<IPython.core.display.HTML object>"
      ]
     },
     "metadata": {},
     "output_type": "display_data"
    },
    {
     "data": {
      "text/html": [
       "<hr/>"
      ],
      "text/plain": [
       "<IPython.core.display.HTML object>"
      ]
     },
     "metadata": {},
     "output_type": "display_data"
    },
    {
     "data": {
      "text/html": [
       "<p style=text-align: center;\"> <strong><span id=\"ctl00_cphbody_lblShortTitle\"><em>XU HOTEL AND RESIDENCES REZONING</em></span></strong></p> <p style=\"text-align: center;\"> <strong><span><em>13DCP106Q - NEGATIVE DECLARATION</em></span></strong></p> <p> &nbsp;</p> <p> The applicant"
      ],
      "text/plain": [
       "<IPython.core.display.HTML object>"
      ]
     },
     "metadata": {},
     "output_type": "display_data"
    },
    {
     "data": {
      "text/html": [
       "<hr/>"
      ],
      "text/plain": [
       "<IPython.core.display.HTML object>"
      ]
     },
     "metadata": {},
     "output_type": "display_data"
    },
    {
     "data": {
      "text/html": [
       "<p style=text-align: center;\"> <strong><span id=\"ctl00_cphbody_lblShortTitle\"><em>5402 FORT HAMILTON PARKWAY</em></span></strong></p> <p style=\"text-align: center;\"> <strong><span><em>14DCP135K - CONDITIONAL NEGATIVE DECLARATION</em></span></strong></p> <p> &nbsp;</p> <p> The applicant"
      ],
      "text/plain": [
       "<IPython.core.display.HTML object>"
      ]
     },
     "metadata": {},
     "output_type": "display_data"
    },
    {
     "data": {
      "text/html": [
       "<hr/>"
      ],
      "text/plain": [
       "<IPython.core.display.HTML object>"
      ]
     },
     "metadata": {},
     "output_type": "display_data"
    }
   ],
   "source": [
    "processed_rows = target_rows.apply(scrape,1)"
   ]
  },
  {
   "cell_type": "code",
   "execution_count": 7,
   "metadata": {
    "collapsed": false,
    "scrolled": false
   },
   "outputs": [],
   "source": [
    "errors = []\n",
    "cols = ['RequestID', 'output', 'AdditionalDescription', 'StartDate', 'EndDate', 'DueDate']\n",
    "for rec in processed_rows[cols].values:\n",
    "    id, output, desc, dtStart, dtEnd, dtDue = rec\n",
    "    output = json.loads(output)\n",
    "    if output.get('error', None):\n",
    "        errors.append({'RequestID' : id, 'error': output, 'desc' : desc, \n",
    "                       'StartDate' : dtStart, 'EndDate' : dtEnd, 'DueDate' :  dtDue\n",
    "                      })\n",
    "        continue"
   ]
  },
  {
   "cell_type": "code",
   "execution_count": 8,
   "metadata": {
    "collapsed": false,
    "scrolled": false
   },
   "outputs": [
    {
     "data": {
      "text/html": [
       "<h1>10 Errors parsing Notice::City Planning</h1>"
      ],
      "text/plain": [
       "<IPython.core.display.HTML object>"
      ]
     },
     "metadata": {},
     "output_type": "display_data"
    },
    {
     "name": "stdout",
     "output_type": "stream",
     "text": [
      "{'DueDate': nan,\n",
      " 'EndDate': '10/6/2014 0:00:00',\n",
      " 'RequestID': 20140929106,\n",
      " 'StartDate': '10/6/2014 0:00:00',\n",
      " 'desc': nan,\n",
      " 'error': {'error': 'source is not a string: nan'}}\n",
      "\n",
      "\n",
      "\n"
     ]
    },
    {
     "data": {
      "text/html": [
       "<hr/>"
      ],
      "text/plain": [
       "<IPython.core.display.HTML object>"
      ]
     },
     "metadata": {},
     "output_type": "display_data"
    },
    {
     "name": "stdout",
     "output_type": "stream",
     "text": [
      "{'DueDate': nan,\n",
      " 'EndDate': '10/6/2014 0:00:00',\n",
      " 'RequestID': 20140930102,\n",
      " 'StartDate': '10/6/2014 0:00:00',\n",
      " 'desc': nan,\n",
      " 'error': {'error': 'source is not a string: nan'}}\n",
      "\n",
      "\n",
      "\n"
     ]
    },
    {
     "data": {
      "text/html": [
       "<hr/>"
      ],
      "text/plain": [
       "<IPython.core.display.HTML object>"
      ]
     },
     "metadata": {},
     "output_type": "display_data"
    },
    {
     "name": "stdout",
     "output_type": "stream",
     "text": [
      "{'DueDate': nan,\n",
      " 'EndDate': '10/27/2014 0:00:00',\n",
      " 'RequestID': 20141020114,\n",
      " 'StartDate': '10/27/2014 0:00:00',\n",
      " 'desc': nan,\n",
      " 'error': {'error': 'source is not a string: nan'}}\n",
      "\n",
      "\n",
      "\n"
     ]
    },
    {
     "data": {
      "text/html": [
       "<hr/>"
      ],
      "text/plain": [
       "<IPython.core.display.HTML object>"
      ]
     },
     "metadata": {},
     "output_type": "display_data"
    },
    {
     "name": "stdout",
     "output_type": "stream",
     "text": [
      "{'DueDate': nan,\n",
      " 'EndDate': '10/28/2014 0:00:00',\n",
      " 'RequestID': 20141021104,\n",
      " 'StartDate': '10/28/2014 0:00:00',\n",
      " 'desc': nan,\n",
      " 'error': {'error': 'source is not a string: nan'}}\n",
      "\n",
      "\n",
      "\n"
     ]
    },
    {
     "data": {
      "text/html": [
       "<hr/>"
      ],
      "text/plain": [
       "<IPython.core.display.HTML object>"
      ]
     },
     "metadata": {},
     "output_type": "display_data"
    },
    {
     "name": "stdout",
     "output_type": "stream",
     "text": [
      "{'DueDate': nan,\n",
      " 'EndDate': '10/28/2014 0:00:00',\n",
      " 'RequestID': 20141022101,\n",
      " 'StartDate': '10/28/2014 0:00:00',\n",
      " 'desc': nan,\n",
      " 'error': {'error': 'source is not a string: nan'}}\n",
      "\n",
      "\n",
      "\n"
     ]
    },
    {
     "data": {
      "text/html": [
       "<hr/>"
      ],
      "text/plain": [
       "<IPython.core.display.HTML object>"
      ]
     },
     "metadata": {},
     "output_type": "display_data"
    },
    {
     "name": "stdout",
     "output_type": "stream",
     "text": [
      "{'DueDate': nan,\n",
      " 'EndDate': '11/13/2014 0:00:00',\n",
      " 'RequestID': 20141105105,\n",
      " 'StartDate': '11/13/2014 0:00:00',\n",
      " 'desc': nan,\n",
      " 'error': {'error': 'source is not a string: nan'}}\n",
      "\n",
      "\n",
      "\n"
     ]
    },
    {
     "data": {
      "text/html": [
       "<hr/>"
      ],
      "text/plain": [
       "<IPython.core.display.HTML object>"
      ]
     },
     "metadata": {},
     "output_type": "display_data"
    },
    {
     "name": "stdout",
     "output_type": "stream",
     "text": [
      "{'DueDate': nan,\n",
      " 'EndDate': '11/13/2014 0:00:00',\n",
      " 'RequestID': 20141105106,\n",
      " 'StartDate': '11/13/2014 0:00:00',\n",
      " 'desc': nan,\n",
      " 'error': {'error': 'source is not a string: nan'}}\n",
      "\n",
      "\n",
      "\n"
     ]
    },
    {
     "data": {
      "text/html": [
       "<hr/>"
      ],
      "text/plain": [
       "<IPython.core.display.HTML object>"
      ]
     },
     "metadata": {},
     "output_type": "display_data"
    },
    {
     "name": "stdout",
     "output_type": "stream",
     "text": [
      "{'DueDate': nan,\n",
      " 'EndDate': '11/26/2014 0:00:00',\n",
      " 'RequestID': 20141119106,\n",
      " 'StartDate': '11/26/2014 0:00:00',\n",
      " 'desc': nan,\n",
      " 'error': {'error': 'source is not a string: nan'}}\n",
      "\n",
      "\n",
      "\n"
     ]
    },
    {
     "data": {
      "text/html": [
       "<hr/>"
      ],
      "text/plain": [
       "<IPython.core.display.HTML object>"
      ]
     },
     "metadata": {},
     "output_type": "display_data"
    },
    {
     "name": "stdout",
     "output_type": "stream",
     "text": [
      "{'DueDate': nan,\n",
      " 'EndDate': '11/24/2014 0:00:00',\n",
      " 'RequestID': 20141119107,\n",
      " 'StartDate': '11/24/2014 0:00:00',\n",
      " 'desc': nan,\n",
      " 'error': {'error': 'source is not a string: nan'}}\n",
      "\n",
      "\n",
      "\n"
     ]
    },
    {
     "data": {
      "text/html": [
       "<hr/>"
      ],
      "text/plain": [
       "<IPython.core.display.HTML object>"
      ]
     },
     "metadata": {},
     "output_type": "display_data"
    },
    {
     "name": "stdout",
     "output_type": "stream",
     "text": [
      "{'DueDate': nan,\n",
      " 'EndDate': '12/22/2014 0:00:00',\n",
      " 'RequestID': 20141216113,\n",
      " 'StartDate': '12/22/2014 0:00:00',\n",
      " 'desc': nan,\n",
      " 'error': {'error': 'source is not a string: nan'}}\n",
      "\n",
      "\n",
      "\n"
     ]
    },
    {
     "data": {
      "text/html": [
       "<hr/>"
      ],
      "text/plain": [
       "<IPython.core.display.HTML object>"
      ]
     },
     "metadata": {},
     "output_type": "display_data"
    }
   ],
   "source": [
    "err_summary = '''<h1>{} Errors parsing Notice::City Planning</h1>'''.format(len(errors))\n",
    "display(HTML(err_summary))\n",
    "for error in errors:\n",
    "    pprint.pprint(error)\n",
    "    print('\\n\\n')\n",
    "    desc = error['desc']\n",
    "    if isinstance(desc, str):\n",
    "        display(HTML(error['desc']))\n",
    "    display(HTML('<hr/>'))\n"
   ]
  },
  {
   "cell_type": "code",
   "execution_count": null,
   "metadata": {
    "collapsed": true
   },
   "outputs": [],
   "source": []
  },
  {
   "cell_type": "code",
   "execution_count": null,
   "metadata": {
    "collapsed": true
   },
   "outputs": [],
   "source": []
  }
 ],
 "metadata": {
  "kernelspec": {
   "display_name": "Python 3",
   "language": "python",
   "name": "python3"
  },
  "language_info": {
   "codemirror_mode": {
    "name": "ipython",
    "version": 3
   },
   "file_extension": ".py",
   "mimetype": "text/x-python",
   "name": "python",
   "nbconvert_exporter": "python",
   "pygments_lexer": "ipython3",
   "version": "3.4.3"
  }
 },
 "nbformat": 4,
 "nbformat_minor": 0
}
