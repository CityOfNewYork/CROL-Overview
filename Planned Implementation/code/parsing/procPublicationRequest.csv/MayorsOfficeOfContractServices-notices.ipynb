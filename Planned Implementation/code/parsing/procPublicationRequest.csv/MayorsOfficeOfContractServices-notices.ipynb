{
 "cells": [
  {
   "cell_type": "markdown",
   "metadata": {},
   "source": [
    "![Image of Yaktocat](http://yuml.me/c961b9c3)"
   ]
  },
  {
   "cell_type": "markdown",
   "metadata": {},
   "source": [
    "#States\n",
    "* INIT\n",
    "  * reads underlined text\n",
    "  * extracts context\n",
    "    * set next state = PREAMBLE\n",
    "    \n",
    "* PREAMBLE\n",
    "  * reads PREAMBLE (NOTICE IS HEREBY...)\n",
    "  * extracts preamble\n",
    "    * set next state = PROCESS_ADVERTS\n",
    "\n",
    "* PROCESS_ADVERTS\n",
    "  * reads first key and first chunk of value\n",
    "    * set next state = PROCESS_ADVERT\n",
    "    \n",
    "* PROCESS_ADVERT\n",
    "  * reads next chunk and evaluate.\n",
    "    ```\n",
    "    if ':' in chunk then \n",
    "       store current key/value\n",
    "       set current key, and initial value\n",
    "    else\n",
    "       append chunk to current-value\n",
    "    ```\n",
    "\n"
   ]
  },
  {
   "cell_type": "code",
   "execution_count": null,
   "metadata": {
    "collapsed": false
   },
   "outputs": [],
   "source": [
    "from bs4 import BeautifulSoup as Soup\n",
    "from IPython.display import HTML\n",
    "import pandas as pd\n",
    "import numpy as np\n",
    "import re\n",
    "import pprint\n",
    "from IPython.display import display"
   ]
  },
  {
   "cell_type": "code",
   "execution_count": null,
   "metadata": {
    "collapsed": true
   },
   "outputs": [],
   "source": [
    "class State:\n",
    "    def run(self):\n",
    "        # implement this for printing trace statements\n",
    "        assert 0, \"implement me\"\n",
    "        \n",
    "    def next(self, input):\n",
    "        assert 0, \"implement me\"\n",
    "        \n",
    "    def flush(self, record):\n",
    "        raise Exception('wtf!')\n",
    "\n"
   ]
  },
  {
   "cell_type": "code",
   "execution_count": null,
   "metadata": {
    "collapsed": false
   },
   "outputs": [],
   "source": [
    "class Adverts(State):\n",
    "    \n",
    "    def __init__(self):\n",
    "        State.__init__(self)\n",
    "        \n",
    "        # Current key and Value\n",
    "        # value can span multiple lines/paragraphs\n",
    "        # so we have to build it up a chunk at a time.\n",
    "        # The complete text of value is assumed when\n",
    "        # a new key/value pair is detected\n",
    "        self.key = None\n",
    "        self.value = None\n",
    "        \n",
    "        # Current Advertisement\n",
    "        self.advert = {}\n",
    "        self.processingAdvert = False\n",
    "        \n",
    "    def run(self):\n",
    "        print('Process ADVERTS')\n",
    "        \n",
    "    def flush(self, record):\n",
    "        self.advert[self.key] = self.value.strip()\n",
    "        record['adverts'].append(self.advert)\n",
    "        \n",
    "    def next(self, para, record):\n",
    "        text = para.get_text(strip=True)\n",
    "        if ':' in text:\n",
    "            k, v = text.split(':', 1)\n",
    "            k = k.strip()\n",
    "            if k.lower().startswith('agency'):\n",
    "                # the first time the code gets here\n",
    "                # processingAdvert is False, set it to True\n",
    "                # so that from now on getting here means\n",
    "                # we've completed an Advertisement\n",
    "                \n",
    "                if self.processingAdvert:\n",
    "                    # End of record reached\n",
    "                    self.advert[self.key] = self.value.strip()\n",
    "                    record['adverts'].append(self.advert)\n",
    "                    self.advert = {}\n",
    "                \n",
    "                # yep, processing advertisements\n",
    "                self.processingAdvert = True\n",
    "                    \n",
    "            else:\n",
    "                # A new key/value pair is detected,\n",
    "                # store current key/value pair\n",
    "                self.advert[self.key] = self.value.strip()\n",
    "                \n",
    "            # Initialize the current key/value pair\n",
    "            self.key, self.value = k, v\n",
    "            \n",
    "        else:\n",
    "            # A value can span multiple lines\n",
    "            # keep adding chunks to the current value\n",
    "            # until a new key/value pair is detected...\n",
    "            if self.value:\n",
    "                self.value += text   # Append to a previous value\n",
    "            else:\n",
    "                self.value = text    # Otherwise set value\n",
    "            \n",
    "        return self\n",
    "        \n",
    "\n",
    "class Preamble(State):\n",
    "    def run(self):\n",
    "        print('PREAMBLE')\n",
    "        \n",
    "    def next(self, para, record):\n",
    "        text = para.get_text(strip=True).strip()\n",
    "        if 'NOTICE IS HEREBY' in text:\n",
    "            record['preamble'] = text\n",
    "            return Adverts()\n",
    "        return self\n",
    "            \n",
    "\n",
    "class Init(State):\n",
    "    def run(self):\n",
    "        print('INIT')\n",
    "        \n",
    "    def next(self, para, record):\n",
    "        if para.find_all('u'):\n",
    "            record['context'] = para.get_text(strip=True).strip()\n",
    "            return Preamble()\n",
    "        return self\n",
    "\n",
    "        "
   ]
  },
  {
   "cell_type": "code",
   "execution_count": null,
   "metadata": {
    "collapsed": false,
    "scrolled": false
   },
   "outputs": [],
   "source": [
    "def parse_notice(soup):\n",
    "    state = Init()\n",
    "    record = { 'adverts': []}\n",
    "\n",
    "    for para in soup.find_all('p'):\n",
    "    #     state.run()\n",
    "    #     print (para)\n",
    "        state = state.next(para, record)\n",
    "    #     print ('\\n\\n')\n",
    "\n",
    "    state.flush(record)\n",
    "    return record\n",
    "\n"
   ]
  },
  {
   "cell_type": "code",
   "execution_count": null,
   "metadata": {
    "collapsed": false
   },
   "outputs": [],
   "source": [
    "fn = 'orig.procPublicationRequest.oct-dec-2014.csv'\n",
    "rows = pd.read_csv(fn, header=0, sep='|', encoding='latin-1')"
   ]
  },
  {
   "cell_type": "code",
   "execution_count": null,
   "metadata": {
    "collapsed": false
   },
   "outputs": [],
   "source": [
    "cols = ['RequestID', 'StartDate', 'EndDate',\n",
    "        'AgencyCode', 'AgencyName', 'AgencyDivision',\n",
    "        'TypeOfNoticeCode', 'TypeOfNoticeDescription',\n",
    "        'ShortTitle', 'SectionID', 'SectionName',\n",
    "        'DueDate', 'ConfirmationNumber',\n",
    "        'AdditionalDescription']"
   ]
  },
  {
   "cell_type": "code",
   "execution_count": null,
   "metadata": {
    "collapsed": false
   },
   "outputs": [],
   "source": [
    "rows = rows[cols]"
   ]
  },
  {
   "cell_type": "code",
   "execution_count": null,
   "metadata": {
    "collapsed": false
   },
   "outputs": [],
   "source": [
    "# from IPython.display import display\n",
    "# badcount = 0\n",
    "# for html in rows.AdditionalDescription.values:\n",
    "#     if not isinstance(html, str):\n",
    "#         badcount += 1\n",
    "#     else:\n",
    "#         display(HTML(html))\n",
    "#         try:\n",
    "#             parse_notice(Soup(html))\n",
    "#         except Exception:\n",
    "#             badcount += 1"
   ]
  },
  {
   "cell_type": "code",
   "execution_count": null,
   "metadata": {
    "collapsed": false
   },
   "outputs": [],
   "source": [
    "import json\n",
    "def scrape(row):\n",
    "    output = None\n",
    "    try:\n",
    "        output = parse_notice(Soup(row.AdditionalDescription))\n",
    "    except Exception :\n",
    "        output = {'error' : 'bad input: [{}]'.format(row.AdditionalDescription)}\n",
    "    row['output'] = json.dumps(output)\n",
    "    return row"
   ]
  },
  {
   "cell_type": "code",
   "execution_count": null,
   "metadata": {
    "collapsed": false
   },
   "outputs": [],
   "source": [
    "mocs = rows['AgencyName'] == \"Mayor's Office of Contract Services\"\n",
    "meets = rows['TypeOfNoticeDescription'] == \"Notice\"\n",
    "fix = rows[mocs & meets].apply(scrape,1)\n"
   ]
  },
  {
   "cell_type": "code",
   "execution_count": null,
   "metadata": {
    "collapsed": false,
    "scrolled": false
   },
   "outputs": [],
   "source": [
    "for rec in fix[['output', 'AdditionalDescription']].values:\n",
    "    output, text = rec\n",
    "    if not isinstance(text, str):\n",
    "        text = 'NAN'\n",
    "    display(HTML(text))\n",
    "    print('---')\n",
    "    pprint.pprint(json.loads(output))\n",
    "    display(HTML('<hr />'))\n",
    "    print('\\n\\n')"
   ]
  },
  {
   "cell_type": "code",
   "execution_count": null,
   "metadata": {
    "collapsed": true
   },
   "outputs": [],
   "source": []
  }
 ],
 "metadata": {
  "kernelspec": {
   "display_name": "Python 3",
   "language": "python",
   "name": "python3"
  },
  "language_info": {
   "codemirror_mode": {
    "name": "ipython",
    "version": 3
   },
   "file_extension": ".py",
   "mimetype": "text/x-python",
   "name": "python",
   "nbconvert_exporter": "python",
   "pygments_lexer": "ipython3",
   "version": "3.4.3"
  }
 },
 "nbformat": 4,
 "nbformat_minor": 0
}
