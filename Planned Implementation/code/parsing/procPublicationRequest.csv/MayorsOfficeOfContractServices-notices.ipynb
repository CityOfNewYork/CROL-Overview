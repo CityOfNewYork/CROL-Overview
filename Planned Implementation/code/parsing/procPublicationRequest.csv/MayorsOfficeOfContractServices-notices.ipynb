{
 "cells": [
  {
   "cell_type": "markdown",
   "metadata": {},
   "source": [
    "![Image of Yaktocat](http://yuml.me/c961b9c3)"
   ]
  },
  {
   "cell_type": "markdown",
   "metadata": {},
   "source": [
    "#States\n",
    "* INIT\n",
    "  * reads underlined text\n",
    "  * extracts context\n",
    "    * set next state = PREAMBLE\n",
    "    \n",
    "* PREAMBLE\n",
    "  * reads PREAMBLE (NOTICE IS HEREBY...)\n",
    "  * extracts preamble\n",
    "    * set next state = PROCESS_ADVERTS\n",
    "\n",
    "* PROCESS_ADVERTS\n",
    "  * reads first key and first chunk of value\n",
    "    * set next state = PROCESS_ADVERT\n",
    "    \n",
    "* PROCESS_ADVERT\n",
    "  * reads next chunk and evaluate.\n",
    "    ```\n",
    "    if ':' in chunk then \n",
    "       store current key/value\n",
    "       set current key, and initial value\n",
    "    else\n",
    "       append chunk to current-value\n",
    "    ```\n",
    "\n"
   ]
  },
  {
   "cell_type": "code",
   "execution_count": 1,
   "metadata": {
    "collapsed": false
   },
   "outputs": [],
   "source": [
    "from bs4 import BeautifulSoup as Soup\n",
    "from IPython.display import HTML\n",
    "import pandas as pd\n",
    "import numpy as np\n",
    "import re\n",
    "import pprint\n",
    "from IPython.display import display"
   ]
  },
  {
   "cell_type": "code",
   "execution_count": 2,
   "metadata": {
    "collapsed": true
   },
   "outputs": [],
   "source": [
    "class State:\n",
    "    def run(self):\n",
    "        # implement this for printing trace statements\n",
    "        assert 0, \"implement me\"\n",
    "        \n",
    "    def next(self, input):\n",
    "        assert 0, \"implement me\"\n",
    "        \n",
    "    def flush(self, record):\n",
    "        raise Exception('wtf!')\n",
    "\n"
   ]
  },
  {
   "cell_type": "code",
   "execution_count": 3,
   "metadata": {
    "collapsed": false
   },
   "outputs": [],
   "source": [
    "class Adverts(State):\n",
    "    \n",
    "    def __init__(self):\n",
    "        State.__init__(self)\n",
    "        \n",
    "        # Current key and Value\n",
    "        # value can span multiple lines/paragraphs\n",
    "        # so we have to build it up a chunk at a time.\n",
    "        # The complete text of value is assumed when\n",
    "        # a new key/value pair is detected\n",
    "        self.key = None\n",
    "        self.value = None\n",
    "        \n",
    "        # Current Advertisement\n",
    "        self.advert = {}\n",
    "        self.processingAdvert = False\n",
    "        \n",
    "    def run(self):\n",
    "        print('Process ADVERTS')\n",
    "        \n",
    "    def flush(self, record):\n",
    "        self.advert[self.key] = self.value.strip()\n",
    "        record['adverts'].append(self.advert)\n",
    "        \n",
    "    def next(self, para, record):\n",
    "        text = para.get_text(strip=True)\n",
    "        if ':' in text:\n",
    "            k, v = text.split(':', 1)\n",
    "            k = k.strip()\n",
    "            if k.lower().startswith('agency'):\n",
    "                # the first time the code gets here\n",
    "                # processingAdvert is False, set it to True\n",
    "                # so that from now on getting here means\n",
    "                # we've completed an Advertisement\n",
    "                \n",
    "                if self.processingAdvert:\n",
    "                    # End of record reached\n",
    "                    self.advert[self.key] = self.value.strip()\n",
    "                    record['adverts'].append(self.advert)\n",
    "                    self.advert = {}\n",
    "                \n",
    "                # yep, processing advertisements\n",
    "                self.processingAdvert = True\n",
    "                    \n",
    "            else:\n",
    "                # A new key/value pair is detected,\n",
    "                # store current key/value pair\n",
    "                self.advert[self.key] = self.value.strip()\n",
    "                \n",
    "            # Initialize the current key/value pair\n",
    "            self.key, self.value = k, v\n",
    "            \n",
    "        else:\n",
    "            # A value can span multiple lines\n",
    "            # keep adding chunks to the current value\n",
    "            # until a new key/value pair is detected...\n",
    "            if self.value:\n",
    "                self.value += text   # Append to a previous value\n",
    "            else:\n",
    "                self.value = text    # Otherwise set value\n",
    "            \n",
    "        return self\n",
    "        \n",
    "\n",
    "class Preamble(State):\n",
    "    def run(self):\n",
    "        print('PREAMBLE')\n",
    "        \n",
    "    def next(self, para, record):\n",
    "        text = para.get_text(strip=True).strip()\n",
    "        if 'NOTICE IS HEREBY' in text:\n",
    "            record['preamble'] = text\n",
    "            return Adverts()\n",
    "        return self\n",
    "            \n",
    "\n",
    "class Init(State):\n",
    "    def run(self):\n",
    "        print('INIT')\n",
    "        \n",
    "    def next(self, para, record):\n",
    "        if para.find_all('u'):\n",
    "            record['context'] = para.get_text(strip=True).strip()\n",
    "            return Preamble()\n",
    "        return self\n",
    "\n",
    "        "
   ]
  },
  {
   "cell_type": "code",
   "execution_count": 4,
   "metadata": {
    "collapsed": false,
    "scrolled": false
   },
   "outputs": [],
   "source": [
    "def parse_notice(soup):\n",
    "    state = Init()\n",
    "    record = { 'adverts': []}\n",
    "\n",
    "    for para in soup.find_all('p'):\n",
    "    #     state.run()\n",
    "    #     print (para)\n",
    "        state = state.next(para, record)\n",
    "    #     print ('\\n\\n')\n",
    "\n",
    "    state.flush(record)\n",
    "    return record\n",
    "\n"
   ]
  },
  {
   "cell_type": "code",
   "execution_count": 5,
   "metadata": {
    "collapsed": false
   },
   "outputs": [],
   "source": [
    "fn = 'orig.procPublicationRequest.oct-dec-2014.csv'\n",
    "rows = pd.read_csv(fn, header=0, sep='|', encoding='latin-1')"
   ]
  },
  {
   "cell_type": "code",
   "execution_count": 6,
   "metadata": {
    "collapsed": false
   },
   "outputs": [],
   "source": [
    "cols = ['RequestID', 'StartDate', 'EndDate',\n",
    "        'AgencyCode', 'AgencyName', 'AgencyDivision',\n",
    "        'TypeOfNoticeCode', 'TypeOfNoticeDescription',\n",
    "        'ShortTitle', 'SectionID', 'SectionName',\n",
    "        'DueDate', 'ConfirmationNumber',\n",
    "        'AdditionalDescription']"
   ]
  },
  {
   "cell_type": "code",
   "execution_count": 7,
   "metadata": {
    "collapsed": false
   },
   "outputs": [],
   "source": [
    "rows = rows[cols]"
   ]
  },
  {
   "cell_type": "code",
   "execution_count": 8,
   "metadata": {
    "collapsed": false
   },
   "outputs": [],
   "source": [
    "# from IPython.display import display\n",
    "# badcount = 0\n",
    "# for html in rows.AdditionalDescription.values:\n",
    "#     if not isinstance(html, str):\n",
    "#         badcount += 1\n",
    "#     else:\n",
    "#         display(HTML(html))\n",
    "#         try:\n",
    "#             parse_notice(Soup(html))\n",
    "#         except Exception:\n",
    "#             badcount += 1"
   ]
  },
  {
   "cell_type": "code",
   "execution_count": 9,
   "metadata": {
    "collapsed": false
   },
   "outputs": [],
   "source": [
    "import json\n",
    "def scrape(row):\n",
    "    output = None\n",
    "    try:\n",
    "        output = parse_notice(Soup(row.AdditionalDescription))\n",
    "    except Exception :\n",
    "        output = {'error' : 'bad input: [{}]'.format(row.AdditionalDescription)}\n",
    "    row['output'] = json.dumps(output)\n",
    "    return row"
   ]
  },
  {
   "cell_type": "code",
   "execution_count": 10,
   "metadata": {
    "collapsed": false
   },
   "outputs": [],
   "source": [
    "mocs = rows['AgencyName'] == \"Mayor's Office of Contract Services\"\n",
    "meets = rows['TypeOfNoticeDescription'] == \"Notice\"\n",
    "fix = rows[mocs & meets].apply(scrape,1)\n"
   ]
  },
  {
   "cell_type": "code",
   "execution_count": 11,
   "metadata": {
    "collapsed": false,
    "scrolled": true
   },
   "outputs": [
    {
     "data": {
      "text/html": [
       "<p>  <u>Notice of Intent to Extend Contract(s) Not Included in FY 2015 Annual Contracting Plan and Schedule</u></p> <p>  &nbsp;</p> <p>  <strong>NOTICE IS HEREBY GIVEN</strong> that the Mayor will be entering into the following extension(s) of (a) contract(s) not included in the FY 2015 Annual Contracting Plan and Schedule that is published pursuant to New York City Charter &sect; 312(a):</p> <p>  &nbsp;</p> <p>  Agency: Department of Information Technology &amp; Telecommunications</p> <p>  Vendor: Accenture LLP</p> <p>  Description of services: Design, development and deployment of application enhancements and extensions to the existing APT system along with the appropriate documentation required.</p> <p>  Award method of original contract:&nbsp; Intergovernmental</p> <p>  FMS contract type: Consultant</p> <p>  End date of original contract: 1/31/2015</p> <p>  Method of renewal/extension the agency intends to utilize:&nbsp; Extension</p> <p>  New start date of the proposed renewed/extended contract: 2/1/15</p> <p>  New end date of the proposed renewed/extended contract: &nbsp;7/31/15</p> <p>  Modifications sought to the nature of services performed under the contract: None</p> <p>  Reason(s) the agency intends to renew/extend the contract: Continuation of services</p> <p>  Personnel in substantially similar titles within agency: APT Project Manager &ndash; 1; APT Technical Lead &ndash; 1; APT Developer - 2</p> <p>  Headcount of personnel in substantially similar titles within agency: 4</p> "
      ],
      "text/plain": [
       "<IPython.core.display.HTML object>"
      ]
     },
     "metadata": {},
     "output_type": "display_data"
    },
    {
     "name": "stdout",
     "output_type": "stream",
     "text": [
      "---\n",
      "{'adverts': [{'Agency': 'Department of Information Technology & '\n",
      "                        'Telecommunications',\n",
      "              'Award method of original contract': 'Intergovernmental',\n",
      "              'Description of services': 'Design, development and '\n",
      "                                         'deployment of application '\n",
      "                                         'enhancements and extensions to '\n",
      "                                         'the existing APT system along '\n",
      "                                         'with the appropriate '\n",
      "                                         'documentation required.',\n",
      "              'End date of original contract': '1/31/2015',\n",
      "              'FMS contract type': 'Consultant',\n",
      "              'Headcount of personnel in substantially similar titles within agency': '4',\n",
      "              'Method of renewal/extension the agency intends to utilize': 'Extension',\n",
      "              'Modifications sought to the nature of services performed under the contract': 'None',\n",
      "              'New end date of the proposed renewed/extended contract': '7/31/15',\n",
      "              'New start date of the proposed renewed/extended contract': '2/1/15',\n",
      "              'Personnel in substantially similar titles within agency': 'APT '\n",
      "                                                                         'Project '\n",
      "                                                                         'Manager '\n",
      "                                                                         '– '\n",
      "                                                                         '1; '\n",
      "                                                                         'APT '\n",
      "                                                                         'Technical '\n",
      "                                                                         'Lead '\n",
      "                                                                         '– '\n",
      "                                                                         '1; '\n",
      "                                                                         'APT '\n",
      "                                                                         'Developer '\n",
      "                                                                         '- '\n",
      "                                                                         '2',\n",
      "              'Reason(s) the agency intends to renew/extend the contract': 'Continuation '\n",
      "                                                                           'of '\n",
      "                                                                           'services',\n",
      "              'Vendor': 'Accenture LLP'}],\n",
      " 'context': 'Notice of Intent to Extend Contract(s) Not Included in FY 2015 '\n",
      "            'Annual Contracting Plan and Schedule',\n",
      " 'preamble': 'NOTICE IS HEREBY GIVENthat the Mayor will be entering into the '\n",
      "             'following extension(s) of (a) contract(s) not included in the '\n",
      "             'FY 2015 Annual Contracting Plan and Schedule that is published '\n",
      "             'pursuant to New York City Charter § 312(a):'}\n"
     ]
    },
    {
     "data": {
      "text/html": [
       "<hr />"
      ],
      "text/plain": [
       "<IPython.core.display.HTML object>"
      ]
     },
     "metadata": {},
     "output_type": "display_data"
    },
    {
     "name": "stdout",
     "output_type": "stream",
     "text": [
      "\n",
      "\n",
      "\n"
     ]
    },
    {
     "data": {
      "text/html": [
       "<p>  <u>Notice of Intent to Issue New Solicitation(s) Not Included in FY 2015 Annual Contracting Plan and Schedule </u></p> <p>  &nbsp;</p> <p>  <strong>NOTICE IS HEREBY GIVEN</strong> that the Mayor will be issuing the following solicitation(s) not included in the FY 2015 Annual Contracting Plan and Schedule that is published pursuant to New York City Charter &sect; 312(a):</p> <p>  &nbsp;</p> <p>  Agency: Department of Environmental Protection</p> <p>  Description of services sought:&nbsp; MTR-101: Provide all necessary labor, materials and equipment for the service and repair of various electric motors located at various Pumping Stations and associated New York City Department of Environmental Protection (DEP) facilities.</p> <p>  Start date of the proposed contract: May 1, 2015</p> <p>  End date of the proposed contract:&nbsp; April 30, 2017</p> <p>  Method of solicitation the agency intends to utilize: Competitive sealed bid</p> <p>  Personnel in substantially similar titles within agency: None</p> <p>  Headcount of personnel in substantially similar titles within agency:&nbsp;&nbsp; 0</p> <p>  &nbsp;</p> <p>  Agency: Department of Environmental Protection</p> <p>  Description of services sought:. HANDHEL15-17 Provide repair and maintenance coverage for Handheld Equipment Internet Model CN3.&nbsp; Contractor provide all necessary labor, materials and equipment for the service and repair for 155 or more Intermec CN3 Handheld Equipment used by Water Meter Inspectors in their routine field work at various locations in New York City.&nbsp;</p> <p>  Start date of the proposed contract: 5/1/2015</p> <p>  End date of the proposed contract:&nbsp; 4/30/2017</p> <p>  Method of solicitation the agency intends to utilize: Competitive Sealed Bid</p> <p>  Personnel in substantially similar titles within agency: None</p> <p>  Headcount of personnel in substantially similar titles within agency:&nbsp;&nbsp; 0</p> <p>  &nbsp;</p> <p>  Agency: Department of Transportation</p> <p>  Description of the services sought:&nbsp; Rehabilitation of BQE (I-278) from Sands Street to Atlantic Avenue, Brooklyn (Contract No. HBKBQE)</p> <p>  Start Date of the proposed contract:&nbsp; September 10, 2015</p> <p>  End Date of the proposed contract:&nbsp; March 2, 2017</p> <p>  Method of Solicitation the Agency intends to utilize:&nbsp; Required Method (RFP)</p> <p>  Personnel in substantially similar titles within the Agency:&nbsp; None</p> <p>  Headcount of personnel in substantially similar titles with the Agency:&nbsp; 0</p> "
      ],
      "text/plain": [
       "<IPython.core.display.HTML object>"
      ]
     },
     "metadata": {},
     "output_type": "display_data"
    },
    {
     "name": "stdout",
     "output_type": "stream",
     "text": [
      "---\n",
      "{'adverts': [{'Agency': 'Department of Environmental Protection',\n",
      "              'Description of services sought': 'MTR-101: Provide all '\n",
      "                                                'necessary labor, '\n",
      "                                                'materials and equipment '\n",
      "                                                'for the service and '\n",
      "                                                'repair of various '\n",
      "                                                'electric motors located '\n",
      "                                                'at various Pumping '\n",
      "                                                'Stations and associated '\n",
      "                                                'New York City Department '\n",
      "                                                'of Environmental '\n",
      "                                                'Protection (DEP) '\n",
      "                                                'facilities.',\n",
      "              'End date of the proposed contract': 'April 30, 2017',\n",
      "              'Headcount of personnel in substantially similar titles within agency': '0',\n",
      "              'Method of solicitation the agency intends to utilize': 'Competitive '\n",
      "                                                                      'sealed '\n",
      "                                                                      'bid',\n",
      "              'Personnel in substantially similar titles within agency': 'None',\n",
      "              'Start date of the proposed contract': 'May 1, 2015'},\n",
      "             {'Agency': 'Department of Environmental Protection',\n",
      "              'Description of services sought': '. HANDHEL15-17 Provide '\n",
      "                                                'repair and maintenance '\n",
      "                                                'coverage for Handheld '\n",
      "                                                'Equipment Internet Model '\n",
      "                                                'CN3.\\xa0 Contractor '\n",
      "                                                'provide all necessary '\n",
      "                                                'labor, materials and '\n",
      "                                                'equipment for the service '\n",
      "                                                'and repair for 155 or '\n",
      "                                                'more Intermec CN3 '\n",
      "                                                'Handheld Equipment used '\n",
      "                                                'by Water Meter Inspectors '\n",
      "                                                'in their routine field '\n",
      "                                                'work at various locations '\n",
      "                                                'in New York City.',\n",
      "              'End date of the proposed contract': '4/30/2017',\n",
      "              'Headcount of personnel in substantially similar titles within agency': '0',\n",
      "              'Method of solicitation the agency intends to utilize': 'Competitive '\n",
      "                                                                      'Sealed '\n",
      "                                                                      'Bid',\n",
      "              'Personnel in substantially similar titles within agency': 'None',\n",
      "              'Start date of the proposed contract': '5/1/2015'},\n",
      "             {'Agency': 'Department of Transportation',\n",
      "              'Description of the services sought': 'Rehabilitation of BQE '\n",
      "                                                    '(I-278) from Sands '\n",
      "                                                    'Street to Atlantic '\n",
      "                                                    'Avenue, Brooklyn '\n",
      "                                                    '(Contract No. HBKBQE)',\n",
      "              'End Date of the proposed contract': 'March 2, 2017',\n",
      "              'Headcount of personnel in substantially similar titles with the Agency': '0',\n",
      "              'Method of Solicitation the Agency intends to utilize': 'Required '\n",
      "                                                                      'Method '\n",
      "                                                                      '(RFP)',\n",
      "              'Personnel in substantially similar titles within the Agency': 'None',\n",
      "              'Start Date of the proposed contract': 'September 10, 2015'}],\n",
      " 'context': 'Notice of Intent to Issue New Solicitation(s) Not Included in '\n",
      "            'FY 2015 Annual Contracting Plan and Schedule',\n",
      " 'preamble': 'NOTICE IS HEREBY GIVENthat the Mayor will be issuing the '\n",
      "             'following solicitation(s) not included in the FY 2015 Annual '\n",
      "             'Contracting Plan and Schedule that is published pursuant to '\n",
      "             'New York City Charter § 312(a):'}\n"
     ]
    },
    {
     "data": {
      "text/html": [
       "<hr />"
      ],
      "text/plain": [
       "<IPython.core.display.HTML object>"
      ]
     },
     "metadata": {},
     "output_type": "display_data"
    },
    {
     "name": "stdout",
     "output_type": "stream",
     "text": [
      "\n",
      "\n",
      "\n"
     ]
    },
    {
     "data": {
      "text/html": [
       "<p>  <u>Notice of Intent to Extend Contract(s) Not Included in FY 2015 Annual Contracting Plan and Schedule</u></p> <p>  &nbsp;</p> <p>  <strong>NOTICE IS HEREBY GIVEN</strong> that the Mayor will be entering into the following extension(s) of (a) contract(s) not included in the FY 2015 Annual Contracting Plan and Schedule that is published pursuant to New York City Charter &sect; 312(a):</p> <p>  &nbsp;</p> <p>  Agency: DDC</p> <p>  Vendor: Jacobs Project Management Co.</p> <p>  Nature of services: Requirements Contract for CM Services, Citywide for Transportation Unit</p> <p>  Method of extension the agency intends to utilize: Amendment Extension</p> <p>  New start date of the proposed extended contract: 6/30/2015</p> <p>  New end date of the proposed extended contract: 6/29/2016</p> <p>  Modifications sought to the nature of services performed under the contract: No</p> <p>  Reason(s) the agency intends to extend the contract: Continuity of Services</p> <p>  Personnel in substantially similar titles within agency: none</p> <p>  Headcount of personnel in substantially similar titles within agency: 0</p> <p>  &nbsp;</p> <p>  Agency: DDC</p> <p>  Vendor: Hill International Inc.</p> <p>  Nature of services: Requirements Contract for CM Services, Citywide for Transportation Unit</p> <p>  Method of extension the agency intends to utilize: Amendment Extension</p> <p>  New start date of the proposed extended contract: 7/12/2015</p> <p>  New end date of the proposed extended contract: 7/11/2016</p> <p>  Modifications sought to the nature of services performed under the contract: No</p> <p>  Reason(s) the agency intends to extend the contract: Continuity of Services</p> <p>  Personnel in substantially similar titles within agency: none</p> <p>  Headcount of personnel in substantially similar titles within agency: 0</p> <p>  &nbsp;</p> <p>  Agency: DDC</p> <p>  Vendor: Liro Program &amp; Construction Management, PC</p> <p>  Nature of services: Requirements Contract for CM Services, Citywide for Transportation Unit</p> <p>  Method of extension the agency intends to utilize: Amendment Extension</p> <p>  New start date of the proposed extended contract: 9/30/2015</p> <p>  New end date of the proposed extended contract: 9/29/2016</p> <p>  Modifications sought to the nature of services performed under the contract: No</p> <p>  Reason(s) the agency intends to extend the contract: Continuity of Services</p> <p>  Personnel in substantially similar titles within agency: none</p> <p>  Headcount of personnel in substantially similar titles within agency: 0</p> <p>  &nbsp;</p> <p>  Agency: DDC</p> <p>  Vendor: HAKS Engineers, Architects and Land Surveyors, P.C.</p> <p>  Nature of services: Requirements Contract for CM Services, Citywide for Transportation Unit</p> <p>  Method of extension the agency intends to utilize: Amendment Extension</p> <p>  New start date of the proposed extended contract: 12/24/2015</p> <p>  New end date of the proposed extended contract: 12/23/2016</p> <p>  Modifications sought to the nature of services performed under the contract: No</p> <p>  Reason(s) the agency intends to extend the contract: Continuity of Services</p> <p>  Personnel in substantially similar titles within agency: none</p> <p>  Headcount of personnel in substantially similar titles within agency: 0</p> <p>  &nbsp;</p> <p>  &nbsp;</p> <p>  &nbsp;</p> <p>  Agency: DDC</p> <p>  Vendor: Turner Construction</p> <p>  Nature of services: Requirements Contract for CM Services, Citywide for Transportation Unit</p> <p>  Method of extension the agency intends to utilize: Amendment Extension</p> <p>  New start date of the proposed extended contract: 12/15/2015</p> <p>  New end date of the proposed extended contract: 12/14/2016</p> <p>  Modifications sought to the nature of services performed under the contract: No</p> <p>  Reason(s) the agency intends to extend the contract: Continuity of Services</p> <p>  Personnel in substantially similar titles within agency: none</p> <p>  Headcount of personnel in substantially similar titles within agency: 0</p> <p>  &nbsp;</p> <p>  Agency: DDC</p> <p>  Vendor: Syska Hennessy Group</p> <p>  Nature of services: Requirements Contract for HVAC, Fire Protection, Electrical, Plumbing, Citywide</p> <p>  Method of extension the agency intends to utilize: Amendment Extension</p> <p>  New start date of the proposed extended contract: 4/12/2015</p> <p>  New end date of the proposed extended contract: 4/11/2016</p> <p>  Modifications sought to the nature of services performed under the contract: No</p> <p>  Reason(s) the agency intends to extend the contract: Continuity of Services</p> <p>  Personnel in substantially similar titles within agency: none</p> <p>  Headcount of personnel in substantially similar titles within agency: 0</p> <p>  &nbsp;</p> <p>  Agency: DDC</p> <p>  Vendor: WSP USA Corp.</p> <p>  Nature of services: Requirements Contract for HVAC, Fire Protection, Electrical, Plumbing, Citywide</p> <p>  Method of extension the agency intends to utilize: Amendment Extension</p> <p>  New start date of the proposed extended contract: 4/16/2015</p> <p>  New end date of the proposed extended contract: 4/15/2016</p> <p>  Modifications sought to the nature of services performed under the contract: No</p> <p>  Reason(s) the agency intends to extend the contract: Continuity of Services</p> <p>  Personnel in substantially similar titles within agency: none</p> <p>  Headcount of personnel in substantially similar titles within agency: 0</p> <p>  &nbsp;</p> <p>  &nbsp;</p> <p>  Agency: DDC</p> <p>  Vendor: TETRA TECH ENGINEERS PC COSENTINI ASSOCIATES</p> <p>  Nature of services: Requirements Contract for HVAC, Fire Protection, Electrical, Plumbing, Citywide</p> <p>  Method of extension the agency intends to utilize: Amendment Extension</p> <p>  New start date of the proposed extended contract: 4/27/2015</p> <p>  New end date of the proposed extended contract: 4/26/2016</p> <p>  Modifications sought to the nature of services performed under the contract: No</p> <p>  Reason(s) the agency intends to extend the contract: Continuity of Services</p> <p>  Personnel in substantially similar titles within agency: none</p> <p>  Headcount of personnel in substantially similar titles within agency: 0</p> <p>  &nbsp;</p> <p>  Agency: DDC</p> <p>  Vendor: JOSEPH R LORING &amp; ASSOCIATES INC.</p> <p>  Nature of services: Requirements Contract for HVAC, Fire Protection, Electrical, Plumbing, Citywide</p> <p>  Method of extension the agency intends to utilize: Amendment Extension</p> <p>  New start date of the proposed extended contract: 4/16/2015</p> <p>  New end date of the proposed extended contract: 4/15/2016</p> <p>  Modifications sought to the nature of services performed under the contract: No</p> <p>  Reason(s) the agency intends to extend the contract: Continuity of Services</p> <p>  Personnel in substantially similar titles within agency: none</p> <p>  Headcount of personnel in substantially similar titles within agency: 0</p> <p>  &nbsp;</p> <p>  Agency: DDC</p> <p>  Vendor: GOLDMAN COPELAND ASSOCIATES PC</p> <p>  Nature of services: Requirements Contract for HVAC, Fire Protection, Electrical, Plumbing, Citywide</p> <p>  Method of extension the agency intends to utilize: Amendment Extension</p> <p>  New start date of the proposed extended contract: 4/16/2015</p> <p>  New end date of the proposed extended contract: 4/15/2016</p> <p>  Modifications sought to the nature of services performed under the contract: No</p> <p>  Reason(s) the agency intends to extend the contract: Continuity of Services</p> <p>  Personnel in substantially similar titles within agency: none</p> <p>  Headcount of personnel in substantially similar titles within age"
      ],
      "text/plain": [
       "<IPython.core.display.HTML object>"
      ]
     },
     "metadata": {},
     "output_type": "display_data"
    },
    {
     "name": "stdout",
     "output_type": "stream",
     "text": [
      "---\n",
      "{'adverts': [{'Agency': 'DDC',\n",
      "              'Headcount of personnel in substantially similar titles within agency': '0',\n",
      "              'Method of extension the agency intends to utilize': 'Amendment '\n",
      "                                                                   'Extension',\n",
      "              'Modifications sought to the nature of services performed under the contract': 'No',\n",
      "              'Nature of services': 'Requirements Contract for CM '\n",
      "                                    'Services, Citywide for Transportation '\n",
      "                                    'Unit',\n",
      "              'New end date of the proposed extended contract': '6/29/2016',\n",
      "              'New start date of the proposed extended contract': '6/30/2015',\n",
      "              'Personnel in substantially similar titles within agency': 'none',\n",
      "              'Reason(s) the agency intends to extend the contract': 'Continuity '\n",
      "                                                                     'of '\n",
      "                                                                     'Services',\n",
      "              'Vendor': 'Jacobs Project Management Co.'},\n",
      "             {'Agency': 'DDC',\n",
      "              'Headcount of personnel in substantially similar titles within agency': '0',\n",
      "              'Method of extension the agency intends to utilize': 'Amendment '\n",
      "                                                                   'Extension',\n",
      "              'Modifications sought to the nature of services performed under the contract': 'No',\n",
      "              'Nature of services': 'Requirements Contract for CM '\n",
      "                                    'Services, Citywide for Transportation '\n",
      "                                    'Unit',\n",
      "              'New end date of the proposed extended contract': '7/11/2016',\n",
      "              'New start date of the proposed extended contract': '7/12/2015',\n",
      "              'Personnel in substantially similar titles within agency': 'none',\n",
      "              'Reason(s) the agency intends to extend the contract': 'Continuity '\n",
      "                                                                     'of '\n",
      "                                                                     'Services',\n",
      "              'Vendor': 'Hill International Inc.'},\n",
      "             {'Agency': 'DDC',\n",
      "              'Headcount of personnel in substantially similar titles within agency': '0',\n",
      "              'Method of extension the agency intends to utilize': 'Amendment '\n",
      "                                                                   'Extension',\n",
      "              'Modifications sought to the nature of services performed under the contract': 'No',\n",
      "              'Nature of services': 'Requirements Contract for CM '\n",
      "                                    'Services, Citywide for Transportation '\n",
      "                                    'Unit',\n",
      "              'New end date of the proposed extended contract': '9/29/2016',\n",
      "              'New start date of the proposed extended contract': '9/30/2015',\n",
      "              'Personnel in substantially similar titles within agency': 'none',\n",
      "              'Reason(s) the agency intends to extend the contract': 'Continuity '\n",
      "                                                                     'of '\n",
      "                                                                     'Services',\n",
      "              'Vendor': 'Liro Program & Construction Management, PC'},\n",
      "             {'Agency': 'DDC',\n",
      "              'Headcount of personnel in substantially similar titles within agency': '0',\n",
      "              'Method of extension the agency intends to utilize': 'Amendment '\n",
      "                                                                   'Extension',\n",
      "              'Modifications sought to the nature of services performed under the contract': 'No',\n",
      "              'Nature of services': 'Requirements Contract for CM '\n",
      "                                    'Services, Citywide for Transportation '\n",
      "                                    'Unit',\n",
      "              'New end date of the proposed extended contract': '12/23/2016',\n",
      "              'New start date of the proposed extended contract': '12/24/2015',\n",
      "              'Personnel in substantially similar titles within agency': 'none',\n",
      "              'Reason(s) the agency intends to extend the contract': 'Continuity '\n",
      "                                                                     'of '\n",
      "                                                                     'Services',\n",
      "              'Vendor': 'HAKS Engineers, Architects and Land Surveyors, '\n",
      "                        'P.C.'},\n",
      "             {'Agency': 'DDC',\n",
      "              'Headcount of personnel in substantially similar titles within agency': '0',\n",
      "              'Method of extension the agency intends to utilize': 'Amendment '\n",
      "                                                                   'Extension',\n",
      "              'Modifications sought to the nature of services performed under the contract': 'No',\n",
      "              'Nature of services': 'Requirements Contract for CM '\n",
      "                                    'Services, Citywide for Transportation '\n",
      "                                    'Unit',\n",
      "              'New end date of the proposed extended contract': '12/14/2016',\n",
      "              'New start date of the proposed extended contract': '12/15/2015',\n",
      "              'Personnel in substantially similar titles within agency': 'none',\n",
      "              'Reason(s) the agency intends to extend the contract': 'Continuity '\n",
      "                                                                     'of '\n",
      "                                                                     'Services',\n",
      "              'Vendor': 'Turner Construction'},\n",
      "             {'Agency': 'DDC',\n",
      "              'Headcount of personnel in substantially similar titles within agency': '0',\n",
      "              'Method of extension the agency intends to utilize': 'Amendment '\n",
      "                                                                   'Extension',\n",
      "              'Modifications sought to the nature of services performed under the contract': 'No',\n",
      "              'Nature of services': 'Requirements Contract for HVAC, Fire '\n",
      "                                    'Protection, Electrical, Plumbing, '\n",
      "                                    'Citywide',\n",
      "              'New end date of the proposed extended contract': '4/11/2016',\n",
      "              'New start date of the proposed extended contract': '4/12/2015',\n",
      "              'Personnel in substantially similar titles within agency': 'none',\n",
      "              'Reason(s) the agency intends to extend the contract': 'Continuity '\n",
      "                                                                     'of '\n",
      "                                                                     'Services',\n",
      "              'Vendor': 'Syska Hennessy Group'},\n",
      "             {'Agency': 'DDC',\n",
      "              'Headcount of personnel in substantially similar titles within agency': '0',\n",
      "              'Method of extension the agency intends to utilize': 'Amendment '\n",
      "                                                                   'Extension',\n",
      "              'Modifications sought to the nature of services performed under the contract': 'No',\n",
      "              'Nature of services': 'Requirements Contract for HVAC, Fire '\n",
      "                                    'Protection, Electrical, Plumbing, '\n",
      "                                    'Citywide',\n",
      "              'New end date of the proposed extended contract': '4/15/2016',\n",
      "              'New start date of the proposed extended contract': '4/16/2015',\n",
      "              'Personnel in substantially similar titles within agency': 'none',\n",
      "              'Reason(s) the agency intends to extend the contract': 'Continuity '\n",
      "                                                                     'of '\n",
      "                                                                     'Services',\n",
      "              'Vendor': 'WSP USA Corp.'},\n",
      "             {'Agency': 'DDC',\n",
      "              'Headcount of personnel in substantially similar titles within agency': '0',\n",
      "              'Method of extension the agency intends to utilize': 'Amendment '\n",
      "                                                                   'Extension',\n",
      "              'Modifications sought to the nature of services performed under the contract': 'No',\n",
      "              'Nature of services': 'Requirements Contract for HVAC, Fire '\n",
      "                                    'Protection, Electrical, Plumbing, '\n",
      "                                    'Citywide',\n",
      "              'New end date of the proposed extended contract': '4/26/2016',\n",
      "              'New start date of the proposed extended contract': '4/27/2015',\n",
      "              'Personnel in substantially similar titles within agency': 'none',\n",
      "              'Reason(s) the agency intends to extend the contract': 'Continuity '\n",
      "                                                                     'of '\n",
      "                                                                     'Services',\n",
      "              'Vendor': 'TETRA TECH ENGINEERS PC COSENTINI ASSOCIATES'},\n",
      "             {'Agency': 'DDC',\n",
      "              'Headcount of personnel in substantially similar titles within agency': '0',\n",
      "              'Method of extension the agency intends to utilize': 'Amendment '\n",
      "                                                                   'Extension',\n",
      "              'Modifications sought to the nature of services performed under the contract': 'No',\n",
      "              'Nature of services': 'Requirements Contract for HVAC, Fire '\n",
      "                                    'Protection, Electrical, Plumbing, '\n",
      "                                    'Citywide',\n",
      "              'New end date of the proposed extended contract': '4/15/2016',\n",
      "              'New start date of the proposed extended contract': '4/16/2015',\n",
      "              'Personnel in substantially similar titles within agency': 'none',\n",
      "              'Reason(s) the agency intends to extend the contract': 'Continuity '\n",
      "                                                                     'of '\n",
      "                                                                     'Services',\n",
      "              'Vendor': 'JOSEPH R LORING & ASSOCIATES INC.'},\n",
      "             {'Agency': 'DDC',\n",
      "              'Method of extension the agency intends to utilize': 'Amendment '\n",
      "                                                                   'Extension',\n",
      "              'Modifications sought to the nature of services performed under the contract': 'No',\n",
      "              'Nature of services': 'Requirements Contract for HVAC, Fire '\n",
      "                                    'Protection, Electrical, Plumbing, '\n",
      "                                    'Citywide',\n",
      "              'New end date of the proposed extended contract': '4/15/2016',\n",
      "              'New start date of the proposed extended contract': '4/16/2015',\n",
      "              'Personnel in substantially similar titles within agency': 'noneHeadcount '\n",
      "                                                                         'of '\n",
      "                                                                         'personnel '\n",
      "                                                                         'in '\n",
      "                                                                         'substantially '\n",
      "                                                                         'similar '\n",
      "                                                                         'titles '\n",
      "                                                                         'within '\n",
      "                                                                         'age',\n",
      "              'Reason(s) the agency intends to extend the contract': 'Continuity '\n",
      "                                                                     'of '\n",
      "                                                                     'Services',\n",
      "              'Vendor': 'GOLDMAN COPELAND ASSOCIATES PC'}],\n",
      " 'context': 'Notice of Intent to Extend Contract(s) Not Included in FY 2015 '\n",
      "            'Annual Contracting Plan and Schedule',\n",
      " 'preamble': 'NOTICE IS HEREBY GIVENthat the Mayor will be entering into the '\n",
      "             'following extension(s) of (a) contract(s) not included in the '\n",
      "             'FY 2015 Annual Contracting Plan and Schedule that is published '\n",
      "             'pursuant to New York City Charter § 312(a):'}\n"
     ]
    },
    {
     "data": {
      "text/html": [
       "<hr />"
      ],
      "text/plain": [
       "<IPython.core.display.HTML object>"
      ]
     },
     "metadata": {},
     "output_type": "display_data"
    },
    {
     "name": "stdout",
     "output_type": "stream",
     "text": [
      "\n",
      "\n",
      "\n"
     ]
    },
    {
     "data": {
      "text/html": [
       "<p>  <u>Notice of Intent to Issue New Solicitation(s) Not Included in FY 2015 Annual Contracting Plan and Schedule </u></p> <p>  &nbsp;</p> <p>  <strong>NOTICE IS HEREBY GIVEN</strong> that the Mayor will be issuing the following solicitation(s) not included in the FY 2015 Annual Contracting Plan and Schedule that is published pursuant to New York City Charter &sect; 312(a):</p> <p>  &nbsp;</p> <p>  &nbsp;</p> <p>  Agency: DDC</p> <p>  Description of services sought:&nbsp;&nbsp; A&amp;E Requirements Contract for Commissioning</p> <p>  Start date of the proposed contract:&nbsp;&nbsp; 8/12/2015</p> <p>  End date of the proposed contract:&nbsp;&nbsp; 8/11/2018</p> <p>  Method of solicitation the agency intends to utilize:&nbsp;&nbsp;&nbsp; Request for Proposal</p> <p>  Personnel in substantially similar titles within agency:&nbsp;&nbsp; none</p> <p>  Headcount of personnel in substantially similar titles within agency:&nbsp; 0</p> <p>  &nbsp;</p> <p>  Agency: DDC</p> <p>  Description of services sought:&nbsp;Requirements Contract for HVAC/Fire Protection/Electrical/Plumbing, Small A&amp;E Proj., Citywide (5)</p> <p>  Start date of the proposed contract:&nbsp;4/11/2015</p> <p>  End date of the proposed contract:&nbsp;&nbsp; 4/11/2018</p> <p>  Method of solicitation the agency intends to utilize:&nbsp;&nbsp;&nbsp; Request for Proposal</p> <p>  Personnel in substantially similar titles within agency:&nbsp;&nbsp; none</p> <p>  Headcount of personnel in substantially similar titles within agency:&nbsp; 0</p> <p>  &nbsp;</p> <p>  Agency: DDC</p> <p>  Description of services sought: Requirements Contract for HVAC/Fire Protection/Electrical/Plumbing, Medium A&amp;E Proj, Citywide (5)</p> <p>  Start date of the proposed contract:&nbsp;4/11/2015</p> <p>  End date of the proposed contract:&nbsp;&nbsp; 4/11/2018</p> <p>  Method of solicitation the agency intends to utilize:&nbsp;&nbsp;&nbsp; Request for Proposal</p> <p>  Personnel in substantially similar titles within agency:&nbsp;&nbsp; none</p> <p>  Headcount of personnel in substantially similar titles within agency:&nbsp; 0</p> <p>  &nbsp;</p> <p>  Agency: DDC</p> <p>  Description of services sought:&nbsp; Requirements Contract for HVAC/Fire Protection/Electrical/Plumbing, Large A&amp;E Proj., Citywide (5)</p> <p>  Start date of the proposed contract:&nbsp;4/11/2015</p> <p>  End date of the proposed contract:&nbsp;&nbsp; 4/11/2018</p> <p>  Method of solicitation the agency intends to utilize:&nbsp;&nbsp;&nbsp; Request for Proposal</p> <p>  Personnel in substantially similar titles within agency:&nbsp;&nbsp; none</p> <p>  Headcount of personnel in substantially similar titles within agency:&nbsp; 0</p> <p>  &nbsp;</p> <p>  Agency: DDC</p> <p>  Description of services sought:&nbsp; Resident Engineering Inspection Services, Small Infrastructure Projects, Citywide (5)</p> <p>  Start date of the proposed contract:&nbsp;2/1/2016</p> <p>  End date of the proposed contract:&nbsp;&nbsp; 2/1/2019</p> <p>  Method of solicitation the agency intends to utilize:&nbsp;&nbsp;&nbsp; Request for Proposal</p> <p>  Personnel in substantially similar titles within agency: This is a task order contract that does not simultaneously result in the award of a first task order; therefore, this information will be determined in conjunction with the issuance of each task order pursuant to this contract.</p> <p>  Headcount of personnel in substantially similar titles within agency:&nbsp; TBD</p> <p>  &nbsp;</p> <p>  Agency: DDC</p> <p>  Description of services sought:&nbsp;Resident Engineering Inspection Services, Medium Infrastructure Projects, Citywide (5)</p> <p>  Start date of the proposed contract:&nbsp;2/1/2016</p> <p>  End date of the proposed contract:&nbsp;&nbsp; 2/1/2019</p> <p>  Method of solicitation the agency intends to utilize:&nbsp;&nbsp;&nbsp; Request for Proposal</p> <p>  Personnel in substantially similar titles within agency:&nbsp;&nbsp; This is a task order contract that does not simultaneously result in the award of a first task order; therefore, this information will be determined in conjunction with the issuance of each task order pursuant to this contract.</p> <p>  Headcount of personnel in substantially similar titles within agency:&nbsp; TBD</p> <p>  &nbsp;</p> <p>  Agency: DDC</p> <p>  Description of services sought:&nbsp; Resident Engineering Inspection Services, Large Infrastructure Projects, Citywide (5)</p> <p>  Start date of the proposed contract:&nbsp;2/1/2016</p> <p>  End date of the proposed contract:&nbsp;&nbsp; 2/1/2019</p> <p>  Method of solicitation the agency intends to utilize:&nbsp;&nbsp;&nbsp; Request for Proposal</p> <p>  Personnel in substantially similar titles within agency:&nbsp;&nbsp; This is a task order contract that does not simultaneously result in the award of a first task order; therefore, this information will be determined in conjunction with the issuance of each task order pursuant to this contract.</p> <p>  Headcount of personnel in substantially similar titles within agency:&nbsp; TBD</p> <p>  &nbsp;</p> <p>  Agency: DDC</p> <p>  Description of services sought:&nbsp;Design and Construction Management Services for Community Recovery, Large Single Family Homes</p> <p>  Start date of the proposed contract:&nbsp; 01-15-2015</p> <p>  End date of the proposed contract:&nbsp;&nbsp; 01-14-2016</p> <p>  Method of solicitation the agency intends to utilize:&nbsp;&nbsp;&nbsp; Request for Proposal</p> <p>  Personnel in substantially similar titles within agency:&nbsp;&nbsp; none</p> <p>  Headcount of personnel in substantially similar titles within agency:&nbsp; 0</p> <p>  &nbsp;</p> <p>  Agency: DDC</p> <p>  Description of services sought:&nbsp;Requirement Contract Design Services Survey, East Side Coastal Resiliency, Manhattan</p> <p>  Start date of the proposed contract:&nbsp; 11-15-2014</p> <p>  End date of the proposed contract:&nbsp;&nbsp; 11-14-2015</p> <p>  Method of solicitation the agency intends to utilize:&nbsp;&nbsp;&nbsp; Task Order</p> <p>  Personnel in substantially similar titles within agency:&nbsp; Admin. Engineer, Asst. Civil Engineer, Civil Engineer, Associate Project Manager</p> <p>  Headcount of personnel in substantially similar titles within agency:&nbsp; 296</p> <p>  &nbsp;</p> <p>  Agency: DDC</p> <p>  Description of services sought: Requirement Contract Design Services for Feasibility Study and Pre-Scoping, East Side Coastal Resiliency, Manhattan</p> <p>  Start date of the proposed contract:&nbsp; 12-15-2014</p> <p>  End date of the proposed contract:&nbsp;&nbsp; 12-14-2015</p> <p>  Method of solicitation the agency intends to utilize:&nbsp;Task Order</p> <p>  Personnel in substantially similar titles within agency:&nbsp;Admin Engineer, Asst. Civil Engineer, Asst Landscape Architect, Civil Engineer, Landscape Architect, Associate Project Manager</p> <p>  Headcount of personnel in substantially similar titles within agency:&nbsp; 304</p> <p>  &nbsp;</p> <p>  Agency: DDC</p> <p>  Description of services sought: &nbsp;Requirement Contract Environmental Assessment Services Review, East Side Coastal Resiliency, Manhattan</p> <p>  Start date of the proposed contract:&nbsp; 01-15-2015</p> <p>  End date of the proposed contract:&nbsp;&nbsp; 01-14-2017</p> <p>  Method of solicitation the agency intends to utilize:&nbsp;&nbsp;&nbsp; Task Order</p> <p>  Personnel in substantially similar titles within agency:&nbsp;Admin. Engineer, Assistant Chemical Engineer, Assistant Civil Engineer, Assistant Mechanical Engineer, Assistant Architect, Assistant Electrical Engineer</p> <p>  Headcount of personnel in substantially similar titles within agency:&nbsp; 132</p> <p>  &nbsp;</p> <p>  Agency: DDC</p> <p>  Description of services sought: Construction Management Design Services, East Side Coastal "
      ],
      "text/plain": [
       "<IPython.core.display.HTML object>"
      ]
     },
     "metadata": {},
     "output_type": "display_data"
    },
    {
     "name": "stdout",
     "output_type": "stream",
     "text": [
      "---\n",
      "{'adverts': [{'Agency': 'DDC',\n",
      "              'Description of services sought': 'A&E Requirements Contract '\n",
      "                                                'for Commissioning',\n",
      "              'End date of the proposed contract': '8/11/2018',\n",
      "              'Headcount of personnel in substantially similar titles within agency': '0',\n",
      "              'Method of solicitation the agency intends to utilize': 'Request '\n",
      "                                                                      'for '\n",
      "                                                                      'Proposal',\n",
      "              'Personnel in substantially similar titles within agency': 'none',\n",
      "              'Start date of the proposed contract': '8/12/2015'},\n",
      "             {'Agency': 'DDC',\n",
      "              'Description of services sought': 'Requirements Contract for '\n",
      "                                                'HVAC/Fire '\n",
      "                                                'Protection/Electrical/Plumbing, '\n",
      "                                                'Small A&E Proj., Citywide '\n",
      "                                                '(5)',\n",
      "              'End date of the proposed contract': '4/11/2018',\n",
      "              'Headcount of personnel in substantially similar titles within agency': '0',\n",
      "              'Method of solicitation the agency intends to utilize': 'Request '\n",
      "                                                                      'for '\n",
      "                                                                      'Proposal',\n",
      "              'Personnel in substantially similar titles within agency': 'none',\n",
      "              'Start date of the proposed contract': '4/11/2015'},\n",
      "             {'Agency': 'DDC',\n",
      "              'Description of services sought': 'Requirements Contract for '\n",
      "                                                'HVAC/Fire '\n",
      "                                                'Protection/Electrical/Plumbing, '\n",
      "                                                'Medium A&E Proj, Citywide '\n",
      "                                                '(5)',\n",
      "              'End date of the proposed contract': '4/11/2018',\n",
      "              'Headcount of personnel in substantially similar titles within agency': '0',\n",
      "              'Method of solicitation the agency intends to utilize': 'Request '\n",
      "                                                                      'for '\n",
      "                                                                      'Proposal',\n",
      "              'Personnel in substantially similar titles within agency': 'none',\n",
      "              'Start date of the proposed contract': '4/11/2015'},\n",
      "             {'Agency': 'DDC',\n",
      "              'Description of services sought': 'Requirements Contract for '\n",
      "                                                'HVAC/Fire '\n",
      "                                                'Protection/Electrical/Plumbing, '\n",
      "                                                'Large A&E Proj., Citywide '\n",
      "                                                '(5)',\n",
      "              'End date of the proposed contract': '4/11/2018',\n",
      "              'Headcount of personnel in substantially similar titles within agency': '0',\n",
      "              'Method of solicitation the agency intends to utilize': 'Request '\n",
      "                                                                      'for '\n",
      "                                                                      'Proposal',\n",
      "              'Personnel in substantially similar titles within agency': 'none',\n",
      "              'Start date of the proposed contract': '4/11/2015'},\n",
      "             {'Agency': 'DDC',\n",
      "              'Description of services sought': 'Resident Engineering '\n",
      "                                                'Inspection Services, '\n",
      "                                                'Small Infrastructure '\n",
      "                                                'Projects, Citywide (5)',\n",
      "              'End date of the proposed contract': '2/1/2019',\n",
      "              'Headcount of personnel in substantially similar titles within agency': 'TBD',\n",
      "              'Method of solicitation the agency intends to utilize': 'Request '\n",
      "                                                                      'for '\n",
      "                                                                      'Proposal',\n",
      "              'Personnel in substantially similar titles within agency': 'This '\n",
      "                                                                         'is '\n",
      "                                                                         'a '\n",
      "                                                                         'task '\n",
      "                                                                         'order '\n",
      "                                                                         'contract '\n",
      "                                                                         'that '\n",
      "                                                                         'does '\n",
      "                                                                         'not '\n",
      "                                                                         'simultaneously '\n",
      "                                                                         'result '\n",
      "                                                                         'in '\n",
      "                                                                         'the '\n",
      "                                                                         'award '\n",
      "                                                                         'of '\n",
      "                                                                         'a '\n",
      "                                                                         'first '\n",
      "                                                                         'task '\n",
      "                                                                         'order; '\n",
      "                                                                         'therefore, '\n",
      "                                                                         'this '\n",
      "                                                                         'information '\n",
      "                                                                         'will '\n",
      "                                                                         'be '\n",
      "                                                                         'determined '\n",
      "                                                                         'in '\n",
      "                                                                         'conjunction '\n",
      "                                                                         'with '\n",
      "                                                                         'the '\n",
      "                                                                         'issuance '\n",
      "                                                                         'of '\n",
      "                                                                         'each '\n",
      "                                                                         'task '\n",
      "                                                                         'order '\n",
      "                                                                         'pursuant '\n",
      "                                                                         'to '\n",
      "                                                                         'this '\n",
      "                                                                         'contract.',\n",
      "              'Start date of the proposed contract': '2/1/2016'},\n",
      "             {'Agency': 'DDC',\n",
      "              'Description of services sought': 'Resident Engineering '\n",
      "                                                'Inspection Services, '\n",
      "                                                'Medium Infrastructure '\n",
      "                                                'Projects, Citywide (5)',\n",
      "              'End date of the proposed contract': '2/1/2019',\n",
      "              'Headcount of personnel in substantially similar titles within agency': 'TBD',\n",
      "              'Method of solicitation the agency intends to utilize': 'Request '\n",
      "                                                                      'for '\n",
      "                                                                      'Proposal',\n",
      "              'Personnel in substantially similar titles within agency': 'This '\n",
      "                                                                         'is '\n",
      "                                                                         'a '\n",
      "                                                                         'task '\n",
      "                                                                         'order '\n",
      "                                                                         'contract '\n",
      "                                                                         'that '\n",
      "                                                                         'does '\n",
      "                                                                         'not '\n",
      "                                                                         'simultaneously '\n",
      "                                                                         'result '\n",
      "                                                                         'in '\n",
      "                                                                         'the '\n",
      "                                                                         'award '\n",
      "                                                                         'of '\n",
      "                                                                         'a '\n",
      "                                                                         'first '\n",
      "                                                                         'task '\n",
      "                                                                         'order; '\n",
      "                                                                         'therefore, '\n",
      "                                                                         'this '\n",
      "                                                                         'information '\n",
      "                                                                         'will '\n",
      "                                                                         'be '\n",
      "                                                                         'determined '\n",
      "                                                                         'in '\n",
      "                                                                         'conjunction '\n",
      "                                                                         'with '\n",
      "                                                                         'the '\n",
      "                                                                         'issuance '\n",
      "                                                                         'of '\n",
      "                                                                         'each '\n",
      "                                                                         'task '\n",
      "                                                                         'order '\n",
      "                                                                         'pursuant '\n",
      "                                                                         'to '\n",
      "                                                                         'this '\n",
      "                                                                         'contract.',\n",
      "              'Start date of the proposed contract': '2/1/2016'},\n",
      "             {'Agency': 'DDC',\n",
      "              'Description of services sought': 'Resident Engineering '\n",
      "                                                'Inspection Services, '\n",
      "                                                'Large Infrastructure '\n",
      "                                                'Projects, Citywide (5)',\n",
      "              'End date of the proposed contract': '2/1/2019',\n",
      "              'Headcount of personnel in substantially similar titles within agency': 'TBD',\n",
      "              'Method of solicitation the agency intends to utilize': 'Request '\n",
      "                                                                      'for '\n",
      "                                                                      'Proposal',\n",
      "              'Personnel in substantially similar titles within agency': 'This '\n",
      "                                                                         'is '\n",
      "                                                                         'a '\n",
      "                                                                         'task '\n",
      "                                                                         'order '\n",
      "                                                                         'contract '\n",
      "                                                                         'that '\n",
      "                                                                         'does '\n",
      "                                                                         'not '\n",
      "                                                                         'simultaneously '\n",
      "                                                                         'result '\n",
      "                                                                         'in '\n",
      "                                                                         'the '\n",
      "                                                                         'award '\n",
      "                                                                         'of '\n",
      "                                                                         'a '\n",
      "                                                                         'first '\n",
      "                                                                         'task '\n",
      "                                                                         'order; '\n",
      "                                                                         'therefore, '\n",
      "                                                                         'this '\n",
      "                                                                         'information '\n",
      "                                                                         'will '\n",
      "                                                                         'be '\n",
      "                                                                         'determined '\n",
      "                                                                         'in '\n",
      "                                                                         'conjunction '\n",
      "                                                                         'with '\n",
      "                                                                         'the '\n",
      "                                                                         'issuance '\n",
      "                                                                         'of '\n",
      "                                                                         'each '\n",
      "                                                                         'task '\n",
      "                                                                         'order '\n",
      "                                                                         'pursuant '\n",
      "                                                                         'to '\n",
      "                                                                         'this '\n",
      "                                                                         'contract.',\n",
      "              'Start date of the proposed contract': '2/1/2016'},\n",
      "             {'Agency': 'DDC',\n",
      "              'Description of services sought': 'Design and Construction '\n",
      "                                                'Management Services for '\n",
      "                                                'Community Recovery, Large '\n",
      "                                                'Single Family Homes',\n",
      "              'End date of the proposed contract': '01-14-2016',\n",
      "              'Headcount of personnel in substantially similar titles within agency': '0',\n",
      "              'Method of solicitation the agency intends to utilize': 'Request '\n",
      "                                                                      'for '\n",
      "                                                                      'Proposal',\n",
      "              'Personnel in substantially similar titles within agency': 'none',\n",
      "              'Start date of the proposed contract': '01-15-2015'},\n",
      "             {'Agency': 'DDC',\n",
      "              'Description of services sought': 'Requirement Contract '\n",
      "                                                'Design Services Survey, '\n",
      "                                                'East Side Coastal '\n",
      "                                                'Resiliency, Manhattan',\n",
      "              'End date of the proposed contract': '11-14-2015',\n",
      "              'Headcount of personnel in substantially similar titles within agency': '296',\n",
      "              'Method of solicitation the agency intends to utilize': 'Task '\n",
      "                                                                      'Order',\n",
      "              'Personnel in substantially similar titles within agency': 'Admin. '\n",
      "                                                                         'Engineer, '\n",
      "                                                                         'Asst. '\n",
      "                                                                         'Civil '\n",
      "                                                                         'Engineer, '\n",
      "                                                                         'Civil '\n",
      "                                                                         'Engineer, '\n",
      "                                                                         'Associate '\n",
      "                                                                         'Project '\n",
      "                                                                         'Manager',\n",
      "              'Start date of the proposed contract': '11-15-2014'},\n",
      "             {'Agency': 'DDC',\n",
      "              'Description of services sought': 'Requirement Contract '\n",
      "                                                'Design Services for '\n",
      "                                                'Feasibility Study and '\n",
      "                                                'Pre-Scoping, East Side '\n",
      "                                                'Coastal Resiliency, '\n",
      "                                                'Manhattan',\n",
      "              'End date of the proposed contract': '12-14-2015',\n",
      "              'Headcount of personnel in substantially similar titles within agency': '304',\n",
      "              'Method of solicitation the agency intends to utilize': 'Task '\n",
      "                                                                      'Order',\n",
      "              'Personnel in substantially similar titles within agency': 'Admin '\n",
      "                                                                         'Engineer, '\n",
      "                                                                         'Asst. '\n",
      "                                                                         'Civil '\n",
      "                                                                         'Engineer, '\n",
      "                                                                         'Asst '\n",
      "                                                                         'Landscape '\n",
      "                                                                         'Architect, '\n",
      "                                                                         'Civil '\n",
      "                                                                         'Engineer, '\n",
      "                                                                         'Landscape '\n",
      "                                                                         'Architect, '\n",
      "                                                                         'Associate '\n",
      "                                                                         'Project '\n",
      "                                                                         'Manager',\n",
      "              'Start date of the proposed contract': '12-15-2014'},\n",
      "             {'Agency': 'DDC',\n",
      "              'Description of services sought': 'Requirement Contract '\n",
      "                                                'Environmental Assessment '\n",
      "                                                'Services Review, East '\n",
      "                                                'Side Coastal Resiliency, '\n",
      "                                                'Manhattan',\n",
      "              'End date of the proposed contract': '01-14-2017',\n",
      "              'Headcount of personnel in substantially similar titles within agency': '132',\n",
      "              'Method of solicitation the agency intends to utilize': 'Task '\n",
      "                                                                      'Order',\n",
      "              'Personnel in substantially similar titles within agency': 'Admin. '\n",
      "                                                                         'Engineer, '\n",
      "                                                                         'Assistant '\n",
      "                                                                         'Chemical '\n",
      "                                                                         'Engineer, '\n",
      "                                                                         'Assistant '\n",
      "                                                                         'Civil '\n",
      "                                                                         'Engineer, '\n",
      "                                                                         'Assistant '\n",
      "                                                                         'Mechanical '\n",
      "                                                                         'Engineer, '\n",
      "                                                                         'Assistant '\n",
      "                                                                         'Architect, '\n",
      "                                                                         'Assistant '\n",
      "                                                                         'Electrical '\n",
      "                                                                         'Engineer',\n",
      "              'Start date of the proposed contract': '01-15-2015'},\n",
      "             {'Agency': 'DDC',\n",
      "              'Description of services sought': 'Construction Management '\n",
      "                                                'Design Services, East '\n",
      "                                                'Side Coastal'}],\n",
      " 'context': 'Notice of Intent to Issue New Solicitation(s) Not Included in '\n",
      "            'FY 2015 Annual Contracting Plan and Schedule',\n",
      " 'preamble': 'NOTICE IS HEREBY GIVENthat the Mayor will be issuing the '\n",
      "             'following solicitation(s) not included in the FY 2015 Annual '\n",
      "             'Contracting Plan and Schedule that is published pursuant to '\n",
      "             'New York City Charter § 312(a):'}\n"
     ]
    },
    {
     "data": {
      "text/html": [
       "<hr />"
      ],
      "text/plain": [
       "<IPython.core.display.HTML object>"
      ]
     },
     "metadata": {},
     "output_type": "display_data"
    },
    {
     "name": "stdout",
     "output_type": "stream",
     "text": [
      "\n",
      "\n",
      "\n"
     ]
    },
    {
     "data": {
      "text/html": [
       "<p>  <u>Notice of Intent to Issue New Solicitation(s) Not Included in FY 2015 Annual Contracting Plan and Schedule </u></p> <p>  &nbsp;</p> <p>  <strong>NOTICE IS HEREBY GIVEN</strong> that the Mayor will be issuing the following solicitation(s) not included in the FY 2015 Annual Contracting Plan and Schedule that is published pursuant to New York City Charter &sect; 312(a):</p> <p>  &nbsp;</p> <p>  Agency: DDC</p> <p>  Description of services sought:&nbsp;&nbsp; Queensboro Hall Municipal Parking Garage &ndash; Demolition</p> <p>  Start date of the proposed contract:&nbsp;1/15/2015</p> <p>  End date of the proposed contract:&nbsp;1/15/2018</p> <p>  Method of solicitation the agency intends to utilize:&nbsp;Task Order</p> <p>  Personnel in substantially similar titles within agency:&nbsp;None</p> <p>  Headcount of personnel in substantially similar titles within agency:&nbsp; 0</p> <p>  &nbsp;&nbsp;&nbsp;&nbsp;&nbsp;&nbsp;&nbsp;&nbsp;&nbsp;&nbsp;&nbsp;&nbsp;&nbsp;&nbsp;&nbsp;&nbsp;&nbsp;&nbsp;&nbsp;&nbsp;&nbsp;&nbsp;&nbsp;&nbsp;&nbsp;&nbsp;&nbsp;&nbsp;&nbsp;&nbsp;&nbsp;&nbsp;&nbsp;&nbsp;&nbsp;&nbsp;&nbsp;&nbsp;&nbsp;&nbsp;&nbsp;&nbsp;&nbsp;&nbsp;&nbsp;&nbsp;&nbsp;&nbsp;&nbsp;&nbsp;&nbsp;&nbsp;&nbsp;&nbsp;&nbsp;&nbsp;&nbsp;&nbsp;&nbsp;&nbsp;&nbsp;&nbsp;&nbsp;&nbsp;&nbsp;&nbsp;&nbsp;&nbsp;&nbsp;&nbsp;&nbsp;&nbsp;&nbsp;&nbsp;&nbsp;&nbsp;&nbsp;&nbsp;&nbsp;&nbsp;&nbsp;&nbsp;&nbsp;&nbsp;&nbsp;&nbsp;&nbsp;&nbsp;&nbsp;&nbsp;&nbsp;&nbsp;&nbsp;&nbsp;&nbsp;&nbsp;&nbsp;</p> "
      ],
      "text/plain": [
       "<IPython.core.display.HTML object>"
      ]
     },
     "metadata": {},
     "output_type": "display_data"
    },
    {
     "name": "stdout",
     "output_type": "stream",
     "text": [
      "---\n",
      "{'adverts': [{'Agency': 'DDC',\n",
      "              'Description of services sought': 'Queensboro Hall Municipal '\n",
      "                                                'Parking Garage – '\n",
      "                                                'Demolition',\n",
      "              'End date of the proposed contract': '1/15/2018',\n",
      "              'Headcount of personnel in substantially similar titles within agency': '0',\n",
      "              'Method of solicitation the agency intends to utilize': 'Task '\n",
      "                                                                      'Order',\n",
      "              'Personnel in substantially similar titles within agency': 'None',\n",
      "              'Start date of the proposed contract': '1/15/2015'}],\n",
      " 'context': 'Notice of Intent to Issue New Solicitation(s) Not Included in '\n",
      "            'FY 2015 Annual Contracting Plan and Schedule',\n",
      " 'preamble': 'NOTICE IS HEREBY GIVENthat the Mayor will be issuing the '\n",
      "             'following solicitation(s) not included in the FY 2015 Annual '\n",
      "             'Contracting Plan and Schedule that is published pursuant to '\n",
      "             'New York City Charter § 312(a):'}\n"
     ]
    },
    {
     "data": {
      "text/html": [
       "<hr />"
      ],
      "text/plain": [
       "<IPython.core.display.HTML object>"
      ]
     },
     "metadata": {},
     "output_type": "display_data"
    },
    {
     "name": "stdout",
     "output_type": "stream",
     "text": [
      "\n",
      "\n",
      "\n"
     ]
    },
    {
     "data": {
      "text/html": [
       "<p>  <u>Notice of Intent to Issue New Solicitation(s) Not Included in FY 2015 Annual Contracting Plan and Schedule </u></p> <p>  &nbsp;</p> <p>  <strong>NOTICE IS HEREBY GIVEN</strong> that the Mayor will be issuing the following solicitation(s) not included in the FY 2015 Annual Contracting Plan and Schedule that is published pursuant to New York City Charter &sect; 312(a):</p> <p>  &nbsp;</p> <p>  Agency: Office of Management and Budget</p> <p>  Description of services sought: Developers for Microsoft Dynamics Grants Management Application &ndash; Phase II</p> <p>  Start date of the proposed contract: &nbsp;2/16/2015 &nbsp;&nbsp;&nbsp;&nbsp;&nbsp;&nbsp;&nbsp;&nbsp;&nbsp;&nbsp;&nbsp;&nbsp;&nbsp;</p> <p>  End date of the proposed contract: &nbsp;&nbsp;2/15/2017</p> <p>  Method of solicitation the agency intends to utilize:&nbsp; Intergovernmental</p> <p>  Personnel in substantially similar titles within agency:&nbsp;None</p> <p>  Headcount of personnel in substantially similar titles within agency: 0</p> "
      ],
      "text/plain": [
       "<IPython.core.display.HTML object>"
      ]
     },
     "metadata": {},
     "output_type": "display_data"
    },
    {
     "name": "stdout",
     "output_type": "stream",
     "text": [
      "---\n",
      "{'adverts': [{'Agency': 'Office of Management and Budget',\n",
      "              'Description of services sought': 'Developers for Microsoft '\n",
      "                                                'Dynamics Grants '\n",
      "                                                'Management Application – '\n",
      "                                                'Phase II',\n",
      "              'End date of the proposed contract': '2/15/2017',\n",
      "              'Headcount of personnel in substantially similar titles within agency': '0',\n",
      "              'Method of solicitation the agency intends to utilize': 'Intergovernmental',\n",
      "              'Personnel in substantially similar titles within agency': 'None',\n",
      "              'Start date of the proposed contract': '2/16/2015'}],\n",
      " 'context': 'Notice of Intent to Issue New Solicitation(s) Not Included in '\n",
      "            'FY 2015 Annual Contracting Plan and Schedule',\n",
      " 'preamble': 'NOTICE IS HEREBY GIVENthat the Mayor will be issuing the '\n",
      "             'following solicitation(s) not included in the FY 2015 Annual '\n",
      "             'Contracting Plan and Schedule that is published pursuant to '\n",
      "             'New York City Charter § 312(a):'}\n"
     ]
    },
    {
     "data": {
      "text/html": [
       "<hr />"
      ],
      "text/plain": [
       "<IPython.core.display.HTML object>"
      ]
     },
     "metadata": {},
     "output_type": "display_data"
    },
    {
     "name": "stdout",
     "output_type": "stream",
     "text": [
      "\n",
      "\n",
      "\n"
     ]
    },
    {
     "data": {
      "text/html": [
       "<p>  <u>Notice of Intent to Issue New Solicitation(s) Not Included in FY 2015 Annual Contracting Plan and Schedule </u></p> <p>  &nbsp;</p> <p>  <strong>NOTICE IS HEREBY GIVEN</strong> that the Mayor will be issuing the following solicitation(s) not included in the FY 2015 Annual Contracting Plan and Schedule that is published pursuant to New York City Charter &sect; 312(a):</p> <p>  &nbsp;</p> <p>  Agency: Department of Parks and Recreation</p> <p>  &nbsp;</p> <p>  Nature of Services Sought:&nbsp; Architectural Design Services for the reconstruction of De-Commissioned Buildings in the Borough of Queens</p> <p>  &nbsp;</p> <p>  Start Date of the proposed contract:&nbsp; 12/1/2014</p> <p>  &nbsp;</p> <p>  End Date of the proposed contract:&nbsp; 1/1/2015</p> <p>  &nbsp;</p> <p>  Method of Solicitation the Agency intends to utilize:&nbsp; Task Order</p> <p>  &nbsp;</p> <p>  Personnel in substantially similar titles within Agency:</p> <p>  &nbsp;</p> <p>  Architect, Architect Intern, Assistant Architect, Landmarks Preservationist, Project Manager, Associate Project Manager, Civil Engineers, Assistant Civil Engineers</p> <p>  &nbsp;</p> <p>  Headcount of personnel in substantially similar titles within Agency: 78</p> <p>  &nbsp;</p> <p>  &nbsp;</p> <p>  &nbsp;</p> <p>  Agency: Department of Parks and Recreation</p> <p>  &nbsp;</p> <p>  Nature of Services Sought:&nbsp; Architectural Design Services for the reconstruction of De-Commissioned Buildings in the Boroughs of Brooklyn and Staten Island</p> <p>  &nbsp;</p> <p>  Start Date of the proposed contract:&nbsp; 12/1/2014</p> <p>  &nbsp;</p> <p>  End Date of the proposed contract:&nbsp; 1/1/2015</p> <p>  &nbsp;</p> <p>  Method of Solicitation the Agency intends to utilize:&nbsp; Task Order</p> <p>  &nbsp;</p> <p>  Personnel in substantially similar titles within Agency:</p> <p>  &nbsp;</p> <p>  Architect, Architect Intern, Assistant Architect, Landmarks Preservationist, Project Manager, Associate Project Manager, Civil Engineers, Assistant Civil Engineers</p> <p>  &nbsp;</p> <p>  Headcount of personnel in substantially similar titles within Agency: 78</p> <p>  &nbsp;</p> <p>  &nbsp;</p> <p>  &nbsp;</p> <p>  Agency: Department of Parks and Recreation</p> <p>  &nbsp;</p> <p>  Nature of Services Sought:&nbsp; Architectural Design Services for the reconstruction of De-Commissioned Buildings in the Boroughs of The Bronx and Manhattan</p> <p>  &nbsp;</p> <p>  Start Date of the proposed contract:&nbsp; 12/1/2014</p> <p>  &nbsp;</p> <p>  End Date of the proposed contract:&nbsp; 1/1/2015</p> <p>  &nbsp;</p> <p>  Method of Solicitation the Agency intends to utilize:&nbsp; Task Order</p> <p>  &nbsp;</p> <p>  Personnel in substantially similar titles within Agency:</p> <p>  &nbsp;</p> <p>  Architect, Architect Intern, Assistant Architect, Landmarks Preservationist, Project Manager, Associate Project Manager, Civil Engineers, Assistant Civil Engineers</p> <p>  &nbsp;</p> <p>  Headcount of personnel in substantially similar titles within Agency: 78</p> <p>  &nbsp;</p> <p>  &nbsp;</p> <p>  &nbsp;</p> <p>  Agency: Department of Parks and Recreation</p> <p>  &nbsp;</p> <p>  Nature of Services Sought:&nbsp; Architectural Design Services for reconstruction of Corlears Hook Comfort Station located in the Borough of Manhattan</p> <p>  &nbsp;</p> <p>  Start Date of the proposed contract:&nbsp; 1/3/2015</p> <p>  &nbsp;</p> <p>  End Date of the proposed contract:&nbsp; 4/3/2016</p> <p>  &nbsp;</p> <p>  Method of Solicitation the Agency intends to utilize:&nbsp; Task Order</p> <p>  &nbsp;</p> <p>  Personnel in substantially similar titles within Agency:</p> <p>  &nbsp;</p> <p>  Architect, Architect Intern, Assistant Architect, Landmarks Preservationist, Project Manager, Associate Project Manager, Civil Engineers, Assistant Civil Engineers, Surveyors</p> <p>  &nbsp;</p> <p>  Headcount of personnel in substantially similar titles within Agency: 85</p> <p>  &nbsp;</p> <p>  &nbsp;</p> <p>  &nbsp;</p> <p>  Agency: Department of Parks and Recreation</p> <p>  &nbsp;</p> <p>  Nature of Services Sought:&nbsp; Architectural Design Services for reconstruction of nine comfort stations located in the Boroughs of The Bronx and Manhattan</p> <p>  &nbsp;</p> <p>  Start Date of the proposed contract:&nbsp; 1/3/2015</p> <p>  &nbsp;</p> <p>  End Date of the proposed contract:&nbsp; 4/3/2016</p> <p>  &nbsp;</p> <p>  Method of Solicitation the Agency intends to utilize:&nbsp; Task Order</p> <p>  &nbsp;</p> <p>  Personnel in substantially similar titles within Agency:</p> <p>  &nbsp;</p> <p>  Architect, Architect Intern, Assistant Architect, Landmarks Preservationist, Project Manager, Associate Project Manager, Civil Engineers, Assistant Civil Engineers, Surveyors</p> <p>  &nbsp;</p> <p>  Headcount of personnel in substantially similar titles within Agency: 85</p> <p>  &nbsp;</p> <p>  &nbsp;</p> <p>  &nbsp;</p> <p>  Agency: Department of Parks and Recreation</p> <p>  &nbsp;</p> <p>  Nature of Services Sought:&nbsp; Architectural Design Services for&nbsp;reconstruction of eight comfort stations located in the Boroughs of Brooklyn and Staten Island</p> <p>  &nbsp;</p> <p>  Start Date of the proposed contract:&nbsp; 1/3/2015</p> <p>  &nbsp;</p> <p>  End Date of the proposed contract:&nbsp; 4/3/2016</p> <p>  &nbsp;</p> <p>  Method of Solicitation the Agency intends to utilize:&nbsp; Task Order</p> <p>  &nbsp;</p> <p>  Personnel in substantially similar titles within Agency:</p> <p>  &nbsp;</p> <p>  Architect, Architect Intern, Assistant Architect, Landmarks Preservationist, Project Manager, Associate Project Manager, Civil Engineers, Assistant Civil Engineers, Surveyors</p> <p>  &nbsp;</p> <p>  Headcount of personnel in substantially similar titles within Agency: 85</p> <p>  &nbsp;</p> "
      ],
      "text/plain": [
       "<IPython.core.display.HTML object>"
      ]
     },
     "metadata": {},
     "output_type": "display_data"
    },
    {
     "name": "stdout",
     "output_type": "stream",
     "text": [
      "---\n",
      "{'adverts': [{'Agency': 'Department of Parks and Recreation',\n",
      "              'End Date of the proposed contract': '1/1/2015',\n",
      "              'Headcount of personnel in substantially similar titles within Agency': '78',\n",
      "              'Method of Solicitation the Agency intends to utilize': 'Task '\n",
      "                                                                      'Order',\n",
      "              'Nature of Services Sought': 'Architectural Design Services '\n",
      "                                           'for the reconstruction of '\n",
      "                                           'De-Commissioned Buildings in '\n",
      "                                           'the Borough of Queens',\n",
      "              'Personnel in substantially similar titles within Agency': 'Architect, '\n",
      "                                                                         'Architect '\n",
      "                                                                         'Intern, '\n",
      "                                                                         'Assistant '\n",
      "                                                                         'Architect, '\n",
      "                                                                         'Landmarks '\n",
      "                                                                         'Preservationist, '\n",
      "                                                                         'Project '\n",
      "                                                                         'Manager, '\n",
      "                                                                         'Associate '\n",
      "                                                                         'Project '\n",
      "                                                                         'Manager, '\n",
      "                                                                         'Civil '\n",
      "                                                                         'Engineers, '\n",
      "                                                                         'Assistant '\n",
      "                                                                         'Civil '\n",
      "                                                                         'Engineers',\n",
      "              'Start Date of the proposed contract': '12/1/2014'},\n",
      "             {'Agency': 'Department of Parks and Recreation',\n",
      "              'End Date of the proposed contract': '1/1/2015',\n",
      "              'Headcount of personnel in substantially similar titles within Agency': '78',\n",
      "              'Method of Solicitation the Agency intends to utilize': 'Task '\n",
      "                                                                      'Order',\n",
      "              'Nature of Services Sought': 'Architectural Design Services '\n",
      "                                           'for the reconstruction of '\n",
      "                                           'De-Commissioned Buildings in '\n",
      "                                           'the Boroughs of Brooklyn and '\n",
      "                                           'Staten Island',\n",
      "              'Personnel in substantially similar titles within Agency': 'Architect, '\n",
      "                                                                         'Architect '\n",
      "                                                                         'Intern, '\n",
      "                                                                         'Assistant '\n",
      "                                                                         'Architect, '\n",
      "                                                                         'Landmarks '\n",
      "                                                                         'Preservationist, '\n",
      "                                                                         'Project '\n",
      "                                                                         'Manager, '\n",
      "                                                                         'Associate '\n",
      "                                                                         'Project '\n",
      "                                                                         'Manager, '\n",
      "                                                                         'Civil '\n",
      "                                                                         'Engineers, '\n",
      "                                                                         'Assistant '\n",
      "                                                                         'Civil '\n",
      "                                                                         'Engineers',\n",
      "              'Start Date of the proposed contract': '12/1/2014'},\n",
      "             {'Agency': 'Department of Parks and Recreation',\n",
      "              'End Date of the proposed contract': '1/1/2015',\n",
      "              'Headcount of personnel in substantially similar titles within Agency': '78',\n",
      "              'Method of Solicitation the Agency intends to utilize': 'Task '\n",
      "                                                                      'Order',\n",
      "              'Nature of Services Sought': 'Architectural Design Services '\n",
      "                                           'for the reconstruction of '\n",
      "                                           'De-Commissioned Buildings in '\n",
      "                                           'the Boroughs of The Bronx and '\n",
      "                                           'Manhattan',\n",
      "              'Personnel in substantially similar titles within Agency': 'Architect, '\n",
      "                                                                         'Architect '\n",
      "                                                                         'Intern, '\n",
      "                                                                         'Assistant '\n",
      "                                                                         'Architect, '\n",
      "                                                                         'Landmarks '\n",
      "                                                                         'Preservationist, '\n",
      "                                                                         'Project '\n",
      "                                                                         'Manager, '\n",
      "                                                                         'Associate '\n",
      "                                                                         'Project '\n",
      "                                                                         'Manager, '\n",
      "                                                                         'Civil '\n",
      "                                                                         'Engineers, '\n",
      "                                                                         'Assistant '\n",
      "                                                                         'Civil '\n",
      "                                                                         'Engineers',\n",
      "              'Start Date of the proposed contract': '12/1/2014'},\n",
      "             {'Agency': 'Department of Parks and Recreation',\n",
      "              'End Date of the proposed contract': '4/3/2016',\n",
      "              'Headcount of personnel in substantially similar titles within Agency': '85',\n",
      "              'Method of Solicitation the Agency intends to utilize': 'Task '\n",
      "                                                                      'Order',\n",
      "              'Nature of Services Sought': 'Architectural Design Services '\n",
      "                                           'for reconstruction of Corlears '\n",
      "                                           'Hook Comfort Station located '\n",
      "                                           'in the Borough of Manhattan',\n",
      "              'Personnel in substantially similar titles within Agency': 'Architect, '\n",
      "                                                                         'Architect '\n",
      "                                                                         'Intern, '\n",
      "                                                                         'Assistant '\n",
      "                                                                         'Architect, '\n",
      "                                                                         'Landmarks '\n",
      "                                                                         'Preservationist, '\n",
      "                                                                         'Project '\n",
      "                                                                         'Manager, '\n",
      "                                                                         'Associate '\n",
      "                                                                         'Project '\n",
      "                                                                         'Manager, '\n",
      "                                                                         'Civil '\n",
      "                                                                         'Engineers, '\n",
      "                                                                         'Assistant '\n",
      "                                                                         'Civil '\n",
      "                                                                         'Engineers, '\n",
      "                                                                         'Surveyors',\n",
      "              'Start Date of the proposed contract': '1/3/2015'},\n",
      "             {'Agency': 'Department of Parks and Recreation',\n",
      "              'End Date of the proposed contract': '4/3/2016',\n",
      "              'Headcount of personnel in substantially similar titles within Agency': '85',\n",
      "              'Method of Solicitation the Agency intends to utilize': 'Task '\n",
      "                                                                      'Order',\n",
      "              'Nature of Services Sought': 'Architectural Design Services '\n",
      "                                           'for reconstruction of nine '\n",
      "                                           'comfort stations located in '\n",
      "                                           'the Boroughs of The Bronx and '\n",
      "                                           'Manhattan',\n",
      "              'Personnel in substantially similar titles within Agency': 'Architect, '\n",
      "                                                                         'Architect '\n",
      "                                                                         'Intern, '\n",
      "                                                                         'Assistant '\n",
      "                                                                         'Architect, '\n",
      "                                                                         'Landmarks '\n",
      "                                                                         'Preservationist, '\n",
      "                                                                         'Project '\n",
      "                                                                         'Manager, '\n",
      "                                                                         'Associate '\n",
      "                                                                         'Project '\n",
      "                                                                         'Manager, '\n",
      "                                                                         'Civil '\n",
      "                                                                         'Engineers, '\n",
      "                                                                         'Assistant '\n",
      "                                                                         'Civil '\n",
      "                                                                         'Engineers, '\n",
      "                                                                         'Surveyors',\n",
      "              'Start Date of the proposed contract': '1/3/2015'},\n",
      "             {'Agency': 'Department of Parks and Recreation',\n",
      "              'End Date of the proposed contract': '4/3/2016',\n",
      "              'Headcount of personnel in substantially similar titles within Agency': '85',\n",
      "              'Method of Solicitation the Agency intends to utilize': 'Task '\n",
      "                                                                      'Order',\n",
      "              'Nature of Services Sought': 'Architectural Design Services '\n",
      "                                           'for\\xa0reconstruction of eight '\n",
      "                                           'comfort stations located in '\n",
      "                                           'the Boroughs of Brooklyn and '\n",
      "                                           'Staten Island',\n",
      "              'Personnel in substantially similar titles within Agency': 'Architect, '\n",
      "                                                                         'Architect '\n",
      "                                                                         'Intern, '\n",
      "                                                                         'Assistant '\n",
      "                                                                         'Architect, '\n",
      "                                                                         'Landmarks '\n",
      "                                                                         'Preservationist, '\n",
      "                                                                         'Project '\n",
      "                                                                         'Manager, '\n",
      "                                                                         'Associate '\n",
      "                                                                         'Project '\n",
      "                                                                         'Manager, '\n",
      "                                                                         'Civil '\n",
      "                                                                         'Engineers, '\n",
      "                                                                         'Assistant '\n",
      "                                                                         'Civil '\n",
      "                                                                         'Engineers, '\n",
      "                                                                         'Surveyors',\n",
      "              'Start Date of the proposed contract': '1/3/2015'}],\n",
      " 'context': 'Notice of Intent to Issue New Solicitation(s) Not Included in '\n",
      "            'FY 2015 Annual Contracting Plan and Schedule',\n",
      " 'preamble': 'NOTICE IS HEREBY GIVENthat the Mayor will be issuing the '\n",
      "             'following solicitation(s) not included in the FY 2015 Annual '\n",
      "             'Contracting Plan and Schedule that is published pursuant to '\n",
      "             'New York City Charter § 312(a):'}\n"
     ]
    },
    {
     "data": {
      "text/html": [
       "<hr />"
      ],
      "text/plain": [
       "<IPython.core.display.HTML object>"
      ]
     },
     "metadata": {},
     "output_type": "display_data"
    },
    {
     "name": "stdout",
     "output_type": "stream",
     "text": [
      "\n",
      "\n",
      "\n"
     ]
    },
    {
     "data": {
      "text/html": [
       "<p>  <u>Notice of Intent to Extend Contract(s) Not Included in FY 2015 Annual Contracting Plan and Schedule</u></p> <p>  &nbsp;</p> <p>  <strong>NOTICE IS HEREBY GIVEN</strong> that the Mayor will be entering into the following extension(s) of (a) contract(s) not included in the FY 2015 Annual Contracting Plan and Schedule that is published pursuant to New York City Charter &sect; 312(a):</p> <p>  &nbsp;</p> <p>  Agency: Department of Environmental Protection</p> <p>  FMS Contract #: 20141402663</p> <p>  Vendor:&nbsp; CBS&nbsp; Technologies&nbsp; Corp.</p> <p>  Description of services:&nbsp; Service and repair of&nbsp; Mitel PBX telephone and paging systems</p> <p>  Award method of original contract:&nbsp;&nbsp;&nbsp;&nbsp; Competitive Sealed Bid</p> <p>  FMS Contract type: Services</p> <p>  End date of original contract:&nbsp; 4/20/2014</p> <p>  Method of renewal/extension the agency intends to utilize: Extension</p> <p>  New start date of the proposed renewed/extended contract: 4/21/2014</p> <p>  New end date of the proposed renewed/extended contract:&nbsp;&nbsp; 4/20/2015</p> <p>  Modifications sought to the nature of services performed under the contract:&nbsp;&nbsp;&nbsp; None</p> <p>  Reason(s) the agency intends to renew/extend the contract: Extension is needed in order to provide repair services until successor contract is in place.</p> <p>  Personnel in substantially similar titles within agency:&nbsp; None</p> <p>  Headcount of personnel in substantially similar titles within agency: 0</p> "
      ],
      "text/plain": [
       "<IPython.core.display.HTML object>"
      ]
     },
     "metadata": {},
     "output_type": "display_data"
    },
    {
     "name": "stdout",
     "output_type": "stream",
     "text": [
      "---\n",
      "{'adverts': [{'Agency': 'Department of Environmental Protection',\n",
      "              'Award method of original contract': 'Competitive Sealed Bid',\n",
      "              'Description of services': 'Service and repair of\\xa0 Mitel '\n",
      "                                         'PBX telephone and paging systems',\n",
      "              'End date of original contract': '4/20/2014',\n",
      "              'FMS Contract #': '20141402663',\n",
      "              'FMS Contract type': 'Services',\n",
      "              'Headcount of personnel in substantially similar titles within agency': '0',\n",
      "              'Method of renewal/extension the agency intends to utilize': 'Extension',\n",
      "              'Modifications sought to the nature of services performed under the contract': 'None',\n",
      "              'New end date of the proposed renewed/extended contract': '4/20/2015',\n",
      "              'New start date of the proposed renewed/extended contract': '4/21/2014',\n",
      "              'Personnel in substantially similar titles within agency': 'None',\n",
      "              'Reason(s) the agency intends to renew/extend the contract': 'Extension '\n",
      "                                                                           'is '\n",
      "                                                                           'needed '\n",
      "                                                                           'in '\n",
      "                                                                           'order '\n",
      "                                                                           'to '\n",
      "                                                                           'provide '\n",
      "                                                                           'repair '\n",
      "                                                                           'services '\n",
      "                                                                           'until '\n",
      "                                                                           'successor '\n",
      "                                                                           'contract '\n",
      "                                                                           'is '\n",
      "                                                                           'in '\n",
      "                                                                           'place.',\n",
      "              'Vendor': 'CBS\\xa0 Technologies\\xa0 Corp.'}],\n",
      " 'context': 'Notice of Intent to Extend Contract(s) Not Included in FY 2015 '\n",
      "            'Annual Contracting Plan and Schedule',\n",
      " 'preamble': 'NOTICE IS HEREBY GIVENthat the Mayor will be entering into the '\n",
      "             'following extension(s) of (a) contract(s) not included in the '\n",
      "             'FY 2015 Annual Contracting Plan and Schedule that is published '\n",
      "             'pursuant to New York City Charter § 312(a):'}\n"
     ]
    },
    {
     "data": {
      "text/html": [
       "<hr />"
      ],
      "text/plain": [
       "<IPython.core.display.HTML object>"
      ]
     },
     "metadata": {},
     "output_type": "display_data"
    },
    {
     "name": "stdout",
     "output_type": "stream",
     "text": [
      "\n",
      "\n",
      "\n"
     ]
    },
    {
     "data": {
      "text/html": [
       "<p>  <u>Notice of Intent to Issue New Solicitation(s) Not Included in FY 2015 Annual Contracting Plan and Schedule </u></p> <p>  &nbsp;</p> <p>  <strong>NOTICE IS HEREBY GIVEN</strong> that the Mayor will be issuing the following solicitation(s) not included in the FY 2015 Annual Contracting Plan and Schedule that is published pursuant to New York City Charter &sect; 312(a):</p> <p>  &nbsp;</p> <p>  Agency: Department of Environmental Protection</p> <p>  Description of services sought: BPS-1601-Lease &amp; Maintenance of Communications System for the DEP Police &amp; BWS Upstate Operations.&nbsp;&nbsp;</p> <p>  Start date of the proposed contract:&nbsp;&nbsp; 7/01/2015</p> <p>  End date of the proposed contract:&nbsp;&nbsp; 7/01/2020</p> <p>  Method of solicitation the agency intends to utilize: Sole Source&nbsp;&nbsp;&nbsp;</p> <p>  Personnel in substantially similar titles within agency:&nbsp;&nbsp; None</p> <p>  Headcount of personnel in substantially similar titles within agency: 0</p> "
      ],
      "text/plain": [
       "<IPython.core.display.HTML object>"
      ]
     },
     "metadata": {},
     "output_type": "display_data"
    },
    {
     "name": "stdout",
     "output_type": "stream",
     "text": [
      "---\n",
      "{'adverts': [{'Agency': 'Department of Environmental Protection',\n",
      "              'Description of services sought': 'BPS-1601-Lease & '\n",
      "                                                'Maintenance of '\n",
      "                                                'Communications System for '\n",
      "                                                'the DEP Police & BWS '\n",
      "                                                'Upstate Operations.',\n",
      "              'End date of the proposed contract': '7/01/2020',\n",
      "              'Headcount of personnel in substantially similar titles within agency': '0',\n",
      "              'Method of solicitation the agency intends to utilize': 'Sole '\n",
      "                                                                      'Source',\n",
      "              'Personnel in substantially similar titles within agency': 'None',\n",
      "              'Start date of the proposed contract': '7/01/2015'}],\n",
      " 'context': 'Notice of Intent to Issue New Solicitation(s) Not Included in '\n",
      "            'FY 2015 Annual Contracting Plan and Schedule',\n",
      " 'preamble': 'NOTICE IS HEREBY GIVENthat the Mayor will be issuing the '\n",
      "             'following solicitation(s) not included in the FY 2015 Annual '\n",
      "             'Contracting Plan and Schedule that is published pursuant to '\n",
      "             'New York City Charter § 312(a):'}\n"
     ]
    },
    {
     "data": {
      "text/html": [
       "<hr />"
      ],
      "text/plain": [
       "<IPython.core.display.HTML object>"
      ]
     },
     "metadata": {},
     "output_type": "display_data"
    },
    {
     "name": "stdout",
     "output_type": "stream",
     "text": [
      "\n",
      "\n",
      "\n"
     ]
    },
    {
     "data": {
      "text/html": [
       "<p>  <u>Notice of Intent to Issue New Solicitation(s) Not Included in FY 2015 Annual Contracting Plan and Schedule </u></p> <p>  &nbsp;</p> <p>  <strong>NOTICE IS HEREBY GIVEN</strong> that the Mayor will be issuing the following solicitation(s) not included in the FY 2015 Annual Contracting Plan and Schedule that is published pursuant to New York City Charter &sect; 312(a):</p> <p>  &nbsp;</p> <p>  Agency: Human Resources Administration</p> <p>  &nbsp;</p> <p>  Description of services sought:&nbsp;&nbsp; To provide, as needed, cargo van(s) with driver(s) to transport forms, stationery, case records, payroll, timesheets, packages, cartons with supplies and equipment for the NYC Human Resources Administration Home Energy Assistance Program (HEAP) to various locations throughout the five boroughs.&nbsp; This service is vital to assisting the HEAP program as it provides energy assistance to vulnerable, eligible clients.</p> <p>  &nbsp;</p> <p>  Start date of the proposed contract:&nbsp;&nbsp; 12/1/14</p> <p>  &nbsp;</p> <p>  End date of the proposed contract:&nbsp;&nbsp; 11/30/17</p> <p>  &nbsp;</p> <p>  Method of solicitation the agency intends to utilize:&nbsp;&nbsp;&nbsp; Required Method (Preferred Source)</p> <p>  &nbsp;</p> <p>  Personnel in substantially similar titles within agency:&nbsp;&nbsp; None</p> <p>  &nbsp;</p> <p>  Headcount of personnel in substantially similar titles within agency:&nbsp; 0</p> "
      ],
      "text/plain": [
       "<IPython.core.display.HTML object>"
      ]
     },
     "metadata": {},
     "output_type": "display_data"
    },
    {
     "name": "stdout",
     "output_type": "stream",
     "text": [
      "---\n",
      "{'adverts': [{'Agency': 'Human Resources Administration',\n",
      "              'Description of services sought': 'To provide, as needed, '\n",
      "                                                'cargo van(s) with '\n",
      "                                                'driver(s) to transport '\n",
      "                                                'forms, stationery, case '\n",
      "                                                'records, payroll, '\n",
      "                                                'timesheets, packages, '\n",
      "                                                'cartons with supplies and '\n",
      "                                                'equipment for the NYC '\n",
      "                                                'Human Resources '\n",
      "                                                'Administration Home '\n",
      "                                                'Energy Assistance Program '\n",
      "                                                '(HEAP) to various '\n",
      "                                                'locations throughout the '\n",
      "                                                'five boroughs.\\xa0 This '\n",
      "                                                'service is vital to '\n",
      "                                                'assisting the HEAP '\n",
      "                                                'program as it provides '\n",
      "                                                'energy assistance to '\n",
      "                                                'vulnerable, eligible '\n",
      "                                                'clients.',\n",
      "              'End date of the proposed contract': '11/30/17',\n",
      "              'Headcount of personnel in substantially similar titles within agency': '0',\n",
      "              'Method of solicitation the agency intends to utilize': 'Required '\n",
      "                                                                      'Method '\n",
      "                                                                      '(Preferred '\n",
      "                                                                      'Source)',\n",
      "              'Personnel in substantially similar titles within agency': 'None',\n",
      "              'Start date of the proposed contract': '12/1/14'}],\n",
      " 'context': 'Notice of Intent to Issue New Solicitation(s) Not Included in '\n",
      "            'FY 2015 Annual Contracting Plan and Schedule',\n",
      " 'preamble': 'NOTICE IS HEREBY GIVENthat the Mayor will be issuing the '\n",
      "             'following solicitation(s) not included in the FY 2015 Annual '\n",
      "             'Contracting Plan and Schedule that is published pursuant to '\n",
      "             'New York City Charter § 312(a):'}\n"
     ]
    },
    {
     "data": {
      "text/html": [
       "<hr />"
      ],
      "text/plain": [
       "<IPython.core.display.HTML object>"
      ]
     },
     "metadata": {},
     "output_type": "display_data"
    },
    {
     "name": "stdout",
     "output_type": "stream",
     "text": [
      "\n",
      "\n",
      "\n"
     ]
    },
    {
     "data": {
      "text/html": [
       "<p>  <u>Notice of Intent to Extend Contract(s) Not Included in FY 2015 Annual Contracting Plan and Schedule</u></p> <p>  &nbsp;</p> <p>  <strong>NOTICE IS HEREBY GIVEN</strong> that the Mayor will be entering into the following extension(s) of (a) contract(s) not included in the FY 2015 Annual Contracting Plan and Schedule that is published pursuant to New York City Charter &sect; 312(a):</p> <p>  &nbsp;</p> <p>  Agency: OMB</p> <p>  Vendor: GANNETT FLEMING ENGINEERS &amp; ARCHITECTS PC</p> <p>  Nature of services: ASSET MANAGEMENT / ENGINEERING SERVICES</p> <p>  Method of renewal/extension the agency intends to utilize: Renewal</p> <p>  New start date of the proposed renewed/extended contract: 3/1/2015</p> <p>  New end date of the proposed renewed/extended contract: 2/29/2016</p> <p>  Modifications sought to the nature of services performed under the contract: NONE</p> <p>  Reason(s) the agency intends to renew/extend the contract: &nbsp;continued need for services</p> <p>  Personnel in substantially similar titles within agency: &nbsp;&nbsp;NONE&nbsp;&nbsp;&nbsp;&nbsp;&nbsp;</p> <p>  Headcount of personnel in substantially similar titles within agency:&nbsp;&nbsp; NONE</p> <p>  &nbsp;</p> <p>  &nbsp;</p> <p>  Agency: OMB</p> <p>  Vendor: OAC SERVICES INC</p> <p>  Nature of services: PROVIDE VALUE ENGINEERING SERVICES ON A TASK ORDER BASIS</p> <p>  Method of renewal/extension the agency intends to utilize: Renewal</p> <p>  New start date of the proposed renewed/extended contract: 3/1/2015</p> <p>  New end date of the proposed renewed/extended contract: 2/29/2016</p> <p>  Modifications sought to the nature of services performed under the contract: NONE</p> <p>  Reason(s) the agency intends to renew/extend the contract: &nbsp;continued need for services</p> <p>  Personnel in substantially similar titles within agency: &nbsp;&nbsp;NONE&nbsp;&nbsp;&nbsp;&nbsp;&nbsp;</p> <p>  Headcount of personnel in substantially similar titles within agency:&nbsp;&nbsp; NONE</p> "
      ],
      "text/plain": [
       "<IPython.core.display.HTML object>"
      ]
     },
     "metadata": {},
     "output_type": "display_data"
    },
    {
     "name": "stdout",
     "output_type": "stream",
     "text": [
      "---\n",
      "{'adverts': [{'Agency': 'OMB',\n",
      "              'Headcount of personnel in substantially similar titles within agency': 'NONE',\n",
      "              'Method of renewal/extension the agency intends to utilize': 'Renewal',\n",
      "              'Modifications sought to the nature of services performed under the contract': 'NONE',\n",
      "              'Nature of services': 'ASSET MANAGEMENT / ENGINEERING '\n",
      "                                    'SERVICES',\n",
      "              'New end date of the proposed renewed/extended contract': '2/29/2016',\n",
      "              'New start date of the proposed renewed/extended contract': '3/1/2015',\n",
      "              'Personnel in substantially similar titles within agency': 'NONE',\n",
      "              'Reason(s) the agency intends to renew/extend the contract': 'continued '\n",
      "                                                                           'need '\n",
      "                                                                           'for '\n",
      "                                                                           'services',\n",
      "              'Vendor': 'GANNETT FLEMING ENGINEERS & ARCHITECTS PC'},\n",
      "             {'Agency': 'OMB',\n",
      "              'Headcount of personnel in substantially similar titles within agency': 'NONE',\n",
      "              'Method of renewal/extension the agency intends to utilize': 'Renewal',\n",
      "              'Modifications sought to the nature of services performed under the contract': 'NONE',\n",
      "              'Nature of services': 'PROVIDE VALUE ENGINEERING SERVICES ON '\n",
      "                                    'A TASK ORDER BASIS',\n",
      "              'New end date of the proposed renewed/extended contract': '2/29/2016',\n",
      "              'New start date of the proposed renewed/extended contract': '3/1/2015',\n",
      "              'Personnel in substantially similar titles within agency': 'NONE',\n",
      "              'Reason(s) the agency intends to renew/extend the contract': 'continued '\n",
      "                                                                           'need '\n",
      "                                                                           'for '\n",
      "                                                                           'services',\n",
      "              'Vendor': 'OAC SERVICES INC'}],\n",
      " 'context': 'Notice of Intent to Extend Contract(s) Not Included in FY 2015 '\n",
      "            'Annual Contracting Plan and Schedule',\n",
      " 'preamble': 'NOTICE IS HEREBY GIVENthat the Mayor will be entering into the '\n",
      "             'following extension(s) of (a) contract(s) not included in the '\n",
      "             'FY 2015 Annual Contracting Plan and Schedule that is published '\n",
      "             'pursuant to New York City Charter § 312(a):'}\n"
     ]
    },
    {
     "data": {
      "text/html": [
       "<hr />"
      ],
      "text/plain": [
       "<IPython.core.display.HTML object>"
      ]
     },
     "metadata": {},
     "output_type": "display_data"
    },
    {
     "name": "stdout",
     "output_type": "stream",
     "text": [
      "\n",
      "\n",
      "\n"
     ]
    },
    {
     "data": {
      "text/html": [
       "<p>  <u>Notice of Intent to Issue New Solicitation(s) Not Included in FY 2015 Annual Contracting Plan and Schedule </u></p> <p>  &nbsp;</p> <p>  <strong>NOTICE IS HEREBY GIVEN</strong> that the Mayor will be issuing the following solicitation(s) not included in the FY 2015 Annual Contracting Plan and Schedule that is published pursuant to New York City Charter &sect; 312(a):</p> <p>  &nbsp;</p> <p>  Agency: Office of Chief Medical Examiner</p> <p>  Nature of services sought: Elevator Maintenance and Repair Services</p> <p>  Start date of the proposed contract: March 15, 2015</p> <p>  End date of the proposed contract: March 20, 2020</p> <p>  Method of solicitation the agency intends to utilize: CSB</p> <p>  Personnel in substantially similar titles within agency: &nbsp;None &nbsp;&nbsp;&nbsp;&nbsp;&nbsp;&nbsp;&nbsp;&nbsp;&nbsp;&nbsp;</p> <p>  Headcount of personnel in substantially similar titles within agency: &nbsp;0</p> "
      ],
      "text/plain": [
       "<IPython.core.display.HTML object>"
      ]
     },
     "metadata": {},
     "output_type": "display_data"
    },
    {
     "name": "stdout",
     "output_type": "stream",
     "text": [
      "---\n",
      "{'adverts': [{'Agency': 'Office of Chief Medical Examiner',\n",
      "              'End date of the proposed contract': 'March 20, 2020',\n",
      "              'Headcount of personnel in substantially similar titles within agency': '0',\n",
      "              'Method of solicitation the agency intends to utilize': 'CSB',\n",
      "              'Nature of services sought': 'Elevator Maintenance and '\n",
      "                                           'Repair Services',\n",
      "              'Personnel in substantially similar titles within agency': 'None',\n",
      "              'Start date of the proposed contract': 'March 15, 2015'}],\n",
      " 'context': 'Notice of Intent to Issue New Solicitation(s) Not Included in '\n",
      "            'FY 2015 Annual Contracting Plan and Schedule',\n",
      " 'preamble': 'NOTICE IS HEREBY GIVENthat the Mayor will be issuing the '\n",
      "             'following solicitation(s) not included in the FY 2015 Annual '\n",
      "             'Contracting Plan and Schedule that is published pursuant to '\n",
      "             'New York City Charter § 312(a):'}\n"
     ]
    },
    {
     "data": {
      "text/html": [
       "<hr />"
      ],
      "text/plain": [
       "<IPython.core.display.HTML object>"
      ]
     },
     "metadata": {},
     "output_type": "display_data"
    },
    {
     "name": "stdout",
     "output_type": "stream",
     "text": [
      "\n",
      "\n",
      "\n"
     ]
    },
    {
     "data": {
      "text/html": [
       "<p>  <u>Notice of Intent to Issue New Solicitation(s) Not Included in FY 2015 Annual Contracting Plan and Schedule </u></p> <p>  &nbsp;</p> <p>  <strong>NOTICE IS HEREBY GIVEN</strong> that the Mayor will be issuing the following solicitation(s) not included in the FY 2015 Annual Contracting Plan and Schedule that is published pursuant to New York City Charter &sect; 312(a):</p> <p>  &nbsp;</p> <p>  Agency: Department of Homeless Services</p> <p>  Description of Services sought: Provision of Food Services for Family Shelters</p> <p>  Start date of the proposed contract: 02/01/2015</p> <p>  End date of the proposed contract: 01/31/2018</p> <p>  Method of solicitation the agency intends to utilize: CSB</p> <p>  Personnel in substantially similar titles within agency: &nbsp;None</p> <p>  Headcount of personnel in substantially similar titles within agency: &nbsp;0</p> <p>  &nbsp;</p> <p>  Agency: Department of Homeless Services</p> <p>  Description of Services sought: Provision of Low Sodium/Diabetic Meals</p> <p>  Start date of the proposed contract: 02/01/2015</p> <p>  End date of the proposed contract: 01/31/2018</p> <p>  Method of solicitation the agency intends to utilize: CSB</p> <p>  Personnel in substantially similar titles within agency: &nbsp;None</p> <p>  Headcount of personnel in substantially similar titles within agency: &nbsp;0</p> <p>  &nbsp;</p> <p>  Agency: Department of Homeless Services</p> <p>  Description of Services sought: Catering Services for Adult Meals</p> <p>  Start date of the proposed contract: 02/01/2015</p> <p>  End date of the proposed contract: 01/31/2018</p> <p>  Method of solicitation the agency intends to utilize: CSB</p> <p>  Personnel in substantially similar titles within agency:&nbsp;&nbsp;None</p> <p>  Headcount of personnel in substantially similar titles within agency: &nbsp;0</p> "
      ],
      "text/plain": [
       "<IPython.core.display.HTML object>"
      ]
     },
     "metadata": {},
     "output_type": "display_data"
    },
    {
     "name": "stdout",
     "output_type": "stream",
     "text": [
      "---\n",
      "{'adverts': [{'Agency': 'Department of Homeless Services',\n",
      "              'Description of Services sought': 'Provision of Food '\n",
      "                                                'Services for Family '\n",
      "                                                'Shelters',\n",
      "              'End date of the proposed contract': '01/31/2018',\n",
      "              'Headcount of personnel in substantially similar titles within agency': '0',\n",
      "              'Method of solicitation the agency intends to utilize': 'CSB',\n",
      "              'Personnel in substantially similar titles within agency': 'None',\n",
      "              'Start date of the proposed contract': '02/01/2015'},\n",
      "             {'Agency': 'Department of Homeless Services',\n",
      "              'Description of Services sought': 'Provision of Low '\n",
      "                                                'Sodium/Diabetic Meals',\n",
      "              'End date of the proposed contract': '01/31/2018',\n",
      "              'Headcount of personnel in substantially similar titles within agency': '0',\n",
      "              'Method of solicitation the agency intends to utilize': 'CSB',\n",
      "              'Personnel in substantially similar titles within agency': 'None',\n",
      "              'Start date of the proposed contract': '02/01/2015'},\n",
      "             {'Agency': 'Department of Homeless Services',\n",
      "              'Description of Services sought': 'Catering Services for '\n",
      "                                                'Adult Meals',\n",
      "              'End date of the proposed contract': '01/31/2018',\n",
      "              'Headcount of personnel in substantially similar titles within agency': '0',\n",
      "              'Method of solicitation the agency intends to utilize': 'CSB',\n",
      "              'Personnel in substantially similar titles within agency': 'None',\n",
      "              'Start date of the proposed contract': '02/01/2015'}],\n",
      " 'context': 'Notice of Intent to Issue New Solicitation(s) Not Included in '\n",
      "            'FY 2015 Annual Contracting Plan and Schedule',\n",
      " 'preamble': 'NOTICE IS HEREBY GIVENthat the Mayor will be issuing the '\n",
      "             'following solicitation(s) not included in the FY 2015 Annual '\n",
      "             'Contracting Plan and Schedule that is published pursuant to '\n",
      "             'New York City Charter § 312(a):'}\n"
     ]
    },
    {
     "data": {
      "text/html": [
       "<hr />"
      ],
      "text/plain": [
       "<IPython.core.display.HTML object>"
      ]
     },
     "metadata": {},
     "output_type": "display_data"
    },
    {
     "name": "stdout",
     "output_type": "stream",
     "text": [
      "\n",
      "\n",
      "\n"
     ]
    },
    {
     "data": {
      "text/html": [
       "<p>  <u>Notice of Intent to Issue New Solicitation(s) Not Included in FY 2015 Annual Contracting Plan and Schedule</u></p> <p>  &nbsp;</p> <p>  NOTICE IS HEREBY GIVEN that the Mayor will be issuing the following solicitation(s) not included in the FY 2015 Annual Contracting Plan and Schedule that is published pursuant to New York City Charter &sect; 312(a):</p> <p>  &nbsp;</p> <p>  Agency: New York Police Department</p> <p>  Nature of Services Sought:&nbsp; Maintenance of NYPD&rsquo;s Livescan fingerprint identification system</p> <p>  Method of Solicitation: Intergovernmental</p> <p>  Start Date of Proposed Contract: July 1, 2015</p> <p>  End Date of Proposed Contract: June 30, 2019</p> <p>  Personnel in Substantially Similar Titles Within Agency: None</p> <p>  Headcount of Personnel in Substantially Similar Titles Within Agency: 0</p> "
      ],
      "text/plain": [
       "<IPython.core.display.HTML object>"
      ]
     },
     "metadata": {},
     "output_type": "display_data"
    },
    {
     "name": "stdout",
     "output_type": "stream",
     "text": [
      "---\n",
      "{'adverts': [{'Agency': 'New York Police Department',\n",
      "              'End Date of Proposed Contract': 'June 30, 2019',\n",
      "              'Headcount of Personnel in Substantially Similar Titles Within Agency': '0',\n",
      "              'Method of Solicitation': 'Intergovernmental',\n",
      "              'Nature of Services Sought': 'Maintenance of NYPD’s Livescan '\n",
      "                                           'fingerprint identification '\n",
      "                                           'system',\n",
      "              'Personnel in Substantially Similar Titles Within Agency': 'None',\n",
      "              'Start Date of Proposed Contract': 'July 1, 2015'}],\n",
      " 'context': 'Notice of Intent to Issue New Solicitation(s) Not Included in '\n",
      "            'FY 2015 Annual Contracting Plan and Schedule',\n",
      " 'preamble': 'NOTICE IS HEREBY GIVEN that the Mayor will be issuing the '\n",
      "             'following solicitation(s) not included in the FY 2015 Annual '\n",
      "             'Contracting Plan and Schedule that is published pursuant to '\n",
      "             'New York City Charter § 312(a):'}\n"
     ]
    },
    {
     "data": {
      "text/html": [
       "<hr />"
      ],
      "text/plain": [
       "<IPython.core.display.HTML object>"
      ]
     },
     "metadata": {},
     "output_type": "display_data"
    },
    {
     "name": "stdout",
     "output_type": "stream",
     "text": [
      "\n",
      "\n",
      "\n"
     ]
    },
    {
     "data": {
      "text/html": [
       "<p>  <u>Notice of Intent to Issue New Solicitation(s) Not Included in FY 2015 Annual Contracting Plan and Schedule </u></p> <p>  &nbsp;</p> <p>  NOTICE IS HEREBY GIVEN that the Mayor will be issuing the following solicitation(s) not included in the FY 2015 Annual Contracting Plan and Schedule that is published pursuant to New York City Charter &sect; 312(a):</p> <p>  &nbsp;</p> <p>  &nbsp;</p> <p>  Agency: Department of Information Technology &amp; Telecommunications</p> <p>  Description of services sought:&nbsp;&nbsp; Labor and material necessary to maintain Uninterruptable Power Supplies (UPS) at various locations throughout the five boroughs</p> <p>  Start date of the proposed contract: 7/26/15</p> <p>  End date of the proposed contract:&nbsp; 7/25/20</p> <p>  Method of solicitation the agency intends to utilize:&nbsp; Competitive Sealed Bid</p> <p>  Personnel in substantially similar titles within agency:&nbsp;&nbsp; None</p> <p>  Headcount of personnel in substantially similar titles within agency:&nbsp;&nbsp; 0</p> <p>  &nbsp;</p> <p>  Agency: Department of Information Technology &amp; Telecommunications</p> <p>  Description of services sought:&nbsp;&nbsp; City-Wide Standby Information Technology and Telecommunications Consulting Services</p> <p>  Start date of the proposed contract: 7/1/14</p> <p>  End date of the proposed contract: 6/30/15</p> <p>  Method of solicitation the agency intends to utilize:&nbsp; Negotiated Acquisition Extension</p> <p>  Personnel in substantially similar titles within agency:&nbsp; This is a task order contract that does not simultaneously result in the award of a first task order; therefore, this information will be determined in conjunction with the issuance of each task order pursuant to this contract.</p> <p>  Headcount of personnel in substantially similar titles within agency:&nbsp; To be determined</p> <p>  &nbsp;</p> <p>  Agency: Department of Information Technology &amp; Telecommunications</p> <p>  Description of services sought:&nbsp;&nbsp; City-Wide Standby Information Technology and Telecommunications Consulting Services</p> <p>  Start date of the proposed contract: 7/1/14</p> <p>  End date of the proposed contract: 6/30/15</p> <p>  Method of solicitation the agency intends to utilize:&nbsp; Negotiated Acquisition Extension</p> <p>  Personnel in substantially similar titles within agency:&nbsp; This is a task order contract that does not simultaneously result in the award of a first task order; therefore, this information will be determined in conjunction with the issuance of each task order pursuant to this contract.</p> <p>  Headcount of personnel in substantially similar titles within agency:&nbsp; To be determined</p> <p>  &nbsp;</p> <p>  Agency: Department of Information Technology &amp; Telecommunications</p> <p>  Description of services sought:&nbsp;&nbsp; City-Wide Standby Information Technology and Telecommunications Consulting Services</p> <p>  Start date of the proposed contract: 7/1/14</p> <p>  End date of the proposed contract: 6/30/15</p> <p>  Method of solicitation the agency intends to utilize:&nbsp; Negotiated Acquisition Extension</p> <p>  Personnel in substantially similar titles within agency:&nbsp; This is a task order contract that does not simultaneously result in the award of a first task order; therefore, this information will be determined in conjunction with the issuance of each task order pursuant to this contract.</p> <p>  Headcount of personnel in substantially similar titles within agency:&nbsp; To be determined</p> <p>  &nbsp;</p> <p>  Agency: Department of Information Technology &amp; Telecommunications</p> <p>  Description of services sought:&nbsp;&nbsp; City-Wide Standby Information Technology and Telecommunications Consulting Services</p> <p>  Start date of the proposed contract: 7/1/14</p> <p>  End date of the proposed contract: 6/30/15</p> <p>  Method of solicitation the agency intends to utilize:&nbsp; Negotiated Acquisition Extension</p> <p>  Personnel in substantially similar titles within agency:&nbsp; This is a task order contract that does not simultaneously result in the award of a first task order; therefore, this information will be determined in conjunction with the issuance of each task order pursuant to this contract.</p> <p>  Headcount of personnel in substantially similar titles within agency:&nbsp; To be determined</p> <p>  &nbsp;</p> <p>  Agency: Department of Information Technology &amp; Telecommunications</p> <p>  Description of services sought:&nbsp;&nbsp; City-Wide Standby Information Technology and Telecommunications Consulting Services</p> <p>  Start date of the proposed contract: 7/1/14</p> <p>  End date of the proposed contract: 6/30/15</p> <p>  Method of solicitation the agency intends to utilize:&nbsp; Negotiated Acquisition Extension</p> <p>  Personnel in substantially similar titles within agency:&nbsp; This is a task order contract that does not simultaneously result in the award of a first task order; therefore, this information will be determined in conjunction with the issuance of each task order pursuant to this contract.</p> <p>  Headcount of personnel in substantially similar titles within agency:&nbsp; To be determined</p> <p>  &nbsp;</p> <p>  Agency: Department of Information Technology &amp; Telecommunications</p> <p>  Description of services sought:&nbsp;&nbsp; City-Wide Standby Information Technology and Telecommunications Consulting Services</p> <p>  Start date of the proposed contract: 7/1/15</p> <p>  End date of the proposed contract: 6/30/16</p> <p>  Method of solicitation the agency intends to utilize:&nbsp; Negotiated Acquisition Extension</p> <p>  Personnel in substantially similar titles within agency:&nbsp; This is a task order contract that does not simultaneously result in the award of a first task order; therefore, this information will be determined in conjunction with the issuance of each task order pursuant to this contract.</p> <p>  Headcount of personnel in substantially similar titles within agency:&nbsp; To be determined</p> <p>  &nbsp;</p> <p>  Agency: Department of Information Technology &amp; Telecommunications</p> <p>  Description of services sought:&nbsp;&nbsp; City-Wide Standby Information Technology and Telecommunications Consulting Service</p> <p>  Start date of the proposed contract: 7/1/15</p> <p>  End date of the proposed contract: 6/30/16</p> <p>  Method of solicitation the agency intends to utilize:&nbsp; Negotiated Acquisition Extension</p> <p>  Personnel in substantially similar titles within agency:&nbsp; This is a task order contract that does not simultaneously result in the award of a first task order; therefore, this information will be determined in conjunction with the issuance of each task order pursuant to this contract.</p> <p>  Headcount of personnel in substantially similar titles within agency:&nbsp; To be determined</p> <p>  &nbsp;</p> <p>  Agency: Department of Information Technology &amp; Telecommunications</p> <p>  Description of services sought:&nbsp;&nbsp; City-Wide Standby Information Technology and Telecommunications Consulting Services</p> <p>  Start date of the proposed contract: 7/1/15</p> <p>  End date of the proposed contract: 6/30/16</p> <p>  Method of solicitation the agency intends to utilize:&nbsp; Negotiated Acquisition Extension</p> <p>  Personnel in substantially similar titles within agency:&nbsp; This is a task order contract that does not simultaneously result in the award of a first task order; therefore, this information will be determined in conjunction with the issuance of each task order pursuant to this contract.</p> <p>  Headcount of personnel in substantially similar titles within agency:&nbsp; To be determined</p> <p>  &nbsp;</p> <p>  Agency: Department of Information Technology &amp; Telecommu"
      ],
      "text/plain": [
       "<IPython.core.display.HTML object>"
      ]
     },
     "metadata": {},
     "output_type": "display_data"
    },
    {
     "name": "stdout",
     "output_type": "stream",
     "text": [
      "---\n",
      "{'adverts': [{'Agency': 'Department of Information Technology & '\n",
      "                        'Telecommunications',\n",
      "              'Description of services sought': 'Labor and material '\n",
      "                                                'necessary to maintain '\n",
      "                                                'Uninterruptable Power '\n",
      "                                                'Supplies (UPS) at various '\n",
      "                                                'locations throughout the '\n",
      "                                                'five boroughs',\n",
      "              'End date of the proposed contract': '7/25/20',\n",
      "              'Headcount of personnel in substantially similar titles within agency': '0',\n",
      "              'Method of solicitation the agency intends to utilize': 'Competitive '\n",
      "                                                                      'Sealed '\n",
      "                                                                      'Bid',\n",
      "              'Personnel in substantially similar titles within agency': 'None',\n",
      "              'Start date of the proposed contract': '7/26/15'},\n",
      "             {'Agency': 'Department of Information Technology & '\n",
      "                        'Telecommunications',\n",
      "              'Description of services sought': 'City-Wide Standby '\n",
      "                                                'Information Technology '\n",
      "                                                'and Telecommunications '\n",
      "                                                'Consulting Services',\n",
      "              'End date of the proposed contract': '6/30/15',\n",
      "              'Headcount of personnel in substantially similar titles within agency': 'To '\n",
      "                                                                                      'be '\n",
      "                                                                                      'determined',\n",
      "              'Method of solicitation the agency intends to utilize': 'Negotiated '\n",
      "                                                                      'Acquisition '\n",
      "                                                                      'Extension',\n",
      "              'Personnel in substantially similar titles within agency': 'This '\n",
      "                                                                         'is '\n",
      "                                                                         'a '\n",
      "                                                                         'task '\n",
      "                                                                         'order '\n",
      "                                                                         'contract '\n",
      "                                                                         'that '\n",
      "                                                                         'does '\n",
      "                                                                         'not '\n",
      "                                                                         'simultaneously '\n",
      "                                                                         'result '\n",
      "                                                                         'in '\n",
      "                                                                         'the '\n",
      "                                                                         'award '\n",
      "                                                                         'of '\n",
      "                                                                         'a '\n",
      "                                                                         'first '\n",
      "                                                                         'task '\n",
      "                                                                         'order; '\n",
      "                                                                         'therefore, '\n",
      "                                                                         'this '\n",
      "                                                                         'information '\n",
      "                                                                         'will '\n",
      "                                                                         'be '\n",
      "                                                                         'determined '\n",
      "                                                                         'in '\n",
      "                                                                         'conjunction '\n",
      "                                                                         'with '\n",
      "                                                                         'the '\n",
      "                                                                         'issuance '\n",
      "                                                                         'of '\n",
      "                                                                         'each '\n",
      "                                                                         'task '\n",
      "                                                                         'order '\n",
      "                                                                         'pursuant '\n",
      "                                                                         'to '\n",
      "                                                                         'this '\n",
      "                                                                         'contract.',\n",
      "              'Start date of the proposed contract': '7/1/14'},\n",
      "             {'Agency': 'Department of Information Technology & '\n",
      "                        'Telecommunications',\n",
      "              'Description of services sought': 'City-Wide Standby '\n",
      "                                                'Information Technology '\n",
      "                                                'and Telecommunications '\n",
      "                                                'Consulting Services',\n",
      "              'End date of the proposed contract': '6/30/15',\n",
      "              'Headcount of personnel in substantially similar titles within agency': 'To '\n",
      "                                                                                      'be '\n",
      "                                                                                      'determined',\n",
      "              'Method of solicitation the agency intends to utilize': 'Negotiated '\n",
      "                                                                      'Acquisition '\n",
      "                                                                      'Extension',\n",
      "              'Personnel in substantially similar titles within agency': 'This '\n",
      "                                                                         'is '\n",
      "                                                                         'a '\n",
      "                                                                         'task '\n",
      "                                                                         'order '\n",
      "                                                                         'contract '\n",
      "                                                                         'that '\n",
      "                                                                         'does '\n",
      "                                                                         'not '\n",
      "                                                                         'simultaneously '\n",
      "                                                                         'result '\n",
      "                                                                         'in '\n",
      "                                                                         'the '\n",
      "                                                                         'award '\n",
      "                                                                         'of '\n",
      "                                                                         'a '\n",
      "                                                                         'first '\n",
      "                                                                         'task '\n",
      "                                                                         'order; '\n",
      "                                                                         'therefore, '\n",
      "                                                                         'this '\n",
      "                                                                         'information '\n",
      "                                                                         'will '\n",
      "                                                                         'be '\n",
      "                                                                         'determined '\n",
      "                                                                         'in '\n",
      "                                                                         'conjunction '\n",
      "                                                                         'with '\n",
      "                                                                         'the '\n",
      "                                                                         'issuance '\n",
      "                                                                         'of '\n",
      "                                                                         'each '\n",
      "                                                                         'task '\n",
      "                                                                         'order '\n",
      "                                                                         'pursuant '\n",
      "                                                                         'to '\n",
      "                                                                         'this '\n",
      "                                                                         'contract.',\n",
      "              'Start date of the proposed contract': '7/1/14'},\n",
      "             {'Agency': 'Department of Information Technology & '\n",
      "                        'Telecommunications',\n",
      "              'Description of services sought': 'City-Wide Standby '\n",
      "                                                'Information Technology '\n",
      "                                                'and Telecommunications '\n",
      "                                                'Consulting Services',\n",
      "              'End date of the proposed contract': '6/30/15',\n",
      "              'Headcount of personnel in substantially similar titles within agency': 'To '\n",
      "                                                                                      'be '\n",
      "                                                                                      'determined',\n",
      "              'Method of solicitation the agency intends to utilize': 'Negotiated '\n",
      "                                                                      'Acquisition '\n",
      "                                                                      'Extension',\n",
      "              'Personnel in substantially similar titles within agency': 'This '\n",
      "                                                                         'is '\n",
      "                                                                         'a '\n",
      "                                                                         'task '\n",
      "                                                                         'order '\n",
      "                                                                         'contract '\n",
      "                                                                         'that '\n",
      "                                                                         'does '\n",
      "                                                                         'not '\n",
      "                                                                         'simultaneously '\n",
      "                                                                         'result '\n",
      "                                                                         'in '\n",
      "                                                                         'the '\n",
      "                                                                         'award '\n",
      "                                                                         'of '\n",
      "                                                                         'a '\n",
      "                                                                         'first '\n",
      "                                                                         'task '\n",
      "                                                                         'order; '\n",
      "                                                                         'therefore, '\n",
      "                                                                         'this '\n",
      "                                                                         'information '\n",
      "                                                                         'will '\n",
      "                                                                         'be '\n",
      "                                                                         'determined '\n",
      "                                                                         'in '\n",
      "                                                                         'conjunction '\n",
      "                                                                         'with '\n",
      "                                                                         'the '\n",
      "                                                                         'issuance '\n",
      "                                                                         'of '\n",
      "                                                                         'each '\n",
      "                                                                         'task '\n",
      "                                                                         'order '\n",
      "                                                                         'pursuant '\n",
      "                                                                         'to '\n",
      "                                                                         'this '\n",
      "                                                                         'contract.',\n",
      "              'Start date of the proposed contract': '7/1/14'},\n",
      "             {'Agency': 'Department of Information Technology & '\n",
      "                        'Telecommunications',\n",
      "              'Description of services sought': 'City-Wide Standby '\n",
      "                                                'Information Technology '\n",
      "                                                'and Telecommunications '\n",
      "                                                'Consulting Services',\n",
      "              'End date of the proposed contract': '6/30/15',\n",
      "              'Headcount of personnel in substantially similar titles within agency': 'To '\n",
      "                                                                                      'be '\n",
      "                                                                                      'determined',\n",
      "              'Method of solicitation the agency intends to utilize': 'Negotiated '\n",
      "                                                                      'Acquisition '\n",
      "                                                                      'Extension',\n",
      "              'Personnel in substantially similar titles within agency': 'This '\n",
      "                                                                         'is '\n",
      "                                                                         'a '\n",
      "                                                                         'task '\n",
      "                                                                         'order '\n",
      "                                                                         'contract '\n",
      "                                                                         'that '\n",
      "                                                                         'does '\n",
      "                                                                         'not '\n",
      "                                                                         'simultaneously '\n",
      "                                                                         'result '\n",
      "                                                                         'in '\n",
      "                                                                         'the '\n",
      "                                                                         'award '\n",
      "                                                                         'of '\n",
      "                                                                         'a '\n",
      "                                                                         'first '\n",
      "                                                                         'task '\n",
      "                                                                         'order; '\n",
      "                                                                         'therefore, '\n",
      "                                                                         'this '\n",
      "                                                                         'information '\n",
      "                                                                         'will '\n",
      "                                                                         'be '\n",
      "                                                                         'determined '\n",
      "                                                                         'in '\n",
      "                                                                         'conjunction '\n",
      "                                                                         'with '\n",
      "                                                                         'the '\n",
      "                                                                         'issuance '\n",
      "                                                                         'of '\n",
      "                                                                         'each '\n",
      "                                                                         'task '\n",
      "                                                                         'order '\n",
      "                                                                         'pursuant '\n",
      "                                                                         'to '\n",
      "                                                                         'this '\n",
      "                                                                         'contract.',\n",
      "              'Start date of the proposed contract': '7/1/14'},\n",
      "             {'Agency': 'Department of Information Technology & '\n",
      "                        'Telecommunications',\n",
      "              'Description of services sought': 'City-Wide Standby '\n",
      "                                                'Information Technology '\n",
      "                                                'and Telecommunications '\n",
      "                                                'Consulting Services',\n",
      "              'End date of the proposed contract': '6/30/15',\n",
      "              'Headcount of personnel in substantially similar titles within agency': 'To '\n",
      "                                                                                      'be '\n",
      "                                                                                      'determined',\n",
      "              'Method of solicitation the agency intends to utilize': 'Negotiated '\n",
      "                                                                      'Acquisition '\n",
      "                                                                      'Extension',\n",
      "              'Personnel in substantially similar titles within agency': 'This '\n",
      "                                                                         'is '\n",
      "                                                                         'a '\n",
      "                                                                         'task '\n",
      "                                                                         'order '\n",
      "                                                                         'contract '\n",
      "                                                                         'that '\n",
      "                                                                         'does '\n",
      "                                                                         'not '\n",
      "                                                                         'simultaneously '\n",
      "                                                                         'result '\n",
      "                                                                         'in '\n",
      "                                                                         'the '\n",
      "                                                                         'award '\n",
      "                                                                         'of '\n",
      "                                                                         'a '\n",
      "                                                                         'first '\n",
      "                                                                         'task '\n",
      "                                                                         'order; '\n",
      "                                                                         'therefore, '\n",
      "                                                                         'this '\n",
      "                                                                         'information '\n",
      "                                                                         'will '\n",
      "                                                                         'be '\n",
      "                                                                         'determined '\n",
      "                                                                         'in '\n",
      "                                                                         'conjunction '\n",
      "                                                                         'with '\n",
      "                                                                         'the '\n",
      "                                                                         'issuance '\n",
      "                                                                         'of '\n",
      "                                                                         'each '\n",
      "                                                                         'task '\n",
      "                                                                         'order '\n",
      "                                                                         'pursuant '\n",
      "                                                                         'to '\n",
      "                                                                         'this '\n",
      "                                                                         'contract.',\n",
      "              'Start date of the proposed contract': '7/1/14'},\n",
      "             {'Agency': 'Department of Information Technology & '\n",
      "                        'Telecommunications',\n",
      "              'Description of services sought': 'City-Wide Standby '\n",
      "                                                'Information Technology '\n",
      "                                                'and Telecommunications '\n",
      "                                                'Consulting Services',\n",
      "              'End date of the proposed contract': '6/30/16',\n",
      "              'Headcount of personnel in substantially similar titles within agency': 'To '\n",
      "                                                                                      'be '\n",
      "                                                                                      'determined',\n",
      "              'Method of solicitation the agency intends to utilize': 'Negotiated '\n",
      "                                                                      'Acquisition '\n",
      "                                                                      'Extension',\n",
      "              'Personnel in substantially similar titles within agency': 'This '\n",
      "                                                                         'is '\n",
      "                                                                         'a '\n",
      "                                                                         'task '\n",
      "                                                                         'order '\n",
      "                                                                         'contract '\n",
      "                                                                         'that '\n",
      "                                                                         'does '\n",
      "                                                                         'not '\n",
      "                                                                         'simultaneously '\n",
      "                                                                         'result '\n",
      "                                                                         'in '\n",
      "                                                                         'the '\n",
      "                                                                         'award '\n",
      "                                                                         'of '\n",
      "                                                                         'a '\n",
      "                                                                         'first '\n",
      "                                                                         'task '\n",
      "                                                                         'order; '\n",
      "                                                                         'therefore, '\n",
      "                                                                         'this '\n",
      "                                                                         'information '\n",
      "                                                                         'will '\n",
      "                                                                         'be '\n",
      "                                                                         'determined '\n",
      "                                                                         'in '\n",
      "                                                                         'conjunction '\n",
      "                                                                         'with '\n",
      "                                                                         'the '\n",
      "                                                                         'issuance '\n",
      "                                                                         'of '\n",
      "                                                                         'each '\n",
      "                                                                         'task '\n",
      "                                                                         'order '\n",
      "                                                                         'pursuant '\n",
      "                                                                         'to '\n",
      "                                                                         'this '\n",
      "                                                                         'contract.',\n",
      "              'Start date of the proposed contract': '7/1/15'},\n",
      "             {'Agency': 'Department of Information Technology & '\n",
      "                        'Telecommunications',\n",
      "              'Description of services sought': 'City-Wide Standby '\n",
      "                                                'Information Technology '\n",
      "                                                'and Telecommunications '\n",
      "                                                'Consulting Service',\n",
      "              'End date of the proposed contract': '6/30/16',\n",
      "              'Headcount of personnel in substantially similar titles within agency': 'To '\n",
      "                                                                                      'be '\n",
      "                                                                                      'determined',\n",
      "              'Method of solicitation the agency intends to utilize': 'Negotiated '\n",
      "                                                                      'Acquisition '\n",
      "                                                                      'Extension',\n",
      "              'Personnel in substantially similar titles within agency': 'This '\n",
      "                                                                         'is '\n",
      "                                                                         'a '\n",
      "                                                                         'task '\n",
      "                                                                         'order '\n",
      "                                                                         'contract '\n",
      "                                                                         'that '\n",
      "                                                                         'does '\n",
      "                                                                         'not '\n",
      "                                                                         'simultaneously '\n",
      "                                                                         'result '\n",
      "                                                                         'in '\n",
      "                                                                         'the '\n",
      "                                                                         'award '\n",
      "                                                                         'of '\n",
      "                                                                         'a '\n",
      "                                                                         'first '\n",
      "                                                                         'task '\n",
      "                                                                         'order; '\n",
      "                                                                         'therefore, '\n",
      "                                                                         'this '\n",
      "                                                                         'information '\n",
      "                                                                         'will '\n",
      "                                                                         'be '\n",
      "                                                                         'determined '\n",
      "                                                                         'in '\n",
      "                                                                         'conjunction '\n",
      "                                                                         'with '\n",
      "                                                                         'the '\n",
      "                                                                         'issuance '\n",
      "                                                                         'of '\n",
      "                                                                         'each '\n",
      "                                                                         'task '\n",
      "                                                                         'order '\n",
      "                                                                         'pursuant '\n",
      "                                                                         'to '\n",
      "                                                                         'this '\n",
      "                                                                         'contract.',\n",
      "              'Start date of the proposed contract': '7/1/15'},\n",
      "             {'Agency': 'Department of Information Technology & '\n",
      "                        'Telecommunications',\n",
      "              'Description of services sought': 'City-Wide Standby '\n",
      "                                                'Information Technology '\n",
      "                                                'and Telecommunications '\n",
      "                                                'Consulting Services',\n",
      "              'End date of the proposed contract': '6/30/16',\n",
      "              'Headcount of personnel in substantially similar titles within agency': 'To '\n",
      "                                                                                      'be '\n",
      "                                                                                      'determined',\n",
      "              'Method of solicitation the agency intends to utilize': 'Negotiated '\n",
      "                                                                      'Acquisition '\n",
      "                                                                      'Extension',\n",
      "              'Personnel in substantially similar titles within agency': 'This '\n",
      "                                                                         'is '\n",
      "                                                                         'a '\n",
      "                                                                         'task '\n",
      "                                                                         'order '\n",
      "                                                                         'contract '\n",
      "                                                                         'that '\n",
      "                                                                         'does '\n",
      "                                                                         'not '\n",
      "                                                                         'simultaneously '\n",
      "                                                                         'result '\n",
      "                                                                         'in '\n",
      "                                                                         'the '\n",
      "                                                                         'award '\n",
      "                                                                         'of '\n",
      "                                                                         'a '\n",
      "                                                                         'first '\n",
      "                                                                         'task '\n",
      "                                                                         'order; '\n",
      "                                                                         'therefore, '\n",
      "                                                                         'this '\n",
      "                                                                         'information '\n",
      "                                                                         'will '\n",
      "                                                                         'be '\n",
      "                                                                         'determined '\n",
      "                                                                         'in '\n",
      "                                                                         'conjunction '\n",
      "                                                                         'with '\n",
      "                                                                         'the '\n",
      "                                                                         'issuance '\n",
      "                                                                         'of '\n",
      "                                                                         'each '\n",
      "                                                                         'task '\n",
      "                                                                         'order '\n",
      "                                                                         'pursuant '\n",
      "                                                                         'to '\n",
      "                                                                         'this '\n",
      "                                                                         'contract.',\n",
      "              'Start date of the proposed contract': '7/1/15'},\n",
      "             {'Agency': 'Department of Information Technology & Telecommu'}],\n",
      " 'context': 'Notice of Intent to Issue New Solicitation(s) Not Included in '\n",
      "            'FY 2015 Annual Contracting Plan and Schedule',\n",
      " 'preamble': 'NOTICE IS HEREBY GIVEN that the Mayor will be issuing the '\n",
      "             'following solicitation(s) not included in the FY 2015 Annual '\n",
      "             'Contracting Plan and Schedule that is published pursuant to '\n",
      "             'New York City Charter § 312(a):'}\n"
     ]
    },
    {
     "data": {
      "text/html": [
       "<hr />"
      ],
      "text/plain": [
       "<IPython.core.display.HTML object>"
      ]
     },
     "metadata": {},
     "output_type": "display_data"
    },
    {
     "name": "stdout",
     "output_type": "stream",
     "text": [
      "\n",
      "\n",
      "\n"
     ]
    },
    {
     "data": {
      "text/html": [
       "<p style=\"text-align: center;\">  <strong><span>CORRECTED NOTICE</span></strong></p> <p>  &nbsp;</p> <p>  <span id=\"ctl00_cphbody_lblAdditionalDescr\"><u>Notice of Intent to Issue New Solicitation(s) Not Included in FY 2015 Annual Contracting Plan and Schedule </u></span></p> <p>  &nbsp;</p> <p>  <span id=\"ctl00_cphbody_lblAdditionalDescr\"><strong>NOTICE IS HEREBY GIVEN</strong> that the Mayor will be issuing the following solicitation(s) not included in the FY 2015 Annual Contracting Plan and Schedule that is published pursuant to New York City Charter &sect; 312(a):</span></p> <p>  &nbsp;</p> <p>  <span id=\"ctl00_cphbody_lblAdditionalDescr\">Agency: DDC</span></p> <p>  <span id=\"ctl00_cphbody_lblAdditionalDescr\">Description of services sought: Queensboro Hall Municipal Parking Garage &ndash; Demolition Construction Management Services &nbsp;</span></p> <p>  <span id=\"ctl00_cphbody_lblAdditionalDescr\">Start date of the proposed contract: 1/15/2015</span></p> <p>  <span id=\"ctl00_cphbody_lblAdditionalDescr\">End date of the proposed contract: 1/15/2018</span></p> <p>  <span id=\"ctl00_cphbody_lblAdditionalDescr\">Method of solicitation the agency intends to utilize: Task Order</span></p> <p>  <span id=\"ctl00_cphbody_lblAdditionalDescr\">Personnel in substantially similar titles within agency: None</span></p> <p>  <span id=\"ctl00_cphbody_lblAdditionalDescr\">Headcount of personnel in substantially similar titles within agency: 0</span></p> "
      ],
      "text/plain": [
       "<IPython.core.display.HTML object>"
      ]
     },
     "metadata": {},
     "output_type": "display_data"
    },
    {
     "name": "stdout",
     "output_type": "stream",
     "text": [
      "---\n",
      "{'adverts': [{'Agency': 'DDC',\n",
      "              'Description of services sought': 'Queensboro Hall Municipal '\n",
      "                                                'Parking Garage – '\n",
      "                                                'Demolition Construction '\n",
      "                                                'Management Services',\n",
      "              'End date of the proposed contract': '1/15/2018',\n",
      "              'Headcount of personnel in substantially similar titles within agency': '0',\n",
      "              'Method of solicitation the agency intends to utilize': 'Task '\n",
      "                                                                      'Order',\n",
      "              'Personnel in substantially similar titles within agency': 'None',\n",
      "              'Start date of the proposed contract': '1/15/2015'}],\n",
      " 'context': 'Notice of Intent to Issue New Solicitation(s) Not Included in '\n",
      "            'FY 2015 Annual Contracting Plan and Schedule',\n",
      " 'preamble': 'NOTICE IS HEREBY GIVENthat the Mayor will be issuing the '\n",
      "             'following solicitation(s) not included in the FY 2015 Annual '\n",
      "             'Contracting Plan and Schedule that is published pursuant to '\n",
      "             'New York City Charter § 312(a):'}\n"
     ]
    },
    {
     "data": {
      "text/html": [
       "<hr />"
      ],
      "text/plain": [
       "<IPython.core.display.HTML object>"
      ]
     },
     "metadata": {},
     "output_type": "display_data"
    },
    {
     "name": "stdout",
     "output_type": "stream",
     "text": [
      "\n",
      "\n",
      "\n"
     ]
    },
    {
     "data": {
      "text/html": [
       "<p>  <u>Notice of Intent to Issue New Solicitation(s) Not Included in FY 2015 Annual Contracting Plan and Schedule </u></p> <p>  &nbsp;</p> <p>  <strong>NOTICE IS HEREBY GIVEN</strong> that the Mayor will be issuing the following solicitation(s) not included in the FY 2015 Annual Contracting Plan and Schedule that is published pursuant to New York City Charter &sect; 312(a):</p> <p>  &nbsp;</p> <p>  Agency: Department of Parks and Recreation</p> <p>  Nature of Services sought:&nbsp;&nbsp; Stump Removal Contract for Manhattan, Brooklyn, Bronx and Staten Island.</p> <p>  Start date of the proposed contract: 07/01/2016</p> <p>  End date of the proposed contract: 06/30/2018</p> <p>  Method of solicitation agency intends to utilize: Competitive Sealed Bid</p> <p>  Personnel with substantially similar agency titles: None</p> <p>  Substantially similar agency title headcount: &nbsp;0</p> <p>  &nbsp;</p> <p>  &nbsp;</p> <p>  Agency: Department of Parks and Recreation</p> <p>  Nature of Services sought:&nbsp;&nbsp; Stump Removal Contract for Queens</p> <p>  Start date of the proposed contract: 07/01/2016</p> <p>  End date of the proposed contract: 06/30/2018</p> <p>  Method of solicitation agency intends to utilize: Competitive Sealed Bid</p> <p>  Personnel with substantially similar agency titles: None</p> <p>  Substantially similar agency title headcount: &nbsp;0</p> <p>  &nbsp;</p> "
      ],
      "text/plain": [
       "<IPython.core.display.HTML object>"
      ]
     },
     "metadata": {},
     "output_type": "display_data"
    },
    {
     "name": "stdout",
     "output_type": "stream",
     "text": [
      "---\n",
      "{'adverts': [{'Agency': 'Department of Parks and Recreation',\n",
      "              'End date of the proposed contract': '06/30/2018',\n",
      "              'Method of solicitation agency intends to utilize': 'Competitive '\n",
      "                                                                  'Sealed '\n",
      "                                                                  'Bid',\n",
      "              'Nature of Services sought': 'Stump Removal Contract for '\n",
      "                                           'Manhattan, Brooklyn, Bronx and '\n",
      "                                           'Staten Island.',\n",
      "              'Personnel with substantially similar agency titles': 'None',\n",
      "              'Start date of the proposed contract': '07/01/2016',\n",
      "              'Substantially similar agency title headcount': '0'},\n",
      "             {'Agency': 'Department of Parks and Recreation',\n",
      "              'End date of the proposed contract': '06/30/2018',\n",
      "              'Method of solicitation agency intends to utilize': 'Competitive '\n",
      "                                                                  'Sealed '\n",
      "                                                                  'Bid',\n",
      "              'Nature of Services sought': 'Stump Removal Contract for '\n",
      "                                           'Queens',\n",
      "              'Personnel with substantially similar agency titles': 'None',\n",
      "              'Start date of the proposed contract': '07/01/2016',\n",
      "              'Substantially similar agency title headcount': '0'}],\n",
      " 'context': 'Notice of Intent to Issue New Solicitation(s) Not Included in '\n",
      "            'FY 2015 Annual Contracting Plan and Schedule',\n",
      " 'preamble': 'NOTICE IS HEREBY GIVENthat the Mayor will be issuing the '\n",
      "             'following solicitation(s) not included in the FY 2015 Annual '\n",
      "             'Contracting Plan and Schedule that is published pursuant to '\n",
      "             'New York City Charter § 312(a):'}\n"
     ]
    },
    {
     "data": {
      "text/html": [
       "<hr />"
      ],
      "text/plain": [
       "<IPython.core.display.HTML object>"
      ]
     },
     "metadata": {},
     "output_type": "display_data"
    },
    {
     "name": "stdout",
     "output_type": "stream",
     "text": [
      "\n",
      "\n",
      "\n"
     ]
    },
    {
     "data": {
      "text/html": [
       "<p>  <u>Notice of Intent to Extend Contract(s) Not Included in FY 2015 Annual Contracting Plan and Schedule</u></p> <p>  &nbsp;</p> <p>  <strong>NOTICE IS HEREBY GIVEN</strong> that the Mayor will be entering into the following extension(s) of (a) contract(s) not included in the FY 2015 Annual Contracting Plan and Schedule that is published pursuant to New York City Charter &sect; 312(a):</p> <p>  &nbsp;</p> <p>  Agency: Office of Emergency Management</p> <p>  Vendor: PUBLIC HEALTH SOLUTIONS</p> <p>  Method of renewal/extension the agency intends to utilize: AMENDMENT EXTENSION</p> <p>  Method of original contract: NEGOTIATED ACQUISITION</p> <p>  New start date of the proposed renewed/extended contract: 3/1/2015</p> <p>  New end date of the proposed renewed/extended contract: 8/31/2015</p> <p>  Modifications sought to the nature of services performed under the contract:&nbsp; None</p> <p>  Reason(s) the agency intends to renew/extend the contract: Continuation of services through end of grant term</p> <p>  Personnel in substantially similar titles within agency: None</p> <p>  Headcount of personnel in substantially similar titles within agency: 0</p> "
      ],
      "text/plain": [
       "<IPython.core.display.HTML object>"
      ]
     },
     "metadata": {},
     "output_type": "display_data"
    },
    {
     "name": "stdout",
     "output_type": "stream",
     "text": [
      "---\n",
      "{'adverts': [{'Agency': 'Office of Emergency Management',\n",
      "              'Headcount of personnel in substantially similar titles within agency': '0',\n",
      "              'Method of original contract': 'NEGOTIATED ACQUISITION',\n",
      "              'Method of renewal/extension the agency intends to utilize': 'AMENDMENT '\n",
      "                                                                           'EXTENSION',\n",
      "              'Modifications sought to the nature of services performed under the contract': 'None',\n",
      "              'New end date of the proposed renewed/extended contract': '8/31/2015',\n",
      "              'New start date of the proposed renewed/extended contract': '3/1/2015',\n",
      "              'Personnel in substantially similar titles within agency': 'None',\n",
      "              'Reason(s) the agency intends to renew/extend the contract': 'Continuation '\n",
      "                                                                           'of '\n",
      "                                                                           'services '\n",
      "                                                                           'through '\n",
      "                                                                           'end '\n",
      "                                                                           'of '\n",
      "                                                                           'grant '\n",
      "                                                                           'term',\n",
      "              'Vendor': 'PUBLIC HEALTH SOLUTIONS'}],\n",
      " 'context': 'Notice of Intent to Extend Contract(s) Not Included in FY 2015 '\n",
      "            'Annual Contracting Plan and Schedule',\n",
      " 'preamble': 'NOTICE IS HEREBY GIVENthat the Mayor will be entering into the '\n",
      "             'following extension(s) of (a) contract(s) not included in the '\n",
      "             'FY 2015 Annual Contracting Plan and Schedule that is published '\n",
      "             'pursuant to New York City Charter § 312(a):'}\n"
     ]
    },
    {
     "data": {
      "text/html": [
       "<hr />"
      ],
      "text/plain": [
       "<IPython.core.display.HTML object>"
      ]
     },
     "metadata": {},
     "output_type": "display_data"
    },
    {
     "name": "stdout",
     "output_type": "stream",
     "text": [
      "\n",
      "\n",
      "\n"
     ]
    },
    {
     "data": {
      "text/html": [
       "<p>  <u>Notice of Intent to Issue New Solicitation(s) Not Included in FY 2015 Annual Contracting Plan and Schedule </u></p> <p>  &nbsp;</p> <p>  <strong>NOTICE IS HEREBY GIVEN</strong> that the Mayor will be issuing the following solicitation(s) not included in the FY 2015 Annual Contracting Plan and Schedule that is published pursuant to New York City Charter &sect; 312(a):</p> <p>  &nbsp;</p> <p>  Agency: Department of Design and Construction</p> <p>  Description of services sought: Gowanus Canal Superfund Site First Street Turning Basin&nbsp;</p> <p>  Start date of the proposed contract:&nbsp;12/15/2015</p> <p>  End date of the proposed contract:&nbsp;2/1/2016</p> <p>  Method of solicitation the agency intends to utilize:&nbsp; Task Order&nbsp;</p> <p>  Personnel in substantially similar titles within agency: Civil Engineer, Highway &amp; Sewer Inspector</p> <p>  Headcount of personnel in substantially similar titles within agency:&nbsp; 82&nbsp;</p> <p>  &nbsp;</p> "
      ],
      "text/plain": [
       "<IPython.core.display.HTML object>"
      ]
     },
     "metadata": {},
     "output_type": "display_data"
    },
    {
     "name": "stdout",
     "output_type": "stream",
     "text": [
      "---\n",
      "{'adverts': [{'Agency': 'Department of Design and Construction',\n",
      "              'Description of services sought': 'Gowanus Canal Superfund '\n",
      "                                                'Site First Street Turning '\n",
      "                                                'Basin',\n",
      "              'End date of the proposed contract': '2/1/2016',\n",
      "              'Headcount of personnel in substantially similar titles within agency': '82',\n",
      "              'Method of solicitation the agency intends to utilize': 'Task '\n",
      "                                                                      'Order',\n",
      "              'Personnel in substantially similar titles within agency': 'Civil '\n",
      "                                                                         'Engineer, '\n",
      "                                                                         'Highway '\n",
      "                                                                         '& '\n",
      "                                                                         'Sewer '\n",
      "                                                                         'Inspector',\n",
      "              'Start date of the proposed contract': '12/15/2015'}],\n",
      " 'context': 'Notice of Intent to Issue New Solicitation(s) Not Included in '\n",
      "            'FY 2015 Annual Contracting Plan and Schedule',\n",
      " 'preamble': 'NOTICE IS HEREBY GIVENthat the Mayor will be issuing the '\n",
      "             'following solicitation(s) not included in the FY 2015 Annual '\n",
      "             'Contracting Plan and Schedule that is published pursuant to '\n",
      "             'New York City Charter § 312(a):'}\n"
     ]
    },
    {
     "data": {
      "text/html": [
       "<hr />"
      ],
      "text/plain": [
       "<IPython.core.display.HTML object>"
      ]
     },
     "metadata": {},
     "output_type": "display_data"
    },
    {
     "name": "stdout",
     "output_type": "stream",
     "text": [
      "\n",
      "\n",
      "\n"
     ]
    },
    {
     "data": {
      "text/html": [
       "<p>  Please see attached document.</p> <p>  &nbsp;</p> <p>  &nbsp;</p> <p>  &nbsp;</p> <p>  &nbsp;</p> "
      ],
      "text/plain": [
       "<IPython.core.display.HTML object>"
      ]
     },
     "metadata": {},
     "output_type": "display_data"
    },
    {
     "name": "stdout",
     "output_type": "stream",
     "text": [
      "---\n",
      "{'error': 'bad input: [<p>  Please see attached document.</p> <p>  '\n",
      "          '&nbsp;</p> <p>  &nbsp;</p> <p>  &nbsp;</p> <p>  &nbsp;</p> ]'}\n"
     ]
    },
    {
     "data": {
      "text/html": [
       "<hr />"
      ],
      "text/plain": [
       "<IPython.core.display.HTML object>"
      ]
     },
     "metadata": {},
     "output_type": "display_data"
    },
    {
     "name": "stdout",
     "output_type": "stream",
     "text": [
      "\n",
      "\n",
      "\n"
     ]
    },
    {
     "data": {
      "text/html": [
       "<p>  <u>Notice of Intent to Issue New Solicitation(s) Not Included in FY 2015 Annual Contracting Plan and Schedule </u></p> <p>  &nbsp;</p> <p>  <strong>NOTICE IS HEREBY GIVEN</strong> that the Mayor will be issuing the following solicitation(s) not included in the FY 2015 Annual Contracting Plan and Schedule that is published pursuant to New York City Charter &sect; 312(a):</p> <p>  &nbsp;</p> <p>  Agency: Administration for Children&rsquo;s Services</p> <p>  Nature of services sought: Auditing and Analysis Consulting Services</p> <p>  Start date of the proposed contract: 11/01/2014</p> <p>  End date of the proposed contract: 10/31/2015</p> <p>  Method of solicitation the agency intends to utilize: &nbsp;Negotiated Acquisition Extension</p> <p>  Personnel in substantially similar titles within agency: &nbsp;Accountant, Management Auditor, Staff Analyst, Associate Staff Analyst, Admin Staff Analyst NM</p> <p>  Headcount of personnel in substantially similar titles within agency: &nbsp;5</p> "
      ],
      "text/plain": [
       "<IPython.core.display.HTML object>"
      ]
     },
     "metadata": {},
     "output_type": "display_data"
    },
    {
     "name": "stdout",
     "output_type": "stream",
     "text": [
      "---\n",
      "{'adverts': [{'Agency': 'Administration for Children’s Services',\n",
      "              'End date of the proposed contract': '10/31/2015',\n",
      "              'Headcount of personnel in substantially similar titles within agency': '5',\n",
      "              'Method of solicitation the agency intends to utilize': 'Negotiated '\n",
      "                                                                      'Acquisition '\n",
      "                                                                      'Extension',\n",
      "              'Nature of services sought': 'Auditing and Analysis '\n",
      "                                           'Consulting Services',\n",
      "              'Personnel in substantially similar titles within agency': 'Accountant, '\n",
      "                                                                         'Management '\n",
      "                                                                         'Auditor, '\n",
      "                                                                         'Staff '\n",
      "                                                                         'Analyst, '\n",
      "                                                                         'Associate '\n",
      "                                                                         'Staff '\n",
      "                                                                         'Analyst, '\n",
      "                                                                         'Admin '\n",
      "                                                                         'Staff '\n",
      "                                                                         'Analyst '\n",
      "                                                                         'NM',\n",
      "              'Start date of the proposed contract': '11/01/2014'}],\n",
      " 'context': 'Notice of Intent to Issue New Solicitation(s) Not Included in '\n",
      "            'FY 2015 Annual Contracting Plan and Schedule',\n",
      " 'preamble': 'NOTICE IS HEREBY GIVENthat the Mayor will be issuing the '\n",
      "             'following solicitation(s) not included in the FY 2015 Annual '\n",
      "             'Contracting Plan and Schedule that is published pursuant to '\n",
      "             'New York City Charter § 312(a):'}\n"
     ]
    },
    {
     "data": {
      "text/html": [
       "<hr />"
      ],
      "text/plain": [
       "<IPython.core.display.HTML object>"
      ]
     },
     "metadata": {},
     "output_type": "display_data"
    },
    {
     "name": "stdout",
     "output_type": "stream",
     "text": [
      "\n",
      "\n",
      "\n"
     ]
    },
    {
     "data": {
      "text/html": [
       "<p>  <u>Notice of Intent to Issue New Solicitation(s) Not Included in FY 2015 Annual Contracting Plan and Schedule </u></p> <p>  &nbsp;</p> <p>  <strong>NOTICE IS HEREBY GIVEN</strong> that the Mayor will be issuing the following solicitation(s) not included in the FY 2015 Annual Contracting Plan and Schedule that is published pursuant to New York City Charter &sect; 312(a):</p> <p>  &nbsp;</p> <p>  Agency: Department of Environmental Protection</p> <p>  Description of services sought: &nbsp;WI-298B: Design and Design Services During construction for the Conversion of the SHARON Demonstration Facility to an MBBR ANAMMOX Process</p> <p>  Start date of the proposed contract: 6/30/2015</p> <p>  End date of the proposed contract: 6/29/2018</p> <p>  Method of solicitation the agency intends to utilize: Competitive Sealed Proposal</p> <p>  Personnel in substantially similar titles within agency: None</p> <p>  Headcount of personnel in substantially similar titles within agency: 0</p> <p>  &nbsp;</p> <p>  Agency: Department of Environmental Protection</p> <p>  Description of services sought: CAT-447 National Academy of Sciences: Oversee an independent review of the City&rsquo;s application of the Operations Support Tool to turbidity issues in the Catskill System of the upstate water supply by an expert panel of nationally recognized experts.</p> <p>  Start date of the proposed contract: 4/1/15</p> <p>  End date of the proposed contract: 3/31/17</p> <p>  Method of solicitation the agency intends to utilize: Sole Source</p> <p>  Personnel in substantially similar titles within agency: None</p> <p>  Headcount of personnel in substantially similar titles within agency:&nbsp; 0</p> <p>  &nbsp;</p> <p>  Agency:&nbsp;&nbsp; Department of Transportation</p> <p>  Description of services sought:&nbsp;&nbsp; Installation of Thermoplastic Pavement Markings on Resurfaced Streets, Boroughs of Bronx, Manhattan and Staten Island</p> <p>  Start date of the proposed contract: 6/26/15</p> <p>  End date of the proposed contract: 6/25/17</p> <p>  Method of solicitation the agency intends to utilize:&nbsp;&nbsp; CSB (Competitive Sealed Bids)</p> <p>  Personnel in substantially similar titles within agency: None</p> <p>  Headcount of personnel in substantially similar titles within agency: 0</p> <p>  &nbsp;</p> <p>  Agency:&nbsp;&nbsp; Department of Transportation</p> <p>  Description of services sought: Installation of Thermoplastic Pavement Markings on Resurfaced Roads, Boroughs of Brooklyn and Queens</p> <p>  Start date of the proposed contract: 6/26/15</p> <p>  End date of the proposed contract: 6/25/17</p> <p>  Method of solicitation the agency intends to utilize: CSB (Competitive Sealed Bids)</p> <p>  Personnel in substantially similar titles within agency: None</p> <p>  Headcount of personnel in substantially similar titles within agency: 0</p> "
      ],
      "text/plain": [
       "<IPython.core.display.HTML object>"
      ]
     },
     "metadata": {},
     "output_type": "display_data"
    },
    {
     "name": "stdout",
     "output_type": "stream",
     "text": [
      "---\n",
      "{'adverts': [{'Agency': 'Department of Environmental Protection',\n",
      "              'Description of services sought': 'WI-298B: Design and '\n",
      "                                                'Design Services During '\n",
      "                                                'construction for the '\n",
      "                                                'Conversion of the SHARON '\n",
      "                                                'Demonstration Facility to '\n",
      "                                                'an MBBR ANAMMOX Process',\n",
      "              'End date of the proposed contract': '6/29/2018',\n",
      "              'Headcount of personnel in substantially similar titles within agency': '0',\n",
      "              'Method of solicitation the agency intends to utilize': 'Competitive '\n",
      "                                                                      'Sealed '\n",
      "                                                                      'Proposal',\n",
      "              'Personnel in substantially similar titles within agency': 'None',\n",
      "              'Start date of the proposed contract': '6/30/2015'},\n",
      "             {'Agency': 'Department of Environmental Protection',\n",
      "              'Description of services sought': 'CAT-447 National Academy '\n",
      "                                                'of Sciences: Oversee an '\n",
      "                                                'independent review of the '\n",
      "                                                'City’s application of the '\n",
      "                                                'Operations Support Tool '\n",
      "                                                'to turbidity issues in '\n",
      "                                                'the Catskill System of '\n",
      "                                                'the upstate water supply '\n",
      "                                                'by an expert panel of '\n",
      "                                                'nationally recognized '\n",
      "                                                'experts.',\n",
      "              'End date of the proposed contract': '3/31/17',\n",
      "              'Headcount of personnel in substantially similar titles within agency': '0',\n",
      "              'Method of solicitation the agency intends to utilize': 'Sole '\n",
      "                                                                      'Source',\n",
      "              'Personnel in substantially similar titles within agency': 'None',\n",
      "              'Start date of the proposed contract': '4/1/15'},\n",
      "             {'Agency': 'Department of Transportation',\n",
      "              'Description of services sought': 'Installation of '\n",
      "                                                'Thermoplastic Pavement '\n",
      "                                                'Markings on Resurfaced '\n",
      "                                                'Streets, Boroughs of '\n",
      "                                                'Bronx, Manhattan and '\n",
      "                                                'Staten Island',\n",
      "              'End date of the proposed contract': '6/25/17',\n",
      "              'Headcount of personnel in substantially similar titles within agency': '0',\n",
      "              'Method of solicitation the agency intends to utilize': 'CSB '\n",
      "                                                                      '(Competitive '\n",
      "                                                                      'Sealed '\n",
      "                                                                      'Bids)',\n",
      "              'Personnel in substantially similar titles within agency': 'None',\n",
      "              'Start date of the proposed contract': '6/26/15'},\n",
      "             {'Agency': 'Department of Transportation',\n",
      "              'Description of services sought': 'Installation of '\n",
      "                                                'Thermoplastic Pavement '\n",
      "                                                'Markings on Resurfaced '\n",
      "                                                'Roads, Boroughs of '\n",
      "                                                'Brooklyn and Queens',\n",
      "              'End date of the proposed contract': '6/25/17',\n",
      "              'Headcount of personnel in substantially similar titles within agency': '0',\n",
      "              'Method of solicitation the agency intends to utilize': 'CSB '\n",
      "                                                                      '(Competitive '\n",
      "                                                                      'Sealed '\n",
      "                                                                      'Bids)',\n",
      "              'Personnel in substantially similar titles within agency': 'None',\n",
      "              'Start date of the proposed contract': '6/26/15'}],\n",
      " 'context': 'Notice of Intent to Issue New Solicitation(s) Not Included in '\n",
      "            'FY 2015 Annual Contracting Plan and Schedule',\n",
      " 'preamble': 'NOTICE IS HEREBY GIVENthat the Mayor will be issuing the '\n",
      "             'following solicitation(s) not included in the FY 2015 Annual '\n",
      "             'Contracting Plan and Schedule that is published pursuant to '\n",
      "             'New York City Charter § 312(a):'}\n"
     ]
    },
    {
     "data": {
      "text/html": [
       "<hr />"
      ],
      "text/plain": [
       "<IPython.core.display.HTML object>"
      ]
     },
     "metadata": {},
     "output_type": "display_data"
    },
    {
     "name": "stdout",
     "output_type": "stream",
     "text": [
      "\n",
      "\n",
      "\n"
     ]
    },
    {
     "data": {
      "text/html": [
       "<p>  <u>Notice of Intent to Extend Contract(s) Not Included in FY 2015 Annual Contracting Plan and Schedule</u></p> <p>  &nbsp;</p> <p>  <strong>NOTICE IS HEREBY GIVEN</strong> that the Mayor will be entering into the following extension(s) of (a) contract(s) not included in the FY 2015 Annual Contracting Plan and Schedule that is published pursuant to New York City Charter &sect; 312(a):</p> <p>  &nbsp;</p> <p>  Agency: Administration for Children&rsquo;s Services</p> <p>  Vendor: ExecuSearch Staffing</p> <p>  Nature of services: Nursing and Support&nbsp;Services at the Nicholas Scoppetta Children&rsquo;s Center</p> <p>  Method of extension the agency intends to utilize: The Agency is exercising the second of three 1 year renewal options permitted in the original contract</p> <p>  New start date of the proposed renewed/extended contract: 4/01/15</p> <p>  New end date of the proposed renewed/extended contract: 3/31/2016</p> <p>  Modifications sought to the nature of services performed under the contract: None</p> <p>  Reason(s) the agency intends to renew/extend the contract: Continuity of service</p> <p>  Personnel in substantially similar titles within agency: None</p> <p>  Headcount of personnel in substantially similar titles within agency: 0</p> <p>  &nbsp;</p> "
      ],
      "text/plain": [
       "<IPython.core.display.HTML object>"
      ]
     },
     "metadata": {},
     "output_type": "display_data"
    },
    {
     "name": "stdout",
     "output_type": "stream",
     "text": [
      "---\n",
      "{'adverts': [{'Agency': 'Administration for Children’s Services',\n",
      "              'Headcount of personnel in substantially similar titles within agency': '0',\n",
      "              'Method of extension the agency intends to utilize': 'The '\n",
      "                                                                   'Agency '\n",
      "                                                                   'is '\n",
      "                                                                   'exercising '\n",
      "                                                                   'the '\n",
      "                                                                   'second '\n",
      "                                                                   'of '\n",
      "                                                                   'three '\n",
      "                                                                   '1 year '\n",
      "                                                                   'renewal '\n",
      "                                                                   'options '\n",
      "                                                                   'permitted '\n",
      "                                                                   'in the '\n",
      "                                                                   'original '\n",
      "                                                                   'contract',\n",
      "              'Modifications sought to the nature of services performed under the contract': 'None',\n",
      "              'Nature of services': 'Nursing and Support\\xa0Services at '\n",
      "                                    'the Nicholas Scoppetta Children’s '\n",
      "                                    'Center',\n",
      "              'New end date of the proposed renewed/extended contract': '3/31/2016',\n",
      "              'New start date of the proposed renewed/extended contract': '4/01/15',\n",
      "              'Personnel in substantially similar titles within agency': 'None',\n",
      "              'Reason(s) the agency intends to renew/extend the contract': 'Continuity '\n",
      "                                                                           'of '\n",
      "                                                                           'service',\n",
      "              'Vendor': 'ExecuSearch Staffing'}],\n",
      " 'context': 'Notice of Intent to Extend Contract(s) Not Included in FY 2015 '\n",
      "            'Annual Contracting Plan and Schedule',\n",
      " 'preamble': 'NOTICE IS HEREBY GIVENthat the Mayor will be entering into the '\n",
      "             'following extension(s) of (a) contract(s) not included in the '\n",
      "             'FY 2015 Annual Contracting Plan and Schedule that is published '\n",
      "             'pursuant to New York City Charter § 312(a):'}\n"
     ]
    },
    {
     "data": {
      "text/html": [
       "<hr />"
      ],
      "text/plain": [
       "<IPython.core.display.HTML object>"
      ]
     },
     "metadata": {},
     "output_type": "display_data"
    },
    {
     "name": "stdout",
     "output_type": "stream",
     "text": [
      "\n",
      "\n",
      "\n"
     ]
    },
    {
     "data": {
      "text/html": [
       "<p>  <u>Notice of Intent to Extend Contract(s) Not Included in FY 2015 Annual Contracting Plan and Schedule</u></p> <p>  &nbsp;</p> <p>  <strong>NOTICE IS HEREBY GIVEN</strong> that the Mayor will be entering into the following extension(s) of (a) contract(s) not included in the FY 2015 Annual Contracting Plan and Schedule that is published pursuant to New York City Charter &sect; 312(a):</p> <p>  &nbsp;</p> <p>  Agency: Human Resources Administration</p> <p>  Vendor: Accenture Federal&nbsp; Services LLC</p> <p>  Nature of services: Support Services for on-going testing and systems integration of accelerator system</p> <p>  Method of renewal/extension the agency intends to utilize: Amendment Extension</p> <p>  New start date of the proposed renewed/extended contract: 2/24/15</p> <p>  New end date of the proposed renewed/extended contract: 2/23/16</p> <p>  Modifications sought to the nature of services performed under the contract: None</p> <p>  Reason(s) the agency intends to renew/extend the contract: &nbsp;The services are still needed and a new procurement has not been completed.</p> <p>  Personnel in substantially similar titles within agency: None</p> <p>  Headcount of personnel in substantially similar titles within agency: 0</p> "
      ],
      "text/plain": [
       "<IPython.core.display.HTML object>"
      ]
     },
     "metadata": {},
     "output_type": "display_data"
    },
    {
     "name": "stdout",
     "output_type": "stream",
     "text": [
      "---\n",
      "{'adverts': [{'Agency': 'Human Resources Administration',\n",
      "              'Headcount of personnel in substantially similar titles within agency': '0',\n",
      "              'Method of renewal/extension the agency intends to utilize': 'Amendment '\n",
      "                                                                           'Extension',\n",
      "              'Modifications sought to the nature of services performed under the contract': 'None',\n",
      "              'Nature of services': 'Support Services for on-going testing '\n",
      "                                    'and systems integration of '\n",
      "                                    'accelerator system',\n",
      "              'New end date of the proposed renewed/extended contract': '2/23/16',\n",
      "              'New start date of the proposed renewed/extended contract': '2/24/15',\n",
      "              'Personnel in substantially similar titles within agency': 'None',\n",
      "              'Reason(s) the agency intends to renew/extend the contract': 'The '\n",
      "                                                                           'services '\n",
      "                                                                           'are '\n",
      "                                                                           'still '\n",
      "                                                                           'needed '\n",
      "                                                                           'and '\n",
      "                                                                           'a '\n",
      "                                                                           'new '\n",
      "                                                                           'procurement '\n",
      "                                                                           'has '\n",
      "                                                                           'not '\n",
      "                                                                           'been '\n",
      "                                                                           'completed.',\n",
      "              'Vendor': 'Accenture Federal\\xa0 Services LLC'}],\n",
      " 'context': 'Notice of Intent to Extend Contract(s) Not Included in FY 2015 '\n",
      "            'Annual Contracting Plan and Schedule',\n",
      " 'preamble': 'NOTICE IS HEREBY GIVENthat the Mayor will be entering into the '\n",
      "             'following extension(s) of (a) contract(s) not included in the '\n",
      "             'FY 2015 Annual Contracting Plan and Schedule that is published '\n",
      "             'pursuant to New York City Charter § 312(a):'}\n"
     ]
    },
    {
     "data": {
      "text/html": [
       "<hr />"
      ],
      "text/plain": [
       "<IPython.core.display.HTML object>"
      ]
     },
     "metadata": {},
     "output_type": "display_data"
    },
    {
     "name": "stdout",
     "output_type": "stream",
     "text": [
      "\n",
      "\n",
      "\n"
     ]
    },
    {
     "data": {
      "text/html": [
       "<p>  <u>Notice of Intent to Extend Contract(s) Not Included in FY 2015 Annual Contracting Plan and Schedule</u></p> <p>  &nbsp;</p> <p>  <strong>NOTICE IS HEREBY GIVEN</strong> that the Mayor will be entering into the following extension(s) of (a) contract(s) not included in the FY 2015 Annual Contracting Plan and Schedule that is published pursuant to New York City Charter &sect; 312(a):</p> <p>  &nbsp;</p> <p>  Agency: Department of Environmental Protection</p> <p>  Vendor: Stratis Contracting Corp.</p> <p>  Nature of services: Preventative Maintenance and Repair of Chemical Pumps</p> <p>  Method of extension the agency intends to utilize: Amendment Extension</p> <p>  New start date of the proposed extended contract: February 21, 2015</p> <p>  New end date of the proposed extended contract: August 20, 2015</p> <p>  Modifications sought to the nature of services performed under the contract: None</p> <p>  Reason(s) the agency intends to extend the contract: Extension required in order to provide services until the successor contract is in place.</p> <p>  Personnel in substantially similar titles within agency: None</p> <p>  Headcount of personnel in substantially similar titles within agency: 0</p> "
      ],
      "text/plain": [
       "<IPython.core.display.HTML object>"
      ]
     },
     "metadata": {},
     "output_type": "display_data"
    },
    {
     "name": "stdout",
     "output_type": "stream",
     "text": [
      "---\n",
      "{'adverts': [{'Agency': 'Department of Environmental Protection',\n",
      "              'Headcount of personnel in substantially similar titles within agency': '0',\n",
      "              'Method of extension the agency intends to utilize': 'Amendment '\n",
      "                                                                   'Extension',\n",
      "              'Modifications sought to the nature of services performed under the contract': 'None',\n",
      "              'Nature of services': 'Preventative Maintenance and Repair '\n",
      "                                    'of Chemical Pumps',\n",
      "              'New end date of the proposed extended contract': 'August '\n",
      "                                                                '20, 2015',\n",
      "              'New start date of the proposed extended contract': 'February '\n",
      "                                                                  '21, 2015',\n",
      "              'Personnel in substantially similar titles within agency': 'None',\n",
      "              'Reason(s) the agency intends to extend the contract': 'Extension '\n",
      "                                                                     'required '\n",
      "                                                                     'in '\n",
      "                                                                     'order '\n",
      "                                                                     'to '\n",
      "                                                                     'provide '\n",
      "                                                                     'services '\n",
      "                                                                     'until '\n",
      "                                                                     'the '\n",
      "                                                                     'successor '\n",
      "                                                                     'contract '\n",
      "                                                                     'is '\n",
      "                                                                     'in '\n",
      "                                                                     'place.',\n",
      "              'Vendor': 'Stratis Contracting Corp.'}],\n",
      " 'context': 'Notice of Intent to Extend Contract(s) Not Included in FY 2015 '\n",
      "            'Annual Contracting Plan and Schedule',\n",
      " 'preamble': 'NOTICE IS HEREBY GIVENthat the Mayor will be entering into the '\n",
      "             'following extension(s) of (a) contract(s) not included in the '\n",
      "             'FY 2015 Annual Contracting Plan and Schedule that is published '\n",
      "             'pursuant to New York City Charter § 312(a):'}\n"
     ]
    },
    {
     "data": {
      "text/html": [
       "<hr />"
      ],
      "text/plain": [
       "<IPython.core.display.HTML object>"
      ]
     },
     "metadata": {},
     "output_type": "display_data"
    },
    {
     "name": "stdout",
     "output_type": "stream",
     "text": [
      "\n",
      "\n",
      "\n"
     ]
    },
    {
     "data": {
      "text/html": [
       "<p>  <u>Notice of Intent to Issue New Solicitation(s) Not Included in FY 2015 Annual Contracting Plan and Schedule </u></p> <p>  &nbsp;</p> <p>  <strong>NOTICE IS HEREBY GIVEN</strong> that the Mayor will be issuing the following solicitation(s) not included in the FY 2015 Annual Contracting Plan and Schedule that is published pursuant to New York City Charter &sect; 312(a):</p> <p>  &nbsp;</p> <p>  Agency: Department of Design &amp; Construction&nbsp;</p> <p>  Description of services sought:&nbsp;&nbsp; RESIDENT ENGINEERING INSPECTION SERVICES - BMP MC-11 &amp; MC-12</p> <p>  Start date of the proposed contract:&nbsp;&nbsp; 4/15/16</p> <p>  End date of the proposed contract:&nbsp;&nbsp; 11/15/18</p> <p>  Method of solicitation the agency intends to utilize:&nbsp;&nbsp;&nbsp; Task Order</p> <p>  Personnel in substantially similar titles within agency:&nbsp;&nbsp; civil engineer, highway &amp; sewer inspector, landscape architect</p> <p>  Headcount of personnel in substantially similar titles within agency: 89</p> "
      ],
      "text/plain": [
       "<IPython.core.display.HTML object>"
      ]
     },
     "metadata": {},
     "output_type": "display_data"
    },
    {
     "name": "stdout",
     "output_type": "stream",
     "text": [
      "---\n",
      "{'adverts': [{'Agency': 'Department of Design & Construction',\n",
      "              'Description of services sought': 'RESIDENT ENGINEERING '\n",
      "                                                'INSPECTION SERVICES - BMP '\n",
      "                                                'MC-11 & MC-12',\n",
      "              'End date of the proposed contract': '11/15/18',\n",
      "              'Headcount of personnel in substantially similar titles within agency': '89',\n",
      "              'Method of solicitation the agency intends to utilize': 'Task '\n",
      "                                                                      'Order',\n",
      "              'Personnel in substantially similar titles within agency': 'civil '\n",
      "                                                                         'engineer, '\n",
      "                                                                         'highway '\n",
      "                                                                         '& '\n",
      "                                                                         'sewer '\n",
      "                                                                         'inspector, '\n",
      "                                                                         'landscape '\n",
      "                                                                         'architect',\n",
      "              'Start date of the proposed contract': '4/15/16'}],\n",
      " 'context': 'Notice of Intent to Issue New Solicitation(s) Not Included in '\n",
      "            'FY 2015 Annual Contracting Plan and Schedule',\n",
      " 'preamble': 'NOTICE IS HEREBY GIVENthat the Mayor will be issuing the '\n",
      "             'following solicitation(s) not included in the FY 2015 Annual '\n",
      "             'Contracting Plan and Schedule that is published pursuant to '\n",
      "             'New York City Charter § 312(a):'}\n"
     ]
    },
    {
     "data": {
      "text/html": [
       "<hr />"
      ],
      "text/plain": [
       "<IPython.core.display.HTML object>"
      ]
     },
     "metadata": {},
     "output_type": "display_data"
    },
    {
     "name": "stdout",
     "output_type": "stream",
     "text": [
      "\n",
      "\n",
      "\n"
     ]
    },
    {
     "data": {
      "text/html": [
       "<p> \t<u>Notice of Intent to Issue New Solicitation(s) Not Included in FY 2015 Annual Contracting Plan and Schedule </u></p> <p> \t&nbsp;</p> <p> \t<strong>NOTICE IS HEREBY GIVEN</strong> that the Mayor will be issuing the following solicitation(s) not included in the FY 2015 Annual Contracting Plan and Schedule that is published pursuant to New York City Charter &sect; 312(a):</p> <p> \t&nbsp;</p> <p> \tAgency: Department of Environmental Protection</p> <p> \tDescription of services sought: CRO-530A&amp;B: Design Services contract for the replacement and removal of three bridges, and the reconstruction of 2 bridges within the Croton Watershed in Westchester County.&nbsp; This will include the analysis of the existing bridges, the design of potential alternatives and for the demolition and construction of the 5 Bridges.</p> <p> \tStart date of the proposed contract:&nbsp;&nbsp; 12/1/2015</p> <p> \tEnd date of the proposed contract:&nbsp;&nbsp; 6/1/2021</p> <p> \tMethod of solicitation the agency intends to utilize:&nbsp;&nbsp;&nbsp;&nbsp;Request for Proposal</p> <p> \tPersonnel in substantially similar titles within agency:&nbsp;&nbsp; None</p> <p> \tHeadcount of personnel in substantially similar titles within agency:&nbsp;&nbsp;0</p> <p> \t&nbsp;</p> <p> \tAgency: Department of Environmental Protection</p> <p> \tDescription of Service Sought:&nbsp; Specialized cleaning of Interception Sewer</p> <p> \tStart date of the proposed contract:&nbsp; 4/3/2015</p> <p> \tEnd date of the proposed contract: 1/31/2018</p> <p> \tMethod of Solicitation the agency intends to utilize:&nbsp; Competitive Sealed Bids</p> <p> \tPersonnel in substantially similar titles within agency: None</p> <p> \tHeadcount of personnel in substantially similar titles with agency: 0</p> <p> \t&nbsp;</p> <p> \tAgency: Department of Information Technology &amp; Telecommunications</p> <p> \tDescription of services sought: &nbsp;Subject Matter Expert to assess operational strategies for alignment with Citywide and program strategies, assess work flow, operational design and facility layouts for alignment with best practices and optimal operational plans. Develop recommendations for operational improvement, change and change management.&nbsp; Assess the impact of operational changes.</p> <p> \tStart date of the proposed contract: 1/1/15</p> <p> \tEnd date of the proposed contract:&nbsp; 5/31/17</p> <p> \tMethod of solicitation the agency intends to utilize:&nbsp; Task Order</p> <p> \tPersonnel in substantially similar titles within agency:&nbsp; None</p> <p> \tHeadcount of personnel in substantially similar titles within agency:&nbsp; 0</p> <p> \t&nbsp;</p> <p> \tAgency: Department of Information Technology &amp; Telecommunications</p> <p> \tDescription of services sought:&nbsp; Requirements Manager resource for development of requirements for the ECTP program that includes analysis, verification, and documentation. Manage requirements approval process as well as development of integration and UAT test procedures and test cases.</p> <p> \tStart date of the proposed contract: 1/1/15</p> <p> \tEnd date of the proposed contract: 12/31/15</p> <p> \tMethod of solicitation the agency intends to utilize:&nbsp; Task Order</p> <p> \tPersonnel in substantially similar titles within agency:&nbsp; Requirements Test Manager</p> <p> \tHeadcount of personnel in substantially similar titles within agency:&nbsp; 1</p> <p> \t&nbsp;</p> <p> \tAgency: Department of Information Technology &amp; Telecommunications</p> <p> \tDescription of services sought: E911 Subject Matter Expert on telecommunications and e911. Provide assessment of Verizon deliverables. Oversight of Verizon project activities. Assess Verizon project schedule. Address interface requirements with other work streams.</p> <p> \tStart date of the proposed contract: 1/1/15</p> <p> \tEnd date of the proposed contract: 12/31/15</p> <p> \tMethod of solicitation the agency intends to utilize:&nbsp; Task Order</p> <p> \tPersonnel in substantially similar titles within agency:&nbsp; None</p> <p> \tHeadcount of personnel in substantially similar titles within agency:&nbsp; 0</p> <p> \t&nbsp;</p> <p> \tAgency: Department of Information Technology &amp; Telecommunications</p> <p> \tDescription of services sought: E911 Subject Matter Expert on telecommunications and e911. Provide assessment of Verizon deliverables. Oversight of Verizon project activities. Assess Verizon project schedule. Address interface requirements with other work streams.</p> <p> \tStart date of the proposed contract: 1/1/15</p> <p> \tEnd date of the proposed contract: 12/31/15</p> <p> \tMethod of solicitation the agency intends to utilize:&nbsp; Task Order</p> <p> \tPersonnel in substantially similar titles within agency:&nbsp; None</p> <p> \tHeadcount of personnel in substantially similar titles within agency:&nbsp; 0</p> <p> \t&nbsp;</p> <p> \tAgency: Department of Information Technology &amp; Telecommunications</p> <p> \tDescription of services sought: FDCAD/CT/GIS Engineer to research and evaluate new CAD software and related solutions for FDNY, taking into account performance, stability, availability, cost- efficiency, and end user requirements. CAD infrastructure, configuration, testing,&nbsp;and reporting.</p> <p> \tStart date of the proposed contract: 1/1/15</p> <p> \tEnd date of the proposed contract: 8/31/16</p> <p> \tMethod of solicitation the agency intends to utilize:&nbsp; Task Order</p> <p> \tPersonnel in substantially similar titles within agency:&nbsp; None</p> <p> \tHeadcount of personnel in substantially similar titles within agency:&nbsp; 0</p> <p> \t&nbsp;</p> <p> \tAgency: Department of Information Technology &amp; Telecommunications</p> <p> \tDescription of services sought: Network Subject Matter Expert to ensure the system design and architecture meet the core technology requirements of the ECTP program in the areas of networking, facilities and infrastructure.</p> <p> \tStart date of the proposed contract: 1/1/15</p> <p> \tEnd date of the proposed contract:&nbsp; 12/31/15</p> <p> \tMethod of solicitation the agency intends to utilize:&nbsp; Task Order</p> <p> \tPersonnel in substantially similar titles within agency:&nbsp; Network Engineer</p> <p> \tHeadcount of personnel in substantially similar titles within agency:&nbsp; 6</p> <p> \t&nbsp;</p> <p> \tAgency: Department of Information Technology &amp; Telecommunications</p> <p> \tDescription of services sought: Network Subject Matter Expert to ensure the system design and architecture meet the core technology requirements of the ECTP program in the areas of networking, facilities and infrastructure.</p> <p> \tStart date of the proposed contract: 1/1/15</p> <p> \tEnd date of the proposed contract: 12/31/15</p> <p> \tMethod of solicitation the agency intends to utilize:&nbsp; Task Order</p> <p> \tPersonnel in substantially similar titles within agency:&nbsp; Network Engineer</p> <p> \tHeadcount of personnel in substantially similar titles within agency:&nbsp; 6</p> <p> \t&nbsp;</p> <p> \tAgency: Department of Information Technology &amp; Telecommunications</p> <p> \tDescription of services sought: Business Analyst to Analyze and design new Data Interoperability and Architecture</p> <p> \tStart date of the proposed contract: 1/1/15</p> <p> \tEnd date of the proposed contract: 12/31/15</p> <p> \tMethod of solicitation the agency intends to utilize:&nbsp; Task Order</p> <p> \tPersonnel in substantially similar titles within agency:&nbsp; Business Analyst</p> <p> \tHeadcount of personnel in substantially similar titles within agency:&nbsp; 4</p> <p> \t&nbsp;</p> <p> \tAgency: Department of Information Technology &amp; Telecommunications</p> <p> \tDescription of services sought: Business Analyst to analyze and design new Data Interoperability and Architecture</p> <p> \tStart date of the proposed contract: 1/1/15</p> <p> \tEnd dat"
      ],
      "text/plain": [
       "<IPython.core.display.HTML object>"
      ]
     },
     "metadata": {},
     "output_type": "display_data"
    },
    {
     "name": "stdout",
     "output_type": "stream",
     "text": [
      "---\n",
      "{'adverts': [{'Agency': 'Department of Environmental Protection',\n",
      "              'Description of services sought': 'CRO-530A&B: Design '\n",
      "                                                'Services contract for the '\n",
      "                                                'replacement and removal '\n",
      "                                                'of three bridges, and the '\n",
      "                                                'reconstruction of 2 '\n",
      "                                                'bridges within the Croton '\n",
      "                                                'Watershed in Westchester '\n",
      "                                                'County.\\xa0 This will '\n",
      "                                                'include the analysis of '\n",
      "                                                'the existing bridges, the '\n",
      "                                                'design of potential '\n",
      "                                                'alternatives and for the '\n",
      "                                                'demolition and '\n",
      "                                                'construction of the 5 '\n",
      "                                                'Bridges.',\n",
      "              'End date of the proposed contract': '6/1/2021',\n",
      "              'Headcount of personnel in substantially similar titles within agency': '0',\n",
      "              'Method of solicitation the agency intends to utilize': 'Request '\n",
      "                                                                      'for '\n",
      "                                                                      'Proposal',\n",
      "              'Personnel in substantially similar titles within agency': 'None',\n",
      "              'Start date of the proposed contract': '12/1/2015'},\n",
      "             {'Agency': 'Department of Environmental Protection',\n",
      "              'Description of Service Sought': 'Specialized cleaning of '\n",
      "                                               'Interception Sewer',\n",
      "              'End date of the proposed contract': '1/31/2018',\n",
      "              'Headcount of personnel in substantially similar titles with agency': '0',\n",
      "              'Method of Solicitation the agency intends to utilize': 'Competitive '\n",
      "                                                                      'Sealed '\n",
      "                                                                      'Bids',\n",
      "              'Personnel in substantially similar titles within agency': 'None',\n",
      "              'Start date of the proposed contract': '4/3/2015'},\n",
      "             {'Agency': 'Department of Information Technology & '\n",
      "                        'Telecommunications',\n",
      "              'Description of services sought': 'Subject Matter Expert to '\n",
      "                                                'assess operational '\n",
      "                                                'strategies for alignment '\n",
      "                                                'with Citywide and program '\n",
      "                                                'strategies, assess work '\n",
      "                                                'flow, operational design '\n",
      "                                                'and facility layouts for '\n",
      "                                                'alignment with best '\n",
      "                                                'practices and optimal '\n",
      "                                                'operational plans. '\n",
      "                                                'Develop recommendations '\n",
      "                                                'for operational '\n",
      "                                                'improvement, change and '\n",
      "                                                'change management.\\xa0 '\n",
      "                                                'Assess the impact of '\n",
      "                                                'operational changes.',\n",
      "              'End date of the proposed contract': '5/31/17',\n",
      "              'Headcount of personnel in substantially similar titles within agency': '0',\n",
      "              'Method of solicitation the agency intends to utilize': 'Task '\n",
      "                                                                      'Order',\n",
      "              'Personnel in substantially similar titles within agency': 'None',\n",
      "              'Start date of the proposed contract': '1/1/15'},\n",
      "             {'Agency': 'Department of Information Technology & '\n",
      "                        'Telecommunications',\n",
      "              'Description of services sought': 'Requirements Manager '\n",
      "                                                'resource for development '\n",
      "                                                'of requirements for the '\n",
      "                                                'ECTP program that '\n",
      "                                                'includes analysis, '\n",
      "                                                'verification, and '\n",
      "                                                'documentation. Manage '\n",
      "                                                'requirements approval '\n",
      "                                                'process as well as '\n",
      "                                                'development of '\n",
      "                                                'integration and UAT test '\n",
      "                                                'procedures and test cases.',\n",
      "              'End date of the proposed contract': '12/31/15',\n",
      "              'Headcount of personnel in substantially similar titles within agency': '1',\n",
      "              'Method of solicitation the agency intends to utilize': 'Task '\n",
      "                                                                      'Order',\n",
      "              'Personnel in substantially similar titles within agency': 'Requirements '\n",
      "                                                                         'Test '\n",
      "                                                                         'Manager',\n",
      "              'Start date of the proposed contract': '1/1/15'},\n",
      "             {'Agency': 'Department of Information Technology & '\n",
      "                        'Telecommunications',\n",
      "              'Description of services sought': 'E911 Subject Matter '\n",
      "                                                'Expert on '\n",
      "                                                'telecommunications and '\n",
      "                                                'e911. Provide assessment '\n",
      "                                                'of Verizon deliverables. '\n",
      "                                                'Oversight of Verizon '\n",
      "                                                'project activities. '\n",
      "                                                'Assess Verizon project '\n",
      "                                                'schedule. Address '\n",
      "                                                'interface requirements '\n",
      "                                                'with other work streams.',\n",
      "              'End date of the proposed contract': '12/31/15',\n",
      "              'Headcount of personnel in substantially similar titles within agency': '0',\n",
      "              'Method of solicitation the agency intends to utilize': 'Task '\n",
      "                                                                      'Order',\n",
      "              'Personnel in substantially similar titles within agency': 'None',\n",
      "              'Start date of the proposed contract': '1/1/15'},\n",
      "             {'Agency': 'Department of Information Technology & '\n",
      "                        'Telecommunications',\n",
      "              'Description of services sought': 'E911 Subject Matter '\n",
      "                                                'Expert on '\n",
      "                                                'telecommunications and '\n",
      "                                                'e911. Provide assessment '\n",
      "                                                'of Verizon deliverables. '\n",
      "                                                'Oversight of Verizon '\n",
      "                                                'project activities. '\n",
      "                                                'Assess Verizon project '\n",
      "                                                'schedule. Address '\n",
      "                                                'interface requirements '\n",
      "                                                'with other work streams.',\n",
      "              'End date of the proposed contract': '12/31/15',\n",
      "              'Headcount of personnel in substantially similar titles within agency': '0',\n",
      "              'Method of solicitation the agency intends to utilize': 'Task '\n",
      "                                                                      'Order',\n",
      "              'Personnel in substantially similar titles within agency': 'None',\n",
      "              'Start date of the proposed contract': '1/1/15'},\n",
      "             {'Agency': 'Department of Information Technology & '\n",
      "                        'Telecommunications',\n",
      "              'Description of services sought': 'FDCAD/CT/GIS Engineer to '\n",
      "                                                'research and evaluate new '\n",
      "                                                'CAD software and related '\n",
      "                                                'solutions for FDNY, '\n",
      "                                                'taking into account '\n",
      "                                                'performance, stability, '\n",
      "                                                'availability, cost- '\n",
      "                                                'efficiency, and end user '\n",
      "                                                'requirements. CAD '\n",
      "                                                'infrastructure, '\n",
      "                                                'configuration, '\n",
      "                                                'testing,\\xa0and reporting.',\n",
      "              'End date of the proposed contract': '8/31/16',\n",
      "              'Headcount of personnel in substantially similar titles within agency': '0',\n",
      "              'Method of solicitation the agency intends to utilize': 'Task '\n",
      "                                                                      'Order',\n",
      "              'Personnel in substantially similar titles within agency': 'None',\n",
      "              'Start date of the proposed contract': '1/1/15'},\n",
      "             {'Agency': 'Department of Information Technology & '\n",
      "                        'Telecommunications',\n",
      "              'Description of services sought': 'Network Subject Matter '\n",
      "                                                'Expert to ensure the '\n",
      "                                                'system design and '\n",
      "                                                'architecture meet the '\n",
      "                                                'core technology '\n",
      "                                                'requirements of the ECTP '\n",
      "                                                'program in the areas of '\n",
      "                                                'networking, facilities '\n",
      "                                                'and infrastructure.',\n",
      "              'End date of the proposed contract': '12/31/15',\n",
      "              'Headcount of personnel in substantially similar titles within agency': '6',\n",
      "              'Method of solicitation the agency intends to utilize': 'Task '\n",
      "                                                                      'Order',\n",
      "              'Personnel in substantially similar titles within agency': 'Network '\n",
      "                                                                         'Engineer',\n",
      "              'Start date of the proposed contract': '1/1/15'},\n",
      "             {'Agency': 'Department of Information Technology & '\n",
      "                        'Telecommunications',\n",
      "              'Description of services sought': 'Network Subject Matter '\n",
      "                                                'Expert to ensure the '\n",
      "                                                'system design and '\n",
      "                                                'architecture meet the '\n",
      "                                                'core technology '\n",
      "                                                'requirements of the ECTP '\n",
      "                                                'program in the areas of '\n",
      "                                                'networking, facilities '\n",
      "                                                'and infrastructure.',\n",
      "              'End date of the proposed contract': '12/31/15',\n",
      "              'Headcount of personnel in substantially similar titles within agency': '6',\n",
      "              'Method of solicitation the agency intends to utilize': 'Task '\n",
      "                                                                      'Order',\n",
      "              'Personnel in substantially similar titles within agency': 'Network '\n",
      "                                                                         'Engineer',\n",
      "              'Start date of the proposed contract': '1/1/15'},\n",
      "             {'Agency': 'Department of Information Technology & '\n",
      "                        'Telecommunications',\n",
      "              'Description of services sought': 'Business Analyst to '\n",
      "                                                'Analyze and design new '\n",
      "                                                'Data Interoperability and '\n",
      "                                                'Architecture',\n",
      "              'End date of the proposed contract': '12/31/15',\n",
      "              'Headcount of personnel in substantially similar titles within agency': '4',\n",
      "              'Method of solicitation the agency intends to utilize': 'Task '\n",
      "                                                                      'Order',\n",
      "              'Personnel in substantially similar titles within agency': 'Business '\n",
      "                                                                         'Analyst',\n",
      "              'Start date of the proposed contract': '1/1/15'},\n",
      "             {'Agency': 'Department of Information Technology & '\n",
      "                        'Telecommunications',\n",
      "              'Description of services sought': 'Business Analyst to '\n",
      "                                                'analyze and design new '\n",
      "                                                'Data Interoperability and '\n",
      "                                                'Architecture',\n",
      "              'Start date of the proposed contract': '1/1/15End dat'}],\n",
      " 'context': 'Notice of Intent to Issue New Solicitation(s) Not Included in '\n",
      "            'FY 2015 Annual Contracting Plan and Schedule',\n",
      " 'preamble': 'NOTICE IS HEREBY GIVENthat the Mayor will be issuing the '\n",
      "             'following solicitation(s) not included in the FY 2015 Annual '\n",
      "             'Contracting Plan and Schedule that is published pursuant to '\n",
      "             'New York City Charter § 312(a):'}\n"
     ]
    },
    {
     "data": {
      "text/html": [
       "<hr />"
      ],
      "text/plain": [
       "<IPython.core.display.HTML object>"
      ]
     },
     "metadata": {},
     "output_type": "display_data"
    },
    {
     "name": "stdout",
     "output_type": "stream",
     "text": [
      "\n",
      "\n",
      "\n"
     ]
    },
    {
     "data": {
      "text/html": [
       "<p>  <u>Notice of Intent to Extend Contract(s) Not Included in FY 2015 Annual Contracting Plan and Schedule</u></p> <p>  &nbsp;</p> <p>  <strong>NOTICE IS HEREBY GIVEN</strong> that the Mayor will be entering into the following extension(s) of (a) contract(s) not included in the FY 2015 Annual Contracting Plan and Schedule that is published pursuant to New York City Charter &sect; 312(a):</p> <p>  &nbsp;</p> <p>  Agency: Department of Information Technology and Telecommunications</p> <p>  FMS Contract #: 20137201489</p> <p>  Vendor: PSI International Inc.</p> <p>  Description of services: Computer Aid Dispatch (CAD) GIS SME to assist with&nbsp; CAD system design, architecture and implementation alternatives, functional considerations and assist with automatic vehicle locator (AVL) unit and personnel tracking options and implementations.</p> <p>  Award method of original contract:&nbsp; Intergovernmental</p> <p>  FMS Contract type: Consultant</p> <p>  End date of original contract: 12/31/14</p> <p>  Method of renewal/extension the agency intends to utilize:&nbsp; Amendment Extension</p> <p>  New start date of the proposed renewed/extended contract: 1/1/15</p> <p>  New end date of the proposed renewed/extended contract: 8/31/16</p> <p>  Modifications sought to the nature of services performed under the contract: None</p> <p>  Reason(s) the agency intends to renew/extend the contract: continuation of services</p> <p>  Personnel in substantially similar titles within agency: None</p> <p>  Headcount of personnel in substantially similar titles within agency: 0</p> <p>  &nbsp;</p> <p>  Agency: Department of Information Technology and Telecommunications</p> <p>  FMS Contract #: 20137202104</p> <p>  Vendor: Comsys Information Technology Services, LLC.</p> <p>  Description of services: Network SME to ensure the system design and architecture meet the core technology requirements of the ECTP program in the areas of networking, facilities and infrastructure.</p> <p>  Award method of original contract: Intergovernmental</p> <p>  FMS Contract type: Consultant</p> <p>  End date of original contract: &nbsp;12/31/14</p> <p>  Method of renewal/extension the agency intends to utilize: Amendment Extension</p> <p>  New start date of the proposed renewed/extended contract: 1/1/15</p> <p>  New end date of the proposed renewed/extended contract:&nbsp; 12/31/15</p> <p>  Modifications sought to the nature of services performed under the contract:&nbsp; None</p> <p>  Reason(s) the agency intends to renew/extend the contract:&nbsp; continuation of services</p> <p>  Personnel in substantially similar titles within agency: Network Engineer</p> <p>  Headcount of personnel in substantially similar titles within agency: 6</p> <p>  &nbsp;</p> <p>  Agency: Department of Information Technology and Telecommunications</p> <p>  FMS Contract #: 20137208433</p> <p>  Vendor:&nbsp; GCOM Software Inc.</p> <p>  Description of services: Public Safety IT System Integration SME responsible for testing, design, integration technical knowledge of specific public safety proprietary systems.</p> <p>  Award method of original contract: Intergovernmental</p> <p>  FMS Contract type: Consultant</p> <p>  End date of original contract: 12/31/14</p> <p>  Method of renewal/extension the agency intends to utilize: Amendment Extension</p> <p>  New start date of the proposed renewed/extended contract: 1/1/15</p> <p>  New end date of the proposed renewed/extended contract: 12/31/15</p> <p>  Modifications sought to the nature of services performed under the contract: None</p> <p>  Reason(s) the agency intends to renew/extend the contract: continuation of services</p> <p>  Personnel in substantially similar titles within agency: None&nbsp;&nbsp;&nbsp;&nbsp;&nbsp;&nbsp;&nbsp;&nbsp;&nbsp;&nbsp;&nbsp;&nbsp;&nbsp;&nbsp;&nbsp;&nbsp;&nbsp;&nbsp;&nbsp;&nbsp;&nbsp;&nbsp;&nbsp;&nbsp;&nbsp;&nbsp;&nbsp;&nbsp;&nbsp;&nbsp;&nbsp;&nbsp;&nbsp;&nbsp;&nbsp;&nbsp;&nbsp;&nbsp;&nbsp;&nbsp;</p> <p>  Headcount of personnel in substantially similar titles within agency: 0</p> <p>  &nbsp;</p> <p>  Agency: Department of Information Technology and Telecommunications</p> <p>  FMS Contract #: 20137201488</p> <p>  Vendor: Comsys Information Technology Services, LLC.</p> <p>  Description of services: Telephony NOC to advise on best practices and emerging technologies in emergency communications, call taking and dispatch and complex telephony systems and directs implementation.</p> <p>  Award method of original contract: Intergovernmental</p> <p>  FMS Contract type: Consultant</p> <p>  End date of original contract: 12/31/14</p> <p>  Method of renewal/extension the agency intends to utilize: Amendment Extension</p> <p>  New start date of the proposed renewed/extended contract: 1/1/15</p> <p>  New end date of the proposed renewed/extended contract: 12/31/15</p> <p>  Modifications sought to the nature of services performed under the contract: none</p> <p>  Reason(s) the agency intends to renew/extend the contract: continuation of services</p> <p>  Personnel in substantially similar titles within agency: None</p> <p>  Headcount of personnel in substantially similar titles within agency:0</p> <p>  &nbsp;</p> <p>  Agency: Department of Information Technology and Telecommunications</p> <p>  FMS Contract #: 20137208206</p> <p>  Vendor: Comsys Information Technology Services, LLC.</p> <p>  Description of services: FDNY Coordinator SME to provide Public Safety Communications subject matter expertise to critical program areas with particular focus on Public Safety Dispatch Systems, including but not limited to Computer Aided Dispatch and Radio Integration of FDNY and EMD systems.</p> <p>  Award method of original contract: Intergovernmental</p> <p>  FMS Contract type: Consultant</p> <p>  End date of original contract: 12/31/14</p> <p>  Method of renewal/extension the agency intends to utilize: Amendment Extension</p> <p>  New start date of the proposed renewed/extended contract: 1/1/15</p> <p>  New end date of the proposed renewed/extended contract:&nbsp; 8/31/16</p> <p>  Modifications sought to the nature of services performed under the contract: none</p> <p>  Reason(s) the agency intends to renew/extend the contract: continuation of services</p> <p>  Personnel in substantially similar titles within agency: None</p> <p>  Headcount of personnel in substantially similar titles within agency: 0</p> <p>  &nbsp;</p> <p>  Agency: Department of Information Technology and Telecommunications</p> <p>  FMS Contract #: 20137208207</p> <p>  Vendor: Comsys Information Technology Services, LLC.</p> <p>  Description of services: Public Safety Operations/SME to provide Public Safety Communications subject matter expertise to critical program areas.</p> <p>  Award method of original contract: Intergovernmental</p> <p>  FMS Contract type: Consultant</p> <p>  End date of original contract: 12/31/14</p> <p>  Method of renewal/extension the agency intends to utilize: Amendment Extension</p> <p>  New start date of the proposed renewed/extended contract: 1/1/15</p> <p>  New end date of the proposed renewed/extended contract:&nbsp; 8/31/16</p> <p>  Modifications sought to the nature of services performed under the contract: None</p> <p>  Reason(s) the agency intends to renew/extend the contract: continuation of services</p> <p>  Personnel in substantially similar titles within agency: None</p> <p>  Headcount of personnel in substantially similar titles within agency: 0</p> <p>  &nbsp;</p> <p>  Agency: Department of Information Technology and Telecommunications</p> <p>  FMS Contract #: 20137208210</p> <p>  Vendor: Comsys Information Technology Services, LLC.</p> <p>  Description of services: Radio (NYPD) SME Design Compliance to analyze NYPD and FDNY radio design documents for projects "
      ],
      "text/plain": [
       "<IPython.core.display.HTML object>"
      ]
     },
     "metadata": {},
     "output_type": "display_data"
    },
    {
     "name": "stdout",
     "output_type": "stream",
     "text": [
      "---\n",
      "{'adverts': [{'Agency': 'Department of Information Technology and '\n",
      "                        'Telecommunications',\n",
      "              'Award method of original contract': 'Intergovernmental',\n",
      "              'Description of services': 'Computer Aid Dispatch (CAD) GIS '\n",
      "                                         'SME to assist with\\xa0 CAD '\n",
      "                                         'system design, architecture and '\n",
      "                                         'implementation alternatives, '\n",
      "                                         'functional considerations and '\n",
      "                                         'assist with automatic vehicle '\n",
      "                                         'locator (AVL) unit and personnel '\n",
      "                                         'tracking options and '\n",
      "                                         'implementations.',\n",
      "              'End date of original contract': '12/31/14',\n",
      "              'FMS Contract #': '20137201489',\n",
      "              'FMS Contract type': 'Consultant',\n",
      "              'Headcount of personnel in substantially similar titles within agency': '0',\n",
      "              'Method of renewal/extension the agency intends to utilize': 'Amendment '\n",
      "                                                                           'Extension',\n",
      "              'Modifications sought to the nature of services performed under the contract': 'None',\n",
      "              'New end date of the proposed renewed/extended contract': '8/31/16',\n",
      "              'New start date of the proposed renewed/extended contract': '1/1/15',\n",
      "              'Personnel in substantially similar titles within agency': 'None',\n",
      "              'Reason(s) the agency intends to renew/extend the contract': 'continuation '\n",
      "                                                                           'of '\n",
      "                                                                           'services',\n",
      "              'Vendor': 'PSI International Inc.'},\n",
      "             {'Agency': 'Department of Information Technology and '\n",
      "                        'Telecommunications',\n",
      "              'Award method of original contract': 'Intergovernmental',\n",
      "              'Description of services': 'Network SME to ensure the system '\n",
      "                                         'design and architecture meet the '\n",
      "                                         'core technology requirements of '\n",
      "                                         'the ECTP program in the areas of '\n",
      "                                         'networking, facilities and '\n",
      "                                         'infrastructure.',\n",
      "              'End date of original contract': '12/31/14',\n",
      "              'FMS Contract #': '20137202104',\n",
      "              'FMS Contract type': 'Consultant',\n",
      "              'Headcount of personnel in substantially similar titles within agency': '6',\n",
      "              'Method of renewal/extension the agency intends to utilize': 'Amendment '\n",
      "                                                                           'Extension',\n",
      "              'Modifications sought to the nature of services performed under the contract': 'None',\n",
      "              'New end date of the proposed renewed/extended contract': '12/31/15',\n",
      "              'New start date of the proposed renewed/extended contract': '1/1/15',\n",
      "              'Personnel in substantially similar titles within agency': 'Network '\n",
      "                                                                         'Engineer',\n",
      "              'Reason(s) the agency intends to renew/extend the contract': 'continuation '\n",
      "                                                                           'of '\n",
      "                                                                           'services',\n",
      "              'Vendor': 'Comsys Information Technology Services, LLC.'},\n",
      "             {'Agency': 'Department of Information Technology and '\n",
      "                        'Telecommunications',\n",
      "              'Award method of original contract': 'Intergovernmental',\n",
      "              'Description of services': 'Public Safety IT System '\n",
      "                                         'Integration SME responsible for '\n",
      "                                         'testing, design, integration '\n",
      "                                         'technical knowledge of specific '\n",
      "                                         'public safety proprietary '\n",
      "                                         'systems.',\n",
      "              'End date of original contract': '12/31/14',\n",
      "              'FMS Contract #': '20137208433',\n",
      "              'FMS Contract type': 'Consultant',\n",
      "              'Headcount of personnel in substantially similar titles within agency': '0',\n",
      "              'Method of renewal/extension the agency intends to utilize': 'Amendment '\n",
      "                                                                           'Extension',\n",
      "              'Modifications sought to the nature of services performed under the contract': 'None',\n",
      "              'New end date of the proposed renewed/extended contract': '12/31/15',\n",
      "              'New start date of the proposed renewed/extended contract': '1/1/15',\n",
      "              'Personnel in substantially similar titles within agency': 'None',\n",
      "              'Reason(s) the agency intends to renew/extend the contract': 'continuation '\n",
      "                                                                           'of '\n",
      "                                                                           'services',\n",
      "              'Vendor': 'GCOM Software Inc.'},\n",
      "             {'Agency': 'Department of Information Technology and '\n",
      "                        'Telecommunications',\n",
      "              'Award method of original contract': 'Intergovernmental',\n",
      "              'Description of services': 'Telephony NOC to advise on best '\n",
      "                                         'practices and emerging '\n",
      "                                         'technologies in emergency '\n",
      "                                         'communications, call taking and '\n",
      "                                         'dispatch and complex telephony '\n",
      "                                         'systems and directs '\n",
      "                                         'implementation.',\n",
      "              'End date of original contract': '12/31/14',\n",
      "              'FMS Contract #': '20137201488',\n",
      "              'FMS Contract type': 'Consultant',\n",
      "              'Headcount of personnel in substantially similar titles within agency': '0',\n",
      "              'Method of renewal/extension the agency intends to utilize': 'Amendment '\n",
      "                                                                           'Extension',\n",
      "              'Modifications sought to the nature of services performed under the contract': 'none',\n",
      "              'New end date of the proposed renewed/extended contract': '12/31/15',\n",
      "              'New start date of the proposed renewed/extended contract': '1/1/15',\n",
      "              'Personnel in substantially similar titles within agency': 'None',\n",
      "              'Reason(s) the agency intends to renew/extend the contract': 'continuation '\n",
      "                                                                           'of '\n",
      "                                                                           'services',\n",
      "              'Vendor': 'Comsys Information Technology Services, LLC.'},\n",
      "             {'Agency': 'Department of Information Technology and '\n",
      "                        'Telecommunications',\n",
      "              'Award method of original contract': 'Intergovernmental',\n",
      "              'Description of services': 'FDNY Coordinator SME to provide '\n",
      "                                         'Public Safety Communications '\n",
      "                                         'subject matter expertise to '\n",
      "                                         'critical program areas with '\n",
      "                                         'particular focus on Public '\n",
      "                                         'Safety Dispatch Systems, '\n",
      "                                         'including but not limited to '\n",
      "                                         'Computer Aided Dispatch and '\n",
      "                                         'Radio Integration of FDNY and '\n",
      "                                         'EMD systems.',\n",
      "              'End date of original contract': '12/31/14',\n",
      "              'FMS Contract #': '20137208206',\n",
      "              'FMS Contract type': 'Consultant',\n",
      "              'Headcount of personnel in substantially similar titles within agency': '0',\n",
      "              'Method of renewal/extension the agency intends to utilize': 'Amendment '\n",
      "                                                                           'Extension',\n",
      "              'Modifications sought to the nature of services performed under the contract': 'none',\n",
      "              'New end date of the proposed renewed/extended contract': '8/31/16',\n",
      "              'New start date of the proposed renewed/extended contract': '1/1/15',\n",
      "              'Personnel in substantially similar titles within agency': 'None',\n",
      "              'Reason(s) the agency intends to renew/extend the contract': 'continuation '\n",
      "                                                                           'of '\n",
      "                                                                           'services',\n",
      "              'Vendor': 'Comsys Information Technology Services, LLC.'},\n",
      "             {'Agency': 'Department of Information Technology and '\n",
      "                        'Telecommunications',\n",
      "              'Award method of original contract': 'Intergovernmental',\n",
      "              'Description of services': 'Public Safety Operations/SME to '\n",
      "                                         'provide Public Safety '\n",
      "                                         'Communications subject matter '\n",
      "                                         'expertise to critical program '\n",
      "                                         'areas.',\n",
      "              'End date of original contract': '12/31/14',\n",
      "              'FMS Contract #': '20137208207',\n",
      "              'FMS Contract type': 'Consultant',\n",
      "              'Headcount of personnel in substantially similar titles within agency': '0',\n",
      "              'Method of renewal/extension the agency intends to utilize': 'Amendment '\n",
      "                                                                           'Extension',\n",
      "              'Modifications sought to the nature of services performed under the contract': 'None',\n",
      "              'New end date of the proposed renewed/extended contract': '8/31/16',\n",
      "              'New start date of the proposed renewed/extended contract': '1/1/15',\n",
      "              'Personnel in substantially similar titles within agency': 'None',\n",
      "              'Reason(s) the agency intends to renew/extend the contract': 'continuation '\n",
      "                                                                           'of '\n",
      "                                                                           'services',\n",
      "              'Vendor': 'Comsys Information Technology Services, LLC.'},\n",
      "             {'Agency': 'Department of Information Technology and '\n",
      "                        'Telecommunications',\n",
      "              'Description of services': 'Radio (NYPD) SME Design '\n",
      "                                         'Compliance to analyze NYPD and '\n",
      "                                         'FDNY radio design documents for '\n",
      "                                         'projects',\n",
      "              'FMS Contract #': '20137208210',\n",
      "              'Vendor': 'Comsys Information Technology Services, LLC.'}],\n",
      " 'context': 'Notice of Intent to Extend Contract(s) Not Included in FY 2015 '\n",
      "            'Annual Contracting Plan and Schedule',\n",
      " 'preamble': 'NOTICE IS HEREBY GIVENthat the Mayor will be entering into the '\n",
      "             'following extension(s) of (a) contract(s) not included in the '\n",
      "             'FY 2015 Annual Contracting Plan and Schedule that is published '\n",
      "             'pursuant to New York City Charter § 312(a):'}\n"
     ]
    },
    {
     "data": {
      "text/html": [
       "<hr />"
      ],
      "text/plain": [
       "<IPython.core.display.HTML object>"
      ]
     },
     "metadata": {},
     "output_type": "display_data"
    },
    {
     "name": "stdout",
     "output_type": "stream",
     "text": [
      "\n",
      "\n",
      "\n"
     ]
    },
    {
     "data": {
      "text/html": [
       "<p> \t&nbsp;</p> <p> \t<u>Notice of Intent to Issue New Solicitation(s) Not Included in FY 2014 Annual Contracting Plan and Schedule </u></p> <p> \t&nbsp;</p> <p> \t<strong>NOTICE IS HEREBY GIVEN</strong> that the Mayor will be issuing the following solicitation(s) not included in the FY 2014 Annual Contracting Plan and Schedule that is published pursuant to New York City Charter &sect; 312(a):</p> <p> \t&nbsp;</p> <p> \tAgency: Department of Design and Construction</p> <p> \tDescription of services sought:&nbsp;&nbsp; Architectural and Engineering Service for Exterior Rehabilitation of Regents Family Residence, Manhattan</p> <p> \tStart date of the proposed contract:&nbsp;&nbsp; June 1, 2015</p> <p> \tEnd date of the proposed contract:&nbsp;&nbsp; June 1, 2018</p> <p> \tMethod of solicitation the agency intends to utilize:&nbsp;&nbsp; Task Order</p> <p> \tPersonnel in substantially similar titles within agency:&nbsp;&nbsp; None</p> <p> \tHeadcount of personnel in substantially similar titles within agency:&nbsp; 0</p> <p> \t&nbsp;</p> <p> \tAgency: Department of Design and Construction</p> <p> \tDescription of services sought:&nbsp; Design Services for Electrical System Upgrade and Emergency Generator at Appellate Court &ndash; 45 Monroe Place</p> <p> \tStart date of the proposed contract:&nbsp;&nbsp; February 1, 2015</p> <p> \tEnd date of the proposed contract:&nbsp;&nbsp; February 1, 2018</p> <p> \tMethod of solicitation the agency intends to utilize:&nbsp;&nbsp;&nbsp; Task Order</p> <p> \tPersonnel in substantially similar titles within agency:&nbsp;&nbsp; None</p> <p> \tHeadcount of personnel in substantially similar titles within agency: &nbsp;0</p> "
      ],
      "text/plain": [
       "<IPython.core.display.HTML object>"
      ]
     },
     "metadata": {},
     "output_type": "display_data"
    },
    {
     "name": "stdout",
     "output_type": "stream",
     "text": [
      "---\n",
      "{'adverts': [{'Agency': 'Department of Design and Construction',\n",
      "              'Description of services sought': 'Architectural and '\n",
      "                                                'Engineering Service for '\n",
      "                                                'Exterior Rehabilitation '\n",
      "                                                'of Regents Family '\n",
      "                                                'Residence, Manhattan',\n",
      "              'End date of the proposed contract': 'June 1, 2018',\n",
      "              'Headcount of personnel in substantially similar titles within agency': '0',\n",
      "              'Method of solicitation the agency intends to utilize': 'Task '\n",
      "                                                                      'Order',\n",
      "              'Personnel in substantially similar titles within agency': 'None',\n",
      "              'Start date of the proposed contract': 'June 1, 2015'},\n",
      "             {'Agency': 'Department of Design and Construction',\n",
      "              'Description of services sought': 'Design Services for '\n",
      "                                                'Electrical System Upgrade '\n",
      "                                                'and Emergency Generator '\n",
      "                                                'at Appellate Court – 45 '\n",
      "                                                'Monroe Place',\n",
      "              'End date of the proposed contract': 'February 1, 2018',\n",
      "              'Headcount of personnel in substantially similar titles within agency': '0',\n",
      "              'Method of solicitation the agency intends to utilize': 'Task '\n",
      "                                                                      'Order',\n",
      "              'Personnel in substantially similar titles within agency': 'None',\n",
      "              'Start date of the proposed contract': 'February 1, 2015'}],\n",
      " 'context': 'Notice of Intent to Issue New Solicitation(s) Not Included in '\n",
      "            'FY 2014 Annual Contracting Plan and Schedule',\n",
      " 'preamble': 'NOTICE IS HEREBY GIVENthat the Mayor will be issuing the '\n",
      "             'following solicitation(s) not included in the FY 2014 Annual '\n",
      "             'Contracting Plan and Schedule that is published pursuant to '\n",
      "             'New York City Charter § 312(a):'}\n"
     ]
    },
    {
     "data": {
      "text/html": [
       "<hr />"
      ],
      "text/plain": [
       "<IPython.core.display.HTML object>"
      ]
     },
     "metadata": {},
     "output_type": "display_data"
    },
    {
     "name": "stdout",
     "output_type": "stream",
     "text": [
      "\n",
      "\n",
      "\n"
     ]
    },
    {
     "data": {
      "text/html": [
       "<p> \t<u>Notice of Intent to Issue New Solicitation(s) Not Included in FY 2015 Annual Contracting Plan and Schedule </u></p> <p> \t&nbsp;</p> <p> \t<strong>NOTICE IS HEREBY GIVEN</strong> that the Mayor will be issuing the following solicitation(s) not included in the FY 2015 Annual Contracting Plan and Schedule that is published pursuant to New York City Charter &sect; 312(a):</p> <p> \t&nbsp;</p> <p> \tAgency: Department of Parks and Recreation</p> <p> \tNature of services sought:&nbsp;Construction Supervision Services in relation to furnishing an artwork&nbsp; in conjunction with the reconstruction of McCarren pool and Bathhouse, as part of the Percent for Art Program, Borough of Brooklyn, as it relates to Project #:&nbsp; B058-114M</p> <p> \tStart Date of the proposed contract:&nbsp; 1/15/15</p> <p> \tEnd Date of the proposed contract:&nbsp; &nbsp;1/15/17</p> <p> \tMethod of Solicitation the Agency intends to utilize:&nbsp; Task Order</p> <p> \tPersonnel in substantially similar titles within Agency:&nbsp; Project Manager, Associate Project Manager, Construction Project Manager, Construction Project Manager Intern, Civil Engineers, Assistant Civil Engineers</p> <p> \tHeadcount of personnel in substantially similar titles within Agency:&nbsp; 139</p> <p> \t&nbsp;</p> "
      ],
      "text/plain": [
       "<IPython.core.display.HTML object>"
      ]
     },
     "metadata": {},
     "output_type": "display_data"
    },
    {
     "name": "stdout",
     "output_type": "stream",
     "text": [
      "---\n",
      "{'adverts': [{'Agency': 'Department of Parks and Recreation',\n",
      "              'End Date of the proposed contract': '1/15/17',\n",
      "              'Headcount of personnel in substantially similar titles within Agency': '139',\n",
      "              'Method of Solicitation the Agency intends to utilize': 'Task '\n",
      "                                                                      'Order',\n",
      "              'Nature of services sought': 'Construction Supervision '\n",
      "                                           'Services in relation to '\n",
      "                                           'furnishing an artwork\\xa0 in '\n",
      "                                           'conjunction with the '\n",
      "                                           'reconstruction of McCarren '\n",
      "                                           'pool and Bathhouse, as part of '\n",
      "                                           'the Percent for Art Program, '\n",
      "                                           'Borough of Brooklyn, as it '\n",
      "                                           'relates to Project #:\\xa0 '\n",
      "                                           'B058-114M',\n",
      "              'Personnel in substantially similar titles within Agency': 'Project '\n",
      "                                                                         'Manager, '\n",
      "                                                                         'Associate '\n",
      "                                                                         'Project '\n",
      "                                                                         'Manager, '\n",
      "                                                                         'Construction '\n",
      "                                                                         'Project '\n",
      "                                                                         'Manager, '\n",
      "                                                                         'Construction '\n",
      "                                                                         'Project '\n",
      "                                                                         'Manager '\n",
      "                                                                         'Intern, '\n",
      "                                                                         'Civil '\n",
      "                                                                         'Engineers, '\n",
      "                                                                         'Assistant '\n",
      "                                                                         'Civil '\n",
      "                                                                         'Engineers',\n",
      "              'Start Date of the proposed contract': '1/15/15'}],\n",
      " 'context': 'Notice of Intent to Issue New Solicitation(s) Not Included in '\n",
      "            'FY 2015 Annual Contracting Plan and Schedule',\n",
      " 'preamble': 'NOTICE IS HEREBY GIVENthat the Mayor will be issuing the '\n",
      "             'following solicitation(s) not included in the FY 2015 Annual '\n",
      "             'Contracting Plan and Schedule that is published pursuant to '\n",
      "             'New York City Charter § 312(a):'}\n"
     ]
    },
    {
     "data": {
      "text/html": [
       "<hr />"
      ],
      "text/plain": [
       "<IPython.core.display.HTML object>"
      ]
     },
     "metadata": {},
     "output_type": "display_data"
    },
    {
     "name": "stdout",
     "output_type": "stream",
     "text": [
      "\n",
      "\n",
      "\n"
     ]
    },
    {
     "data": {
      "text/html": [
       "<p> \t<u>Notice of Intent to Issue New Solicitation(s) Not Included in FY 2015 Annual Contracting Plan and Schedule </u></p> <p> \t&nbsp;</p> <p> \t<strong>NOTICE IS HEREBY GIVEN</strong> that the Mayor will be issuing the following solicitation(s) not included in the FY 2015 Annual Contracting Plan and Schedule that is published pursuant to New York City Charter &sect; 312(a):</p> <p> \t&nbsp;</p> <p> \tAgency: Department of Health and Mental Hygiene</p> <p> \tNature of services sought: Claims Management</p> <p> \tStart date of the proposed contract: 04/01/2015</p> <p> \tEnd date of the proposed contract: 03/31/2017</p> <p> \tMethod of solicitation the agency intends to utilize: Sole Source</p> <p> \tPersonnel in substantially similar titles within agency: None</p> <p> \tHeadcount of personnel in substantially similar titles within agency: 0</p> "
      ],
      "text/plain": [
       "<IPython.core.display.HTML object>"
      ]
     },
     "metadata": {},
     "output_type": "display_data"
    },
    {
     "name": "stdout",
     "output_type": "stream",
     "text": [
      "---\n",
      "{'adverts': [{'Agency': 'Department of Health and Mental Hygiene',\n",
      "              'End date of the proposed contract': '03/31/2017',\n",
      "              'Headcount of personnel in substantially similar titles within agency': '0',\n",
      "              'Method of solicitation the agency intends to utilize': 'Sole '\n",
      "                                                                      'Source',\n",
      "              'Nature of services sought': 'Claims Management',\n",
      "              'Personnel in substantially similar titles within agency': 'None',\n",
      "              'Start date of the proposed contract': '04/01/2015'}],\n",
      " 'context': 'Notice of Intent to Issue New Solicitation(s) Not Included in '\n",
      "            'FY 2015 Annual Contracting Plan and Schedule',\n",
      " 'preamble': 'NOTICE IS HEREBY GIVENthat the Mayor will be issuing the '\n",
      "             'following solicitation(s) not included in the FY 2015 Annual '\n",
      "             'Contracting Plan and Schedule that is published pursuant to '\n",
      "             'New York City Charter § 312(a):'}\n"
     ]
    },
    {
     "data": {
      "text/html": [
       "<hr />"
      ],
      "text/plain": [
       "<IPython.core.display.HTML object>"
      ]
     },
     "metadata": {},
     "output_type": "display_data"
    },
    {
     "name": "stdout",
     "output_type": "stream",
     "text": [
      "\n",
      "\n",
      "\n"
     ]
    },
    {
     "data": {
      "text/html": [
       "<p> \t<u>Notice of Intent to Extend Contract(s) Not Included in FY 2015 Annual Contracting Plan and Schedule</u></p> <p> \t&nbsp;</p> <p> \t<strong>NOTICE IS HEREBY GIVEN</strong> that the Mayor will be entering into the following extension(s) of (a) contract(s) not included in the FY 2015 Annual Contracting Plan and Schedule that is published pursuant to New York City Charter &sect; 312(a):</p> <p> \t&nbsp;</p> <p> \tAgency:&nbsp; Department of Information Technology &amp; Telecommunications</p> <p> \tFMS Contract #: 858 20121429705</p> <p> \tVendor: Accenture Federal Services LLC.</p> <p> \tDescription of services: Systems Integrator Services for HHS Accelerator (Production Services)</p> <p> \tAward method of original contract: Intergovernmental</p> <p> \tFMS contract type: Consultant</p> <p> \tEnd date of original contract: 2/23/2015</p> <p> \tMethod of renewal/extension the agency intends to utilize:&nbsp; Extension</p> <p> \tNew start date of the proposed renewed/extended contract: 2/24/2015</p> <p> \tNew end date of the proposed renewed/extended contract:&nbsp;&nbsp; 2/23/2016</p> <p> \tModifications sought to the nature of services performed under the contract: None</p> <p> \tReason(s) the agency intends to renew/extend the contract: Production Services provided by Accenture will include implementation of fixes for Severity 1-4 issues and enhancements to the system that extend beyond standard maintenance.</p> <p> \tPersonnel in substantially similar titles within agency: Project Manager, Senior Project Manager, Senior Manager, Application Support Manager, Application Support Lead, Systems Administrator, Development Manager, Technical Lead, Java Developer, Analytics Architect Manager, Functional Test Lead, Functional Tester.</p> <p> \tHeadcount of personnel in substantially similar titles within agency: 55</p> "
      ],
      "text/plain": [
       "<IPython.core.display.HTML object>"
      ]
     },
     "metadata": {},
     "output_type": "display_data"
    },
    {
     "name": "stdout",
     "output_type": "stream",
     "text": [
      "---\n",
      "{'adverts': [{'Agency': 'Department of Information Technology & '\n",
      "                        'Telecommunications',\n",
      "              'Award method of original contract': 'Intergovernmental',\n",
      "              'Description of services': 'Systems Integrator Services for '\n",
      "                                         'HHS Accelerator (Production '\n",
      "                                         'Services)',\n",
      "              'End date of original contract': '2/23/2015',\n",
      "              'FMS Contract #': '858 20121429705',\n",
      "              'FMS contract type': 'Consultant',\n",
      "              'Headcount of personnel in substantially similar titles within agency': '55',\n",
      "              'Method of renewal/extension the agency intends to utilize': 'Extension',\n",
      "              'Modifications sought to the nature of services performed under the contract': 'None',\n",
      "              'New end date of the proposed renewed/extended contract': '2/23/2016',\n",
      "              'New start date of the proposed renewed/extended contract': '2/24/2015',\n",
      "              'Personnel in substantially similar titles within agency': 'Project '\n",
      "                                                                         'Manager, '\n",
      "                                                                         'Senior '\n",
      "                                                                         'Project '\n",
      "                                                                         'Manager, '\n",
      "                                                                         'Senior '\n",
      "                                                                         'Manager, '\n",
      "                                                                         'Application '\n",
      "                                                                         'Support '\n",
      "                                                                         'Manager, '\n",
      "                                                                         'Application '\n",
      "                                                                         'Support '\n",
      "                                                                         'Lead, '\n",
      "                                                                         'Systems '\n",
      "                                                                         'Administrator, '\n",
      "                                                                         'Development '\n",
      "                                                                         'Manager, '\n",
      "                                                                         'Technical '\n",
      "                                                                         'Lead, '\n",
      "                                                                         'Java '\n",
      "                                                                         'Developer, '\n",
      "                                                                         'Analytics '\n",
      "                                                                         'Architect '\n",
      "                                                                         'Manager, '\n",
      "                                                                         'Functional '\n",
      "                                                                         'Test '\n",
      "                                                                         'Lead, '\n",
      "                                                                         'Functional '\n",
      "                                                                         'Tester.',\n",
      "              'Reason(s) the agency intends to renew/extend the contract': 'Production '\n",
      "                                                                           'Services '\n",
      "                                                                           'provided '\n",
      "                                                                           'by '\n",
      "                                                                           'Accenture '\n",
      "                                                                           'will '\n",
      "                                                                           'include '\n",
      "                                                                           'implementation '\n",
      "                                                                           'of '\n",
      "                                                                           'fixes '\n",
      "                                                                           'for '\n",
      "                                                                           'Severity '\n",
      "                                                                           '1-4 '\n",
      "                                                                           'issues '\n",
      "                                                                           'and '\n",
      "                                                                           'enhancements '\n",
      "                                                                           'to '\n",
      "                                                                           'the '\n",
      "                                                                           'system '\n",
      "                                                                           'that '\n",
      "                                                                           'extend '\n",
      "                                                                           'beyond '\n",
      "                                                                           'standard '\n",
      "                                                                           'maintenance.',\n",
      "              'Vendor': 'Accenture Federal Services LLC.'}],\n",
      " 'context': 'Notice of Intent to Extend Contract(s) Not Included in FY 2015 '\n",
      "            'Annual Contracting Plan and Schedule',\n",
      " 'preamble': 'NOTICE IS HEREBY GIVENthat the Mayor will be entering into the '\n",
      "             'following extension(s) of (a) contract(s) not included in the '\n",
      "             'FY 2015 Annual Contracting Plan and Schedule that is published '\n",
      "             'pursuant to New York City Charter § 312(a):'}\n"
     ]
    },
    {
     "data": {
      "text/html": [
       "<hr />"
      ],
      "text/plain": [
       "<IPython.core.display.HTML object>"
      ]
     },
     "metadata": {},
     "output_type": "display_data"
    },
    {
     "name": "stdout",
     "output_type": "stream",
     "text": [
      "\n",
      "\n",
      "\n"
     ]
    },
    {
     "data": {
      "text/html": [
       "<p> \t<u>Notice of Intent to Issue New Solicitation(s) Not Included in FY 2015 Annual Contracting Plan and Schedule </u></p> <p> \t&nbsp;</p> <p> \t<strong>NOTICE IS HEREBY GIVEN</strong> that the Mayor will be issuing the following solicitation(s) not included in the FY 2015 Annual Contracting Plan and Schedule that is published pursuant to New York City Charter &sect; 312(a):</p> <p> \t&nbsp;</p> <p> \tAgency: Department of Design and Construction</p> <p> \tDescription of services sought:&nbsp;&nbsp; A&amp;E Services for New York City Police Museum Restoration and Systems Replacement</p> <p> \tStart date of the proposed contract:&nbsp;&nbsp; 4/15/2015</p> <p> \tEnd date of the proposed contract:&nbsp;&nbsp; 4/15/2018</p> <p> \tMethod of solicitation the agency intends to utilize:&nbsp;&nbsp; Task Order</p> <p> \tPersonnel in substantially similar titles within agency:&nbsp;&nbsp; None</p> <p> \tHeadcount of personnel in substantially similar titles within agency:&nbsp; 0&nbsp;&nbsp;&nbsp;&nbsp;&nbsp;&nbsp;&nbsp;</p> "
      ],
      "text/plain": [
       "<IPython.core.display.HTML object>"
      ]
     },
     "metadata": {},
     "output_type": "display_data"
    },
    {
     "name": "stdout",
     "output_type": "stream",
     "text": [
      "---\n",
      "{'adverts': [{'Agency': 'Department of Design and Construction',\n",
      "              'Description of services sought': 'A&E Services for New York '\n",
      "                                                'City Police Museum '\n",
      "                                                'Restoration and Systems '\n",
      "                                                'Replacement',\n",
      "              'End date of the proposed contract': '4/15/2018',\n",
      "              'Headcount of personnel in substantially similar titles within agency': '0',\n",
      "              'Method of solicitation the agency intends to utilize': 'Task '\n",
      "                                                                      'Order',\n",
      "              'Personnel in substantially similar titles within agency': 'None',\n",
      "              'Start date of the proposed contract': '4/15/2015'}],\n",
      " 'context': 'Notice of Intent to Issue New Solicitation(s) Not Included in '\n",
      "            'FY 2015 Annual Contracting Plan and Schedule',\n",
      " 'preamble': 'NOTICE IS HEREBY GIVENthat the Mayor will be issuing the '\n",
      "             'following solicitation(s) not included in the FY 2015 Annual '\n",
      "             'Contracting Plan and Schedule that is published pursuant to '\n",
      "             'New York City Charter § 312(a):'}\n"
     ]
    },
    {
     "data": {
      "text/html": [
       "<hr />"
      ],
      "text/plain": [
       "<IPython.core.display.HTML object>"
      ]
     },
     "metadata": {},
     "output_type": "display_data"
    },
    {
     "name": "stdout",
     "output_type": "stream",
     "text": [
      "\n",
      "\n",
      "\n"
     ]
    },
    {
     "data": {
      "text/html": [
       "<p> \t<u>Notice of Intent to Extend Contract(s) Not Included in FY 2015 Annual Contracting Plan and Schedule</u></p> <p> \t&nbsp;</p> <p> \t<strong>NOTICE IS HEREBY GIVEN</strong> that the Mayor will be entering into the following extension(s) of (a) contract(s) not included in the FY 2015 Annual Contracting Plan and Schedule that is published pursuant to New York City Charter &sect; 312(a):</p> <p> \t&nbsp;</p> <p> \tAgency: Department of Parks &amp; Recreation</p> <p> \tVendor: Drexel University</p> <p> \tNature&nbsp;of services: St. Mary&rsquo;s Green Roof Monitoring</p> <p> \tMethod of renewal/extension the agency intends to utilize: Amendment</p> <p> \tNew start date of the proposed renewed/extended contract: 7/1/2014</p> <p> \tNew end date of the proposed renewed/extended contract: 5/16/2020</p> <p> \tModifications sought to the nature of services performed under the contract: None</p> <p> \tReason(s) the agency intends to renew/extend the contract: Allow additional time to complete the project.</p> <p> \tPersonnel in substantially similar titles within agency: None</p> <p> \tHeadcount of personnel in substantially similar titles within agency: 0</p> "
      ],
      "text/plain": [
       "<IPython.core.display.HTML object>"
      ]
     },
     "metadata": {},
     "output_type": "display_data"
    },
    {
     "name": "stdout",
     "output_type": "stream",
     "text": [
      "---\n",
      "{'adverts': [{'Agency': 'Department of Parks & Recreation',\n",
      "              'Headcount of personnel in substantially similar titles within agency': '0',\n",
      "              'Method of renewal/extension the agency intends to utilize': 'Amendment',\n",
      "              'Modifications sought to the nature of services performed under the contract': 'None',\n",
      "              'Nature\\xa0of services': 'St. Mary’s Green Roof Monitoring',\n",
      "              'New end date of the proposed renewed/extended contract': '5/16/2020',\n",
      "              'New start date of the proposed renewed/extended contract': '7/1/2014',\n",
      "              'Personnel in substantially similar titles within agency': 'None',\n",
      "              'Reason(s) the agency intends to renew/extend the contract': 'Allow '\n",
      "                                                                           'additional '\n",
      "                                                                           'time '\n",
      "                                                                           'to '\n",
      "                                                                           'complete '\n",
      "                                                                           'the '\n",
      "                                                                           'project.',\n",
      "              'Vendor': 'Drexel University'}],\n",
      " 'context': 'Notice of Intent to Extend Contract(s) Not Included in FY 2015 '\n",
      "            'Annual Contracting Plan and Schedule',\n",
      " 'preamble': 'NOTICE IS HEREBY GIVENthat the Mayor will be entering into the '\n",
      "             'following extension(s) of (a) contract(s) not included in the '\n",
      "             'FY 2015 Annual Contracting Plan and Schedule that is published '\n",
      "             'pursuant to New York City Charter § 312(a):'}\n"
     ]
    },
    {
     "data": {
      "text/html": [
       "<hr />"
      ],
      "text/plain": [
       "<IPython.core.display.HTML object>"
      ]
     },
     "metadata": {},
     "output_type": "display_data"
    },
    {
     "name": "stdout",
     "output_type": "stream",
     "text": [
      "\n",
      "\n",
      "\n"
     ]
    },
    {
     "data": {
      "text/html": [
       "<p> \t<u>Notice of Intent to Extend Contract(s) Not Included in FY 2015 Annual Contracting Plan and Schedule</u></p> <p> \t&nbsp;</p> <p> \t<strong>NOTICE IS HEREBY GIVEN</strong> that the Mayor will be entering into the following extension(s) of (a) contract(s) not included in the FY 2015 Annual Contracting Plan and Schedule that is published pursuant to New York City Charter &sect; 312(a):</p> <p> \t&nbsp;</p> <p> \tAgency: Office of Labor Relations</p> <p> \tVendor: Aon Consulting</p> <p> \tNature of services: Actuarial and Benefits Consulting</p> <p> \tEnd date of original contract: 11/30/2014</p> <p> \tMethod of renewal agency intends to utilize:&nbsp;Renewal</p> <p> \tNew start date of the proposed renewed contract: 12/01/2014</p> <p> \tNew end date of the proposed renewed contract: 05 31/2015</p> <p> \tModifications sought to nature of services performed under the contract: None</p> <p> \tReason(s) the agency intends to renew the contract: Agency anticipates need for services for six months while preparing contract for new Actuary</p> <p> \tPersonnel in substantially similar titles within Agency: None</p> <p> \tHeadcount of personnel in substantially similar titles: 0</p> "
      ],
      "text/plain": [
       "<IPython.core.display.HTML object>"
      ]
     },
     "metadata": {},
     "output_type": "display_data"
    },
    {
     "name": "stdout",
     "output_type": "stream",
     "text": [
      "---\n",
      "{'adverts': [{'Agency': 'Office of Labor Relations',\n",
      "              'End date of original contract': '11/30/2014',\n",
      "              'Headcount of personnel in substantially similar titles': '0',\n",
      "              'Method of renewal agency intends to utilize': 'Renewal',\n",
      "              'Modifications sought to nature of services performed under the contract': 'None',\n",
      "              'Nature of services': 'Actuarial and Benefits Consulting',\n",
      "              'New end date of the proposed renewed contract': '05 31/2015',\n",
      "              'New start date of the proposed renewed contract': '12/01/2014',\n",
      "              'Personnel in substantially similar titles within Agency': 'None',\n",
      "              'Reason(s) the agency intends to renew the contract': 'Agency '\n",
      "                                                                    'anticipates '\n",
      "                                                                    'need '\n",
      "                                                                    'for '\n",
      "                                                                    'services '\n",
      "                                                                    'for '\n",
      "                                                                    'six '\n",
      "                                                                    'months '\n",
      "                                                                    'while '\n",
      "                                                                    'preparing '\n",
      "                                                                    'contract '\n",
      "                                                                    'for '\n",
      "                                                                    'new '\n",
      "                                                                    'Actuary',\n",
      "              'Vendor': 'Aon Consulting'}],\n",
      " 'context': 'Notice of Intent to Extend Contract(s) Not Included in FY 2015 '\n",
      "            'Annual Contracting Plan and Schedule',\n",
      " 'preamble': 'NOTICE IS HEREBY GIVENthat the Mayor will be entering into the '\n",
      "             'following extension(s) of (a) contract(s) not included in the '\n",
      "             'FY 2015 Annual Contracting Plan and Schedule that is published '\n",
      "             'pursuant to New York City Charter § 312(a):'}\n"
     ]
    },
    {
     "data": {
      "text/html": [
       "<hr />"
      ],
      "text/plain": [
       "<IPython.core.display.HTML object>"
      ]
     },
     "metadata": {},
     "output_type": "display_data"
    },
    {
     "name": "stdout",
     "output_type": "stream",
     "text": [
      "\n",
      "\n",
      "\n"
     ]
    },
    {
     "data": {
      "text/html": [
       "<p> \t<u>Notice of Intent to Issue New Solicitation(s) Not Included in FY 2015 Annual Contracting Plan and Schedule </u></p> <p> \t&nbsp;</p> <p> \t<strong>NOTICE IS HEREBY GIVEN</strong> that the Mayor will be issuing the following solicitation(s) not included in the FY 2015 Annual Contracting Plan and Schedule that is published pursuant to New York City Charter &sect; 312(a):</p> <p> \t&nbsp;</p> <p> \tAgency: Human Resources Administration</p> <p> \tDescription of services sought: Equipment Pickup &amp; Delivery Services</p> <p> \tStart date of the proposed contract: 11/01/15</p> <p> \tEnd date of the proposed contract: 10/31/18</p> <p> \tMethod of solicitation the agency intends to utilize: Competitive Sealed Bid</p> <p> \tPersonnel in substantially similar titles within agency: None</p> <p> \tHeadcount of personnel in substantially similar titles within agency: 0</p> <p> \t&nbsp;</p> <p> \t&nbsp;</p> <p> \tAgency: Human Resources Administration</p> <p> \tDescription of services sought: Mail Pickup &amp; Delivery Services</p> <p> \tStart date of the proposed contract: 08/01/15</p> <p> \tEnd date of the proposed contract: 07/31/18</p> <p> \tMethod of solicitation the agency intends to utilize: Competitive Sealed Bid</p> <p> \tProcurement Personnel in substantially similar titles within agency: None</p> <p> \tHeadcount of personnel in substantially similar titles within agency: 0</p> <p> \t&nbsp;</p> "
      ],
      "text/plain": [
       "<IPython.core.display.HTML object>"
      ]
     },
     "metadata": {},
     "output_type": "display_data"
    },
    {
     "name": "stdout",
     "output_type": "stream",
     "text": [
      "---\n",
      "{'adverts': [{'Agency': 'Human Resources Administration',\n",
      "              'Description of services sought': 'Equipment Pickup & '\n",
      "                                                'Delivery Services',\n",
      "              'End date of the proposed contract': '10/31/18',\n",
      "              'Headcount of personnel in substantially similar titles within agency': '0',\n",
      "              'Method of solicitation the agency intends to utilize': 'Competitive '\n",
      "                                                                      'Sealed '\n",
      "                                                                      'Bid',\n",
      "              'Personnel in substantially similar titles within agency': 'None',\n",
      "              'Start date of the proposed contract': '11/01/15'},\n",
      "             {'Agency': 'Human Resources Administration',\n",
      "              'Description of services sought': 'Mail Pickup & Delivery '\n",
      "                                                'Services',\n",
      "              'End date of the proposed contract': '07/31/18',\n",
      "              'Headcount of personnel in substantially similar titles within agency': '0',\n",
      "              'Method of solicitation the agency intends to utilize': 'Competitive '\n",
      "                                                                      'Sealed '\n",
      "                                                                      'Bid',\n",
      "              'Procurement Personnel in substantially similar titles within agency': 'None',\n",
      "              'Start date of the proposed contract': '08/01/15'}],\n",
      " 'context': 'Notice of Intent to Issue New Solicitation(s) Not Included in '\n",
      "            'FY 2015 Annual Contracting Plan and Schedule',\n",
      " 'preamble': 'NOTICE IS HEREBY GIVENthat the Mayor will be issuing the '\n",
      "             'following solicitation(s) not included in the FY 2015 Annual '\n",
      "             'Contracting Plan and Schedule that is published pursuant to '\n",
      "             'New York City Charter § 312(a):'}\n"
     ]
    },
    {
     "data": {
      "text/html": [
       "<hr />"
      ],
      "text/plain": [
       "<IPython.core.display.HTML object>"
      ]
     },
     "metadata": {},
     "output_type": "display_data"
    },
    {
     "name": "stdout",
     "output_type": "stream",
     "text": [
      "\n",
      "\n",
      "\n"
     ]
    },
    {
     "data": {
      "text/html": [
       "<p> \t<u>Notice of Intent to Issue New Solicitation(s) Not Included in FY 2015 Annual Contracting Plan and Schedule </u></p> <p> \t&nbsp;</p> <p> \t<strong>NOTICE IS HEREBY GIVEN</strong> that the Mayor will be issuing the following solicitation(s) not included in the FY 2015 Annual Contracting Plan and Schedule that is published pursuant to New York City Charter &sect; 312(a):</p> <p> \t&nbsp;</p> <p> \tAgency: Department of Parks and Recreation</p> <p> \tNature of Services Sought:&nbsp; On-Call Master Agreement for Construction Management Services for Projects Greater Than $3,000,000</p> <p> \tStart Date:&nbsp; 4/1/2015</p> <p> \tEnd Date:&nbsp;&nbsp; 3/30/2018</p> <p> \tMethod of Solicitation the Agency intends to utilize:&nbsp; Task Order</p> <p> \tPersonnel in substantially similar titles within Agency:&nbsp; Project Manager, Associate Project Manager, Construction Project Manager, Construction Project Manager Intern</p> <p> \tHeadcount of personnel in substantially similar titles within Agency:&nbsp; 127</p> "
      ],
      "text/plain": [
       "<IPython.core.display.HTML object>"
      ]
     },
     "metadata": {},
     "output_type": "display_data"
    },
    {
     "name": "stdout",
     "output_type": "stream",
     "text": [
      "---\n",
      "{'adverts': [{'Agency': 'Department of Parks and Recreation',\n",
      "              'End Date': '3/30/2018',\n",
      "              'Headcount of personnel in substantially similar titles within Agency': '127',\n",
      "              'Method of Solicitation the Agency intends to utilize': 'Task '\n",
      "                                                                      'Order',\n",
      "              'Nature of Services Sought': 'On-Call Master Agreement for '\n",
      "                                           'Construction Management '\n",
      "                                           'Services for Projects Greater '\n",
      "                                           'Than $3,000,000',\n",
      "              'Personnel in substantially similar titles within Agency': 'Project '\n",
      "                                                                         'Manager, '\n",
      "                                                                         'Associate '\n",
      "                                                                         'Project '\n",
      "                                                                         'Manager, '\n",
      "                                                                         'Construction '\n",
      "                                                                         'Project '\n",
      "                                                                         'Manager, '\n",
      "                                                                         'Construction '\n",
      "                                                                         'Project '\n",
      "                                                                         'Manager '\n",
      "                                                                         'Intern',\n",
      "              'Start Date': '4/1/2015'}],\n",
      " 'context': 'Notice of Intent to Issue New Solicitation(s) Not Included in '\n",
      "            'FY 2015 Annual Contracting Plan and Schedule',\n",
      " 'preamble': 'NOTICE IS HEREBY GIVENthat the Mayor will be issuing the '\n",
      "             'following solicitation(s) not included in the FY 2015 Annual '\n",
      "             'Contracting Plan and Schedule that is published pursuant to '\n",
      "             'New York City Charter § 312(a):'}\n"
     ]
    },
    {
     "data": {
      "text/html": [
       "<hr />"
      ],
      "text/plain": [
       "<IPython.core.display.HTML object>"
      ]
     },
     "metadata": {},
     "output_type": "display_data"
    },
    {
     "name": "stdout",
     "output_type": "stream",
     "text": [
      "\n",
      "\n",
      "\n"
     ]
    },
    {
     "data": {
      "text/html": [
       "<p> \t<u>Notice of Intent to Issue New Solicitation(s) Not Included in FY 2015 Annual Contracting Plan and Schedule </u></p> <p> \t&nbsp;</p> <p> \t<strong>NOTICE IS HEREBY GIVEN</strong> that the Mayor will be issuing the following solicitation(s) not included in the FY 2015 Annual Contracting Plan and Schedule that is published pursuant to New York City Charter &sect; 312(a):</p> <p> \t&nbsp;</p> <p> \tAgency: Administration for Children Services</p> <p> \tDescription of services sought: Online Child Assessment GOLD portfolios</p> <p> \tStart date of the proposed contract: 10/01/14</p> <p> \tEnd date of the proposed contract: 9/30/15</p> <p> \tMethod of solicitation the agency intends to utilize: Negotiated Acquisition Extension</p> <p> \tPersonnel in substantially similar titles within agency: None</p> <p> \tHeadcount of personnel in substantially similar titles within agency: 0</p> "
      ],
      "text/plain": [
       "<IPython.core.display.HTML object>"
      ]
     },
     "metadata": {},
     "output_type": "display_data"
    },
    {
     "name": "stdout",
     "output_type": "stream",
     "text": [
      "---\n",
      "{'adverts': [{'Agency': 'Administration for Children Services',\n",
      "              'Description of services sought': 'Online Child Assessment '\n",
      "                                                'GOLD portfolios',\n",
      "              'End date of the proposed contract': '9/30/15',\n",
      "              'Headcount of personnel in substantially similar titles within agency': '0',\n",
      "              'Method of solicitation the agency intends to utilize': 'Negotiated '\n",
      "                                                                      'Acquisition '\n",
      "                                                                      'Extension',\n",
      "              'Personnel in substantially similar titles within agency': 'None',\n",
      "              'Start date of the proposed contract': '10/01/14'}],\n",
      " 'context': 'Notice of Intent to Issue New Solicitation(s) Not Included in '\n",
      "            'FY 2015 Annual Contracting Plan and Schedule',\n",
      " 'preamble': 'NOTICE IS HEREBY GIVENthat the Mayor will be issuing the '\n",
      "             'following solicitation(s) not included in the FY 2015 Annual '\n",
      "             'Contracting Plan and Schedule that is published pursuant to '\n",
      "             'New York City Charter § 312(a):'}\n"
     ]
    },
    {
     "data": {
      "text/html": [
       "<hr />"
      ],
      "text/plain": [
       "<IPython.core.display.HTML object>"
      ]
     },
     "metadata": {},
     "output_type": "display_data"
    },
    {
     "name": "stdout",
     "output_type": "stream",
     "text": [
      "\n",
      "\n",
      "\n"
     ]
    },
    {
     "data": {
      "text/html": [
       "<p> \t<u>Notice of Intent to Issue New Solicitation(s) Not Included in FY 2015 Annual Contracting Plan and Schedule </u></p> <p> \t&nbsp;</p> <p> \t<strong>NOTICE IS HEREBY GIVEN</strong> that the Mayor will be issuing the following solicitation(s) not included in the FY 2015 Annual Contracting Plan and Schedule that is published pursuant to New York City Charter &sect; 312(a):</p> <p> \t&nbsp;</p> <p> \tAgency: Department of Information Technology &amp; Telecommunications</p> <p> \tNature of services sought:&nbsp; Manage the development and communications of the integration strategy, service and component communication requirements; design integration architecture for security, performance, scalability and fault-tolerance requirements; and other special integration architecture initiatives for&nbsp; the ECTP System.</p> <p> \tStart date of the proposed contract: 2/15/15</p> <p> \tEnd date of the proposed contract:&nbsp; 12/31/15</p> <p> \tMethod of solicitation the agency intends to utilize:&nbsp; Task Order</p> <p> \tPersonnel in substantially similar titles within agency: None</p> <p> \tHeadcount of personnel in substantially similar titles within agency:&nbsp; 0</p> <p> \t&nbsp;</p> <p> \tAgency: Department of Information Technology &amp; Telecommunications</p> <p> \tNature of services sought: Network Subject Matter Expert to ensure the system design and architecture meet the core technology requirements of the ECTP program in the areas of networking, facilities and infrastructure.</p> <p> \tStart date of the proposed contract: 1/1/15</p> <p> \tEnd date of the proposed contract: 12/31/15</p> <p> \tMethod of solicitation the agency intends to utilize:&nbsp; Task Order</p> <p> \tPersonnel in substantially similar titles within agency:&nbsp; Network Engineer</p> <p> \tHeadcount of personnel in substantially similar titles within agency:&nbsp; 6</p> <p> \t&nbsp;</p> "
      ],
      "text/plain": [
       "<IPython.core.display.HTML object>"
      ]
     },
     "metadata": {},
     "output_type": "display_data"
    },
    {
     "name": "stdout",
     "output_type": "stream",
     "text": [
      "---\n",
      "{'adverts': [{'Agency': 'Department of Information Technology & '\n",
      "                        'Telecommunications',\n",
      "              'End date of the proposed contract': '12/31/15',\n",
      "              'Headcount of personnel in substantially similar titles within agency': '0',\n",
      "              'Method of solicitation the agency intends to utilize': 'Task '\n",
      "                                                                      'Order',\n",
      "              'Nature of services sought': 'Manage the development and '\n",
      "                                           'communications of the '\n",
      "                                           'integration strategy, service '\n",
      "                                           'and component communication '\n",
      "                                           'requirements; design '\n",
      "                                           'integration architecture for '\n",
      "                                           'security, performance, '\n",
      "                                           'scalability and '\n",
      "                                           'fault-tolerance requirements; '\n",
      "                                           'and other special integration '\n",
      "                                           'architecture initiatives '\n",
      "                                           'for\\xa0 the ECTP System.',\n",
      "              'Personnel in substantially similar titles within agency': 'None',\n",
      "              'Start date of the proposed contract': '2/15/15'},\n",
      "             {'Agency': 'Department of Information Technology & '\n",
      "                        'Telecommunications',\n",
      "              'End date of the proposed contract': '12/31/15',\n",
      "              'Headcount of personnel in substantially similar titles within agency': '6',\n",
      "              'Method of solicitation the agency intends to utilize': 'Task '\n",
      "                                                                      'Order',\n",
      "              'Nature of services sought': 'Network Subject Matter Expert '\n",
      "                                           'to ensure the system design '\n",
      "                                           'and architecture meet the core '\n",
      "                                           'technology requirements of the '\n",
      "                                           'ECTP program in the areas of '\n",
      "                                           'networking, facilities and '\n",
      "                                           'infrastructure.',\n",
      "              'Personnel in substantially similar titles within agency': 'Network '\n",
      "                                                                         'Engineer',\n",
      "              'Start date of the proposed contract': '1/1/15'}],\n",
      " 'context': 'Notice of Intent to Issue New Solicitation(s) Not Included in '\n",
      "            'FY 2015 Annual Contracting Plan and Schedule',\n",
      " 'preamble': 'NOTICE IS HEREBY GIVENthat the Mayor will be issuing the '\n",
      "             'following solicitation(s) not included in the FY 2015 Annual '\n",
      "             'Contracting Plan and Schedule that is published pursuant to '\n",
      "             'New York City Charter § 312(a):'}\n"
     ]
    },
    {
     "data": {
      "text/html": [
       "<hr />"
      ],
      "text/plain": [
       "<IPython.core.display.HTML object>"
      ]
     },
     "metadata": {},
     "output_type": "display_data"
    },
    {
     "name": "stdout",
     "output_type": "stream",
     "text": [
      "\n",
      "\n",
      "\n"
     ]
    },
    {
     "data": {
      "text/html": [
       "<p> \t<u>Notice of Intent to Issue New Solicitation(s) Not Included in FY 2015 Annual Contracting Plan and Schedule </u></p> <p> \t&nbsp;</p> <p> \t<strong>NOTICE IS HEREBY GIVEN</strong> that the Mayor will be issuing the following solicitation(s) not included in the FY 2015 Annual Contracting Plan and Schedule that is published pursuant to New York City Charter &sect; 312(a):</p> <p> \t&nbsp;</p> <p> \tAgency: Department of Parks and Recreation</p> <p> \t&nbsp;</p> <p> \tNature of services sought:&nbsp; Landscape Design Services for the construction of synthetic turf</p> <p> \tfields, located at Maurice Park Ballfields between 54th Avenue and Borden Avenue, and Maurice and 63rd Street, Borough of Queens</p> <p> \t&nbsp;</p> <p> \tStart date of the proposed contract:&nbsp; 3/30/2015</p> <p> \tEnd date of the proposed contract:&nbsp; 9/30/2015</p> <p> \t&nbsp;</p> <p> \tMethod of Solicitation the Agency intends to utilize:&nbsp; Task Order</p> <p> \t&nbsp;</p> <p> \tPersonnel in substantially similar titles within Agency: Landscape Architect, Assistant</p> <p> \tLandscape Architect, Landscape Architect Intern, Project Manager, Associate Project Manager</p> <p> \t&nbsp;</p> <p> \tHeadcount of personnel in substantially similar titles within Agency: 134</p> "
      ],
      "text/plain": [
       "<IPython.core.display.HTML object>"
      ]
     },
     "metadata": {},
     "output_type": "display_data"
    },
    {
     "name": "stdout",
     "output_type": "stream",
     "text": [
      "---\n",
      "{'adverts': [{'Agency': 'Department of Parks and Recreation',\n",
      "              'End date of the proposed contract': '9/30/2015',\n",
      "              'Headcount of personnel in substantially similar titles within Agency': '134',\n",
      "              'Method of Solicitation the Agency intends to utilize': 'Task '\n",
      "                                                                      'Order',\n",
      "              'Nature of services sought': 'Landscape Design Services for '\n",
      "                                           'the construction of synthetic '\n",
      "                                           'turffields, located at Maurice '\n",
      "                                           'Park Ballfields between 54th '\n",
      "                                           'Avenue and Borden Avenue, and '\n",
      "                                           'Maurice and 63rd Street, '\n",
      "                                           'Borough of Queens',\n",
      "              'Personnel in substantially similar titles within Agency': 'Landscape '\n",
      "                                                                         'Architect, '\n",
      "                                                                         'AssistantLandscape '\n",
      "                                                                         'Architect, '\n",
      "                                                                         'Landscape '\n",
      "                                                                         'Architect '\n",
      "                                                                         'Intern, '\n",
      "                                                                         'Project '\n",
      "                                                                         'Manager, '\n",
      "                                                                         'Associate '\n",
      "                                                                         'Project '\n",
      "                                                                         'Manager',\n",
      "              'Start date of the proposed contract': '3/30/2015'}],\n",
      " 'context': 'Notice of Intent to Issue New Solicitation(s) Not Included in '\n",
      "            'FY 2015 Annual Contracting Plan and Schedule',\n",
      " 'preamble': 'NOTICE IS HEREBY GIVENthat the Mayor will be issuing the '\n",
      "             'following solicitation(s) not included in the FY 2015 Annual '\n",
      "             'Contracting Plan and Schedule that is published pursuant to '\n",
      "             'New York City Charter § 312(a):'}\n"
     ]
    },
    {
     "data": {
      "text/html": [
       "<hr />"
      ],
      "text/plain": [
       "<IPython.core.display.HTML object>"
      ]
     },
     "metadata": {},
     "output_type": "display_data"
    },
    {
     "name": "stdout",
     "output_type": "stream",
     "text": [
      "\n",
      "\n",
      "\n"
     ]
    },
    {
     "data": {
      "text/html": [
       "<p> \t<u>Notice of Intent to Extend Contract(s) Not Included in FY 2015 Annual Contracting Plan and Schedule</u></p> <p> \t&nbsp;</p> <p> \t<strong>NOTICE IS HEREBY GIVEN</strong> that the Mayor will be entering into the following extension(s) of (a) contract(s) not included in the FY 2015 Annual Contracting Plan and Schedule that is published pursuant to New York City Charter &sect; 312(a):</p> <p> \t&nbsp;</p> <p> \tAgency: Department of Environmental Protection</p> <p> \tVendor:&nbsp; Watershed Agricultural Council, Inc.</p> <p> \tNature of services:&nbsp; Development of the Whole Farm Easement Program in the New York City Watershed</p> <p> \tMethod of renewal/extension the agency intends to utilize: Amendment Extension</p> <p> \tNew start date of the proposed renewed/extended contract: 09/15/13</p> <p> \tNew end date of the proposed renewed/extended contract:&nbsp;&nbsp; 09/15/15</p> <p> \tModifications sought to the nature of services performed under the contract:&nbsp;&nbsp;&nbsp; none</p> <p> \tReason(s) the agency intends to renew/extend the contract: Extension of time is to allow for the continuation of the Whole Farm Easement Program and full expenditure of contract funds earmarked for the acquisition of conservation easements pursuant to the FAD.&nbsp;</p> <p> \tPersonnel in substantially similar titles within agency:&nbsp;&nbsp; None</p> <p> \tHeadcount of personnel in substantially similar titles within agency: 0</p> "
      ],
      "text/plain": [
       "<IPython.core.display.HTML object>"
      ]
     },
     "metadata": {},
     "output_type": "display_data"
    },
    {
     "name": "stdout",
     "output_type": "stream",
     "text": [
      "---\n",
      "{'adverts': [{'Agency': 'Department of Environmental Protection',\n",
      "              'Headcount of personnel in substantially similar titles within agency': '0',\n",
      "              'Method of renewal/extension the agency intends to utilize': 'Amendment '\n",
      "                                                                           'Extension',\n",
      "              'Modifications sought to the nature of services performed under the contract': 'none',\n",
      "              'Nature of services': 'Development of the Whole Farm '\n",
      "                                    'Easement Program in the New York City '\n",
      "                                    'Watershed',\n",
      "              'New end date of the proposed renewed/extended contract': '09/15/15',\n",
      "              'New start date of the proposed renewed/extended contract': '09/15/13',\n",
      "              'Personnel in substantially similar titles within agency': 'None',\n",
      "              'Reason(s) the agency intends to renew/extend the contract': 'Extension '\n",
      "                                                                           'of '\n",
      "                                                                           'time '\n",
      "                                                                           'is '\n",
      "                                                                           'to '\n",
      "                                                                           'allow '\n",
      "                                                                           'for '\n",
      "                                                                           'the '\n",
      "                                                                           'continuation '\n",
      "                                                                           'of '\n",
      "                                                                           'the '\n",
      "                                                                           'Whole '\n",
      "                                                                           'Farm '\n",
      "                                                                           'Easement '\n",
      "                                                                           'Program '\n",
      "                                                                           'and '\n",
      "                                                                           'full '\n",
      "                                                                           'expenditure '\n",
      "                                                                           'of '\n",
      "                                                                           'contract '\n",
      "                                                                           'funds '\n",
      "                                                                           'earmarked '\n",
      "                                                                           'for '\n",
      "                                                                           'the '\n",
      "                                                                           'acquisition '\n",
      "                                                                           'of '\n",
      "                                                                           'conservation '\n",
      "                                                                           'easements '\n",
      "                                                                           'pursuant '\n",
      "                                                                           'to '\n",
      "                                                                           'the '\n",
      "                                                                           'FAD.',\n",
      "              'Vendor': 'Watershed Agricultural Council, Inc.'}],\n",
      " 'context': 'Notice of Intent to Extend Contract(s) Not Included in FY 2015 '\n",
      "            'Annual Contracting Plan and Schedule',\n",
      " 'preamble': 'NOTICE IS HEREBY GIVENthat the Mayor will be entering into the '\n",
      "             'following extension(s) of (a) contract(s) not included in the '\n",
      "             'FY 2015 Annual Contracting Plan and Schedule that is published '\n",
      "             'pursuant to New York City Charter § 312(a):'}\n"
     ]
    },
    {
     "data": {
      "text/html": [
       "<hr />"
      ],
      "text/plain": [
       "<IPython.core.display.HTML object>"
      ]
     },
     "metadata": {},
     "output_type": "display_data"
    },
    {
     "name": "stdout",
     "output_type": "stream",
     "text": [
      "\n",
      "\n",
      "\n"
     ]
    },
    {
     "data": {
      "text/html": [
       "<p>  <u>Notice of Intent to Issue New Solicitation(s) Not Included in FY 2015 Annual Contracting Plan and Schedule </u></p> <p>  &nbsp;</p> <p>  <strong>NOTICE IS HEREBY GIVEN</strong> that the Mayor will be issuing the following solicitation(s) not included in the FY 2015 Annual Contracting Plan and Schedule that is published pursuant to New York City Charter &sect; 312(a):</p> <p>  &nbsp;</p> <p>  Agency: Taxi and Limousine Commission</p> <p>  Description of services sought: New York State Vehicle Inspection Program Two (NYSVIP2) Network, Warranty, and Training Services</p> <p>  Start date of the proposed contract: 7/1/14</p> <p>  End date of the proposed contract: 11/30/20</p> <p>  Method of solicitation the agency intends to utilize: Required Source</p> <p>  Personnel in substantially similar titles within agency: none&nbsp;&nbsp;</p> <p>  Headcount of personnel in substantially similar titles within agency: 0</p> "
      ],
      "text/plain": [
       "<IPython.core.display.HTML object>"
      ]
     },
     "metadata": {},
     "output_type": "display_data"
    },
    {
     "name": "stdout",
     "output_type": "stream",
     "text": [
      "---\n",
      "{'adverts': [{'Agency': 'Taxi and Limousine Commission',\n",
      "              'Description of services sought': 'New York State Vehicle '\n",
      "                                                'Inspection Program Two '\n",
      "                                                '(NYSVIP2) Network, '\n",
      "                                                'Warranty, and Training '\n",
      "                                                'Services',\n",
      "              'End date of the proposed contract': '11/30/20',\n",
      "              'Headcount of personnel in substantially similar titles within agency': '0',\n",
      "              'Method of solicitation the agency intends to utilize': 'Required '\n",
      "                                                                      'Source',\n",
      "              'Personnel in substantially similar titles within agency': 'none',\n",
      "              'Start date of the proposed contract': '7/1/14'}],\n",
      " 'context': 'Notice of Intent to Issue New Solicitation(s) Not Included in '\n",
      "            'FY 2015 Annual Contracting Plan and Schedule',\n",
      " 'preamble': 'NOTICE IS HEREBY GIVENthat the Mayor will be issuing the '\n",
      "             'following solicitation(s) not included in the FY 2015 Annual '\n",
      "             'Contracting Plan and Schedule that is published pursuant to '\n",
      "             'New York City Charter § 312(a):'}\n"
     ]
    },
    {
     "data": {
      "text/html": [
       "<hr />"
      ],
      "text/plain": [
       "<IPython.core.display.HTML object>"
      ]
     },
     "metadata": {},
     "output_type": "display_data"
    },
    {
     "name": "stdout",
     "output_type": "stream",
     "text": [
      "\n",
      "\n",
      "\n"
     ]
    },
    {
     "data": {
      "text/html": [
       "<p> \t<u>Notice of Intent to Issue New Solicitation(s) Not Included in FY 2015 Annual Contracting Plan and Schedule </u></p> <p> \t&nbsp;</p> <p> \t<strong>NOTICE IS HEREBY GIVEN</strong> that the Mayor will be issuing the following solicitation(s) not included in the FY 2015 Annual Contracting Plan and Schedule that is published pursuant to New York City Charter &sect; 312(a):</p> <p> \t&nbsp;</p> <p> \tAgency: Department of Sanitation</p> <p> \tDescription of services sought: The services being procured are for the labor, materials, equipment, transport, facilities, and resources necessary and required to accept Non-Putrescible Solid Waste (&ldquo;NPSW&rdquo;). NPSW includes, but is not limited to, dirt, rock, wood, metal, plaster board, and other debris from construction and demolition which may be collected by DSNY and its authorized representatives from any location in New York City</p> <p> \tStart date of the proposed contract:&nbsp;&nbsp; 11/01/2015</p> <p> \tEnd date of the proposed contract:&nbsp;&nbsp; 10/31/2018</p> <p> \tMethod of solicitation the agency intends to utilize:&nbsp;&nbsp;&nbsp;Competitive Sealed Bid</p> <p> \tPersonnel in substantially similar titles within agency:&nbsp;&nbsp;None</p> <p> \tHeadcount of personnel in substantially similar titles within agency:&nbsp;&nbsp;0</p> <p> \t&nbsp;</p> "
      ],
      "text/plain": [
       "<IPython.core.display.HTML object>"
      ]
     },
     "metadata": {},
     "output_type": "display_data"
    },
    {
     "name": "stdout",
     "output_type": "stream",
     "text": [
      "---\n",
      "{'adverts': [{'Agency': 'Department of Sanitation',\n",
      "              'Description of services sought': 'The services being '\n",
      "                                                'procured are for the '\n",
      "                                                'labor, materials, '\n",
      "                                                'equipment, transport, '\n",
      "                                                'facilities, and resources '\n",
      "                                                'necessary and required to '\n",
      "                                                'accept Non-Putrescible '\n",
      "                                                'Solid Waste (“NPSW”). '\n",
      "                                                'NPSW includes, but is not '\n",
      "                                                'limited to, dirt, rock, '\n",
      "                                                'wood, metal, plaster '\n",
      "                                                'board, and other debris '\n",
      "                                                'from construction and '\n",
      "                                                'demolition which may be '\n",
      "                                                'collected by DSNY and its '\n",
      "                                                'authorized '\n",
      "                                                'representatives from any '\n",
      "                                                'location in New York City',\n",
      "              'End date of the proposed contract': '10/31/2018',\n",
      "              'Headcount of personnel in substantially similar titles within agency': '0',\n",
      "              'Method of solicitation the agency intends to utilize': 'Competitive '\n",
      "                                                                      'Sealed '\n",
      "                                                                      'Bid',\n",
      "              'Personnel in substantially similar titles within agency': 'None',\n",
      "              'Start date of the proposed contract': '11/01/2015'}],\n",
      " 'context': 'Notice of Intent to Issue New Solicitation(s) Not Included in '\n",
      "            'FY 2015 Annual Contracting Plan and Schedule',\n",
      " 'preamble': 'NOTICE IS HEREBY GIVENthat the Mayor will be issuing the '\n",
      "             'following solicitation(s) not included in the FY 2015 Annual '\n",
      "             'Contracting Plan and Schedule that is published pursuant to '\n",
      "             'New York City Charter § 312(a):'}\n"
     ]
    },
    {
     "data": {
      "text/html": [
       "<hr />"
      ],
      "text/plain": [
       "<IPython.core.display.HTML object>"
      ]
     },
     "metadata": {},
     "output_type": "display_data"
    },
    {
     "name": "stdout",
     "output_type": "stream",
     "text": [
      "\n",
      "\n",
      "\n"
     ]
    },
    {
     "data": {
      "text/html": [
       "<p> \t<u>Notice of Intent to Issue New Solicitation(s) Not Included in FY 2015 Annual Contracting Plan and Schedule </u></p> <p> \t&nbsp;</p> <p> \t<strong>NOTICE IS HEREBY GIVEN</strong> that the Mayor will be issuing the following solicitation(s) not included in the FY 2015 Annual Contracting Plan and Schedule that is published pursuant to New York City Charter &sect; 312(a):</p> <p> \t&nbsp;</p> <p> \tAgency: Department of Information Technology &amp; Telecommunications</p> <p> \tDescription of services sought: &nbsp;Manage the development and communications of the integration strategy, service and component communication requirements; design integration architecture for security, performance, scalability and fault-tolerance requirements; and other special integration architecture initiatives for &nbsp;the ECTP System.</p> <p> \tStart date of the proposed contract: 2/15/15</p> <p> \tEnd date of the proposed contract:&nbsp; 12/31/15</p> <p> \tMethod of solicitation the agency intends to utilize:&nbsp; Task Order</p> <p> \tPersonnel in substantially similar titles within agency: None</p> <p> \tHeadcount of personnel in substantially similar titles within agency:&nbsp; 0</p> <p> \t&nbsp;</p> <p> \tAgency: Department of Information Technology &amp; Telecommunications</p> <p> \tDescription of services sought: Network Subject Matter Expert to ensure the system design and architecture meet the core technology requirements of the ECTP program in the areas of networking, facilities and infrastructure.</p> <p> \tStart date of the proposed contract: 1/1/15</p> <p> \tEnd date of the proposed contract: 12/31/15</p> <p> \tMethod of solicitation the agency intends to utilize:&nbsp; Task Order</p> <p> \tPersonnel in substantially similar titles within agency:&nbsp; Network Engineer</p> <p> \tHeadcount of personnel in substantially similar titles within agency:&nbsp; 6</p> <p> \t&nbsp;</p> <p> \tAgency: Department of Information Technology &amp; Telecommunications</p> <p> \tDescription of services sought: &nbsp;NG911 Project Lead is to provide subject matter expertise as well as management, oversight services, and a detailed strategy related to the procurement, design, implementation, and operation for the NG911 project.</p> <p> \tStart date of the proposed contract: &nbsp;2/15/15</p> <p> \tEnd date of the proposed contract:&nbsp; 8/31/16</p> <p> \tMethod of solicitation the agency intends to utilize:&nbsp; Task Order</p> <p> \tPersonnel in substantially similar titles within agency: None</p> <p> \tHeadcount of personnel in substantially similar titles within agency:&nbsp; 0</p> <p> \t&nbsp;</p> <p> \tAgency: Department of Information Technology &amp; Telecommunications</p> <p> \tDescription of services sought: &nbsp;Text 911 Project Lead is to provide subject matter expertise as well as management, oversight services, and a detailed strategy related to the procurement, design, implementation, and operation for the Text 911 project.</p> <p> \tStart date of the proposed contract: 2/15/15</p> <p> \tEnd date of the proposed contract:&nbsp; 8/31/16</p> <p> \tMethod of solicitation the agency intends to utilize:&nbsp; Task Order</p> <p> \tPersonnel in substantially similar titles within agency: None</p> <p> \tHeadcount of personnel in substantially similar titles within agency:&nbsp; 0</p> "
      ],
      "text/plain": [
       "<IPython.core.display.HTML object>"
      ]
     },
     "metadata": {},
     "output_type": "display_data"
    },
    {
     "name": "stdout",
     "output_type": "stream",
     "text": [
      "---\n",
      "{'adverts': [{'Agency': 'Department of Information Technology & '\n",
      "                        'Telecommunications',\n",
      "              'Description of services sought': 'Manage the development '\n",
      "                                                'and communications of the '\n",
      "                                                'integration strategy, '\n",
      "                                                'service and component '\n",
      "                                                'communication '\n",
      "                                                'requirements; design '\n",
      "                                                'integration architecture '\n",
      "                                                'for security, '\n",
      "                                                'performance, scalability '\n",
      "                                                'and fault-tolerance '\n",
      "                                                'requirements; and other '\n",
      "                                                'special integration '\n",
      "                                                'architecture initiatives '\n",
      "                                                'for \\xa0the ECTP System.',\n",
      "              'End date of the proposed contract': '12/31/15',\n",
      "              'Headcount of personnel in substantially similar titles within agency': '0',\n",
      "              'Method of solicitation the agency intends to utilize': 'Task '\n",
      "                                                                      'Order',\n",
      "              'Personnel in substantially similar titles within agency': 'None',\n",
      "              'Start date of the proposed contract': '2/15/15'},\n",
      "             {'Agency': 'Department of Information Technology & '\n",
      "                        'Telecommunications',\n",
      "              'Description of services sought': 'Network Subject Matter '\n",
      "                                                'Expert to ensure the '\n",
      "                                                'system design and '\n",
      "                                                'architecture meet the '\n",
      "                                                'core technology '\n",
      "                                                'requirements of the ECTP '\n",
      "                                                'program in the areas of '\n",
      "                                                'networking, facilities '\n",
      "                                                'and infrastructure.',\n",
      "              'End date of the proposed contract': '12/31/15',\n",
      "              'Headcount of personnel in substantially similar titles within agency': '6',\n",
      "              'Method of solicitation the agency intends to utilize': 'Task '\n",
      "                                                                      'Order',\n",
      "              'Personnel in substantially similar titles within agency': 'Network '\n",
      "                                                                         'Engineer',\n",
      "              'Start date of the proposed contract': '1/1/15'},\n",
      "             {'Agency': 'Department of Information Technology & '\n",
      "                        'Telecommunications',\n",
      "              'Description of services sought': 'NG911 Project Lead is to '\n",
      "                                                'provide subject matter '\n",
      "                                                'expertise as well as '\n",
      "                                                'management, oversight '\n",
      "                                                'services, and a detailed '\n",
      "                                                'strategy related to the '\n",
      "                                                'procurement, design, '\n",
      "                                                'implementation, and '\n",
      "                                                'operation for the NG911 '\n",
      "                                                'project.',\n",
      "              'End date of the proposed contract': '8/31/16',\n",
      "              'Headcount of personnel in substantially similar titles within agency': '0',\n",
      "              'Method of solicitation the agency intends to utilize': 'Task '\n",
      "                                                                      'Order',\n",
      "              'Personnel in substantially similar titles within agency': 'None',\n",
      "              'Start date of the proposed contract': '2/15/15'},\n",
      "             {'Agency': 'Department of Information Technology & '\n",
      "                        'Telecommunications',\n",
      "              'Description of services sought': 'Text 911 Project Lead is '\n",
      "                                                'to provide subject matter '\n",
      "                                                'expertise as well as '\n",
      "                                                'management, oversight '\n",
      "                                                'services, and a detailed '\n",
      "                                                'strategy related to the '\n",
      "                                                'procurement, design, '\n",
      "                                                'implementation, and '\n",
      "                                                'operation for the Text '\n",
      "                                                '911 project.',\n",
      "              'End date of the proposed contract': '8/31/16',\n",
      "              'Headcount of personnel in substantially similar titles within agency': '0',\n",
      "              'Method of solicitation the agency intends to utilize': 'Task '\n",
      "                                                                      'Order',\n",
      "              'Personnel in substantially similar titles within agency': 'None',\n",
      "              'Start date of the proposed contract': '2/15/15'}],\n",
      " 'context': 'Notice of Intent to Issue New Solicitation(s) Not Included in '\n",
      "            'FY 2015 Annual Contracting Plan and Schedule',\n",
      " 'preamble': 'NOTICE IS HEREBY GIVENthat the Mayor will be issuing the '\n",
      "             'following solicitation(s) not included in the FY 2015 Annual '\n",
      "             'Contracting Plan and Schedule that is published pursuant to '\n",
      "             'New York City Charter § 312(a):'}\n"
     ]
    },
    {
     "data": {
      "text/html": [
       "<hr />"
      ],
      "text/plain": [
       "<IPython.core.display.HTML object>"
      ]
     },
     "metadata": {},
     "output_type": "display_data"
    },
    {
     "name": "stdout",
     "output_type": "stream",
     "text": [
      "\n",
      "\n",
      "\n"
     ]
    },
    {
     "data": {
      "text/html": [
       "NAN"
      ],
      "text/plain": [
       "<IPython.core.display.HTML object>"
      ]
     },
     "metadata": {},
     "output_type": "display_data"
    },
    {
     "name": "stdout",
     "output_type": "stream",
     "text": [
      "---\n",
      "{'error': 'bad input: [nan]'}\n"
     ]
    },
    {
     "data": {
      "text/html": [
       "<hr />"
      ],
      "text/plain": [
       "<IPython.core.display.HTML object>"
      ]
     },
     "metadata": {},
     "output_type": "display_data"
    },
    {
     "name": "stdout",
     "output_type": "stream",
     "text": [
      "\n",
      "\n",
      "\n"
     ]
    },
    {
     "data": {
      "text/html": [
       "<p> \t<u>Notice of Intent to Issue New Solicitation(s) Not Included in FY 2015 Annual Contracting Plan and Schedule </u></p> <p> \t&nbsp;</p> <p> \t<strong>NOTICE IS HEREBY GIVEN</strong> that the Mayor will be issuing the following solicitation(s) not included in the FY 2015 Annual Contracting Plan and Schedule that is published pursuant to New York City Charter &sect; 312(a):</p> <p> \t&nbsp;</p> <p> \tAgency: Department of Parks and Recreation</p> <p> \tNature of Service Sought:&nbsp; Engineering Design Services for bid documents for three (3) sets of modular units at Midland Beach, Staten Island and two (2) sets of modular units at Cedar Grove Beach, Staten Island</p> <p> \tStart Date:&nbsp; 3/1/2015</p> <p> \tEnd Date:&nbsp; &nbsp;3/1/2016</p> <p> \tMethod of Solicitation the Agency intends to utilize:&nbsp; Task Order</p> <p> \tPersonnel in substantially similar titles within Agency:</p> <p> \tCivil Engineers, Assistant Civil Engineer, Project Manager, Associated Project Manager, Architect, Architect Intern, Assistant Architect, Landmark Preservationist</p> <p> \tHeadcount of personnel in substantially similar titles within Agency:&nbsp; 78</p> <p> \t&nbsp;</p> <p> \tAgency: Department of Parks and Recreation&nbsp;&nbsp;&nbsp;&nbsp;&nbsp;&nbsp;&nbsp;&nbsp;&nbsp;&nbsp;&nbsp;&nbsp;&nbsp;&nbsp;&nbsp;&nbsp;&nbsp;</p> <p> \tNature of Service Sought:&nbsp; Architectural Design Services for bid documents for three (3) sets of modular units at Midland Beach, Staten Island and two (2) sets of modular units at Cedar Grove Beach, Staten Island</p> <p> \tStart Date:&nbsp; 3/1/2015</p> <p> \tEnd Date:&nbsp; &nbsp;3/1/2016</p> <p> \tMethod of Solicitation the Agency intends to utilize:&nbsp; Task Order</p> <p> \tPersonnel in substantially similar titles within Agency:</p> <p> \tArchitect, Architect Intern, Assistant Architect, Landmarks Preservationist, Project Manager, Associate Project Manager, Civil Engineers, Assistant Civil Engineer</p> <p> \tHeadcount of personnel in substantially similar titles within Agency:&nbsp; 78</p> "
      ],
      "text/plain": [
       "<IPython.core.display.HTML object>"
      ]
     },
     "metadata": {},
     "output_type": "display_data"
    },
    {
     "name": "stdout",
     "output_type": "stream",
     "text": [
      "---\n",
      "{'adverts': [{'Agency': 'Department of Parks and Recreation',\n",
      "              'End Date': '3/1/2016',\n",
      "              'Headcount of personnel in substantially similar titles within Agency': '78',\n",
      "              'Method of Solicitation the Agency intends to utilize': 'Task '\n",
      "                                                                      'Order',\n",
      "              'Nature of Service Sought': 'Engineering Design Services for '\n",
      "                                          'bid documents for three (3) '\n",
      "                                          'sets of modular units at '\n",
      "                                          'Midland Beach, Staten Island '\n",
      "                                          'and two (2) sets of modular '\n",
      "                                          'units at Cedar Grove Beach, '\n",
      "                                          'Staten Island',\n",
      "              'Personnel in substantially similar titles within Agency': 'Civil '\n",
      "                                                                         'Engineers, '\n",
      "                                                                         'Assistant '\n",
      "                                                                         'Civil '\n",
      "                                                                         'Engineer, '\n",
      "                                                                         'Project '\n",
      "                                                                         'Manager, '\n",
      "                                                                         'Associated '\n",
      "                                                                         'Project '\n",
      "                                                                         'Manager, '\n",
      "                                                                         'Architect, '\n",
      "                                                                         'Architect '\n",
      "                                                                         'Intern, '\n",
      "                                                                         'Assistant '\n",
      "                                                                         'Architect, '\n",
      "                                                                         'Landmark '\n",
      "                                                                         'Preservationist',\n",
      "              'Start Date': '3/1/2015'},\n",
      "             {'Agency': 'Department of Parks and Recreation',\n",
      "              'End Date': '3/1/2016',\n",
      "              'Headcount of personnel in substantially similar titles within Agency': '78',\n",
      "              'Method of Solicitation the Agency intends to utilize': 'Task '\n",
      "                                                                      'Order',\n",
      "              'Nature of Service Sought': 'Architectural Design Services '\n",
      "                                          'for bid documents for three (3) '\n",
      "                                          'sets of modular units at '\n",
      "                                          'Midland Beach, Staten Island '\n",
      "                                          'and two (2) sets of modular '\n",
      "                                          'units at Cedar Grove Beach, '\n",
      "                                          'Staten Island',\n",
      "              'Personnel in substantially similar titles within Agency': 'Architect, '\n",
      "                                                                         'Architect '\n",
      "                                                                         'Intern, '\n",
      "                                                                         'Assistant '\n",
      "                                                                         'Architect, '\n",
      "                                                                         'Landmarks '\n",
      "                                                                         'Preservationist, '\n",
      "                                                                         'Project '\n",
      "                                                                         'Manager, '\n",
      "                                                                         'Associate '\n",
      "                                                                         'Project '\n",
      "                                                                         'Manager, '\n",
      "                                                                         'Civil '\n",
      "                                                                         'Engineers, '\n",
      "                                                                         'Assistant '\n",
      "                                                                         'Civil '\n",
      "                                                                         'Engineer',\n",
      "              'Start Date': '3/1/2015'}],\n",
      " 'context': 'Notice of Intent to Issue New Solicitation(s) Not Included in '\n",
      "            'FY 2015 Annual Contracting Plan and Schedule',\n",
      " 'preamble': 'NOTICE IS HEREBY GIVENthat the Mayor will be issuing the '\n",
      "             'following solicitation(s) not included in the FY 2015 Annual '\n",
      "             'Contracting Plan and Schedule that is published pursuant to '\n",
      "             'New York City Charter § 312(a):'}\n"
     ]
    },
    {
     "data": {
      "text/html": [
       "<hr />"
      ],
      "text/plain": [
       "<IPython.core.display.HTML object>"
      ]
     },
     "metadata": {},
     "output_type": "display_data"
    },
    {
     "name": "stdout",
     "output_type": "stream",
     "text": [
      "\n",
      "\n",
      "\n"
     ]
    },
    {
     "data": {
      "text/html": [
       "<p> \t<u>Notice of Intent to Issue New Solicitation(s) Not Included in FY 2015 Annual Contracting Plan and Schedule </u></p> <p> \t&nbsp;</p> <p> \t<strong>NOTICE IS HEREBY GIVEN</strong> that the Mayor will be issuing the following solicitation(s) not included in the FY 2015 Annual Contracting Plan and Schedule that is published pursuant to New York City Charter &sect; 312(a):</p> <p> \t&nbsp;</p> <p> \tAgency: Department of Parks and Recreation</p> <p> \tNature of services sought: Engineering Design Services for the reconstruction of seawalls, bulkheads, piers and paths at various Parks &amp; Recreation facilities located between East 36th and East 125th Streets, along the East River, Borough of Manhattan</p> <p> \tStart Date of the proposed contract:&nbsp; 3/6/2015</p> <p> \tEnd Date of the proposed contract:&nbsp;&nbsp; 1/5/2016</p> <p> \tMethod of Solicitation the Agency intends to utilize:&nbsp; Task Order</p> <p> \tPersonnel in substantially similar titles within Agency:</p> <p> \tCivil Engineer, Assistant Civil Engineer, Project Manager, Associate Project Manager, Landscape Architect, Assistant Landscape Architect, Landscape Architect Intern</p> <p> \tHeadcount of personnel in substantially similar titles within Agency:&nbsp; 146</p> "
      ],
      "text/plain": [
       "<IPython.core.display.HTML object>"
      ]
     },
     "metadata": {},
     "output_type": "display_data"
    },
    {
     "name": "stdout",
     "output_type": "stream",
     "text": [
      "---\n",
      "{'adverts': [{'Agency': 'Department of Parks and Recreation',\n",
      "              'End Date of the proposed contract': '1/5/2016',\n",
      "              'Headcount of personnel in substantially similar titles within Agency': '146',\n",
      "              'Method of Solicitation the Agency intends to utilize': 'Task '\n",
      "                                                                      'Order',\n",
      "              'Nature of services sought': 'Engineering Design Services '\n",
      "                                           'for the reconstruction of '\n",
      "                                           'seawalls, bulkheads, piers and '\n",
      "                                           'paths at various Parks & '\n",
      "                                           'Recreation facilities located '\n",
      "                                           'between East 36th and East '\n",
      "                                           '125th Streets, along the East '\n",
      "                                           'River, Borough of Manhattan',\n",
      "              'Personnel in substantially similar titles within Agency': 'Civil '\n",
      "                                                                         'Engineer, '\n",
      "                                                                         'Assistant '\n",
      "                                                                         'Civil '\n",
      "                                                                         'Engineer, '\n",
      "                                                                         'Project '\n",
      "                                                                         'Manager, '\n",
      "                                                                         'Associate '\n",
      "                                                                         'Project '\n",
      "                                                                         'Manager, '\n",
      "                                                                         'Landscape '\n",
      "                                                                         'Architect, '\n",
      "                                                                         'Assistant '\n",
      "                                                                         'Landscape '\n",
      "                                                                         'Architect, '\n",
      "                                                                         'Landscape '\n",
      "                                                                         'Architect '\n",
      "                                                                         'Intern',\n",
      "              'Start Date of the proposed contract': '3/6/2015'}],\n",
      " 'context': 'Notice of Intent to Issue New Solicitation(s) Not Included in '\n",
      "            'FY 2015 Annual Contracting Plan and Schedule',\n",
      " 'preamble': 'NOTICE IS HEREBY GIVENthat the Mayor will be issuing the '\n",
      "             'following solicitation(s) not included in the FY 2015 Annual '\n",
      "             'Contracting Plan and Schedule that is published pursuant to '\n",
      "             'New York City Charter § 312(a):'}\n"
     ]
    },
    {
     "data": {
      "text/html": [
       "<hr />"
      ],
      "text/plain": [
       "<IPython.core.display.HTML object>"
      ]
     },
     "metadata": {},
     "output_type": "display_data"
    },
    {
     "name": "stdout",
     "output_type": "stream",
     "text": [
      "\n",
      "\n",
      "\n"
     ]
    },
    {
     "data": {
      "text/html": [
       "<p> \t<u>Notice of Intent to Issue New Solicitation(s) Not Included in FY 2015 Annual Contracting Plan and Schedule </u></p> <p> \t&nbsp;</p> <p> \t<strong>NOTICE IS HEREBY GIVEN</strong> that the Mayor will be issuing the following solicitation(s) not included in the FY 2015 Annual Contracting Plan and Schedule that is published pursuant to New York City Charter &sect; 312(a):</p> <p> \t&nbsp;</p> <p> \tAgency: Department of Design and Construction</p> <p> \tDescription of services sought:&nbsp;&nbsp; Construction Management Services, New Firehouse/Rescue 2, Brooklyn</p> <p> \tStart date of the proposed contract:&nbsp;&nbsp; 2/1/2015</p> <p> \tEnd date of the proposed contract:&nbsp;&nbsp; 6/10/2017&nbsp;</p> <p> \tMethod of solicitation the agency intends to utilize:&nbsp;&nbsp; Task Order</p> <p> \tPersonnel in substantially similar titles within agency:&nbsp;&nbsp; none</p> <p> \tHeadcount of personnel in substantially similar titles within agency:&nbsp; 0&nbsp;&nbsp;&nbsp;&nbsp;&nbsp;&nbsp;</p> <p> \t&nbsp;</p> <p> \tAgency: Department of Design and Construction</p> <p> \tDescription of services sought:&nbsp;&nbsp; Special Inspection and Laboratory Testing Services for demolition of DSNY facilities and construction of a new bulkhead at Gansevoort Peninsula</p> <p> \tStart date of the proposed contract:&nbsp; 12/15/2014</p> <p> \tEnd date of the proposed contract:&nbsp; 12/14/2016&nbsp;&nbsp;&nbsp;&nbsp;&nbsp;&nbsp;&nbsp;&nbsp;&nbsp;&nbsp;&nbsp;&nbsp;&nbsp;&nbsp;&nbsp;</p> <p> \tMethod of solicitation the agency intends to utilize:&nbsp;&nbsp; Task Order</p> <p> \tPersonnel in substantially similar titles within agency:&nbsp; none</p> <p> \tHeadcount of personnel in substantially similar titles within agency:&nbsp; 0</p> <p> \t&nbsp;</p> <p> \tAgency: Department of Design and Construction</p> <p> \tDescription of services sought:&nbsp;&nbsp; Design Services, Queens County Farm Museum</p> <p> \tStart date of the proposed contract:&nbsp;&nbsp; 1/2/2015</p> <p> \tEnd date of the proposed contract:&nbsp;&nbsp; 1/2/2017&nbsp;&nbsp;&nbsp;</p> <p> \tMethod of solicitation the agency intends to utilize:&nbsp;&nbsp; Task Order</p> <p> \tPersonnel in substantially similar titles within agency:&nbsp;&nbsp; none</p> <p> \tHeadcount of personnel in substantially similar titles within agency:&nbsp; 0</p> <p> \t&nbsp;</p> <p> \tAgency: Department of Design and Construction</p> <p> \tDescription of services sought:&nbsp;&nbsp; Design Services, Two Level Municipal Parking Lot at Queens Boro Hall</p> <p> \tStart date of the proposed contract:&nbsp;&nbsp; 3/1/2015</p> <p> \tEnd date of the proposed contract:&nbsp;&nbsp; 5/1/2015&nbsp;&nbsp;&nbsp;</p> <p> \tMethod of solicitation the agency intends to utilize:&nbsp;&nbsp; Task Order</p> <p> \tPersonnel in substantially similar titles within agency:&nbsp; none</p> <p> \tHeadcount of personnel in substantially similar titles within agency:&nbsp; 0</p> "
      ],
      "text/plain": [
       "<IPython.core.display.HTML object>"
      ]
     },
     "metadata": {},
     "output_type": "display_data"
    },
    {
     "name": "stdout",
     "output_type": "stream",
     "text": [
      "---\n",
      "{'adverts': [{'Agency': 'Department of Design and Construction',\n",
      "              'Description of services sought': 'Construction Management '\n",
      "                                                'Services, New '\n",
      "                                                'Firehouse/Rescue 2, '\n",
      "                                                'Brooklyn',\n",
      "              'End date of the proposed contract': '6/10/2017',\n",
      "              'Headcount of personnel in substantially similar titles within agency': '0',\n",
      "              'Method of solicitation the agency intends to utilize': 'Task '\n",
      "                                                                      'Order',\n",
      "              'Personnel in substantially similar titles within agency': 'none',\n",
      "              'Start date of the proposed contract': '2/1/2015'},\n",
      "             {'Agency': 'Department of Design and Construction',\n",
      "              'Description of services sought': 'Special Inspection and '\n",
      "                                                'Laboratory Testing '\n",
      "                                                'Services for demolition '\n",
      "                                                'of DSNY facilities and '\n",
      "                                                'construction of a new '\n",
      "                                                'bulkhead at Gansevoort '\n",
      "                                                'Peninsula',\n",
      "              'End date of the proposed contract': '12/14/2016',\n",
      "              'Headcount of personnel in substantially similar titles within agency': '0',\n",
      "              'Method of solicitation the agency intends to utilize': 'Task '\n",
      "                                                                      'Order',\n",
      "              'Personnel in substantially similar titles within agency': 'none',\n",
      "              'Start date of the proposed contract': '12/15/2014'},\n",
      "             {'Agency': 'Department of Design and Construction',\n",
      "              'Description of services sought': 'Design Services, Queens '\n",
      "                                                'County Farm Museum',\n",
      "              'End date of the proposed contract': '1/2/2017',\n",
      "              'Headcount of personnel in substantially similar titles within agency': '0',\n",
      "              'Method of solicitation the agency intends to utilize': 'Task '\n",
      "                                                                      'Order',\n",
      "              'Personnel in substantially similar titles within agency': 'none',\n",
      "              'Start date of the proposed contract': '1/2/2015'},\n",
      "             {'Agency': 'Department of Design and Construction',\n",
      "              'Description of services sought': 'Design Services, Two '\n",
      "                                                'Level Municipal Parking '\n",
      "                                                'Lot at Queens Boro Hall',\n",
      "              'End date of the proposed contract': '5/1/2015',\n",
      "              'Headcount of personnel in substantially similar titles within agency': '0',\n",
      "              'Method of solicitation the agency intends to utilize': 'Task '\n",
      "                                                                      'Order',\n",
      "              'Personnel in substantially similar titles within agency': 'none',\n",
      "              'Start date of the proposed contract': '3/1/2015'}],\n",
      " 'context': 'Notice of Intent to Issue New Solicitation(s) Not Included in '\n",
      "            'FY 2015 Annual Contracting Plan and Schedule',\n",
      " 'preamble': 'NOTICE IS HEREBY GIVENthat the Mayor will be issuing the '\n",
      "             'following solicitation(s) not included in the FY 2015 Annual '\n",
      "             'Contracting Plan and Schedule that is published pursuant to '\n",
      "             'New York City Charter § 312(a):'}\n"
     ]
    },
    {
     "data": {
      "text/html": [
       "<hr />"
      ],
      "text/plain": [
       "<IPython.core.display.HTML object>"
      ]
     },
     "metadata": {},
     "output_type": "display_data"
    },
    {
     "name": "stdout",
     "output_type": "stream",
     "text": [
      "\n",
      "\n",
      "\n"
     ]
    },
    {
     "data": {
      "text/html": [
       "<p> \t<u>Notice of Intent to Extend Contract(s) Not Included in FY 2015 Annual Contracting Plan and Schedule</u></p> <p> \t&nbsp;</p> <p> \t<strong>NOTICE IS HEREBY GIVEN</strong> that the Mayor will be entering into the following extension(s) of (a) contract(s) not included in the FY 2015 Annual Contracting Plan and Schedule that is published pursuant to New York City Charter &sect; 312(a):</p> <p> \t&nbsp;</p> <p> \tAgency: Department of Health and Mental Hygiene</p> <p> \tVendor: OPAD MEDIA SOLUTIONS LLC</p> <p> \tDescription of services: Media Buyer</p> <p> \tMethod of renewal/extension the agency intends to utilize: Amendment Extension</p> <p> \tNew start date of the proposed renewed/extended contract: 01/01/2015</p> <p> \tNew end date of the proposed renewed/extended contract: 03/31/2015</p> <p> \tModifications sought to the nature of services performed under the contract: None</p> <p> \tReason(s) the agency intends to renew/extend the contract: Continuation of Services</p> <p> \tPersonnel in substantially similar titles within agency: None</p> <p> \tHeadcount of personnel in substantially similar titles within agency: 0</p> "
      ],
      "text/plain": [
       "<IPython.core.display.HTML object>"
      ]
     },
     "metadata": {},
     "output_type": "display_data"
    },
    {
     "name": "stdout",
     "output_type": "stream",
     "text": [
      "---\n",
      "{'adverts': [{'Agency': 'Department of Health and Mental Hygiene',\n",
      "              'Description of services': 'Media Buyer',\n",
      "              'Headcount of personnel in substantially similar titles within agency': '0',\n",
      "              'Method of renewal/extension the agency intends to utilize': 'Amendment '\n",
      "                                                                           'Extension',\n",
      "              'Modifications sought to the nature of services performed under the contract': 'None',\n",
      "              'New end date of the proposed renewed/extended contract': '03/31/2015',\n",
      "              'New start date of the proposed renewed/extended contract': '01/01/2015',\n",
      "              'Personnel in substantially similar titles within agency': 'None',\n",
      "              'Reason(s) the agency intends to renew/extend the contract': 'Continuation '\n",
      "                                                                           'of '\n",
      "                                                                           'Services',\n",
      "              'Vendor': 'OPAD MEDIA SOLUTIONS LLC'}],\n",
      " 'context': 'Notice of Intent to Extend Contract(s) Not Included in FY 2015 '\n",
      "            'Annual Contracting Plan and Schedule',\n",
      " 'preamble': 'NOTICE IS HEREBY GIVENthat the Mayor will be entering into the '\n",
      "             'following extension(s) of (a) contract(s) not included in the '\n",
      "             'FY 2015 Annual Contracting Plan and Schedule that is published '\n",
      "             'pursuant to New York City Charter § 312(a):'}\n"
     ]
    },
    {
     "data": {
      "text/html": [
       "<hr />"
      ],
      "text/plain": [
       "<IPython.core.display.HTML object>"
      ]
     },
     "metadata": {},
     "output_type": "display_data"
    },
    {
     "name": "stdout",
     "output_type": "stream",
     "text": [
      "\n",
      "\n",
      "\n"
     ]
    },
    {
     "data": {
      "text/html": [
       "<p> \t<u>Notice of Intent to Issue New Solicitation(s) Not Included in FY 2015 Annual Contracting Plan and Schedule </u></p> <p> \t&nbsp;</p> <p> \t<strong>NOTICE IS HEREBY GIVEN</strong> that the Mayor will be issuing the following solicitation(s) not included in the FY 2015 Annual Contracting Plan and Schedule that is published pursuant to New York City Charter &sect; 312(a):</p> <p> \t&nbsp;</p> <p> \tAgency: Department of Health and Mental Hygiene</p> <p> \tDescription of services sought: Helicopter Storage and Maintenance&nbsp;&nbsp;&nbsp;&nbsp;&nbsp;&nbsp;&nbsp;&nbsp;&nbsp;&nbsp;</p> <p> \tStart date of the proposed contract: 07/01/2016</p> <p> \tEnd date of the proposed contract: 06/30/2019</p> <p> \tMethod of solicitation the agency intends to utilize: Competitive Sealed Bid</p> <p> \tPersonnel in substantially similar titles within agency:&nbsp; None</p> <p> \tHeadcount of personnel in substantially similar titles within agency:&nbsp; 0</p> "
      ],
      "text/plain": [
       "<IPython.core.display.HTML object>"
      ]
     },
     "metadata": {},
     "output_type": "display_data"
    },
    {
     "name": "stdout",
     "output_type": "stream",
     "text": [
      "---\n",
      "{'adverts': [{'Agency': 'Department of Health and Mental Hygiene',\n",
      "              'Description of services sought': 'Helicopter Storage and '\n",
      "                                                'Maintenance',\n",
      "              'End date of the proposed contract': '06/30/2019',\n",
      "              'Headcount of personnel in substantially similar titles within agency': '0',\n",
      "              'Method of solicitation the agency intends to utilize': 'Competitive '\n",
      "                                                                      'Sealed '\n",
      "                                                                      'Bid',\n",
      "              'Personnel in substantially similar titles within agency': 'None',\n",
      "              'Start date of the proposed contract': '07/01/2016'}],\n",
      " 'context': 'Notice of Intent to Issue New Solicitation(s) Not Included in '\n",
      "            'FY 2015 Annual Contracting Plan and Schedule',\n",
      " 'preamble': 'NOTICE IS HEREBY GIVENthat the Mayor will be issuing the '\n",
      "             'following solicitation(s) not included in the FY 2015 Annual '\n",
      "             'Contracting Plan and Schedule that is published pursuant to '\n",
      "             'New York City Charter § 312(a):'}\n"
     ]
    },
    {
     "data": {
      "text/html": [
       "<hr />"
      ],
      "text/plain": [
       "<IPython.core.display.HTML object>"
      ]
     },
     "metadata": {},
     "output_type": "display_data"
    },
    {
     "name": "stdout",
     "output_type": "stream",
     "text": [
      "\n",
      "\n",
      "\n"
     ]
    },
    {
     "data": {
      "text/html": [
       "<p> \t<u>Notice of Intent to Issue New Solicitation(s) Not Included in FY 2015 Annual Contracting Plan and Schedule </u></p> <p> \t&nbsp;</p> <p> \t<strong>NOTICE IS HEREBY GIVEN</strong> that the Mayor will be issuing the following solicitation(s) not included in the FY 2015 Annual Contracting Plan and Schedule that is published pursuant to New York City Charter &sect; 312(a):</p> <p> \t&nbsp;</p> <p> \tAgency: Department of Information Technology &amp; Telecommunications</p> <p> \tDescription of services sought: Repair Services of Information Technology Equipment</p> <p> \tStart Date of proposed contract: 10/8/2015</p> <p> \tEnd date of the proposed contract:&nbsp; 10/7/2020</p> <p> \tMethod of solicitation the agency intends to utilize:&nbsp; Competitive Sealed Bid</p> <p> \tPersonnel in substantially similar titles within agency:&nbsp; None</p> <p> \tHeadcount of personnel in substantially similar titles within agency: 0</p> <p> \t&nbsp;</p> <p> \t<u>Notice of Intent to Extend Contract(s) Not Included in FY 2015 Annual Contracting Plan and Schedule </u></p> <p> \t&nbsp;</p> <p> \t<strong>NOTICE IS HEREBY GIVEN</strong> that the Mayor will be entering into the following extension(s) of (a) contract(s) not included in the FY 2015 Annual Contracting Plan and Schedule that is published pursuant to New York City Charter &sect; 312(a):</p> <p> \t&nbsp;</p> <p> \tAgency:&nbsp; Department of Information Technology and Telecommunications</p> <p> \tFMS Contract #: CTA1-858- 20147204172</p> <p> \tVendor: Comsys IT Services LLC</p> <p> \tDescription of services:</p> <p> \tProvide Subject Matter Expertise in the development of the application requirements along with the design, build and deployment of the application in all environments.&nbsp;</p> <p> \tDevelop the approach for the future business requirements, plan, design, build and deploy future enhancements and extensions to the existing system.</p> <p> \tDesign and develop the Documentum platform as an enterprise wide content management system that can be extended to various city agencies on a shared services model.</p> <p> \tReport product issues and work with EMC (Documentum vendor) to resolve the issues and test all fixes and system patch releases provided by the vendor.</p> <p> \tAward method of original contract: Intergovernmental</p> <p> \tFMS Contract type: Consultant</p> <p> \tEnd date of original contract: 12/31/14</p> <p> \tMethod of renewal/extension the agency intends to utilize: Extension</p> <p> \tNew start date of the proposed renewed/extended contract: 01/01/15</p> <p> \tNew end date of the proposed renewed/extended contract: 06/30/15</p> <p> \tModifications sought to the nature of services performed under the contract: None</p> <p> \tReason(s) the agency intends to renew/extend the contract: Continuation of Services</p> <p> \tPersonnel in substantially similar titles within agency:&nbsp; None</p> <p> \tHeadcount of personnel in substantially similar titles within agency: 0</p> <p> \t&nbsp;</p> <p> \tAgency: Department of Environmental Protection</p> <p> \tFMS Contract #: CT1 826 20141421393&nbsp;&nbsp;&nbsp;&nbsp;&nbsp;&nbsp;&nbsp;&nbsp;&nbsp;&nbsp;&nbsp;&nbsp;&nbsp;&nbsp;&nbsp;&nbsp;&nbsp;&nbsp;&nbsp;&nbsp;&nbsp;&nbsp;&nbsp;&nbsp;&nbsp;&nbsp;&nbsp;&nbsp;&nbsp;&nbsp;&nbsp;&nbsp;&nbsp;&nbsp;</p> <p> \tVendor:&nbsp; JES Plumbing and Heating Corp.</p> <p> \tDescription of services:&nbsp; To install indoor water meters and outdoor pits</p> <p> \tAward method of original contract:&nbsp;&nbsp; Competitive Sealed Bid</p> <p> \tFMS Contract type:&nbsp; Services</p> <p> \tEnd date of original contract:&nbsp; 02/15/2015</p> <p> \tMethod of renewal/extension the agency intends to utilize:&nbsp; Time Extension</p> <p> \tNew start date of the proposed renewed/extended contract: 2/16/15</p> <p> \tNew end date of the proposed renewed/extended contract:&nbsp; 2/15/16</p> <p> \tModifications sought to the nature of services performed under the contract:&nbsp; None&nbsp;&nbsp;&nbsp;&nbsp;&nbsp;&nbsp;&nbsp;&nbsp;&nbsp;&nbsp;&nbsp;</p> <p> \tReason(s) the agency intends to renew/extend the contract:&nbsp; Funds in the contract are not exhausted. The extension continues current services while a new contract is approved.&nbsp;&nbsp;&nbsp;&nbsp;&nbsp;&nbsp;&nbsp;&nbsp;&nbsp;&nbsp;&nbsp;&nbsp;&nbsp;&nbsp;&nbsp;</p> <p> \tPersonnel in substantially similar titles within agency:&nbsp;&nbsp;&nbsp;&nbsp;&nbsp;&nbsp;&nbsp;&nbsp; None</p> <p> \tHeadcount of personnel in substantially similar titles within agency:&nbsp; 0</p> "
      ],
      "text/plain": [
       "<IPython.core.display.HTML object>"
      ]
     },
     "metadata": {},
     "output_type": "display_data"
    },
    {
     "name": "stdout",
     "output_type": "stream",
     "text": [
      "---\n",
      "{'adverts': [{'Agency': 'Department of Information Technology & '\n",
      "                        'Telecommunications',\n",
      "              'Description of services sought': 'Repair Services of '\n",
      "                                                'Information Technology '\n",
      "                                                'Equipment',\n",
      "              'End date of the proposed contract': '10/7/2020',\n",
      "              'Headcount of personnel in substantially similar titles within agency': '0Notice '\n",
      "                                                                                      'of '\n",
      "                                                                                      'Intent '\n",
      "                                                                                      'to '\n",
      "                                                                                      'Extend '\n",
      "                                                                                      'Contract(s) '\n",
      "                                                                                      'Not '\n",
      "                                                                                      'Included '\n",
      "                                                                                      'in '\n",
      "                                                                                      'FY '\n",
      "                                                                                      '2015 '\n",
      "                                                                                      'Annual '\n",
      "                                                                                      'Contracting '\n",
      "                                                                                      'Plan '\n",
      "                                                                                      'and '\n",
      "                                                                                      'Schedule',\n",
      "              'Method of solicitation the agency intends to utilize': 'Competitive '\n",
      "                                                                      'Sealed '\n",
      "                                                                      'Bid',\n",
      "              'NOTICE IS HEREBY GIVENthat the Mayor will be entering into the following extension(s) of (a) contract(s) not included in the FY 2015 Annual Contracting Plan and Schedule that is published pursuant to New York City Charter § 312(a)': '',\n",
      "              'Personnel in substantially similar titles within agency': 'None',\n",
      "              'Start Date of proposed contract': '10/8/2015'},\n",
      "             {'Agency': 'Department of Information Technology and '\n",
      "                        'Telecommunications',\n",
      "              'Award method of original contract': 'Intergovernmental',\n",
      "              'Description of services': 'Provide Subject Matter Expertise '\n",
      "                                         'in the development of the '\n",
      "                                         'application requirements along '\n",
      "                                         'with the design, build and '\n",
      "                                         'deployment of the application in '\n",
      "                                         'all environments.Develop the '\n",
      "                                         'approach for the future business '\n",
      "                                         'requirements, plan, design, '\n",
      "                                         'build and deploy future '\n",
      "                                         'enhancements and extensions to '\n",
      "                                         'the existing system.Design and '\n",
      "                                         'develop the Documentum platform '\n",
      "                                         'as an enterprise wide content '\n",
      "                                         'management system that can be '\n",
      "                                         'extended to various city '\n",
      "                                         'agencies on a shared services '\n",
      "                                         'model.Report product issues and '\n",
      "                                         'work with EMC (Documentum '\n",
      "                                         'vendor) to resolve the issues '\n",
      "                                         'and test all fixes and system '\n",
      "                                         'patch releases provided by the '\n",
      "                                         'vendor.',\n",
      "              'End date of original contract': '12/31/14',\n",
      "              'FMS Contract #': 'CTA1-858- 20147204172',\n",
      "              'FMS Contract type': 'Consultant',\n",
      "              'Headcount of personnel in substantially similar titles within agency': '0',\n",
      "              'Method of renewal/extension the agency intends to utilize': 'Extension',\n",
      "              'Modifications sought to the nature of services performed under the contract': 'None',\n",
      "              'New end date of the proposed renewed/extended contract': '06/30/15',\n",
      "              'New start date of the proposed renewed/extended contract': '01/01/15',\n",
      "              'Personnel in substantially similar titles within agency': 'None',\n",
      "              'Reason(s) the agency intends to renew/extend the contract': 'Continuation '\n",
      "                                                                           'of '\n",
      "                                                                           'Services',\n",
      "              'Vendor': 'Comsys IT Services LLC'},\n",
      "             {'Agency': 'Department of Environmental Protection',\n",
      "              'Award method of original contract': 'Competitive Sealed Bid',\n",
      "              'Description of services': 'To install indoor water meters '\n",
      "                                         'and outdoor pits',\n",
      "              'End date of original contract': '02/15/2015',\n",
      "              'FMS Contract #': 'CT1 826 20141421393',\n",
      "              'FMS Contract type': 'Services',\n",
      "              'Headcount of personnel in substantially similar titles within agency': '0',\n",
      "              'Method of renewal/extension the agency intends to utilize': 'Time '\n",
      "                                                                           'Extension',\n",
      "              'Modifications sought to the nature of services performed under the contract': 'None',\n",
      "              'New end date of the proposed renewed/extended contract': '2/15/16',\n",
      "              'New start date of the proposed renewed/extended contract': '2/16/15',\n",
      "              'Personnel in substantially similar titles within agency': 'None',\n",
      "              'Reason(s) the agency intends to renew/extend the contract': 'Funds '\n",
      "                                                                           'in '\n",
      "                                                                           'the '\n",
      "                                                                           'contract '\n",
      "                                                                           'are '\n",
      "                                                                           'not '\n",
      "                                                                           'exhausted. '\n",
      "                                                                           'The '\n",
      "                                                                           'extension '\n",
      "                                                                           'continues '\n",
      "                                                                           'current '\n",
      "                                                                           'services '\n",
      "                                                                           'while '\n",
      "                                                                           'a '\n",
      "                                                                           'new '\n",
      "                                                                           'contract '\n",
      "                                                                           'is '\n",
      "                                                                           'approved.',\n",
      "              'Vendor': 'JES Plumbing and Heating Corp.'}],\n",
      " 'context': 'Notice of Intent to Issue New Solicitation(s) Not Included in '\n",
      "            'FY 2015 Annual Contracting Plan and Schedule',\n",
      " 'preamble': 'NOTICE IS HEREBY GIVENthat the Mayor will be issuing the '\n",
      "             'following solicitation(s) not included in the FY 2015 Annual '\n",
      "             'Contracting Plan and Schedule that is published pursuant to '\n",
      "             'New York City Charter § 312(a):'}\n"
     ]
    },
    {
     "data": {
      "text/html": [
       "<hr />"
      ],
      "text/plain": [
       "<IPython.core.display.HTML object>"
      ]
     },
     "metadata": {},
     "output_type": "display_data"
    },
    {
     "name": "stdout",
     "output_type": "stream",
     "text": [
      "\n",
      "\n",
      "\n"
     ]
    },
    {
     "data": {
      "text/html": [
       "<p> \t<u>Notice of Intent to Issue New Solicitation(s) Not Included in FY 2015 Annual Contracting Plan and Schedule </u></p> <p> \t&nbsp;</p> <p> \t<strong>NOTICE IS HEREBY GIVEN</strong> that the Mayor will be issuing the following solicitation(s) not included in the FY 2015 Annual Contracting Plan and Schedule that is published pursuant to New York City Charter &sect; 312(a):</p> <p> \t&nbsp;</p> <p> \t&nbsp;&nbsp;&nbsp;&nbsp;&nbsp;&nbsp;&nbsp;&nbsp;&nbsp;&nbsp;&nbsp;&nbsp;&nbsp;&nbsp;&nbsp;&nbsp;&nbsp;&nbsp;</p> <p> \tAgency: Department of Parks and Recreation</p> <p> \t&nbsp;</p> <p> \tNature of services sought:&nbsp; Landscape Architectural Services to undertake a comprehensive plan for Staten Island&#39;s East Shore parks</p> <p> \t&nbsp;</p> <p> \tStart Date:&nbsp; 6/1/2015</p> <p> \t&nbsp;</p> <p> \tEnd Date:&nbsp; &nbsp; 3/1/2016</p> <p> \t&nbsp;</p> <p> \tMethod of Solicitation the Agency intends to utilize:&nbsp; Task Order</p> <p> \t&nbsp;</p> <p> \tPersonnel in substantially similar titles within Agency:</p> <p> \t&nbsp;</p> <p> \tLandscape Architect, Assistant Landscape Architect, Landscape Architect Intern. Project Manager, Associate Project Manager, Civil Engineer, Assistant Civil Engineer</p> <p> \t&nbsp;</p> <p> \tHeadcount of personnel in substantially similar titles within Agency:&nbsp; 146</p> <p> \t&nbsp;</p> <p> \t&nbsp;</p> <p> \t&nbsp;</p> <p> \t&nbsp;</p> <p> \t&nbsp;</p> <p> \tAgency: Department of Parks and Recreation</p> <p> \t&nbsp;&nbsp;&nbsp;&nbsp;&nbsp;&nbsp;&nbsp;&nbsp;&nbsp;&nbsp;&nbsp;&nbsp;&nbsp;&nbsp;</p> <p> \tNature of services sought:&nbsp; Architectural Design Services to undertake a comprehensive plan for Staten Island&#39;s East Shore parks</p> <p> \t&nbsp;</p> <p> \tStart Date:&nbsp; 6/1/2015</p> <p> \t&nbsp;</p> <p> \tEnd Date:&nbsp; &nbsp; 3/1/2016</p> <p> \t&nbsp;</p> <p> \tMethod of Solicitation the Agency intends to utilize:&nbsp; Task Order</p> <p> \t&nbsp;</p> <p> \tPersonnel in substantially similar titles within Agency:</p> <p> \t&nbsp;</p> <p> \tArchitect, Architect Intern, Assistant Architect, Landmarks Preservationist, Project Manager, Associate Project Manager, Landscape Architect, Assistant Landscape Architect, Landscape Architect Intern, Civil Engineer, Assistant Civil Engineer</p> <p> \t&nbsp;</p> <p> \tHeadcount of personnel in substantially similar titles within Agency:&nbsp; 161</p> <p> \t&nbsp;</p> <p> \t&nbsp;</p> <p> \t&nbsp;</p> <p> \t&nbsp;</p> <p> \tAgency: Department of Parks and Recreation</p> <p> \t&nbsp;&nbsp;&nbsp;&nbsp;&nbsp;&nbsp;&nbsp;&nbsp;&nbsp;&nbsp;&nbsp;&nbsp;&nbsp;&nbsp;&nbsp;&nbsp;&nbsp;&nbsp;&nbsp;&nbsp;&nbsp;</p> <p> \tNature of services sought:&nbsp; Engineering Design Services to undertake a comprehensive plan for Staten Island&#39;s East Shore parks</p> <p> \t&nbsp;</p> <p> \tStart Date:&nbsp; 6/1/2015</p> <p> \t&nbsp;</p> <p> \tEnd Date:&nbsp; &nbsp; 3/1/2016</p> <p> \t&nbsp;</p> <p> \tMethod of Solicitation the Agency intends to utilize:&nbsp; Task Order</p> <p> \t&nbsp;</p> <p> \tPersonnel in substantially similar titles within Agency:</p> <p> \t&nbsp;</p> <p> \tCivil Engineer, Assistant Civil Engineer, Project Manager, Associate Project Manager, Landscape Architect, Assistant Landscape Architect, Landscape Architect Intern</p> <p> \t&nbsp;</p> <p> \tHeadcount of personnel in substantially similar titles within Agency:&nbsp; 146</p> <p> \t&nbsp;</p> "
      ],
      "text/plain": [
       "<IPython.core.display.HTML object>"
      ]
     },
     "metadata": {},
     "output_type": "display_data"
    },
    {
     "name": "stdout",
     "output_type": "stream",
     "text": [
      "---\n",
      "{'adverts': [{'Agency': 'Department of Parks and Recreation',\n",
      "              'End Date': '3/1/2016',\n",
      "              'Headcount of personnel in substantially similar titles within Agency': '146',\n",
      "              'Method of Solicitation the Agency intends to utilize': 'Task '\n",
      "                                                                      'Order',\n",
      "              'Nature of services sought': 'Landscape Architectural '\n",
      "                                           'Services to undertake a '\n",
      "                                           'comprehensive plan for Staten '\n",
      "                                           \"Island's East Shore parks\",\n",
      "              'Personnel in substantially similar titles within Agency': 'Landscape '\n",
      "                                                                         'Architect, '\n",
      "                                                                         'Assistant '\n",
      "                                                                         'Landscape '\n",
      "                                                                         'Architect, '\n",
      "                                                                         'Landscape '\n",
      "                                                                         'Architect '\n",
      "                                                                         'Intern. '\n",
      "                                                                         'Project '\n",
      "                                                                         'Manager, '\n",
      "                                                                         'Associate '\n",
      "                                                                         'Project '\n",
      "                                                                         'Manager, '\n",
      "                                                                         'Civil '\n",
      "                                                                         'Engineer, '\n",
      "                                                                         'Assistant '\n",
      "                                                                         'Civil '\n",
      "                                                                         'Engineer',\n",
      "              'Start Date': '6/1/2015'},\n",
      "             {'Agency': 'Department of Parks and Recreation',\n",
      "              'End Date': '3/1/2016',\n",
      "              'Headcount of personnel in substantially similar titles within Agency': '161',\n",
      "              'Method of Solicitation the Agency intends to utilize': 'Task '\n",
      "                                                                      'Order',\n",
      "              'Nature of services sought': 'Architectural Design Services '\n",
      "                                           'to undertake a comprehensive '\n",
      "                                           \"plan for Staten Island's East \"\n",
      "                                           'Shore parks',\n",
      "              'Personnel in substantially similar titles within Agency': 'Architect, '\n",
      "                                                                         'Architect '\n",
      "                                                                         'Intern, '\n",
      "                                                                         'Assistant '\n",
      "                                                                         'Architect, '\n",
      "                                                                         'Landmarks '\n",
      "                                                                         'Preservationist, '\n",
      "                                                                         'Project '\n",
      "                                                                         'Manager, '\n",
      "                                                                         'Associate '\n",
      "                                                                         'Project '\n",
      "                                                                         'Manager, '\n",
      "                                                                         'Landscape '\n",
      "                                                                         'Architect, '\n",
      "                                                                         'Assistant '\n",
      "                                                                         'Landscape '\n",
      "                                                                         'Architect, '\n",
      "                                                                         'Landscape '\n",
      "                                                                         'Architect '\n",
      "                                                                         'Intern, '\n",
      "                                                                         'Civil '\n",
      "                                                                         'Engineer, '\n",
      "                                                                         'Assistant '\n",
      "                                                                         'Civil '\n",
      "                                                                         'Engineer',\n",
      "              'Start Date': '6/1/2015'},\n",
      "             {'Agency': 'Department of Parks and Recreation',\n",
      "              'End Date': '3/1/2016',\n",
      "              'Headcount of personnel in substantially similar titles within Agency': '146',\n",
      "              'Method of Solicitation the Agency intends to utilize': 'Task '\n",
      "                                                                      'Order',\n",
      "              'Nature of services sought': 'Engineering Design Services to '\n",
      "                                           'undertake a comprehensive plan '\n",
      "                                           \"for Staten Island's East Shore \"\n",
      "                                           'parks',\n",
      "              'Personnel in substantially similar titles within Agency': 'Civil '\n",
      "                                                                         'Engineer, '\n",
      "                                                                         'Assistant '\n",
      "                                                                         'Civil '\n",
      "                                                                         'Engineer, '\n",
      "                                                                         'Project '\n",
      "                                                                         'Manager, '\n",
      "                                                                         'Associate '\n",
      "                                                                         'Project '\n",
      "                                                                         'Manager, '\n",
      "                                                                         'Landscape '\n",
      "                                                                         'Architect, '\n",
      "                                                                         'Assistant '\n",
      "                                                                         'Landscape '\n",
      "                                                                         'Architect, '\n",
      "                                                                         'Landscape '\n",
      "                                                                         'Architect '\n",
      "                                                                         'Intern',\n",
      "              'Start Date': '6/1/2015'}],\n",
      " 'context': 'Notice of Intent to Issue New Solicitation(s) Not Included in '\n",
      "            'FY 2015 Annual Contracting Plan and Schedule',\n",
      " 'preamble': 'NOTICE IS HEREBY GIVENthat the Mayor will be issuing the '\n",
      "             'following solicitation(s) not included in the FY 2015 Annual '\n",
      "             'Contracting Plan and Schedule that is published pursuant to '\n",
      "             'New York City Charter § 312(a):'}\n"
     ]
    },
    {
     "data": {
      "text/html": [
       "<hr />"
      ],
      "text/plain": [
       "<IPython.core.display.HTML object>"
      ]
     },
     "metadata": {},
     "output_type": "display_data"
    },
    {
     "name": "stdout",
     "output_type": "stream",
     "text": [
      "\n",
      "\n",
      "\n"
     ]
    },
    {
     "data": {
      "text/html": [
       "<p> \t<u>Notice of Intent to Issue New Solicitation(s) Not Included in FY 2015 Annual Contracting Plan and Schedule </u></p> <p> \t&nbsp;</p> <p> \t<strong>NOTICE IS HEREBY GIVEN</strong> that the Mayor will be issuing the following solicitation(s) not included in the FY 2015 Annual Contracting Plan and Schedule that is published pursuant to New York City Charter &sect; 312(a):</p> <p> \t&nbsp;</p> <p> \tAgency: Department of Small Business Services</p> <p> \tDescription of services sought:&nbsp;&nbsp; Disparity Study</p> <p> \tStart date of the proposed contract:&nbsp;&nbsp; July 1, 2015</p> <p> \tEnd date of the proposed contract:&nbsp;&nbsp; June 30, 2017</p> <p> \tMethod of solicitation the agency intends to utilize:&nbsp;&nbsp;&nbsp; Request for Proposals</p> <p> \tPersonnel in substantially similar titles within agency:&nbsp;&nbsp; None</p> <p> \tHeadcount of personnel in substantially similar titles within agency:&nbsp; 0</p> <p> \t&nbsp;</p> "
      ],
      "text/plain": [
       "<IPython.core.display.HTML object>"
      ]
     },
     "metadata": {},
     "output_type": "display_data"
    },
    {
     "name": "stdout",
     "output_type": "stream",
     "text": [
      "---\n",
      "{'adverts': [{'Agency': 'Department of Small Business Services',\n",
      "              'Description of services sought': 'Disparity Study',\n",
      "              'End date of the proposed contract': 'June 30, 2017',\n",
      "              'Headcount of personnel in substantially similar titles within agency': '0',\n",
      "              'Method of solicitation the agency intends to utilize': 'Request '\n",
      "                                                                      'for '\n",
      "                                                                      'Proposals',\n",
      "              'Personnel in substantially similar titles within agency': 'None',\n",
      "              'Start date of the proposed contract': 'July 1, 2015'}],\n",
      " 'context': 'Notice of Intent to Issue New Solicitation(s) Not Included in '\n",
      "            'FY 2015 Annual Contracting Plan and Schedule',\n",
      " 'preamble': 'NOTICE IS HEREBY GIVENthat the Mayor will be issuing the '\n",
      "             'following solicitation(s) not included in the FY 2015 Annual '\n",
      "             'Contracting Plan and Schedule that is published pursuant to '\n",
      "             'New York City Charter § 312(a):'}\n"
     ]
    },
    {
     "data": {
      "text/html": [
       "<hr />"
      ],
      "text/plain": [
       "<IPython.core.display.HTML object>"
      ]
     },
     "metadata": {},
     "output_type": "display_data"
    },
    {
     "name": "stdout",
     "output_type": "stream",
     "text": [
      "\n",
      "\n",
      "\n"
     ]
    },
    {
     "data": {
      "text/html": [
       "NAN"
      ],
      "text/plain": [
       "<IPython.core.display.HTML object>"
      ]
     },
     "metadata": {},
     "output_type": "display_data"
    },
    {
     "name": "stdout",
     "output_type": "stream",
     "text": [
      "---\n",
      "{'error': 'bad input: [nan]'}\n"
     ]
    },
    {
     "data": {
      "text/html": [
       "<hr />"
      ],
      "text/plain": [
       "<IPython.core.display.HTML object>"
      ]
     },
     "metadata": {},
     "output_type": "display_data"
    },
    {
     "name": "stdout",
     "output_type": "stream",
     "text": [
      "\n",
      "\n",
      "\n"
     ]
    },
    {
     "data": {
      "text/html": [
       "<p>  <u>Notice of Intent to Issue New Solicitation(s) Not Included in FY 2015 Annual Contracting Plan and Schedule </u></p> <p>  &nbsp;</p> <p>  <strong>NOTICE IS HEREBY GIVEN</strong> that the Mayor will be issuing the following solicitation(s) not included in the FY 2015 Annual Contracting Plan and Schedule that is published pursuant to New York City Charter &sect; 312(a):</p> <p>  &nbsp;</p> <p>  Agency: Office of Emergency Management</p> <p>  Description of services sought:&nbsp;Urban Search and Rescue Response System Charter Bus Services for continental United States deployments</p> <p>  Start date of the proposed contract:&nbsp;&nbsp; 02/05/2015</p> <p>  End date of the proposed contract:&nbsp;&nbsp; 02/04/2017</p> <p>  Method of solicitation the agency intends to utilize:&nbsp;&nbsp;&nbsp; Intergovernmental</p> <p>  Personnel in substantially similar titles within agency:&nbsp;&nbsp; None</p> <p>  Headcount of personnel in substantially similar titles within agency:&nbsp; 0</p> "
      ],
      "text/plain": [
       "<IPython.core.display.HTML object>"
      ]
     },
     "metadata": {},
     "output_type": "display_data"
    },
    {
     "name": "stdout",
     "output_type": "stream",
     "text": [
      "---\n",
      "{'adverts': [{'Agency': 'Office of Emergency Management',\n",
      "              'Description of services sought': 'Urban Search and Rescue '\n",
      "                                                'Response System Charter '\n",
      "                                                'Bus Services for '\n",
      "                                                'continental United States '\n",
      "                                                'deployments',\n",
      "              'End date of the proposed contract': '02/04/2017',\n",
      "              'Headcount of personnel in substantially similar titles within agency': '0',\n",
      "              'Method of solicitation the agency intends to utilize': 'Intergovernmental',\n",
      "              'Personnel in substantially similar titles within agency': 'None',\n",
      "              'Start date of the proposed contract': '02/05/2015'}],\n",
      " 'context': 'Notice of Intent to Issue New Solicitation(s) Not Included in '\n",
      "            'FY 2015 Annual Contracting Plan and Schedule',\n",
      " 'preamble': 'NOTICE IS HEREBY GIVENthat the Mayor will be issuing the '\n",
      "             'following solicitation(s) not included in the FY 2015 Annual '\n",
      "             'Contracting Plan and Schedule that is published pursuant to '\n",
      "             'New York City Charter § 312(a):'}\n"
     ]
    },
    {
     "data": {
      "text/html": [
       "<hr />"
      ],
      "text/plain": [
       "<IPython.core.display.HTML object>"
      ]
     },
     "metadata": {},
     "output_type": "display_data"
    },
    {
     "name": "stdout",
     "output_type": "stream",
     "text": [
      "\n",
      "\n",
      "\n"
     ]
    },
    {
     "data": {
      "text/html": [
       "<p> \t<u>Notice of Intent to Issue New Solicitation(s) Not Included in FY 2015 Annual Contracting Plan and Schedule </u></p> <p> \t&nbsp;</p> <p> \t<strong>NOTICE IS HEREBY GIVEN</strong> that the Mayor will be issuing the following solicitation(s) not included in the FY 2015 Annual Contracting Plan and Schedule that is published pursuant to New York City Charter &sect; 312(a):</p> <p> \t&nbsp;</p> <p> \tAgency:&nbsp; Human Resources Administration</p> <p> \tNature of services sought:&nbsp; Audio Video Equipment Maintenance</p> <p> \tStart date of the proposed contract:&nbsp; 10/01/15</p> <p> \tEnd date of the proposed contract:&nbsp; 09/30/18</p> <p> \tMethod of solicitation the agency intends to utilize:&nbsp; Competitive Sealed Bidding</p> <p> \tPersonnel in substantially similar titles within agency:&nbsp; None</p> <p> \tHeadcount of personnel in substantially similar titles within agency:&nbsp; 0</p> "
      ],
      "text/plain": [
       "<IPython.core.display.HTML object>"
      ]
     },
     "metadata": {},
     "output_type": "display_data"
    },
    {
     "name": "stdout",
     "output_type": "stream",
     "text": [
      "---\n",
      "{'adverts': [{'Agency': 'Human Resources Administration',\n",
      "              'End date of the proposed contract': '09/30/18',\n",
      "              'Headcount of personnel in substantially similar titles within agency': '0',\n",
      "              'Method of solicitation the agency intends to utilize': 'Competitive '\n",
      "                                                                      'Sealed '\n",
      "                                                                      'Bidding',\n",
      "              'Nature of services sought': 'Audio Video Equipment '\n",
      "                                           'Maintenance',\n",
      "              'Personnel in substantially similar titles within agency': 'None',\n",
      "              'Start date of the proposed contract': '10/01/15'}],\n",
      " 'context': 'Notice of Intent to Issue New Solicitation(s) Not Included in '\n",
      "            'FY 2015 Annual Contracting Plan and Schedule',\n",
      " 'preamble': 'NOTICE IS HEREBY GIVENthat the Mayor will be issuing the '\n",
      "             'following solicitation(s) not included in the FY 2015 Annual '\n",
      "             'Contracting Plan and Schedule that is published pursuant to '\n",
      "             'New York City Charter § 312(a):'}\n"
     ]
    },
    {
     "data": {
      "text/html": [
       "<hr />"
      ],
      "text/plain": [
       "<IPython.core.display.HTML object>"
      ]
     },
     "metadata": {},
     "output_type": "display_data"
    },
    {
     "name": "stdout",
     "output_type": "stream",
     "text": [
      "\n",
      "\n",
      "\n"
     ]
    },
    {
     "data": {
      "text/html": [
       "<p> \t<u>Notice of Intent to Issue New Solicitation(s) Not Included in FY 2015 Annual Contracting Plan and Schedule </u></p> <p> \t&nbsp;</p> <p> \t<strong>NOTICE IS HEREBY GIVEN</strong> that the Mayor will be issuing the following solicitation(s) not included in the FY 2015 Annual Contracting Plan and Schedule that is published pursuant to New York City Charter &sect; 312(a):</p> <p> \t&nbsp;</p> <p> \t&nbsp;</p> <p> \tAgency: Department of Design and Construction</p> <p> \tDescription of services sought:&nbsp;&nbsp; Construction Management Services, Cooling Towers Replacement Spray Ponds at 100 Centre Street</p> <p> \tStart date of the proposed contract:&nbsp;&nbsp; 04/15/2015</p> <p> \tEnd date of the proposed contract:&nbsp;&nbsp;&nbsp;&nbsp; 12/31/2016&nbsp;&nbsp;&nbsp;&nbsp;&nbsp;&nbsp;&nbsp;&nbsp;&nbsp;&nbsp;&nbsp;&nbsp;</p> <p> \tMethod of solicitation the agency intends to utilize:&nbsp;&nbsp; Task Order</p> <p> \tPersonnel in substantially similar titles within agency:&nbsp;&nbsp; None</p> <p> \tHeadcount of personnel in substantially similar titles within agency:&nbsp; 0&nbsp;&nbsp;&nbsp;&nbsp;&nbsp;&nbsp;</p> <p> \t&nbsp;</p> <p> \tAgency: Department of Design and Construction</p> <p> \tDescription of services sought:&nbsp;&nbsp; Construction Management Services for the New Gansevoort Marine Transfer Station</p> <p> \tStart date of the proposed contract:&nbsp;&nbsp; 06/15/2015</p> <p> \tEnd date of the proposed contract:&nbsp;&nbsp;&nbsp;&nbsp; 07/29/2020&nbsp;</p> <p> \tMethod of solicitation the agency intends to utilize:&nbsp;&nbsp; Request for Proposal</p> <p> \tPersonnel in substantially similar titles within agency:&nbsp;&nbsp; None</p> <p> \tHeadcount of personnel in substantially similar titles within agency:&nbsp; 0&nbsp;&nbsp;&nbsp;&nbsp;&nbsp;&nbsp;</p> <p> \t&nbsp;</p> <p> \tAgency: Department of Design and Construction</p> <p> \tDescription of services sought:&nbsp;&nbsp; Design Services for the Woodhaven Community Library</p> <p> \tStart date of the proposed contract:&nbsp; 03/1/2015</p> <p> \tEnd date of the proposed contract:&nbsp;&nbsp;&nbsp; 03/1/2017 &nbsp;&nbsp;&nbsp;&nbsp;&nbsp;&nbsp;&nbsp;&nbsp;&nbsp;&nbsp;&nbsp;&nbsp;&nbsp;&nbsp;&nbsp;</p> <p> \tMethod of solicitation the agency intends to utilize:&nbsp;&nbsp; Task Order</p> <p> \tPersonnel in substantially similar titles within agency:&nbsp;&nbsp; None</p> <p> \tHeadcount of personnel in substantially similar titles within agency:&nbsp; 0&nbsp;&nbsp; &nbsp;&nbsp;&nbsp;&nbsp;</p> <p> \t&nbsp;</p> <p> \tAgency: Department of Design and Construction</p> <p> \tDescription of services sought:&nbsp;&nbsp; Design Services for New Beach Structures in Staten Island</p> <p> \tStart date of the proposed contract:&nbsp;&nbsp; 02/1/2015</p> <p> \tEnd date of the proposed contract:&nbsp;05/1/2018</p> <p> \tMethod of solicitation the agency intends to utilize: Task Order</p> <p> \tPersonnel in substantially similar titles within agency:&nbsp;&nbsp; None</p> <p> \tHeadcount of personnel in substantially similar titles within agency:&nbsp; 0</p> <p> \t&nbsp;</p> <p> \tAgency: Department of Design and Construction</p> <p> \tDescription of services sought:&nbsp;&nbsp; Construction Management Services for New Beach Structures in Staten Island</p> <p> \tStart date of the proposed contract:&nbsp;&nbsp; 02/1/2015</p> <p> \tEnd date of the proposed contract:&nbsp;&nbsp; &nbsp;&nbsp;05/1/2018</p> <p> \tMethod of solicitation the agency intends to utilize: Task Order</p> <p> \tPersonnel in substantially similar titles within agency:&nbsp;&nbsp; None</p> <p> \tHeadcount of personnel in substantially similar titles within agency:&nbsp; 0</p> <p> \t&nbsp;</p> "
      ],
      "text/plain": [
       "<IPython.core.display.HTML object>"
      ]
     },
     "metadata": {},
     "output_type": "display_data"
    },
    {
     "name": "stdout",
     "output_type": "stream",
     "text": [
      "---\n",
      "{'adverts': [{'Agency': 'Department of Design and Construction',\n",
      "              'Description of services sought': 'Construction Management '\n",
      "                                                'Services, Cooling Towers '\n",
      "                                                'Replacement Spray Ponds '\n",
      "                                                'at 100 Centre Street',\n",
      "              'End date of the proposed contract': '12/31/2016',\n",
      "              'Headcount of personnel in substantially similar titles within agency': '0',\n",
      "              'Method of solicitation the agency intends to utilize': 'Task '\n",
      "                                                                      'Order',\n",
      "              'Personnel in substantially similar titles within agency': 'None',\n",
      "              'Start date of the proposed contract': '04/15/2015'},\n",
      "             {'Agency': 'Department of Design and Construction',\n",
      "              'Description of services sought': 'Construction Management '\n",
      "                                                'Services for the New '\n",
      "                                                'Gansevoort Marine '\n",
      "                                                'Transfer Station',\n",
      "              'End date of the proposed contract': '07/29/2020',\n",
      "              'Headcount of personnel in substantially similar titles within agency': '0',\n",
      "              'Method of solicitation the agency intends to utilize': 'Request '\n",
      "                                                                      'for '\n",
      "                                                                      'Proposal',\n",
      "              'Personnel in substantially similar titles within agency': 'None',\n",
      "              'Start date of the proposed contract': '06/15/2015'},\n",
      "             {'Agency': 'Department of Design and Construction',\n",
      "              'Description of services sought': 'Design Services for the '\n",
      "                                                'Woodhaven Community '\n",
      "                                                'Library',\n",
      "              'End date of the proposed contract': '03/1/2017',\n",
      "              'Headcount of personnel in substantially similar titles within agency': '0',\n",
      "              'Method of solicitation the agency intends to utilize': 'Task '\n",
      "                                                                      'Order',\n",
      "              'Personnel in substantially similar titles within agency': 'None',\n",
      "              'Start date of the proposed contract': '03/1/2015'},\n",
      "             {'Agency': 'Department of Design and Construction',\n",
      "              'Description of services sought': 'Design Services for New '\n",
      "                                                'Beach Structures in '\n",
      "                                                'Staten Island',\n",
      "              'End date of the proposed contract': '05/1/2018',\n",
      "              'Headcount of personnel in substantially similar titles within agency': '0',\n",
      "              'Method of solicitation the agency intends to utilize': 'Task '\n",
      "                                                                      'Order',\n",
      "              'Personnel in substantially similar titles within agency': 'None',\n",
      "              'Start date of the proposed contract': '02/1/2015'},\n",
      "             {'Agency': 'Department of Design and Construction',\n",
      "              'Description of services sought': 'Construction Management '\n",
      "                                                'Services for New Beach '\n",
      "                                                'Structures in Staten '\n",
      "                                                'Island',\n",
      "              'End date of the proposed contract': '05/1/2018',\n",
      "              'Headcount of personnel in substantially similar titles within agency': '0',\n",
      "              'Method of solicitation the agency intends to utilize': 'Task '\n",
      "                                                                      'Order',\n",
      "              'Personnel in substantially similar titles within agency': 'None',\n",
      "              'Start date of the proposed contract': '02/1/2015'}],\n",
      " 'context': 'Notice of Intent to Issue New Solicitation(s) Not Included in '\n",
      "            'FY 2015 Annual Contracting Plan and Schedule',\n",
      " 'preamble': 'NOTICE IS HEREBY GIVENthat the Mayor will be issuing the '\n",
      "             'following solicitation(s) not included in the FY 2015 Annual '\n",
      "             'Contracting Plan and Schedule that is published pursuant to '\n",
      "             'New York City Charter § 312(a):'}\n"
     ]
    },
    {
     "data": {
      "text/html": [
       "<hr />"
      ],
      "text/plain": [
       "<IPython.core.display.HTML object>"
      ]
     },
     "metadata": {},
     "output_type": "display_data"
    },
    {
     "name": "stdout",
     "output_type": "stream",
     "text": [
      "\n",
      "\n",
      "\n"
     ]
    },
    {
     "data": {
      "text/html": [
       "<p>  <u>Notice of Intent to Issue New Solicitation(s) Not Included in FY 2015 Annual Contracting Plan and Schedule </u></p> <p>  &nbsp;</p> <p>  <strong>NOTICE IS HEREBY GIVEN</strong> that the Mayor will be issuing the following solicitation(s) not included in the FY 2015 Annual Contracting Plan and Schedule that is published pursuant to New York City Charter &sect; 312(a):</p> <p>  &nbsp;</p> <p>  Agency:&nbsp; Department of Information Technology</p> <p>  Description of services sought: Cisco Central Engineering Services will provide Subject Matter Experts to deliver best practice designs, configurations, lab testing, implementation support and leveraging various Cisco tools.</p> <p>  Start date of the proposed contract: 8/1/2015</p> <p>  End date of the proposed contract:&nbsp; 2/1/2017</p> <p>  Method of solicitation the agency intends to utilize:&nbsp; Intergovernmental</p> <p>  Personnel in substantially similar titles within agency:&nbsp;&nbsp; Senior Network Architect</p> <p>  Headcount of personnel in substantially similar titles within agency:&nbsp;&nbsp; 2</p> <p>  &nbsp;</p> <p>  Agency:&nbsp; Department of Information Technology and Telecommunications</p> <p>  Description of services sought:&nbsp; Establish a Logging and Recording (L&amp;R) system for both NYPD and FDNY at PSAC2, including the design, implementation, installation and testing.</p> <p>  Start date of the proposed contract: 4/1/2015</p> <p>  End date of the proposed contract:&nbsp; 3/31/2018</p> <p>  Method of solicitation the agency intends to utilize:&nbsp; Negotiated Acquisition</p> <p>  Personnel in substantially similar titles within agency:&nbsp;&nbsp; Infrastructure Project Manager, Infrastructure Architect, Infrastructure Engineer</p> <p>  Headcount of personnel in substantially similar titles within agency:&nbsp;&nbsp; 22</p> <p>  &nbsp;</p> <p>  &nbsp;</p> <p>  <u>Notice of Intent to Extend Contract(s) Not Included in FY 2015 Annual Contracting Plan and Schedule</u></p> <p>  &nbsp;</p> <p>  <strong>NOTICE IS HEREBY GIVEN</strong> that the Mayor will be entering into the following extension(s) of (a) contract(s) not included in the FY 2015 Annual Contracting Plan and Schedule that is published pursuant to New York City Charter &sect; 312(a):</p> <p>  &nbsp;</p> <p>  Agency:&nbsp; Department of Information Technology &amp; Telecommunications</p> <p>  FMS Contract #: &nbsp;CTA1-858- 20147204172&nbsp;</p> <p>  Vendor: Comsys IT Services LLC</p> <p>  Description of services:</p> <p>  Provide Subject Matter Expertise in the development of the application requirements along with the design, build and deployment of the application in all environments.&nbsp;</p> <p>  Develop the approach for the future business requirements, plan, design, build and deploy future enhancements and extensions to the existing system.</p> <p>  Design and develop the Documentum platform as an enterprise wide content management system that can be extended to various city agencies on a shared services model.</p> <p>  Report product issues and work with EMC (Documentum vendor) to resolve the issues and&nbsp; test all fixes and system patch releases provided by the vendor.</p> <p>  Award method of original contract: &nbsp;Intergovernmental</p> <p>  FMS Contract type: ITCS Negotiated Acquisition 2</p> <p>  End date of original contract: 12/31/14</p> <p>  Method of renewal/extension the agency intends to utilize: Extension</p> <p>  New start date of the proposed renewed/extended contract: 01/01/15</p> <p>  New end date of the proposed renewed/extended contract: 06/30/15</p> <p>  Modifications sought to the nature of services performed under the contract: None</p> <p>  Reason(s) the agency intends to renew/extend the contract: Continuation of services.</p> <p>  Personnel in substantially similar titles within agency: None</p> <p>  Headcount of personnel in substantially similar titles within agency: &nbsp;0</p> "
      ],
      "text/plain": [
       "<IPython.core.display.HTML object>"
      ]
     },
     "metadata": {},
     "output_type": "display_data"
    },
    {
     "name": "stdout",
     "output_type": "stream",
     "text": [
      "---\n",
      "{'adverts': [{'Agency': 'Department of Information Technology',\n",
      "              'Description of services sought': 'Cisco Central Engineering '\n",
      "                                                'Services will provide '\n",
      "                                                'Subject Matter Experts to '\n",
      "                                                'deliver best practice '\n",
      "                                                'designs, configurations, '\n",
      "                                                'lab testing, '\n",
      "                                                'implementation support '\n",
      "                                                'and leveraging various '\n",
      "                                                'Cisco tools.',\n",
      "              'End date of the proposed contract': '2/1/2017',\n",
      "              'Headcount of personnel in substantially similar titles within agency': '2',\n",
      "              'Method of solicitation the agency intends to utilize': 'Intergovernmental',\n",
      "              'Personnel in substantially similar titles within agency': 'Senior '\n",
      "                                                                         'Network '\n",
      "                                                                         'Architect',\n",
      "              'Start date of the proposed contract': '8/1/2015'},\n",
      "             {'Agency': 'Department of Information Technology and '\n",
      "                        'Telecommunications',\n",
      "              'Description of services sought': 'Establish a Logging and '\n",
      "                                                'Recording (L&R) system '\n",
      "                                                'for both NYPD and FDNY at '\n",
      "                                                'PSAC2, including the '\n",
      "                                                'design, implementation, '\n",
      "                                                'installation and testing.',\n",
      "              'End date of the proposed contract': '3/31/2018',\n",
      "              'Headcount of personnel in substantially similar titles within agency': '22Notice '\n",
      "                                                                                      'of '\n",
      "                                                                                      'Intent '\n",
      "                                                                                      'to '\n",
      "                                                                                      'Extend '\n",
      "                                                                                      'Contract(s) '\n",
      "                                                                                      'Not '\n",
      "                                                                                      'Included '\n",
      "                                                                                      'in '\n",
      "                                                                                      'FY '\n",
      "                                                                                      '2015 '\n",
      "                                                                                      'Annual '\n",
      "                                                                                      'Contracting '\n",
      "                                                                                      'Plan '\n",
      "                                                                                      'and '\n",
      "                                                                                      'Schedule',\n",
      "              'Method of solicitation the agency intends to utilize': 'Negotiated '\n",
      "                                                                      'Acquisition',\n",
      "              'NOTICE IS HEREBY GIVENthat the Mayor will be entering into the following extension(s) of (a) contract(s) not included in the FY 2015 Annual Contracting Plan and Schedule that is published pursuant to New York City Charter § 312(a)': '',\n",
      "              'Personnel in substantially similar titles within agency': 'Infrastructure '\n",
      "                                                                         'Project '\n",
      "                                                                         'Manager, '\n",
      "                                                                         'Infrastructure '\n",
      "                                                                         'Architect, '\n",
      "                                                                         'Infrastructure '\n",
      "                                                                         'Engineer',\n",
      "              'Start date of the proposed contract': '4/1/2015'},\n",
      "             {'Agency': 'Department of Information Technology & '\n",
      "                        'Telecommunications',\n",
      "              'Award method of original contract': 'Intergovernmental',\n",
      "              'Description of services': 'Provide Subject Matter Expertise '\n",
      "                                         'in the development of the '\n",
      "                                         'application requirements along '\n",
      "                                         'with the design, build and '\n",
      "                                         'deployment of the application in '\n",
      "                                         'all environments.Develop the '\n",
      "                                         'approach for the future business '\n",
      "                                         'requirements, plan, design, '\n",
      "                                         'build and deploy future '\n",
      "                                         'enhancements and extensions to '\n",
      "                                         'the existing system.Design and '\n",
      "                                         'develop the Documentum platform '\n",
      "                                         'as an enterprise wide content '\n",
      "                                         'management system that can be '\n",
      "                                         'extended to various city '\n",
      "                                         'agencies on a shared services '\n",
      "                                         'model.Report product issues and '\n",
      "                                         'work with EMC (Documentum '\n",
      "                                         'vendor) to resolve the issues '\n",
      "                                         'and\\xa0 test all fixes and '\n",
      "                                         'system patch releases provided '\n",
      "                                         'by the vendor.',\n",
      "              'End date of original contract': '12/31/14',\n",
      "              'FMS Contract #': 'CTA1-858- 20147204172',\n",
      "              'FMS Contract type': 'ITCS Negotiated Acquisition 2',\n",
      "              'Headcount of personnel in substantially similar titles within agency': '0',\n",
      "              'Method of renewal/extension the agency intends to utilize': 'Extension',\n",
      "              'Modifications sought to the nature of services performed under the contract': 'None',\n",
      "              'New end date of the proposed renewed/extended contract': '06/30/15',\n",
      "              'New start date of the proposed renewed/extended contract': '01/01/15',\n",
      "              'Personnel in substantially similar titles within agency': 'None',\n",
      "              'Reason(s) the agency intends to renew/extend the contract': 'Continuation '\n",
      "                                                                           'of '\n",
      "                                                                           'services.',\n",
      "              'Vendor': 'Comsys IT Services LLC'}],\n",
      " 'context': 'Notice of Intent to Issue New Solicitation(s) Not Included in '\n",
      "            'FY 2015 Annual Contracting Plan and Schedule',\n",
      " 'preamble': 'NOTICE IS HEREBY GIVENthat the Mayor will be issuing the '\n",
      "             'following solicitation(s) not included in the FY 2015 Annual '\n",
      "             'Contracting Plan and Schedule that is published pursuant to '\n",
      "             'New York City Charter § 312(a):'}\n"
     ]
    },
    {
     "data": {
      "text/html": [
       "<hr />"
      ],
      "text/plain": [
       "<IPython.core.display.HTML object>"
      ]
     },
     "metadata": {},
     "output_type": "display_data"
    },
    {
     "name": "stdout",
     "output_type": "stream",
     "text": [
      "\n",
      "\n",
      "\n"
     ]
    },
    {
     "data": {
      "text/html": [
       "<p>  <u>Notice of Intent to Issue New Solicitation(s) Not Included in FY 2015 Annual Contracting Plan and Schedule </u></p> <p>  &nbsp;</p> <p>  <strong>NOTICE IS HEREBY GIVEN</strong> that the Mayor will be issuing the following solicitation(s) not included in the FY 2015 Annual Contracting Plan and Schedule that is published pursuant to New York City Charter &sect; 312(a):</p> <p>  &nbsp;</p> <p>  Agency: Department of Environmental Protection</p> <p>  Description of services sought:&nbsp;&nbsp; FMC-1-2014 install, repair, maintain and inspect Plumbing, Standpipe &amp; Sprinkler Systems at DEP locations</p> <p>  Start date of the proposed contract:&nbsp;&nbsp; 3/16/15</p> <p>  End date of the proposed contract:&nbsp;&nbsp; 3/16/18</p> <p>  Method of solicitation the agency intends to utilize:&nbsp; Competitive Sealed Bid&nbsp;</p> <p>  Personnel in substantially similar titles within agency:&nbsp;&nbsp; None</p> <p>  Headcount of personnel in substantially similar titles within agency:&nbsp; 0</p> <p>  &nbsp;</p> <p>  Agency: Department of Environmental Protection</p> <p>  Description of services sought:&nbsp;&nbsp; FMC-3-2014 HVAC - Repair, maintain Boilers at DEP facilities</p> <p>  Start date of the proposed contract:&nbsp;&nbsp; 3/16/15</p> <p>  End date of the proposed contract:&nbsp;&nbsp; 3/16/18</p> <p>  Method of solicitation the agency intends to utilize:&nbsp;&nbsp;&nbsp; Competitive Sealed Bid&nbsp;</p> <p>  Personnel in substantially similar titles within agency:&nbsp;&nbsp; None</p> <p>  Headcount of personnel in substantially similar titles within agency:&nbsp; 0</p> "
      ],
      "text/plain": [
       "<IPython.core.display.HTML object>"
      ]
     },
     "metadata": {},
     "output_type": "display_data"
    },
    {
     "name": "stdout",
     "output_type": "stream",
     "text": [
      "---\n",
      "{'adverts': [{'Agency': 'Department of Environmental Protection',\n",
      "              'Description of services sought': 'FMC-1-2014 install, '\n",
      "                                                'repair, maintain and '\n",
      "                                                'inspect Plumbing, '\n",
      "                                                'Standpipe & Sprinkler '\n",
      "                                                'Systems at DEP locations',\n",
      "              'End date of the proposed contract': '3/16/18',\n",
      "              'Headcount of personnel in substantially similar titles within agency': '0',\n",
      "              'Method of solicitation the agency intends to utilize': 'Competitive '\n",
      "                                                                      'Sealed '\n",
      "                                                                      'Bid',\n",
      "              'Personnel in substantially similar titles within agency': 'None',\n",
      "              'Start date of the proposed contract': '3/16/15'},\n",
      "             {'Agency': 'Department of Environmental Protection',\n",
      "              'Description of services sought': 'FMC-3-2014 HVAC - Repair, '\n",
      "                                                'maintain Boilers at DEP '\n",
      "                                                'facilities',\n",
      "              'End date of the proposed contract': '3/16/18',\n",
      "              'Headcount of personnel in substantially similar titles within agency': '0',\n",
      "              'Method of solicitation the agency intends to utilize': 'Competitive '\n",
      "                                                                      'Sealed '\n",
      "                                                                      'Bid',\n",
      "              'Personnel in substantially similar titles within agency': 'None',\n",
      "              'Start date of the proposed contract': '3/16/15'}],\n",
      " 'context': 'Notice of Intent to Issue New Solicitation(s) Not Included in '\n",
      "            'FY 2015 Annual Contracting Plan and Schedule',\n",
      " 'preamble': 'NOTICE IS HEREBY GIVENthat the Mayor will be issuing the '\n",
      "             'following solicitation(s) not included in the FY 2015 Annual '\n",
      "             'Contracting Plan and Schedule that is published pursuant to '\n",
      "             'New York City Charter § 312(a):'}\n"
     ]
    },
    {
     "data": {
      "text/html": [
       "<hr />"
      ],
      "text/plain": [
       "<IPython.core.display.HTML object>"
      ]
     },
     "metadata": {},
     "output_type": "display_data"
    },
    {
     "name": "stdout",
     "output_type": "stream",
     "text": [
      "\n",
      "\n",
      "\n"
     ]
    },
    {
     "data": {
      "text/html": [
       "<p> \t<u>Notice of Intent to Issue New Solicitation(s) Not Included in FY 2015 Annual Contracting Plan and Schedule </u></p> <p> \t&nbsp;</p> <p> \t<strong>NOTICE IS HEREBY GIVEN</strong> that the Mayor will be issuing the following solicitation(s) not included in the FY 2015 Annual Contracting Plan and Schedule that is published pursuant to New York City Charter &sect; 312(a):</p> <p> \t&nbsp;</p> <p> \tAgency: &nbsp;Department of Information Technology</p> <p> \tDescription of services sought: Technical Architect to provide System Architecture Review and Planning for NYC Business</p> <p> \tStart date of the proposed contract: 2/1/15</p> <p> \tEnd date of the proposed contract: &nbsp;1/31/16</p> <p> \tMethod of solicitation the agency intends to utilize: &nbsp;Task Order</p> <p> \tPersonnel in substantially similar titles within agency: &nbsp; None</p> <p> \tHeadcount of personnel in substantially similar titles within agency: &nbsp; 0</p> <p> \t&nbsp;</p> <p> \tAgency: &nbsp;Department of Information Technology</p> <p> \tDescription of services sought: Content Management System Developer to provide developer to code CRM solution for NYC Business</p> <p> \tStart date of the proposed contract: 2/1/2015</p> <p> \tEnd date of the proposed contract: &nbsp;1/31/2016</p> <p> \tMethod of solicitation the agency intends to utilize: &nbsp;Task Order</p> <p> \tPersonnel in substantially similar titles within agency: &nbsp; Sharepoint Engineer</p> <p> \tHeadcount of personnel in substantially similar titles within agency: &nbsp; 1</p> <p> \t&nbsp;</p> "
      ],
      "text/plain": [
       "<IPython.core.display.HTML object>"
      ]
     },
     "metadata": {},
     "output_type": "display_data"
    },
    {
     "name": "stdout",
     "output_type": "stream",
     "text": [
      "---\n",
      "{'adverts': [{'Agency': 'Department of Information Technology',\n",
      "              'Description of services sought': 'Technical Architect to '\n",
      "                                                'provide System '\n",
      "                                                'Architecture Review and '\n",
      "                                                'Planning for NYC Business',\n",
      "              'End date of the proposed contract': '1/31/16',\n",
      "              'Headcount of personnel in substantially similar titles within agency': '0',\n",
      "              'Method of solicitation the agency intends to utilize': 'Task '\n",
      "                                                                      'Order',\n",
      "              'Personnel in substantially similar titles within agency': 'None',\n",
      "              'Start date of the proposed contract': '2/1/15'},\n",
      "             {'Agency': 'Department of Information Technology',\n",
      "              'Description of services sought': 'Content Management System '\n",
      "                                                'Developer to provide '\n",
      "                                                'developer to code CRM '\n",
      "                                                'solution for NYC Business',\n",
      "              'End date of the proposed contract': '1/31/2016',\n",
      "              'Headcount of personnel in substantially similar titles within agency': '1',\n",
      "              'Method of solicitation the agency intends to utilize': 'Task '\n",
      "                                                                      'Order',\n",
      "              'Personnel in substantially similar titles within agency': 'Sharepoint '\n",
      "                                                                         'Engineer',\n",
      "              'Start date of the proposed contract': '2/1/2015'}],\n",
      " 'context': 'Notice of Intent to Issue New Solicitation(s) Not Included in '\n",
      "            'FY 2015 Annual Contracting Plan and Schedule',\n",
      " 'preamble': 'NOTICE IS HEREBY GIVENthat the Mayor will be issuing the '\n",
      "             'following solicitation(s) not included in the FY 2015 Annual '\n",
      "             'Contracting Plan and Schedule that is published pursuant to '\n",
      "             'New York City Charter § 312(a):'}\n"
     ]
    },
    {
     "data": {
      "text/html": [
       "<hr />"
      ],
      "text/plain": [
       "<IPython.core.display.HTML object>"
      ]
     },
     "metadata": {},
     "output_type": "display_data"
    },
    {
     "name": "stdout",
     "output_type": "stream",
     "text": [
      "\n",
      "\n",
      "\n"
     ]
    },
    {
     "data": {
      "text/html": [
       "<p> \t<u>Notice of Intent to Issue New Solicitation(s) Not Included in FY 2015 Annual Contracting Plan and Schedule </u></p> <p> \t&nbsp;</p> <p> \t<strong>NOTICE IS HEREBY GIVEN</strong> that the Mayor will be issuing the following solicitation(s) not included in the FY 2015 Annual Contracting Plan and Schedule that is published pursuant to New York City Charter &sect; 312(a):</p> <p> \t&nbsp;</p> <p> \tAgency:&nbsp; Department of Parks and Recreation</p> <p> \tNature of services sought:&nbsp; Upgrade of Software for Recreation membership system to a web-based system</p> <p> \tStart date of the proposed contract:&nbsp; 6/01/2015</p> <p> \tEnd date of the proposed contract:&nbsp; 5/31/2020</p> <p> \tMethod of solicitation the agency intends to utilize:&nbsp; Sole Source</p> <p> \tPersonnel in substantially similar titles within agency:&nbsp; None</p> <p> \tHeadcount of personnel in substantially similar titles within agency:&nbsp; 0</p> "
      ],
      "text/plain": [
       "<IPython.core.display.HTML object>"
      ]
     },
     "metadata": {},
     "output_type": "display_data"
    },
    {
     "name": "stdout",
     "output_type": "stream",
     "text": [
      "---\n",
      "{'adverts': [{'Agency': 'Department of Parks and Recreation',\n",
      "              'End date of the proposed contract': '5/31/2020',\n",
      "              'Headcount of personnel in substantially similar titles within agency': '0',\n",
      "              'Method of solicitation the agency intends to utilize': 'Sole '\n",
      "                                                                      'Source',\n",
      "              'Nature of services sought': 'Upgrade of Software for '\n",
      "                                           'Recreation membership system '\n",
      "                                           'to a web-based system',\n",
      "              'Personnel in substantially similar titles within agency': 'None',\n",
      "              'Start date of the proposed contract': '6/01/2015'}],\n",
      " 'context': 'Notice of Intent to Issue New Solicitation(s) Not Included in '\n",
      "            'FY 2015 Annual Contracting Plan and Schedule',\n",
      " 'preamble': 'NOTICE IS HEREBY GIVENthat the Mayor will be issuing the '\n",
      "             'following solicitation(s) not included in the FY 2015 Annual '\n",
      "             'Contracting Plan and Schedule that is published pursuant to '\n",
      "             'New York City Charter § 312(a):'}\n"
     ]
    },
    {
     "data": {
      "text/html": [
       "<hr />"
      ],
      "text/plain": [
       "<IPython.core.display.HTML object>"
      ]
     },
     "metadata": {},
     "output_type": "display_data"
    },
    {
     "name": "stdout",
     "output_type": "stream",
     "text": [
      "\n",
      "\n",
      "\n"
     ]
    },
    {
     "data": {
      "text/html": [
       "<p> \t<u>Notice of Intent to Issue New Solicitation(s) Not Included in FY 2015 Annual Contracting Plan and Schedule </u></p> <p> \t&nbsp;</p> <p> \t<strong>NOTICE IS HEREBY GIVEN</strong> that the Mayor will be issuing the following solicitation(s) not included in the FY 2015 Annual Contracting Plan and Schedule that is published pursuant to New York City Charter &sect; 312(a):</p> <p> \t&nbsp;</p> <p> \tAgency: Department of Finance</p> <p> \tDescription of services sought:&nbsp;&nbsp; On-Site Mobile Shredding Services</p> <p> \tStart date of the proposed contract:&nbsp;&nbsp;7/1/2015</p> <p> \tEnd date of the proposed contract:&nbsp;&nbsp; &nbsp;6/30/2020</p> <p> \tMethod of solicitation the agency intends to utilize:&nbsp;&nbsp;&nbsp; Required Method (Preferred Source)</p> <p> \tPersonnel in substantially similar titles within agency:&nbsp;&nbsp; None</p> <p> \tHeadcount of personnel in substantially similar titles within agency:&nbsp; 0</p> "
      ],
      "text/plain": [
       "<IPython.core.display.HTML object>"
      ]
     },
     "metadata": {},
     "output_type": "display_data"
    },
    {
     "name": "stdout",
     "output_type": "stream",
     "text": [
      "---\n",
      "{'adverts': [{'Agency': 'Department of Finance',\n",
      "              'Description of services sought': 'On-Site Mobile Shredding '\n",
      "                                                'Services',\n",
      "              'End date of the proposed contract': '6/30/2020',\n",
      "              'Headcount of personnel in substantially similar titles within agency': '0',\n",
      "              'Method of solicitation the agency intends to utilize': 'Required '\n",
      "                                                                      'Method '\n",
      "                                                                      '(Preferred '\n",
      "                                                                      'Source)',\n",
      "              'Personnel in substantially similar titles within agency': 'None',\n",
      "              'Start date of the proposed contract': '7/1/2015'}],\n",
      " 'context': 'Notice of Intent to Issue New Solicitation(s) Not Included in '\n",
      "            'FY 2015 Annual Contracting Plan and Schedule',\n",
      " 'preamble': 'NOTICE IS HEREBY GIVENthat the Mayor will be issuing the '\n",
      "             'following solicitation(s) not included in the FY 2015 Annual '\n",
      "             'Contracting Plan and Schedule that is published pursuant to '\n",
      "             'New York City Charter § 312(a):'}\n"
     ]
    },
    {
     "data": {
      "text/html": [
       "<hr />"
      ],
      "text/plain": [
       "<IPython.core.display.HTML object>"
      ]
     },
     "metadata": {},
     "output_type": "display_data"
    },
    {
     "name": "stdout",
     "output_type": "stream",
     "text": [
      "\n",
      "\n",
      "\n"
     ]
    },
    {
     "data": {
      "text/html": [
       "<p> \t<u>Notice of Intent to Issue New Solicitation(s) Not Included in FY 2015 Annual Contracting Plan and Schedule </u></p> <p> \t&nbsp;</p> <p> \t<strong>NOTICE IS HEREBY GIVEN</strong> that the Mayor will be issuing the following solicitation(s) not included in the FY 2015 Annual Contracting Plan and Schedule that is published pursuant to New York City Charter &sect; 312(a):</p> <p> \t&nbsp;</p> <p> \tAgency: Department of Health and Mental Hygiene<br /> \tNature of services sought: Provision of public education messages through media campaigns services<br /> \tStart date of the proposed contract: 12/01/2015<br /> \tEnd date of the proposed contract: 11/30/2018<br /> \tMethod of solicitation the agency intends to utilize: Competitive Sealed Proposal<br /> \tPersonnel in substantially similar titles within agency: None<br /> \tHeadcount of personnel in substantially similar titles within agency: 0</p> "
      ],
      "text/plain": [
       "<IPython.core.display.HTML object>"
      ]
     },
     "metadata": {},
     "output_type": "display_data"
    },
    {
     "name": "stdout",
     "output_type": "stream",
     "text": [
      "---\n",
      "{'adverts': [{'Agency': 'Department of Health and Mental HygieneNature of '\n",
      "                        'services sought: Provision of public education '\n",
      "                        'messages through media campaigns servicesStart '\n",
      "                        'date of the proposed contract: 12/01/2015End date '\n",
      "                        'of the proposed contract: 11/30/2018Method of '\n",
      "                        'solicitation the agency intends to utilize: '\n",
      "                        'Competitive Sealed ProposalPersonnel in '\n",
      "                        'substantially similar titles within agency: '\n",
      "                        'NoneHeadcount of personnel in substantially '\n",
      "                        'similar titles within agency: 0'}],\n",
      " 'context': 'Notice of Intent to Issue New Solicitation(s) Not Included in '\n",
      "            'FY 2015 Annual Contracting Plan and Schedule',\n",
      " 'preamble': 'NOTICE IS HEREBY GIVENthat the Mayor will be issuing the '\n",
      "             'following solicitation(s) not included in the FY 2015 Annual '\n",
      "             'Contracting Plan and Schedule that is published pursuant to '\n",
      "             'New York City Charter § 312(a):'}\n"
     ]
    },
    {
     "data": {
      "text/html": [
       "<hr />"
      ],
      "text/plain": [
       "<IPython.core.display.HTML object>"
      ]
     },
     "metadata": {},
     "output_type": "display_data"
    },
    {
     "name": "stdout",
     "output_type": "stream",
     "text": [
      "\n",
      "\n",
      "\n"
     ]
    },
    {
     "data": {
      "text/html": [
       "<p> \t<u>Notice of Intent to Issue New Solicitation(s) Not Included in FY 2015 Annual Contracting Plan and Schedule </u></p> <p> \t&nbsp;</p> <p> \t<strong>NOTICE IS HEREBY GIVEN</strong> that the Mayor will be issuing the following solicitation(s) not included in the FY 2015 Annual Contracting Plan and Schedule that is published pursuant to New York City Charter &sect; 312(a):</p> <p> \t&nbsp;</p> <p> \tAgency:&nbsp; Department of Environmental Protection</p> <p> \tDescription of services sought:&nbsp; SEQNS-FLD DSGN: Design and Design during Construction for SE Queens Flooding Mitigation Program.</p> <p> \tStart date of the proposed contract:&nbsp; 1/15/2016</p> <p> \tEnd date of the proposed contract:&nbsp; 1/14/2020</p> <p> \tMethod of solicitation the agency intends to utilize:&nbsp; Request for Proposals</p> <p> \tPersonnel in substantially similar titles within agency:&nbsp; None</p> <p> \tHeadcount of personnel in substantially similar titles within agency:&nbsp; 0</p> "
      ],
      "text/plain": [
       "<IPython.core.display.HTML object>"
      ]
     },
     "metadata": {},
     "output_type": "display_data"
    },
    {
     "name": "stdout",
     "output_type": "stream",
     "text": [
      "---\n",
      "{'adverts': [{'Agency': 'Department of Environmental Protection',\n",
      "              'Description of services sought': 'SEQNS-FLD DSGN: Design '\n",
      "                                                'and Design during '\n",
      "                                                'Construction for SE '\n",
      "                                                'Queens Flooding '\n",
      "                                                'Mitigation Program.',\n",
      "              'End date of the proposed contract': '1/14/2020',\n",
      "              'Headcount of personnel in substantially similar titles within agency': '0',\n",
      "              'Method of solicitation the agency intends to utilize': 'Request '\n",
      "                                                                      'for '\n",
      "                                                                      'Proposals',\n",
      "              'Personnel in substantially similar titles within agency': 'None',\n",
      "              'Start date of the proposed contract': '1/15/2016'}],\n",
      " 'context': 'Notice of Intent to Issue New Solicitation(s) Not Included in '\n",
      "            'FY 2015 Annual Contracting Plan and Schedule',\n",
      " 'preamble': 'NOTICE IS HEREBY GIVENthat the Mayor will be issuing the '\n",
      "             'following solicitation(s) not included in the FY 2015 Annual '\n",
      "             'Contracting Plan and Schedule that is published pursuant to '\n",
      "             'New York City Charter § 312(a):'}\n"
     ]
    },
    {
     "data": {
      "text/html": [
       "<hr />"
      ],
      "text/plain": [
       "<IPython.core.display.HTML object>"
      ]
     },
     "metadata": {},
     "output_type": "display_data"
    },
    {
     "name": "stdout",
     "output_type": "stream",
     "text": [
      "\n",
      "\n",
      "\n"
     ]
    }
   ],
   "source": [
    "for rec in fix[['output', 'AdditionalDescription']].values:\n",
    "    output, text = rec\n",
    "    if not isinstance(text, str):\n",
    "        text = 'NAN'\n",
    "    display(HTML(text))\n",
    "    print('---')\n",
    "    pprint.pprint(json.loads(output))\n",
    "    display(HTML('<hr />'))\n",
    "    print('\\n\\n')"
   ]
  },
  {
   "cell_type": "code",
   "execution_count": null,
   "metadata": {
    "collapsed": true
   },
   "outputs": [],
   "source": []
  }
 ],
 "metadata": {
  "kernelspec": {
   "display_name": "Python 3",
   "language": "python",
   "name": "python3"
  },
  "language_info": {
   "codemirror_mode": {
    "name": "ipython",
    "version": 3
   },
   "file_extension": ".py",
   "mimetype": "text/x-python",
   "name": "python",
   "nbconvert_exporter": "python",
   "pygments_lexer": "ipython3",
   "version": "3.4.3"
  }
 },
 "nbformat": 4,
 "nbformat_minor": 0
}
