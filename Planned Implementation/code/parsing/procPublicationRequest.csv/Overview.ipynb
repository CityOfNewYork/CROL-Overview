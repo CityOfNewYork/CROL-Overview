{
 "cells": [
  {
   "cell_type": "markdown",
   "metadata": {},
   "source": [
    "**Message Count in descending order, grouped by Agency name & TypeOfNoticeDescription**"
   ]
  },
  {
   "cell_type": "code",
   "execution_count": 1,
   "metadata": {
    "collapsed": false
   },
   "outputs": [],
   "source": [
    "import pandas as pd\n",
    "import numpy as np\n",
    "from IPython.display import display\n",
    "pd.options.display.max_rows=500\n",
    "\n",
    "import utils\n"
   ]
  },
  {
   "cell_type": "code",
   "execution_count": 2,
   "metadata": {
    "collapsed": true
   },
   "outputs": [],
   "source": [
    "fns = ['orig.procPublicationRequest.oct-dec-2014.csv',      \n",
    "       'orig.procPublicationRequestDMSSPortal.oct-dec-2014.csv' ]"
   ]
  },
  {
   "cell_type": "code",
   "execution_count": 3,
   "metadata": {
    "collapsed": false
   },
   "outputs": [
    {
     "name": "stdout",
     "output_type": "stream",
     "text": [
      "Top 10 message types in orig.procPublicationRequest.oct-dec-2014.csv:\n"
     ]
    },
    {
     "data": {
      "text/html": [
       "<div style=\"max-height:1000px;max-width:1500px;overflow:auto;\">\n",
       "<table border=\"1\" class=\"dataframe\">\n",
       "  <thead>\n",
       "    <tr style=\"text-align: right;\">\n",
       "      <th></th>\n",
       "      <th></th>\n",
       "      <th>MessageCount</th>\n",
       "    </tr>\n",
       "    <tr>\n",
       "      <th>AgencyName</th>\n",
       "      <th>TypeOfNoticeDescription</th>\n",
       "      <th></th>\n",
       "    </tr>\n",
       "  </thead>\n",
       "  <tbody>\n",
       "    <tr>\n",
       "      <th>Mayor's Office of Contract Services</th>\n",
       "      <th>Notice</th>\n",
       "      <td>64</td>\n",
       "    </tr>\n",
       "    <tr>\n",
       "      <th>Community Boards</th>\n",
       "      <th>Public Hearings</th>\n",
       "      <td>36</td>\n",
       "    </tr>\n",
       "    <tr>\n",
       "      <th>Citywide Administrative Services</th>\n",
       "      <th>Public Hearings</th>\n",
       "      <td>20</td>\n",
       "    </tr>\n",
       "    <tr>\n",
       "      <th>Housing Preservation and Development</th>\n",
       "      <th>Notice</th>\n",
       "      <td>15</td>\n",
       "    </tr>\n",
       "    <tr>\n",
       "      <th>Citywide Administrative Services</th>\n",
       "      <th>Notice</th>\n",
       "      <td>15</td>\n",
       "    </tr>\n",
       "    <tr>\n",
       "      <th>City Planning</th>\n",
       "      <th>Notice</th>\n",
       "      <td>13</td>\n",
       "    </tr>\n",
       "    <tr>\n",
       "      <th>Administration for Children's Services</th>\n",
       "      <th>Public Hearings</th>\n",
       "      <td>13</td>\n",
       "    </tr>\n",
       "    <tr>\n",
       "      <th>Board Meetings</th>\n",
       "      <th>Meeting</th>\n",
       "      <td>12</td>\n",
       "    </tr>\n",
       "    <tr>\n",
       "      <th>Board of Standards and Appeals</th>\n",
       "      <th>Public Hearings</th>\n",
       "      <td>10</td>\n",
       "    </tr>\n",
       "    <tr>\n",
       "      <th>Transportation</th>\n",
       "      <th>Public Hearings</th>\n",
       "      <td>9</td>\n",
       "    </tr>\n",
       "  </tbody>\n",
       "</table>\n",
       "</div>"
      ],
      "text/plain": [
       "                                                                MessageCount\n",
       "AgencyName                             TypeOfNoticeDescription              \n",
       "Mayor's Office of Contract Services    Notice                             64\n",
       "Community Boards                       Public Hearings                    36\n",
       "Citywide Administrative Services       Public Hearings                    20\n",
       "Housing Preservation and Development   Notice                             15\n",
       "Citywide Administrative Services       Notice                             15\n",
       "City Planning                          Notice                             13\n",
       "Administration for Children's Services Public Hearings                    13\n",
       "Board Meetings                         Meeting                            12\n",
       "Board of Standards and Appeals         Public Hearings                    10\n",
       "Transportation                         Public Hearings                     9"
      ]
     },
     "metadata": {},
     "output_type": "display_data"
    },
    {
     "name": "stdout",
     "output_type": "stream",
     "text": [
      "\n",
      "\n",
      "----\n",
      "\n",
      "\n",
      "Top 10 message types in orig.procPublicationRequestDMSSPortal.oct-dec-2014.csv:\n"
     ]
    },
    {
     "data": {
      "text/html": [
       "<div style=\"max-height:1000px;max-width:1500px;overflow:auto;\">\n",
       "<table border=\"1\" class=\"dataframe\">\n",
       "  <thead>\n",
       "    <tr style=\"text-align: right;\">\n",
       "      <th></th>\n",
       "      <th></th>\n",
       "      <th>MessageCount</th>\n",
       "    </tr>\n",
       "    <tr>\n",
       "      <th>AgencyName</th>\n",
       "      <th>TypeOfNoticeDescription</th>\n",
       "      <th></th>\n",
       "    </tr>\n",
       "  </thead>\n",
       "  <tbody>\n",
       "    <tr>\n",
       "      <th rowspan=\"2\" valign=\"top\">Citywide Administrative Services</th>\n",
       "      <th>Award</th>\n",
       "      <td>116</td>\n",
       "    </tr>\n",
       "    <tr>\n",
       "      <th>Solicitation</th>\n",
       "      <td>101</td>\n",
       "    </tr>\n",
       "    <tr>\n",
       "      <th>Housing Authority</th>\n",
       "      <th>Solicitation</th>\n",
       "      <td>93</td>\n",
       "    </tr>\n",
       "    <tr>\n",
       "      <th>Human Resources Administration</th>\n",
       "      <th>Award</th>\n",
       "      <td>53</td>\n",
       "    </tr>\n",
       "    <tr>\n",
       "      <th>Design and Construction</th>\n",
       "      <th>Award</th>\n",
       "      <td>47</td>\n",
       "    </tr>\n",
       "    <tr>\n",
       "      <th>Health and Mental Hygiene</th>\n",
       "      <th>Award</th>\n",
       "      <td>43</td>\n",
       "    </tr>\n",
       "    <tr>\n",
       "      <th>Parks and Recreation</th>\n",
       "      <th>Solicitation</th>\n",
       "      <td>42</td>\n",
       "    </tr>\n",
       "    <tr>\n",
       "      <th>Design and Construction</th>\n",
       "      <th>Solicitation</th>\n",
       "      <td>38</td>\n",
       "    </tr>\n",
       "    <tr>\n",
       "      <th>Environmental Protection</th>\n",
       "      <th>Solicitation</th>\n",
       "      <td>31</td>\n",
       "    </tr>\n",
       "    <tr>\n",
       "      <th>Transportation</th>\n",
       "      <th>Solicitation</th>\n",
       "      <td>24</td>\n",
       "    </tr>\n",
       "  </tbody>\n",
       "</table>\n",
       "</div>"
      ],
      "text/plain": [
       "                                                          MessageCount\n",
       "AgencyName                       TypeOfNoticeDescription              \n",
       "Citywide Administrative Services Award                             116\n",
       "                                 Solicitation                      101\n",
       "Housing Authority                Solicitation                       93\n",
       "Human Resources Administration   Award                              53\n",
       "Design and Construction          Award                              47\n",
       "Health and Mental Hygiene        Award                              43\n",
       "Parks and Recreation             Solicitation                       42\n",
       "Design and Construction          Solicitation                       38\n",
       "Environmental Protection         Solicitation                       31\n",
       "Transportation                   Solicitation                       24"
      ]
     },
     "metadata": {},
     "output_type": "display_data"
    },
    {
     "name": "stdout",
     "output_type": "stream",
     "text": [
      "\n",
      "\n",
      "----\n",
      "\n",
      "\n"
     ]
    }
   ],
   "source": [
    "for fn in fns:\n",
    "    print('Top 10 message types in {}:'.format(fn)) \n",
    "    df = pd.read_csv(fn, header=0, sep='|', encoding='latin-1')\n",
    "    display(utils.pivot_df(df).head(10))\n",
    "    print('\\n\\n----\\n\\n')\n"
   ]
  },
  {
   "cell_type": "code",
   "execution_count": null,
   "metadata": {
    "collapsed": true
   },
   "outputs": [],
   "source": []
  },
  {
   "cell_type": "code",
   "execution_count": null,
   "metadata": {
    "collapsed": true
   },
   "outputs": [],
   "source": []
  }
 ],
 "metadata": {
  "kernelspec": {
   "display_name": "Python 3",
   "language": "python",
   "name": "python3"
  },
  "language_info": {
   "codemirror_mode": {
    "name": "ipython",
    "version": 3
   },
   "file_extension": ".py",
   "mimetype": "text/x-python",
   "name": "python",
   "nbconvert_exporter": "python",
   "pygments_lexer": "ipython3",
   "version": "3.4.3"
  }
 },
 "nbformat": 4,
 "nbformat_minor": 0
}
