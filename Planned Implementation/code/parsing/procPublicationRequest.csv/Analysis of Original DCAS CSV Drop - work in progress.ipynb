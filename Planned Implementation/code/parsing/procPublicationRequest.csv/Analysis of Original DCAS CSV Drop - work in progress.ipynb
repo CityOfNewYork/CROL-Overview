{
 "cells": [
  {
   "cell_type": "code",
   "execution_count": 1,
   "metadata": {
    "collapsed": false
   },
   "outputs": [
    {
     "name": "stdout",
     "output_type": "stream",
     "text": [
      "[original] procPublicationRequest Oct-Dec 2014 (2).csv        [original] procPublicationRequestDMSSPortal Oct-Dec 2014.csv\r\n"
     ]
    }
   ],
   "source": [
    "%ls *original*"
   ]
  },
  {
   "cell_type": "code",
   "execution_count": 2,
   "metadata": {
    "collapsed": true
   },
   "outputs": [],
   "source": [
    "from bs4 import BeautifulSoup as Soup\n",
    "from IPython.display import HTML\n",
    "import pandas as pd\n",
    "import numpy as np\n",
    "import re\n",
    "import pprint\n",
    "import json"
   ]
  },
  {
   "cell_type": "code",
   "execution_count": 3,
   "metadata": {
    "collapsed": true
   },
   "outputs": [],
   "source": [
    "fns = [\n",
    "    '[original] procPublicationRequestDMSSPortal Oct-Dec 2014.csv',\n",
    "    '[original] procPublicationRequest Oct-Dec 2014 (2).csv'\n",
    "]"
   ]
  },
  {
   "cell_type": "code",
   "execution_count": 4,
   "metadata": {
    "collapsed": true
   },
   "outputs": [],
   "source": [
    "r1 = pd.read_csv(fns[0], header=0, sep='|', encoding='ISO-8859-1')\n",
    "r2 = pd.read_csv(fns[1], header=0, sep='|', encoding='ISO-8859-1')"
   ]
  },
  {
   "cell_type": "code",
   "execution_count": 9,
   "metadata": {
    "collapsed": false
   },
   "outputs": [
    {
     "data": {
      "text/plain": [
       "Index(['RequestID', 'StartDate', 'EndDate', 'AgencyCode', 'AgencyName', 'AgencyDivision', 'TypeOfNoticeCode', 'TypeOfNoticeDescription', 'CategoryCode', 'CategoryDescription', 'ShortTitle', 'SelectionMethodCode', 'SelectionMethodDescription', 'SectionID', 'SectionName', 'SpecialCaseReasonCode', 'SpecialCaseReasonDescription', 'PIN', 'DueDate', 'AddressToRequest', 'ContactName', 'ContactPhone', 'Email', 'AddressToSubmit', 'ContractAmount', 'RequestedBy', 'PhoneRequested', 'ConfirmationNumber', 'ContactFax', 'AdditionalDescription', 'OtherInfo', 'VendorName', 'VendorAddress', 'Printout'], dtype='object')"
      ]
     },
     "execution_count": 9,
     "metadata": {},
     "output_type": "execute_result"
    }
   ],
   "source": [
    "r1.columns"
   ]
  },
  {
   "cell_type": "code",
   "execution_count": 11,
   "metadata": {
    "collapsed": false,
    "scrolled": false
   },
   "outputs": [
    {
     "data": {
      "text/plain": [
       "['CategoryCode',\n",
       " 'CategoryDescription',\n",
       " 'SelectionMethodCode',\n",
       " 'SelectionMethodDescription',\n",
       " 'SpecialCaseReasonCode',\n",
       " 'SpecialCaseReasonDescription',\n",
       " 'PIN',\n",
       " 'AddressToRequest',\n",
       " 'ContactName',\n",
       " 'ContactPhone',\n",
       " 'Email',\n",
       " 'AddressToSubmit',\n",
       " 'ContractAmount',\n",
       " 'RequestedBy',\n",
       " 'PhoneRequested',\n",
       " 'ContactFax',\n",
       " 'OtherInfo',\n",
       " 'VendorName',\n",
       " 'VendorAddress',\n",
       " 'Printout']"
      ]
     },
     "execution_count": 11,
     "metadata": {},
     "output_type": "execute_result"
    }
   ],
   "source": [
    "r1c = list(r1.columns)\n",
    "r2c = list(r2.columns)\n",
    "in1 = [i for i in r1c if i not in r2c]\n",
    "in2 = [i for i in r2c if i not in r1c]\n",
    "in1"
   ]
  },
  {
   "cell_type": "code",
   "execution_count": 12,
   "metadata": {
    "collapsed": false
   },
   "outputs": [
    {
     "data": {
      "text/plain": [
       "[]"
      ]
     },
     "execution_count": 12,
     "metadata": {},
     "output_type": "execute_result"
    }
   ],
   "source": [
    "in2"
   ]
  },
  {
   "cell_type": "markdown",
   "metadata": {},
   "source": [
    "**Here are examples of requestID fields that are obviously incorrect.**\n",
    "**These fields should be of the form: '20140930007' "
   ]
  },
  {
   "cell_type": "code",
   "execution_count": null,
   "metadata": {
    "collapsed": false,
    "scrolled": true
   },
   "outputs": [],
   "source": [
    "# for row in r1['RequestID'].values:\n",
    "#     if isinstance(row, str) and row.startswith('2014'):\n",
    "#         continue\n",
    "#     print (type(row), row)\n",
    "#     print ('---\\n')"
   ]
  },
  {
   "cell_type": "code",
   "execution_count": null,
   "metadata": {
    "collapsed": false
   },
   "outputs": [],
   "source": [
    "# for row in r2['RequestID'].values:\n",
    "#     if isinstance(row, str) and row.startswith('2014'):\n",
    "#         continue\n",
    "#     print (type(row), row)\n",
    "#     print ('---\\n')"
   ]
  },
  {
   "cell_type": "code",
   "execution_count": 17,
   "metadata": {
    "collapsed": true
   },
   "outputs": [],
   "source": [
    "rows = r1.copy()"
   ]
  },
  {
   "cell_type": "code",
   "execution_count": 18,
   "metadata": {
    "collapsed": false
   },
   "outputs": [
    {
     "data": {
      "text/plain": [
       "(1170, 478, 1648)"
      ]
     },
     "execution_count": 18,
     "metadata": {},
     "output_type": "execute_result"
    }
   ],
   "source": [
    "rows = r1.append(r2, ignore_index=True)\n",
    "len(r1), len(r2), len(rows)\n"
   ]
  },
  {
   "cell_type": "code",
   "execution_count": null,
   "metadata": {
    "collapsed": true
   },
   "outputs": [],
   "source": []
  },
  {
   "cell_type": "code",
   "execution_count": 20,
   "metadata": {
    "collapsed": false
   },
   "outputs": [
    {
     "name": "stdout",
     "output_type": "stream",
     "text": [
      "<class 'pandas.core.frame.DataFrame'>\n",
      "Int64Index: 1648 entries, 0 to 1647\n",
      "Data columns (total 34 columns):\n",
      "AdditionalDescription           967 non-null object\n",
      "AddressToRequest                548 non-null object\n",
      "AddressToSubmit                 543 non-null object\n",
      "AgencyCode                      1579 non-null object\n",
      "AgencyDivision                  989 non-null object\n",
      "AgencyName                      1440 non-null object\n",
      "CategoryCode                    962 non-null float64\n",
      "CategoryDescription             962 non-null object\n",
      "ConfirmationNumber              1440 non-null float64\n",
      "ContactFax                      330 non-null float64\n",
      "ContactName                     548 non-null object\n",
      "ContactPhone                    548 non-null float64\n",
      "ContractAmount                  414 non-null float64\n",
      "DueDate                         708 non-null object\n",
      "Email                           512 non-null object\n",
      "EndDate                         1485 non-null object\n",
      "OtherInfo                       265 non-null object\n",
      "PIN                             958 non-null object\n",
      "PhoneRequested                  962 non-null float64\n",
      "Printout                        823 non-null object\n",
      "RequestID                       1609 non-null object\n",
      "RequestedBy                     962 non-null object\n",
      "SectionID                       1440 non-null float64\n",
      "SectionName                     1440 non-null object\n",
      "SelectionMethodCode             958 non-null float64\n",
      "SelectionMethodDescription      958 non-null object\n",
      "ShortTitle                      1440 non-null object\n",
      "SpecialCaseReasonCode           262 non-null float64\n",
      "SpecialCaseReasonDescription    262 non-null object\n",
      "StartDate                       1485 non-null object\n",
      "TypeOfNoticeCode                1440 non-null float64\n",
      "TypeOfNoticeDescription         1440 non-null object\n",
      "VendorAddress                   363 non-null object\n",
      "VendorName                      363 non-null object\n",
      "dtypes: float64(10), object(24)\n",
      "memory usage: 450.6+ KB\n"
     ]
    }
   ],
   "source": [
    "rows.info()"
   ]
  },
  {
   "cell_type": "code",
   "execution_count": null,
   "metadata": {
    "collapsed": true
   },
   "outputs": [],
   "source": []
  }
 ],
 "metadata": {
  "kernelspec": {
   "display_name": "Python 3",
   "language": "python",
   "name": "python3"
  },
  "language_info": {
   "codemirror_mode": {
    "name": "ipython",
    "version": 3
   },
   "file_extension": ".py",
   "mimetype": "text/x-python",
   "name": "python",
   "nbconvert_exporter": "python",
   "pygments_lexer": "ipython3",
   "version": "3.4.3"
  }
 },
 "nbformat": 4,
 "nbformat_minor": 0
}
