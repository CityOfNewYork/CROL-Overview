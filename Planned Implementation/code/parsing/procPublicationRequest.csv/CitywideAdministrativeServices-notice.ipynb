{
 "cells": [
  {
   "cell_type": "markdown",
   "metadata": {},
   "source": [
    "**Status**\n",
    "* Starter notebook for Parsing: Citywide Administrative Services Notice\n",
    "\n"
   ]
  },
  {
   "cell_type": "code",
   "execution_count": 1,
   "metadata": {
    "collapsed": false
   },
   "outputs": [],
   "source": [
    "from bs4 import BeautifulSoup as Soup\n",
    "from IPython.display import display, HTML\n",
    "import pandas as pd\n",
    "import re\n",
    "import pprint\n",
    "import json"
   ]
  },
  {
   "cell_type": "code",
   "execution_count": 2,
   "metadata": {
    "collapsed": false
   },
   "outputs": [],
   "source": [
    "fn = 'procPublicationRequest Oct-Dec 2014 (Updated) - Sheet1-2.csv'\n",
    "rows = pd.read_csv(fn, header=0)"
   ]
  },
  {
   "cell_type": "code",
   "execution_count": 3,
   "metadata": {
    "collapsed": false
   },
   "outputs": [],
   "source": [
    "agency = rows['AgencyName'] == \"Citywide Administrative Services\"\n",
    "description = rows['TypeOfNoticeDescription'] == \"Notice\"\n",
    "target_rows = rows[agency & description]\n"
   ]
  },
  {
   "cell_type": "code",
   "execution_count": 4,
   "metadata": {
    "collapsed": true
   },
   "outputs": [],
   "source": [
    "orig_prettify = Soup.prettify\n",
    "r = re.compile(r'^(\\s*)', re.MULTILINE)\n",
    "def prettify(self, encoding=None, formatter=\"minimal\", indent_width=4):\n",
    "    return r.sub(r'\\1' * indent_width, orig_prettify(self, encoding, formatter))\n",
    "Soup.prettify = prettify"
   ]
  },
  {
   "cell_type": "code",
   "execution_count": 5,
   "metadata": {
    "collapsed": true
   },
   "outputs": [],
   "source": [
    "def scrape(row):\n",
    "    output = {}\n",
    "    text = row.AdditionalDescription\n",
    "    if not isinstance(text, str):\n",
    "        output = { 'error' : 'source is not a string: {}'.format(text) }\n",
    "    else:\n",
    "        display(HTML(text))\n",
    "        display(HTML('<hr/>'))\n",
    "\n",
    "    row['output'] = json.dumps(output)\n",
    "    return row"
   ]
  },
  {
   "cell_type": "code",
   "execution_count": 6,
   "metadata": {
    "collapsed": false,
    "scrolled": false
   },
   "outputs": [
    {
     "data": {
      "text/html": [
       "<p> The Department of Citywide Administrative Services, Office of Citywide Procurement is currently selling surplus assets on</p> <p> the internet. Visit <a href=http://www.publicsurplus.com/sms/nycdcas.ny/browse/home\">http://www.publicsurplus.com/sms/nycdcas.ny/browse/home</a></p> <p> &nbsp;</p> <p> To begin bidding"
      ],
      "text/plain": [
       "<IPython.core.display.HTML object>"
      ]
     },
     "metadata": {},
     "output_type": "display_data"
    },
    {
     "data": {
      "text/html": [
       "<hr/>"
      ],
      "text/plain": [
       "<IPython.core.display.HTML object>"
      ]
     },
     "metadata": {},
     "output_type": "display_data"
    },
    {
     "data": {
      "text/html": [
       "<p> The Department of Citywide Administrative Services, Office of Citywide Procurement is currently selling surplus assets on</p> <p> the internet. Visit <a href=http://www.publicsurplus.com/sms/nycdcas.ny/browse/home\">http://www.publicsurplus.com/sms/nycdcas.ny/browse/home</a></p> <p> &nbsp;</p> <p> To begin bidding"
      ],
      "text/plain": [
       "<IPython.core.display.HTML object>"
      ]
     },
     "metadata": {},
     "output_type": "display_data"
    },
    {
     "data": {
      "text/html": [
       "<hr/>"
      ],
      "text/plain": [
       "<IPython.core.display.HTML object>"
      ]
     },
     "metadata": {},
     "output_type": "display_data"
    }
   ],
   "source": [
    "processed_rows = target_rows.apply(scrape,1)"
   ]
  },
  {
   "cell_type": "code",
   "execution_count": 7,
   "metadata": {
    "collapsed": false,
    "scrolled": false
   },
   "outputs": [],
   "source": [
    "errors = []\n",
    "cols = ['RequestID', 'output', 'AdditionalDescription', 'StartDate', 'EndDate', 'DueDate']\n",
    "for rec in processed_rows[cols].values:\n",
    "    id, output, desc, dtStart, dtEnd, dtDue = rec\n",
    "    output = json.loads(output)\n",
    "    if output.get('error', None):\n",
    "        errors.append({'RequestID' : id, 'error': output, 'desc' : desc, \n",
    "                       'StartDate' : dtStart, 'EndDate' : dtEnd, 'DueDate' :  dtDue\n",
    "                      })\n",
    "        continue"
   ]
  },
  {
   "cell_type": "code",
   "execution_count": 9,
   "metadata": {
    "collapsed": false,
    "scrolled": false
   },
   "outputs": [
    {
     "data": {
      "text/html": [
       "<h1>14 Errors parsing Notice::Citywide Administrative Services</h1>"
      ],
      "text/plain": [
       "<IPython.core.display.HTML object>"
      ]
     },
     "metadata": {},
     "output_type": "display_data"
    },
    {
     "name": "stdout",
     "output_type": "stream",
     "text": [
      "{'DueDate': nan,\n",
      " 'EndDate': '10/3/2014 0:00:00',\n",
      " 'RequestID': 20140929102,\n",
      " 'StartDate': '10/3/2014 0:00:00',\n",
      " 'desc': nan,\n",
      " 'error': {'error': 'source is not a string: nan'}}\n"
     ]
    },
    {
     "data": {
      "text/html": [
       "<hr/>"
      ],
      "text/plain": [
       "<IPython.core.display.HTML object>"
      ]
     },
     "metadata": {},
     "output_type": "display_data"
    },
    {
     "name": "stdout",
     "output_type": "stream",
     "text": [
      "{'DueDate': nan,\n",
      " 'EndDate': '10/10/2014 0:00:00',\n",
      " 'RequestID': 20141006101,\n",
      " 'StartDate': '10/10/2014 0:00:00',\n",
      " 'desc': nan,\n",
      " 'error': {'error': 'source is not a string: nan'}}\n"
     ]
    },
    {
     "data": {
      "text/html": [
       "<hr/>"
      ],
      "text/plain": [
       "<IPython.core.display.HTML object>"
      ]
     },
     "metadata": {},
     "output_type": "display_data"
    },
    {
     "name": "stdout",
     "output_type": "stream",
     "text": [
      "{'DueDate': nan,\n",
      " 'EndDate': '10/8/2014 0:00:00',\n",
      " 'RequestID': 20141007109,\n",
      " 'StartDate': '10/8/2014 0:00:00',\n",
      " 'desc': nan,\n",
      " 'error': {'error': 'source is not a string: nan'}}\n"
     ]
    },
    {
     "data": {
      "text/html": [
       "<hr/>"
      ],
      "text/plain": [
       "<IPython.core.display.HTML object>"
      ]
     },
     "metadata": {},
     "output_type": "display_data"
    },
    {
     "name": "stdout",
     "output_type": "stream",
     "text": [
      "{'DueDate': nan,\n",
      " 'EndDate': '10/17/2014 0:00:00',\n",
      " 'RequestID': 20141014103,\n",
      " 'StartDate': '10/17/2014 0:00:00',\n",
      " 'desc': nan,\n",
      " 'error': {'error': 'source is not a string: nan'}}\n"
     ]
    },
    {
     "data": {
      "text/html": [
       "<hr/>"
      ],
      "text/plain": [
       "<IPython.core.display.HTML object>"
      ]
     },
     "metadata": {},
     "output_type": "display_data"
    },
    {
     "name": "stdout",
     "output_type": "stream",
     "text": [
      "{'DueDate': nan,\n",
      " 'EndDate': '10/24/2014 0:00:00',\n",
      " 'RequestID': 20141020107,\n",
      " 'StartDate': '10/24/2014 0:00:00',\n",
      " 'desc': nan,\n",
      " 'error': {'error': 'source is not a string: nan'}}\n"
     ]
    },
    {
     "data": {
      "text/html": [
       "<hr/>"
      ],
      "text/plain": [
       "<IPython.core.display.HTML object>"
      ]
     },
     "metadata": {},
     "output_type": "display_data"
    },
    {
     "name": "stdout",
     "output_type": "stream",
     "text": [
      "{'DueDate': nan,\n",
      " 'EndDate': '10/31/2014 0:00:00',\n",
      " 'RequestID': 20141027108,\n",
      " 'StartDate': '10/31/2014 0:00:00',\n",
      " 'desc': nan,\n",
      " 'error': {'error': 'source is not a string: nan'}}\n"
     ]
    },
    {
     "data": {
      "text/html": [
       "<hr/>"
      ],
      "text/plain": [
       "<IPython.core.display.HTML object>"
      ]
     },
     "metadata": {},
     "output_type": "display_data"
    },
    {
     "name": "stdout",
     "output_type": "stream",
     "text": [
      "{'DueDate': nan,\n",
      " 'EndDate': '11/7/2014 0:00:00',\n",
      " 'RequestID': 20141103111,\n",
      " 'StartDate': '11/7/2014 0:00:00',\n",
      " 'desc': nan,\n",
      " 'error': {'error': 'source is not a string: nan'}}\n"
     ]
    },
    {
     "data": {
      "text/html": [
       "<hr/>"
      ],
      "text/plain": [
       "<IPython.core.display.HTML object>"
      ]
     },
     "metadata": {},
     "output_type": "display_data"
    },
    {
     "name": "stdout",
     "output_type": "stream",
     "text": [
      "{'DueDate': nan,\n",
      " 'EndDate': '11/14/2014 0:00:00',\n",
      " 'RequestID': 20141110105,\n",
      " 'StartDate': '11/14/2014 0:00:00',\n",
      " 'desc': nan,\n",
      " 'error': {'error': 'source is not a string: nan'}}\n"
     ]
    },
    {
     "data": {
      "text/html": [
       "<hr/>"
      ],
      "text/plain": [
       "<IPython.core.display.HTML object>"
      ]
     },
     "metadata": {},
     "output_type": "display_data"
    },
    {
     "name": "stdout",
     "output_type": "stream",
     "text": [
      "{'DueDate': nan,\n",
      " 'EndDate': '11/21/2014 0:00:00',\n",
      " 'RequestID': 20141117107,\n",
      " 'StartDate': '11/21/2014 0:00:00',\n",
      " 'desc': nan,\n",
      " 'error': {'error': 'source is not a string: nan'}}\n"
     ]
    },
    {
     "data": {
      "text/html": [
       "<hr/>"
      ],
      "text/plain": [
       "<IPython.core.display.HTML object>"
      ]
     },
     "metadata": {},
     "output_type": "display_data"
    },
    {
     "name": "stdout",
     "output_type": "stream",
     "text": [
      "{'DueDate': nan,\n",
      " 'EndDate': '11/28/2014 0:00:00',\n",
      " 'RequestID': 20141124105,\n",
      " 'StartDate': '11/28/2014 0:00:00',\n",
      " 'desc': nan,\n",
      " 'error': {'error': 'source is not a string: nan'}}\n"
     ]
    },
    {
     "data": {
      "text/html": [
       "<hr/>"
      ],
      "text/plain": [
       "<IPython.core.display.HTML object>"
      ]
     },
     "metadata": {},
     "output_type": "display_data"
    },
    {
     "name": "stdout",
     "output_type": "stream",
     "text": [
      "{'DueDate': nan,\n",
      " 'EndDate': '12/5/2014 0:00:00',\n",
      " 'RequestID': 20141201102,\n",
      " 'StartDate': '12/5/2014 0:00:00',\n",
      " 'desc': nan,\n",
      " 'error': {'error': 'source is not a string: nan'}}\n"
     ]
    },
    {
     "data": {
      "text/html": [
       "<hr/>"
      ],
      "text/plain": [
       "<IPython.core.display.HTML object>"
      ]
     },
     "metadata": {},
     "output_type": "display_data"
    },
    {
     "name": "stdout",
     "output_type": "stream",
     "text": [
      "{'DueDate': nan,\n",
      " 'EndDate': '12/12/2014 0:00:00',\n",
      " 'RequestID': 20141208104,\n",
      " 'StartDate': '12/12/2014 0:00:00',\n",
      " 'desc': nan,\n",
      " 'error': {'error': 'source is not a string: nan'}}\n"
     ]
    },
    {
     "data": {
      "text/html": [
       "<hr/>"
      ],
      "text/plain": [
       "<IPython.core.display.HTML object>"
      ]
     },
     "metadata": {},
     "output_type": "display_data"
    },
    {
     "name": "stdout",
     "output_type": "stream",
     "text": [
      "{'DueDate': nan,\n",
      " 'EndDate': '12/19/2014 0:00:00',\n",
      " 'RequestID': 20141215111,\n",
      " 'StartDate': '12/19/2014 0:00:00',\n",
      " 'desc': nan,\n",
      " 'error': {'error': 'source is not a string: nan'}}\n"
     ]
    },
    {
     "data": {
      "text/html": [
       "<hr/>"
      ],
      "text/plain": [
       "<IPython.core.display.HTML object>"
      ]
     },
     "metadata": {},
     "output_type": "display_data"
    },
    {
     "name": "stdout",
     "output_type": "stream",
     "text": [
      "{'DueDate': nan,\n",
      " 'EndDate': '12/26/2014 0:00:00',\n",
      " 'RequestID': 20141222102,\n",
      " 'StartDate': '12/26/2014 0:00:00',\n",
      " 'desc': nan,\n",
      " 'error': {'error': 'source is not a string: nan'}}\n"
     ]
    },
    {
     "data": {
      "text/html": [
       "<hr/>"
      ],
      "text/plain": [
       "<IPython.core.display.HTML object>"
      ]
     },
     "metadata": {},
     "output_type": "display_data"
    }
   ],
   "source": [
    "err_summary = '''<h1>{} Errors parsing Notice::Citywide Administrative Services</h1>'''.format(len(errors))\n",
    "display(HTML(err_summary))\n",
    "for error in errors:\n",
    "    pprint.pprint(error)\n",
    "    desc = error['desc']\n",
    "    if isinstance(desc, str):\n",
    "        display(HTML(error['desc']))\n",
    "    display(HTML('<hr/>'))\n"
   ]
  },
  {
   "cell_type": "code",
   "execution_count": null,
   "metadata": {
    "collapsed": true
   },
   "outputs": [],
   "source": []
  },
  {
   "cell_type": "code",
   "execution_count": null,
   "metadata": {
    "collapsed": true
   },
   "outputs": [],
   "source": []
  }
 ],
 "metadata": {
  "kernelspec": {
   "display_name": "Python 3",
   "language": "python",
   "name": "python3"
  },
  "language_info": {
   "codemirror_mode": {
    "name": "ipython",
    "version": 3
   },
   "file_extension": ".py",
   "mimetype": "text/x-python",
   "name": "python",
   "nbconvert_exporter": "python",
   "pygments_lexer": "ipython3",
   "version": "3.4.3"
  }
 },
 "nbformat": 4,
 "nbformat_minor": 0
}
