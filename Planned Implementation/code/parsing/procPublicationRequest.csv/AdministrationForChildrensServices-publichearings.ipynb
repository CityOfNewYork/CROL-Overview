{
 "cells": [
  {
   "cell_type": "markdown",
   "metadata": {},
   "source": [
    "**Status**\n",
    "* Starter notebook for Parsing: Administration for Children's Services Public Hearings\n",
    "\n"
   ]
  },
  {
   "cell_type": "code",
   "execution_count": 1,
   "metadata": {
    "collapsed": false
   },
   "outputs": [],
   "source": [
    "from bs4 import BeautifulSoup as Soup\n",
    "from IPython.display import display, HTML\n",
    "import pandas as pd\n",
    "import re\n",
    "import pprint\n",
    "import json"
   ]
  },
  {
   "cell_type": "code",
   "execution_count": 2,
   "metadata": {
    "collapsed": true
   },
   "outputs": [],
   "source": [
    "orig_prettify = Soup.prettify\n",
    "r = re.compile(r'^(\\s*)', re.MULTILINE)\n",
    "def prettify(self, encoding=None, formatter=\"minimal\", indent_width=4):\n",
    "    return r.sub(r'\\1' * indent_width, orig_prettify(self, encoding, formatter))\n",
    "Soup.prettify = prettify"
   ]
  },
  {
   "cell_type": "code",
   "execution_count": 3,
   "metadata": {
    "collapsed": false
   },
   "outputs": [],
   "source": [
    "fn = 'procPublicationRequest Oct-Dec 2014 (Updated) - Sheet1-2.csv'\n",
    "rows = pd.read_csv(fn, header=0)"
   ]
  },
  {
   "cell_type": "code",
   "execution_count": 4,
   "metadata": {
    "collapsed": false
   },
   "outputs": [],
   "source": [
    "agency = rows['AgencyName'] == \"Administration for Children's Services\"\n",
    "description = rows['TypeOfNoticeDescription'] == \"Public Hearings\"\n",
    "target_rows = rows[agency & description]\n"
   ]
  },
  {
   "cell_type": "code",
   "execution_count": 5,
   "metadata": {
    "collapsed": true
   },
   "outputs": [],
   "source": [
    "def scrape(row):\n",
    "    output = {}\n",
    "    text = row.AdditionalDescription\n",
    "    if not isinstance(text, str):\n",
    "        output = { 'error' : 'source is not a string: {}'.format(text) }\n",
    "    else:\n",
    "        display(HTML(text))\n",
    "        display(HTML('<hr/>'))\n",
    "\n",
    "    row['output'] = json.dumps(output)\n",
    "    return row"
   ]
  },
  {
   "cell_type": "code",
   "execution_count": 6,
   "metadata": {
    "collapsed": false,
    "scrolled": false
   },
   "outputs": [
    {
     "data": {
      "text/html": [
       "<p> NOTICE IS HEREBY GIVEN that a Public Hearing will be held at the Administration for Children&rsquo;s Services, 150 William Street, 9th Floor - Conference Room 9C-1, Borough of Manhattan, <em>on October 14, 2014 commencing at 10:00 A.M. on the following:</em></p> <p> &nbsp;</p> <p> N THE MATTER of two (2) proposed contracts between the Administration for Children&rsquo;s Services of the City of New York and the contractors listed below, for the provision of Respite Care Services.&nbsp; The terms of the contracts will be for from approximately January 1, 2015 to December 31, 2017 with two (2) three year term renewal options.</p> <p> &nbsp;</p> <p> Contractor/Address&nbsp;&nbsp;&nbsp;&nbsp;&nbsp;&nbsp;&nbsp;&nbsp;&nbsp;&nbsp;&nbsp;&nbsp;&nbsp;&nbsp;&nbsp;&nbsp;&nbsp;&nbsp;&nbsp;&nbsp;&nbsp;&nbsp;&nbsp;&nbsp;&nbsp;&nbsp;&nbsp; &nbsp;&nbsp;&nbsp;&nbsp;&nbsp;&nbsp;&nbsp;&nbsp;&nbsp;&nbsp;&nbsp; EPIN&nbsp;&nbsp; &nbsp;&nbsp;&nbsp;&nbsp;&nbsp;&nbsp;&nbsp;&nbsp;&nbsp;&nbsp;&nbsp;&nbsp;&nbsp;&nbsp;&nbsp;&nbsp;&nbsp;&nbsp;&nbsp;&nbsp;&nbsp;&nbsp;&nbsp;&nbsp;&nbsp;&nbsp;&nbsp;&nbsp;&nbsp;&nbsp;&nbsp;&nbsp;&nbsp;&nbsp;&nbsp; Amount</p> <p> Leake &amp; Watts Services, Inc. &nbsp;&nbsp;&nbsp;&nbsp;&nbsp;&nbsp;&nbsp;&nbsp;&nbsp;&nbsp;&nbsp; &nbsp;&nbsp;&nbsp;&nbsp;&nbsp;&nbsp;&nbsp;&nbsp;&nbsp;&nbsp;&nbsp; 06814I0003001&nbsp;&nbsp;&nbsp;&nbsp;&nbsp;&nbsp;&nbsp;&nbsp;&nbsp;&nbsp;&nbsp;&nbsp;&nbsp;&nbsp;&nbsp;&nbsp;&nbsp;&nbsp;&nbsp;&nbsp;&nbsp;&nbsp; $1,500,000</p> <p> 463 Hawthorne Avenue</p> <p> Yonkers, NY 10705</p> <p> &nbsp;</p> <p> New York Foundling Hospital&nbsp;&nbsp;&nbsp;&nbsp;&nbsp;&nbsp;&nbsp;&nbsp;&nbsp;&nbsp;&nbsp;&nbsp;&nbsp;&nbsp;&nbsp;&nbsp;&nbsp;&nbsp;&nbsp;&nbsp;&nbsp;&nbsp; 06814I0003002&nbsp;&nbsp;&nbsp;&nbsp;&nbsp;&nbsp;&nbsp;&nbsp;&nbsp;&nbsp;&nbsp;&nbsp;&nbsp;&nbsp;&nbsp;&nbsp;&nbsp;&nbsp;&nbsp;&nbsp;&nbsp;&nbsp; $1,500,000</p> <p> 590 Avenue of the Americas</p> <p> New York, NY 10011</p> <p> &nbsp;</p> <p> The proposed contractors have been selected by means of a Competitive Sealed Proposal Process, pursuant to Section 3-03 of the Procurement Policy Board Rules.</p> <p> &nbsp;</p> <p> The draft contracts are available for inspection at the New York City Administration for Children&#39;s Services, Office of Child Welfare Services, 150 William Street, 9th Floor, Borough of Manhattan, on business days from <em>October 1, 2014 through October 14, 2014</em>, exclusive of holidays, between the hours of 10 AM and 4 PM.&nbsp; Please contact Mani Jadunauth of the Office of Child Welfare Services Contracts at (212) 676-7522 to arrange a visitation.</p>"
      ],
      "text/plain": [
       "<IPython.core.display.HTML object>"
      ]
     },
     "metadata": {},
     "output_type": "display_data"
    },
    {
     "data": {
      "text/html": [
       "<hr/>"
      ],
      "text/plain": [
       "<IPython.core.display.HTML object>"
      ]
     },
     "metadata": {},
     "output_type": "display_data"
    },
    {
     "data": {
      "text/html": [
       "<p> NOTICE IS HEREBY GIVEN that a Public Hearing will be held at the Administration for Children&rsquo;s Services, 150 William Street, 9th Floor - Conference Room 9C-1, Borough of Manhattan, <em>on October 14, 2014 commencing at 10:00 A.M. on the following:</em></p> <p> &nbsp;</p> <p> N THE MATTER of two (2) proposed contracts between the Administration for Children&rsquo;s Services of the City of New York and the contractors listed below, for the provision of Respite Care Services.&nbsp; The terms of the contracts will be for from approximately January 1, 2015 to December 31, 2017 with two (2) three year term renewal options.</p> <p> &nbsp;</p> <p> Contractor/Address&nbsp;&nbsp;&nbsp;&nbsp;&nbsp;&nbsp;&nbsp;&nbsp;&nbsp;&nbsp;&nbsp;&nbsp;&nbsp;&nbsp;&nbsp;&nbsp;&nbsp;&nbsp;&nbsp;&nbsp;&nbsp;&nbsp;&nbsp;&nbsp;&nbsp;&nbsp;&nbsp; &nbsp;&nbsp;&nbsp;&nbsp;&nbsp;&nbsp;&nbsp;&nbsp;&nbsp;&nbsp;&nbsp; EPIN&nbsp;&nbsp; &nbsp;&nbsp;&nbsp;&nbsp;&nbsp;&nbsp;&nbsp;&nbsp;&nbsp;&nbsp;&nbsp;&nbsp;&nbsp;&nbsp;&nbsp;&nbsp;&nbsp;&nbsp;&nbsp;&nbsp;&nbsp;&nbsp;&nbsp;&nbsp;&nbsp;&nbsp;&nbsp;&nbsp;&nbsp;&nbsp;&nbsp;&nbsp;&nbsp;&nbsp;&nbsp; Amount</p> <p> Leake &amp; Watts Services, Inc. &nbsp;&nbsp;&nbsp;&nbsp;&nbsp;&nbsp;&nbsp;&nbsp;&nbsp;&nbsp;&nbsp; &nbsp;&nbsp;&nbsp;&nbsp;&nbsp;&nbsp;&nbsp;&nbsp;&nbsp;&nbsp;&nbsp; 06814I0003001&nbsp;&nbsp;&nbsp;&nbsp;&nbsp;&nbsp;&nbsp;&nbsp;&nbsp;&nbsp;&nbsp;&nbsp;&nbsp;&nbsp;&nbsp;&nbsp;&nbsp;&nbsp;&nbsp;&nbsp;&nbsp;&nbsp; $1,500,000</p> <p> 463 Hawthorne Avenue</p> <p> Yonkers, NY 10705</p> <p> &nbsp;</p> <p> New York Foundling Hospital&nbsp;&nbsp;&nbsp;&nbsp;&nbsp;&nbsp;&nbsp;&nbsp;&nbsp;&nbsp;&nbsp;&nbsp;&nbsp;&nbsp;&nbsp;&nbsp;&nbsp;&nbsp;&nbsp;&nbsp;&nbsp;&nbsp; 06814I0003002&nbsp;&nbsp;&nbsp;&nbsp;&nbsp;&nbsp;&nbsp;&nbsp;&nbsp;&nbsp;&nbsp;&nbsp;&nbsp;&nbsp;&nbsp;&nbsp;&nbsp;&nbsp;&nbsp;&nbsp;&nbsp;&nbsp; $1,500,000</p> <p> 590 Avenue of the Americas</p> <p> New York, NY 10011</p> <p> &nbsp;</p> <p> The proposed contractors have been selected by means of a Competitive Sealed Proposal Process, pursuant to Section 3-03 of the Procurement Policy Board Rules.</p> <p> &nbsp;</p> <p> The draft contracts are available for inspection at the New York City Administration for Children&#39;s Services, Office of Child Welfare Services, 150 William Street, 9th Floor, Borough of Manhattan, on business days from <em>October 1, 2014 through October 14, 2014</em>, exclusive of holidays, between the hours of 10 AM and 4 PM.&nbsp; Please contact Mani Jadunauth of the Office of Child Welfare Services Contracts at (212) 676-7522 to arrange a visitation.</p>"
      ],
      "text/plain": [
       "<IPython.core.display.HTML object>"
      ]
     },
     "metadata": {},
     "output_type": "display_data"
    },
    {
     "data": {
      "text/html": [
       "<hr/>"
      ],
      "text/plain": [
       "<IPython.core.display.HTML object>"
      ]
     },
     "metadata": {},
     "output_type": "display_data"
    },
    {
     "data": {
      "text/html": [
       "<p> <strong>NOTICE IS HEREBY GIVEN</strong> that a Public Hearing will be held at the Administration for Children&rsquo;s Services, 150 William Street, 9th Floor &ndash; Room 9A2, Borough of Manhattan, on Monday, November 10, 2014, commencing at 10 A.M. on the following:</p> <p> &nbsp;</p> <p> &nbsp;</p> <p> <strong>IN THE MATTER </strong>of a proposed contract between the Administration for Children&rsquo;s Services of the City of New York and Nationwide Court Services, Inc., 761 Koehler Avenue, Ronkonkoma, NY 11779, for the provision of service of process services for the areas of Brooklyn/Staten Island, Bronx and Queens during the period from October 1, 2014 through September 31, 2015. The maximum contract value of this negotiated acquisition is $541,201.00. The E-PIN is 0615N0002001.</p> <p> &nbsp;</p> <p> The proposed contractor has been selected by means of the Negotiated Acquisition Method, pursuant to Section 3-04(b)(2) of the Procurement Policy Board Rules.</p> <p> &nbsp;</p> <p> A copy of the draft contract is available for public inspection at the New York City Administration for Children&#39;s Services, Office of Procurement, 150 William Street, 9th Floor, Borough of Manhattan, from November 3, 2014 through November 10, 2014, between the hours of 10 AM and 4 PM. &nbsp;Please contact Peter Pabon at (212) 341-3450 to arrange a viewing of the draft contract.</p>"
      ],
      "text/plain": [
       "<IPython.core.display.HTML object>"
      ]
     },
     "metadata": {},
     "output_type": "display_data"
    },
    {
     "data": {
      "text/html": [
       "<hr/>"
      ],
      "text/plain": [
       "<IPython.core.display.HTML object>"
      ]
     },
     "metadata": {},
     "output_type": "display_data"
    },
    {
     "data": {
      "text/html": [
       "<p> NOTICE IS HEREBY GIVEN that a Public Hearing will be held at the Administration for Children&rsquo;s Services, 150 William Street, 9th Floor - Conference Room 9C-1, Borough of Manhattan, on November 24<em>, 2014 commencing at 10:00 A.M. on the following:</em></p> <p> &nbsp;</p> <p> IN THE MATTER of one (1) proposed contract between the Administration for Children&rsquo;s Services of the City of New York and the contractor listed below, for the provision of Extra Ordinary Needs Foster Care Services.&nbsp; The terms of the contract will be for from approximately October 10, 2013 to October 9, 2016 with two three-year renewal options from October 10, 2016 to October 9, 2019 and from October 10, 2019 to October 9, 2022.</p> <p> &nbsp;</p> <p> Contractor/Address&nbsp;&nbsp;&nbsp;&nbsp;&nbsp;&nbsp;&nbsp;&nbsp;&nbsp;&nbsp;&nbsp;&nbsp;&nbsp;&nbsp;&nbsp;&nbsp;&nbsp;&nbsp;&nbsp;&nbsp;&nbsp;&nbsp;&nbsp;&nbsp;&nbsp;&nbsp;&nbsp; &nbsp;&nbsp;&nbsp;&nbsp;&nbsp;&nbsp;&nbsp;&nbsp;&nbsp;&nbsp;&nbsp; &nbsp;&nbsp;&nbsp;&nbsp;&nbsp;&nbsp;&nbsp;&nbsp;&nbsp;&nbsp;&nbsp; EPIN&nbsp;&nbsp;&nbsp;&nbsp;&nbsp;&nbsp;&nbsp;&nbsp;&nbsp;&nbsp;&nbsp;&nbsp;&nbsp;&nbsp;&nbsp;&nbsp;&nbsp;&nbsp;&nbsp;&nbsp;&nbsp;&nbsp;&nbsp;&nbsp;&nbsp;&nbsp; &nbsp;&nbsp;&nbsp;&nbsp;&nbsp;&nbsp;&nbsp;&nbsp;&nbsp;&nbsp;&nbsp; Amount&nbsp;&nbsp;&nbsp;&nbsp;&nbsp;&nbsp;&nbsp;&nbsp;&nbsp;&nbsp;</p> <p> &nbsp;</p> <p> Woods Services, Inc.&nbsp;&nbsp;&nbsp;&nbsp;&nbsp;&nbsp;&nbsp;&nbsp;&nbsp;&nbsp;&nbsp;&nbsp;&nbsp;&nbsp;&nbsp;&nbsp;&nbsp;&nbsp;&nbsp;&nbsp;&nbsp;&nbsp;&nbsp;&nbsp;&nbsp; &nbsp;&nbsp;&nbsp;&nbsp;&nbsp;&nbsp;&nbsp;&nbsp;&nbsp;&nbsp;&nbsp; 06815N0001001&nbsp;&nbsp;&nbsp;&nbsp;&nbsp;&nbsp;&nbsp;&nbsp;&nbsp;&nbsp; &nbsp;&nbsp;&nbsp;&nbsp;&nbsp;&nbsp;&nbsp;&nbsp;&nbsp; &nbsp;&nbsp;&nbsp;&nbsp;&nbsp;$ 4,514,218.00&nbsp;&nbsp;&nbsp;&nbsp;&nbsp;&nbsp;</p> <p> P.O. Box 36, Route 413</p> <p> Langhorne, PA 19047</p> <p> &nbsp;</p> <p> &nbsp;</p> <p> The proposed contractor have been selected by means of a Negotiated Acquisition Process, pursuant to Section 3-04 (b)(2)(D) of the Procurement Policy Board Rules.</p> <p> &nbsp;</p> <p> The draft contract is available for inspection at the New York City Administration for Children&#39;s Services, Office of Child Welfare Services, 150 William Street, 9th Floor, Borough of Manhattan, on business days from November 10<em>, 2014 through November24, 2014</em>, exclusive of holidays, between the hours of 10 AM and 4 PM.&nbsp; Please contact Mani Jadunauth of the Office of Child Welfare Services Contracts at (212) 676-7522 to arrange a visitation.</p>"
      ],
      "text/plain": [
       "<IPython.core.display.HTML object>"
      ]
     },
     "metadata": {},
     "output_type": "display_data"
    },
    {
     "data": {
      "text/html": [
       "<hr/>"
      ],
      "text/plain": [
       "<IPython.core.display.HTML object>"
      ]
     },
     "metadata": {},
     "output_type": "display_data"
    },
    {
     "data": {
      "text/html": [
       "<p> <strong>NOTICE IS HEREBY GIVEN</strong> that a Public Hearing will be held at the Administration for Children&rsquo;s Services, Office of Procurement at 150 William Street, 9th Floor &ndash; Room 9A2, Borough of Manhattan, on Monday, December 1, 2014, commencing at 10 A.M. on the following:</p> <p> &nbsp;</p> <p> <strong>IN THE MATTER </strong>of a proposed contract between the Administration for Children&rsquo;s Services of the City of New York and Episcopal Social Services Of New York, for the provision of Limited Secure Placement services for the period of November 1, 2013 through October 31, 2018. The maximum contract value of this negotiated acquisition is $15,170,287.00. &nbsp;Included in this contract, there is an option to renew for an additional period of 48 months. The E-PIN is 06813N0007002.</p> <p> &nbsp;</p> <p> The proposed contractor has been selected by means of the Negotiated Acquisition Method, pursuant to Section 3-04 (b) (2) (ii) of the Procurement Policy Board Rules.</p> <p> &nbsp;</p> <p> A copy of the draft contract is available for public inspection at the New York City Administration for Children&#39;s Services, Office of Procurement, 150 William Street, 9th Floor, Borough of Manhattan, from November 20, 2014 through December 1, 2014, between the hours of 10 AM and 4 PM. &nbsp;Please contact Peter Pabon at (212) 341-3450 to arrange a viewing of the draft contract.</p>"
      ],
      "text/plain": [
       "<IPython.core.display.HTML object>"
      ]
     },
     "metadata": {},
     "output_type": "display_data"
    },
    {
     "data": {
      "text/html": [
       "<hr/>"
      ],
      "text/plain": [
       "<IPython.core.display.HTML object>"
      ]
     },
     "metadata": {},
     "output_type": "display_data"
    },
    {
     "data": {
      "text/html": [
       "<p> <strong>NOTICE IS HEREBY GIVEN</strong> that a Public Hearing will be held at the Administration for Children&rsquo;s Services, Office of Procurement at 150 William Street, 9th Floor &ndash; Room 9A2, Borough of Manhattan, on Monday, December 1, 2014, commencing at 10 A.M. on the following:</p> <p> &nbsp;</p> <p> <strong>IN THE MATTER </strong>of a proposed contract between the Administration for Children&rsquo;s Services of the City of New York and Leake &amp; Watts Services, Inc., for the provision of Limited Secure Placement services for youth with Intellectual/Developmental Disabilities (IDD) and youth with Serious Emotional Disturbance (SED), for the period of November 1, 2013 through October 31, 2018. The maximum contract value of this negotiated acquisition is $17,458,654.00. &nbsp;Included in this contract, there is an option to renew for an additional period of 48 months. The E-PIN is 06813N0007004.</p> <p> &nbsp;</p> <p> The proposed contractor has been selected by means of the Negotiated Acquisition Method, pursuant to Section 3-04 (b) (2) (ii) of the Procurement Policy Board Rules.</p> <p> &nbsp;</p> <p> A copy of the draft contract is available for public inspection at the New York City Administration for Children&#39;s Services, Office of Procurement, 150 William Street, 9th Floor, Borough of Manhattan, from November 20, 2014 through December 1, 2014, between the hours of 10 AM and 4 PM. &nbsp;Please contact Peter Pabon at (212) 341-3450 to arrange a viewing of the draft contract.</p>"
      ],
      "text/plain": [
       "<IPython.core.display.HTML object>"
      ]
     },
     "metadata": {},
     "output_type": "display_data"
    },
    {
     "data": {
      "text/html": [
       "<hr/>"
      ],
      "text/plain": [
       "<IPython.core.display.HTML object>"
      ]
     },
     "metadata": {},
     "output_type": "display_data"
    },
    {
     "data": {
      "text/html": [
       "<p> <strong>NOTICE IS HEREBY GIVEN</strong> that a Public Hearing will be held at the Administration for Children&rsquo;s Services, Office of Procurement at 150 William Street, 9th Floor &ndash; Room 9A2, Borough of Manhattan, on Monday, December 15, 2014, commencing at 10 A.M. on the following:</p> <p> &nbsp;</p> <p> <strong>IN THE MATTER </strong>of a proposed contract between the Administration for Children&rsquo;s Services of the City of New York and Episcopal Social Services of New York, for the provision of Limited Secure Placement services, for youth in need of Intensive Short Term Support (ISS), for the period of November 1, 2013 through October 31, 2018. The maximum contract value of this negotiated acquisition is $9,620,090.00. Included in this contract, there is an option to renew for an additional period of 48 months. The E-PIN is 06813N0007003.</p> <p> &nbsp;</p> <p> The proposed contractor has been selected by means of the Negotiated Acquisition Method, pursuant to Section 3-04 (b) (2) (ii) of the Procurement Policy Board Rules.</p> <p> &nbsp;</p> <p> A copy of the draft contract is available for public inspection at the New York City Administration for Children&#39;s Services, Office of Procurement, 150 William Street, 9th Floor, Borough of Manhattan, from December 3, 2014 through December 15, 2014, between the hours of 10 AM and 4 PM. &nbsp;Please contact Peter Pabon at (212) 341-3450 to arrange a viewing of the draft contract.</p>"
      ],
      "text/plain": [
       "<IPython.core.display.HTML object>"
      ]
     },
     "metadata": {},
     "output_type": "display_data"
    },
    {
     "data": {
      "text/html": [
       "<hr/>"
      ],
      "text/plain": [
       "<IPython.core.display.HTML object>"
      ]
     },
     "metadata": {},
     "output_type": "display_data"
    },
    {
     "data": {
      "text/html": [
       "<p> <strong>NOTICE IS HEREBY GIVEN</strong> that a Public Hearing will be held at the Administration for Children&rsquo;s Services, Office of Procurement at 150 William Street, 9th Floor &ndash; Room 9A2, Borough of Manhattan, on Monday, December 15, 2014, commencing at 10 A.M. on the following:</p> <p> &nbsp;</p> <p> <strong>IN THE MATTER </strong>of a proposed contract between the Administration for Children&rsquo;s Services of the City of New York and Episcopal Social Services of New York, for the provision of Limited Secure Placement services for youth with Serious Emotional Disturbance (SED), for the period of November 1, 2013 through October 31, 2018. The maximum contract value of this negotiated acquisition is $22,277,490.00. Included in this contract, there is an option to renew for an additional period of 48 months. The E-PIN is 06813N0007006.</p> <p> &nbsp;</p> <p> The proposed contractor has been selected by means of the Negotiated Acquisition Method, pursuant to Section 3-04 (b) (2) (ii) of the Procurement Policy Board Rules.</p> <p> &nbsp;</p> <p> A copy of the draft contract is available for public inspection at the New York City Administration for Children&#39;s Services, Office of Procurement, 150 William Street, 9th Floor, Borough of Manhattan, from December 3, 2014 through December 15, 2014, between the hours of 10 AM and 4 PM. &nbsp;Please contact Peter Pabon at (212) 341-3450 to arrange a viewing of the draft contract.</p>"
      ],
      "text/plain": [
       "<IPython.core.display.HTML object>"
      ]
     },
     "metadata": {},
     "output_type": "display_data"
    },
    {
     "data": {
      "text/html": [
       "<hr/>"
      ],
      "text/plain": [
       "<IPython.core.display.HTML object>"
      ]
     },
     "metadata": {},
     "output_type": "display_data"
    },
    {
     "data": {
      "text/html": [
       "<p> <strong>NOTICE IS HEREBY GIVEN</strong> that a Public Hearing will be held at the Administration for Children&rsquo;s Services, Office of Procurement at 150 William Street, 9th Floor &ndash; Room 9A2, Borough of Manhattan, on Monday, December 15, 2014, commencing at 10 A.M. on the following:</p> <p> &nbsp;</p> <p> <strong>IN THE MATTER </strong>of a proposed contract between the Administration for Children&rsquo;s Services of the City of New York and Leake &amp; Watts Services, Inc., for the provision of Limited Secure Placement services, for the period of November 1, 2013 through October 31, 2018. The maximum contract value of this negotiated acquisition is $40,545,798.00. &nbsp;Included in this contract, there is an option to renew for an additional period of 48 months. The E-PIN is 06813N0004001.</p> <p> &nbsp;</p> <p> The proposed contractor has been selected by means of the Negotiated Acquisition Method, pursuant to Section 3-04 (b) (2) (ii) of the Procurement Policy Board Rules.</p> <p> &nbsp;</p> <p> A copy of the draft contract is available for public inspection at the New York City Administration for Children&#39;s Services, Office of Procurement, 150 William Street, 9th Floor, Borough of Manhattan, from December 2, 2014 through December 15, 2014, between the hours of 10 AM and 4 PM. &nbsp;Please contact Peter Pabon at (212) 341-3450 to arrange a viewing of the draft contract.</p>"
      ],
      "text/plain": [
       "<IPython.core.display.HTML object>"
      ]
     },
     "metadata": {},
     "output_type": "display_data"
    },
    {
     "data": {
      "text/html": [
       "<hr/>"
      ],
      "text/plain": [
       "<IPython.core.display.HTML object>"
      ]
     },
     "metadata": {},
     "output_type": "display_data"
    },
    {
     "data": {
      "text/html": [
       "<p> <strong>NOTICE IS HEREBY GIVEN</strong> that a Public Hearing will be held at the Administration for Children&rsquo;s Services, 150 William Street, 9th Floor - Conference Room 9C-1, Borough of Manhattan, on December 18, 2014 commencing at 10:00 A.M. on the following:</p> <p> &nbsp;</p> <p> IN THE MATTER of one (1) proposed contract between the Administration for Children&rsquo;s Services of the City of New York and the contractor listed below, for the provision of Medical Services for Youth in Detention. The term of the contract will be from approximately March 1, 2015 to February 28, 2018 with one, 3-year renewal option from March 1, 2018 to February August 28, 2021.</p> <p> &nbsp;</p> <p> Contractor/Address&nbsp;&nbsp;&nbsp;&nbsp;&nbsp;&nbsp;&nbsp;&nbsp;&nbsp;&nbsp;&nbsp;&nbsp;&nbsp;&nbsp;&nbsp;&nbsp;&nbsp;&nbsp;&nbsp;&nbsp;&nbsp;&nbsp;&nbsp;&nbsp;&nbsp;&nbsp;&nbsp; &nbsp;&nbsp;&nbsp;&nbsp;&nbsp;&nbsp;&nbsp;&nbsp;&nbsp;&nbsp;&nbsp;&nbsp;&nbsp;&nbsp;&nbsp;&nbsp;&nbsp;&nbsp;&nbsp;&nbsp;&nbsp;&nbsp; EPIN&nbsp;&nbsp;&nbsp;&nbsp;&nbsp;&nbsp;&nbsp;&nbsp;&nbsp;&nbsp;&nbsp;&nbsp;&nbsp;&nbsp;&nbsp;&nbsp;&nbsp;&nbsp;&nbsp;&nbsp;&nbsp;&nbsp;&nbsp;&nbsp;&nbsp;&nbsp;&nbsp;&nbsp;&nbsp;&nbsp;&nbsp;&nbsp;&nbsp;&nbsp;&nbsp;&nbsp;&nbsp;&nbsp; Amount</p> <p> &nbsp;</p> <p> The Floating Hospital&nbsp;&nbsp;&nbsp;&nbsp;&nbsp;&nbsp;&nbsp;&nbsp;&nbsp;&nbsp;&nbsp;&nbsp;&nbsp;&nbsp;&nbsp;&nbsp;&nbsp;&nbsp;&nbsp;&nbsp;&nbsp;&nbsp;&nbsp;&nbsp;&nbsp;&nbsp;&nbsp;&nbsp;&nbsp;&nbsp;&nbsp;&nbsp;&nbsp;&nbsp;&nbsp;&nbsp;&nbsp;&nbsp;&nbsp;&nbsp;&nbsp;&nbsp;&nbsp;&nbsp;&nbsp;&nbsp;&nbsp; 06815I0001&nbsp;&nbsp;&nbsp;&nbsp;&nbsp;&nbsp;&nbsp;&nbsp;&nbsp;&nbsp;&nbsp;&nbsp;&nbsp;&nbsp;&nbsp;&nbsp;&nbsp;&nbsp;&nbsp;&nbsp;&nbsp;&nbsp;&nbsp;&nbsp;&nbsp;&nbsp;&nbsp; $12,837,282.00</p> <p> 41-40 27<sup>th</sup> Street</p> <p> Long Island City, NY 11101</p> <p> &nbsp;</p> <p> The proposed contractors have been selected by means of the HHS Accelerator process, pursuant to Section 3-16 of the Procurement Policy Board Rules.</p> <p> &nbsp;</p> <p> A copy of the draft scope of services/specifications is available for inspection at the New York City Administration for Children&#39;s Services, Office of Child Welfare Services, 150 William Street, 9th Floor, Borough of Manhattan, on business days from December 04, 2014 through December 18, 2014, exclusive of holidays, between the hours of 10:00 A.M. and 4:00 P.M. &nbsp;Please contact Rafael Asusta of the Office of Child Welfare Services Contracts at (212) 341-3511 to arrange a visitation.</p>"
      ],
      "text/plain": [
       "<IPython.core.display.HTML object>"
      ]
     },
     "metadata": {},
     "output_type": "display_data"
    },
    {
     "data": {
      "text/html": [
       "<hr/>"
      ],
      "text/plain": [
       "<IPython.core.display.HTML object>"
      ]
     },
     "metadata": {},
     "output_type": "display_data"
    },
    {
     "data": {
      "text/html": [
       "<p> NOTICE IS HEREBY GIVEN that a Public Hearing will be held at the Administration for Children&rsquo;s Services, 150 William Street, 9th Floor - Conference Room 9C-1, Borough of Manhattan, on December 22, 2014 commencing at 10:00 A.M. on the following:</p> <p> &nbsp;</p> <p> IN THE MATTER of one (1) proposed contract between the Administration for Children&rsquo;s Services of the City of New York and the contractors listed below, for the provision of therapeutic services (Blue Sky) targeted for youth involved in the juvenile justice system.&nbsp; The term of the contract will be for from approximately February 1, 2015 to July 31, 2017 for New York Foundling.</p> <p> &nbsp;</p> <p> Contractor/Address&nbsp;&nbsp;&nbsp;&nbsp;&nbsp;&nbsp;&nbsp;&nbsp;&nbsp;&nbsp;&nbsp;&nbsp;&nbsp;&nbsp;&nbsp;&nbsp;&nbsp;&nbsp;&nbsp;&nbsp;&nbsp;&nbsp;&nbsp;&nbsp;&nbsp;&nbsp;&nbsp; &nbsp;&nbsp;&nbsp;&nbsp;&nbsp;&nbsp;&nbsp;&nbsp;&nbsp;&nbsp;&nbsp; &nbsp;&nbsp;&nbsp;&nbsp;&nbsp;&nbsp;&nbsp;&nbsp;&nbsp;&nbsp;&nbsp; EPIN&nbsp;&nbsp;&nbsp;&nbsp;&nbsp;&nbsp;&nbsp;&nbsp;&nbsp;&nbsp;&nbsp;&nbsp;&nbsp;&nbsp;&nbsp;&nbsp;&nbsp;&nbsp;&nbsp;&nbsp;&nbsp;&nbsp;&nbsp;&nbsp;&nbsp;&nbsp; &nbsp;&nbsp;&nbsp;&nbsp;&nbsp;&nbsp;&nbsp;&nbsp;&nbsp;&nbsp;&nbsp; Amount&nbsp;&nbsp;&nbsp;&nbsp;&nbsp;&nbsp;&nbsp;&nbsp;&nbsp;&nbsp;</p> <p> &nbsp;</p> <p> New York Foundling&nbsp;&nbsp;&nbsp;&nbsp;&nbsp;&nbsp;&nbsp;&nbsp;&nbsp;&nbsp;&nbsp;&nbsp;&nbsp; &nbsp;&nbsp;&nbsp;&nbsp;&nbsp;&nbsp;&nbsp;&nbsp;&nbsp;&nbsp;&nbsp; &nbsp;&nbsp;&nbsp;&nbsp;&nbsp;&nbsp;&nbsp;&nbsp;&nbsp;&nbsp;&nbsp; 06810S0001001N001 &nbsp;&nbsp;&nbsp;&nbsp;&nbsp;&nbsp;&nbsp;&nbsp;&nbsp;&nbsp;&nbsp; &nbsp;&nbsp;&nbsp;&nbsp;&nbsp;&nbsp;&nbsp;&nbsp;&nbsp;&nbsp;&nbsp; $5,219,570&nbsp;&nbsp;&nbsp;&nbsp;&nbsp;</p> <p> 590 Avenue of the Americas</p> <p> New York, NY 10011</p> <p> &nbsp;</p> <p> &nbsp;</p> <p> The proposed contractors have been selected by means of a Negotiated Acquisition Extension Process, pursuant to Section 3-04 (b)(2)(ii) of the Procurement Policy Board Rules.</p> <p> &nbsp;</p> <p> The draft contract is available for inspection at the New York City Administration for Children&#39;s Services, Office of Child Welfare Services, 150 William Street, 9th Floor, Borough of Manhattan, on business days from December 10, 2014 through December 22, 2014<em>,</em> exclusive of holidays, between the hours of 10 AM and 4 PM.&nbsp; Please contact Mani Jadunauth of the Office of Child Welfare Services Contracts at (212) 676-7522 to arrange a visitation.</p>"
      ],
      "text/plain": [
       "<IPython.core.display.HTML object>"
      ]
     },
     "metadata": {},
     "output_type": "display_data"
    },
    {
     "data": {
      "text/html": [
       "<hr/>"
      ],
      "text/plain": [
       "<IPython.core.display.HTML object>"
      ]
     },
     "metadata": {},
     "output_type": "display_data"
    },
    {
     "data": {
      "text/html": [
       "<p style=text-align: center;\"> <u><strong>CORRECTED NOTICE</strong></u></p> <p> &nbsp;</p> <p> <strong>NOTICE IS HEREBY GIVEN</strong> that a Public Hearing will be held at the Administration for Children&rsquo;s Services"
      ],
      "text/plain": [
       "<IPython.core.display.HTML object>"
      ]
     },
     "metadata": {},
     "output_type": "display_data"
    },
    {
     "data": {
      "text/html": [
       "<hr/>"
      ],
      "text/plain": [
       "<IPython.core.display.HTML object>"
      ]
     },
     "metadata": {},
     "output_type": "display_data"
    },
    {
     "data": {
      "text/html": [
       "<p> <strong>NOTICE IS HEREBY GIVEN</strong> that a Public Hearing will be held at the Administration for Children&rsquo;s Services, 150 William Street, 9<sup>th</sup> Floor - Room 9J-2, Borough of Manhattan, on <strong>January 6, 2015 </strong>commencing at 10:00 A.M. on the following:</p> <p> &nbsp;</p> <p> <strong>IN THE MATTER</strong> of&nbsp; five &nbsp;(5) proposed negotiated acquisition extensions between the Administration for Children&rsquo;s Services of the City of New York and the contractors listed below, for the provision of&nbsp;Clinical Consultation&nbsp;Services. The term of the contracts will be from&nbsp;June 1, 2014 to&nbsp;May 31, 2015.</p> <p> &nbsp;</p> <p> New York Foundling (MN)</p> <p> 590 Avenue of the Americas, 14th Floor</p> <p> New York NY&nbsp; 10011</p> <p> <u><strong>EPIN# </strong></u>06807P0001CNVN003&nbsp;&nbsp;&nbsp;&nbsp;&nbsp;&nbsp;&nbsp;&nbsp;&nbsp; <u><strong>Amount:</strong></u> $300,000.00</p> <p> &nbsp;</p> <p style=text-align: justify;\"> New York Foundling (SI)&nbsp;&nbsp;&nbsp;&nbsp;&nbsp;&nbsp;&nbsp;&nbsp;&nbsp;&nbsp;&nbsp;&nbsp;&nbsp;&nbsp;&nbsp;&nbsp;&nbsp;&nbsp;&nbsp;&nbsp;&nbsp;&nbsp;&nbsp;&nbsp;&nbsp;&nbsp;&nbsp;&nbsp;&nbsp;&nbsp;&nbsp;&nbsp;&nbsp;&nbsp;&nbsp;&nbsp;&nbsp;&nbsp;&nbsp;&nbsp;&nbsp;&nbsp;</p> <p> 590 Avenue of the Americas"
      ],
      "text/plain": [
       "<IPython.core.display.HTML object>"
      ]
     },
     "metadata": {},
     "output_type": "display_data"
    },
    {
     "data": {
      "text/html": [
       "<hr/>"
      ],
      "text/plain": [
       "<IPython.core.display.HTML object>"
      ]
     },
     "metadata": {},
     "output_type": "display_data"
    },
    {
     "data": {
      "text/html": [
       "<p> <strong>NOTICE IS HEREBY GIVEN</strong> that a Public Hearing will be held at the Administration for Children&rsquo;s Services, 150 William Street, 9<sup>th</sup> Floor - Room 9J-2, Borough of Manhattan, on January 6, 2015 commencing at 11:00 A.M. on the following:</p> <p> &nbsp;</p> <p> <strong>IN THE MATTER</strong> of&nbsp;one (1)&nbsp;proposed negotiated acquisition extension between the Administration for Children&rsquo;s Services of the City of New York and the contractor listed below, for the provision of Child Care Voucher Payment Services&nbsp;. The term of the contract will be from&nbsp;May 1, 2015 to April 30, 2016.</p> <p> &nbsp;</p> <p> <u>Contractor/Address</u></p> <p> &nbsp;</p> <p> YMS Management Associates, Inc.</p> <p> 160 Broadway</p> <p> New York, NY&nbsp;&nbsp;10038</p> <p> &nbsp;</p> <p> <u>EPIN#:</u>&nbsp; 06807B0002CNVN002&nbsp;&nbsp;&nbsp; &nbsp;&nbsp;&nbsp; <u>Amount:</u>&nbsp;&nbsp; $452,677,600.00</p> <p> &nbsp;</p> <p> &nbsp;</p> <p> The proposed contractor has been selected by means of a Negotiated Acquisition Extension, pursuant to Section 3-04 (b)(2)(iii) of the Procurement Policy Board Rules.</p> <p> &nbsp;</p> <p> A copy of the draft extension agreement&nbsp;is available for inspection at the New York City Administration for Children&#39;s Services, Office of Procurement, 150 William Street, 9<sup>th</sup> Floor, Borough of Manhattan, on business days from December 22, 2014 through January 5, 2015, exclusive of holidays, between the hours of 10 AM and 4 PM. Please contact Hazel Harber of the Office of Procurement at (212) 676-8811 to arrange a visitation.</p> <p> &nbsp;</p> <p> Anyone who wishes to speak at this public hearing should request to do so in writing. The written request must be received by the agency within 5 business days after publication of this notice. Written request should be sent to Hazel Harber, NYC Admin for Children&#39;s Services, 150 William St., Loc. 9K5, New York NY 10038 or via email to <a href=mailto:hazel.harber@acs.nyc.gov\">hazel.harber@acs.nyc.gov</a>. Pursuant to section 2-11(c)(3) of the Procurement Policy Board rules"
      ],
      "text/plain": [
       "<IPython.core.display.HTML object>"
      ]
     },
     "metadata": {},
     "output_type": "display_data"
    },
    {
     "data": {
      "text/html": [
       "<hr/>"
      ],
      "text/plain": [
       "<IPython.core.display.HTML object>"
      ]
     },
     "metadata": {},
     "output_type": "display_data"
    }
   ],
   "source": [
    "processed_rows = target_rows.apply(scrape,1)"
   ]
  },
  {
   "cell_type": "code",
   "execution_count": 7,
   "metadata": {
    "collapsed": false,
    "scrolled": false
   },
   "outputs": [],
   "source": [
    "errors = []\n",
    "cols = ['RequestID', 'output', 'AdditionalDescription', 'StartDate', 'EndDate', 'DueDate']\n",
    "for rec in processed_rows[cols].values:\n",
    "    id, output, desc, dtStart, dtEnd, dtDue = rec\n",
    "    output = json.loads(output)\n",
    "    if output.get('error', None):\n",
    "        errors.append({'RequestID' : id, 'error': output, 'desc' : desc, \n",
    "                       'StartDate' : dtStart, 'EndDate' : dtEnd, 'DueDate' :  dtDue\n",
    "                      })\n",
    "        continue"
   ]
  },
  {
   "cell_type": "code",
   "execution_count": 8,
   "metadata": {
    "collapsed": false,
    "scrolled": false
   },
   "outputs": [
    {
     "data": {
      "text/html": [
       "<h1>0 Errors parsing Public Hearings::Administration for Children's Services</h1>"
      ],
      "text/plain": [
       "<IPython.core.display.HTML object>"
      ]
     },
     "metadata": {},
     "output_type": "display_data"
    }
   ],
   "source": [
    "err_summary = '''<h1>{} Errors parsing Public Hearings::Administration for Children's Services</h1>'''.format(len(errors))\n",
    "display(HTML(err_summary))\n",
    "for error in errors:\n",
    "    pprint.pprint(error)\n",
    "    print('\\n\\n')\n",
    "    desc = error['desc']\n",
    "    if isinstance(desc, str):\n",
    "        display(HTML(error['desc']))\n",
    "    display(HTML('<hr/>'))\n"
   ]
  },
  {
   "cell_type": "code",
   "execution_count": null,
   "metadata": {
    "collapsed": true
   },
   "outputs": [],
   "source": []
  }
 ],
 "metadata": {
  "kernelspec": {
   "display_name": "Python 3",
   "language": "python",
   "name": "python3"
  },
  "language_info": {
   "codemirror_mode": {
    "name": "ipython",
    "version": 3
   },
   "file_extension": ".py",
   "mimetype": "text/x-python",
   "name": "python",
   "nbconvert_exporter": "python",
   "pygments_lexer": "ipython3",
   "version": "3.4.3"
  }
 },
 "nbformat": 4,
 "nbformat_minor": 0
}
