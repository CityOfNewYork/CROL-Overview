{
 "cells": [
  {
   "cell_type": "markdown",
   "metadata": {},
   "source": [
    "**Thoughts?**\n",
    "\n",
    "Maybe no parsing needs to be done.\n",
    "Are the columns themselves enough to construct the schema?"
   ]
  },
  {
   "cell_type": "code",
   "execution_count": 9,
   "metadata": {
    "collapsed": false
   },
   "outputs": [],
   "source": [
    "from bs4 import BeautifulSoup as Soup\n",
    "from IPython.display import HTML\n",
    "import pandas as pd\n",
    "import numpy as np\n",
    "import re\n",
    "import pprint\n",
    "from IPython.display import display"
   ]
  },
  {
   "cell_type": "code",
   "execution_count": 10,
   "metadata": {
    "collapsed": false
   },
   "outputs": [],
   "source": [
    "fn = 'orig.procPublicationRequestDMSSPortal.oct-dec-2014.csv'\n",
    "rows = pd.read_csv(fn, header=0, sep='|', encoding='latin-1')"
   ]
  },
  {
   "cell_type": "code",
   "execution_count": 11,
   "metadata": {
    "collapsed": false
   },
   "outputs": [],
   "source": [
    "cols = ['RequestID', 'StartDate', 'EndDate', \n",
    "        'AgencyCode', 'AgencyName', 'AgencyDivision', \n",
    "        'TypeOfNoticeCode', 'TypeOfNoticeDescription', \n",
    "        'CategoryCode', 'CategoryDescription', 'ShortTitle', \n",
    "        'SelectionMethodCode', 'SelectionMethodDescription', \n",
    "        'SectionID', 'SectionName', 'SpecialCaseReasonCode', \n",
    "        'SpecialCaseReasonDescription', 'PIN', 'DueDate', \n",
    "        'AddressToRequest', 'ContactName', 'ContactPhone', \n",
    "        'Email', 'AddressToSubmit', 'ContractAmount', \n",
    "        'RequestedBy', 'PhoneRequested', 'ConfirmationNumber', \n",
    "        'ContactFax', 'AdditionalDescription', 'OtherInfo', \n",
    "        'VendorName', 'VendorAddress', 'Printout']"
   ]
  },
  {
   "cell_type": "code",
   "execution_count": 12,
   "metadata": {
    "collapsed": false,
    "scrolled": true
   },
   "outputs": [],
   "source": [
    "cas = rows['AgencyName'] == \"Citywide Administrative Services\"\n",
    "awards = rows['TypeOfNoticeDescription'] == \"Solicitation\"\n",
    "rows = rows[cas & awards][cols]\n",
    "# rows\n",
    "\n",
    "# CitywideAdministrativeServices-solicitation"
   ]
  },
  {
   "cell_type": "code",
   "execution_count": 14,
   "metadata": {
    "collapsed": false,
    "scrolled": true
   },
   "outputs": [
    {
     "data": {
      "text/html": [
       "A copy of the bid can be downloaded from City Record Online at http://a856-internet.nyc.gov/nycvendoronline/home.asp . Enrollment is free. Vendor may also request the bid by contacting Vendor Relations via email at dcasdmssbids@dcas.nyc.gov, by telephone at 212-669-8610."
      ],
      "text/plain": [
       "<IPython.core.display.HTML object>"
      ]
     },
     "metadata": {},
     "output_type": "display_data"
    },
    {
     "name": "stdout",
     "output_type": "stream",
     "text": [
      "\n",
      "---\n",
      "\n"
     ]
    },
    {
     "data": {
      "text/html": [
       "<hr/>"
      ],
      "text/plain": [
       "<IPython.core.display.HTML object>"
      ]
     },
     "metadata": {},
     "output_type": "display_data"
    },
    {
     "data": {
      "text/html": [
       "A copy of the bid can be downloaded from the city record online site at http://a856-internet.nyc.gov/nyvendoronline/home.asp Enrollment is free. Vendors may also request the bid by contacting vendor relations via email at dcasdmssbids@dcas.nyc.gov, by telephone at 212-669-8510 or by fax at 212-669-7603."
      ],
      "text/plain": [
       "<IPython.core.display.HTML object>"
      ]
     },
     "metadata": {},
     "output_type": "display_data"
    },
    {
     "name": "stdout",
     "output_type": "stream",
     "text": [
      "\n",
      "---\n",
      "\n"
     ]
    },
    {
     "data": {
      "text/html": [
       "<hr/>"
      ],
      "text/plain": [
       "<IPython.core.display.HTML object>"
      ]
     },
     "metadata": {},
     "output_type": "display_data"
    },
    {
     "data": {
      "text/html": [
       "EPIN# 85715N0001. This is a notification of intent by Department of Citywide Administrative Services to enter into negotiations for an art storage system for the Rubin Museum of Art, on behalf of the Department of Cultural Affairs (DCLA).   There is a limited number of suppliers available and able to perform the work. Any firm which believes it can also provide this category of service and would like to be considered are invited to contact DCAS, 1 Centre Street, 18th floor, NY, NY 10007, Attn: Jeanette Cheung, 212-386-0465, jcheung@dcas.nyc.gov no later than 12-8-2014.  "
      ],
      "text/plain": [
       "<IPython.core.display.HTML object>"
      ]
     },
     "metadata": {},
     "output_type": "display_data"
    },
    {
     "name": "stdout",
     "output_type": "stream",
     "text": [
      "\n",
      "---\n",
      "\n"
     ]
    },
    {
     "data": {
      "text/html": [
       "<hr/>"
      ],
      "text/plain": [
       "<IPython.core.display.HTML object>"
      ]
     },
     "metadata": {},
     "output_type": "display_data"
    },
    {
     "data": {
      "text/html": [
       "CORRECTION: A copy of the bid can be downloaded from the City Record online site at http://a856- internet.nyc.gov/nycvendoronline/home.asp Enrollment is free. Vendors may also request the bid by contacting Vendor Relations via e-mail at dcasdmssbids@dcas.nyc.gov by telephone at 212-669-2610 or by fax at 212-669-7603"
      ],
      "text/plain": [
       "<IPython.core.display.HTML object>"
      ]
     },
     "metadata": {},
     "output_type": "display_data"
    },
    {
     "name": "stdout",
     "output_type": "stream",
     "text": [
      "\n",
      "---\n",
      "\n"
     ]
    },
    {
     "data": {
      "text/html": [
       "<hr/>"
      ],
      "text/plain": [
       "<IPython.core.display.HTML object>"
      ]
     },
     "metadata": {},
     "output_type": "display_data"
    },
    {
     "data": {
      "text/html": [
       "A copy of the bid can be downloaded from the city record online site at http://a856-internet.nyc.gov/nyvendoronline/home.asp enrollment is free. Vendors may also request the bid by contacting vendor relations via email at dcasdmssbids@dcas.nyc.gov, by telephone at 212-669-8510 or by fax at 212-669-7603."
      ],
      "text/plain": [
       "<IPython.core.display.HTML object>"
      ]
     },
     "metadata": {},
     "output_type": "display_data"
    },
    {
     "name": "stdout",
     "output_type": "stream",
     "text": [
      "\n",
      "---\n",
      "\n"
     ]
    },
    {
     "data": {
      "text/html": [
       "<hr/>"
      ],
      "text/plain": [
       "<IPython.core.display.HTML object>"
      ]
     },
     "metadata": {},
     "output_type": "display_data"
    },
    {
     "data": {
      "text/html": [
       "A copy of the bid can be downloaded from the City Record Online site at http://a856-internet.nyc.gov/nycvendoronline/home.asp. Enrollment is free. Vendors may also request the bid by contacting Vendor Relations via email at dcasdmssbids@dcas.nyc.gov, by telephone at 212-669-8610 or by fax at 212-669-7603."
      ],
      "text/plain": [
       "<IPython.core.display.HTML object>"
      ]
     },
     "metadata": {},
     "output_type": "display_data"
    },
    {
     "name": "stdout",
     "output_type": "stream",
     "text": [
      "\n",
      "---\n",
      "\n"
     ]
    },
    {
     "data": {
      "text/html": [
       "<hr/>"
      ],
      "text/plain": [
       "<IPython.core.display.HTML object>"
      ]
     },
     "metadata": {},
     "output_type": "display_data"
    },
    {
     "data": {
      "text/html": [
       "A copy of the bid can be downloaded from the city record online site at http://a856-internet.nyc.gov/nycvendoronline/home.asp Enrollment is free. Vendors may also request the bid by contacting vendor relations via email at dcasdmssbids@dcas.nyc.gov, by telephone at 212-386-0044 or by fax at 212-669-7585. "
      ],
      "text/plain": [
       "<IPython.core.display.HTML object>"
      ]
     },
     "metadata": {},
     "output_type": "display_data"
    },
    {
     "name": "stdout",
     "output_type": "stream",
     "text": [
      "\n",
      "---\n",
      "\n"
     ]
    },
    {
     "data": {
      "text/html": [
       "<hr/>"
      ],
      "text/plain": [
       "<IPython.core.display.HTML object>"
      ]
     },
     "metadata": {},
     "output_type": "display_data"
    },
    {
     "data": {
      "text/html": [
       "A copy of the bid can be downloaded from the city record online site at http://a856internet.nyc.gov/nycvendoronline/home.asp. Enrollment is free. Vendors may also request the bid by contacting vendor relations via email: dcasdmssbids@dcas.nyc.gov, by telephone at 212-669-8610 or by fax at: 212-669-7603."
      ],
      "text/plain": [
       "<IPython.core.display.HTML object>"
      ]
     },
     "metadata": {},
     "output_type": "display_data"
    },
    {
     "name": "stdout",
     "output_type": "stream",
     "text": [
      "\n",
      "---\n",
      "\n"
     ]
    },
    {
     "data": {
      "text/html": [
       "<hr/>"
      ],
      "text/plain": [
       "<IPython.core.display.HTML object>"
      ]
     },
     "metadata": {},
     "output_type": "display_data"
    },
    {
     "data": {
      "text/html": [
       "A copy of the bid can be downloaded from the City Record Online site at http://a856-internet.nyc.gov/nycvendoronline/home.asp. Enrollment is free. Vendors may also request the bid by contacting Vendor Relations via email at dcasdmssbids@dcas.nyc.gov, by telephone at 212-669-8610 or by fax at 212-669-7603."
      ],
      "text/plain": [
       "<IPython.core.display.HTML object>"
      ]
     },
     "metadata": {},
     "output_type": "display_data"
    },
    {
     "name": "stdout",
     "output_type": "stream",
     "text": [
      "\n",
      "---\n",
      "\n"
     ]
    },
    {
     "data": {
      "text/html": [
       "<hr/>"
      ],
      "text/plain": [
       "<IPython.core.display.HTML object>"
      ]
     },
     "metadata": {},
     "output_type": "display_data"
    },
    {
     "data": {
      "text/html": [
       "A copy of the bid can be downloaded from the City Record Online site at http://a856-internet.nyc.gov/nycvendoronline/home.asp. Enrollment is free. Vendors may also request the bid by contacting Vendor Relations via email at dcasdmssbids@dcas.nyc.gov, by telephone at 212-669-8610 or by fax at 212-669-7603."
      ],
      "text/plain": [
       "<IPython.core.display.HTML object>"
      ]
     },
     "metadata": {},
     "output_type": "display_data"
    },
    {
     "name": "stdout",
     "output_type": "stream",
     "text": [
      "\n",
      "---\n",
      "\n"
     ]
    },
    {
     "data": {
      "text/html": [
       "<hr/>"
      ],
      "text/plain": [
       "<IPython.core.display.HTML object>"
      ]
     },
     "metadata": {},
     "output_type": "display_data"
    },
    {
     "data": {
      "text/html": [
       "A copy of the bid can be downloaded from the City Record online site at http://a856- internet.nyc.gov/nycvendoronline/home.asp Enrollment is free. Vendors may also request the bid by contacting Vendor Relations via e-mail at dcasdmssbids@dcas.nyc.gov by telephone at 212-669-2610 or by fax at 212-669-7603"
      ],
      "text/plain": [
       "<IPython.core.display.HTML object>"
      ]
     },
     "metadata": {},
     "output_type": "display_data"
    },
    {
     "name": "stdout",
     "output_type": "stream",
     "text": [
      "\n",
      "---\n",
      "\n"
     ]
    },
    {
     "data": {
      "text/html": [
       "<hr/>"
      ],
      "text/plain": [
       "<IPython.core.display.HTML object>"
      ]
     },
     "metadata": {},
     "output_type": "display_data"
    },
    {
     "data": {
      "text/html": [
       "A copy of the bid can be downloaded from the city record online site at http://a856-internet.nyc.gov/nycvendoronline/home.asp. Enrollment is free. Vendors may also request the bid by contacting vendor relations via email:dcasdmssbids@dcas.nyc.gov, by telephone at 212-669-5610 or by fax at 212-669-7603."
      ],
      "text/plain": [
       "<IPython.core.display.HTML object>"
      ]
     },
     "metadata": {},
     "output_type": "display_data"
    },
    {
     "name": "stdout",
     "output_type": "stream",
     "text": [
      "\n",
      "---\n",
      "\n"
     ]
    },
    {
     "data": {
      "text/html": [
       "<hr/>"
      ],
      "text/plain": [
       "<IPython.core.display.HTML object>"
      ]
     },
     "metadata": {},
     "output_type": "display_data"
    },
    {
     "data": {
      "text/html": [
       "DCAS/OCP invite all food vendors to an informational meeting to discuss updates on Certification, Nutritional requirements, Citywide food policy and goals in the context of  food industry trends. The Meeting will be held on Thursday October 2, 2014, 10:30 a.m. at  Municipal Building, 1 Centre Street, 18th Floor Pre-Bid Room, New York, NY 10007.  All Food Vendors are welcome. See Food Vendors Meeting letter attached and dated September 22, 2014. If you have questions regarding this meeting, please contact Mr John Katsorhis at 212-386-0449 or by email at jkatsorhis@dcas.nyc.gov or  Mr. Anson Telford at 212-386-6277, by email at atelford@dcas.nyc.gov"
      ],
      "text/plain": [
       "<IPython.core.display.HTML object>"
      ]
     },
     "metadata": {},
     "output_type": "display_data"
    },
    {
     "name": "stdout",
     "output_type": "stream",
     "text": [
      "\n",
      "---\n",
      "\n"
     ]
    },
    {
     "data": {
      "text/html": [
       "<hr/>"
      ],
      "text/plain": [
       "<IPython.core.display.HTML object>"
      ]
     },
     "metadata": {},
     "output_type": "display_data"
    },
    {
     "data": {
      "text/html": [
       "A copy of the bid can be downloaded from the City Record Online site at http://a856-internet.nyc.gov/nycvendoronline/home.asp. Enrollment is free. Vendors may also request the bid by contacting Vendor Relations via email at dcasdmssbids@dcas.nyc.gov, by telephone at 212-669-8610 or by fax at 212-669-7603. "
      ],
      "text/plain": [
       "<IPython.core.display.HTML object>"
      ]
     },
     "metadata": {},
     "output_type": "display_data"
    },
    {
     "name": "stdout",
     "output_type": "stream",
     "text": [
      "\n",
      "---\n",
      "\n"
     ]
    },
    {
     "data": {
      "text/html": [
       "<hr/>"
      ],
      "text/plain": [
       "<IPython.core.display.HTML object>"
      ]
     },
     "metadata": {},
     "output_type": "display_data"
    },
    {
     "data": {
      "text/html": [
       "A copy of the bid can be downloaded from the City Record Online site at http://a856-internet.nyc.gov/nycvendoronline/home.asp. Enrollment is free. Vendors may also request the bid by contacting Vendor Relations via email at dcasdmssbids@dcas.nyc.gov, by telephone at 212-669-8610 or by fax at 212-669-7603."
      ],
      "text/plain": [
       "<IPython.core.display.HTML object>"
      ]
     },
     "metadata": {},
     "output_type": "display_data"
    },
    {
     "name": "stdout",
     "output_type": "stream",
     "text": [
      "\n",
      "---\n",
      "\n"
     ]
    },
    {
     "data": {
      "text/html": [
       "<hr/>"
      ],
      "text/plain": [
       "<IPython.core.display.HTML object>"
      ]
     },
     "metadata": {},
     "output_type": "display_data"
    },
    {
     "data": {
      "text/html": [
       "A copy of the bid can be downloaded from the City Record Online site at http://a856-internet.nyc.gov/nycvendoronline/home.asp. Enrollment is free. Vendors may also request the bid by contacting Vendor Relations via email at dcasdmssbids@dcas.nyc.gov, by telephone at 212-669-8610 or by fax at 212-669-7603."
      ],
      "text/plain": [
       "<IPython.core.display.HTML object>"
      ]
     },
     "metadata": {},
     "output_type": "display_data"
    },
    {
     "name": "stdout",
     "output_type": "stream",
     "text": [
      "\n",
      "---\n",
      "\n"
     ]
    },
    {
     "data": {
      "text/html": [
       "<hr/>"
      ],
      "text/plain": [
       "<IPython.core.display.HTML object>"
      ]
     },
     "metadata": {},
     "output_type": "display_data"
    },
    {
     "data": {
      "text/html": [
       "BID EXTENSION: The New York City Department of Citywide Administrative Services (DCAS)/Asset Management Division (AM) is seeking an appropriately qualified Conservator to repair, restore and provide conservation treatment and long-term stabilization of the four (4) large painted murals at the Bronx Courthouse.  This project is subject to MWBE goal, as per Local Law 1 of 2013. By registering your contact information on the form provided at the following web address, http://a856-internet.nyc.gov/nycvendoronline/home.asp, you will be able to view and download a copy of the RFP. Alternatively, a copy of the RFP may be picked up from DCAS at its Office of Citywide Purchasing at One Centre Street, 18th Floor North, New York, NY 10007 between 9:00 AM and 5:00 PM on regular City business days (Please enter through the South Building).   Proposals, which must be received on or before 11:00 a.m. on December 30, 2014, must be submitted by mail or hand delivery to Irene Rubet, the Authorized Agency Contact Person, at One Centre Street, 18th Floor North, New York, NY 10007, Telephone No.: (212) 386-0451, E-Mail Address: irubet@dcas.nyc.gov. Any questions regarding this solicitation should also be directed to Ms. Rubets attention."
      ],
      "text/plain": [
       "<IPython.core.display.HTML object>"
      ]
     },
     "metadata": {},
     "output_type": "display_data"
    },
    {
     "name": "stdout",
     "output_type": "stream",
     "text": [
      "\n",
      "---\n",
      "\n"
     ]
    },
    {
     "data": {
      "text/html": [
       "<hr/>"
      ],
      "text/plain": [
       "<IPython.core.display.HTML object>"
      ]
     },
     "metadata": {},
     "output_type": "display_data"
    },
    {
     "data": {
      "text/html": [
       "BID EXTENSION: Bid opening postponned to January 14 2015 A copy of the bid can be downloaded from the City Record Online site at http://a856-internet.nyc.gov/nycvendoronline/home.asp. Enrollment is free. Vendors may also request the bid by contacting Vendor Relations via email at dcasdmssbids@dcas.nyc.gov, by telephone at 212-669-8610 or by fax at 212-669-7603.  "
      ],
      "text/plain": [
       "<IPython.core.display.HTML object>"
      ]
     },
     "metadata": {},
     "output_type": "display_data"
    },
    {
     "name": "stdout",
     "output_type": "stream",
     "text": [
      "\n",
      "---\n",
      "\n"
     ]
    },
    {
     "data": {
      "text/html": [
       "<hr/>"
      ],
      "text/plain": [
       "<IPython.core.display.HTML object>"
      ]
     },
     "metadata": {},
     "output_type": "display_data"
    },
    {
     "data": {
      "text/html": [
       "A Pre-Solicitation Conference for the above mentioned commodity has been RESCHEDULED for November 12, 2014 at 9:30am at 1 Centre Street, New York, NY 10007, 18th floor.  The purpose of this conference is to review proposed specifications for the commodity listed above to ensure a good product and maximum competition. Please make every effort to attend this conference, your participation will assist us in revising the attached specifications so they can be issued as a part of final bid package.  A copy of the pre-solicitation package can be downloaded from the City Record Online site at http://a856-internet.nyc.gov/nycvendoronline/home.asp. Enrollment is free. Please review the documents before you attend the conference."
      ],
      "text/plain": [
       "<IPython.core.display.HTML object>"
      ]
     },
     "metadata": {},
     "output_type": "display_data"
    },
    {
     "name": "stdout",
     "output_type": "stream",
     "text": [
      "\n",
      "---\n",
      "\n"
     ]
    },
    {
     "data": {
      "text/html": [
       "<hr/>"
      ],
      "text/plain": [
       "<IPython.core.display.HTML object>"
      ]
     },
     "metadata": {},
     "output_type": "display_data"
    },
    {
     "data": {
      "text/html": [
       "BID EXTENSION: A Pre-Solicitation Conference for the above mentioned commodity has been rescheduled to January 16, 2015 at 9:30am at 1 Centre Street, New York, NY 10007, 18th floor.  The purpose of this conference is to review proposed specifications for the commodity listed above to ensure a good product and maximum competition. Please make every effort to attend this conference, your participation will assist us in revising the attached specifications so they can be issued as a part of final bid package.  A copy of the pre-solicitation package can be downloaded from the City Record Online site at http://a856-internet.nyc.gov/nycvendoronline/home.asp. Enrollment is free. Please review the documents the before you attend the conference. If you have questions regarding this conference, please contact Kaleem Kamboj at 212-386-6373 or by email at kkamboj@dcas.nyc.gov     "
      ],
      "text/plain": [
       "<IPython.core.display.HTML object>"
      ]
     },
     "metadata": {},
     "output_type": "display_data"
    },
    {
     "name": "stdout",
     "output_type": "stream",
     "text": [
      "\n",
      "---\n",
      "\n"
     ]
    },
    {
     "data": {
      "text/html": [
       "<hr/>"
      ],
      "text/plain": [
       "<IPython.core.display.HTML object>"
      ]
     },
     "metadata": {},
     "output_type": "display_data"
    },
    {
     "data": {
      "text/html": [
       "BID EXTENSION: Bid opening has been postponned to December 18, 2014. Also please see attached addendum 2 for additional corrections.  A copy of the bid can be downloaded from the City Record Online site at http://a856-internet.nyc.gov/nycvendoronline/home.asp. Enrollment is free. Vendors may also request the bid by contacting Vendor Relations via email at dcasdmssbids@dcas.nyc.gov, by telephone at 212-669-8610 or by fax at 212-669-7603."
      ],
      "text/plain": [
       "<IPython.core.display.HTML object>"
      ]
     },
     "metadata": {},
     "output_type": "display_data"
    },
    {
     "name": "stdout",
     "output_type": "stream",
     "text": [
      "\n",
      "---\n",
      "\n"
     ]
    },
    {
     "data": {
      "text/html": [
       "<hr/>"
      ],
      "text/plain": [
       "<IPython.core.display.HTML object>"
      ]
     },
     "metadata": {},
     "output_type": "display_data"
    },
    {
     "data": {
      "text/html": [
       "A copy of the bid can be downloaded from City Record Online at http://a856-internet.nyc.gov/nycvendoronline/home.asp . Enrollment is free. Vendor may also request the bid by contacting Vendor Relations via email at dcasdmssbids@dcas.nyc.gov, by telephone at 212-669-8610."
      ],
      "text/plain": [
       "<IPython.core.display.HTML object>"
      ]
     },
     "metadata": {},
     "output_type": "display_data"
    },
    {
     "name": "stdout",
     "output_type": "stream",
     "text": [
      "\n",
      "---\n",
      "\n"
     ]
    },
    {
     "data": {
      "text/html": [
       "<hr/>"
      ],
      "text/plain": [
       "<IPython.core.display.HTML object>"
      ]
     },
     "metadata": {},
     "output_type": "display_data"
    },
    {
     "data": {
      "text/html": [
       "A Pre-Solicitation Conference for the above mentioned commodity is scheduled for November 3, 2014 at 10:30am at 1 Centre Street, New York, NY 10007, 18th floor.  The purpose of this conference is to review proposed specifications for the commodity listed above to ensure a good product and maximum competition. Please make every effort to attend this conference, your participation will assist us in revising the attached specifications so they can be issued as a part of final bid package.  A copy of the pre-solicitation package can be downloaded from the City Record Online site at http://a856-internet.nyc.gov/nycvendoronline/home.asp. Enrollment is free. Please review the documents the before you attend the conference."
      ],
      "text/plain": [
       "<IPython.core.display.HTML object>"
      ]
     },
     "metadata": {},
     "output_type": "display_data"
    },
    {
     "name": "stdout",
     "output_type": "stream",
     "text": [
      "\n",
      "---\n",
      "\n"
     ]
    },
    {
     "data": {
      "text/html": [
       "<hr/>"
      ],
      "text/plain": [
       "<IPython.core.display.HTML object>"
      ]
     },
     "metadata": {},
     "output_type": "display_data"
    },
    {
     "data": {
      "text/html": [
       "A copy of the bid can be downloaded from the City Record Online site at http://a856-internet.nyc.gov/nycvendoronline/home.asp. Enrollment is free. Vendors may also request the bid by contacting Vendor Relations via email at dcasdmssbids@dcas.nyc.gov, by telephone at 212-669-8610 or by fax at 212-669-7603."
      ],
      "text/plain": [
       "<IPython.core.display.HTML object>"
      ]
     },
     "metadata": {},
     "output_type": "display_data"
    },
    {
     "name": "stdout",
     "output_type": "stream",
     "text": [
      "\n",
      "---\n",
      "\n"
     ]
    },
    {
     "data": {
      "text/html": [
       "<hr/>"
      ],
      "text/plain": [
       "<IPython.core.display.HTML object>"
      ]
     },
     "metadata": {},
     "output_type": "display_data"
    },
    {
     "data": {
      "text/html": [
       "CORRECTION: The time of the pre-bid is 9:30am  A Pre-Solicitation Conference for the above mentioned commodity is scheduled for January 5, 2015 at 9:30am at 1 Centre Street, New York, NY 10007, 18th floor.  The purpose of this conference is to review proposed specifications for the commodity listed above to ensure a good product and maximum competition. Please make every effort to attend this conference, your participation will assist us in revising the attached specifications so they can be issued as a part of final bid package.  A copy of the pre-solicitation package can be downloaded from the City Record Online site at http://a856-internet.nyc.gov/nycvendoronline/home.asp. Enrollment is free. Please review the documents the before you attend the conference. If you have questions regarding this conference, please contact Joe Vacirca at 212-669-8616 or by email at jvacirca@dcas.nyc.gov "
      ],
      "text/plain": [
       "<IPython.core.display.HTML object>"
      ]
     },
     "metadata": {},
     "output_type": "display_data"
    },
    {
     "name": "stdout",
     "output_type": "stream",
     "text": [
      "\n",
      "---\n",
      "\n"
     ]
    },
    {
     "data": {
      "text/html": [
       "<hr/>"
      ],
      "text/plain": [
       "<IPython.core.display.HTML object>"
      ]
     },
     "metadata": {},
     "output_type": "display_data"
    },
    {
     "data": {
      "text/html": [
       "CORRECTION: See Bid addendum letter of City Record Online dated October 17, 2014.  A copy of the bid can be downloaded from the City Record Online site at http://a856-internet.nyc.gov/nycvendoronline/home.asp. Enrollment is free. Vendors may also request the bid by contacting Vendor Relations via email at dcasdmssbids@dcas.nyc.gov, by telephone at 212-669-8610 or by fax at 212-669-7603. "
      ],
      "text/plain": [
       "<IPython.core.display.HTML object>"
      ]
     },
     "metadata": {},
     "output_type": "display_data"
    },
    {
     "name": "stdout",
     "output_type": "stream",
     "text": [
      "\n",
      "---\n",
      "\n"
     ]
    },
    {
     "data": {
      "text/html": [
       "<hr/>"
      ],
      "text/plain": [
       "<IPython.core.display.HTML object>"
      ]
     },
     "metadata": {},
     "output_type": "display_data"
    },
    {
     "data": {
      "text/html": [
       "CORRECTION: See attached Addendum #1 dated 12/1/2014. Requirements Contract to provide labor, materials and equipment necessary to perform Electrical Work various Department of Citywide Administrative Services (DCAS) facilities throughout the five (5) boroughs of the City of New York. This procurement is subject to Project Labor Agreement (PLA) entered into between the City and the Building Construction Trades Council of Greater New York (BCTC)Affiliated Local Unions."
      ],
      "text/plain": [
       "<IPython.core.display.HTML object>"
      ]
     },
     "metadata": {},
     "output_type": "display_data"
    },
    {
     "name": "stdout",
     "output_type": "stream",
     "text": [
      "\n",
      "---\n",
      "\n"
     ]
    },
    {
     "data": {
      "text/html": [
       "<hr/>"
      ],
      "text/plain": [
       "<IPython.core.display.HTML object>"
      ]
     },
     "metadata": {},
     "output_type": "display_data"
    },
    {
     "data": {
      "text/html": [
       "CORRECTION: See bid addendum letter #1 of City Record Online dated 11/18/2014.  A copy of the bid can be downloaded from the City Record Online site at http://a856-internet.nyc.gov/nycvendoronline/home.asp. Enrollment is free. Vendors may also request the bid by contacting Vendor Relations via email at dcasdmssbids@dcas.nyc.gov, by telephone at 212-669-8610 or by fax at 212-669-7603. "
      ],
      "text/plain": [
       "<IPython.core.display.HTML object>"
      ]
     },
     "metadata": {},
     "output_type": "display_data"
    },
    {
     "name": "stdout",
     "output_type": "stream",
     "text": [
      "\n",
      "---\n",
      "\n"
     ]
    },
    {
     "data": {
      "text/html": [
       "<hr/>"
      ],
      "text/plain": [
       "<IPython.core.display.HTML object>"
      ]
     },
     "metadata": {},
     "output_type": "display_data"
    },
    {
     "data": {
      "text/html": [
       "CORRECTION: See Bid Addendum Letter of City Record Online Dated 10/27/2014 A copy of the bid can be downloaded from the City Record Online site at http://a856-internet.nyc.gov/nycvendoronline/home.asp. Enrollment is free. Vendors may also request the bid by contacting Vendor Relations via email at dcasdmssbids@dcas.nyc.gov, by telephone at 212-669-8610 or by fax at 212-669-7603. "
      ],
      "text/plain": [
       "<IPython.core.display.HTML object>"
      ]
     },
     "metadata": {},
     "output_type": "display_data"
    },
    {
     "name": "stdout",
     "output_type": "stream",
     "text": [
      "\n",
      "---\n",
      "\n"
     ]
    },
    {
     "data": {
      "text/html": [
       "<hr/>"
      ],
      "text/plain": [
       "<IPython.core.display.HTML object>"
      ]
     },
     "metadata": {},
     "output_type": "display_data"
    },
    {
     "data": {
      "text/html": [
       "HIGH AND LOW PRESSURE BOILER TESTING, REPAIR, MAINTENANCE AND RELATED WORK AT VARIOUS FACILITIES THROUGHOUT THE FIVE (5) BOROUGHS OF THE CITY OF NEW YORK."
      ],
      "text/plain": [
       "<IPython.core.display.HTML object>"
      ]
     },
     "metadata": {},
     "output_type": "display_data"
    },
    {
     "name": "stdout",
     "output_type": "stream",
     "text": [
      "\n",
      "---\n",
      "\n"
     ]
    },
    {
     "data": {
      "text/html": [
       "<hr/>"
      ],
      "text/plain": [
       "<IPython.core.display.HTML object>"
      ]
     },
     "metadata": {},
     "output_type": "display_data"
    },
    {
     "data": {
      "text/html": [
       "CORRECTION: Addendum #1 has been issued to this solicitation (see attached).  The addendum can be downloaded for free from the City Record On-Line(CROL)at:http://a856-internet.nyc.gov/nycvendoronline/home.asp   "
      ],
      "text/plain": [
       "<IPython.core.display.HTML object>"
      ]
     },
     "metadata": {},
     "output_type": "display_data"
    },
    {
     "name": "stdout",
     "output_type": "stream",
     "text": [
      "\n",
      "---\n",
      "\n"
     ]
    },
    {
     "data": {
      "text/html": [
       "<hr/>"
      ],
      "text/plain": [
       "<IPython.core.display.HTML object>"
      ]
     },
     "metadata": {},
     "output_type": "display_data"
    },
    {
     "data": {
      "text/html": [
       "CORRECTION: The C Pages have been revised A copy of the bid can be downloaded from City Record Online at http://a856-internet.nyc.gov/nycvendoronline/home.asp . Enrollment is free. Vendor may also request the bid by contacting Vendor Relations via email at dcasdmssbids@dcas.nyc.gov, by telephone at 212-669-8610."
      ],
      "text/plain": [
       "<IPython.core.display.HTML object>"
      ]
     },
     "metadata": {},
     "output_type": "display_data"
    },
    {
     "name": "stdout",
     "output_type": "stream",
     "text": [
      "\n",
      "---\n",
      "\n"
     ]
    },
    {
     "data": {
      "text/html": [
       "<hr/>"
      ],
      "text/plain": [
       "<IPython.core.display.HTML object>"
      ]
     },
     "metadata": {},
     "output_type": "display_data"
    },
    {
     "data": {
      "text/html": [
       "CORRECTION: Specifications are attached. BID EXTENSION: Bid opening date is postponed to 10/27/2014.  A copy of the bid can be downloaded from City Record Online at http://a856-internet.nyc.gov/nycvendoronline/home.asp . Enrollment is free. Vendor may also request the bid by contacting Vendor Relations via email at dcasdmssbids@dcas.nyc.gov, by telephone at 212-669-8610."
      ],
      "text/plain": [
       "<IPython.core.display.HTML object>"
      ]
     },
     "metadata": {},
     "output_type": "display_data"
    },
    {
     "name": "stdout",
     "output_type": "stream",
     "text": [
      "\n",
      "---\n",
      "\n"
     ]
    },
    {
     "data": {
      "text/html": [
       "<hr/>"
      ],
      "text/plain": [
       "<IPython.core.display.HTML object>"
      ]
     },
     "metadata": {},
     "output_type": "display_data"
    },
    {
     "data": {
      "text/html": [
       "CORRECTION: See Bid Addendum Letter of City Record Online dated 10/29/2014 attached. A copy of the bid can be downloaded from the City Record Online site at http://a856-internet.nyc.gov/nycvendoronline/home.asp. Enrollment is free. Vendors may also request the bid by contacting Vendor Relations via email at dcasdmssbids@dcas.nyc.gov, by telephone at 212-669-8610 or by fax at 212-669-7603."
      ],
      "text/plain": [
       "<IPython.core.display.HTML object>"
      ]
     },
     "metadata": {},
     "output_type": "display_data"
    },
    {
     "name": "stdout",
     "output_type": "stream",
     "text": [
      "\n",
      "---\n",
      "\n"
     ]
    },
    {
     "data": {
      "text/html": [
       "<hr/>"
      ],
      "text/plain": [
       "<IPython.core.display.HTML object>"
      ]
     },
     "metadata": {},
     "output_type": "display_data"
    },
    {
     "data": {
      "text/html": [
       "CORRECTION: See bid addendum letter of City Record Online dated 11/10/2014. A copy of the bid can be downloaded from the City Record Online site at http://a856-internet.nyc.gov/nycvendoronline/home.asp. Enrollment is free. Vendors may also request the bid by contacting Vendor Relations via email at dcasdmssbids@dcas.nyc.gov, by telephone at 212-669-8610 or by fax at 212-669-7603. "
      ],
      "text/plain": [
       "<IPython.core.display.HTML object>"
      ]
     },
     "metadata": {},
     "output_type": "display_data"
    },
    {
     "name": "stdout",
     "output_type": "stream",
     "text": [
      "\n",
      "---\n",
      "\n"
     ]
    },
    {
     "data": {
      "text/html": [
       "<hr/>"
      ],
      "text/plain": [
       "<IPython.core.display.HTML object>"
      ]
     },
     "metadata": {},
     "output_type": "display_data"
    },
    {
     "data": {
      "text/html": [
       "CORRECTION: addendum attached  A copy of the bid can be downloaded from the City Record Online site at http://a856-internet.nyc.gov/nycvendoronline/home.asp. Enrollment is free. Vendors may also request the bid by contacting Vendor Relations via email at dcasdmssbids@dcas.nyc.gov, by telephone at 212-669-8610 or by fax at 212-669-7603."
      ],
      "text/plain": [
       "<IPython.core.display.HTML object>"
      ]
     },
     "metadata": {},
     "output_type": "display_data"
    },
    {
     "name": "stdout",
     "output_type": "stream",
     "text": [
      "\n",
      "---\n",
      "\n"
     ]
    },
    {
     "data": {
      "text/html": [
       "<hr/>"
      ],
      "text/plain": [
       "<IPython.core.display.HTML object>"
      ]
     },
     "metadata": {},
     "output_type": "display_data"
    },
    {
     "data": {
      "text/html": [
       "CORRECTION: Please see attached addendum 2 A copy of the bid can be downloaded from the City Record Online site at http://a856-internet.nyc.gov/nycvendoronline/home.asp. Enrollment is free. Vendors may also request the bid by contacting Vendor Relations via email at dcasdmssbids@dcas.nyc.gov, by telephone at 212-669-8610 or by fax at 212-669-7603."
      ],
      "text/plain": [
       "<IPython.core.display.HTML object>"
      ]
     },
     "metadata": {},
     "output_type": "display_data"
    },
    {
     "name": "stdout",
     "output_type": "stream",
     "text": [
      "\n",
      "---\n",
      "\n"
     ]
    },
    {
     "data": {
      "text/html": [
       "<hr/>"
      ],
      "text/plain": [
       "<IPython.core.display.HTML object>"
      ]
     },
     "metadata": {},
     "output_type": "display_data"
    },
    {
     "data": {
      "text/html": [
       "CORRECTION:  addendum 2 attached  A copy of the bid can be downloaded from the City Record Online site at http://a856-internet.nyc.gov/nycvendoronline/home.asp. Enrollment is free. Vendors may also request the bid by contacting Vendor Relations via email at dcasdmssbids@dcas.nyc.gov, by telephone at 212-669-8610 or by fax at 212-669-7603."
      ],
      "text/plain": [
       "<IPython.core.display.HTML object>"
      ]
     },
     "metadata": {},
     "output_type": "display_data"
    },
    {
     "name": "stdout",
     "output_type": "stream",
     "text": [
      "\n",
      "---\n",
      "\n"
     ]
    },
    {
     "data": {
      "text/html": [
       "<hr/>"
      ],
      "text/plain": [
       "<IPython.core.display.HTML object>"
      ]
     },
     "metadata": {},
     "output_type": "display_data"
    },
    {
     "data": {
      "text/html": [
       "CORRECTION:  please see attached addendum #2  A copy of the bid can be downloaded from the City Record Online site at http://a856-internet.nyc.gov/nycvendoronline/home.asp. Enrollment is free. Vendors may also request the bid by contacting Vendor Relations via email at dcasdmssbids@dcas.nyc.gov, by telephone at 212-669-8610 or by fax at 212-669-7603."
      ],
      "text/plain": [
       "<IPython.core.display.HTML object>"
      ]
     },
     "metadata": {},
     "output_type": "display_data"
    },
    {
     "name": "stdout",
     "output_type": "stream",
     "text": [
      "\n",
      "---\n",
      "\n"
     ]
    },
    {
     "data": {
      "text/html": [
       "<hr/>"
      ],
      "text/plain": [
       "<IPython.core.display.HTML object>"
      ]
     },
     "metadata": {},
     "output_type": "display_data"
    },
    {
     "data": {
      "text/html": [
       "CORRECTION: A copy of the bid can be downloaded from the City Record Online site at http://a856-internet.nyc.gov/nycvendoronline/home.asp.  Enrollment is free.  Vendors may also request the bid by contacting Vendor Relations via email at dcasdmssbids@dcas.nyc.gov, by telephone at 212-669-8610 or by fax at 212-669-7603.  A pre-bid conference will be held on October 1, 2014 at 2:00 PM at One Centre Street, 18th Floor, Pre-Bid Room, New York, NY 10007. The due date for submitting questions via email to jmei@dcas.nyc.gov is October 23, 2014. "
      ],
      "text/plain": [
       "<IPython.core.display.HTML object>"
      ]
     },
     "metadata": {},
     "output_type": "display_data"
    },
    {
     "name": "stdout",
     "output_type": "stream",
     "text": [
      "\n",
      "---\n",
      "\n"
     ]
    },
    {
     "data": {
      "text/html": [
       "<hr/>"
      ],
      "text/plain": [
       "<IPython.core.display.HTML object>"
      ]
     },
     "metadata": {},
     "output_type": "display_data"
    },
    {
     "data": {
      "text/html": [
       "A copy of the bid can be downloaded from the City Record Online site at http://a856-internet.nyc.gov/nycvendoronline/home.asp. Enrollment is free. Vendors may also request the bid by contacting Vendor Relations via email at dcasdmssbids@dcas.nyc.gov, by telephone at 212-669-8610 or by fax at 212-669-7603."
      ],
      "text/plain": [
       "<IPython.core.display.HTML object>"
      ]
     },
     "metadata": {},
     "output_type": "display_data"
    },
    {
     "name": "stdout",
     "output_type": "stream",
     "text": [
      "\n",
      "---\n",
      "\n"
     ]
    },
    {
     "data": {
      "text/html": [
       "<hr/>"
      ],
      "text/plain": [
       "<IPython.core.display.HTML object>"
      ]
     },
     "metadata": {},
     "output_type": "display_data"
    },
    {
     "data": {
      "text/html": [
       "A copy of the bid can be downloaded from the City Record Online site at http://a856-internet.nyc.gov/nycvendoronline/home.asp. Enrollment is free. Vendors may also request the bid by contacting Vendor Relations via email at dcasdmssbids@dcas.nyc.gov, by telephone at 212-669-8610 or by fax at 212-669-7603."
      ],
      "text/plain": [
       "<IPython.core.display.HTML object>"
      ]
     },
     "metadata": {},
     "output_type": "display_data"
    },
    {
     "name": "stdout",
     "output_type": "stream",
     "text": [
      "\n",
      "---\n",
      "\n"
     ]
    },
    {
     "data": {
      "text/html": [
       "<hr/>"
      ],
      "text/plain": [
       "<IPython.core.display.HTML object>"
      ]
     },
     "metadata": {},
     "output_type": "display_data"
    },
    {
     "data": {
      "text/html": [
       "A copy of the bid can be downloaded from the City Record Online site at http://a856-internet.nyc.gov/nycvendoronline/home.asp. Enrollment is free. Vendors may also request the bid by contacting Vendor Relations via email at dcasdmssbids@dcas.nyc.gov, by telephone at 212-669-8610 or by fax at 212-669-7603."
      ],
      "text/plain": [
       "<IPython.core.display.HTML object>"
      ]
     },
     "metadata": {},
     "output_type": "display_data"
    },
    {
     "name": "stdout",
     "output_type": "stream",
     "text": [
      "\n",
      "---\n",
      "\n"
     ]
    },
    {
     "data": {
      "text/html": [
       "<hr/>"
      ],
      "text/plain": [
       "<IPython.core.display.HTML object>"
      ]
     },
     "metadata": {},
     "output_type": "display_data"
    },
    {
     "data": {
      "text/html": [
       "A copy of the bid can be downloaded from the City Record Online site at http://a856-internet.nyc.gov/nycvendoronline/home.asp.  Enrollment is free.  Vendors may request the bid by contacting Vendor Relations via email at dcasdmssbids@dcas.nyc.gov, by telephone at (212) 669-8610 or by fax at (212) 669-7603."
      ],
      "text/plain": [
       "<IPython.core.display.HTML object>"
      ]
     },
     "metadata": {},
     "output_type": "display_data"
    },
    {
     "name": "stdout",
     "output_type": "stream",
     "text": [
      "\n",
      "---\n",
      "\n"
     ]
    },
    {
     "data": {
      "text/html": [
       "<hr/>"
      ],
      "text/plain": [
       "<IPython.core.display.HTML object>"
      ]
     },
     "metadata": {},
     "output_type": "display_data"
    },
    {
     "data": {
      "text/html": [
       "A copy of the bid can be downloaded from the City Record Online site at http://a856-internet.nyc.gov/nycvendoronline/home.asp. Enrollment is free. Vendors may also request the bid by contacting Vendor Relations via email at dcasdmssbids@dcas.nyc.gov, by telephone at 212-669-8610 or by fax at 212-669-7603."
      ],
      "text/plain": [
       "<IPython.core.display.HTML object>"
      ]
     },
     "metadata": {},
     "output_type": "display_data"
    },
    {
     "name": "stdout",
     "output_type": "stream",
     "text": [
      "\n",
      "---\n",
      "\n"
     ]
    },
    {
     "data": {
      "text/html": [
       "<hr/>"
      ],
      "text/plain": [
       "<IPython.core.display.HTML object>"
      ]
     },
     "metadata": {},
     "output_type": "display_data"
    },
    {
     "data": {
      "text/html": [
       "A copy of the bid can be downloaded from the City Record Online site at http://a856-internet.nyc.gov/nycvendoronline/home.asp. Enrollment is free. Vendors may also request the bid by contacting Vendor Relations via email at dcasdmssbids@dcas.nyc.gov, by telephone at 212-669-8610 or by fax at 212-669-7603."
      ],
      "text/plain": [
       "<IPython.core.display.HTML object>"
      ]
     },
     "metadata": {},
     "output_type": "display_data"
    },
    {
     "name": "stdout",
     "output_type": "stream",
     "text": [
      "\n",
      "---\n",
      "\n"
     ]
    },
    {
     "data": {
      "text/html": [
       "<hr/>"
      ],
      "text/plain": [
       "<IPython.core.display.HTML object>"
      ]
     },
     "metadata": {},
     "output_type": "display_data"
    },
    {
     "data": {
      "text/html": [
       "A copy of the bid can be downloaded from the City Record Online site at http://a856-internet.nyc.gov/nycvendoronline/home.asp. Enrollment is free. Vendors may also request the bid by contacting Vendor Relations via email at dcasdmssbids@dcas.nyc.gov, by telephone at 212-669-8610 or by fax at 212-669-7603."
      ],
      "text/plain": [
       "<IPython.core.display.HTML object>"
      ]
     },
     "metadata": {},
     "output_type": "display_data"
    },
    {
     "name": "stdout",
     "output_type": "stream",
     "text": [
      "\n",
      "---\n",
      "\n"
     ]
    },
    {
     "data": {
      "text/html": [
       "<hr/>"
      ],
      "text/plain": [
       "<IPython.core.display.HTML object>"
      ]
     },
     "metadata": {},
     "output_type": "display_data"
    },
    {
     "data": {
      "text/html": [
       "A copy of the bid can be downloaded from the City Record Online site at http://a856-internet.nyc.gov/nycvendoronline/home.asp. Enrollment is free. Vendors may also request the bid by contacting Vendor Relations via email at dcasdmssbids@dcas.nyc.gov, by telephone at 212-669-8610 or by fax at 212-669-7603."
      ],
      "text/plain": [
       "<IPython.core.display.HTML object>"
      ]
     },
     "metadata": {},
     "output_type": "display_data"
    },
    {
     "name": "stdout",
     "output_type": "stream",
     "text": [
      "\n",
      "---\n",
      "\n"
     ]
    },
    {
     "data": {
      "text/html": [
       "<hr/>"
      ],
      "text/plain": [
       "<IPython.core.display.HTML object>"
      ]
     },
     "metadata": {},
     "output_type": "display_data"
    },
    {
     "data": {
      "text/html": [
       "A copy of the bid can be downloaded from the City Record Online site at http://a856-internet.nyc.gov/nycvendoronline/home.asp. Enrollment is free. Vendors may also request the bid by contacting Vendor Relations via email at dcasdmssbids@dcas.nyc.gov, by telephone at 212-669-8610 or by fax at 212-669-7603.  "
      ],
      "text/plain": [
       "<IPython.core.display.HTML object>"
      ]
     },
     "metadata": {},
     "output_type": "display_data"
    },
    {
     "name": "stdout",
     "output_type": "stream",
     "text": [
      "\n",
      "---\n",
      "\n"
     ]
    },
    {
     "data": {
      "text/html": [
       "<hr/>"
      ],
      "text/plain": [
       "<IPython.core.display.HTML object>"
      ]
     },
     "metadata": {},
     "output_type": "display_data"
    },
    {
     "data": {
      "text/html": [
       "A copy of the bid can be downloaded from the City Record Online site at http://a856-internet.nyc.gov/nycvendoronline/home.asp. Enrollment is free. Vendors may also request the bid by contacting Vendor Relations via email at dcasdmssbids@dcas.nyc.gov, by telephone at 212-669-8610 or by fax at 212-669-7603.  "
      ],
      "text/plain": [
       "<IPython.core.display.HTML object>"
      ]
     },
     "metadata": {},
     "output_type": "display_data"
    },
    {
     "name": "stdout",
     "output_type": "stream",
     "text": [
      "\n",
      "---\n",
      "\n"
     ]
    },
    {
     "data": {
      "text/html": [
       "<hr/>"
      ],
      "text/plain": [
       "<IPython.core.display.HTML object>"
      ]
     },
     "metadata": {},
     "output_type": "display_data"
    },
    {
     "data": {
      "text/html": [
       "A copy of the bid can be downloaded from the City Record Online site at http://a856-internet.nyc.gov/nycvendoronline/home.asp. Enrollment is free. Vendors may also request the bid by contacting Vendor Relations via email at dcasdmssbids@dcas.nyc.gov, by telephone at 212-669-8610 or by fax at 212-669-7603."
      ],
      "text/plain": [
       "<IPython.core.display.HTML object>"
      ]
     },
     "metadata": {},
     "output_type": "display_data"
    },
    {
     "name": "stdout",
     "output_type": "stream",
     "text": [
      "\n",
      "---\n",
      "\n"
     ]
    },
    {
     "data": {
      "text/html": [
       "<hr/>"
      ],
      "text/plain": [
       "<IPython.core.display.HTML object>"
      ]
     },
     "metadata": {},
     "output_type": "display_data"
    },
    {
     "data": {
      "text/html": [
       "A copy of the bid can be downloaded from the City Record Online site at http://a856-internet.nyc.gov/nycvendoronline/home.asp. Enrollment is free. Vendors may also request the bid by contacting Vendor Relations via email at dcasdmssbids@dcas.nyc.gov, by telephone at 212-669-8610 or by fax at 212-669-7603."
      ],
      "text/plain": [
       "<IPython.core.display.HTML object>"
      ]
     },
     "metadata": {},
     "output_type": "display_data"
    },
    {
     "name": "stdout",
     "output_type": "stream",
     "text": [
      "\n",
      "---\n",
      "\n"
     ]
    },
    {
     "data": {
      "text/html": [
       "<hr/>"
      ],
      "text/plain": [
       "<IPython.core.display.HTML object>"
      ]
     },
     "metadata": {},
     "output_type": "display_data"
    },
    {
     "data": {
      "text/html": [
       "A copy of the bid can be downloaded from the City Record Online site at http://a856-internet.nyc.gov/nycvendoronline/home.asp. Enrollment is free. Vendors may also request the bid by contacting Vendor Relations via email at dcasdmssbids@dcas.nyc.gov, by telephone at 212-669-8610 or by fax at 212-669-7603."
      ],
      "text/plain": [
       "<IPython.core.display.HTML object>"
      ]
     },
     "metadata": {},
     "output_type": "display_data"
    },
    {
     "name": "stdout",
     "output_type": "stream",
     "text": [
      "\n",
      "---\n",
      "\n"
     ]
    },
    {
     "data": {
      "text/html": [
       "<hr/>"
      ],
      "text/plain": [
       "<IPython.core.display.HTML object>"
      ]
     },
     "metadata": {},
     "output_type": "display_data"
    },
    {
     "data": {
      "text/html": [
       "A copy of the bid can be downloaded from the City Record Online site at http://a856-internet.nyc.gov/nycvendoronline/home.asp. Enrollment is free. Vendors may also request the bid by contacting Vendor Relations via email at dcasdmssbids@dcas.nyc.gov, by telephone at 212-669-8610 or by fax at 212-669-7603."
      ],
      "text/plain": [
       "<IPython.core.display.HTML object>"
      ]
     },
     "metadata": {},
     "output_type": "display_data"
    },
    {
     "name": "stdout",
     "output_type": "stream",
     "text": [
      "\n",
      "---\n",
      "\n"
     ]
    },
    {
     "data": {
      "text/html": [
       "<hr/>"
      ],
      "text/plain": [
       "<IPython.core.display.HTML object>"
      ]
     },
     "metadata": {},
     "output_type": "display_data"
    },
    {
     "data": {
      "text/html": [
       "A copy of the bid can be downloaded from the City Record Online site at http://a856-internet.nyc.gov/nycvendoronline/home.asp. Enrollment is free. Vendors may also request the bid by contacting Vendor Relations via email at dcasdmssbids@dcas.nyc.gov, by telephone at 212-669-8610 or by fax at 212-669-7603."
      ],
      "text/plain": [
       "<IPython.core.display.HTML object>"
      ]
     },
     "metadata": {},
     "output_type": "display_data"
    },
    {
     "name": "stdout",
     "output_type": "stream",
     "text": [
      "\n",
      "---\n",
      "\n"
     ]
    },
    {
     "data": {
      "text/html": [
       "<hr/>"
      ],
      "text/plain": [
       "<IPython.core.display.HTML object>"
      ]
     },
     "metadata": {},
     "output_type": "display_data"
    },
    {
     "data": {
      "text/html": [
       "A copy of the bid can be downloaded from the City Record Online site at http://a856-internet.nyc.gov/nycvendoronline/home.asp. Enrollment is free. Vendors may also request the bid by contacting Vendor Relations via email at dcasdmssbids@dcas.nyc.gov, by telephone at 212-669-8610 or by fax at 212-669-7603."
      ],
      "text/plain": [
       "<IPython.core.display.HTML object>"
      ]
     },
     "metadata": {},
     "output_type": "display_data"
    },
    {
     "name": "stdout",
     "output_type": "stream",
     "text": [
      "\n",
      "---\n",
      "\n"
     ]
    },
    {
     "data": {
      "text/html": [
       "<hr/>"
      ],
      "text/plain": [
       "<IPython.core.display.HTML object>"
      ]
     },
     "metadata": {},
     "output_type": "display_data"
    },
    {
     "data": {
      "text/html": [
       "A copy of the bid can be downloaded from the City Record Online site at http://a856-internet.nyc.gov/nycvendoronline/home.asp. Enrollment is free. Vendors may also request the bid by contacting Vendor Relations via email at dcasdmssbids@dcas.nyc.gov, by telephone at 212-669-8610 or by fax at 212-669-7603."
      ],
      "text/plain": [
       "<IPython.core.display.HTML object>"
      ]
     },
     "metadata": {},
     "output_type": "display_data"
    },
    {
     "name": "stdout",
     "output_type": "stream",
     "text": [
      "\n",
      "---\n",
      "\n"
     ]
    },
    {
     "data": {
      "text/html": [
       "<hr/>"
      ],
      "text/plain": [
       "<IPython.core.display.HTML object>"
      ]
     },
     "metadata": {},
     "output_type": "display_data"
    },
    {
     "data": {
      "text/html": [
       "A copy of the bid can be downloaded from the City Record Online site at http://a856-internet.nyc.gov/nycvendoronline/home.asp.  Enrollment is free.  Vendors may request the bid by contacting Vendor Relations via email at dcasdmssbids@dcas.nyc.gov, by telephone at (212) 669-8610 or by fax at (212) 669-7603."
      ],
      "text/plain": [
       "<IPython.core.display.HTML object>"
      ]
     },
     "metadata": {},
     "output_type": "display_data"
    },
    {
     "name": "stdout",
     "output_type": "stream",
     "text": [
      "\n",
      "---\n",
      "\n"
     ]
    },
    {
     "data": {
      "text/html": [
       "<hr/>"
      ],
      "text/plain": [
       "<IPython.core.display.HTML object>"
      ]
     },
     "metadata": {},
     "output_type": "display_data"
    },
    {
     "data": {
      "text/html": [
       "A copy of the bid can be downloaded from the City Record Online site at http://a856-internet.nyc.gov/nycvendoronline/home.asp. Enrollment is free. Vendors may also request the bid by contacting Vendor Relations via email at dcasdmssbids@dcas.nyc.gov, by telephone at 212-669-8610 or by fax at 212-669-7603."
      ],
      "text/plain": [
       "<IPython.core.display.HTML object>"
      ]
     },
     "metadata": {},
     "output_type": "display_data"
    },
    {
     "name": "stdout",
     "output_type": "stream",
     "text": [
      "\n",
      "---\n",
      "\n"
     ]
    },
    {
     "data": {
      "text/html": [
       "<hr/>"
      ],
      "text/plain": [
       "<IPython.core.display.HTML object>"
      ]
     },
     "metadata": {},
     "output_type": "display_data"
    },
    {
     "data": {
      "text/html": [
       "A copy of the bid can be downloaded from the City Record Online site at http://a856-internet.nyc.gov/nycvendoronline/home.asp. Enrollment is free. Vendors may also request the bid by contacting Vendor Relations via email at dcasdmssbids@dcas.nyc.gov, by telephone at 212-669-8610 or by fax at 212-669-7603."
      ],
      "text/plain": [
       "<IPython.core.display.HTML object>"
      ]
     },
     "metadata": {},
     "output_type": "display_data"
    },
    {
     "name": "stdout",
     "output_type": "stream",
     "text": [
      "\n",
      "---\n",
      "\n"
     ]
    },
    {
     "data": {
      "text/html": [
       "<hr/>"
      ],
      "text/plain": [
       "<IPython.core.display.HTML object>"
      ]
     },
     "metadata": {},
     "output_type": "display_data"
    },
    {
     "data": {
      "text/html": [
       "A copy of the bid can be downloaded from the City Record Online site at http://a856-internet.nyc.gov/nycvendoronline/home.asp. Enrollment is free. Vendors may also request the bid by contacting Vendor Relations via email at dcasdmssbids@dcas.nyc.gov, by telephone at 212-669-8610 or by fax at 212-669-7603."
      ],
      "text/plain": [
       "<IPython.core.display.HTML object>"
      ]
     },
     "metadata": {},
     "output_type": "display_data"
    },
    {
     "name": "stdout",
     "output_type": "stream",
     "text": [
      "\n",
      "---\n",
      "\n"
     ]
    },
    {
     "data": {
      "text/html": [
       "<hr/>"
      ],
      "text/plain": [
       "<IPython.core.display.HTML object>"
      ]
     },
     "metadata": {},
     "output_type": "display_data"
    },
    {
     "data": {
      "text/html": [
       "This is a Requirements Contract pursuant to which the bidder to whom the Contract is awarded shall provide during the term of the Contract, the Citys requirements for labor, Material, and equipment necessary to perform the required Boiler testing, Repair, and Maintenance, including without limitation, replacement of boiler tubes and sections, and related Work for High Pressure Boilers and Low Pressure Boilers at various Facilities throughout the five (5) boroughs of the City of New York."
      ],
      "text/plain": [
       "<IPython.core.display.HTML object>"
      ]
     },
     "metadata": {},
     "output_type": "display_data"
    },
    {
     "name": "stdout",
     "output_type": "stream",
     "text": [
      "\n",
      "---\n",
      "\n"
     ]
    },
    {
     "data": {
      "text/html": [
       "<hr/>"
      ],
      "text/plain": [
       "<IPython.core.display.HTML object>"
      ]
     },
     "metadata": {},
     "output_type": "display_data"
    },
    {
     "data": {
      "text/html": [
       "A copy of the bid can be downloaded from City Record Online at http://a856-internet.nyc.gov/nycvendoronline/home.asp . Enrollment is free. Vendor may also request the bid by contacting Vendor Relations via email at dcasdmssbids@dcas.nyc.gov, by telephone at 212-386-0044."
      ],
      "text/plain": [
       "<IPython.core.display.HTML object>"
      ]
     },
     "metadata": {},
     "output_type": "display_data"
    },
    {
     "name": "stdout",
     "output_type": "stream",
     "text": [
      "\n",
      "---\n",
      "\n"
     ]
    },
    {
     "data": {
      "text/html": [
       "<hr/>"
      ],
      "text/plain": [
       "<IPython.core.display.HTML object>"
      ]
     },
     "metadata": {},
     "output_type": "display_data"
    },
    {
     "data": {
      "text/html": [
       "A copy of the bid can be downloaded from City Record Online at http://a856-internet.nyc.gov/nycvendoronline/home.asp . Enrollment is free. Vendor may also request the bid by contacting Vendor Relations via email at dcasdmssbids@dcas.nyc.gov, by telephone at 212-669-8610."
      ],
      "text/plain": [
       "<IPython.core.display.HTML object>"
      ]
     },
     "metadata": {},
     "output_type": "display_data"
    },
    {
     "name": "stdout",
     "output_type": "stream",
     "text": [
      "\n",
      "---\n",
      "\n"
     ]
    },
    {
     "data": {
      "text/html": [
       "<hr/>"
      ],
      "text/plain": [
       "<IPython.core.display.HTML object>"
      ]
     },
     "metadata": {},
     "output_type": "display_data"
    },
    {
     "data": {
      "text/html": [
       "Please submit all responses in electronic form  PDF format via email, addressed to the person listed. All emails should have a subject line tag. A copy of the RFI can be downloaded from the City Record Online site at www.nyc.gov/cityrecord.  PLEASE NOTE: This request is for informational purposes only, and a contract award will not result from the responses received to this RFI.  The agency will not reimburse any interested party for costs incurred in the preparation of a response, related discussions or presentations in connection with this RFI."
      ],
      "text/plain": [
       "<IPython.core.display.HTML object>"
      ]
     },
     "metadata": {},
     "output_type": "display_data"
    },
    {
     "name": "stdout",
     "output_type": "stream",
     "text": [
      "\n",
      "---\n",
      "\n"
     ]
    },
    {
     "data": {
      "text/html": [
       "<hr/>"
      ],
      "text/plain": [
       "<IPython.core.display.HTML object>"
      ]
     },
     "metadata": {},
     "output_type": "display_data"
    },
    {
     "data": {
      "text/html": [
       "A copy of the bid can be downloaded from the City Record Online site at http://a856-internet.nyc.gov/nycvendoronline/home.asp. Enrollment is free. Vendors may also request the bid by contacting Vendor Relations via email at dcasdmssbids@dcas.nyc.gov, by telephone at 212-669-8610 or by fax at 212-669-7603."
      ],
      "text/plain": [
       "<IPython.core.display.HTML object>"
      ]
     },
     "metadata": {},
     "output_type": "display_data"
    },
    {
     "name": "stdout",
     "output_type": "stream",
     "text": [
      "\n",
      "---\n",
      "\n"
     ]
    },
    {
     "data": {
      "text/html": [
       "<hr/>"
      ],
      "text/plain": [
       "<IPython.core.display.HTML object>"
      ]
     },
     "metadata": {},
     "output_type": "display_data"
    },
    {
     "data": {
      "text/html": [
       "A copy of the bid can be downloaded from the City Record Online site at http://a856-internet.nyc.gov/nycvendoronline/home.asp.  Enrollment is free.  Vendors may also request the bid by contacting Vendor Relations via email at dcasdmssbids@dcas.nyc.gov, by telephone at 212-669-8610 or by fax at 212-669-7603. "
      ],
      "text/plain": [
       "<IPython.core.display.HTML object>"
      ]
     },
     "metadata": {},
     "output_type": "display_data"
    },
    {
     "name": "stdout",
     "output_type": "stream",
     "text": [
      "\n",
      "---\n",
      "\n"
     ]
    },
    {
     "data": {
      "text/html": [
       "<hr/>"
      ],
      "text/plain": [
       "<IPython.core.display.HTML object>"
      ]
     },
     "metadata": {},
     "output_type": "display_data"
    },
    {
     "data": {
      "text/html": [
       "A copy of the bid can be downloaded from the City Record Online site at http://a856-internet.nyc.gov/nycvendoronline/home.asp. Enrollment is free. Vendors may also request the bid by contacting Vendor Relations via email at dcasdmssbids@dcas.nyc.gov, by telephone at 212-669-8610 or by fax at 212-669-7603."
      ],
      "text/plain": [
       "<IPython.core.display.HTML object>"
      ]
     },
     "metadata": {},
     "output_type": "display_data"
    },
    {
     "name": "stdout",
     "output_type": "stream",
     "text": [
      "\n",
      "---\n",
      "\n"
     ]
    },
    {
     "data": {
      "text/html": [
       "<hr/>"
      ],
      "text/plain": [
       "<IPython.core.display.HTML object>"
      ]
     },
     "metadata": {},
     "output_type": "display_data"
    },
    {
     "data": {
      "text/html": [
       "A copy of the bid can be downloaded from the City Record Online site at http://a856-internet.nyc.gov/nycvendoronline/home.asp. Enrollment is free. Vendors may also request the bid by contacting Vendor Relations via email at dcasdmssbids@dcas.nyc.gov, by telephone at 212-669-8610 or by fax at 212-669-7603."
      ],
      "text/plain": [
       "<IPython.core.display.HTML object>"
      ]
     },
     "metadata": {},
     "output_type": "display_data"
    },
    {
     "name": "stdout",
     "output_type": "stream",
     "text": [
      "\n",
      "---\n",
      "\n"
     ]
    },
    {
     "data": {
      "text/html": [
       "<hr/>"
      ],
      "text/plain": [
       "<IPython.core.display.HTML object>"
      ]
     },
     "metadata": {},
     "output_type": "display_data"
    },
    {
     "data": {
      "text/html": [
       "A copy of the bid can be downloaded from the City Record Online site at http://a856-internet.nyc.gov/nycvendoronline/home.asp. Enrollment is free. Vendors may also request the bid by contacting Vendor Relations via email at dcasdmssbids@dcas.nyc.gov, by telephone at 212-669-8610 or by fax at 212-669-7603."
      ],
      "text/plain": [
       "<IPython.core.display.HTML object>"
      ]
     },
     "metadata": {},
     "output_type": "display_data"
    },
    {
     "name": "stdout",
     "output_type": "stream",
     "text": [
      "\n",
      "---\n",
      "\n"
     ]
    },
    {
     "data": {
      "text/html": [
       "<hr/>"
      ],
      "text/plain": [
       "<IPython.core.display.HTML object>"
      ]
     },
     "metadata": {},
     "output_type": "display_data"
    },
    {
     "data": {
      "text/html": [
       "A copy of the bid can be downloaded from the City Record Online site at http://a856-internet.nyc.gov/nycvendoronline/home.asp. Enrollment is free. Vendors may also request the bid by contacting Vendor Relations via email at dcasdmssbids@dcas.nyc.gov, by telephone at 212-669-8610 or by fax at 212-669-7603."
      ],
      "text/plain": [
       "<IPython.core.display.HTML object>"
      ]
     },
     "metadata": {},
     "output_type": "display_data"
    },
    {
     "name": "stdout",
     "output_type": "stream",
     "text": [
      "\n",
      "---\n",
      "\n"
     ]
    },
    {
     "data": {
      "text/html": [
       "<hr/>"
      ],
      "text/plain": [
       "<IPython.core.display.HTML object>"
      ]
     },
     "metadata": {},
     "output_type": "display_data"
    },
    {
     "data": {
      "text/html": [
       "Vendors interested in obtaining copies of the bid should contact Anna Wong- Tel No: 212-669-8610; Fax: 212-669-7603; Email: dcasdmssbids@dcas.nyc.gov"
      ],
      "text/plain": [
       "<IPython.core.display.HTML object>"
      ]
     },
     "metadata": {},
     "output_type": "display_data"
    },
    {
     "name": "stdout",
     "output_type": "stream",
     "text": [
      "\n",
      "---\n",
      "\n"
     ]
    },
    {
     "data": {
      "text/html": [
       "<hr/>"
      ],
      "text/plain": [
       "<IPython.core.display.HTML object>"
      ]
     },
     "metadata": {},
     "output_type": "display_data"
    },
    {
     "data": {
      "text/html": [
       "A copy of the bid can be downloaded from City Record Online at http://a856-internet.nyc.gov/nycvendoronline/home.asp . Enrollment is free. Vendor may also request the bid by contacting Vendor Relations via email at dcasdmssbids@dcas.nyc.gov, by telephone at 212-669-8610."
      ],
      "text/plain": [
       "<IPython.core.display.HTML object>"
      ]
     },
     "metadata": {},
     "output_type": "display_data"
    },
    {
     "name": "stdout",
     "output_type": "stream",
     "text": [
      "\n",
      "---\n",
      "\n"
     ]
    },
    {
     "data": {
      "text/html": [
       "<hr/>"
      ],
      "text/plain": [
       "<IPython.core.display.HTML object>"
      ]
     },
     "metadata": {},
     "output_type": "display_data"
    },
    {
     "data": {
      "text/html": [
       "A copy of the bid can be downloaded from City Record Online at http://a856-internet.nyc.gov/nycvendoronline/home.asp . Enrollment is free. Vendor may also request the bid by contacting Vendor Relations via email at dcasdmssbids@dcas.nyc.gov, by telephone at 212-669-8610."
      ],
      "text/plain": [
       "<IPython.core.display.HTML object>"
      ]
     },
     "metadata": {},
     "output_type": "display_data"
    },
    {
     "name": "stdout",
     "output_type": "stream",
     "text": [
      "\n",
      "---\n",
      "\n"
     ]
    },
    {
     "data": {
      "text/html": [
       "<hr/>"
      ],
      "text/plain": [
       "<IPython.core.display.HTML object>"
      ]
     },
     "metadata": {},
     "output_type": "display_data"
    },
    {
     "data": {
      "text/html": [
       "A copy of the bid can be downloaded from the City Record Online site at http://a856-internet.nyc.gov/nycvendoronline/home.asp. Enrollment is free. Vendors may also request the bid by contacting Vendor Relations via email at dcasdmssbids@dcas.nyc.gov, by telephone at 212-669-8610 or by fax at 212-669-7603."
      ],
      "text/plain": [
       "<IPython.core.display.HTML object>"
      ]
     },
     "metadata": {},
     "output_type": "display_data"
    },
    {
     "name": "stdout",
     "output_type": "stream",
     "text": [
      "\n",
      "---\n",
      "\n"
     ]
    },
    {
     "data": {
      "text/html": [
       "<hr/>"
      ],
      "text/plain": [
       "<IPython.core.display.HTML object>"
      ]
     },
     "metadata": {},
     "output_type": "display_data"
    },
    {
     "data": {
      "text/html": [
       "A Pre-Solicitation Conference for the above mentioned commodity is scheduled for January 12, 2015 at 1:30pm at 1 Centre Street, New York, NY 10007, 18th floor.  The purpose of this conference is to review proposed specifications for the commodity listed above to ensure a good product and maximum competition. Please make every effort to attend this conference, your participation will assist us in revising the attached specifications so they can be issued as a part of final bid package.  A copy of the pre-solicitation package can be downloaded from the City Record Online site at http://a856-internet.nyc.gov/nycvendoronline/home.asp. Enrollment is free. Please review the documents the before you attend the conference. If you have questions regarding this conference, please contact Masha Rudina at 212-386-6373 or by email at mrudina@dcas.nyc.gov "
      ],
      "text/plain": [
       "<IPython.core.display.HTML object>"
      ]
     },
     "metadata": {},
     "output_type": "display_data"
    },
    {
     "name": "stdout",
     "output_type": "stream",
     "text": [
      "\n",
      "---\n",
      "\n"
     ]
    },
    {
     "data": {
      "text/html": [
       "<hr/>"
      ],
      "text/plain": [
       "<IPython.core.display.HTML object>"
      ]
     },
     "metadata": {},
     "output_type": "display_data"
    },
    {
     "data": {
      "text/html": [
       "A Pre-Solicitation Conference for the above mentioned commodity is scheduled for January 13, 2015 at 9:30am at 1 Centre Street, New York, NY 10007, 18th floor.  The purpose of this conference is to review proposed specifications for the commodity listed above to ensure a good product and maximum competition. Please make every effort to attend this conference, your participation will assist us in revising the attached specifications so they can be issued as a part of final bid package.  A copy of the pre-solicitation package can be downloaded from the City Record Online site at http://a856-internet.nyc.gov/nycvendoronline/home.asp. Enrollment is free. Please review the documents the before you attend the conference. If you have questions regarding this conference, please contact Masha Rudina at 212-386-6373 or by email at mrudina@dcas.nyc.gov"
      ],
      "text/plain": [
       "<IPython.core.display.HTML object>"
      ]
     },
     "metadata": {},
     "output_type": "display_data"
    },
    {
     "name": "stdout",
     "output_type": "stream",
     "text": [
      "\n",
      "---\n",
      "\n"
     ]
    },
    {
     "data": {
      "text/html": [
       "<hr/>"
      ],
      "text/plain": [
       "<IPython.core.display.HTML object>"
      ]
     },
     "metadata": {},
     "output_type": "display_data"
    },
    {
     "data": {
      "text/html": [
       "A Pre-Solicitation Conference for the above mentioned commodity is scheduled for January 8, 2015 at 9:30am at 1 Centre Street, New York, NY 10007, 18th floor.  The purpose of this conference is to review proposed specifications for the commodity listed above to ensure a good product and maximum competition. Please make every effort to attend this conference, your participation will assist us in revising the attached specifications so they can be issued as a part of final bid package.  A copy of the pre-solicitation package can be downloaded from the City Record Online site at http://a856-internet.nyc.gov/nycvendoronline/home.asp. Enrollment is free. Please review the documents the before you attend the conference. If you have questions regarding this conference, please contact Masha Rudina at 212-386-6373 or by email at mrudina@dcas.nyc.gov"
      ],
      "text/plain": [
       "<IPython.core.display.HTML object>"
      ]
     },
     "metadata": {},
     "output_type": "display_data"
    },
    {
     "name": "stdout",
     "output_type": "stream",
     "text": [
      "\n",
      "---\n",
      "\n"
     ]
    },
    {
     "data": {
      "text/html": [
       "<hr/>"
      ],
      "text/plain": [
       "<IPython.core.display.HTML object>"
      ]
     },
     "metadata": {},
     "output_type": "display_data"
    },
    {
     "data": {
      "text/html": [
       "A Pre-Solicitation Conference for the above mentioned commodity is scheduled for December 8, 2014 at 9:30am at 1 Centre Street, New York, NY 10007, 18th floor.  The purpose of this conference is to review proposed specifications for the commodity listed above to ensure a good product and maximum competition. Please make every effort to attend this conference, your participation will assist us in revising the attached specifications so they can be issued as a part of final bid package.  A copy of the pre-solicitation package can be downloaded from the City Record Online site at http://a856-internet.nyc.gov/nycvendoronline/home.asp. Enrollment is free. Please review the documents the before you attend the conference. If you have questions regarding this conference, please contact Masha Rudina at 212-386-6373 or by email at mrudina@dcas.nyc.gov    "
      ],
      "text/plain": [
       "<IPython.core.display.HTML object>"
      ]
     },
     "metadata": {},
     "output_type": "display_data"
    },
    {
     "name": "stdout",
     "output_type": "stream",
     "text": [
      "\n",
      "---\n",
      "\n"
     ]
    },
    {
     "data": {
      "text/html": [
       "<hr/>"
      ],
      "text/plain": [
       "<IPython.core.display.HTML object>"
      ]
     },
     "metadata": {},
     "output_type": "display_data"
    },
    {
     "data": {
      "text/html": [
       "A copy of the bid can be downloaded from the City Record Online site at http://a856-internet.nyc.gov/nycvendoronline/home.asp. Enrollment is free. Vendors may also request the bid by contacting Vendor Relations via email at dcasdmssbids@dcas.nyc.gov, by telephone at 212-669-8610 or by fax at 212-669-7603."
      ],
      "text/plain": [
       "<IPython.core.display.HTML object>"
      ]
     },
     "metadata": {},
     "output_type": "display_data"
    },
    {
     "name": "stdout",
     "output_type": "stream",
     "text": [
      "\n",
      "---\n",
      "\n"
     ]
    },
    {
     "data": {
      "text/html": [
       "<hr/>"
      ],
      "text/plain": [
       "<IPython.core.display.HTML object>"
      ]
     },
     "metadata": {},
     "output_type": "display_data"
    },
    {
     "data": {
      "text/html": [
       "A Pre-Solicitation Conference for the above mentioned commodity is scheduled for December 5, 2014 at 9:30am at 1 Centre Street, 18th floor, New York, NY 10007.  The purpose of this conference is to review proposed specifications for the commodity listed above to ensure a good product and maximum competition. Please make every effort to attend this conference, your participation will assist us in revising the attached specifications so they can be issued as a part of final bid package.  A copy of the pre-solicitation package can be downloaded from the City Record Online site at http://a856-internet.nyc.gov/nycvendoronline/home.asp. Enrollment is free. Please review the documents the before you attend the conference."
      ],
      "text/plain": [
       "<IPython.core.display.HTML object>"
      ]
     },
     "metadata": {},
     "output_type": "display_data"
    },
    {
     "name": "stdout",
     "output_type": "stream",
     "text": [
      "\n",
      "---\n",
      "\n"
     ]
    },
    {
     "data": {
      "text/html": [
       "<hr/>"
      ],
      "text/plain": [
       "<IPython.core.display.HTML object>"
      ]
     },
     "metadata": {},
     "output_type": "display_data"
    },
    {
     "data": {
      "text/html": [
       "A Pre-Solicitation Conference for the above mentioned commodity is scheduled for November 5, 2014 at 9:30am at 1 Centre Street, New York, NY 10007, 18th floor.  The purpose of this conference is to review proposed specifications for the commodity listed above to ensure a good product and maximum competition. Please make every effort to attend this conference, your participation will assist us in revising the attached specifications so they can be issued as a part of final bid package.  A copy of the pre-solicitation package can be downloaded from the City Record Online site at http://a856-internet.nyc.gov/nycvendoronline/home.asp. Enrollment is free. Please review the documents before you attend the conference."
      ],
      "text/plain": [
       "<IPython.core.display.HTML object>"
      ]
     },
     "metadata": {},
     "output_type": "display_data"
    },
    {
     "name": "stdout",
     "output_type": "stream",
     "text": [
      "\n",
      "---\n",
      "\n"
     ]
    },
    {
     "data": {
      "text/html": [
       "<hr/>"
      ],
      "text/plain": [
       "<IPython.core.display.HTML object>"
      ]
     },
     "metadata": {},
     "output_type": "display_data"
    },
    {
     "data": {
      "text/html": [
       "A Pre-Solicitation Conference for the above mentioned commodity is scheduled for November 7, 2014 at 9:30am at 1 Centre Street, New York, NY 10007, 18th floor.  The purpose of this conference is to review proposed specifications for the commodity listed above to ensure a good product and maximum competition. Please make every effort to attend this conference, your participation will assist us in revising the attached specifications so they can be issued as a part of final bid package.  A copy of the pre-solicitation package can be downloaded from the City Record Online site at http://a856-internet.nyc.gov/nycvendoronline/home.asp. Enrollment is free. Please review the documents before you attend the conference."
      ],
      "text/plain": [
       "<IPython.core.display.HTML object>"
      ]
     },
     "metadata": {},
     "output_type": "display_data"
    },
    {
     "name": "stdout",
     "output_type": "stream",
     "text": [
      "\n",
      "---\n",
      "\n"
     ]
    },
    {
     "data": {
      "text/html": [
       "<hr/>"
      ],
      "text/plain": [
       "<IPython.core.display.HTML object>"
      ]
     },
     "metadata": {},
     "output_type": "display_data"
    },
    {
     "data": {
      "text/html": [
       "A Pre-Solicitation Conference for the above mentioned commodity is scheduled for October 30, 2014 at 9:30am at 1 Centre Street, New York, NY 10007, 18th floor.  The purpose of this conference is to review proposed specifications for the commodity listed above to ensure a good product and maximum competition. Please make every effort to attend this conference, your participation will assist us in revising the attached specifications so they can be issued as a part of final bid package.  A copy of the pre-solicitation package can be downloaded from the City Record Online site at http://a856-internet.nyc.gov/nycvendoronline/home.asp. Enrollment is free. Please review the documents before you attend the conference."
      ],
      "text/plain": [
       "<IPython.core.display.HTML object>"
      ]
     },
     "metadata": {},
     "output_type": "display_data"
    },
    {
     "name": "stdout",
     "output_type": "stream",
     "text": [
      "\n",
      "---\n",
      "\n"
     ]
    },
    {
     "data": {
      "text/html": [
       "<hr/>"
      ],
      "text/plain": [
       "<IPython.core.display.HTML object>"
      ]
     },
     "metadata": {},
     "output_type": "display_data"
    },
    {
     "data": {
      "text/html": [
       "A Pre-Solicitation Conference for the above mentioned commodity is scheduled for November 7, 2014 at 11:00am at 1 Centre Street, New York, NY 10007, 18th floor.  The purpose of this conference is to review proposed specifications for the commodity listed above to ensure a good product and maximum competition. Please make every effort to attend this conference, your participation will assist us in revising the attached specifications so they can be issued as a part of final bid package.  A copy of the pre-solicitation package can be downloaded from the City Record Online site at http://a856-internet.nyc.gov/nycvendoronline/home.asp. Enrollment is free. Please review the documents before you attend the conference."
      ],
      "text/plain": [
       "<IPython.core.display.HTML object>"
      ]
     },
     "metadata": {},
     "output_type": "display_data"
    },
    {
     "name": "stdout",
     "output_type": "stream",
     "text": [
      "\n",
      "---\n",
      "\n"
     ]
    },
    {
     "data": {
      "text/html": [
       "<hr/>"
      ],
      "text/plain": [
       "<IPython.core.display.HTML object>"
      ]
     },
     "metadata": {},
     "output_type": "display_data"
    },
    {
     "data": {
      "text/html": [
       "A Pre-Solicitation Conference for the above mentioned commodity is scheduled for November 5, 2014 at 2:00ps at 1 Centre Street, New York, NY 10007, 18th floor.  The purpose of this conference is to review proposed specifications for the commodity listed above to ensure a good product and maximum competition. Please make every effort to attend this conference, your participation will assist us in revising the attached specifications so they can be issued as a part of final bid package.  A copy of the pre-solicitation package can be downloaded from the City Record Online site at http://a856-internet.nyc.gov/nycvendoronline/home.asp. Enrollment is free. Please review the documents the before you attend the conference. If you have questions regarding this conference, please contact Masha Rudina at 212-386-6373 or by email at mrudina@dcas.nyc.gov "
      ],
      "text/plain": [
       "<IPython.core.display.HTML object>"
      ]
     },
     "metadata": {},
     "output_type": "display_data"
    },
    {
     "name": "stdout",
     "output_type": "stream",
     "text": [
      "\n",
      "---\n",
      "\n"
     ]
    },
    {
     "data": {
      "text/html": [
       "<hr/>"
      ],
      "text/plain": [
       "<IPython.core.display.HTML object>"
      ]
     },
     "metadata": {},
     "output_type": "display_data"
    },
    {
     "data": {
      "text/html": [
       "A copy of the bid can be downloaded from the City Record Online site at http://a856-internet.nyc.gov/nycvendoronline/home.asp. Enrollment is free. Vendors may also request the bid by contacting Vendor Relations via email at dcasdmssbids@dcas.nyc.gov, by telephone at 212-669-8610 or by fax at 212-669-7603."
      ],
      "text/plain": [
       "<IPython.core.display.HTML object>"
      ]
     },
     "metadata": {},
     "output_type": "display_data"
    },
    {
     "name": "stdout",
     "output_type": "stream",
     "text": [
      "\n",
      "---\n",
      "\n"
     ]
    },
    {
     "data": {
      "text/html": [
       "<hr/>"
      ],
      "text/plain": [
       "<IPython.core.display.HTML object>"
      ]
     },
     "metadata": {},
     "output_type": "display_data"
    },
    {
     "data": {
      "text/html": [
       "A Pre-Solicitation Conference for the above mentioned commodity is scheduled for November 10, 2014 at 9:30am at 1 Centre Street, New York, NY 10007, 18th floor.  The purpose of this conference is to review proposed specifications for the commodity listed above to ensure a good product and maximum competition. Please make every effort to attend this conference, your participation will assist us in revising the attached specifications so they can be issued as a part of final bid package.  A copy of the pre-solicitation package can be downloaded from the City Record Online site at http://a856-internet.nyc.gov/nycvendoronline/home.asp. Enrollment is free. Please review the documents the before you attend the conference."
      ],
      "text/plain": [
       "<IPython.core.display.HTML object>"
      ]
     },
     "metadata": {},
     "output_type": "display_data"
    },
    {
     "name": "stdout",
     "output_type": "stream",
     "text": [
      "\n",
      "---\n",
      "\n"
     ]
    },
    {
     "data": {
      "text/html": [
       "<hr/>"
      ],
      "text/plain": [
       "<IPython.core.display.HTML object>"
      ]
     },
     "metadata": {},
     "output_type": "display_data"
    },
    {
     "data": {
      "text/html": [
       "A Pre-Solicitation Conference for the above mentioned commodity is scheduled for December 2, 2014 at 9:30am at 1 Centre Street, New York, NY 10007, 18th floor.  The purpose of this conference is to review proposed specifications for the commodity listed above to ensure a good product and maximum competition. Please make every effort to attend this conference, your participation will assist us in revising the attached specifications so they can be issued as a part of final bid package.  A copy of the pre-solicitation package can be downloaded from the City Record Online site at http://a856-internet.nyc.gov/nycvendoronline/home.asp. Enrollment is free. Please review the documents the before you attend the conference. If you have questions regarding this conference, please contact Joe Vacirca at 212-669-8616 or by email at jvacirca@dcas.nyc.gov    "
      ],
      "text/plain": [
       "<IPython.core.display.HTML object>"
      ]
     },
     "metadata": {},
     "output_type": "display_data"
    },
    {
     "name": "stdout",
     "output_type": "stream",
     "text": [
      "\n",
      "---\n",
      "\n"
     ]
    },
    {
     "data": {
      "text/html": [
       "<hr/>"
      ],
      "text/plain": [
       "<IPython.core.display.HTML object>"
      ]
     },
     "metadata": {},
     "output_type": "display_data"
    },
    {
     "data": {
      "text/html": [
       "A Pre-Solicitation Conference for the above mentioned commodity is scheduled for December 15, 2014 at the address below.  The purpose of this conference is to review proposed specifications for the commodity listed above to ensure a good product and maximum competition. Please make every effort to attend this conference, your participation will assist us in revising the attached specifications so they can be issued as a part of final bid package.  A copy of the pre-solicitation package can be downloaded from the City Record Online site at http://a856-internet.nyc.gov/nycvendoronline/home.asp. Enrollment is free. Please review the documents the before you attend the conference."
      ],
      "text/plain": [
       "<IPython.core.display.HTML object>"
      ]
     },
     "metadata": {},
     "output_type": "display_data"
    },
    {
     "name": "stdout",
     "output_type": "stream",
     "text": [
      "\n",
      "---\n",
      "\n"
     ]
    },
    {
     "data": {
      "text/html": [
       "<hr/>"
      ],
      "text/plain": [
       "<IPython.core.display.HTML object>"
      ]
     },
     "metadata": {},
     "output_type": "display_data"
    },
    {
     "data": {
      "text/html": [
       "A copy of the bid can be downloaded from City Record Online at http://a856-internet.nyc.gov/nycvendoronline/home.asp . Enrollment is free. Vendor may also request the bid by contacting Vendor Relations via email at dcasdmssbids@dcas.nyc.gov, by telephone at 212-669-8610."
      ],
      "text/plain": [
       "<IPython.core.display.HTML object>"
      ]
     },
     "metadata": {},
     "output_type": "display_data"
    },
    {
     "name": "stdout",
     "output_type": "stream",
     "text": [
      "\n",
      "---\n",
      "\n"
     ]
    },
    {
     "data": {
      "text/html": [
       "<hr/>"
      ],
      "text/plain": [
       "<IPython.core.display.HTML object>"
      ]
     },
     "metadata": {},
     "output_type": "display_data"
    },
    {
     "data": {
      "text/html": [
       "A copy of the bid can be downloaded from the City Record Online site at http://a856-internet.nyc.gov/nycvendoronline/home.asp. Enrollment is free. Vendors may also request the bid by contacting Vendor Relations via email at dcasdmssbids@dcas.nyc.gov, by telephone at 212-669-8610 or by fax at 212-669-7603."
      ],
      "text/plain": [
       "<IPython.core.display.HTML object>"
      ]
     },
     "metadata": {},
     "output_type": "display_data"
    },
    {
     "name": "stdout",
     "output_type": "stream",
     "text": [
      "\n",
      "---\n",
      "\n"
     ]
    },
    {
     "data": {
      "text/html": [
       "<hr/>"
      ],
      "text/plain": [
       "<IPython.core.display.HTML object>"
      ]
     },
     "metadata": {},
     "output_type": "display_data"
    },
    {
     "data": {
      "text/html": [
       "A copy of the bid can be downloaded from the City Record Online site at http://a856-internet.nyc.gov/nycvendoronline/home.asp. Enrollment is free. Vendors may also request the bid by contacting Vendor Relations via email at dcasdmssbids@dcas.nyc.gov, by telephone at 212-669-8610 or by fax at 212-669-7603."
      ],
      "text/plain": [
       "<IPython.core.display.HTML object>"
      ]
     },
     "metadata": {},
     "output_type": "display_data"
    },
    {
     "name": "stdout",
     "output_type": "stream",
     "text": [
      "\n",
      "---\n",
      "\n"
     ]
    },
    {
     "data": {
      "text/html": [
       "<hr/>"
      ],
      "text/plain": [
       "<IPython.core.display.HTML object>"
      ]
     },
     "metadata": {},
     "output_type": "display_data"
    },
    {
     "data": {
      "text/html": [
       "A copy of the bid can be downloaded from the City Record Online site at http://a856-internet.nyc.gov/nycvendoronline/home.asp. Enrollment is free. Vendors may also request the bid by contacting Vendor Relations via email at dcasdmssbids@dcas.nyc.gov, by telephone at 212-669-8610 or by fax at 212-669-7603."
      ],
      "text/plain": [
       "<IPython.core.display.HTML object>"
      ]
     },
     "metadata": {},
     "output_type": "display_data"
    },
    {
     "name": "stdout",
     "output_type": "stream",
     "text": [
      "\n",
      "---\n",
      "\n"
     ]
    },
    {
     "data": {
      "text/html": [
       "<hr/>"
      ],
      "text/plain": [
       "<IPython.core.display.HTML object>"
      ]
     },
     "metadata": {},
     "output_type": "display_data"
    },
    {
     "data": {
      "text/html": [
       "A copy of the bid can be downloaded from the City Record Online site at http://a856-internet.nyc.gov/nycvendoronline/home.asp. Enrollment is free. Vendors may also request the bid by contacting Vendor Relations via email at dcasdmssbids@dcas.nyc.gov, by telephone at 212-669-8610 or by fax at 212-669-7603."
      ],
      "text/plain": [
       "<IPython.core.display.HTML object>"
      ]
     },
     "metadata": {},
     "output_type": "display_data"
    },
    {
     "name": "stdout",
     "output_type": "stream",
     "text": [
      "\n",
      "---\n",
      "\n"
     ]
    },
    {
     "data": {
      "text/html": [
       "<hr/>"
      ],
      "text/plain": [
       "<IPython.core.display.HTML object>"
      ]
     },
     "metadata": {},
     "output_type": "display_data"
    },
    {
     "data": {
      "text/html": [
       "A copy of the bid can be downloaded from the City Record Online site at http://a856-internet.nyc.gov/nycvendoronline/home.asp. Enrollment is free. Vendors may also request the bid by contacting Vendor Relations via email at dcasdmssbids@dcas.nyc.gov, by telephone at 212-669-8610 or by fax at 212-669-7603."
      ],
      "text/plain": [
       "<IPython.core.display.HTML object>"
      ]
     },
     "metadata": {},
     "output_type": "display_data"
    },
    {
     "name": "stdout",
     "output_type": "stream",
     "text": [
      "\n",
      "---\n",
      "\n"
     ]
    },
    {
     "data": {
      "text/html": [
       "<hr/>"
      ],
      "text/plain": [
       "<IPython.core.display.HTML object>"
      ]
     },
     "metadata": {},
     "output_type": "display_data"
    },
    {
     "data": {
      "text/html": [
       "A copy of the bid can be downloaded from the City Record Online site at http://a856-internet.nyc.gov/nycvendoronline/home.asp. Enrollment is free. Vendors may also request the bid by contacting Vendor Relations via email at dcasdmssbids@dcas.nyc.gov, by telephone at 212-669-8610 or by fax at 212-669-7603."
      ],
      "text/plain": [
       "<IPython.core.display.HTML object>"
      ]
     },
     "metadata": {},
     "output_type": "display_data"
    },
    {
     "name": "stdout",
     "output_type": "stream",
     "text": [
      "\n",
      "---\n",
      "\n"
     ]
    },
    {
     "data": {
      "text/html": [
       "<hr/>"
      ],
      "text/plain": [
       "<IPython.core.display.HTML object>"
      ]
     },
     "metadata": {},
     "output_type": "display_data"
    },
    {
     "data": {
      "text/html": [
       "ITEM CORRECTIONS: A copy of the bid can be downloaded from the City Record Online site at http://a856-internet.nyc.gov/nycvendoronline/home.asp. Enrollment is free. Vendors may also request the bid by contacting Vendor Relations via email at dcasdmssbids@dcas.nyc.gov, by telephone at 212-669-8610 or by fax at 212-669-7603."
      ],
      "text/plain": [
       "<IPython.core.display.HTML object>"
      ]
     },
     "metadata": {},
     "output_type": "display_data"
    },
    {
     "name": "stdout",
     "output_type": "stream",
     "text": [
      "\n",
      "---\n",
      "\n"
     ]
    },
    {
     "data": {
      "text/html": [
       "<hr/>"
      ],
      "text/plain": [
       "<IPython.core.display.HTML object>"
      ]
     },
     "metadata": {},
     "output_type": "display_data"
    },
    {
     "data": {
      "text/html": [
       "A copy of the bid can be downloaded from the City Record Online site at http://a856-internet.nyc.gov/nycvendoronline/home.asp. Enrollment is free. Vendors may also request the bid by contacting Vendor Relations via email at dcasdmssbids@dcas.nyc.gov, by telephone at 212-669-8610 or by fax at 212-669-7603."
      ],
      "text/plain": [
       "<IPython.core.display.HTML object>"
      ]
     },
     "metadata": {},
     "output_type": "display_data"
    },
    {
     "name": "stdout",
     "output_type": "stream",
     "text": [
      "\n",
      "---\n",
      "\n"
     ]
    },
    {
     "data": {
      "text/html": [
       "<hr/>"
      ],
      "text/plain": [
       "<IPython.core.display.HTML object>"
      ]
     },
     "metadata": {},
     "output_type": "display_data"
    },
    {
     "data": {
      "text/html": [
       "A copy of the bid can be downloaded from the City Record Online site at http://a856-internet.nyc.gov/nycvendoronline/home.asp. Enrollment is free. Vendors may also request the bid by contacting Vendor Relations via email at dcasdmssbids@dcas.nyc.gov, by telephone at 212-669-8610 or by fax at 212-669-7603.  "
      ],
      "text/plain": [
       "<IPython.core.display.HTML object>"
      ]
     },
     "metadata": {},
     "output_type": "display_data"
    },
    {
     "name": "stdout",
     "output_type": "stream",
     "text": [
      "\n",
      "---\n",
      "\n"
     ]
    },
    {
     "data": {
      "text/html": [
       "<hr/>"
      ],
      "text/plain": [
       "<IPython.core.display.HTML object>"
      ]
     },
     "metadata": {},
     "output_type": "display_data"
    }
   ],
   "source": [
    "from IPython.display import display\n",
    "badcount = 0\n",
    "for html in rows.AdditionalDescription.values:\n",
    "    if not isinstance(html, str):\n",
    "        badcount += 1\n",
    "    else:\n",
    "        display(HTML(html))\n",
    "        print('\\n---\\n')\n",
    "        display(HTML('<hr/>'))\n",
    "        try:\n",
    "            parse_notice(Soup(html))\n",
    "        except Exception:\n",
    "            badcount += 1"
   ]
  },
  {
   "cell_type": "code",
   "execution_count": 6,
   "metadata": {
    "collapsed": false
   },
   "outputs": [],
   "source": [
    "import json\n",
    "def scrape(row):\n",
    "    output = None\n",
    "    try:\n",
    "        output = parse_notice(Soup(row.AdditionalDescription))\n",
    "    except Exception :\n",
    "        output = {'error' : 'bad input: [{}]'.format(row.AdditionalDescription)}\n",
    "    row['output'] = json.dumps(output)\n",
    "    return row"
   ]
  },
  {
   "cell_type": "code",
   "execution_count": 7,
   "metadata": {
    "collapsed": false
   },
   "outputs": [],
   "source": [
    "fix = rows.apply(scrape,1)"
   ]
  },
  {
   "cell_type": "code",
   "execution_count": 8,
   "metadata": {
    "collapsed": false,
    "scrolled": false
   },
   "outputs": [
    {
     "data": {
      "text/html": [
       "A copy of the bid can be downloaded from City Record Online at http://a856-internet.nyc.gov/nycvendoronline/home.asp . Enrollment is free. Vendor may also request the bid by contacting Vendor Relations via email at dcasdmssbids@dcas.nyc.gov, by telephone at 212-669-8610."
      ],
      "text/plain": [
       "<IPython.core.display.HTML object>"
      ]
     },
     "metadata": {},
     "output_type": "display_data"
    },
    {
     "name": "stdout",
     "output_type": "stream",
     "text": [
      "---\n",
      "{'error': 'bad input: [A copy of the bid can be downloaded from City Record '\n",
      "          'Online at http://a856-internet.nyc.gov/nycvendoronline/home.asp . '\n",
      "          'Enrollment is free. Vendor may also request the bid by contacting '\n",
      "          'Vendor Relations via email at dcasdmssbids@dcas.nyc.gov, by '\n",
      "          'telephone at 212-669-8610.]'}\n"
     ]
    },
    {
     "data": {
      "text/html": [
       "<hr />"
      ],
      "text/plain": [
       "<IPython.core.display.HTML object>"
      ]
     },
     "metadata": {},
     "output_type": "display_data"
    },
    {
     "name": "stdout",
     "output_type": "stream",
     "text": [
      "\n",
      "\n",
      "\n"
     ]
    },
    {
     "data": {
      "text/html": [
       "A copy of the bid can be downloaded from the city record online site at http://a856-internet.nyc.gov/nyvendoronline/home.asp Enrollment is free. Vendors may also request the bid by contacting vendor relations via email at dcasdmssbids@dcas.nyc.gov, by telephone at 212-669-8510 or by fax at 212-669-7603."
      ],
      "text/plain": [
       "<IPython.core.display.HTML object>"
      ]
     },
     "metadata": {},
     "output_type": "display_data"
    },
    {
     "name": "stdout",
     "output_type": "stream",
     "text": [
      "---\n",
      "{'error': 'bad input: [A copy of the bid can be downloaded from the city '\n",
      "          'record online site at '\n",
      "          'http://a856-internet.nyc.gov/nyvendoronline/home.asp Enrollment '\n",
      "          'is free. Vendors may also request the bid by contacting vendor '\n",
      "          'relations via email at dcasdmssbids@dcas.nyc.gov, by telephone at '\n",
      "          '212-669-8510 or by fax at 212-669-7603.]'}\n"
     ]
    },
    {
     "data": {
      "text/html": [
       "<hr />"
      ],
      "text/plain": [
       "<IPython.core.display.HTML object>"
      ]
     },
     "metadata": {},
     "output_type": "display_data"
    },
    {
     "name": "stdout",
     "output_type": "stream",
     "text": [
      "\n",
      "\n",
      "\n"
     ]
    },
    {
     "data": {
      "text/html": [
       "EPIN# 85715N0001. This is a notification of intent by Department of Citywide Administrative Services to enter into negotiations for an art storage system for the Rubin Museum of Art, on behalf of the Department of Cultural Affairs (DCLA).   There is a limited number of suppliers available and able to perform the work. Any firm which believes it can also provide this category of service and would like to be considered are invited to contact DCAS, 1 Centre Street, 18th floor, NY, NY 10007, Attn: Jeanette Cheung, 212-386-0465, jcheung@dcas.nyc.gov no later than 12-8-2014.  "
      ],
      "text/plain": [
       "<IPython.core.display.HTML object>"
      ]
     },
     "metadata": {},
     "output_type": "display_data"
    },
    {
     "name": "stdout",
     "output_type": "stream",
     "text": [
      "---\n",
      "{'error': 'bad input: [EPIN# 85715N0001. This is a notification of intent by '\n",
      "          'Department of Citywide Administrative Services to enter into '\n",
      "          'negotiations for an art storage system for the Rubin Museum of '\n",
      "          'Art, on behalf of the Department of Cultural Affairs (DCLA).   '\n",
      "          'There is a limited number of suppliers available and able to '\n",
      "          'perform the work. Any firm which believes it can also provide '\n",
      "          'this category of service and would like to be considered are '\n",
      "          'invited to contact DCAS, 1 Centre Street, 18th floor, NY, NY '\n",
      "          '10007, Attn: Jeanette Cheung, 212-386-0465, jcheung@dcas.nyc.gov '\n",
      "          'no later than 12-8-2014.  ]'}\n"
     ]
    },
    {
     "data": {
      "text/html": [
       "<hr />"
      ],
      "text/plain": [
       "<IPython.core.display.HTML object>"
      ]
     },
     "metadata": {},
     "output_type": "display_data"
    },
    {
     "name": "stdout",
     "output_type": "stream",
     "text": [
      "\n",
      "\n",
      "\n"
     ]
    },
    {
     "data": {
      "text/html": [
       "CORRECTION: A copy of the bid can be downloaded from the City Record online site at http://a856- internet.nyc.gov/nycvendoronline/home.asp Enrollment is free. Vendors may also request the bid by contacting Vendor Relations via e-mail at dcasdmssbids@dcas.nyc.gov by telephone at 212-669-2610 or by fax at 212-669-7603"
      ],
      "text/plain": [
       "<IPython.core.display.HTML object>"
      ]
     },
     "metadata": {},
     "output_type": "display_data"
    },
    {
     "name": "stdout",
     "output_type": "stream",
     "text": [
      "---\n",
      "{'error': 'bad input: [CORRECTION: A copy of the bid can be downloaded from '\n",
      "          'the City Record online site at http://a856- '\n",
      "          'internet.nyc.gov/nycvendoronline/home.asp Enrollment is free. '\n",
      "          'Vendors may also request the bid by contacting Vendor Relations '\n",
      "          'via e-mail at dcasdmssbids@dcas.nyc.gov by telephone at '\n",
      "          '212-669-2610 or by fax at 212-669-7603]'}\n"
     ]
    },
    {
     "data": {
      "text/html": [
       "<hr />"
      ],
      "text/plain": [
       "<IPython.core.display.HTML object>"
      ]
     },
     "metadata": {},
     "output_type": "display_data"
    },
    {
     "name": "stdout",
     "output_type": "stream",
     "text": [
      "\n",
      "\n",
      "\n"
     ]
    },
    {
     "data": {
      "text/html": [
       "A copy of the bid can be downloaded from the city record online site at http://a856-internet.nyc.gov/nyvendoronline/home.asp enrollment is free. Vendors may also request the bid by contacting vendor relations via email at dcasdmssbids@dcas.nyc.gov, by telephone at 212-669-8510 or by fax at 212-669-7603."
      ],
      "text/plain": [
       "<IPython.core.display.HTML object>"
      ]
     },
     "metadata": {},
     "output_type": "display_data"
    },
    {
     "name": "stdout",
     "output_type": "stream",
     "text": [
      "---\n",
      "{'error': 'bad input: [A copy of the bid can be downloaded from the city '\n",
      "          'record online site at '\n",
      "          'http://a856-internet.nyc.gov/nyvendoronline/home.asp enrollment '\n",
      "          'is free. Vendors may also request the bid by contacting vendor '\n",
      "          'relations via email at dcasdmssbids@dcas.nyc.gov, by telephone at '\n",
      "          '212-669-8510 or by fax at 212-669-7603.]'}\n"
     ]
    },
    {
     "data": {
      "text/html": [
       "<hr />"
      ],
      "text/plain": [
       "<IPython.core.display.HTML object>"
      ]
     },
     "metadata": {},
     "output_type": "display_data"
    },
    {
     "name": "stdout",
     "output_type": "stream",
     "text": [
      "\n",
      "\n",
      "\n"
     ]
    },
    {
     "data": {
      "text/html": [
       "A copy of the bid can be downloaded from the City Record Online site at http://a856-internet.nyc.gov/nycvendoronline/home.asp. Enrollment is free. Vendors may also request the bid by contacting Vendor Relations via email at dcasdmssbids@dcas.nyc.gov, by telephone at 212-669-8610 or by fax at 212-669-7603."
      ],
      "text/plain": [
       "<IPython.core.display.HTML object>"
      ]
     },
     "metadata": {},
     "output_type": "display_data"
    },
    {
     "name": "stdout",
     "output_type": "stream",
     "text": [
      "---\n",
      "{'error': 'bad input: [A copy of the bid can be downloaded from the City '\n",
      "          'Record Online site at '\n",
      "          'http://a856-internet.nyc.gov/nycvendoronline/home.asp. Enrollment '\n",
      "          'is free. Vendors may also request the bid by contacting Vendor '\n",
      "          'Relations via email at dcasdmssbids@dcas.nyc.gov, by telephone at '\n",
      "          '212-669-8610 or by fax at 212-669-7603.]'}\n"
     ]
    },
    {
     "data": {
      "text/html": [
       "<hr />"
      ],
      "text/plain": [
       "<IPython.core.display.HTML object>"
      ]
     },
     "metadata": {},
     "output_type": "display_data"
    },
    {
     "name": "stdout",
     "output_type": "stream",
     "text": [
      "\n",
      "\n",
      "\n"
     ]
    },
    {
     "data": {
      "text/html": [
       "A copy of the bid can be downloaded from the city record online site at http://a856-internet.nyc.gov/nycvendoronline/home.asp Enrollment is free. Vendors may also request the bid by contacting vendor relations via email at dcasdmssbids@dcas.nyc.gov, by telephone at 212-386-0044 or by fax at 212-669-7585. "
      ],
      "text/plain": [
       "<IPython.core.display.HTML object>"
      ]
     },
     "metadata": {},
     "output_type": "display_data"
    },
    {
     "name": "stdout",
     "output_type": "stream",
     "text": [
      "---\n",
      "{'error': 'bad input: [A copy of the bid can be downloaded from the city '\n",
      "          'record online site at '\n",
      "          'http://a856-internet.nyc.gov/nycvendoronline/home.asp Enrollment '\n",
      "          'is free. Vendors may also request the bid by contacting vendor '\n",
      "          'relations via email at dcasdmssbids@dcas.nyc.gov, by telephone at '\n",
      "          '212-386-0044 or by fax at 212-669-7585. ]'}\n"
     ]
    },
    {
     "data": {
      "text/html": [
       "<hr />"
      ],
      "text/plain": [
       "<IPython.core.display.HTML object>"
      ]
     },
     "metadata": {},
     "output_type": "display_data"
    },
    {
     "name": "stdout",
     "output_type": "stream",
     "text": [
      "\n",
      "\n",
      "\n"
     ]
    },
    {
     "data": {
      "text/html": [
       "A copy of the bid can be downloaded from the city record online site at http://a856internet.nyc.gov/nycvendoronline/home.asp. Enrollment is free. Vendors may also request the bid by contacting vendor relations via email: dcasdmssbids@dcas.nyc.gov, by telephone at 212-669-8610 or by fax at: 212-669-7603."
      ],
      "text/plain": [
       "<IPython.core.display.HTML object>"
      ]
     },
     "metadata": {},
     "output_type": "display_data"
    },
    {
     "name": "stdout",
     "output_type": "stream",
     "text": [
      "---\n",
      "{'error': 'bad input: [A copy of the bid can be downloaded from the city '\n",
      "          'record online site at '\n",
      "          'http://a856internet.nyc.gov/nycvendoronline/home.asp. Enrollment '\n",
      "          'is free. Vendors may also request the bid by contacting vendor '\n",
      "          'relations via email: dcasdmssbids@dcas.nyc.gov, by telephone at '\n",
      "          '212-669-8610 or by fax at: 212-669-7603.]'}\n"
     ]
    },
    {
     "data": {
      "text/html": [
       "<hr />"
      ],
      "text/plain": [
       "<IPython.core.display.HTML object>"
      ]
     },
     "metadata": {},
     "output_type": "display_data"
    },
    {
     "name": "stdout",
     "output_type": "stream",
     "text": [
      "\n",
      "\n",
      "\n"
     ]
    },
    {
     "data": {
      "text/html": [
       "A copy of the bid can be downloaded from the City Record Online site at http://a856-internet.nyc.gov/nycvendoronline/home.asp. Enrollment is free. Vendors may also request the bid by contacting Vendor Relations via email at dcasdmssbids@dcas.nyc.gov, by telephone at 212-669-8610 or by fax at 212-669-7603."
      ],
      "text/plain": [
       "<IPython.core.display.HTML object>"
      ]
     },
     "metadata": {},
     "output_type": "display_data"
    },
    {
     "name": "stdout",
     "output_type": "stream",
     "text": [
      "---\n",
      "{'error': 'bad input: [A copy of the bid can be downloaded from the City '\n",
      "          'Record Online site at '\n",
      "          'http://a856-internet.nyc.gov/nycvendoronline/home.asp. Enrollment '\n",
      "          'is free. Vendors may also request the bid by contacting Vendor '\n",
      "          'Relations via email at dcasdmssbids@dcas.nyc.gov, by telephone at '\n",
      "          '212-669-8610 or by fax at 212-669-7603.]'}\n"
     ]
    },
    {
     "data": {
      "text/html": [
       "<hr />"
      ],
      "text/plain": [
       "<IPython.core.display.HTML object>"
      ]
     },
     "metadata": {},
     "output_type": "display_data"
    },
    {
     "name": "stdout",
     "output_type": "stream",
     "text": [
      "\n",
      "\n",
      "\n"
     ]
    },
    {
     "data": {
      "text/html": [
       "A copy of the bid can be downloaded from the City Record Online site at http://a856-internet.nyc.gov/nycvendoronline/home.asp. Enrollment is free. Vendors may also request the bid by contacting Vendor Relations via email at dcasdmssbids@dcas.nyc.gov, by telephone at 212-669-8610 or by fax at 212-669-7603."
      ],
      "text/plain": [
       "<IPython.core.display.HTML object>"
      ]
     },
     "metadata": {},
     "output_type": "display_data"
    },
    {
     "name": "stdout",
     "output_type": "stream",
     "text": [
      "---\n",
      "{'error': 'bad input: [A copy of the bid can be downloaded from the City '\n",
      "          'Record Online site at '\n",
      "          'http://a856-internet.nyc.gov/nycvendoronline/home.asp. Enrollment '\n",
      "          'is free. Vendors may also request the bid by contacting Vendor '\n",
      "          'Relations via email at dcasdmssbids@dcas.nyc.gov, by telephone at '\n",
      "          '212-669-8610 or by fax at 212-669-7603.]'}\n"
     ]
    },
    {
     "data": {
      "text/html": [
       "<hr />"
      ],
      "text/plain": [
       "<IPython.core.display.HTML object>"
      ]
     },
     "metadata": {},
     "output_type": "display_data"
    },
    {
     "name": "stdout",
     "output_type": "stream",
     "text": [
      "\n",
      "\n",
      "\n"
     ]
    },
    {
     "data": {
      "text/html": [
       "A copy of the bid can be downloaded from the City Record online site at http://a856- internet.nyc.gov/nycvendoronline/home.asp Enrollment is free. Vendors may also request the bid by contacting Vendor Relations via e-mail at dcasdmssbids@dcas.nyc.gov by telephone at 212-669-2610 or by fax at 212-669-7603"
      ],
      "text/plain": [
       "<IPython.core.display.HTML object>"
      ]
     },
     "metadata": {},
     "output_type": "display_data"
    },
    {
     "name": "stdout",
     "output_type": "stream",
     "text": [
      "---\n",
      "{'error': 'bad input: [A copy of the bid can be downloaded from the City '\n",
      "          'Record online site at http://a856- '\n",
      "          'internet.nyc.gov/nycvendoronline/home.asp Enrollment is free. '\n",
      "          'Vendors may also request the bid by contacting Vendor Relations '\n",
      "          'via e-mail at dcasdmssbids@dcas.nyc.gov by telephone at '\n",
      "          '212-669-2610 or by fax at 212-669-7603]'}\n"
     ]
    },
    {
     "data": {
      "text/html": [
       "<hr />"
      ],
      "text/plain": [
       "<IPython.core.display.HTML object>"
      ]
     },
     "metadata": {},
     "output_type": "display_data"
    },
    {
     "name": "stdout",
     "output_type": "stream",
     "text": [
      "\n",
      "\n",
      "\n"
     ]
    },
    {
     "data": {
      "text/html": [
       "A copy of the bid can be downloaded from the city record online site at http://a856-internet.nyc.gov/nycvendoronline/home.asp. Enrollment is free. Vendors may also request the bid by contacting vendor relations via email:dcasdmssbids@dcas.nyc.gov, by telephone at 212-669-5610 or by fax at 212-669-7603."
      ],
      "text/plain": [
       "<IPython.core.display.HTML object>"
      ]
     },
     "metadata": {},
     "output_type": "display_data"
    },
    {
     "name": "stdout",
     "output_type": "stream",
     "text": [
      "---\n",
      "{'error': 'bad input: [A copy of the bid can be downloaded from the city '\n",
      "          'record online site at '\n",
      "          'http://a856-internet.nyc.gov/nycvendoronline/home.asp. Enrollment '\n",
      "          'is free. Vendors may also request the bid by contacting vendor '\n",
      "          'relations via email:dcasdmssbids@dcas.nyc.gov, by telephone at '\n",
      "          '212-669-5610 or by fax at 212-669-7603.]'}\n"
     ]
    },
    {
     "data": {
      "text/html": [
       "<hr />"
      ],
      "text/plain": [
       "<IPython.core.display.HTML object>"
      ]
     },
     "metadata": {},
     "output_type": "display_data"
    },
    {
     "name": "stdout",
     "output_type": "stream",
     "text": [
      "\n",
      "\n",
      "\n"
     ]
    },
    {
     "data": {
      "text/html": [
       "DCAS/OCP invite all food vendors to an informational meeting to discuss updates on Certification, Nutritional requirements, Citywide food policy and goals in the context of  food industry trends. The Meeting will be held on Thursday October 2, 2014, 10:30 a.m. at  Municipal Building, 1 Centre Street, 18th Floor Pre-Bid Room, New York, NY 10007.  All Food Vendors are welcome. See Food Vendors Meeting letter attached and dated September 22, 2014. If you have questions regarding this meeting, please contact Mr John Katsorhis at 212-386-0449 or by email at jkatsorhis@dcas.nyc.gov or  Mr. Anson Telford at 212-386-6277, by email at atelford@dcas.nyc.gov"
      ],
      "text/plain": [
       "<IPython.core.display.HTML object>"
      ]
     },
     "metadata": {},
     "output_type": "display_data"
    },
    {
     "name": "stdout",
     "output_type": "stream",
     "text": [
      "---\n",
      "{'error': 'bad input: [DCAS/OCP invite all food vendors to an informational '\n",
      "          'meeting to discuss updates on Certification, Nutritional '\n",
      "          'requirements, Citywide food policy and goals in the context of  '\n",
      "          'food industry trends. The Meeting will be held on Thursday '\n",
      "          'October 2, 2014, 10:30 a.m. at  Municipal Building, 1 Centre '\n",
      "          'Street, 18th Floor Pre-Bid Room, New York, NY 10007.  All Food '\n",
      "          'Vendors are welcome. See Food Vendors Meeting letter attached and '\n",
      "          'dated September 22, 2014. If you have questions regarding this '\n",
      "          'meeting, please contact Mr John Katsorhis at 212-386-0449 or by '\n",
      "          'email at jkatsorhis@dcas.nyc.gov or  Mr. Anson Telford at '\n",
      "          '212-386-6277, by email at atelford@dcas.nyc.gov]'}\n"
     ]
    },
    {
     "data": {
      "text/html": [
       "<hr />"
      ],
      "text/plain": [
       "<IPython.core.display.HTML object>"
      ]
     },
     "metadata": {},
     "output_type": "display_data"
    },
    {
     "name": "stdout",
     "output_type": "stream",
     "text": [
      "\n",
      "\n",
      "\n"
     ]
    },
    {
     "data": {
      "text/html": [
       "A copy of the bid can be downloaded from the City Record Online site at http://a856-internet.nyc.gov/nycvendoronline/home.asp. Enrollment is free. Vendors may also request the bid by contacting Vendor Relations via email at dcasdmssbids@dcas.nyc.gov, by telephone at 212-669-8610 or by fax at 212-669-7603. "
      ],
      "text/plain": [
       "<IPython.core.display.HTML object>"
      ]
     },
     "metadata": {},
     "output_type": "display_data"
    },
    {
     "name": "stdout",
     "output_type": "stream",
     "text": [
      "---\n",
      "{'error': 'bad input: [A copy of the bid can be downloaded from the City '\n",
      "          'Record Online site at '\n",
      "          'http://a856-internet.nyc.gov/nycvendoronline/home.asp. Enrollment '\n",
      "          'is free. Vendors may also request the bid by contacting Vendor '\n",
      "          'Relations via email at dcasdmssbids@dcas.nyc.gov, by telephone at '\n",
      "          '212-669-8610 or by fax at 212-669-7603. ]'}\n"
     ]
    },
    {
     "data": {
      "text/html": [
       "<hr />"
      ],
      "text/plain": [
       "<IPython.core.display.HTML object>"
      ]
     },
     "metadata": {},
     "output_type": "display_data"
    },
    {
     "name": "stdout",
     "output_type": "stream",
     "text": [
      "\n",
      "\n",
      "\n"
     ]
    },
    {
     "data": {
      "text/html": [
       "A copy of the bid can be downloaded from the City Record Online site at http://a856-internet.nyc.gov/nycvendoronline/home.asp. Enrollment is free. Vendors may also request the bid by contacting Vendor Relations via email at dcasdmssbids@dcas.nyc.gov, by telephone at 212-669-8610 or by fax at 212-669-7603."
      ],
      "text/plain": [
       "<IPython.core.display.HTML object>"
      ]
     },
     "metadata": {},
     "output_type": "display_data"
    },
    {
     "name": "stdout",
     "output_type": "stream",
     "text": [
      "---\n",
      "{'error': 'bad input: [A copy of the bid can be downloaded from the City '\n",
      "          'Record Online site at '\n",
      "          'http://a856-internet.nyc.gov/nycvendoronline/home.asp. Enrollment '\n",
      "          'is free. Vendors may also request the bid by contacting Vendor '\n",
      "          'Relations via email at dcasdmssbids@dcas.nyc.gov, by telephone at '\n",
      "          '212-669-8610 or by fax at 212-669-7603.]'}\n"
     ]
    },
    {
     "data": {
      "text/html": [
       "<hr />"
      ],
      "text/plain": [
       "<IPython.core.display.HTML object>"
      ]
     },
     "metadata": {},
     "output_type": "display_data"
    },
    {
     "name": "stdout",
     "output_type": "stream",
     "text": [
      "\n",
      "\n",
      "\n"
     ]
    },
    {
     "data": {
      "text/html": [
       "A copy of the bid can be downloaded from the City Record Online site at http://a856-internet.nyc.gov/nycvendoronline/home.asp. Enrollment is free. Vendors may also request the bid by contacting Vendor Relations via email at dcasdmssbids@dcas.nyc.gov, by telephone at 212-669-8610 or by fax at 212-669-7603."
      ],
      "text/plain": [
       "<IPython.core.display.HTML object>"
      ]
     },
     "metadata": {},
     "output_type": "display_data"
    },
    {
     "name": "stdout",
     "output_type": "stream",
     "text": [
      "---\n",
      "{'error': 'bad input: [A copy of the bid can be downloaded from the City '\n",
      "          'Record Online site at '\n",
      "          'http://a856-internet.nyc.gov/nycvendoronline/home.asp. Enrollment '\n",
      "          'is free. Vendors may also request the bid by contacting Vendor '\n",
      "          'Relations via email at dcasdmssbids@dcas.nyc.gov, by telephone at '\n",
      "          '212-669-8610 or by fax at 212-669-7603.]'}\n"
     ]
    },
    {
     "data": {
      "text/html": [
       "<hr />"
      ],
      "text/plain": [
       "<IPython.core.display.HTML object>"
      ]
     },
     "metadata": {},
     "output_type": "display_data"
    },
    {
     "name": "stdout",
     "output_type": "stream",
     "text": [
      "\n",
      "\n",
      "\n"
     ]
    },
    {
     "data": {
      "text/html": [
       "BID EXTENSION: The New York City Department of Citywide Administrative Services (DCAS)/Asset Management Division (AM) is seeking an appropriately qualified Conservator to repair, restore and provide conservation treatment and long-term stabilization of the four (4) large painted murals at the Bronx Courthouse.  This project is subject to MWBE goal, as per Local Law 1 of 2013. By registering your contact information on the form provided at the following web address, http://a856-internet.nyc.gov/nycvendoronline/home.asp, you will be able to view and download a copy of the RFP. Alternatively, a copy of the RFP may be picked up from DCAS at its Office of Citywide Purchasing at One Centre Street, 18th Floor North, New York, NY 10007 between 9:00 AM and 5:00 PM on regular City business days (Please enter through the South Building).   Proposals, which must be received on or before 11:00 a.m. on December 30, 2014, must be submitted by mail or hand delivery to Irene Rubet, the Authorized Agency Contact Person, at One Centre Street, 18th Floor North, New York, NY 10007, Telephone No.: (212) 386-0451, E-Mail Address: irubet@dcas.nyc.gov. Any questions regarding this solicitation should also be directed to Ms. Rubets attention."
      ],
      "text/plain": [
       "<IPython.core.display.HTML object>"
      ]
     },
     "metadata": {},
     "output_type": "display_data"
    },
    {
     "name": "stdout",
     "output_type": "stream",
     "text": [
      "---\n",
      "{'error': 'bad input: [BID EXTENSION: The New York City Department of '\n",
      "          'Citywide Administrative Services (\\x93DCAS\\x94)/Asset Management '\n",
      "          'Division (\\x93AM\\x94) is seeking an appropriately qualified '\n",
      "          'Conservator to repair, restore and provide conservation treatment '\n",
      "          'and long-term stabilization of the four (4) large painted murals '\n",
      "          'at the Bronx Courthouse.  This project is subject to MWBE goal, '\n",
      "          'as per Local Law 1 of 2013. By registering your contact '\n",
      "          'information on the form provided at the following web address, '\n",
      "          'http://a856-internet.nyc.gov/nycvendoronline/home.asp, you will '\n",
      "          'be able to view and download a copy of the RFP. Alternatively, a '\n",
      "          'copy of the RFP may be picked up from DCAS at its Office of '\n",
      "          'Citywide Purchasing at One Centre Street, 18th Floor North, New '\n",
      "          'York, NY 10007 between 9:00 AM and 5:00 PM on regular City '\n",
      "          'business days (Please enter through the South Building).   '\n",
      "          'Proposals, which must be received on or before 11:00 a.m. on '\n",
      "          'December 30, 2014, must be submitted by mail or hand delivery to '\n",
      "          'Irene Rubet, the Authorized Agency Contact Person, at One Centre '\n",
      "          'Street, 18th Floor North, New York, NY 10007, Telephone No.: '\n",
      "          '(212) 386-0451, E-Mail Address: irubet@dcas.nyc.gov. Any '\n",
      "          'questions regarding this solicitation should also be directed to '\n",
      "          'Ms. Rubet\\x92s attention.]'}\n"
     ]
    },
    {
     "data": {
      "text/html": [
       "<hr />"
      ],
      "text/plain": [
       "<IPython.core.display.HTML object>"
      ]
     },
     "metadata": {},
     "output_type": "display_data"
    },
    {
     "name": "stdout",
     "output_type": "stream",
     "text": [
      "\n",
      "\n",
      "\n"
     ]
    },
    {
     "data": {
      "text/html": [
       "BID EXTENSION: Bid opening postponned to January 14 2015 A copy of the bid can be downloaded from the City Record Online site at http://a856-internet.nyc.gov/nycvendoronline/home.asp. Enrollment is free. Vendors may also request the bid by contacting Vendor Relations via email at dcasdmssbids@dcas.nyc.gov, by telephone at 212-669-8610 or by fax at 212-669-7603.  "
      ],
      "text/plain": [
       "<IPython.core.display.HTML object>"
      ]
     },
     "metadata": {},
     "output_type": "display_data"
    },
    {
     "name": "stdout",
     "output_type": "stream",
     "text": [
      "---\n",
      "{'error': 'bad input: [BID EXTENSION: Bid opening postponned to January 14 '\n",
      "          '2015 A copy of the bid can be downloaded from the City Record '\n",
      "          'Online site at '\n",
      "          'http://a856-internet.nyc.gov/nycvendoronline/home.asp. Enrollment '\n",
      "          'is free. Vendors may also request the bid by contacting Vendor '\n",
      "          'Relations via email at dcasdmssbids@dcas.nyc.gov, by telephone at '\n",
      "          '212-669-8610 or by fax at 212-669-7603.  ]'}\n"
     ]
    },
    {
     "data": {
      "text/html": [
       "<hr />"
      ],
      "text/plain": [
       "<IPython.core.display.HTML object>"
      ]
     },
     "metadata": {},
     "output_type": "display_data"
    },
    {
     "name": "stdout",
     "output_type": "stream",
     "text": [
      "\n",
      "\n",
      "\n"
     ]
    },
    {
     "data": {
      "text/html": [
       "A Pre-Solicitation Conference for the above mentioned commodity has been RESCHEDULED for November 12, 2014 at 9:30am at 1 Centre Street, New York, NY 10007, 18th floor.  The purpose of this conference is to review proposed specifications for the commodity listed above to ensure a good product and maximum competition. Please make every effort to attend this conference, your participation will assist us in revising the attached specifications so they can be issued as a part of final bid package.  A copy of the pre-solicitation package can be downloaded from the City Record Online site at http://a856-internet.nyc.gov/nycvendoronline/home.asp. Enrollment is free. Please review the documents before you attend the conference."
      ],
      "text/plain": [
       "<IPython.core.display.HTML object>"
      ]
     },
     "metadata": {},
     "output_type": "display_data"
    },
    {
     "name": "stdout",
     "output_type": "stream",
     "text": [
      "---\n",
      "{'error': 'bad input: [A Pre-Solicitation Conference for the above mentioned '\n",
      "          'commodity has been RESCHEDULED for November 12, 2014 at 9:30am at '\n",
      "          '1 Centre Street, New York, NY 10007, 18th floor.  The purpose of '\n",
      "          'this conference is to review proposed specifications for the '\n",
      "          'commodity listed above to ensure a good product and maximum '\n",
      "          'competition. Please make every effort to attend this conference, '\n",
      "          'your participation will assist us in revising the attached '\n",
      "          'specifications so they can be issued as a part of final bid '\n",
      "          'package.  A copy of the pre-solicitation package can be '\n",
      "          'downloaded from the City Record Online site at '\n",
      "          'http://a856-internet.nyc.gov/nycvendoronline/home.asp. Enrollment '\n",
      "          'is free. Please review the documents before you attend the '\n",
      "          'conference.]'}\n"
     ]
    },
    {
     "data": {
      "text/html": [
       "<hr />"
      ],
      "text/plain": [
       "<IPython.core.display.HTML object>"
      ]
     },
     "metadata": {},
     "output_type": "display_data"
    },
    {
     "name": "stdout",
     "output_type": "stream",
     "text": [
      "\n",
      "\n",
      "\n"
     ]
    },
    {
     "data": {
      "text/html": [
       "BID EXTENSION: A Pre-Solicitation Conference for the above mentioned commodity has been rescheduled to January 16, 2015 at 9:30am at 1 Centre Street, New York, NY 10007, 18th floor.  The purpose of this conference is to review proposed specifications for the commodity listed above to ensure a good product and maximum competition. Please make every effort to attend this conference, your participation will assist us in revising the attached specifications so they can be issued as a part of final bid package.  A copy of the pre-solicitation package can be downloaded from the City Record Online site at http://a856-internet.nyc.gov/nycvendoronline/home.asp. Enrollment is free. Please review the documents the before you attend the conference. If you have questions regarding this conference, please contact Kaleem Kamboj at 212-386-6373 or by email at kkamboj@dcas.nyc.gov     "
      ],
      "text/plain": [
       "<IPython.core.display.HTML object>"
      ]
     },
     "metadata": {},
     "output_type": "display_data"
    },
    {
     "name": "stdout",
     "output_type": "stream",
     "text": [
      "---\n",
      "{'error': 'bad input: [BID EXTENSION: A Pre-Solicitation Conference for the '\n",
      "          'above mentioned commodity has been rescheduled to January 16, '\n",
      "          '2015 at 9:30am at 1 Centre Street, New York, NY 10007, 18th '\n",
      "          'floor.  The purpose of this conference is to review proposed '\n",
      "          'specifications for the commodity listed above to ensure a good '\n",
      "          'product and maximum competition. Please make every effort to '\n",
      "          'attend this conference, your participation will assist us in '\n",
      "          'revising the attached specifications so they can be issued as a '\n",
      "          'part of final bid package.  A copy of the pre-solicitation '\n",
      "          'package can be downloaded from the City Record Online site at '\n",
      "          'http://a856-internet.nyc.gov/nycvendoronline/home.asp. Enrollment '\n",
      "          'is free. Please review the documents the before you attend the '\n",
      "          'conference. If you have questions regarding this conference, '\n",
      "          'please contact Kaleem Kamboj at 212-386-6373 or by email at '\n",
      "          'kkamboj@dcas.nyc.gov     ]'}\n"
     ]
    },
    {
     "data": {
      "text/html": [
       "<hr />"
      ],
      "text/plain": [
       "<IPython.core.display.HTML object>"
      ]
     },
     "metadata": {},
     "output_type": "display_data"
    },
    {
     "name": "stdout",
     "output_type": "stream",
     "text": [
      "\n",
      "\n",
      "\n"
     ]
    },
    {
     "data": {
      "text/html": [
       "BID EXTENSION: Bid opening has been postponned to December 18, 2014. Also please see attached addendum 2 for additional corrections.  A copy of the bid can be downloaded from the City Record Online site at http://a856-internet.nyc.gov/nycvendoronline/home.asp. Enrollment is free. Vendors may also request the bid by contacting Vendor Relations via email at dcasdmssbids@dcas.nyc.gov, by telephone at 212-669-8610 or by fax at 212-669-7603."
      ],
      "text/plain": [
       "<IPython.core.display.HTML object>"
      ]
     },
     "metadata": {},
     "output_type": "display_data"
    },
    {
     "name": "stdout",
     "output_type": "stream",
     "text": [
      "---\n",
      "{'error': 'bad input: [BID EXTENSION: Bid opening has been postponned to '\n",
      "          'December 18, 2014. Also please see attached addendum 2 for '\n",
      "          'additional corrections.  A copy of the bid can be downloaded from '\n",
      "          'the City Record Online site at '\n",
      "          'http://a856-internet.nyc.gov/nycvendoronline/home.asp. Enrollment '\n",
      "          'is free. Vendors may also request the bid by contacting Vendor '\n",
      "          'Relations via email at dcasdmssbids@dcas.nyc.gov, by telephone at '\n",
      "          '212-669-8610 or by fax at 212-669-7603.]'}\n"
     ]
    },
    {
     "data": {
      "text/html": [
       "<hr />"
      ],
      "text/plain": [
       "<IPython.core.display.HTML object>"
      ]
     },
     "metadata": {},
     "output_type": "display_data"
    },
    {
     "name": "stdout",
     "output_type": "stream",
     "text": [
      "\n",
      "\n",
      "\n"
     ]
    },
    {
     "data": {
      "text/html": [
       "A copy of the bid can be downloaded from City Record Online at http://a856-internet.nyc.gov/nycvendoronline/home.asp . Enrollment is free. Vendor may also request the bid by contacting Vendor Relations via email at dcasdmssbids@dcas.nyc.gov, by telephone at 212-669-8610."
      ],
      "text/plain": [
       "<IPython.core.display.HTML object>"
      ]
     },
     "metadata": {},
     "output_type": "display_data"
    },
    {
     "name": "stdout",
     "output_type": "stream",
     "text": [
      "---\n",
      "{'error': 'bad input: [A copy of the bid can be downloaded from City Record '\n",
      "          'Online at http://a856-internet.nyc.gov/nycvendoronline/home.asp . '\n",
      "          'Enrollment is free. Vendor may also request the bid by contacting '\n",
      "          'Vendor Relations via email at dcasdmssbids@dcas.nyc.gov, by '\n",
      "          'telephone at 212-669-8610.]'}\n"
     ]
    },
    {
     "data": {
      "text/html": [
       "<hr />"
      ],
      "text/plain": [
       "<IPython.core.display.HTML object>"
      ]
     },
     "metadata": {},
     "output_type": "display_data"
    },
    {
     "name": "stdout",
     "output_type": "stream",
     "text": [
      "\n",
      "\n",
      "\n"
     ]
    },
    {
     "data": {
      "text/html": [
       "A Pre-Solicitation Conference for the above mentioned commodity is scheduled for November 3, 2014 at 10:30am at 1 Centre Street, New York, NY 10007, 18th floor.  The purpose of this conference is to review proposed specifications for the commodity listed above to ensure a good product and maximum competition. Please make every effort to attend this conference, your participation will assist us in revising the attached specifications so they can be issued as a part of final bid package.  A copy of the pre-solicitation package can be downloaded from the City Record Online site at http://a856-internet.nyc.gov/nycvendoronline/home.asp. Enrollment is free. Please review the documents the before you attend the conference."
      ],
      "text/plain": [
       "<IPython.core.display.HTML object>"
      ]
     },
     "metadata": {},
     "output_type": "display_data"
    },
    {
     "name": "stdout",
     "output_type": "stream",
     "text": [
      "---\n",
      "{'error': 'bad input: [A Pre-Solicitation Conference for the above mentioned '\n",
      "          'commodity is scheduled for November 3, 2014 at 10:30am at 1 '\n",
      "          'Centre Street, New York, NY 10007, 18th floor.  The purpose of '\n",
      "          'this conference is to review proposed specifications for the '\n",
      "          'commodity listed above to ensure a good product and maximum '\n",
      "          'competition. Please make every effort to attend this conference, '\n",
      "          'your participation will assist us in revising the attached '\n",
      "          'specifications so they can be issued as a part of final bid '\n",
      "          'package.  A copy of the pre-solicitation package can be '\n",
      "          'downloaded from the City Record Online site at '\n",
      "          'http://a856-internet.nyc.gov/nycvendoronline/home.asp. Enrollment '\n",
      "          'is free. Please review the documents the before you attend the '\n",
      "          'conference.]'}\n"
     ]
    },
    {
     "data": {
      "text/html": [
       "<hr />"
      ],
      "text/plain": [
       "<IPython.core.display.HTML object>"
      ]
     },
     "metadata": {},
     "output_type": "display_data"
    },
    {
     "name": "stdout",
     "output_type": "stream",
     "text": [
      "\n",
      "\n",
      "\n"
     ]
    },
    {
     "data": {
      "text/html": [
       "A copy of the bid can be downloaded from the City Record Online site at http://a856-internet.nyc.gov/nycvendoronline/home.asp. Enrollment is free. Vendors may also request the bid by contacting Vendor Relations via email at dcasdmssbids@dcas.nyc.gov, by telephone at 212-669-8610 or by fax at 212-669-7603."
      ],
      "text/plain": [
       "<IPython.core.display.HTML object>"
      ]
     },
     "metadata": {},
     "output_type": "display_data"
    },
    {
     "name": "stdout",
     "output_type": "stream",
     "text": [
      "---\n",
      "{'error': 'bad input: [A copy of the bid can be downloaded from the City '\n",
      "          'Record Online site at '\n",
      "          'http://a856-internet.nyc.gov/nycvendoronline/home.asp. Enrollment '\n",
      "          'is free. Vendors may also request the bid by contacting Vendor '\n",
      "          'Relations via email at dcasdmssbids@dcas.nyc.gov, by telephone at '\n",
      "          '212-669-8610 or by fax at 212-669-7603.]'}\n"
     ]
    },
    {
     "data": {
      "text/html": [
       "<hr />"
      ],
      "text/plain": [
       "<IPython.core.display.HTML object>"
      ]
     },
     "metadata": {},
     "output_type": "display_data"
    },
    {
     "name": "stdout",
     "output_type": "stream",
     "text": [
      "\n",
      "\n",
      "\n"
     ]
    },
    {
     "data": {
      "text/html": [
       "CORRECTION: The time of the pre-bid is 9:30am  A Pre-Solicitation Conference for the above mentioned commodity is scheduled for January 5, 2015 at 9:30am at 1 Centre Street, New York, NY 10007, 18th floor.  The purpose of this conference is to review proposed specifications for the commodity listed above to ensure a good product and maximum competition. Please make every effort to attend this conference, your participation will assist us in revising the attached specifications so they can be issued as a part of final bid package.  A copy of the pre-solicitation package can be downloaded from the City Record Online site at http://a856-internet.nyc.gov/nycvendoronline/home.asp. Enrollment is free. Please review the documents the before you attend the conference. If you have questions regarding this conference, please contact Joe Vacirca at 212-669-8616 or by email at jvacirca@dcas.nyc.gov "
      ],
      "text/plain": [
       "<IPython.core.display.HTML object>"
      ]
     },
     "metadata": {},
     "output_type": "display_data"
    },
    {
     "name": "stdout",
     "output_type": "stream",
     "text": [
      "---\n",
      "{'error': 'bad input: [CORRECTION: The time of the pre-bid is 9:30am  A '\n",
      "          'Pre-Solicitation Conference for the above mentioned commodity is '\n",
      "          'scheduled for January 5, 2015 at 9:30am at 1 Centre Street, New '\n",
      "          'York, NY 10007, 18th floor.  The purpose of this conference is to '\n",
      "          'review proposed specifications for the commodity listed above to '\n",
      "          'ensure a good product and maximum competition. Please make every '\n",
      "          'effort to attend this conference, your participation will assist '\n",
      "          'us in revising the attached specifications so they can be issued '\n",
      "          'as a part of final bid package.  A copy of the pre-solicitation '\n",
      "          'package can be downloaded from the City Record Online site at '\n",
      "          'http://a856-internet.nyc.gov/nycvendoronline/home.asp. Enrollment '\n",
      "          'is free. Please review the documents the before you attend the '\n",
      "          'conference. If you have questions regarding this conference, '\n",
      "          'please contact Joe Vacirca at 212-669-8616 or by email at '\n",
      "          'jvacirca@dcas.nyc.gov ]'}\n"
     ]
    },
    {
     "data": {
      "text/html": [
       "<hr />"
      ],
      "text/plain": [
       "<IPython.core.display.HTML object>"
      ]
     },
     "metadata": {},
     "output_type": "display_data"
    },
    {
     "name": "stdout",
     "output_type": "stream",
     "text": [
      "\n",
      "\n",
      "\n"
     ]
    },
    {
     "data": {
      "text/html": [
       "CORRECTION: See Bid addendum letter of City Record Online dated October 17, 2014.  A copy of the bid can be downloaded from the City Record Online site at http://a856-internet.nyc.gov/nycvendoronline/home.asp. Enrollment is free. Vendors may also request the bid by contacting Vendor Relations via email at dcasdmssbids@dcas.nyc.gov, by telephone at 212-669-8610 or by fax at 212-669-7603. "
      ],
      "text/plain": [
       "<IPython.core.display.HTML object>"
      ]
     },
     "metadata": {},
     "output_type": "display_data"
    },
    {
     "name": "stdout",
     "output_type": "stream",
     "text": [
      "---\n",
      "{'error': 'bad input: [CORRECTION: See Bid addendum letter of City Record '\n",
      "          'Online dated October 17, 2014.  A copy of the bid can be '\n",
      "          'downloaded from the City Record Online site at '\n",
      "          'http://a856-internet.nyc.gov/nycvendoronline/home.asp. Enrollment '\n",
      "          'is free. Vendors may also request the bid by contacting Vendor '\n",
      "          'Relations via email at dcasdmssbids@dcas.nyc.gov, by telephone at '\n",
      "          '212-669-8610 or by fax at 212-669-7603. ]'}\n"
     ]
    },
    {
     "data": {
      "text/html": [
       "<hr />"
      ],
      "text/plain": [
       "<IPython.core.display.HTML object>"
      ]
     },
     "metadata": {},
     "output_type": "display_data"
    },
    {
     "name": "stdout",
     "output_type": "stream",
     "text": [
      "\n",
      "\n",
      "\n"
     ]
    },
    {
     "data": {
      "text/html": [
       "CORRECTION: See attached Addendum #1 dated 12/1/2014. Requirements Contract to provide labor, materials and equipment necessary to perform Electrical Work various Department of Citywide Administrative Services (DCAS) facilities throughout the five (5) boroughs of the City of New York. This procurement is subject to Project Labor Agreement (PLA) entered into between the City and the Building Construction Trades Council of Greater New York (BCTC)Affiliated Local Unions."
      ],
      "text/plain": [
       "<IPython.core.display.HTML object>"
      ]
     },
     "metadata": {},
     "output_type": "display_data"
    },
    {
     "name": "stdout",
     "output_type": "stream",
     "text": [
      "---\n",
      "{'error': 'bad input: [CORRECTION: See attached Addendum #1 dated 12/1/2014. '\n",
      "          'Requirements Contract to provide labor, materials and equipment '\n",
      "          'necessary to perform Electrical Work various Department of '\n",
      "          'Citywide Administrative Services (\\x94DCAS\\x94) facilities '\n",
      "          'throughout the five (5) boroughs of the City of New York. This '\n",
      "          'procurement is subject to Project Labor Agreement (\\x94PLA\\x94) '\n",
      "          'entered into between the City and the Building Construction '\n",
      "          'Trades Council of Greater New York (\\x94BCTC\\x94)Affiliated Local '\n",
      "          'Unions.]'}\n"
     ]
    },
    {
     "data": {
      "text/html": [
       "<hr />"
      ],
      "text/plain": [
       "<IPython.core.display.HTML object>"
      ]
     },
     "metadata": {},
     "output_type": "display_data"
    },
    {
     "name": "stdout",
     "output_type": "stream",
     "text": [
      "\n",
      "\n",
      "\n"
     ]
    },
    {
     "data": {
      "text/html": [
       "CORRECTION: See bid addendum letter #1 of City Record Online dated 11/18/2014.  A copy of the bid can be downloaded from the City Record Online site at http://a856-internet.nyc.gov/nycvendoronline/home.asp. Enrollment is free. Vendors may also request the bid by contacting Vendor Relations via email at dcasdmssbids@dcas.nyc.gov, by telephone at 212-669-8610 or by fax at 212-669-7603. "
      ],
      "text/plain": [
       "<IPython.core.display.HTML object>"
      ]
     },
     "metadata": {},
     "output_type": "display_data"
    },
    {
     "name": "stdout",
     "output_type": "stream",
     "text": [
      "---\n",
      "{'error': 'bad input: [CORRECTION: See bid addendum letter #1 of City Record '\n",
      "          'Online dated 11/18/2014.  A copy of the bid can be downloaded '\n",
      "          'from the City Record Online site at '\n",
      "          'http://a856-internet.nyc.gov/nycvendoronline/home.asp. Enrollment '\n",
      "          'is free. Vendors may also request the bid by contacting Vendor '\n",
      "          'Relations via email at dcasdmssbids@dcas.nyc.gov, by telephone at '\n",
      "          '212-669-8610 or by fax at 212-669-7603. ]'}\n"
     ]
    },
    {
     "data": {
      "text/html": [
       "<hr />"
      ],
      "text/plain": [
       "<IPython.core.display.HTML object>"
      ]
     },
     "metadata": {},
     "output_type": "display_data"
    },
    {
     "name": "stdout",
     "output_type": "stream",
     "text": [
      "\n",
      "\n",
      "\n"
     ]
    },
    {
     "data": {
      "text/html": [
       "CORRECTION: See Bid Addendum Letter of City Record Online Dated 10/27/2014 A copy of the bid can be downloaded from the City Record Online site at http://a856-internet.nyc.gov/nycvendoronline/home.asp. Enrollment is free. Vendors may also request the bid by contacting Vendor Relations via email at dcasdmssbids@dcas.nyc.gov, by telephone at 212-669-8610 or by fax at 212-669-7603. "
      ],
      "text/plain": [
       "<IPython.core.display.HTML object>"
      ]
     },
     "metadata": {},
     "output_type": "display_data"
    },
    {
     "name": "stdout",
     "output_type": "stream",
     "text": [
      "---\n",
      "{'error': 'bad input: [CORRECTION: See Bid Addendum Letter of City Record '\n",
      "          'Online Dated 10/27/2014 A copy of the bid can be downloaded from '\n",
      "          'the City Record Online site at '\n",
      "          'http://a856-internet.nyc.gov/nycvendoronline/home.asp. Enrollment '\n",
      "          'is free. Vendors may also request the bid by contacting Vendor '\n",
      "          'Relations via email at dcasdmssbids@dcas.nyc.gov, by telephone at '\n",
      "          '212-669-8610 or by fax at 212-669-7603. ]'}\n"
     ]
    },
    {
     "data": {
      "text/html": [
       "<hr />"
      ],
      "text/plain": [
       "<IPython.core.display.HTML object>"
      ]
     },
     "metadata": {},
     "output_type": "display_data"
    },
    {
     "name": "stdout",
     "output_type": "stream",
     "text": [
      "\n",
      "\n",
      "\n"
     ]
    },
    {
     "data": {
      "text/html": [
       "HIGH AND LOW PRESSURE BOILER TESTING, REPAIR, MAINTENANCE AND RELATED WORK AT VARIOUS FACILITIES THROUGHOUT THE FIVE (5) BOROUGHS OF THE CITY OF NEW YORK."
      ],
      "text/plain": [
       "<IPython.core.display.HTML object>"
      ]
     },
     "metadata": {},
     "output_type": "display_data"
    },
    {
     "name": "stdout",
     "output_type": "stream",
     "text": [
      "---\n",
      "{'error': 'bad input: [HIGH AND LOW PRESSURE BOILER TESTING, REPAIR, '\n",
      "          'MAINTENANCE AND RELATED WORK AT VARIOUS FACILITIES THROUGHOUT THE '\n",
      "          'FIVE (5) BOROUGHS OF THE CITY OF NEW YORK.]'}\n"
     ]
    },
    {
     "data": {
      "text/html": [
       "<hr />"
      ],
      "text/plain": [
       "<IPython.core.display.HTML object>"
      ]
     },
     "metadata": {},
     "output_type": "display_data"
    },
    {
     "name": "stdout",
     "output_type": "stream",
     "text": [
      "\n",
      "\n",
      "\n"
     ]
    },
    {
     "data": {
      "text/html": [
       "CORRECTION: Addendum #1 has been issued to this solicitation (see attached).  The addendum can be downloaded for free from the City Record On-Line(CROL)at:http://a856-internet.nyc.gov/nycvendoronline/home.asp   "
      ],
      "text/plain": [
       "<IPython.core.display.HTML object>"
      ]
     },
     "metadata": {},
     "output_type": "display_data"
    },
    {
     "name": "stdout",
     "output_type": "stream",
     "text": [
      "---\n",
      "{'error': 'bad input: [CORRECTION: Addendum #1 has been issued to this '\n",
      "          'solicitation (see attached).  The addendum can be downloaded for '\n",
      "          'free from the City Record '\n",
      "          'On-Line(CROL)at:http://a856-internet.nyc.gov/nycvendoronline/home.asp   '\n",
      "          ']'}\n"
     ]
    },
    {
     "data": {
      "text/html": [
       "<hr />"
      ],
      "text/plain": [
       "<IPython.core.display.HTML object>"
      ]
     },
     "metadata": {},
     "output_type": "display_data"
    },
    {
     "name": "stdout",
     "output_type": "stream",
     "text": [
      "\n",
      "\n",
      "\n"
     ]
    },
    {
     "data": {
      "text/html": [
       "CORRECTION: The C Pages have been revised A copy of the bid can be downloaded from City Record Online at http://a856-internet.nyc.gov/nycvendoronline/home.asp . Enrollment is free. Vendor may also request the bid by contacting Vendor Relations via email at dcasdmssbids@dcas.nyc.gov, by telephone at 212-669-8610."
      ],
      "text/plain": [
       "<IPython.core.display.HTML object>"
      ]
     },
     "metadata": {},
     "output_type": "display_data"
    },
    {
     "name": "stdout",
     "output_type": "stream",
     "text": [
      "---\n",
      "{'error': 'bad input: [CORRECTION: The C Pages have been revised A copy of '\n",
      "          'the bid can be downloaded from City Record Online at '\n",
      "          'http://a856-internet.nyc.gov/nycvendoronline/home.asp . '\n",
      "          'Enrollment is free. Vendor may also request the bid by contacting '\n",
      "          'Vendor Relations via email at dcasdmssbids@dcas.nyc.gov, by '\n",
      "          'telephone at 212-669-8610.]'}\n"
     ]
    },
    {
     "data": {
      "text/html": [
       "<hr />"
      ],
      "text/plain": [
       "<IPython.core.display.HTML object>"
      ]
     },
     "metadata": {},
     "output_type": "display_data"
    },
    {
     "name": "stdout",
     "output_type": "stream",
     "text": [
      "\n",
      "\n",
      "\n"
     ]
    },
    {
     "data": {
      "text/html": [
       "CORRECTION: Specifications are attached. BID EXTENSION: Bid opening date is postponed to 10/27/2014.  A copy of the bid can be downloaded from City Record Online at http://a856-internet.nyc.gov/nycvendoronline/home.asp . Enrollment is free. Vendor may also request the bid by contacting Vendor Relations via email at dcasdmssbids@dcas.nyc.gov, by telephone at 212-669-8610."
      ],
      "text/plain": [
       "<IPython.core.display.HTML object>"
      ]
     },
     "metadata": {},
     "output_type": "display_data"
    },
    {
     "name": "stdout",
     "output_type": "stream",
     "text": [
      "---\n",
      "{'error': 'bad input: [CORRECTION: Specifications are attached. BID '\n",
      "          'EXTENSION: Bid opening date is postponed to 10/27/2014.  A copy '\n",
      "          'of the bid can be downloaded from City Record Online at '\n",
      "          'http://a856-internet.nyc.gov/nycvendoronline/home.asp . '\n",
      "          'Enrollment is free. Vendor may also request the bid by contacting '\n",
      "          'Vendor Relations via email at dcasdmssbids@dcas.nyc.gov, by '\n",
      "          'telephone at 212-669-8610.]'}\n"
     ]
    },
    {
     "data": {
      "text/html": [
       "<hr />"
      ],
      "text/plain": [
       "<IPython.core.display.HTML object>"
      ]
     },
     "metadata": {},
     "output_type": "display_data"
    },
    {
     "name": "stdout",
     "output_type": "stream",
     "text": [
      "\n",
      "\n",
      "\n"
     ]
    },
    {
     "data": {
      "text/html": [
       "CORRECTION: See Bid Addendum Letter of City Record Online dated 10/29/2014 attached. A copy of the bid can be downloaded from the City Record Online site at http://a856-internet.nyc.gov/nycvendoronline/home.asp. Enrollment is free. Vendors may also request the bid by contacting Vendor Relations via email at dcasdmssbids@dcas.nyc.gov, by telephone at 212-669-8610 or by fax at 212-669-7603."
      ],
      "text/plain": [
       "<IPython.core.display.HTML object>"
      ]
     },
     "metadata": {},
     "output_type": "display_data"
    },
    {
     "name": "stdout",
     "output_type": "stream",
     "text": [
      "---\n",
      "{'error': 'bad input: [CORRECTION: See Bid Addendum Letter of City Record '\n",
      "          'Online dated 10/29/2014 attached. A copy of the bid can be '\n",
      "          'downloaded from the City Record Online site at '\n",
      "          'http://a856-internet.nyc.gov/nycvendoronline/home.asp. Enrollment '\n",
      "          'is free. Vendors may also request the bid by contacting Vendor '\n",
      "          'Relations via email at dcasdmssbids@dcas.nyc.gov, by telephone at '\n",
      "          '212-669-8610 or by fax at 212-669-7603.]'}\n"
     ]
    },
    {
     "data": {
      "text/html": [
       "<hr />"
      ],
      "text/plain": [
       "<IPython.core.display.HTML object>"
      ]
     },
     "metadata": {},
     "output_type": "display_data"
    },
    {
     "name": "stdout",
     "output_type": "stream",
     "text": [
      "\n",
      "\n",
      "\n"
     ]
    },
    {
     "data": {
      "text/html": [
       "CORRECTION: See bid addendum letter of City Record Online dated 11/10/2014. A copy of the bid can be downloaded from the City Record Online site at http://a856-internet.nyc.gov/nycvendoronline/home.asp. Enrollment is free. Vendors may also request the bid by contacting Vendor Relations via email at dcasdmssbids@dcas.nyc.gov, by telephone at 212-669-8610 or by fax at 212-669-7603. "
      ],
      "text/plain": [
       "<IPython.core.display.HTML object>"
      ]
     },
     "metadata": {},
     "output_type": "display_data"
    },
    {
     "name": "stdout",
     "output_type": "stream",
     "text": [
      "---\n",
      "{'error': 'bad input: [CORRECTION: See bid addendum letter of City Record '\n",
      "          'Online dated 11/10/2014. A copy of the bid can be downloaded from '\n",
      "          'the City Record Online site at '\n",
      "          'http://a856-internet.nyc.gov/nycvendoronline/home.asp. Enrollment '\n",
      "          'is free. Vendors may also request the bid by contacting Vendor '\n",
      "          'Relations via email at dcasdmssbids@dcas.nyc.gov, by telephone at '\n",
      "          '212-669-8610 or by fax at 212-669-7603. ]'}\n"
     ]
    },
    {
     "data": {
      "text/html": [
       "<hr />"
      ],
      "text/plain": [
       "<IPython.core.display.HTML object>"
      ]
     },
     "metadata": {},
     "output_type": "display_data"
    },
    {
     "name": "stdout",
     "output_type": "stream",
     "text": [
      "\n",
      "\n",
      "\n"
     ]
    },
    {
     "data": {
      "text/html": [
       "CORRECTION: addendum attached  A copy of the bid can be downloaded from the City Record Online site at http://a856-internet.nyc.gov/nycvendoronline/home.asp. Enrollment is free. Vendors may also request the bid by contacting Vendor Relations via email at dcasdmssbids@dcas.nyc.gov, by telephone at 212-669-8610 or by fax at 212-669-7603."
      ],
      "text/plain": [
       "<IPython.core.display.HTML object>"
      ]
     },
     "metadata": {},
     "output_type": "display_data"
    },
    {
     "name": "stdout",
     "output_type": "stream",
     "text": [
      "---\n",
      "{'error': 'bad input: [CORRECTION: addendum attached  A copy of the bid can '\n",
      "          'be downloaded from the City Record Online site at '\n",
      "          'http://a856-internet.nyc.gov/nycvendoronline/home.asp. Enrollment '\n",
      "          'is free. Vendors may also request the bid by contacting Vendor '\n",
      "          'Relations via email at dcasdmssbids@dcas.nyc.gov, by telephone at '\n",
      "          '212-669-8610 or by fax at 212-669-7603.]'}\n"
     ]
    },
    {
     "data": {
      "text/html": [
       "<hr />"
      ],
      "text/plain": [
       "<IPython.core.display.HTML object>"
      ]
     },
     "metadata": {},
     "output_type": "display_data"
    },
    {
     "name": "stdout",
     "output_type": "stream",
     "text": [
      "\n",
      "\n",
      "\n"
     ]
    },
    {
     "data": {
      "text/html": [
       "CORRECTION: Please see attached addendum 2 A copy of the bid can be downloaded from the City Record Online site at http://a856-internet.nyc.gov/nycvendoronline/home.asp. Enrollment is free. Vendors may also request the bid by contacting Vendor Relations via email at dcasdmssbids@dcas.nyc.gov, by telephone at 212-669-8610 or by fax at 212-669-7603."
      ],
      "text/plain": [
       "<IPython.core.display.HTML object>"
      ]
     },
     "metadata": {},
     "output_type": "display_data"
    },
    {
     "name": "stdout",
     "output_type": "stream",
     "text": [
      "---\n",
      "{'error': 'bad input: [CORRECTION: Please see attached addendum 2 A copy of '\n",
      "          'the bid can be downloaded from the City Record Online site at '\n",
      "          'http://a856-internet.nyc.gov/nycvendoronline/home.asp. Enrollment '\n",
      "          'is free. Vendors may also request the bid by contacting Vendor '\n",
      "          'Relations via email at dcasdmssbids@dcas.nyc.gov, by telephone at '\n",
      "          '212-669-8610 or by fax at 212-669-7603.]'}\n"
     ]
    },
    {
     "data": {
      "text/html": [
       "<hr />"
      ],
      "text/plain": [
       "<IPython.core.display.HTML object>"
      ]
     },
     "metadata": {},
     "output_type": "display_data"
    },
    {
     "name": "stdout",
     "output_type": "stream",
     "text": [
      "\n",
      "\n",
      "\n"
     ]
    },
    {
     "data": {
      "text/html": [
       "CORRECTION:  addendum 2 attached  A copy of the bid can be downloaded from the City Record Online site at http://a856-internet.nyc.gov/nycvendoronline/home.asp. Enrollment is free. Vendors may also request the bid by contacting Vendor Relations via email at dcasdmssbids@dcas.nyc.gov, by telephone at 212-669-8610 or by fax at 212-669-7603."
      ],
      "text/plain": [
       "<IPython.core.display.HTML object>"
      ]
     },
     "metadata": {},
     "output_type": "display_data"
    },
    {
     "name": "stdout",
     "output_type": "stream",
     "text": [
      "---\n",
      "{'error': 'bad input: [CORRECTION:  addendum 2 attached  A copy of the bid '\n",
      "          'can be downloaded from the City Record Online site at '\n",
      "          'http://a856-internet.nyc.gov/nycvendoronline/home.asp. Enrollment '\n",
      "          'is free. Vendors may also request the bid by contacting Vendor '\n",
      "          'Relations via email at dcasdmssbids@dcas.nyc.gov, by telephone at '\n",
      "          '212-669-8610 or by fax at 212-669-7603.]'}\n"
     ]
    },
    {
     "data": {
      "text/html": [
       "<hr />"
      ],
      "text/plain": [
       "<IPython.core.display.HTML object>"
      ]
     },
     "metadata": {},
     "output_type": "display_data"
    },
    {
     "name": "stdout",
     "output_type": "stream",
     "text": [
      "\n",
      "\n",
      "\n"
     ]
    },
    {
     "data": {
      "text/html": [
       "CORRECTION:  please see attached addendum #2  A copy of the bid can be downloaded from the City Record Online site at http://a856-internet.nyc.gov/nycvendoronline/home.asp. Enrollment is free. Vendors may also request the bid by contacting Vendor Relations via email at dcasdmssbids@dcas.nyc.gov, by telephone at 212-669-8610 or by fax at 212-669-7603."
      ],
      "text/plain": [
       "<IPython.core.display.HTML object>"
      ]
     },
     "metadata": {},
     "output_type": "display_data"
    },
    {
     "name": "stdout",
     "output_type": "stream",
     "text": [
      "---\n",
      "{'error': 'bad input: [CORRECTION:  please see attached addendum #2  A copy '\n",
      "          'of the bid can be downloaded from the City Record Online site at '\n",
      "          'http://a856-internet.nyc.gov/nycvendoronline/home.asp. Enrollment '\n",
      "          'is free. Vendors may also request the bid by contacting Vendor '\n",
      "          'Relations via email at dcasdmssbids@dcas.nyc.gov, by telephone at '\n",
      "          '212-669-8610 or by fax at 212-669-7603.]'}\n"
     ]
    },
    {
     "data": {
      "text/html": [
       "<hr />"
      ],
      "text/plain": [
       "<IPython.core.display.HTML object>"
      ]
     },
     "metadata": {},
     "output_type": "display_data"
    },
    {
     "name": "stdout",
     "output_type": "stream",
     "text": [
      "\n",
      "\n",
      "\n"
     ]
    },
    {
     "data": {
      "text/html": [
       "CORRECTION: A copy of the bid can be downloaded from the City Record Online site at http://a856-internet.nyc.gov/nycvendoronline/home.asp.  Enrollment is free.  Vendors may also request the bid by contacting Vendor Relations via email at dcasdmssbids@dcas.nyc.gov, by telephone at 212-669-8610 or by fax at 212-669-7603.  A pre-bid conference will be held on October 1, 2014 at 2:00 PM at One Centre Street, 18th Floor, Pre-Bid Room, New York, NY 10007. The due date for submitting questions via email to jmei@dcas.nyc.gov is October 23, 2014. "
      ],
      "text/plain": [
       "<IPython.core.display.HTML object>"
      ]
     },
     "metadata": {},
     "output_type": "display_data"
    },
    {
     "name": "stdout",
     "output_type": "stream",
     "text": [
      "---\n",
      "{'error': 'bad input: [CORRECTION: A copy of the bid can be downloaded from '\n",
      "          'the City Record Online site at '\n",
      "          'http://a856-internet.nyc.gov/nycvendoronline/home.asp.  '\n",
      "          'Enrollment is free.  Vendors may also request the bid by '\n",
      "          'contacting Vendor Relations via email at '\n",
      "          'dcasdmssbids@dcas.nyc.gov, by telephone at 212-669-8610 or by fax '\n",
      "          'at 212-669-7603.  A pre-bid conference will be held on October 1, '\n",
      "          '2014 at 2:00 PM at One Centre Street, 18th Floor, Pre-Bid Room, '\n",
      "          'New York, NY 10007. The due date for submitting questions via '\n",
      "          'email to jmei@dcas.nyc.gov is October 23, 2014. ]'}\n"
     ]
    },
    {
     "data": {
      "text/html": [
       "<hr />"
      ],
      "text/plain": [
       "<IPython.core.display.HTML object>"
      ]
     },
     "metadata": {},
     "output_type": "display_data"
    },
    {
     "name": "stdout",
     "output_type": "stream",
     "text": [
      "\n",
      "\n",
      "\n"
     ]
    },
    {
     "data": {
      "text/html": [
       "A copy of the bid can be downloaded from the City Record Online site at http://a856-internet.nyc.gov/nycvendoronline/home.asp. Enrollment is free. Vendors may also request the bid by contacting Vendor Relations via email at dcasdmssbids@dcas.nyc.gov, by telephone at 212-669-8610 or by fax at 212-669-7603."
      ],
      "text/plain": [
       "<IPython.core.display.HTML object>"
      ]
     },
     "metadata": {},
     "output_type": "display_data"
    },
    {
     "name": "stdout",
     "output_type": "stream",
     "text": [
      "---\n",
      "{'error': 'bad input: [A copy of the bid can be downloaded from the City '\n",
      "          'Record Online site at '\n",
      "          'http://a856-internet.nyc.gov/nycvendoronline/home.asp. Enrollment '\n",
      "          'is free. Vendors may also request the bid by contacting Vendor '\n",
      "          'Relations via email at dcasdmssbids@dcas.nyc.gov, by telephone at '\n",
      "          '212-669-8610 or by fax at 212-669-7603.]'}\n"
     ]
    },
    {
     "data": {
      "text/html": [
       "<hr />"
      ],
      "text/plain": [
       "<IPython.core.display.HTML object>"
      ]
     },
     "metadata": {},
     "output_type": "display_data"
    },
    {
     "name": "stdout",
     "output_type": "stream",
     "text": [
      "\n",
      "\n",
      "\n"
     ]
    },
    {
     "data": {
      "text/html": [
       "A copy of the bid can be downloaded from the City Record Online site at http://a856-internet.nyc.gov/nycvendoronline/home.asp. Enrollment is free. Vendors may also request the bid by contacting Vendor Relations via email at dcasdmssbids@dcas.nyc.gov, by telephone at 212-669-8610 or by fax at 212-669-7603."
      ],
      "text/plain": [
       "<IPython.core.display.HTML object>"
      ]
     },
     "metadata": {},
     "output_type": "display_data"
    },
    {
     "name": "stdout",
     "output_type": "stream",
     "text": [
      "---\n",
      "{'error': 'bad input: [A copy of the bid can be downloaded from the City '\n",
      "          'Record Online site at '\n",
      "          'http://a856-internet.nyc.gov/nycvendoronline/home.asp. Enrollment '\n",
      "          'is free. Vendors may also request the bid by contacting Vendor '\n",
      "          'Relations via email at dcasdmssbids@dcas.nyc.gov, by telephone at '\n",
      "          '212-669-8610 or by fax at 212-669-7603.]'}\n"
     ]
    },
    {
     "data": {
      "text/html": [
       "<hr />"
      ],
      "text/plain": [
       "<IPython.core.display.HTML object>"
      ]
     },
     "metadata": {},
     "output_type": "display_data"
    },
    {
     "name": "stdout",
     "output_type": "stream",
     "text": [
      "\n",
      "\n",
      "\n"
     ]
    },
    {
     "data": {
      "text/html": [
       "A copy of the bid can be downloaded from the City Record Online site at http://a856-internet.nyc.gov/nycvendoronline/home.asp. Enrollment is free. Vendors may also request the bid by contacting Vendor Relations via email at dcasdmssbids@dcas.nyc.gov, by telephone at 212-669-8610 or by fax at 212-669-7603."
      ],
      "text/plain": [
       "<IPython.core.display.HTML object>"
      ]
     },
     "metadata": {},
     "output_type": "display_data"
    },
    {
     "name": "stdout",
     "output_type": "stream",
     "text": [
      "---\n",
      "{'error': 'bad input: [A copy of the bid can be downloaded from the City '\n",
      "          'Record Online site at '\n",
      "          'http://a856-internet.nyc.gov/nycvendoronline/home.asp. Enrollment '\n",
      "          'is free. Vendors may also request the bid by contacting Vendor '\n",
      "          'Relations via email at dcasdmssbids@dcas.nyc.gov, by telephone at '\n",
      "          '212-669-8610 or by fax at 212-669-7603.]'}\n"
     ]
    },
    {
     "data": {
      "text/html": [
       "<hr />"
      ],
      "text/plain": [
       "<IPython.core.display.HTML object>"
      ]
     },
     "metadata": {},
     "output_type": "display_data"
    },
    {
     "name": "stdout",
     "output_type": "stream",
     "text": [
      "\n",
      "\n",
      "\n"
     ]
    },
    {
     "data": {
      "text/html": [
       "A copy of the bid can be downloaded from the City Record Online site at http://a856-internet.nyc.gov/nycvendoronline/home.asp.  Enrollment is free.  Vendors may request the bid by contacting Vendor Relations via email at dcasdmssbids@dcas.nyc.gov, by telephone at (212) 669-8610 or by fax at (212) 669-7603."
      ],
      "text/plain": [
       "<IPython.core.display.HTML object>"
      ]
     },
     "metadata": {},
     "output_type": "display_data"
    },
    {
     "name": "stdout",
     "output_type": "stream",
     "text": [
      "---\n",
      "{'error': 'bad input: [A copy of the bid can be downloaded from the City '\n",
      "          'Record Online site at '\n",
      "          'http://a856-internet.nyc.gov/nycvendoronline/home.asp.  '\n",
      "          'Enrollment is free.  Vendors may request the bid by contacting '\n",
      "          'Vendor Relations via email at dcasdmssbids@dcas.nyc.gov, by '\n",
      "          'telephone at (212) 669-8610 or by fax at (212) 669-7603.]'}\n"
     ]
    },
    {
     "data": {
      "text/html": [
       "<hr />"
      ],
      "text/plain": [
       "<IPython.core.display.HTML object>"
      ]
     },
     "metadata": {},
     "output_type": "display_data"
    },
    {
     "name": "stdout",
     "output_type": "stream",
     "text": [
      "\n",
      "\n",
      "\n"
     ]
    },
    {
     "data": {
      "text/html": [
       "A copy of the bid can be downloaded from the City Record Online site at http://a856-internet.nyc.gov/nycvendoronline/home.asp. Enrollment is free. Vendors may also request the bid by contacting Vendor Relations via email at dcasdmssbids@dcas.nyc.gov, by telephone at 212-669-8610 or by fax at 212-669-7603."
      ],
      "text/plain": [
       "<IPython.core.display.HTML object>"
      ]
     },
     "metadata": {},
     "output_type": "display_data"
    },
    {
     "name": "stdout",
     "output_type": "stream",
     "text": [
      "---\n",
      "{'error': 'bad input: [A copy of the bid can be downloaded from the City '\n",
      "          'Record Online site at '\n",
      "          'http://a856-internet.nyc.gov/nycvendoronline/home.asp. Enrollment '\n",
      "          'is free. Vendors may also request the bid by contacting Vendor '\n",
      "          'Relations via email at dcasdmssbids@dcas.nyc.gov, by telephone at '\n",
      "          '212-669-8610 or by fax at 212-669-7603.]'}\n"
     ]
    },
    {
     "data": {
      "text/html": [
       "<hr />"
      ],
      "text/plain": [
       "<IPython.core.display.HTML object>"
      ]
     },
     "metadata": {},
     "output_type": "display_data"
    },
    {
     "name": "stdout",
     "output_type": "stream",
     "text": [
      "\n",
      "\n",
      "\n"
     ]
    },
    {
     "data": {
      "text/html": [
       "A copy of the bid can be downloaded from the City Record Online site at http://a856-internet.nyc.gov/nycvendoronline/home.asp. Enrollment is free. Vendors may also request the bid by contacting Vendor Relations via email at dcasdmssbids@dcas.nyc.gov, by telephone at 212-669-8610 or by fax at 212-669-7603."
      ],
      "text/plain": [
       "<IPython.core.display.HTML object>"
      ]
     },
     "metadata": {},
     "output_type": "display_data"
    },
    {
     "name": "stdout",
     "output_type": "stream",
     "text": [
      "---\n",
      "{'error': 'bad input: [A copy of the bid can be downloaded from the City '\n",
      "          'Record Online site at '\n",
      "          'http://a856-internet.nyc.gov/nycvendoronline/home.asp. Enrollment '\n",
      "          'is free. Vendors may also request the bid by contacting Vendor '\n",
      "          'Relations via email at dcasdmssbids@dcas.nyc.gov, by telephone at '\n",
      "          '212-669-8610 or by fax at 212-669-7603.]'}\n"
     ]
    },
    {
     "data": {
      "text/html": [
       "<hr />"
      ],
      "text/plain": [
       "<IPython.core.display.HTML object>"
      ]
     },
     "metadata": {},
     "output_type": "display_data"
    },
    {
     "name": "stdout",
     "output_type": "stream",
     "text": [
      "\n",
      "\n",
      "\n"
     ]
    },
    {
     "data": {
      "text/html": [
       "A copy of the bid can be downloaded from the City Record Online site at http://a856-internet.nyc.gov/nycvendoronline/home.asp. Enrollment is free. Vendors may also request the bid by contacting Vendor Relations via email at dcasdmssbids@dcas.nyc.gov, by telephone at 212-669-8610 or by fax at 212-669-7603."
      ],
      "text/plain": [
       "<IPython.core.display.HTML object>"
      ]
     },
     "metadata": {},
     "output_type": "display_data"
    },
    {
     "name": "stdout",
     "output_type": "stream",
     "text": [
      "---\n",
      "{'error': 'bad input: [A copy of the bid can be downloaded from the City '\n",
      "          'Record Online site at '\n",
      "          'http://a856-internet.nyc.gov/nycvendoronline/home.asp. Enrollment '\n",
      "          'is free. Vendors may also request the bid by contacting Vendor '\n",
      "          'Relations via email at dcasdmssbids@dcas.nyc.gov, by telephone at '\n",
      "          '212-669-8610 or by fax at 212-669-7603.]'}\n"
     ]
    },
    {
     "data": {
      "text/html": [
       "<hr />"
      ],
      "text/plain": [
       "<IPython.core.display.HTML object>"
      ]
     },
     "metadata": {},
     "output_type": "display_data"
    },
    {
     "name": "stdout",
     "output_type": "stream",
     "text": [
      "\n",
      "\n",
      "\n"
     ]
    },
    {
     "data": {
      "text/html": [
       "A copy of the bid can be downloaded from the City Record Online site at http://a856-internet.nyc.gov/nycvendoronline/home.asp. Enrollment is free. Vendors may also request the bid by contacting Vendor Relations via email at dcasdmssbids@dcas.nyc.gov, by telephone at 212-669-8610 or by fax at 212-669-7603."
      ],
      "text/plain": [
       "<IPython.core.display.HTML object>"
      ]
     },
     "metadata": {},
     "output_type": "display_data"
    },
    {
     "name": "stdout",
     "output_type": "stream",
     "text": [
      "---\n",
      "{'error': 'bad input: [A copy of the bid can be downloaded from the City '\n",
      "          'Record Online site at '\n",
      "          'http://a856-internet.nyc.gov/nycvendoronline/home.asp. Enrollment '\n",
      "          'is free. Vendors may also request the bid by contacting Vendor '\n",
      "          'Relations via email at dcasdmssbids@dcas.nyc.gov, by telephone at '\n",
      "          '212-669-8610 or by fax at 212-669-7603.]'}\n"
     ]
    },
    {
     "data": {
      "text/html": [
       "<hr />"
      ],
      "text/plain": [
       "<IPython.core.display.HTML object>"
      ]
     },
     "metadata": {},
     "output_type": "display_data"
    },
    {
     "name": "stdout",
     "output_type": "stream",
     "text": [
      "\n",
      "\n",
      "\n"
     ]
    },
    {
     "data": {
      "text/html": [
       "A copy of the bid can be downloaded from the City Record Online site at http://a856-internet.nyc.gov/nycvendoronline/home.asp. Enrollment is free. Vendors may also request the bid by contacting Vendor Relations via email at dcasdmssbids@dcas.nyc.gov, by telephone at 212-669-8610 or by fax at 212-669-7603.  "
      ],
      "text/plain": [
       "<IPython.core.display.HTML object>"
      ]
     },
     "metadata": {},
     "output_type": "display_data"
    },
    {
     "name": "stdout",
     "output_type": "stream",
     "text": [
      "---\n",
      "{'error': 'bad input: [A copy of the bid can be downloaded from the City '\n",
      "          'Record Online site at '\n",
      "          'http://a856-internet.nyc.gov/nycvendoronline/home.asp. Enrollment '\n",
      "          'is free. Vendors may also request the bid by contacting Vendor '\n",
      "          'Relations via email at dcasdmssbids@dcas.nyc.gov, by telephone at '\n",
      "          '212-669-8610 or by fax at 212-669-7603.  ]'}\n"
     ]
    },
    {
     "data": {
      "text/html": [
       "<hr />"
      ],
      "text/plain": [
       "<IPython.core.display.HTML object>"
      ]
     },
     "metadata": {},
     "output_type": "display_data"
    },
    {
     "name": "stdout",
     "output_type": "stream",
     "text": [
      "\n",
      "\n",
      "\n"
     ]
    },
    {
     "data": {
      "text/html": [
       "A copy of the bid can be downloaded from the City Record Online site at http://a856-internet.nyc.gov/nycvendoronline/home.asp. Enrollment is free. Vendors may also request the bid by contacting Vendor Relations via email at dcasdmssbids@dcas.nyc.gov, by telephone at 212-669-8610 or by fax at 212-669-7603.  "
      ],
      "text/plain": [
       "<IPython.core.display.HTML object>"
      ]
     },
     "metadata": {},
     "output_type": "display_data"
    },
    {
     "name": "stdout",
     "output_type": "stream",
     "text": [
      "---\n",
      "{'error': 'bad input: [A copy of the bid can be downloaded from the City '\n",
      "          'Record Online site at '\n",
      "          'http://a856-internet.nyc.gov/nycvendoronline/home.asp. Enrollment '\n",
      "          'is free. Vendors may also request the bid by contacting Vendor '\n",
      "          'Relations via email at dcasdmssbids@dcas.nyc.gov, by telephone at '\n",
      "          '212-669-8610 or by fax at 212-669-7603.  ]'}\n"
     ]
    },
    {
     "data": {
      "text/html": [
       "<hr />"
      ],
      "text/plain": [
       "<IPython.core.display.HTML object>"
      ]
     },
     "metadata": {},
     "output_type": "display_data"
    },
    {
     "name": "stdout",
     "output_type": "stream",
     "text": [
      "\n",
      "\n",
      "\n"
     ]
    },
    {
     "data": {
      "text/html": [
       "A copy of the bid can be downloaded from the City Record Online site at http://a856-internet.nyc.gov/nycvendoronline/home.asp. Enrollment is free. Vendors may also request the bid by contacting Vendor Relations via email at dcasdmssbids@dcas.nyc.gov, by telephone at 212-669-8610 or by fax at 212-669-7603."
      ],
      "text/plain": [
       "<IPython.core.display.HTML object>"
      ]
     },
     "metadata": {},
     "output_type": "display_data"
    },
    {
     "name": "stdout",
     "output_type": "stream",
     "text": [
      "---\n",
      "{'error': 'bad input: [A copy of the bid can be downloaded from the City '\n",
      "          'Record Online site at '\n",
      "          'http://a856-internet.nyc.gov/nycvendoronline/home.asp. Enrollment '\n",
      "          'is free. Vendors may also request the bid by contacting Vendor '\n",
      "          'Relations via email at dcasdmssbids@dcas.nyc.gov, by telephone at '\n",
      "          '212-669-8610 or by fax at 212-669-7603.]'}\n"
     ]
    },
    {
     "data": {
      "text/html": [
       "<hr />"
      ],
      "text/plain": [
       "<IPython.core.display.HTML object>"
      ]
     },
     "metadata": {},
     "output_type": "display_data"
    },
    {
     "name": "stdout",
     "output_type": "stream",
     "text": [
      "\n",
      "\n",
      "\n"
     ]
    },
    {
     "data": {
      "text/html": [
       "A copy of the bid can be downloaded from the City Record Online site at http://a856-internet.nyc.gov/nycvendoronline/home.asp. Enrollment is free. Vendors may also request the bid by contacting Vendor Relations via email at dcasdmssbids@dcas.nyc.gov, by telephone at 212-669-8610 or by fax at 212-669-7603."
      ],
      "text/plain": [
       "<IPython.core.display.HTML object>"
      ]
     },
     "metadata": {},
     "output_type": "display_data"
    },
    {
     "name": "stdout",
     "output_type": "stream",
     "text": [
      "---\n",
      "{'error': 'bad input: [A copy of the bid can be downloaded from the City '\n",
      "          'Record Online site at '\n",
      "          'http://a856-internet.nyc.gov/nycvendoronline/home.asp. Enrollment '\n",
      "          'is free. Vendors may also request the bid by contacting Vendor '\n",
      "          'Relations via email at dcasdmssbids@dcas.nyc.gov, by telephone at '\n",
      "          '212-669-8610 or by fax at 212-669-7603.]'}\n"
     ]
    },
    {
     "data": {
      "text/html": [
       "<hr />"
      ],
      "text/plain": [
       "<IPython.core.display.HTML object>"
      ]
     },
     "metadata": {},
     "output_type": "display_data"
    },
    {
     "name": "stdout",
     "output_type": "stream",
     "text": [
      "\n",
      "\n",
      "\n"
     ]
    },
    {
     "data": {
      "text/html": [
       "A copy of the bid can be downloaded from the City Record Online site at http://a856-internet.nyc.gov/nycvendoronline/home.asp. Enrollment is free. Vendors may also request the bid by contacting Vendor Relations via email at dcasdmssbids@dcas.nyc.gov, by telephone at 212-669-8610 or by fax at 212-669-7603."
      ],
      "text/plain": [
       "<IPython.core.display.HTML object>"
      ]
     },
     "metadata": {},
     "output_type": "display_data"
    },
    {
     "name": "stdout",
     "output_type": "stream",
     "text": [
      "---\n",
      "{'error': 'bad input: [A copy of the bid can be downloaded from the City '\n",
      "          'Record Online site at '\n",
      "          'http://a856-internet.nyc.gov/nycvendoronline/home.asp. Enrollment '\n",
      "          'is free. Vendors may also request the bid by contacting Vendor '\n",
      "          'Relations via email at dcasdmssbids@dcas.nyc.gov, by telephone at '\n",
      "          '212-669-8610 or by fax at 212-669-7603.]'}\n"
     ]
    },
    {
     "data": {
      "text/html": [
       "<hr />"
      ],
      "text/plain": [
       "<IPython.core.display.HTML object>"
      ]
     },
     "metadata": {},
     "output_type": "display_data"
    },
    {
     "name": "stdout",
     "output_type": "stream",
     "text": [
      "\n",
      "\n",
      "\n"
     ]
    },
    {
     "data": {
      "text/html": [
       "A copy of the bid can be downloaded from the City Record Online site at http://a856-internet.nyc.gov/nycvendoronline/home.asp. Enrollment is free. Vendors may also request the bid by contacting Vendor Relations via email at dcasdmssbids@dcas.nyc.gov, by telephone at 212-669-8610 or by fax at 212-669-7603."
      ],
      "text/plain": [
       "<IPython.core.display.HTML object>"
      ]
     },
     "metadata": {},
     "output_type": "display_data"
    },
    {
     "name": "stdout",
     "output_type": "stream",
     "text": [
      "---\n",
      "{'error': 'bad input: [A copy of the bid can be downloaded from the City '\n",
      "          'Record Online site at '\n",
      "          'http://a856-internet.nyc.gov/nycvendoronline/home.asp. Enrollment '\n",
      "          'is free. Vendors may also request the bid by contacting Vendor '\n",
      "          'Relations via email at dcasdmssbids@dcas.nyc.gov, by telephone at '\n",
      "          '212-669-8610 or by fax at 212-669-7603.]'}\n"
     ]
    },
    {
     "data": {
      "text/html": [
       "<hr />"
      ],
      "text/plain": [
       "<IPython.core.display.HTML object>"
      ]
     },
     "metadata": {},
     "output_type": "display_data"
    },
    {
     "name": "stdout",
     "output_type": "stream",
     "text": [
      "\n",
      "\n",
      "\n"
     ]
    },
    {
     "data": {
      "text/html": [
       "A copy of the bid can be downloaded from the City Record Online site at http://a856-internet.nyc.gov/nycvendoronline/home.asp. Enrollment is free. Vendors may also request the bid by contacting Vendor Relations via email at dcasdmssbids@dcas.nyc.gov, by telephone at 212-669-8610 or by fax at 212-669-7603."
      ],
      "text/plain": [
       "<IPython.core.display.HTML object>"
      ]
     },
     "metadata": {},
     "output_type": "display_data"
    },
    {
     "name": "stdout",
     "output_type": "stream",
     "text": [
      "---\n",
      "{'error': 'bad input: [A copy of the bid can be downloaded from the City '\n",
      "          'Record Online site at '\n",
      "          'http://a856-internet.nyc.gov/nycvendoronline/home.asp. Enrollment '\n",
      "          'is free. Vendors may also request the bid by contacting Vendor '\n",
      "          'Relations via email at dcasdmssbids@dcas.nyc.gov, by telephone at '\n",
      "          '212-669-8610 or by fax at 212-669-7603.]'}\n"
     ]
    },
    {
     "data": {
      "text/html": [
       "<hr />"
      ],
      "text/plain": [
       "<IPython.core.display.HTML object>"
      ]
     },
     "metadata": {},
     "output_type": "display_data"
    },
    {
     "name": "stdout",
     "output_type": "stream",
     "text": [
      "\n",
      "\n",
      "\n"
     ]
    },
    {
     "data": {
      "text/html": [
       "A copy of the bid can be downloaded from the City Record Online site at http://a856-internet.nyc.gov/nycvendoronline/home.asp. Enrollment is free. Vendors may also request the bid by contacting Vendor Relations via email at dcasdmssbids@dcas.nyc.gov, by telephone at 212-669-8610 or by fax at 212-669-7603."
      ],
      "text/plain": [
       "<IPython.core.display.HTML object>"
      ]
     },
     "metadata": {},
     "output_type": "display_data"
    },
    {
     "name": "stdout",
     "output_type": "stream",
     "text": [
      "---\n",
      "{'error': 'bad input: [A copy of the bid can be downloaded from the City '\n",
      "          'Record Online site at '\n",
      "          'http://a856-internet.nyc.gov/nycvendoronline/home.asp. Enrollment '\n",
      "          'is free. Vendors may also request the bid by contacting Vendor '\n",
      "          'Relations via email at dcasdmssbids@dcas.nyc.gov, by telephone at '\n",
      "          '212-669-8610 or by fax at 212-669-7603.]'}\n"
     ]
    },
    {
     "data": {
      "text/html": [
       "<hr />"
      ],
      "text/plain": [
       "<IPython.core.display.HTML object>"
      ]
     },
     "metadata": {},
     "output_type": "display_data"
    },
    {
     "name": "stdout",
     "output_type": "stream",
     "text": [
      "\n",
      "\n",
      "\n"
     ]
    },
    {
     "data": {
      "text/html": [
       "A copy of the bid can be downloaded from the City Record Online site at http://a856-internet.nyc.gov/nycvendoronline/home.asp. Enrollment is free. Vendors may also request the bid by contacting Vendor Relations via email at dcasdmssbids@dcas.nyc.gov, by telephone at 212-669-8610 or by fax at 212-669-7603."
      ],
      "text/plain": [
       "<IPython.core.display.HTML object>"
      ]
     },
     "metadata": {},
     "output_type": "display_data"
    },
    {
     "name": "stdout",
     "output_type": "stream",
     "text": [
      "---\n",
      "{'error': 'bad input: [A copy of the bid can be downloaded from the City '\n",
      "          'Record Online site at '\n",
      "          'http://a856-internet.nyc.gov/nycvendoronline/home.asp. Enrollment '\n",
      "          'is free. Vendors may also request the bid by contacting Vendor '\n",
      "          'Relations via email at dcasdmssbids@dcas.nyc.gov, by telephone at '\n",
      "          '212-669-8610 or by fax at 212-669-7603.]'}\n"
     ]
    },
    {
     "data": {
      "text/html": [
       "<hr />"
      ],
      "text/plain": [
       "<IPython.core.display.HTML object>"
      ]
     },
     "metadata": {},
     "output_type": "display_data"
    },
    {
     "name": "stdout",
     "output_type": "stream",
     "text": [
      "\n",
      "\n",
      "\n"
     ]
    },
    {
     "data": {
      "text/html": [
       "A copy of the bid can be downloaded from the City Record Online site at http://a856-internet.nyc.gov/nycvendoronline/home.asp.  Enrollment is free.  Vendors may request the bid by contacting Vendor Relations via email at dcasdmssbids@dcas.nyc.gov, by telephone at (212) 669-8610 or by fax at (212) 669-7603."
      ],
      "text/plain": [
       "<IPython.core.display.HTML object>"
      ]
     },
     "metadata": {},
     "output_type": "display_data"
    },
    {
     "name": "stdout",
     "output_type": "stream",
     "text": [
      "---\n",
      "{'error': 'bad input: [A copy of the bid can be downloaded from the City '\n",
      "          'Record Online site at '\n",
      "          'http://a856-internet.nyc.gov/nycvendoronline/home.asp.  '\n",
      "          'Enrollment is free.  Vendors may request the bid by contacting '\n",
      "          'Vendor Relations via email at dcasdmssbids@dcas.nyc.gov, by '\n",
      "          'telephone at (212) 669-8610 or by fax at (212) 669-7603.]'}\n"
     ]
    },
    {
     "data": {
      "text/html": [
       "<hr />"
      ],
      "text/plain": [
       "<IPython.core.display.HTML object>"
      ]
     },
     "metadata": {},
     "output_type": "display_data"
    },
    {
     "name": "stdout",
     "output_type": "stream",
     "text": [
      "\n",
      "\n",
      "\n"
     ]
    },
    {
     "data": {
      "text/html": [
       "A copy of the bid can be downloaded from the City Record Online site at http://a856-internet.nyc.gov/nycvendoronline/home.asp. Enrollment is free. Vendors may also request the bid by contacting Vendor Relations via email at dcasdmssbids@dcas.nyc.gov, by telephone at 212-669-8610 or by fax at 212-669-7603."
      ],
      "text/plain": [
       "<IPython.core.display.HTML object>"
      ]
     },
     "metadata": {},
     "output_type": "display_data"
    },
    {
     "name": "stdout",
     "output_type": "stream",
     "text": [
      "---\n",
      "{'error': 'bad input: [A copy of the bid can be downloaded from the City '\n",
      "          'Record Online site at '\n",
      "          'http://a856-internet.nyc.gov/nycvendoronline/home.asp. Enrollment '\n",
      "          'is free. Vendors may also request the bid by contacting Vendor '\n",
      "          'Relations via email at dcasdmssbids@dcas.nyc.gov, by telephone at '\n",
      "          '212-669-8610 or by fax at 212-669-7603.]'}\n"
     ]
    },
    {
     "data": {
      "text/html": [
       "<hr />"
      ],
      "text/plain": [
       "<IPython.core.display.HTML object>"
      ]
     },
     "metadata": {},
     "output_type": "display_data"
    },
    {
     "name": "stdout",
     "output_type": "stream",
     "text": [
      "\n",
      "\n",
      "\n"
     ]
    },
    {
     "data": {
      "text/html": [
       "A copy of the bid can be downloaded from the City Record Online site at http://a856-internet.nyc.gov/nycvendoronline/home.asp. Enrollment is free. Vendors may also request the bid by contacting Vendor Relations via email at dcasdmssbids@dcas.nyc.gov, by telephone at 212-669-8610 or by fax at 212-669-7603."
      ],
      "text/plain": [
       "<IPython.core.display.HTML object>"
      ]
     },
     "metadata": {},
     "output_type": "display_data"
    },
    {
     "name": "stdout",
     "output_type": "stream",
     "text": [
      "---\n",
      "{'error': 'bad input: [A copy of the bid can be downloaded from the City '\n",
      "          'Record Online site at '\n",
      "          'http://a856-internet.nyc.gov/nycvendoronline/home.asp. Enrollment '\n",
      "          'is free. Vendors may also request the bid by contacting Vendor '\n",
      "          'Relations via email at dcasdmssbids@dcas.nyc.gov, by telephone at '\n",
      "          '212-669-8610 or by fax at 212-669-7603.]'}\n"
     ]
    },
    {
     "data": {
      "text/html": [
       "<hr />"
      ],
      "text/plain": [
       "<IPython.core.display.HTML object>"
      ]
     },
     "metadata": {},
     "output_type": "display_data"
    },
    {
     "name": "stdout",
     "output_type": "stream",
     "text": [
      "\n",
      "\n",
      "\n"
     ]
    },
    {
     "data": {
      "text/html": [
       "A copy of the bid can be downloaded from the City Record Online site at http://a856-internet.nyc.gov/nycvendoronline/home.asp. Enrollment is free. Vendors may also request the bid by contacting Vendor Relations via email at dcasdmssbids@dcas.nyc.gov, by telephone at 212-669-8610 or by fax at 212-669-7603."
      ],
      "text/plain": [
       "<IPython.core.display.HTML object>"
      ]
     },
     "metadata": {},
     "output_type": "display_data"
    },
    {
     "name": "stdout",
     "output_type": "stream",
     "text": [
      "---\n",
      "{'error': 'bad input: [A copy of the bid can be downloaded from the City '\n",
      "          'Record Online site at '\n",
      "          'http://a856-internet.nyc.gov/nycvendoronline/home.asp. Enrollment '\n",
      "          'is free. Vendors may also request the bid by contacting Vendor '\n",
      "          'Relations via email at dcasdmssbids@dcas.nyc.gov, by telephone at '\n",
      "          '212-669-8610 or by fax at 212-669-7603.]'}\n"
     ]
    },
    {
     "data": {
      "text/html": [
       "<hr />"
      ],
      "text/plain": [
       "<IPython.core.display.HTML object>"
      ]
     },
     "metadata": {},
     "output_type": "display_data"
    },
    {
     "name": "stdout",
     "output_type": "stream",
     "text": [
      "\n",
      "\n",
      "\n"
     ]
    },
    {
     "data": {
      "text/html": [
       "This is a Requirements Contract pursuant to which the bidder to whom the Contract is awarded shall provide during the term of the Contract, the Citys requirements for labor, Material, and equipment necessary to perform the required Boiler testing, Repair, and Maintenance, including without limitation, replacement of boiler tubes and sections, and related Work for High Pressure Boilers and Low Pressure Boilers at various Facilities throughout the five (5) boroughs of the City of New York."
      ],
      "text/plain": [
       "<IPython.core.display.HTML object>"
      ]
     },
     "metadata": {},
     "output_type": "display_data"
    },
    {
     "name": "stdout",
     "output_type": "stream",
     "text": [
      "---\n",
      "{'error': 'bad input: [This is a Requirements Contract pursuant to which the '\n",
      "          'bidder to whom the Contract is awarded shall provide during the '\n",
      "          'term of the Contract, the City\\x92s requirements for labor, '\n",
      "          'Material, and equipment necessary to perform the required Boiler '\n",
      "          'testing, Repair, and Maintenance, including without limitation, '\n",
      "          'replacement of boiler tubes and sections, and related Work for '\n",
      "          'High Pressure Boilers and Low Pressure Boilers at various '\n",
      "          'Facilities throughout the five (5) boroughs of the City of New '\n",
      "          'York.]'}\n"
     ]
    },
    {
     "data": {
      "text/html": [
       "<hr />"
      ],
      "text/plain": [
       "<IPython.core.display.HTML object>"
      ]
     },
     "metadata": {},
     "output_type": "display_data"
    },
    {
     "name": "stdout",
     "output_type": "stream",
     "text": [
      "\n",
      "\n",
      "\n"
     ]
    },
    {
     "data": {
      "text/html": [
       "A copy of the bid can be downloaded from City Record Online at http://a856-internet.nyc.gov/nycvendoronline/home.asp . Enrollment is free. Vendor may also request the bid by contacting Vendor Relations via email at dcasdmssbids@dcas.nyc.gov, by telephone at 212-386-0044."
      ],
      "text/plain": [
       "<IPython.core.display.HTML object>"
      ]
     },
     "metadata": {},
     "output_type": "display_data"
    },
    {
     "name": "stdout",
     "output_type": "stream",
     "text": [
      "---\n",
      "{'error': 'bad input: [A copy of the bid can be downloaded from City Record '\n",
      "          'Online at http://a856-internet.nyc.gov/nycvendoronline/home.asp . '\n",
      "          'Enrollment is free. Vendor may also request the bid by contacting '\n",
      "          'Vendor Relations via email at dcasdmssbids@dcas.nyc.gov, by '\n",
      "          'telephone at 212-386-0044.]'}\n"
     ]
    },
    {
     "data": {
      "text/html": [
       "<hr />"
      ],
      "text/plain": [
       "<IPython.core.display.HTML object>"
      ]
     },
     "metadata": {},
     "output_type": "display_data"
    },
    {
     "name": "stdout",
     "output_type": "stream",
     "text": [
      "\n",
      "\n",
      "\n"
     ]
    },
    {
     "data": {
      "text/html": [
       "A copy of the bid can be downloaded from City Record Online at http://a856-internet.nyc.gov/nycvendoronline/home.asp . Enrollment is free. Vendor may also request the bid by contacting Vendor Relations via email at dcasdmssbids@dcas.nyc.gov, by telephone at 212-669-8610."
      ],
      "text/plain": [
       "<IPython.core.display.HTML object>"
      ]
     },
     "metadata": {},
     "output_type": "display_data"
    },
    {
     "name": "stdout",
     "output_type": "stream",
     "text": [
      "---\n",
      "{'error': 'bad input: [A copy of the bid can be downloaded from City Record '\n",
      "          'Online at http://a856-internet.nyc.gov/nycvendoronline/home.asp . '\n",
      "          'Enrollment is free. Vendor may also request the bid by contacting '\n",
      "          'Vendor Relations via email at dcasdmssbids@dcas.nyc.gov, by '\n",
      "          'telephone at 212-669-8610.]'}\n"
     ]
    },
    {
     "data": {
      "text/html": [
       "<hr />"
      ],
      "text/plain": [
       "<IPython.core.display.HTML object>"
      ]
     },
     "metadata": {},
     "output_type": "display_data"
    },
    {
     "name": "stdout",
     "output_type": "stream",
     "text": [
      "\n",
      "\n",
      "\n"
     ]
    },
    {
     "data": {
      "text/html": [
       "Please submit all responses in electronic form  PDF format via email, addressed to the person listed. All emails should have a subject line tag. A copy of the RFI can be downloaded from the City Record Online site at www.nyc.gov/cityrecord.  PLEASE NOTE: This request is for informational purposes only, and a contract award will not result from the responses received to this RFI.  The agency will not reimburse any interested party for costs incurred in the preparation of a response, related discussions or presentations in connection with this RFI."
      ],
      "text/plain": [
       "<IPython.core.display.HTML object>"
      ]
     },
     "metadata": {},
     "output_type": "display_data"
    },
    {
     "name": "stdout",
     "output_type": "stream",
     "text": [
      "---\n",
      "{'error': 'bad input: [Please submit all responses in electronic form \\x96 '\n",
      "          'PDF format via email, addressed to the person listed. All emails '\n",
      "          'should have a subject line tag. A copy of the RFI can be '\n",
      "          'downloaded from the City Record Online site at '\n",
      "          'www.nyc.gov/cityrecord.  PLEASE NOTE: This request is for '\n",
      "          'informational purposes only, and a contract award will not result '\n",
      "          'from the responses received to this RFI.  The agency will not '\n",
      "          'reimburse any interested party for costs incurred in the '\n",
      "          'preparation of a response, related discussions or presentations '\n",
      "          'in connection with this RFI.]'}\n"
     ]
    },
    {
     "data": {
      "text/html": [
       "<hr />"
      ],
      "text/plain": [
       "<IPython.core.display.HTML object>"
      ]
     },
     "metadata": {},
     "output_type": "display_data"
    },
    {
     "name": "stdout",
     "output_type": "stream",
     "text": [
      "\n",
      "\n",
      "\n"
     ]
    },
    {
     "data": {
      "text/html": [
       "A copy of the bid can be downloaded from the City Record Online site at http://a856-internet.nyc.gov/nycvendoronline/home.asp. Enrollment is free. Vendors may also request the bid by contacting Vendor Relations via email at dcasdmssbids@dcas.nyc.gov, by telephone at 212-669-8610 or by fax at 212-669-7603."
      ],
      "text/plain": [
       "<IPython.core.display.HTML object>"
      ]
     },
     "metadata": {},
     "output_type": "display_data"
    },
    {
     "name": "stdout",
     "output_type": "stream",
     "text": [
      "---\n",
      "{'error': 'bad input: [A copy of the bid can be downloaded from the City '\n",
      "          'Record Online site at '\n",
      "          'http://a856-internet.nyc.gov/nycvendoronline/home.asp. Enrollment '\n",
      "          'is free. Vendors may also request the bid by contacting Vendor '\n",
      "          'Relations via email at dcasdmssbids@dcas.nyc.gov, by telephone at '\n",
      "          '212-669-8610 or by fax at 212-669-7603.]'}\n"
     ]
    },
    {
     "data": {
      "text/html": [
       "<hr />"
      ],
      "text/plain": [
       "<IPython.core.display.HTML object>"
      ]
     },
     "metadata": {},
     "output_type": "display_data"
    },
    {
     "name": "stdout",
     "output_type": "stream",
     "text": [
      "\n",
      "\n",
      "\n"
     ]
    },
    {
     "data": {
      "text/html": [
       "A copy of the bid can be downloaded from the City Record Online site at http://a856-internet.nyc.gov/nycvendoronline/home.asp.  Enrollment is free.  Vendors may also request the bid by contacting Vendor Relations via email at dcasdmssbids@dcas.nyc.gov, by telephone at 212-669-8610 or by fax at 212-669-7603. "
      ],
      "text/plain": [
       "<IPython.core.display.HTML object>"
      ]
     },
     "metadata": {},
     "output_type": "display_data"
    },
    {
     "name": "stdout",
     "output_type": "stream",
     "text": [
      "---\n",
      "{'error': 'bad input: [A copy of the bid can be downloaded from the City '\n",
      "          'Record Online site at '\n",
      "          'http://a856-internet.nyc.gov/nycvendoronline/home.asp.  '\n",
      "          'Enrollment is free.  Vendors may also request the bid by '\n",
      "          'contacting Vendor Relations via email at '\n",
      "          'dcasdmssbids@dcas.nyc.gov, by telephone at 212-669-8610 or by fax '\n",
      "          'at 212-669-7603. ]'}\n"
     ]
    },
    {
     "data": {
      "text/html": [
       "<hr />"
      ],
      "text/plain": [
       "<IPython.core.display.HTML object>"
      ]
     },
     "metadata": {},
     "output_type": "display_data"
    },
    {
     "name": "stdout",
     "output_type": "stream",
     "text": [
      "\n",
      "\n",
      "\n"
     ]
    },
    {
     "data": {
      "text/html": [
       "A copy of the bid can be downloaded from the City Record Online site at http://a856-internet.nyc.gov/nycvendoronline/home.asp. Enrollment is free. Vendors may also request the bid by contacting Vendor Relations via email at dcasdmssbids@dcas.nyc.gov, by telephone at 212-669-8610 or by fax at 212-669-7603."
      ],
      "text/plain": [
       "<IPython.core.display.HTML object>"
      ]
     },
     "metadata": {},
     "output_type": "display_data"
    },
    {
     "name": "stdout",
     "output_type": "stream",
     "text": [
      "---\n",
      "{'error': 'bad input: [A copy of the bid can be downloaded from the City '\n",
      "          'Record Online site at '\n",
      "          'http://a856-internet.nyc.gov/nycvendoronline/home.asp. Enrollment '\n",
      "          'is free. Vendors may also request the bid by contacting Vendor '\n",
      "          'Relations via email at dcasdmssbids@dcas.nyc.gov, by telephone at '\n",
      "          '212-669-8610 or by fax at 212-669-7603.]'}\n"
     ]
    },
    {
     "data": {
      "text/html": [
       "<hr />"
      ],
      "text/plain": [
       "<IPython.core.display.HTML object>"
      ]
     },
     "metadata": {},
     "output_type": "display_data"
    },
    {
     "name": "stdout",
     "output_type": "stream",
     "text": [
      "\n",
      "\n",
      "\n"
     ]
    },
    {
     "data": {
      "text/html": [
       "A copy of the bid can be downloaded from the City Record Online site at http://a856-internet.nyc.gov/nycvendoronline/home.asp. Enrollment is free. Vendors may also request the bid by contacting Vendor Relations via email at dcasdmssbids@dcas.nyc.gov, by telephone at 212-669-8610 or by fax at 212-669-7603."
      ],
      "text/plain": [
       "<IPython.core.display.HTML object>"
      ]
     },
     "metadata": {},
     "output_type": "display_data"
    },
    {
     "name": "stdout",
     "output_type": "stream",
     "text": [
      "---\n",
      "{'error': 'bad input: [A copy of the bid can be downloaded from the City '\n",
      "          'Record Online site at '\n",
      "          'http://a856-internet.nyc.gov/nycvendoronline/home.asp. Enrollment '\n",
      "          'is free. Vendors may also request the bid by contacting Vendor '\n",
      "          'Relations via email at dcasdmssbids@dcas.nyc.gov, by telephone at '\n",
      "          '212-669-8610 or by fax at 212-669-7603.]'}\n"
     ]
    },
    {
     "data": {
      "text/html": [
       "<hr />"
      ],
      "text/plain": [
       "<IPython.core.display.HTML object>"
      ]
     },
     "metadata": {},
     "output_type": "display_data"
    },
    {
     "name": "stdout",
     "output_type": "stream",
     "text": [
      "\n",
      "\n",
      "\n"
     ]
    },
    {
     "data": {
      "text/html": [
       "A copy of the bid can be downloaded from the City Record Online site at http://a856-internet.nyc.gov/nycvendoronline/home.asp. Enrollment is free. Vendors may also request the bid by contacting Vendor Relations via email at dcasdmssbids@dcas.nyc.gov, by telephone at 212-669-8610 or by fax at 212-669-7603."
      ],
      "text/plain": [
       "<IPython.core.display.HTML object>"
      ]
     },
     "metadata": {},
     "output_type": "display_data"
    },
    {
     "name": "stdout",
     "output_type": "stream",
     "text": [
      "---\n",
      "{'error': 'bad input: [A copy of the bid can be downloaded from the City '\n",
      "          'Record Online site at '\n",
      "          'http://a856-internet.nyc.gov/nycvendoronline/home.asp. Enrollment '\n",
      "          'is free. Vendors may also request the bid by contacting Vendor '\n",
      "          'Relations via email at dcasdmssbids@dcas.nyc.gov, by telephone at '\n",
      "          '212-669-8610 or by fax at 212-669-7603.]'}\n"
     ]
    },
    {
     "data": {
      "text/html": [
       "<hr />"
      ],
      "text/plain": [
       "<IPython.core.display.HTML object>"
      ]
     },
     "metadata": {},
     "output_type": "display_data"
    },
    {
     "name": "stdout",
     "output_type": "stream",
     "text": [
      "\n",
      "\n",
      "\n"
     ]
    },
    {
     "data": {
      "text/html": [
       "NAN"
      ],
      "text/plain": [
       "<IPython.core.display.HTML object>"
      ]
     },
     "metadata": {},
     "output_type": "display_data"
    },
    {
     "name": "stdout",
     "output_type": "stream",
     "text": [
      "---\n",
      "{'error': 'bad input: [nan]'}\n"
     ]
    },
    {
     "data": {
      "text/html": [
       "<hr />"
      ],
      "text/plain": [
       "<IPython.core.display.HTML object>"
      ]
     },
     "metadata": {},
     "output_type": "display_data"
    },
    {
     "name": "stdout",
     "output_type": "stream",
     "text": [
      "\n",
      "\n",
      "\n"
     ]
    },
    {
     "data": {
      "text/html": [
       "A copy of the bid can be downloaded from the City Record Online site at http://a856-internet.nyc.gov/nycvendoronline/home.asp. Enrollment is free. Vendors may also request the bid by contacting Vendor Relations via email at dcasdmssbids@dcas.nyc.gov, by telephone at 212-669-8610 or by fax at 212-669-7603."
      ],
      "text/plain": [
       "<IPython.core.display.HTML object>"
      ]
     },
     "metadata": {},
     "output_type": "display_data"
    },
    {
     "name": "stdout",
     "output_type": "stream",
     "text": [
      "---\n",
      "{'error': 'bad input: [A copy of the bid can be downloaded from the City '\n",
      "          'Record Online site at '\n",
      "          'http://a856-internet.nyc.gov/nycvendoronline/home.asp. Enrollment '\n",
      "          'is free. Vendors may also request the bid by contacting Vendor '\n",
      "          'Relations via email at dcasdmssbids@dcas.nyc.gov, by telephone at '\n",
      "          '212-669-8610 or by fax at 212-669-7603.]'}\n"
     ]
    },
    {
     "data": {
      "text/html": [
       "<hr />"
      ],
      "text/plain": [
       "<IPython.core.display.HTML object>"
      ]
     },
     "metadata": {},
     "output_type": "display_data"
    },
    {
     "name": "stdout",
     "output_type": "stream",
     "text": [
      "\n",
      "\n",
      "\n"
     ]
    },
    {
     "data": {
      "text/html": [
       "Vendors interested in obtaining copies of the bid should contact Anna Wong- Tel No: 212-669-8610; Fax: 212-669-7603; Email: dcasdmssbids@dcas.nyc.gov"
      ],
      "text/plain": [
       "<IPython.core.display.HTML object>"
      ]
     },
     "metadata": {},
     "output_type": "display_data"
    },
    {
     "name": "stdout",
     "output_type": "stream",
     "text": [
      "---\n",
      "{'error': 'bad input: [Vendors interested in obtaining copies of the bid '\n",
      "          'should contact Anna Wong- Tel No: 212-669-8610; Fax: '\n",
      "          '212-669-7603; Email: dcasdmssbids@dcas.nyc.gov]'}\n"
     ]
    },
    {
     "data": {
      "text/html": [
       "<hr />"
      ],
      "text/plain": [
       "<IPython.core.display.HTML object>"
      ]
     },
     "metadata": {},
     "output_type": "display_data"
    },
    {
     "name": "stdout",
     "output_type": "stream",
     "text": [
      "\n",
      "\n",
      "\n"
     ]
    },
    {
     "data": {
      "text/html": [
       "A copy of the bid can be downloaded from City Record Online at http://a856-internet.nyc.gov/nycvendoronline/home.asp . Enrollment is free. Vendor may also request the bid by contacting Vendor Relations via email at dcasdmssbids@dcas.nyc.gov, by telephone at 212-669-8610."
      ],
      "text/plain": [
       "<IPython.core.display.HTML object>"
      ]
     },
     "metadata": {},
     "output_type": "display_data"
    },
    {
     "name": "stdout",
     "output_type": "stream",
     "text": [
      "---\n",
      "{'error': 'bad input: [A copy of the bid can be downloaded from City Record '\n",
      "          'Online at http://a856-internet.nyc.gov/nycvendoronline/home.asp . '\n",
      "          'Enrollment is free. Vendor may also request the bid by contacting '\n",
      "          'Vendor Relations via email at dcasdmssbids@dcas.nyc.gov, by '\n",
      "          'telephone at 212-669-8610.]'}\n"
     ]
    },
    {
     "data": {
      "text/html": [
       "<hr />"
      ],
      "text/plain": [
       "<IPython.core.display.HTML object>"
      ]
     },
     "metadata": {},
     "output_type": "display_data"
    },
    {
     "name": "stdout",
     "output_type": "stream",
     "text": [
      "\n",
      "\n",
      "\n"
     ]
    },
    {
     "data": {
      "text/html": [
       "A copy of the bid can be downloaded from City Record Online at http://a856-internet.nyc.gov/nycvendoronline/home.asp . Enrollment is free. Vendor may also request the bid by contacting Vendor Relations via email at dcasdmssbids@dcas.nyc.gov, by telephone at 212-669-8610."
      ],
      "text/plain": [
       "<IPython.core.display.HTML object>"
      ]
     },
     "metadata": {},
     "output_type": "display_data"
    },
    {
     "name": "stdout",
     "output_type": "stream",
     "text": [
      "---\n",
      "{'error': 'bad input: [A copy of the bid can be downloaded from City Record '\n",
      "          'Online at http://a856-internet.nyc.gov/nycvendoronline/home.asp . '\n",
      "          'Enrollment is free. Vendor may also request the bid by contacting '\n",
      "          'Vendor Relations via email at dcasdmssbids@dcas.nyc.gov, by '\n",
      "          'telephone at 212-669-8610.]'}\n"
     ]
    },
    {
     "data": {
      "text/html": [
       "<hr />"
      ],
      "text/plain": [
       "<IPython.core.display.HTML object>"
      ]
     },
     "metadata": {},
     "output_type": "display_data"
    },
    {
     "name": "stdout",
     "output_type": "stream",
     "text": [
      "\n",
      "\n",
      "\n"
     ]
    },
    {
     "data": {
      "text/html": [
       "A copy of the bid can be downloaded from the City Record Online site at http://a856-internet.nyc.gov/nycvendoronline/home.asp. Enrollment is free. Vendors may also request the bid by contacting Vendor Relations via email at dcasdmssbids@dcas.nyc.gov, by telephone at 212-669-8610 or by fax at 212-669-7603."
      ],
      "text/plain": [
       "<IPython.core.display.HTML object>"
      ]
     },
     "metadata": {},
     "output_type": "display_data"
    },
    {
     "name": "stdout",
     "output_type": "stream",
     "text": [
      "---\n",
      "{'error': 'bad input: [A copy of the bid can be downloaded from the City '\n",
      "          'Record Online site at '\n",
      "          'http://a856-internet.nyc.gov/nycvendoronline/home.asp. Enrollment '\n",
      "          'is free. Vendors may also request the bid by contacting Vendor '\n",
      "          'Relations via email at dcasdmssbids@dcas.nyc.gov, by telephone at '\n",
      "          '212-669-8610 or by fax at 212-669-7603.]'}\n"
     ]
    },
    {
     "data": {
      "text/html": [
       "<hr />"
      ],
      "text/plain": [
       "<IPython.core.display.HTML object>"
      ]
     },
     "metadata": {},
     "output_type": "display_data"
    },
    {
     "name": "stdout",
     "output_type": "stream",
     "text": [
      "\n",
      "\n",
      "\n"
     ]
    },
    {
     "data": {
      "text/html": [
       "A Pre-Solicitation Conference for the above mentioned commodity is scheduled for January 12, 2015 at 1:30pm at 1 Centre Street, New York, NY 10007, 18th floor.  The purpose of this conference is to review proposed specifications for the commodity listed above to ensure a good product and maximum competition. Please make every effort to attend this conference, your participation will assist us in revising the attached specifications so they can be issued as a part of final bid package.  A copy of the pre-solicitation package can be downloaded from the City Record Online site at http://a856-internet.nyc.gov/nycvendoronline/home.asp. Enrollment is free. Please review the documents the before you attend the conference. If you have questions regarding this conference, please contact Masha Rudina at 212-386-6373 or by email at mrudina@dcas.nyc.gov "
      ],
      "text/plain": [
       "<IPython.core.display.HTML object>"
      ]
     },
     "metadata": {},
     "output_type": "display_data"
    },
    {
     "name": "stdout",
     "output_type": "stream",
     "text": [
      "---\n",
      "{'error': 'bad input: [A Pre-Solicitation Conference for the above mentioned '\n",
      "          'commodity is scheduled for January 12, 2015 at 1:30pm at 1 Centre '\n",
      "          'Street, New York, NY 10007, 18th floor.  The purpose of this '\n",
      "          'conference is to review proposed specifications for the commodity '\n",
      "          'listed above to ensure a good product and maximum competition. '\n",
      "          'Please make every effort to attend this conference, your '\n",
      "          'participation will assist us in revising the attached '\n",
      "          'specifications so they can be issued as a part of final bid '\n",
      "          'package.  A copy of the pre-solicitation package can be '\n",
      "          'downloaded from the City Record Online site at '\n",
      "          'http://a856-internet.nyc.gov/nycvendoronline/home.asp. Enrollment '\n",
      "          'is free. Please review the documents the before you attend the '\n",
      "          'conference. If you have questions regarding this conference, '\n",
      "          'please contact Masha Rudina at 212-386-6373 or by email at '\n",
      "          'mrudina@dcas.nyc.gov ]'}\n"
     ]
    },
    {
     "data": {
      "text/html": [
       "<hr />"
      ],
      "text/plain": [
       "<IPython.core.display.HTML object>"
      ]
     },
     "metadata": {},
     "output_type": "display_data"
    },
    {
     "name": "stdout",
     "output_type": "stream",
     "text": [
      "\n",
      "\n",
      "\n"
     ]
    },
    {
     "data": {
      "text/html": [
       "A Pre-Solicitation Conference for the above mentioned commodity is scheduled for January 13, 2015 at 9:30am at 1 Centre Street, New York, NY 10007, 18th floor.  The purpose of this conference is to review proposed specifications for the commodity listed above to ensure a good product and maximum competition. Please make every effort to attend this conference, your participation will assist us in revising the attached specifications so they can be issued as a part of final bid package.  A copy of the pre-solicitation package can be downloaded from the City Record Online site at http://a856-internet.nyc.gov/nycvendoronline/home.asp. Enrollment is free. Please review the documents the before you attend the conference. If you have questions regarding this conference, please contact Masha Rudina at 212-386-6373 or by email at mrudina@dcas.nyc.gov"
      ],
      "text/plain": [
       "<IPython.core.display.HTML object>"
      ]
     },
     "metadata": {},
     "output_type": "display_data"
    },
    {
     "name": "stdout",
     "output_type": "stream",
     "text": [
      "---\n",
      "{'error': 'bad input: [A Pre-Solicitation Conference for the above mentioned '\n",
      "          'commodity is scheduled for January 13, 2015 at 9:30am at 1 Centre '\n",
      "          'Street, New York, NY 10007, 18th floor.  The purpose of this '\n",
      "          'conference is to review proposed specifications for the commodity '\n",
      "          'listed above to ensure a good product and maximum competition. '\n",
      "          'Please make every effort to attend this conference, your '\n",
      "          'participation will assist us in revising the attached '\n",
      "          'specifications so they can be issued as a part of final bid '\n",
      "          'package.  A copy of the pre-solicitation package can be '\n",
      "          'downloaded from the City Record Online site at '\n",
      "          'http://a856-internet.nyc.gov/nycvendoronline/home.asp. Enrollment '\n",
      "          'is free. Please review the documents the before you attend the '\n",
      "          'conference. If you have questions regarding this conference, '\n",
      "          'please contact Masha Rudina at 212-386-6373 or by email at '\n",
      "          'mrudina@dcas.nyc.gov]'}\n"
     ]
    },
    {
     "data": {
      "text/html": [
       "<hr />"
      ],
      "text/plain": [
       "<IPython.core.display.HTML object>"
      ]
     },
     "metadata": {},
     "output_type": "display_data"
    },
    {
     "name": "stdout",
     "output_type": "stream",
     "text": [
      "\n",
      "\n",
      "\n"
     ]
    },
    {
     "data": {
      "text/html": [
       "A Pre-Solicitation Conference for the above mentioned commodity is scheduled for January 8, 2015 at 9:30am at 1 Centre Street, New York, NY 10007, 18th floor.  The purpose of this conference is to review proposed specifications for the commodity listed above to ensure a good product and maximum competition. Please make every effort to attend this conference, your participation will assist us in revising the attached specifications so they can be issued as a part of final bid package.  A copy of the pre-solicitation package can be downloaded from the City Record Online site at http://a856-internet.nyc.gov/nycvendoronline/home.asp. Enrollment is free. Please review the documents the before you attend the conference. If you have questions regarding this conference, please contact Masha Rudina at 212-386-6373 or by email at mrudina@dcas.nyc.gov"
      ],
      "text/plain": [
       "<IPython.core.display.HTML object>"
      ]
     },
     "metadata": {},
     "output_type": "display_data"
    },
    {
     "name": "stdout",
     "output_type": "stream",
     "text": [
      "---\n",
      "{'error': 'bad input: [A Pre-Solicitation Conference for the above mentioned '\n",
      "          'commodity is scheduled for January 8, 2015 at 9:30am at 1 Centre '\n",
      "          'Street, New York, NY 10007, 18th floor.  The purpose of this '\n",
      "          'conference is to review proposed specifications for the commodity '\n",
      "          'listed above to ensure a good product and maximum competition. '\n",
      "          'Please make every effort to attend this conference, your '\n",
      "          'participation will assist us in revising the attached '\n",
      "          'specifications so they can be issued as a part of final bid '\n",
      "          'package.  A copy of the pre-solicitation package can be '\n",
      "          'downloaded from the City Record Online site at '\n",
      "          'http://a856-internet.nyc.gov/nycvendoronline/home.asp. Enrollment '\n",
      "          'is free. Please review the documents the before you attend the '\n",
      "          'conference. If you have questions regarding this conference, '\n",
      "          'please contact Masha Rudina at 212-386-6373 or by email at '\n",
      "          'mrudina@dcas.nyc.gov]'}\n"
     ]
    },
    {
     "data": {
      "text/html": [
       "<hr />"
      ],
      "text/plain": [
       "<IPython.core.display.HTML object>"
      ]
     },
     "metadata": {},
     "output_type": "display_data"
    },
    {
     "name": "stdout",
     "output_type": "stream",
     "text": [
      "\n",
      "\n",
      "\n"
     ]
    },
    {
     "data": {
      "text/html": [
       "A Pre-Solicitation Conference for the above mentioned commodity is scheduled for December 8, 2014 at 9:30am at 1 Centre Street, New York, NY 10007, 18th floor.  The purpose of this conference is to review proposed specifications for the commodity listed above to ensure a good product and maximum competition. Please make every effort to attend this conference, your participation will assist us in revising the attached specifications so they can be issued as a part of final bid package.  A copy of the pre-solicitation package can be downloaded from the City Record Online site at http://a856-internet.nyc.gov/nycvendoronline/home.asp. Enrollment is free. Please review the documents the before you attend the conference. If you have questions regarding this conference, please contact Masha Rudina at 212-386-6373 or by email at mrudina@dcas.nyc.gov    "
      ],
      "text/plain": [
       "<IPython.core.display.HTML object>"
      ]
     },
     "metadata": {},
     "output_type": "display_data"
    },
    {
     "name": "stdout",
     "output_type": "stream",
     "text": [
      "---\n",
      "{'error': 'bad input: [A Pre-Solicitation Conference for the above mentioned '\n",
      "          'commodity is scheduled for December 8, 2014 at 9:30am at 1 Centre '\n",
      "          'Street, New York, NY 10007, 18th floor.  The purpose of this '\n",
      "          'conference is to review proposed specifications for the commodity '\n",
      "          'listed above to ensure a good product and maximum competition. '\n",
      "          'Please make every effort to attend this conference, your '\n",
      "          'participation will assist us in revising the attached '\n",
      "          'specifications so they can be issued as a part of final bid '\n",
      "          'package.  A copy of the pre-solicitation package can be '\n",
      "          'downloaded from the City Record Online site at '\n",
      "          'http://a856-internet.nyc.gov/nycvendoronline/home.asp. Enrollment '\n",
      "          'is free. Please review the documents the before you attend the '\n",
      "          'conference. If you have questions regarding this conference, '\n",
      "          'please contact Masha Rudina at 212-386-6373 or by email at '\n",
      "          'mrudina@dcas.nyc.gov    ]'}\n"
     ]
    },
    {
     "data": {
      "text/html": [
       "<hr />"
      ],
      "text/plain": [
       "<IPython.core.display.HTML object>"
      ]
     },
     "metadata": {},
     "output_type": "display_data"
    },
    {
     "name": "stdout",
     "output_type": "stream",
     "text": [
      "\n",
      "\n",
      "\n"
     ]
    },
    {
     "data": {
      "text/html": [
       "A copy of the bid can be downloaded from the City Record Online site at http://a856-internet.nyc.gov/nycvendoronline/home.asp. Enrollment is free. Vendors may also request the bid by contacting Vendor Relations via email at dcasdmssbids@dcas.nyc.gov, by telephone at 212-669-8610 or by fax at 212-669-7603."
      ],
      "text/plain": [
       "<IPython.core.display.HTML object>"
      ]
     },
     "metadata": {},
     "output_type": "display_data"
    },
    {
     "name": "stdout",
     "output_type": "stream",
     "text": [
      "---\n",
      "{'error': 'bad input: [A copy of the bid can be downloaded from the City '\n",
      "          'Record Online site at '\n",
      "          'http://a856-internet.nyc.gov/nycvendoronline/home.asp. Enrollment '\n",
      "          'is free. Vendors may also request the bid by contacting Vendor '\n",
      "          'Relations via email at dcasdmssbids@dcas.nyc.gov, by telephone at '\n",
      "          '212-669-8610 or by fax at 212-669-7603.]'}\n"
     ]
    },
    {
     "data": {
      "text/html": [
       "<hr />"
      ],
      "text/plain": [
       "<IPython.core.display.HTML object>"
      ]
     },
     "metadata": {},
     "output_type": "display_data"
    },
    {
     "name": "stdout",
     "output_type": "stream",
     "text": [
      "\n",
      "\n",
      "\n"
     ]
    },
    {
     "data": {
      "text/html": [
       "A Pre-Solicitation Conference for the above mentioned commodity is scheduled for December 5, 2014 at 9:30am at 1 Centre Street, 18th floor, New York, NY 10007.  The purpose of this conference is to review proposed specifications for the commodity listed above to ensure a good product and maximum competition. Please make every effort to attend this conference, your participation will assist us in revising the attached specifications so they can be issued as a part of final bid package.  A copy of the pre-solicitation package can be downloaded from the City Record Online site at http://a856-internet.nyc.gov/nycvendoronline/home.asp. Enrollment is free. Please review the documents the before you attend the conference."
      ],
      "text/plain": [
       "<IPython.core.display.HTML object>"
      ]
     },
     "metadata": {},
     "output_type": "display_data"
    },
    {
     "name": "stdout",
     "output_type": "stream",
     "text": [
      "---\n",
      "{'error': 'bad input: [A Pre-Solicitation Conference for the above mentioned '\n",
      "          'commodity is scheduled for December 5, 2014 at 9:30am at 1 Centre '\n",
      "          'Street, 18th floor, New York, NY 10007.  The purpose of this '\n",
      "          'conference is to review proposed specifications for the commodity '\n",
      "          'listed above to ensure a good product and maximum competition. '\n",
      "          'Please make every effort to attend this conference, your '\n",
      "          'participation will assist us in revising the attached '\n",
      "          'specifications so they can be issued as a part of final bid '\n",
      "          'package.  A copy of the pre-solicitation package can be '\n",
      "          'downloaded from the City Record Online site at '\n",
      "          'http://a856-internet.nyc.gov/nycvendoronline/home.asp. Enrollment '\n",
      "          'is free. Please review the documents the before you attend the '\n",
      "          'conference.]'}\n"
     ]
    },
    {
     "data": {
      "text/html": [
       "<hr />"
      ],
      "text/plain": [
       "<IPython.core.display.HTML object>"
      ]
     },
     "metadata": {},
     "output_type": "display_data"
    },
    {
     "name": "stdout",
     "output_type": "stream",
     "text": [
      "\n",
      "\n",
      "\n"
     ]
    },
    {
     "data": {
      "text/html": [
       "A Pre-Solicitation Conference for the above mentioned commodity is scheduled for November 5, 2014 at 9:30am at 1 Centre Street, New York, NY 10007, 18th floor.  The purpose of this conference is to review proposed specifications for the commodity listed above to ensure a good product and maximum competition. Please make every effort to attend this conference, your participation will assist us in revising the attached specifications so they can be issued as a part of final bid package.  A copy of the pre-solicitation package can be downloaded from the City Record Online site at http://a856-internet.nyc.gov/nycvendoronline/home.asp. Enrollment is free. Please review the documents before you attend the conference."
      ],
      "text/plain": [
       "<IPython.core.display.HTML object>"
      ]
     },
     "metadata": {},
     "output_type": "display_data"
    },
    {
     "name": "stdout",
     "output_type": "stream",
     "text": [
      "---\n",
      "{'error': 'bad input: [A Pre-Solicitation Conference for the above mentioned '\n",
      "          'commodity is scheduled for November 5, 2014 at 9:30am at 1 Centre '\n",
      "          'Street, New York, NY 10007, 18th floor.  The purpose of this '\n",
      "          'conference is to review proposed specifications for the commodity '\n",
      "          'listed above to ensure a good product and maximum competition. '\n",
      "          'Please make every effort to attend this conference, your '\n",
      "          'participation will assist us in revising the attached '\n",
      "          'specifications so they can be issued as a part of final bid '\n",
      "          'package.  A copy of the pre-solicitation package can be '\n",
      "          'downloaded from the City Record Online site at '\n",
      "          'http://a856-internet.nyc.gov/nycvendoronline/home.asp. Enrollment '\n",
      "          'is free. Please review the documents before you attend the '\n",
      "          'conference.]'}\n"
     ]
    },
    {
     "data": {
      "text/html": [
       "<hr />"
      ],
      "text/plain": [
       "<IPython.core.display.HTML object>"
      ]
     },
     "metadata": {},
     "output_type": "display_data"
    },
    {
     "name": "stdout",
     "output_type": "stream",
     "text": [
      "\n",
      "\n",
      "\n"
     ]
    },
    {
     "data": {
      "text/html": [
       "A Pre-Solicitation Conference for the above mentioned commodity is scheduled for November 7, 2014 at 9:30am at 1 Centre Street, New York, NY 10007, 18th floor.  The purpose of this conference is to review proposed specifications for the commodity listed above to ensure a good product and maximum competition. Please make every effort to attend this conference, your participation will assist us in revising the attached specifications so they can be issued as a part of final bid package.  A copy of the pre-solicitation package can be downloaded from the City Record Online site at http://a856-internet.nyc.gov/nycvendoronline/home.asp. Enrollment is free. Please review the documents before you attend the conference."
      ],
      "text/plain": [
       "<IPython.core.display.HTML object>"
      ]
     },
     "metadata": {},
     "output_type": "display_data"
    },
    {
     "name": "stdout",
     "output_type": "stream",
     "text": [
      "---\n",
      "{'error': 'bad input: [A Pre-Solicitation Conference for the above mentioned '\n",
      "          'commodity is scheduled for November 7, 2014 at 9:30am at 1 Centre '\n",
      "          'Street, New York, NY 10007, 18th floor.  The purpose of this '\n",
      "          'conference is to review proposed specifications for the commodity '\n",
      "          'listed above to ensure a good product and maximum competition. '\n",
      "          'Please make every effort to attend this conference, your '\n",
      "          'participation will assist us in revising the attached '\n",
      "          'specifications so they can be issued as a part of final bid '\n",
      "          'package.  A copy of the pre-solicitation package can be '\n",
      "          'downloaded from the City Record Online site at '\n",
      "          'http://a856-internet.nyc.gov/nycvendoronline/home.asp. Enrollment '\n",
      "          'is free. Please review the documents before you attend the '\n",
      "          'conference.]'}\n"
     ]
    },
    {
     "data": {
      "text/html": [
       "<hr />"
      ],
      "text/plain": [
       "<IPython.core.display.HTML object>"
      ]
     },
     "metadata": {},
     "output_type": "display_data"
    },
    {
     "name": "stdout",
     "output_type": "stream",
     "text": [
      "\n",
      "\n",
      "\n"
     ]
    },
    {
     "data": {
      "text/html": [
       "A Pre-Solicitation Conference for the above mentioned commodity is scheduled for October 30, 2014 at 9:30am at 1 Centre Street, New York, NY 10007, 18th floor.  The purpose of this conference is to review proposed specifications for the commodity listed above to ensure a good product and maximum competition. Please make every effort to attend this conference, your participation will assist us in revising the attached specifications so they can be issued as a part of final bid package.  A copy of the pre-solicitation package can be downloaded from the City Record Online site at http://a856-internet.nyc.gov/nycvendoronline/home.asp. Enrollment is free. Please review the documents before you attend the conference."
      ],
      "text/plain": [
       "<IPython.core.display.HTML object>"
      ]
     },
     "metadata": {},
     "output_type": "display_data"
    },
    {
     "name": "stdout",
     "output_type": "stream",
     "text": [
      "---\n",
      "{'error': 'bad input: [A Pre-Solicitation Conference for the above mentioned '\n",
      "          'commodity is scheduled for October 30, 2014 at 9:30am at 1 Centre '\n",
      "          'Street, New York, NY 10007, 18th floor.  The purpose of this '\n",
      "          'conference is to review proposed specifications for the commodity '\n",
      "          'listed above to ensure a good product and maximum competition. '\n",
      "          'Please make every effort to attend this conference, your '\n",
      "          'participation will assist us in revising the attached '\n",
      "          'specifications so they can be issued as a part of final bid '\n",
      "          'package.  A copy of the pre-solicitation package can be '\n",
      "          'downloaded from the City Record Online site at '\n",
      "          'http://a856-internet.nyc.gov/nycvendoronline/home.asp. Enrollment '\n",
      "          'is free. Please review the documents before you attend the '\n",
      "          'conference.]'}\n"
     ]
    },
    {
     "data": {
      "text/html": [
       "<hr />"
      ],
      "text/plain": [
       "<IPython.core.display.HTML object>"
      ]
     },
     "metadata": {},
     "output_type": "display_data"
    },
    {
     "name": "stdout",
     "output_type": "stream",
     "text": [
      "\n",
      "\n",
      "\n"
     ]
    },
    {
     "data": {
      "text/html": [
       "A Pre-Solicitation Conference for the above mentioned commodity is scheduled for November 7, 2014 at 11:00am at 1 Centre Street, New York, NY 10007, 18th floor.  The purpose of this conference is to review proposed specifications for the commodity listed above to ensure a good product and maximum competition. Please make every effort to attend this conference, your participation will assist us in revising the attached specifications so they can be issued as a part of final bid package.  A copy of the pre-solicitation package can be downloaded from the City Record Online site at http://a856-internet.nyc.gov/nycvendoronline/home.asp. Enrollment is free. Please review the documents before you attend the conference."
      ],
      "text/plain": [
       "<IPython.core.display.HTML object>"
      ]
     },
     "metadata": {},
     "output_type": "display_data"
    },
    {
     "name": "stdout",
     "output_type": "stream",
     "text": [
      "---\n",
      "{'error': 'bad input: [A Pre-Solicitation Conference for the above mentioned '\n",
      "          'commodity is scheduled for November 7, 2014 at 11:00am at 1 '\n",
      "          'Centre Street, New York, NY 10007, 18th floor.  The purpose of '\n",
      "          'this conference is to review proposed specifications for the '\n",
      "          'commodity listed above to ensure a good product and maximum '\n",
      "          'competition. Please make every effort to attend this conference, '\n",
      "          'your participation will assist us in revising the attached '\n",
      "          'specifications so they can be issued as a part of final bid '\n",
      "          'package.  A copy of the pre-solicitation package can be '\n",
      "          'downloaded from the City Record Online site at '\n",
      "          'http://a856-internet.nyc.gov/nycvendoronline/home.asp. Enrollment '\n",
      "          'is free. Please review the documents before you attend the '\n",
      "          'conference.]'}\n"
     ]
    },
    {
     "data": {
      "text/html": [
       "<hr />"
      ],
      "text/plain": [
       "<IPython.core.display.HTML object>"
      ]
     },
     "metadata": {},
     "output_type": "display_data"
    },
    {
     "name": "stdout",
     "output_type": "stream",
     "text": [
      "\n",
      "\n",
      "\n"
     ]
    },
    {
     "data": {
      "text/html": [
       "A Pre-Solicitation Conference for the above mentioned commodity is scheduled for November 5, 2014 at 2:00ps at 1 Centre Street, New York, NY 10007, 18th floor.  The purpose of this conference is to review proposed specifications for the commodity listed above to ensure a good product and maximum competition. Please make every effort to attend this conference, your participation will assist us in revising the attached specifications so they can be issued as a part of final bid package.  A copy of the pre-solicitation package can be downloaded from the City Record Online site at http://a856-internet.nyc.gov/nycvendoronline/home.asp. Enrollment is free. Please review the documents the before you attend the conference. If you have questions regarding this conference, please contact Masha Rudina at 212-386-6373 or by email at mrudina@dcas.nyc.gov "
      ],
      "text/plain": [
       "<IPython.core.display.HTML object>"
      ]
     },
     "metadata": {},
     "output_type": "display_data"
    },
    {
     "name": "stdout",
     "output_type": "stream",
     "text": [
      "---\n",
      "{'error': 'bad input: [A Pre-Solicitation Conference for the above mentioned '\n",
      "          'commodity is scheduled for November 5, 2014 at 2:00ps at 1 Centre '\n",
      "          'Street, New York, NY 10007, 18th floor.  The purpose of this '\n",
      "          'conference is to review proposed specifications for the commodity '\n",
      "          'listed above to ensure a good product and maximum competition. '\n",
      "          'Please make every effort to attend this conference, your '\n",
      "          'participation will assist us in revising the attached '\n",
      "          'specifications so they can be issued as a part of final bid '\n",
      "          'package.  A copy of the pre-solicitation package can be '\n",
      "          'downloaded from the City Record Online site at '\n",
      "          'http://a856-internet.nyc.gov/nycvendoronline/home.asp. Enrollment '\n",
      "          'is free. Please review the documents the before you attend the '\n",
      "          'conference. If you have questions regarding this conference, '\n",
      "          'please contact Masha Rudina at 212-386-6373 or by email at '\n",
      "          'mrudina@dcas.nyc.gov ]'}\n"
     ]
    },
    {
     "data": {
      "text/html": [
       "<hr />"
      ],
      "text/plain": [
       "<IPython.core.display.HTML object>"
      ]
     },
     "metadata": {},
     "output_type": "display_data"
    },
    {
     "name": "stdout",
     "output_type": "stream",
     "text": [
      "\n",
      "\n",
      "\n"
     ]
    },
    {
     "data": {
      "text/html": [
       "A copy of the bid can be downloaded from the City Record Online site at http://a856-internet.nyc.gov/nycvendoronline/home.asp. Enrollment is free. Vendors may also request the bid by contacting Vendor Relations via email at dcasdmssbids@dcas.nyc.gov, by telephone at 212-669-8610 or by fax at 212-669-7603."
      ],
      "text/plain": [
       "<IPython.core.display.HTML object>"
      ]
     },
     "metadata": {},
     "output_type": "display_data"
    },
    {
     "name": "stdout",
     "output_type": "stream",
     "text": [
      "---\n",
      "{'error': 'bad input: [A copy of the bid can be downloaded from the City '\n",
      "          'Record Online site at '\n",
      "          'http://a856-internet.nyc.gov/nycvendoronline/home.asp. Enrollment '\n",
      "          'is free. Vendors may also request the bid by contacting Vendor '\n",
      "          'Relations via email at dcasdmssbids@dcas.nyc.gov, by telephone at '\n",
      "          '212-669-8610 or by fax at 212-669-7603.]'}\n"
     ]
    },
    {
     "data": {
      "text/html": [
       "<hr />"
      ],
      "text/plain": [
       "<IPython.core.display.HTML object>"
      ]
     },
     "metadata": {},
     "output_type": "display_data"
    },
    {
     "name": "stdout",
     "output_type": "stream",
     "text": [
      "\n",
      "\n",
      "\n"
     ]
    },
    {
     "data": {
      "text/html": [
       "A Pre-Solicitation Conference for the above mentioned commodity is scheduled for November 10, 2014 at 9:30am at 1 Centre Street, New York, NY 10007, 18th floor.  The purpose of this conference is to review proposed specifications for the commodity listed above to ensure a good product and maximum competition. Please make every effort to attend this conference, your participation will assist us in revising the attached specifications so they can be issued as a part of final bid package.  A copy of the pre-solicitation package can be downloaded from the City Record Online site at http://a856-internet.nyc.gov/nycvendoronline/home.asp. Enrollment is free. Please review the documents the before you attend the conference."
      ],
      "text/plain": [
       "<IPython.core.display.HTML object>"
      ]
     },
     "metadata": {},
     "output_type": "display_data"
    },
    {
     "name": "stdout",
     "output_type": "stream",
     "text": [
      "---\n",
      "{'error': 'bad input: [A Pre-Solicitation Conference for the above mentioned '\n",
      "          'commodity is scheduled for November 10, 2014 at 9:30am at 1 '\n",
      "          'Centre Street, New York, NY 10007, 18th floor.  The purpose of '\n",
      "          'this conference is to review proposed specifications for the '\n",
      "          'commodity listed above to ensure a good product and maximum '\n",
      "          'competition. Please make every effort to attend this conference, '\n",
      "          'your participation will assist us in revising the attached '\n",
      "          'specifications so they can be issued as a part of final bid '\n",
      "          'package.  A copy of the pre-solicitation package can be '\n",
      "          'downloaded from the City Record Online site at '\n",
      "          'http://a856-internet.nyc.gov/nycvendoronline/home.asp. Enrollment '\n",
      "          'is free. Please review the documents the before you attend the '\n",
      "          'conference.]'}\n"
     ]
    },
    {
     "data": {
      "text/html": [
       "<hr />"
      ],
      "text/plain": [
       "<IPython.core.display.HTML object>"
      ]
     },
     "metadata": {},
     "output_type": "display_data"
    },
    {
     "name": "stdout",
     "output_type": "stream",
     "text": [
      "\n",
      "\n",
      "\n"
     ]
    },
    {
     "data": {
      "text/html": [
       "A Pre-Solicitation Conference for the above mentioned commodity is scheduled for December 2, 2014 at 9:30am at 1 Centre Street, New York, NY 10007, 18th floor.  The purpose of this conference is to review proposed specifications for the commodity listed above to ensure a good product and maximum competition. Please make every effort to attend this conference, your participation will assist us in revising the attached specifications so they can be issued as a part of final bid package.  A copy of the pre-solicitation package can be downloaded from the City Record Online site at http://a856-internet.nyc.gov/nycvendoronline/home.asp. Enrollment is free. Please review the documents the before you attend the conference. If you have questions regarding this conference, please contact Joe Vacirca at 212-669-8616 or by email at jvacirca@dcas.nyc.gov    "
      ],
      "text/plain": [
       "<IPython.core.display.HTML object>"
      ]
     },
     "metadata": {},
     "output_type": "display_data"
    },
    {
     "name": "stdout",
     "output_type": "stream",
     "text": [
      "---\n",
      "{'error': 'bad input: [A Pre-Solicitation Conference for the above mentioned '\n",
      "          'commodity is scheduled for December 2, 2014 at 9:30am at 1 Centre '\n",
      "          'Street, New York, NY 10007, 18th floor.  The purpose of this '\n",
      "          'conference is to review proposed specifications for the commodity '\n",
      "          'listed above to ensure a good product and maximum competition. '\n",
      "          'Please make every effort to attend this conference, your '\n",
      "          'participation will assist us in revising the attached '\n",
      "          'specifications so they can be issued as a part of final bid '\n",
      "          'package.  A copy of the pre-solicitation package can be '\n",
      "          'downloaded from the City Record Online site at '\n",
      "          'http://a856-internet.nyc.gov/nycvendoronline/home.asp. Enrollment '\n",
      "          'is free. Please review the documents the before you attend the '\n",
      "          'conference. If you have questions regarding this conference, '\n",
      "          'please contact Joe Vacirca at 212-669-8616 or by email at '\n",
      "          'jvacirca@dcas.nyc.gov    ]'}\n"
     ]
    },
    {
     "data": {
      "text/html": [
       "<hr />"
      ],
      "text/plain": [
       "<IPython.core.display.HTML object>"
      ]
     },
     "metadata": {},
     "output_type": "display_data"
    },
    {
     "name": "stdout",
     "output_type": "stream",
     "text": [
      "\n",
      "\n",
      "\n"
     ]
    },
    {
     "data": {
      "text/html": [
       "A Pre-Solicitation Conference for the above mentioned commodity is scheduled for December 15, 2014 at the address below.  The purpose of this conference is to review proposed specifications for the commodity listed above to ensure a good product and maximum competition. Please make every effort to attend this conference, your participation will assist us in revising the attached specifications so they can be issued as a part of final bid package.  A copy of the pre-solicitation package can be downloaded from the City Record Online site at http://a856-internet.nyc.gov/nycvendoronline/home.asp. Enrollment is free. Please review the documents the before you attend the conference."
      ],
      "text/plain": [
       "<IPython.core.display.HTML object>"
      ]
     },
     "metadata": {},
     "output_type": "display_data"
    },
    {
     "name": "stdout",
     "output_type": "stream",
     "text": [
      "---\n",
      "{'error': 'bad input: [A Pre-Solicitation Conference for the above mentioned '\n",
      "          'commodity is scheduled for December 15, 2014 at the address '\n",
      "          'below.  The purpose of this conference is to review proposed '\n",
      "          'specifications for the commodity listed above to ensure a good '\n",
      "          'product and maximum competition. Please make every effort to '\n",
      "          'attend this conference, your participation will assist us in '\n",
      "          'revising the attached specifications so they can be issued as a '\n",
      "          'part of final bid package.  A copy of the pre-solicitation '\n",
      "          'package can be downloaded from the City Record Online site at '\n",
      "          'http://a856-internet.nyc.gov/nycvendoronline/home.asp. Enrollment '\n",
      "          'is free. Please review the documents the before you attend the '\n",
      "          'conference.]'}\n"
     ]
    },
    {
     "data": {
      "text/html": [
       "<hr />"
      ],
      "text/plain": [
       "<IPython.core.display.HTML object>"
      ]
     },
     "metadata": {},
     "output_type": "display_data"
    },
    {
     "name": "stdout",
     "output_type": "stream",
     "text": [
      "\n",
      "\n",
      "\n"
     ]
    },
    {
     "data": {
      "text/html": [
       "A copy of the bid can be downloaded from City Record Online at http://a856-internet.nyc.gov/nycvendoronline/home.asp . Enrollment is free. Vendor may also request the bid by contacting Vendor Relations via email at dcasdmssbids@dcas.nyc.gov, by telephone at 212-669-8610."
      ],
      "text/plain": [
       "<IPython.core.display.HTML object>"
      ]
     },
     "metadata": {},
     "output_type": "display_data"
    },
    {
     "name": "stdout",
     "output_type": "stream",
     "text": [
      "---\n",
      "{'error': 'bad input: [A copy of the bid can be downloaded from City Record '\n",
      "          'Online at http://a856-internet.nyc.gov/nycvendoronline/home.asp . '\n",
      "          'Enrollment is free. Vendor may also request the bid by contacting '\n",
      "          'Vendor Relations via email at dcasdmssbids@dcas.nyc.gov, by '\n",
      "          'telephone at 212-669-8610.]'}\n"
     ]
    },
    {
     "data": {
      "text/html": [
       "<hr />"
      ],
      "text/plain": [
       "<IPython.core.display.HTML object>"
      ]
     },
     "metadata": {},
     "output_type": "display_data"
    },
    {
     "name": "stdout",
     "output_type": "stream",
     "text": [
      "\n",
      "\n",
      "\n"
     ]
    },
    {
     "data": {
      "text/html": [
       "A copy of the bid can be downloaded from the City Record Online site at http://a856-internet.nyc.gov/nycvendoronline/home.asp. Enrollment is free. Vendors may also request the bid by contacting Vendor Relations via email at dcasdmssbids@dcas.nyc.gov, by telephone at 212-669-8610 or by fax at 212-669-7603."
      ],
      "text/plain": [
       "<IPython.core.display.HTML object>"
      ]
     },
     "metadata": {},
     "output_type": "display_data"
    },
    {
     "name": "stdout",
     "output_type": "stream",
     "text": [
      "---\n",
      "{'error': 'bad input: [A copy of the bid can be downloaded from the City '\n",
      "          'Record Online site at '\n",
      "          'http://a856-internet.nyc.gov/nycvendoronline/home.asp. Enrollment '\n",
      "          'is free. Vendors may also request the bid by contacting Vendor '\n",
      "          'Relations via email at dcasdmssbids@dcas.nyc.gov, by telephone at '\n",
      "          '212-669-8610 or by fax at 212-669-7603.]'}\n"
     ]
    },
    {
     "data": {
      "text/html": [
       "<hr />"
      ],
      "text/plain": [
       "<IPython.core.display.HTML object>"
      ]
     },
     "metadata": {},
     "output_type": "display_data"
    },
    {
     "name": "stdout",
     "output_type": "stream",
     "text": [
      "\n",
      "\n",
      "\n"
     ]
    },
    {
     "data": {
      "text/html": [
       "A copy of the bid can be downloaded from the City Record Online site at http://a856-internet.nyc.gov/nycvendoronline/home.asp. Enrollment is free. Vendors may also request the bid by contacting Vendor Relations via email at dcasdmssbids@dcas.nyc.gov, by telephone at 212-669-8610 or by fax at 212-669-7603."
      ],
      "text/plain": [
       "<IPython.core.display.HTML object>"
      ]
     },
     "metadata": {},
     "output_type": "display_data"
    },
    {
     "name": "stdout",
     "output_type": "stream",
     "text": [
      "---\n",
      "{'error': 'bad input: [A copy of the bid can be downloaded from the City '\n",
      "          'Record Online site at '\n",
      "          'http://a856-internet.nyc.gov/nycvendoronline/home.asp. Enrollment '\n",
      "          'is free. Vendors may also request the bid by contacting Vendor '\n",
      "          'Relations via email at dcasdmssbids@dcas.nyc.gov, by telephone at '\n",
      "          '212-669-8610 or by fax at 212-669-7603.]'}\n"
     ]
    },
    {
     "data": {
      "text/html": [
       "<hr />"
      ],
      "text/plain": [
       "<IPython.core.display.HTML object>"
      ]
     },
     "metadata": {},
     "output_type": "display_data"
    },
    {
     "name": "stdout",
     "output_type": "stream",
     "text": [
      "\n",
      "\n",
      "\n"
     ]
    },
    {
     "data": {
      "text/html": [
       "A copy of the bid can be downloaded from the City Record Online site at http://a856-internet.nyc.gov/nycvendoronline/home.asp. Enrollment is free. Vendors may also request the bid by contacting Vendor Relations via email at dcasdmssbids@dcas.nyc.gov, by telephone at 212-669-8610 or by fax at 212-669-7603."
      ],
      "text/plain": [
       "<IPython.core.display.HTML object>"
      ]
     },
     "metadata": {},
     "output_type": "display_data"
    },
    {
     "name": "stdout",
     "output_type": "stream",
     "text": [
      "---\n",
      "{'error': 'bad input: [A copy of the bid can be downloaded from the City '\n",
      "          'Record Online site at '\n",
      "          'http://a856-internet.nyc.gov/nycvendoronline/home.asp. Enrollment '\n",
      "          'is free. Vendors may also request the bid by contacting Vendor '\n",
      "          'Relations via email at dcasdmssbids@dcas.nyc.gov, by telephone at '\n",
      "          '212-669-8610 or by fax at 212-669-7603.]'}\n"
     ]
    },
    {
     "data": {
      "text/html": [
       "<hr />"
      ],
      "text/plain": [
       "<IPython.core.display.HTML object>"
      ]
     },
     "metadata": {},
     "output_type": "display_data"
    },
    {
     "name": "stdout",
     "output_type": "stream",
     "text": [
      "\n",
      "\n",
      "\n"
     ]
    },
    {
     "data": {
      "text/html": [
       "A copy of the bid can be downloaded from the City Record Online site at http://a856-internet.nyc.gov/nycvendoronline/home.asp. Enrollment is free. Vendors may also request the bid by contacting Vendor Relations via email at dcasdmssbids@dcas.nyc.gov, by telephone at 212-669-8610 or by fax at 212-669-7603."
      ],
      "text/plain": [
       "<IPython.core.display.HTML object>"
      ]
     },
     "metadata": {},
     "output_type": "display_data"
    },
    {
     "name": "stdout",
     "output_type": "stream",
     "text": [
      "---\n",
      "{'error': 'bad input: [A copy of the bid can be downloaded from the City '\n",
      "          'Record Online site at '\n",
      "          'http://a856-internet.nyc.gov/nycvendoronline/home.asp. Enrollment '\n",
      "          'is free. Vendors may also request the bid by contacting Vendor '\n",
      "          'Relations via email at dcasdmssbids@dcas.nyc.gov, by telephone at '\n",
      "          '212-669-8610 or by fax at 212-669-7603.]'}\n"
     ]
    },
    {
     "data": {
      "text/html": [
       "<hr />"
      ],
      "text/plain": [
       "<IPython.core.display.HTML object>"
      ]
     },
     "metadata": {},
     "output_type": "display_data"
    },
    {
     "name": "stdout",
     "output_type": "stream",
     "text": [
      "\n",
      "\n",
      "\n"
     ]
    },
    {
     "data": {
      "text/html": [
       "A copy of the bid can be downloaded from the City Record Online site at http://a856-internet.nyc.gov/nycvendoronline/home.asp. Enrollment is free. Vendors may also request the bid by contacting Vendor Relations via email at dcasdmssbids@dcas.nyc.gov, by telephone at 212-669-8610 or by fax at 212-669-7603."
      ],
      "text/plain": [
       "<IPython.core.display.HTML object>"
      ]
     },
     "metadata": {},
     "output_type": "display_data"
    },
    {
     "name": "stdout",
     "output_type": "stream",
     "text": [
      "---\n",
      "{'error': 'bad input: [A copy of the bid can be downloaded from the City '\n",
      "          'Record Online site at '\n",
      "          'http://a856-internet.nyc.gov/nycvendoronline/home.asp. Enrollment '\n",
      "          'is free. Vendors may also request the bid by contacting Vendor '\n",
      "          'Relations via email at dcasdmssbids@dcas.nyc.gov, by telephone at '\n",
      "          '212-669-8610 or by fax at 212-669-7603.]'}\n"
     ]
    },
    {
     "data": {
      "text/html": [
       "<hr />"
      ],
      "text/plain": [
       "<IPython.core.display.HTML object>"
      ]
     },
     "metadata": {},
     "output_type": "display_data"
    },
    {
     "name": "stdout",
     "output_type": "stream",
     "text": [
      "\n",
      "\n",
      "\n"
     ]
    },
    {
     "data": {
      "text/html": [
       "A copy of the bid can be downloaded from the City Record Online site at http://a856-internet.nyc.gov/nycvendoronline/home.asp. Enrollment is free. Vendors may also request the bid by contacting Vendor Relations via email at dcasdmssbids@dcas.nyc.gov, by telephone at 212-669-8610 or by fax at 212-669-7603."
      ],
      "text/plain": [
       "<IPython.core.display.HTML object>"
      ]
     },
     "metadata": {},
     "output_type": "display_data"
    },
    {
     "name": "stdout",
     "output_type": "stream",
     "text": [
      "---\n",
      "{'error': 'bad input: [A copy of the bid can be downloaded from the City '\n",
      "          'Record Online site at '\n",
      "          'http://a856-internet.nyc.gov/nycvendoronline/home.asp. Enrollment '\n",
      "          'is free. Vendors may also request the bid by contacting Vendor '\n",
      "          'Relations via email at dcasdmssbids@dcas.nyc.gov, by telephone at '\n",
      "          '212-669-8610 or by fax at 212-669-7603.]'}\n"
     ]
    },
    {
     "data": {
      "text/html": [
       "<hr />"
      ],
      "text/plain": [
       "<IPython.core.display.HTML object>"
      ]
     },
     "metadata": {},
     "output_type": "display_data"
    },
    {
     "name": "stdout",
     "output_type": "stream",
     "text": [
      "\n",
      "\n",
      "\n"
     ]
    },
    {
     "data": {
      "text/html": [
       "ITEM CORRECTIONS: A copy of the bid can be downloaded from the City Record Online site at http://a856-internet.nyc.gov/nycvendoronline/home.asp. Enrollment is free. Vendors may also request the bid by contacting Vendor Relations via email at dcasdmssbids@dcas.nyc.gov, by telephone at 212-669-8610 or by fax at 212-669-7603."
      ],
      "text/plain": [
       "<IPython.core.display.HTML object>"
      ]
     },
     "metadata": {},
     "output_type": "display_data"
    },
    {
     "name": "stdout",
     "output_type": "stream",
     "text": [
      "---\n",
      "{'error': 'bad input: [ITEM CORRECTIONS: A copy of the bid can be downloaded '\n",
      "          'from the City Record Online site at '\n",
      "          'http://a856-internet.nyc.gov/nycvendoronline/home.asp. Enrollment '\n",
      "          'is free. Vendors may also request the bid by contacting Vendor '\n",
      "          'Relations via email at dcasdmssbids@dcas.nyc.gov, by telephone at '\n",
      "          '212-669-8610 or by fax at 212-669-7603.]'}\n"
     ]
    },
    {
     "data": {
      "text/html": [
       "<hr />"
      ],
      "text/plain": [
       "<IPython.core.display.HTML object>"
      ]
     },
     "metadata": {},
     "output_type": "display_data"
    },
    {
     "name": "stdout",
     "output_type": "stream",
     "text": [
      "\n",
      "\n",
      "\n"
     ]
    },
    {
     "data": {
      "text/html": [
       "A copy of the bid can be downloaded from the City Record Online site at http://a856-internet.nyc.gov/nycvendoronline/home.asp. Enrollment is free. Vendors may also request the bid by contacting Vendor Relations via email at dcasdmssbids@dcas.nyc.gov, by telephone at 212-669-8610 or by fax at 212-669-7603."
      ],
      "text/plain": [
       "<IPython.core.display.HTML object>"
      ]
     },
     "metadata": {},
     "output_type": "display_data"
    },
    {
     "name": "stdout",
     "output_type": "stream",
     "text": [
      "---\n",
      "{'error': 'bad input: [A copy of the bid can be downloaded from the City '\n",
      "          'Record Online site at '\n",
      "          'http://a856-internet.nyc.gov/nycvendoronline/home.asp. Enrollment '\n",
      "          'is free. Vendors may also request the bid by contacting Vendor '\n",
      "          'Relations via email at dcasdmssbids@dcas.nyc.gov, by telephone at '\n",
      "          '212-669-8610 or by fax at 212-669-7603.]'}\n"
     ]
    },
    {
     "data": {
      "text/html": [
       "<hr />"
      ],
      "text/plain": [
       "<IPython.core.display.HTML object>"
      ]
     },
     "metadata": {},
     "output_type": "display_data"
    },
    {
     "name": "stdout",
     "output_type": "stream",
     "text": [
      "\n",
      "\n",
      "\n"
     ]
    },
    {
     "data": {
      "text/html": [
       "A copy of the bid can be downloaded from the City Record Online site at http://a856-internet.nyc.gov/nycvendoronline/home.asp. Enrollment is free. Vendors may also request the bid by contacting Vendor Relations via email at dcasdmssbids@dcas.nyc.gov, by telephone at 212-669-8610 or by fax at 212-669-7603.  "
      ],
      "text/plain": [
       "<IPython.core.display.HTML object>"
      ]
     },
     "metadata": {},
     "output_type": "display_data"
    },
    {
     "name": "stdout",
     "output_type": "stream",
     "text": [
      "---\n",
      "{'error': 'bad input: [A copy of the bid can be downloaded from the City '\n",
      "          'Record Online site at '\n",
      "          'http://a856-internet.nyc.gov/nycvendoronline/home.asp. Enrollment '\n",
      "          'is free. Vendors may also request the bid by contacting Vendor '\n",
      "          'Relations via email at dcasdmssbids@dcas.nyc.gov, by telephone at '\n",
      "          '212-669-8610 or by fax at 212-669-7603.  ]'}\n"
     ]
    },
    {
     "data": {
      "text/html": [
       "<hr />"
      ],
      "text/plain": [
       "<IPython.core.display.HTML object>"
      ]
     },
     "metadata": {},
     "output_type": "display_data"
    },
    {
     "name": "stdout",
     "output_type": "stream",
     "text": [
      "\n",
      "\n",
      "\n"
     ]
    }
   ],
   "source": [
    "for rec in fix[['output', 'AdditionalDescription']].values:\n",
    "    output, text = rec\n",
    "    if not isinstance(text, str):\n",
    "        text = 'NAN'\n",
    "    display(HTML(text))\n",
    "    print('---')\n",
    "    pprint.pprint(json.loads(output))\n",
    "    display(HTML('<hr />'))\n",
    "    print('\\n\\n')"
   ]
  },
  {
   "cell_type": "code",
   "execution_count": null,
   "metadata": {
    "collapsed": true
   },
   "outputs": [],
   "source": []
  },
  {
   "cell_type": "code",
   "execution_count": null,
   "metadata": {
    "collapsed": true
   },
   "outputs": [],
   "source": []
  }
 ],
 "metadata": {
  "kernelspec": {
   "display_name": "Python 3",
   "language": "python",
   "name": "python3"
  },
  "language_info": {
   "codemirror_mode": {
    "name": "ipython",
    "version": 3
   },
   "file_extension": ".py",
   "mimetype": "text/x-python",
   "name": "python",
   "nbconvert_exporter": "python",
   "pygments_lexer": "ipython3",
   "version": "3.4.3"
  }
 },
 "nbformat": 4,
 "nbformat_minor": 0
}
