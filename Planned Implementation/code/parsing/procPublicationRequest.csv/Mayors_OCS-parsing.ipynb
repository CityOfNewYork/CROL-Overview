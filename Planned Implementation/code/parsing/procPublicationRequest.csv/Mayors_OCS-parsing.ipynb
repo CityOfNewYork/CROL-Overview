{
 "cells": [
  {
   "cell_type": "code",
   "execution_count": 1,
   "metadata": {
    "collapsed": false
   },
   "outputs": [],
   "source": [
    "import re\n",
    "import pandas as pd\n",
    "import json\n",
    "from bs4 import BeautifulSoup as Soup\n",
    "import pprint\n",
    "\n",
    "#pd.options.display.max_rows=100"
   ]
  },
  {
   "cell_type": "code",
   "execution_count": 2,
   "metadata": {
    "collapsed": false
   },
   "outputs": [],
   "source": [
    "fn = 'procPublicationRequest Oct-Dec 2014 (Updated) - Sheet1-2.csv'\n",
    "t1 = pd.read_csv(fn, header=0)"
   ]
  },
  {
   "cell_type": "code",
   "execution_count": 3,
   "metadata": {
    "collapsed": false
   },
   "outputs": [],
   "source": [
    "def strip_text(row):\n",
    "    html = row.AdditionalDescription\n",
    "    row['scrape'] = ''\n",
    "    if isinstance(html, str):\n",
    "        row['scrape'] = Soup(html).getText ()\n",
    "    return row"
   ]
  },
  {
   "cell_type": "code",
   "execution_count": 4,
   "metadata": {
    "collapsed": false,
    "scrolled": true
   },
   "outputs": [
    {
     "data": {
      "text/html": [
       "<div style=\"max-height:1000px;max-width:1500px;overflow:auto;\">\n",
       "<table border=\"1\" class=\"dataframe\">\n",
       "  <thead>\n",
       "    <tr style=\"text-align: right;\">\n",
       "      <th></th>\n",
       "      <th>RequestID</th>\n",
       "      <th>StartDate</th>\n",
       "      <th>EndDate</th>\n",
       "      <th>AgencyCode</th>\n",
       "      <th>AgencyName</th>\n",
       "      <th>AgencyDivision</th>\n",
       "      <th>TypeOfNoticeCode</th>\n",
       "      <th>TypeOfNoticeDescription</th>\n",
       "      <th>ShortTitle</th>\n",
       "      <th>SectionID</th>\n",
       "      <th>...</th>\n",
       "      <th>1.120</th>\n",
       "      <th>1.121</th>\n",
       "      <th>1.122</th>\n",
       "      <th>1.123</th>\n",
       "      <th>1.124</th>\n",
       "      <th>1.125</th>\n",
       "      <th>1.126</th>\n",
       "      <th>1.127</th>\n",
       "      <th>1.128</th>\n",
       "      <th>scrape</th>\n",
       "    </tr>\n",
       "  </thead>\n",
       "  <tbody>\n",
       "    <tr>\n",
       "      <th>0</th>\n",
       "      <td>20130621104</td>\n",
       "      <td>1/2/2014 0:00:00</td>\n",
       "      <td>12/31/2014 0:00:00</td>\n",
       "      <td>56</td>\n",
       "      <td>Police</td>\n",
       "      <td>NaN</td>\n",
       "      <td>13</td>\n",
       "      <td>Notice</td>\n",
       "      <td>The following listed property is in the custod...</td>\n",
       "      <td>3</td>\n",
       "      <td>...</td>\n",
       "      <td>NaN</td>\n",
       "      <td>NaN</td>\n",
       "      <td>NaN</td>\n",
       "      <td>NaN</td>\n",
       "      <td>NaN</td>\n",
       "      <td>NaN</td>\n",
       "      <td>NaN</td>\n",
       "      <td>NaN</td>\n",
       "      <td>NaN</td>\n",
       "      <td>OWNERS ARE WANTED BY THE PROPERTY CLERK DIVIS...</td>\n",
       "    </tr>\n",
       "    <tr>\n",
       "      <th>1</th>\n",
       "      <td>20131104111</td>\n",
       "      <td>9/29/2014 0:00:00</td>\n",
       "      <td>10/8/2014 0:00:00</td>\n",
       "      <td>OCS</td>\n",
       "      <td>Mayor's Office of Contract Services</td>\n",
       "      <td>NaN</td>\n",
       "      <td>12</td>\n",
       "      <td>Meeting</td>\n",
       "      <td>FCRC Public Meeting Notice</td>\n",
       "      <td>1</td>\n",
       "      <td>...</td>\n",
       "      <td>NaN</td>\n",
       "      <td>NaN</td>\n",
       "      <td>NaN</td>\n",
       "      <td>NaN</td>\n",
       "      <td>NaN</td>\n",
       "      <td>NaN</td>\n",
       "      <td>NaN</td>\n",
       "      <td>NaN</td>\n",
       "      <td>NaN</td>\n",
       "      <td>...</td>\n",
       "    </tr>\n",
       "  </tbody>\n",
       "</table>\n",
       "<p>2 rows × 145 columns</p>\n",
       "</div>"
      ],
      "text/plain": [
       "     RequestID          StartDate             EndDate AgencyCode  \\\n",
       "0  20130621104   1/2/2014 0:00:00  12/31/2014 0:00:00         56   \n",
       "1  20131104111  9/29/2014 0:00:00   10/8/2014 0:00:00        OCS   \n",
       "\n",
       "                            AgencyName AgencyDivision  TypeOfNoticeCode  \\\n",
       "0                               Police            NaN                13   \n",
       "1  Mayor's Office of Contract Services            NaN                12   \n",
       "\n",
       "  TypeOfNoticeDescription                                         ShortTitle  \\\n",
       "0                  Notice  The following listed property is in the custod...   \n",
       "1                 Meeting                         FCRC Public Meeting Notice   \n",
       "\n",
       "   SectionID                        ...                         1.120 1.121  \\\n",
       "0          3                        ...                           NaN   NaN   \n",
       "1          1                        ...                           NaN   NaN   \n",
       "\n",
       "   1.122 1.123  1.124 1.125 1.126 1.127 1.128  \\\n",
       "0    NaN   NaN    NaN   NaN   NaN   NaN   NaN   \n",
       "1    NaN   NaN    NaN   NaN   NaN   NaN   NaN   \n",
       "\n",
       "                                              scrape  \n",
       "0   OWNERS ARE WANTED BY THE PROPERTY CLERK DIVIS...  \n",
       "1                                                ...  \n",
       "\n",
       "[2 rows x 145 columns]"
      ]
     },
     "execution_count": 4,
     "metadata": {},
     "output_type": "execute_result"
    }
   ],
   "source": [
    "fixed = t1.apply(strip_text,1)\n",
    "fixed.head(2)"
   ]
  },
  {
   "cell_type": "code",
   "execution_count": 9,
   "metadata": {
    "collapsed": false
   },
   "outputs": [
    {
     "data": {
      "text/plain": [
       "Mayor's Office of Contract Services       67\n",
       "Community Boards                          36\n",
       "Citywide Administrative Services          35\n",
       "Landmarks Preservation Commission         18\n",
       "Housing Preservation and Development      18\n",
       "Human Resources Administration            17\n",
       "Transportation                            16\n",
       "Health and Mental Hygiene                 15\n",
       "Administration for Children's Services    14\n",
       "City Planning                             13\n",
       "dtype: int64"
      ]
     },
     "execution_count": 9,
     "metadata": {},
     "output_type": "execute_result"
    }
   ],
   "source": [
    "agencyNames = sorted(list(fixed['AgencyName'].unique()))\n",
    "fixed['AgencyName'].value_counts().head(10)"
   ]
  },
  {
   "cell_type": "code",
   "execution_count": 10,
   "metadata": {
    "collapsed": false
   },
   "outputs": [
    {
     "data": {
      "text/plain": [
       "array(['Notice', 'Meeting', 'Public Hearings', 'Sale'], dtype=object)"
      ]
     },
     "execution_count": 10,
     "metadata": {},
     "output_type": "execute_result"
    }
   ],
   "source": [
    "noticeDescription = pd.unique(fixed.TypeOfNoticeDescription.ravel())\n",
    "noticeDescription"
   ]
  },
  {
   "cell_type": "markdown",
   "metadata": {},
   "source": [
    "# Parse Notices"
   ]
  },
  {
   "cell_type": "code",
   "execution_count": 11,
   "metadata": {
    "collapsed": false
   },
   "outputs": [],
   "source": [
    "mocs = fixed['AgencyName'] == \"Mayor's Office of Contract Services\" \n",
    "# meets = fixed['TypeOfNoticeDescription'] == \"Meeting\"\n",
    "notices = fixed['TypeOfNoticeDescription'] == \"Notice\""
   ]
  },
  {
   "cell_type": "code",
   "execution_count": 12,
   "metadata": {
    "collapsed": false
   },
   "outputs": [
    {
     "data": {
      "text/plain": [
       "Notice     64\n",
       "Meeting     3\n",
       "dtype: int64"
      ]
     },
     "execution_count": 12,
     "metadata": {},
     "output_type": "execute_result"
    }
   ],
   "source": [
    "fixed[mocs].TypeOfNoticeDescription.value_counts()"
   ]
  },
  {
   "cell_type": "code",
   "execution_count": 13,
   "metadata": {
    "collapsed": false,
    "scrolled": false
   },
   "outputs": [
    {
     "data": {
      "text/plain": [
       "Index(['Notice', 'Meeting'], dtype='object')"
      ]
     },
     "execution_count": 13,
     "metadata": {},
     "output_type": "execute_result"
    }
   ],
   "source": [
    "fixed[mocs].TypeOfNoticeDescription.value_counts().keys()"
   ]
  },
  {
   "cell_type": "code",
   "execution_count": 14,
   "metadata": {
    "collapsed": false,
    "scrolled": false
   },
   "outputs": [
    {
     "name": "stderr",
     "output_type": "stream",
     "text": [
      "/Users/cds/dev/python/crow/lib/python3.4/site-packages/pandas/core/frame.py:1815: UserWarning: Boolean Series key will be reindexed to match DataFrame index.\n",
      "  \"DataFrame index.\", UserWarning)\n"
     ]
    },
    {
     "data": {
      "text/html": [
       "<div style=\"max-height:1000px;max-width:1500px;overflow:auto;\">\n",
       "<table border=\"1\" class=\"dataframe\">\n",
       "  <thead>\n",
       "    <tr style=\"text-align: right;\">\n",
       "      <th></th>\n",
       "      <th>RequestID</th>\n",
       "      <th>AgencyCode</th>\n",
       "      <th>AgencyName</th>\n",
       "      <th>TypeOfNoticeCode</th>\n",
       "      <th>TypeOfNoticeDescription</th>\n",
       "      <th>ShortTitle</th>\n",
       "      <th>SectionID</th>\n",
       "      <th>SectionName</th>\n",
       "      <th>ConfirmationNumber</th>\n",
       "      <th>AdditionalDescription</th>\n",
       "      <th>scrape</th>\n",
       "    </tr>\n",
       "  </thead>\n",
       "  <tbody>\n",
       "    <tr>\n",
       "      <th>47</th>\n",
       "      <td>20140930106</td>\n",
       "      <td>OCS</td>\n",
       "      <td>Mayor's Office of Contract Services</td>\n",
       "      <td>13</td>\n",
       "      <td>Notice</td>\n",
       "      <td>DOITT extension</td>\n",
       "      <td>5</td>\n",
       "      <td>Special Materials</td>\n",
       "      <td>20140930106</td>\n",
       "      <td>&lt;p&gt; &lt;u&gt;Notice of Intent to Extend Contract(s) ...</td>\n",
       "      <td>Notice of Intent to Extend Contract(s) Not In...</td>\n",
       "    </tr>\n",
       "    <tr>\n",
       "      <th>55</th>\n",
       "      <td>20141001102</td>\n",
       "      <td>OCS</td>\n",
       "      <td>Mayor's Office of Contract Services</td>\n",
       "      <td>13</td>\n",
       "      <td>Notice</td>\n",
       "      <td>LL 63 Posting</td>\n",
       "      <td>5</td>\n",
       "      <td>Special Materials</td>\n",
       "      <td>20141001102</td>\n",
       "      <td>&lt;p&gt; &lt;u&gt;Notice of Intent to Issue New Solicitat...</td>\n",
       "      <td>Notice of Intent to Issue New Solicitation(s)...</td>\n",
       "    </tr>\n",
       "    <tr>\n",
       "      <th>60</th>\n",
       "      <td>20141001124</td>\n",
       "      <td>OCS</td>\n",
       "      <td>Mayor's Office of Contract Services</td>\n",
       "      <td>13</td>\n",
       "      <td>Notice</td>\n",
       "      <td>LL63--DDC Amendment Extensions</td>\n",
       "      <td>5</td>\n",
       "      <td>Special Materials</td>\n",
       "      <td>20141001124</td>\n",
       "      <td>&lt;p&gt; &lt;u&gt;Notice of Intent to Extend Contract(s) ...</td>\n",
       "      <td>Notice of Intent to Extend Contract(s) Not In...</td>\n",
       "    </tr>\n",
       "    <tr>\n",
       "      <th>61</th>\n",
       "      <td>20141001125</td>\n",
       "      <td>OCS</td>\n",
       "      <td>Mayor's Office of Contract Services</td>\n",
       "      <td>13</td>\n",
       "      <td>Notice</td>\n",
       "      <td>LL63-- DDC New Procurements</td>\n",
       "      <td>5</td>\n",
       "      <td>Special Materials</td>\n",
       "      <td>20141001125</td>\n",
       "      <td>&lt;p&gt; &lt;u&gt;Notice of Intent to Issue New Solicitat...</td>\n",
       "      <td>Notice of Intent to Issue New Solicitation(s)...</td>\n",
       "    </tr>\n",
       "    <tr>\n",
       "      <th>67</th>\n",
       "      <td>20141002106</td>\n",
       "      <td>OCS</td>\n",
       "      <td>Mayor's Office of Contract Services</td>\n",
       "      <td>13</td>\n",
       "      <td>Notice</td>\n",
       "      <td>LL63-- DDC New Procurement</td>\n",
       "      <td>5</td>\n",
       "      <td>Special Materials</td>\n",
       "      <td>20141002106</td>\n",
       "      <td>&lt;p&gt; &lt;u&gt;Notice of Intent to Issue New Solicitat...</td>\n",
       "      <td>Notice of Intent to Issue New Solicitation(s)...</td>\n",
       "    </tr>\n",
       "    <tr>\n",
       "      <th>68</th>\n",
       "      <td>20141002107</td>\n",
       "      <td>OCS</td>\n",
       "      <td>Mayor's Office of Contract Services</td>\n",
       "      <td>13</td>\n",
       "      <td>Notice</td>\n",
       "      <td>LL63 -- OMB New Procurement</td>\n",
       "      <td>5</td>\n",
       "      <td>Special Materials</td>\n",
       "      <td>20141002107</td>\n",
       "      <td>&lt;p&gt; &lt;u&gt;Notice of Intent to Issue New Solicitat...</td>\n",
       "      <td>Notice of Intent to Issue New Solicitation(s)...</td>\n",
       "    </tr>\n",
       "    <tr>\n",
       "      <th>69</th>\n",
       "      <td>20141002108</td>\n",
       "      <td>OCS</td>\n",
       "      <td>Mayor's Office of Contract Services</td>\n",
       "      <td>13</td>\n",
       "      <td>Notice</td>\n",
       "      <td>LL63 - Department of Parks and Recreation- New...</td>\n",
       "      <td>5</td>\n",
       "      <td>Special Materials</td>\n",
       "      <td>20141002108</td>\n",
       "      <td>&lt;p&gt; &lt;u&gt;Notice of Intent to Issue New Solicitat...</td>\n",
       "      <td>Notice of Intent to Issue New Solicitation(s)...</td>\n",
       "    </tr>\n",
       "    <tr>\n",
       "      <th>73</th>\n",
       "      <td>20141003102</td>\n",
       "      <td>OCS</td>\n",
       "      <td>Mayor's Office of Contract Services</td>\n",
       "      <td>13</td>\n",
       "      <td>Notice</td>\n",
       "      <td>LL 63 Posting</td>\n",
       "      <td>5</td>\n",
       "      <td>Special Materials</td>\n",
       "      <td>20141003102</td>\n",
       "      <td>&lt;p&gt; &lt;u&gt;Notice of Intent to Extend Contract(s) ...</td>\n",
       "      <td>Notice of Intent to Extend Contract(s) Not In...</td>\n",
       "    </tr>\n",
       "    <tr>\n",
       "      <th>75</th>\n",
       "      <td>20141003105</td>\n",
       "      <td>OCS</td>\n",
       "      <td>Mayor's Office of Contract Services</td>\n",
       "      <td>13</td>\n",
       "      <td>Notice</td>\n",
       "      <td>LL 63 Posting</td>\n",
       "      <td>5</td>\n",
       "      <td>Special Materials</td>\n",
       "      <td>20141003105</td>\n",
       "      <td>&lt;p&gt; &lt;u&gt;Notice of Intent to Issue New Solicitat...</td>\n",
       "      <td>Notice of Intent to Issue New Solicitation(s)...</td>\n",
       "    </tr>\n",
       "    <tr>\n",
       "      <th>77</th>\n",
       "      <td>20141003107</td>\n",
       "      <td>OCS</td>\n",
       "      <td>Mayor's Office of Contract Services</td>\n",
       "      <td>13</td>\n",
       "      <td>Notice</td>\n",
       "      <td>LL63 -Human Resources Administration- New Cont...</td>\n",
       "      <td>5</td>\n",
       "      <td>Special Materials</td>\n",
       "      <td>20141003107</td>\n",
       "      <td>&lt;p&gt; &lt;u&gt;Notice of Intent to Issue New Solicitat...</td>\n",
       "      <td>Notice of Intent to Issue New Solicitation(s)...</td>\n",
       "    </tr>\n",
       "    <tr>\n",
       "      <th>84</th>\n",
       "      <td>20141006106</td>\n",
       "      <td>OCS</td>\n",
       "      <td>Mayor's Office of Contract Services</td>\n",
       "      <td>13</td>\n",
       "      <td>Notice</td>\n",
       "      <td>LL63-- OMB Renewals</td>\n",
       "      <td>5</td>\n",
       "      <td>Special Materials</td>\n",
       "      <td>20141006106</td>\n",
       "      <td>&lt;p&gt; &lt;u&gt;Notice of Intent to Extend Contract(s) ...</td>\n",
       "      <td>Notice of Intent to Extend Contract(s) Not In...</td>\n",
       "    </tr>\n",
       "    <tr>\n",
       "      <th>91</th>\n",
       "      <td>20141007107</td>\n",
       "      <td>OCS</td>\n",
       "      <td>Mayor's Office of Contract Services</td>\n",
       "      <td>13</td>\n",
       "      <td>Notice</td>\n",
       "      <td>LL63-- OCME New Procurement</td>\n",
       "      <td>5</td>\n",
       "      <td>Special Materials</td>\n",
       "      <td>20141007107</td>\n",
       "      <td>&lt;p&gt; &lt;u&gt;Notice of Intent to Issue New Solicitat...</td>\n",
       "      <td>Notice of Intent to Issue New Solicitation(s)...</td>\n",
       "    </tr>\n",
       "    <tr>\n",
       "      <th>97</th>\n",
       "      <td>20141008104</td>\n",
       "      <td>OCS</td>\n",
       "      <td>Mayor's Office of Contract Services</td>\n",
       "      <td>13</td>\n",
       "      <td>Notice</td>\n",
       "      <td>LL63-Department of Homeless Services-New Contract</td>\n",
       "      <td>5</td>\n",
       "      <td>Special Materials</td>\n",
       "      <td>20141008104</td>\n",
       "      <td>&lt;p&gt; &lt;u&gt;Notice of Intent to Issue New Solicitat...</td>\n",
       "      <td>Notice of Intent to Issue New Solicitation(s)...</td>\n",
       "    </tr>\n",
       "    <tr>\n",
       "      <th>103</th>\n",
       "      <td>20141008110</td>\n",
       "      <td>OCS</td>\n",
       "      <td>Mayor's Office of Contract Services</td>\n",
       "      <td>13</td>\n",
       "      <td>Notice</td>\n",
       "      <td>NYPD Intergovernmental</td>\n",
       "      <td>5</td>\n",
       "      <td>Special Materials</td>\n",
       "      <td>20141008110</td>\n",
       "      <td>&lt;p&gt; &lt;u&gt;Notice of Intent to Issue New Solicitat...</td>\n",
       "      <td>Notice of Intent to Issue New Solicitation(s)...</td>\n",
       "    </tr>\n",
       "    <tr>\n",
       "      <th>104</th>\n",
       "      <td>20141008112</td>\n",
       "      <td>OCS</td>\n",
       "      <td>Mayor's Office of Contract Services</td>\n",
       "      <td>13</td>\n",
       "      <td>Notice</td>\n",
       "      <td>DOITT 11 postings</td>\n",
       "      <td>5</td>\n",
       "      <td>Special Materials</td>\n",
       "      <td>20141008112</td>\n",
       "      <td>&lt;p&gt; &lt;u&gt;Notice of Intent to Issue New Solicitat...</td>\n",
       "      <td>Notice of Intent to Issue New Solicitation(s)...</td>\n",
       "    </tr>\n",
       "    <tr>\n",
       "      <th>107</th>\n",
       "      <td>20141009107</td>\n",
       "      <td>OCS</td>\n",
       "      <td>Mayor's Office of Contract Services</td>\n",
       "      <td>13</td>\n",
       "      <td>Notice</td>\n",
       "      <td>LL63-- Revised DDC New Procurement</td>\n",
       "      <td>5</td>\n",
       "      <td>Special Materials</td>\n",
       "      <td>20141009107</td>\n",
       "      <td>&lt;p style=text-align: center;\"&gt; &lt;strong&gt;&lt;span&gt;C...</td>\n",
       "      <td>CORRECTED NOTICE     Notice of Intent to Issu...</td>\n",
       "    </tr>\n",
       "    <tr>\n",
       "      <th>121</th>\n",
       "      <td>20141014101</td>\n",
       "      <td>OCS</td>\n",
       "      <td>Mayor's Office of Contract Services</td>\n",
       "      <td>13</td>\n",
       "      <td>Notice</td>\n",
       "      <td>LL63-Department of Parks and Recreation-New Pr...</td>\n",
       "      <td>5</td>\n",
       "      <td>Special Materials</td>\n",
       "      <td>20141014101</td>\n",
       "      <td>&lt;p&gt; &lt;u&gt;Notice of Intent to Issue New Solicitat...</td>\n",
       "      <td>Notice of Intent to Issue New Solicitation(s)...</td>\n",
       "    </tr>\n",
       "    <tr>\n",
       "      <th>133</th>\n",
       "      <td>20141016105</td>\n",
       "      <td>OCS</td>\n",
       "      <td>Mayor's Office of Contract Services</td>\n",
       "      <td>13</td>\n",
       "      <td>Notice</td>\n",
       "      <td>LL63-Office of Emergency Management-Extension</td>\n",
       "      <td>5</td>\n",
       "      <td>Special Materials</td>\n",
       "      <td>20141016105</td>\n",
       "      <td>&lt;p&gt; &lt;u&gt;Notice of Intent to Extend Contract(s) ...</td>\n",
       "      <td>Notice of Intent to Extend Contract(s) Not In...</td>\n",
       "    </tr>\n",
       "    <tr>\n",
       "      <th>155</th>\n",
       "      <td>20141021105</td>\n",
       "      <td>OCS</td>\n",
       "      <td>Mayor's Office of Contract Services</td>\n",
       "      <td>13</td>\n",
       "      <td>Notice</td>\n",
       "      <td>LL63-- DDC New Solicitation</td>\n",
       "      <td>5</td>\n",
       "      <td>Special Materials</td>\n",
       "      <td>20141021105</td>\n",
       "      <td>&lt;p&gt; &lt;u&gt;Notice of Intent to Issue New Solicitat...</td>\n",
       "      <td>Notice of Intent to Issue New Solicitation(s)...</td>\n",
       "    </tr>\n",
       "    <tr>\n",
       "      <th>157</th>\n",
       "      <td>20141021107</td>\n",
       "      <td>OCS</td>\n",
       "      <td>Mayor's Office of Contract Services</td>\n",
       "      <td>13</td>\n",
       "      <td>Notice</td>\n",
       "      <td>LL63- DDC New Procurements</td>\n",
       "      <td>5</td>\n",
       "      <td>Special Materials</td>\n",
       "      <td>20141021107</td>\n",
       "      <td>&lt;p&gt; Please see attached document.&lt;/p&gt; &lt;p&gt; &amp;nbs...</td>\n",
       "      <td>Please see attached document.</td>\n",
       "    </tr>\n",
       "    <tr>\n",
       "      <th>182</th>\n",
       "      <td>20141023111</td>\n",
       "      <td>OCS</td>\n",
       "      <td>Mayor's Office of Contract Services</td>\n",
       "      <td>13</td>\n",
       "      <td>Notice</td>\n",
       "      <td>LL63 Notice</td>\n",
       "      <td>5</td>\n",
       "      <td>Special Materials</td>\n",
       "      <td>20141023111</td>\n",
       "      <td>&lt;p&gt; &lt;u&gt;Notice of Intent to Issue New Solicitat...</td>\n",
       "      <td>Notice of Intent to Issue New Solicitation(s)...</td>\n",
       "    </tr>\n",
       "    <tr>\n",
       "      <th>194</th>\n",
       "      <td>20141027107</td>\n",
       "      <td>OCS</td>\n",
       "      <td>Mayor's Office of Contract Services</td>\n",
       "      <td>13</td>\n",
       "      <td>Notice</td>\n",
       "      <td>LL 63</td>\n",
       "      <td>5</td>\n",
       "      <td>Special Materials</td>\n",
       "      <td>20141027107</td>\n",
       "      <td>&lt;p&gt; &lt;u&gt;Notice of Intent to Issue New Solicitat...</td>\n",
       "      <td>Notice of Intent to Issue New Solicitation(s)...</td>\n",
       "    </tr>\n",
       "    <tr>\n",
       "      <th>205</th>\n",
       "      <td>20141029102</td>\n",
       "      <td>OCS</td>\n",
       "      <td>Mayor's Office of Contract Services</td>\n",
       "      <td>13</td>\n",
       "      <td>Notice</td>\n",
       "      <td>LL63-- ACS Renewal Contract</td>\n",
       "      <td>5</td>\n",
       "      <td>Special Materials</td>\n",
       "      <td>20141029102</td>\n",
       "      <td>&lt;p&gt; &lt;u&gt;Notice of Intent to Extend Contract(s) ...</td>\n",
       "      <td>Notice of Intent to Extend Contract(s) Not In...</td>\n",
       "    </tr>\n",
       "    <tr>\n",
       "      <th>224</th>\n",
       "      <td>20141103103</td>\n",
       "      <td>OCS</td>\n",
       "      <td>Mayor's Office of Contract Services</td>\n",
       "      <td>13</td>\n",
       "      <td>Notice</td>\n",
       "      <td>LL63- Human Resources Administration- Extension</td>\n",
       "      <td>5</td>\n",
       "      <td>Special Materials</td>\n",
       "      <td>20141103103</td>\n",
       "      <td>&lt;p&gt; &lt;u&gt;Notice of Intent to Extend Contract(s) ...</td>\n",
       "      <td>Notice of Intent to Extend Contract(s) Not In...</td>\n",
       "    </tr>\n",
       "    <tr>\n",
       "      <th>225</th>\n",
       "      <td>20141103104</td>\n",
       "      <td>OCS</td>\n",
       "      <td>Mayor's Office of Contract Services</td>\n",
       "      <td>13</td>\n",
       "      <td>Notice</td>\n",
       "      <td>LL63 Notice</td>\n",
       "      <td>5</td>\n",
       "      <td>Special Materials</td>\n",
       "      <td>20141103104</td>\n",
       "      <td>&lt;p&gt; &lt;u&gt;Notice of Intent to Extend Contract(s) ...</td>\n",
       "      <td>Notice of Intent to Extend Contract(s) Not In...</td>\n",
       "    </tr>\n",
       "    <tr>\n",
       "      <th>229</th>\n",
       "      <td>20141103109</td>\n",
       "      <td>OCS</td>\n",
       "      <td>Mayor's Office of Contract Services</td>\n",
       "      <td>13</td>\n",
       "      <td>Notice</td>\n",
       "      <td>LL63-- DDC New Procurement Posting Correction</td>\n",
       "      <td>5</td>\n",
       "      <td>Special Materials</td>\n",
       "      <td>20141103109</td>\n",
       "      <td>&lt;p&gt; &lt;u&gt;Notice of Intent to Issue New Solicitat...</td>\n",
       "      <td>Notice of Intent to Issue New Solicitation(s)...</td>\n",
       "    </tr>\n",
       "    <tr>\n",
       "      <th>270</th>\n",
       "      <td>20141114110</td>\n",
       "      <td>OCS</td>\n",
       "      <td>Mayor's Office of Contract Services</td>\n",
       "      <td>13</td>\n",
       "      <td>Notice</td>\n",
       "      <td>LL 63 Posting</td>\n",
       "      <td>5</td>\n",
       "      <td>Special Materials</td>\n",
       "      <td>20141114110</td>\n",
       "      <td>&lt;p&gt; &lt;u&gt;Notice of Intent to Issue New Solicitat...</td>\n",
       "      <td>Notice of Intent to Issue New Solicitation(s)...</td>\n",
       "    </tr>\n",
       "    <tr>\n",
       "      <th>271</th>\n",
       "      <td>20141114111</td>\n",
       "      <td>OCS</td>\n",
       "      <td>Mayor's Office of Contract Services</td>\n",
       "      <td>13</td>\n",
       "      <td>Notice</td>\n",
       "      <td>LL 63 Posting</td>\n",
       "      <td>5</td>\n",
       "      <td>Special Materials</td>\n",
       "      <td>20141114111</td>\n",
       "      <td>&lt;p&gt; &lt;u&gt;Notice of Intent to Extend Contract(s) ...</td>\n",
       "      <td>Notice of Intent to Extend Contract(s) Not In...</td>\n",
       "    </tr>\n",
       "    <tr>\n",
       "      <th>273</th>\n",
       "      <td>20141117102</td>\n",
       "      <td>OCS</td>\n",
       "      <td>Mayor's Office of Contract Services</td>\n",
       "      <td>13</td>\n",
       "      <td>Notice</td>\n",
       "      <td>LL63-- DDC New Procurements</td>\n",
       "      <td>5</td>\n",
       "      <td>Special Materials</td>\n",
       "      <td>20141117102</td>\n",
       "      <td>&lt;p&gt; &amp;nbsp;&lt;/p&gt; &lt;p&gt; &lt;u&gt;Notice of Intent to Issu...</td>\n",
       "      <td>Notice of Intent to Issue New Solicitation...</td>\n",
       "    </tr>\n",
       "    <tr>\n",
       "      <th>276</th>\n",
       "      <td>20141117105</td>\n",
       "      <td>OCS</td>\n",
       "      <td>Mayor's Office of Contract Services</td>\n",
       "      <td>13</td>\n",
       "      <td>Notice</td>\n",
       "      <td>LL 63-Department of Parks and Recreation-new c...</td>\n",
       "      <td>5</td>\n",
       "      <td>Special Materials</td>\n",
       "      <td>20141117105</td>\n",
       "      <td>&lt;p&gt; &lt;u&gt;Notice of Intent to Issue New Solicitat...</td>\n",
       "      <td>Notice of Intent to Issue New Solicitation(s)...</td>\n",
       "    </tr>\n",
       "    <tr>\n",
       "      <th>...</th>\n",
       "      <td>...</td>\n",
       "      <td>...</td>\n",
       "      <td>...</td>\n",
       "      <td>...</td>\n",
       "      <td>...</td>\n",
       "      <td>...</td>\n",
       "      <td>...</td>\n",
       "      <td>...</td>\n",
       "      <td>...</td>\n",
       "      <td>...</td>\n",
       "      <td>...</td>\n",
       "    </tr>\n",
       "    <tr>\n",
       "      <th>331</th>\n",
       "      <td>20141125102</td>\n",
       "      <td>OCS</td>\n",
       "      <td>Mayor's Office of Contract Services</td>\n",
       "      <td>13</td>\n",
       "      <td>Notice</td>\n",
       "      <td>LL63-Office of Labor Relations-Extension</td>\n",
       "      <td>5</td>\n",
       "      <td>Special Materials</td>\n",
       "      <td>20141125102</td>\n",
       "      <td>&lt;p&gt; &lt;u&gt;Notice of Intent to Extend Contract(s) ...</td>\n",
       "      <td>Notice of Intent to Extend Contract(s) Not In...</td>\n",
       "    </tr>\n",
       "    <tr>\n",
       "      <th>334</th>\n",
       "      <td>20141125105</td>\n",
       "      <td>OCS</td>\n",
       "      <td>Mayor's Office of Contract Services</td>\n",
       "      <td>13</td>\n",
       "      <td>Notice</td>\n",
       "      <td>LL 63-Human Resources Administration-New Procu...</td>\n",
       "      <td>5</td>\n",
       "      <td>Special Materials</td>\n",
       "      <td>20141125105</td>\n",
       "      <td>&lt;p&gt; &lt;u&gt;Notice of Intent to Issue New Solicitat...</td>\n",
       "      <td>Notice of Intent to Issue New Solicitation(s)...</td>\n",
       "    </tr>\n",
       "    <tr>\n",
       "      <th>339</th>\n",
       "      <td>20141125111</td>\n",
       "      <td>OCS</td>\n",
       "      <td>Mayor's Office of Contract Services</td>\n",
       "      <td>13</td>\n",
       "      <td>Notice</td>\n",
       "      <td>LL63--Department of Parks and Recreation--New ...</td>\n",
       "      <td>5</td>\n",
       "      <td>Special Materials</td>\n",
       "      <td>20141125111</td>\n",
       "      <td>&lt;p&gt; &lt;u&gt;Notice of Intent to Issue New Solicitat...</td>\n",
       "      <td>Notice of Intent to Issue New Solicitation(s)...</td>\n",
       "    </tr>\n",
       "    <tr>\n",
       "      <th>355</th>\n",
       "      <td>20141201101</td>\n",
       "      <td>OCS</td>\n",
       "      <td>Mayor's Office of Contract Services</td>\n",
       "      <td>13</td>\n",
       "      <td>Notice</td>\n",
       "      <td>LL63-- ACS New Procurement</td>\n",
       "      <td>5</td>\n",
       "      <td>Special Materials</td>\n",
       "      <td>20141201101</td>\n",
       "      <td>&lt;p&gt; &lt;u&gt;Notice of Intent to Issue New Solicitat...</td>\n",
       "      <td>Notice of Intent to Issue New Solicitation(s)...</td>\n",
       "    </tr>\n",
       "    <tr>\n",
       "      <th>357</th>\n",
       "      <td>20141201103</td>\n",
       "      <td>OCS</td>\n",
       "      <td>Mayor's Office of Contract Services</td>\n",
       "      <td>13</td>\n",
       "      <td>Notice</td>\n",
       "      <td>LL 63-Department of Information Technology and...</td>\n",
       "      <td>5</td>\n",
       "      <td>Special Materials</td>\n",
       "      <td>20141201103</td>\n",
       "      <td>&lt;p&gt; &lt;u&gt;Notice of Intent to Issue New Solicitat...</td>\n",
       "      <td>Notice of Intent to Issue New Solicitation(s)...</td>\n",
       "    </tr>\n",
       "    <tr>\n",
       "      <th>368</th>\n",
       "      <td>20141202105</td>\n",
       "      <td>OCS</td>\n",
       "      <td>Mayor's Office of Contract Services</td>\n",
       "      <td>13</td>\n",
       "      <td>Notice</td>\n",
       "      <td>LL 63--Department of Parks and Recreation--New...</td>\n",
       "      <td>5</td>\n",
       "      <td>Special Materials</td>\n",
       "      <td>20141202105</td>\n",
       "      <td>&lt;p&gt; &lt;u&gt;Notice of Intent to Issue New Solicitat...</td>\n",
       "      <td>Notice of Intent to Issue New Solicitation(s)...</td>\n",
       "    </tr>\n",
       "    <tr>\n",
       "      <th>371</th>\n",
       "      <td>20141202108</td>\n",
       "      <td>OCS</td>\n",
       "      <td>Mayor's Office of Contract Services</td>\n",
       "      <td>13</td>\n",
       "      <td>Notice</td>\n",
       "      <td>LL63-Department of Environmental Protection-Ex...</td>\n",
       "      <td>5</td>\n",
       "      <td>Special Materials</td>\n",
       "      <td>20141202108</td>\n",
       "      <td>&lt;p&gt; &lt;u&gt;Notice of Intent to Extend Contract(s) ...</td>\n",
       "      <td>Notice of Intent to Extend Contract(s) Not In...</td>\n",
       "    </tr>\n",
       "    <tr>\n",
       "      <th>373</th>\n",
       "      <td>20141202110</td>\n",
       "      <td>OCS</td>\n",
       "      <td>Mayor's Office of Contract Services</td>\n",
       "      <td>13</td>\n",
       "      <td>Notice</td>\n",
       "      <td>LL63-Taxi and Limousine Commission--New Procur...</td>\n",
       "      <td>5</td>\n",
       "      <td>Special Materials</td>\n",
       "      <td>20141202110</td>\n",
       "      <td>&lt;p&gt; &lt;u&gt;Notice of Intent to Issue New Solicitat...</td>\n",
       "      <td>Notice of Intent to Issue New Solicitation(s)...</td>\n",
       "    </tr>\n",
       "    <tr>\n",
       "      <th>401</th>\n",
       "      <td>20141204117</td>\n",
       "      <td>OCS</td>\n",
       "      <td>Mayor's Office of Contract Services</td>\n",
       "      <td>13</td>\n",
       "      <td>Notice</td>\n",
       "      <td>DSNY- LL63 New Procurement</td>\n",
       "      <td>5</td>\n",
       "      <td>Special Materials</td>\n",
       "      <td>20141204117</td>\n",
       "      <td>&lt;p&gt; &lt;u&gt;Notice of Intent to Issue New Solicitat...</td>\n",
       "      <td>Notice of Intent to Issue New Solicitation(s)...</td>\n",
       "    </tr>\n",
       "    <tr>\n",
       "      <th>405</th>\n",
       "      <td>20141208101</td>\n",
       "      <td>OCS</td>\n",
       "      <td>Mayor's Office of Contract Services</td>\n",
       "      <td>13</td>\n",
       "      <td>Notice</td>\n",
       "      <td>LL 63 Posting</td>\n",
       "      <td>5</td>\n",
       "      <td>Special Materials</td>\n",
       "      <td>20141208101</td>\n",
       "      <td>&lt;p&gt; &lt;u&gt;Notice of Intent to Issue New Solicitat...</td>\n",
       "      <td>Notice of Intent to Issue New Solicitation(s)...</td>\n",
       "    </tr>\n",
       "    <tr>\n",
       "      <th>406</th>\n",
       "      <td>20141208102</td>\n",
       "      <td>OCS</td>\n",
       "      <td>Mayor's Office of Contract Services</td>\n",
       "      <td>13</td>\n",
       "      <td>Notice</td>\n",
       "      <td>LL63-- DDC New Procurements</td>\n",
       "      <td>5</td>\n",
       "      <td>Special Materials</td>\n",
       "      <td>20141208102</td>\n",
       "      <td>NaN</td>\n",
       "      <td></td>\n",
       "    </tr>\n",
       "    <tr>\n",
       "      <th>411</th>\n",
       "      <td>20141209115</td>\n",
       "      <td>OCS</td>\n",
       "      <td>Mayor's Office of Contract Services</td>\n",
       "      <td>13</td>\n",
       "      <td>Notice</td>\n",
       "      <td>LL63-Department of Parks and Recreation-New Pr...</td>\n",
       "      <td>5</td>\n",
       "      <td>Special Materials</td>\n",
       "      <td>20141209115</td>\n",
       "      <td>&lt;p&gt; &lt;u&gt;Notice of Intent to Issue New Solicitat...</td>\n",
       "      <td>Notice of Intent to Issue New Solicitation(s)...</td>\n",
       "    </tr>\n",
       "    <tr>\n",
       "      <th>418</th>\n",
       "      <td>20141210103</td>\n",
       "      <td>OCS</td>\n",
       "      <td>Mayor's Office of Contract Services</td>\n",
       "      <td>13</td>\n",
       "      <td>Notice</td>\n",
       "      <td>LL63-Department of Parks and Recreation-New Pr...</td>\n",
       "      <td>5</td>\n",
       "      <td>Special Materials</td>\n",
       "      <td>20141210103</td>\n",
       "      <td>&lt;p&gt; &lt;u&gt;Notice of Intent to Issue New Solicitat...</td>\n",
       "      <td>Notice of Intent to Issue New Solicitation(s)...</td>\n",
       "    </tr>\n",
       "    <tr>\n",
       "      <th>419</th>\n",
       "      <td>20141210104</td>\n",
       "      <td>OCS</td>\n",
       "      <td>Mayor's Office of Contract Services</td>\n",
       "      <td>13</td>\n",
       "      <td>Notice</td>\n",
       "      <td>LL63-- DDC New Procurements</td>\n",
       "      <td>5</td>\n",
       "      <td>Special Materials</td>\n",
       "      <td>20141210104</td>\n",
       "      <td>&lt;p&gt; &lt;u&gt;Notice of Intent to Issue New Solicitat...</td>\n",
       "      <td>Notice of Intent to Issue New Solicitation(s)...</td>\n",
       "    </tr>\n",
       "    <tr>\n",
       "      <th>420</th>\n",
       "      <td>20141210105</td>\n",
       "      <td>OCS</td>\n",
       "      <td>Mayor's Office of Contract Services</td>\n",
       "      <td>13</td>\n",
       "      <td>Notice</td>\n",
       "      <td>LL63-Department of Health and Mental Hygiene-E...</td>\n",
       "      <td>5</td>\n",
       "      <td>Special Materials</td>\n",
       "      <td>20141210105</td>\n",
       "      <td>&lt;p&gt; &lt;u&gt;Notice of Intent to Extend Contract(s) ...</td>\n",
       "      <td>Notice of Intent to Extend Contract(s) Not In...</td>\n",
       "    </tr>\n",
       "    <tr>\n",
       "      <th>421</th>\n",
       "      <td>20141210106</td>\n",
       "      <td>OCS</td>\n",
       "      <td>Mayor's Office of Contract Services</td>\n",
       "      <td>13</td>\n",
       "      <td>Notice</td>\n",
       "      <td>LL63-Department of Mental Hygiene-New Procurement</td>\n",
       "      <td>5</td>\n",
       "      <td>Special Materials</td>\n",
       "      <td>20141210106</td>\n",
       "      <td>&lt;p&gt; &lt;u&gt;Notice of Intent to Issue New Solicitat...</td>\n",
       "      <td>Notice of Intent to Issue New Solicitation(s)...</td>\n",
       "    </tr>\n",
       "    <tr>\n",
       "      <th>439</th>\n",
       "      <td>20141215102</td>\n",
       "      <td>OCS</td>\n",
       "      <td>Mayor's Office of Contract Services</td>\n",
       "      <td>13</td>\n",
       "      <td>Notice</td>\n",
       "      <td>LL 63 Posting</td>\n",
       "      <td>5</td>\n",
       "      <td>Special Materials</td>\n",
       "      <td>20141215102</td>\n",
       "      <td>&lt;p&gt; &lt;u&gt;Notice of Intent to Issue New Solicitat...</td>\n",
       "      <td>Notice of Intent to Issue New Solicitation(s)...</td>\n",
       "    </tr>\n",
       "    <tr>\n",
       "      <th>444</th>\n",
       "      <td>20141215113</td>\n",
       "      <td>OCS</td>\n",
       "      <td>Mayor's Office of Contract Services</td>\n",
       "      <td>13</td>\n",
       "      <td>Notice</td>\n",
       "      <td>LL63-Department of Parks and Recreation-New Pr...</td>\n",
       "      <td>5</td>\n",
       "      <td>Special Materials</td>\n",
       "      <td>20141215113</td>\n",
       "      <td>&lt;p&gt; &lt;u&gt;Notice of Intent to Issue New Solicitat...</td>\n",
       "      <td>Notice of Intent to Issue New Solicitation(s)...</td>\n",
       "    </tr>\n",
       "    <tr>\n",
       "      <th>446</th>\n",
       "      <td>20141216119</td>\n",
       "      <td>OCS</td>\n",
       "      <td>Mayor's Office of Contract Services</td>\n",
       "      <td>13</td>\n",
       "      <td>Notice</td>\n",
       "      <td>LL63-Department of Small Business Services-New...</td>\n",
       "      <td>5</td>\n",
       "      <td>Special Materials</td>\n",
       "      <td>20141216119</td>\n",
       "      <td>&lt;p&gt; &lt;u&gt;Notice of Intent to Issue New Solicitat...</td>\n",
       "      <td>Notice of Intent to Issue New Solicitation(s)...</td>\n",
       "    </tr>\n",
       "    <tr>\n",
       "      <th>449</th>\n",
       "      <td>20141216123</td>\n",
       "      <td>OCS</td>\n",
       "      <td>Mayor's Office of Contract Services</td>\n",
       "      <td>13</td>\n",
       "      <td>Notice</td>\n",
       "      <td>LL63-- ACS New Procurements</td>\n",
       "      <td>5</td>\n",
       "      <td>Special Materials</td>\n",
       "      <td>20141216123</td>\n",
       "      <td>NaN</td>\n",
       "      <td></td>\n",
       "    </tr>\n",
       "    <tr>\n",
       "      <th>452</th>\n",
       "      <td>20141217106</td>\n",
       "      <td>OCS</td>\n",
       "      <td>Mayor's Office of Contract Services</td>\n",
       "      <td>13</td>\n",
       "      <td>Notice</td>\n",
       "      <td>LL 63--Office of Emergency Management--New Pro...</td>\n",
       "      <td>5</td>\n",
       "      <td>Special Materials</td>\n",
       "      <td>20141217106</td>\n",
       "      <td>&lt;p&gt; &lt;u&gt;Notice of Intent to Issue New Solicitat...</td>\n",
       "      <td>Notice of Intent to Issue New Solicitation(s)...</td>\n",
       "    </tr>\n",
       "    <tr>\n",
       "      <th>454</th>\n",
       "      <td>20141218102</td>\n",
       "      <td>OCS</td>\n",
       "      <td>Mayor's Office of Contract Services</td>\n",
       "      <td>13</td>\n",
       "      <td>Notice</td>\n",
       "      <td>LL63-Human Resources Administration-New Procur...</td>\n",
       "      <td>5</td>\n",
       "      <td>Special Materials</td>\n",
       "      <td>20141218102</td>\n",
       "      <td>&lt;p&gt; &lt;u&gt;Notice of Intent to Issue New Solicitat...</td>\n",
       "      <td>Notice of Intent to Issue New Solicitation(s)...</td>\n",
       "    </tr>\n",
       "    <tr>\n",
       "      <th>459</th>\n",
       "      <td>20141219107</td>\n",
       "      <td>OCS</td>\n",
       "      <td>Mayor's Office of Contract Services</td>\n",
       "      <td>13</td>\n",
       "      <td>Notice</td>\n",
       "      <td>LL63-- DDC New Procurements</td>\n",
       "      <td>5</td>\n",
       "      <td>Special Materials</td>\n",
       "      <td>20141219107</td>\n",
       "      <td>&lt;p&gt; &lt;u&gt;Notice of Intent to Issue New Solicitat...</td>\n",
       "      <td>Notice of Intent to Issue New Solicitation(s)...</td>\n",
       "    </tr>\n",
       "    <tr>\n",
       "      <th>460</th>\n",
       "      <td>20141219108</td>\n",
       "      <td>OCS</td>\n",
       "      <td>Mayor's Office of Contract Services</td>\n",
       "      <td>13</td>\n",
       "      <td>Notice</td>\n",
       "      <td>LL 63 Posting</td>\n",
       "      <td>5</td>\n",
       "      <td>Special Materials</td>\n",
       "      <td>20141219108</td>\n",
       "      <td>&lt;p&gt; &lt;u&gt;Notice of Intent to Issue New Solicitat...</td>\n",
       "      <td>Notice of Intent to Issue New Solicitation(s)...</td>\n",
       "    </tr>\n",
       "    <tr>\n",
       "      <th>466</th>\n",
       "      <td>20141222103</td>\n",
       "      <td>OCS</td>\n",
       "      <td>Mayor's Office of Contract Services</td>\n",
       "      <td>13</td>\n",
       "      <td>Notice</td>\n",
       "      <td>LL 63 Posting</td>\n",
       "      <td>5</td>\n",
       "      <td>Special Materials</td>\n",
       "      <td>20141222103</td>\n",
       "      <td>&lt;p&gt; &lt;u&gt;Notice of Intent to Issue New Solicitat...</td>\n",
       "      <td>Notice of Intent to Issue New Solicitation(s)...</td>\n",
       "    </tr>\n",
       "    <tr>\n",
       "      <th>467</th>\n",
       "      <td>20141223102</td>\n",
       "      <td>OCS</td>\n",
       "      <td>Mayor's Office of Contract Services</td>\n",
       "      <td>13</td>\n",
       "      <td>Notice</td>\n",
       "      <td>LL 63 Posting</td>\n",
       "      <td>5</td>\n",
       "      <td>Special Materials</td>\n",
       "      <td>20141223102</td>\n",
       "      <td>&lt;p&gt; &lt;u&gt;Notice of Intent to Issue New Solicitat...</td>\n",
       "      <td>Notice of Intent to Issue New Solicitation(s)...</td>\n",
       "    </tr>\n",
       "    <tr>\n",
       "      <th>469</th>\n",
       "      <td>20141223108</td>\n",
       "      <td>OCS</td>\n",
       "      <td>Mayor's Office of Contract Services</td>\n",
       "      <td>13</td>\n",
       "      <td>Notice</td>\n",
       "      <td>LL 63-Department of Parks and Recreation-New P...</td>\n",
       "      <td>5</td>\n",
       "      <td>Special Materials</td>\n",
       "      <td>20141223108</td>\n",
       "      <td>&lt;p&gt; &lt;u&gt;Notice of Intent to Issue New Solicitat...</td>\n",
       "      <td>Notice of Intent to Issue New Solicitation(s)...</td>\n",
       "    </tr>\n",
       "    <tr>\n",
       "      <th>471</th>\n",
       "      <td>20141224104</td>\n",
       "      <td>OCS</td>\n",
       "      <td>Mayor's Office of Contract Services</td>\n",
       "      <td>13</td>\n",
       "      <td>Notice</td>\n",
       "      <td>LL63-- DOF New Procurement</td>\n",
       "      <td>5</td>\n",
       "      <td>Special Materials</td>\n",
       "      <td>20141224104</td>\n",
       "      <td>&lt;p&gt; &lt;u&gt;Notice of Intent to Issue New Solicitat...</td>\n",
       "      <td>Notice of Intent to Issue New Solicitation(s)...</td>\n",
       "    </tr>\n",
       "    <tr>\n",
       "      <th>472</th>\n",
       "      <td>20141224105</td>\n",
       "      <td>OCS</td>\n",
       "      <td>Mayor's Office of Contract Services</td>\n",
       "      <td>13</td>\n",
       "      <td>Notice</td>\n",
       "      <td>LL63-Department of Health and Mental Hygiene-N...</td>\n",
       "      <td>5</td>\n",
       "      <td>Special Materials</td>\n",
       "      <td>20141224105</td>\n",
       "      <td>&lt;p&gt; &lt;u&gt;Notice of Intent to Issue New Solicitat...</td>\n",
       "      <td>Notice of Intent to Issue New Solicitation(s)...</td>\n",
       "    </tr>\n",
       "    <tr>\n",
       "      <th>473</th>\n",
       "      <td>20141224106</td>\n",
       "      <td>OCS</td>\n",
       "      <td>Mayor's Office of Contract Services</td>\n",
       "      <td>13</td>\n",
       "      <td>Notice</td>\n",
       "      <td>LL 63 Posting</td>\n",
       "      <td>5</td>\n",
       "      <td>Special Materials</td>\n",
       "      <td>20141224106</td>\n",
       "      <td>&lt;p&gt; &lt;u&gt;Notice of Intent to Issue New Solicitat...</td>\n",
       "      <td>Notice of Intent to Issue New Solicitation(s)...</td>\n",
       "    </tr>\n",
       "  </tbody>\n",
       "</table>\n",
       "<p>64 rows × 11 columns</p>\n",
       "</div>"
      ],
      "text/plain": [
       "       RequestID AgencyCode                           AgencyName  \\\n",
       "47   20140930106        OCS  Mayor's Office of Contract Services   \n",
       "55   20141001102        OCS  Mayor's Office of Contract Services   \n",
       "60   20141001124        OCS  Mayor's Office of Contract Services   \n",
       "61   20141001125        OCS  Mayor's Office of Contract Services   \n",
       "67   20141002106        OCS  Mayor's Office of Contract Services   \n",
       "68   20141002107        OCS  Mayor's Office of Contract Services   \n",
       "69   20141002108        OCS  Mayor's Office of Contract Services   \n",
       "73   20141003102        OCS  Mayor's Office of Contract Services   \n",
       "75   20141003105        OCS  Mayor's Office of Contract Services   \n",
       "77   20141003107        OCS  Mayor's Office of Contract Services   \n",
       "84   20141006106        OCS  Mayor's Office of Contract Services   \n",
       "91   20141007107        OCS  Mayor's Office of Contract Services   \n",
       "97   20141008104        OCS  Mayor's Office of Contract Services   \n",
       "103  20141008110        OCS  Mayor's Office of Contract Services   \n",
       "104  20141008112        OCS  Mayor's Office of Contract Services   \n",
       "107  20141009107        OCS  Mayor's Office of Contract Services   \n",
       "121  20141014101        OCS  Mayor's Office of Contract Services   \n",
       "133  20141016105        OCS  Mayor's Office of Contract Services   \n",
       "155  20141021105        OCS  Mayor's Office of Contract Services   \n",
       "157  20141021107        OCS  Mayor's Office of Contract Services   \n",
       "182  20141023111        OCS  Mayor's Office of Contract Services   \n",
       "194  20141027107        OCS  Mayor's Office of Contract Services   \n",
       "205  20141029102        OCS  Mayor's Office of Contract Services   \n",
       "224  20141103103        OCS  Mayor's Office of Contract Services   \n",
       "225  20141103104        OCS  Mayor's Office of Contract Services   \n",
       "229  20141103109        OCS  Mayor's Office of Contract Services   \n",
       "270  20141114110        OCS  Mayor's Office of Contract Services   \n",
       "271  20141114111        OCS  Mayor's Office of Contract Services   \n",
       "273  20141117102        OCS  Mayor's Office of Contract Services   \n",
       "276  20141117105        OCS  Mayor's Office of Contract Services   \n",
       "..           ...        ...                                  ...   \n",
       "331  20141125102        OCS  Mayor's Office of Contract Services   \n",
       "334  20141125105        OCS  Mayor's Office of Contract Services   \n",
       "339  20141125111        OCS  Mayor's Office of Contract Services   \n",
       "355  20141201101        OCS  Mayor's Office of Contract Services   \n",
       "357  20141201103        OCS  Mayor's Office of Contract Services   \n",
       "368  20141202105        OCS  Mayor's Office of Contract Services   \n",
       "371  20141202108        OCS  Mayor's Office of Contract Services   \n",
       "373  20141202110        OCS  Mayor's Office of Contract Services   \n",
       "401  20141204117        OCS  Mayor's Office of Contract Services   \n",
       "405  20141208101        OCS  Mayor's Office of Contract Services   \n",
       "406  20141208102        OCS  Mayor's Office of Contract Services   \n",
       "411  20141209115        OCS  Mayor's Office of Contract Services   \n",
       "418  20141210103        OCS  Mayor's Office of Contract Services   \n",
       "419  20141210104        OCS  Mayor's Office of Contract Services   \n",
       "420  20141210105        OCS  Mayor's Office of Contract Services   \n",
       "421  20141210106        OCS  Mayor's Office of Contract Services   \n",
       "439  20141215102        OCS  Mayor's Office of Contract Services   \n",
       "444  20141215113        OCS  Mayor's Office of Contract Services   \n",
       "446  20141216119        OCS  Mayor's Office of Contract Services   \n",
       "449  20141216123        OCS  Mayor's Office of Contract Services   \n",
       "452  20141217106        OCS  Mayor's Office of Contract Services   \n",
       "454  20141218102        OCS  Mayor's Office of Contract Services   \n",
       "459  20141219107        OCS  Mayor's Office of Contract Services   \n",
       "460  20141219108        OCS  Mayor's Office of Contract Services   \n",
       "466  20141222103        OCS  Mayor's Office of Contract Services   \n",
       "467  20141223102        OCS  Mayor's Office of Contract Services   \n",
       "469  20141223108        OCS  Mayor's Office of Contract Services   \n",
       "471  20141224104        OCS  Mayor's Office of Contract Services   \n",
       "472  20141224105        OCS  Mayor's Office of Contract Services   \n",
       "473  20141224106        OCS  Mayor's Office of Contract Services   \n",
       "\n",
       "     TypeOfNoticeCode TypeOfNoticeDescription  \\\n",
       "47                 13                  Notice   \n",
       "55                 13                  Notice   \n",
       "60                 13                  Notice   \n",
       "61                 13                  Notice   \n",
       "67                 13                  Notice   \n",
       "68                 13                  Notice   \n",
       "69                 13                  Notice   \n",
       "73                 13                  Notice   \n",
       "75                 13                  Notice   \n",
       "77                 13                  Notice   \n",
       "84                 13                  Notice   \n",
       "91                 13                  Notice   \n",
       "97                 13                  Notice   \n",
       "103                13                  Notice   \n",
       "104                13                  Notice   \n",
       "107                13                  Notice   \n",
       "121                13                  Notice   \n",
       "133                13                  Notice   \n",
       "155                13                  Notice   \n",
       "157                13                  Notice   \n",
       "182                13                  Notice   \n",
       "194                13                  Notice   \n",
       "205                13                  Notice   \n",
       "224                13                  Notice   \n",
       "225                13                  Notice   \n",
       "229                13                  Notice   \n",
       "270                13                  Notice   \n",
       "271                13                  Notice   \n",
       "273                13                  Notice   \n",
       "276                13                  Notice   \n",
       "..                ...                     ...   \n",
       "331                13                  Notice   \n",
       "334                13                  Notice   \n",
       "339                13                  Notice   \n",
       "355                13                  Notice   \n",
       "357                13                  Notice   \n",
       "368                13                  Notice   \n",
       "371                13                  Notice   \n",
       "373                13                  Notice   \n",
       "401                13                  Notice   \n",
       "405                13                  Notice   \n",
       "406                13                  Notice   \n",
       "411                13                  Notice   \n",
       "418                13                  Notice   \n",
       "419                13                  Notice   \n",
       "420                13                  Notice   \n",
       "421                13                  Notice   \n",
       "439                13                  Notice   \n",
       "444                13                  Notice   \n",
       "446                13                  Notice   \n",
       "449                13                  Notice   \n",
       "452                13                  Notice   \n",
       "454                13                  Notice   \n",
       "459                13                  Notice   \n",
       "460                13                  Notice   \n",
       "466                13                  Notice   \n",
       "467                13                  Notice   \n",
       "469                13                  Notice   \n",
       "471                13                  Notice   \n",
       "472                13                  Notice   \n",
       "473                13                  Notice   \n",
       "\n",
       "                                            ShortTitle  SectionID  \\\n",
       "47                                     DOITT extension          5   \n",
       "55                                       LL 63 Posting          5   \n",
       "60                      LL63--DDC Amendment Extensions          5   \n",
       "61                         LL63-- DDC New Procurements          5   \n",
       "67                          LL63-- DDC New Procurement          5   \n",
       "68                         LL63 -- OMB New Procurement          5   \n",
       "69   LL63 - Department of Parks and Recreation- New...          5   \n",
       "73                                       LL 63 Posting          5   \n",
       "75                                       LL 63 Posting          5   \n",
       "77   LL63 -Human Resources Administration- New Cont...          5   \n",
       "84                                 LL63-- OMB Renewals          5   \n",
       "91                         LL63-- OCME New Procurement          5   \n",
       "97   LL63-Department of Homeless Services-New Contract          5   \n",
       "103                             NYPD Intergovernmental          5   \n",
       "104                                  DOITT 11 postings          5   \n",
       "107                 LL63-- Revised DDC New Procurement          5   \n",
       "121  LL63-Department of Parks and Recreation-New Pr...          5   \n",
       "133      LL63-Office of Emergency Management-Extension          5   \n",
       "155                        LL63-- DDC New Solicitation          5   \n",
       "157                         LL63- DDC New Procurements          5   \n",
       "182                                        LL63 Notice          5   \n",
       "194                                              LL 63          5   \n",
       "205                        LL63-- ACS Renewal Contract          5   \n",
       "224    LL63- Human Resources Administration- Extension          5   \n",
       "225                                        LL63 Notice          5   \n",
       "229      LL63-- DDC New Procurement Posting Correction          5   \n",
       "270                                      LL 63 Posting          5   \n",
       "271                                      LL 63 Posting          5   \n",
       "273                        LL63-- DDC New Procurements          5   \n",
       "276  LL 63-Department of Parks and Recreation-new c...          5   \n",
       "..                                                 ...        ...   \n",
       "331           LL63-Office of Labor Relations-Extension          5   \n",
       "334  LL 63-Human Resources Administration-New Procu...          5   \n",
       "339  LL63--Department of Parks and Recreation--New ...          5   \n",
       "355                         LL63-- ACS New Procurement          5   \n",
       "357  LL 63-Department of Information Technology and...          5   \n",
       "368  LL 63--Department of Parks and Recreation--New...          5   \n",
       "371  LL63-Department of Environmental Protection-Ex...          5   \n",
       "373  LL63-Taxi and Limousine Commission--New Procur...          5   \n",
       "401                         DSNY- LL63 New Procurement          5   \n",
       "405                                      LL 63 Posting          5   \n",
       "406                        LL63-- DDC New Procurements          5   \n",
       "411  LL63-Department of Parks and Recreation-New Pr...          5   \n",
       "418  LL63-Department of Parks and Recreation-New Pr...          5   \n",
       "419                        LL63-- DDC New Procurements          5   \n",
       "420  LL63-Department of Health and Mental Hygiene-E...          5   \n",
       "421  LL63-Department of Mental Hygiene-New Procurement          5   \n",
       "439                                      LL 63 Posting          5   \n",
       "444  LL63-Department of Parks and Recreation-New Pr...          5   \n",
       "446  LL63-Department of Small Business Services-New...          5   \n",
       "449                        LL63-- ACS New Procurements          5   \n",
       "452  LL 63--Office of Emergency Management--New Pro...          5   \n",
       "454  LL63-Human Resources Administration-New Procur...          5   \n",
       "459                        LL63-- DDC New Procurements          5   \n",
       "460                                      LL 63 Posting          5   \n",
       "466                                      LL 63 Posting          5   \n",
       "467                                      LL 63 Posting          5   \n",
       "469  LL 63-Department of Parks and Recreation-New P...          5   \n",
       "471                         LL63-- DOF New Procurement          5   \n",
       "472  LL63-Department of Health and Mental Hygiene-N...          5   \n",
       "473                                      LL 63 Posting          5   \n",
       "\n",
       "           SectionName  ConfirmationNumber  \\\n",
       "47   Special Materials         20140930106   \n",
       "55   Special Materials         20141001102   \n",
       "60   Special Materials         20141001124   \n",
       "61   Special Materials         20141001125   \n",
       "67   Special Materials         20141002106   \n",
       "68   Special Materials         20141002107   \n",
       "69   Special Materials         20141002108   \n",
       "73   Special Materials         20141003102   \n",
       "75   Special Materials         20141003105   \n",
       "77   Special Materials         20141003107   \n",
       "84   Special Materials         20141006106   \n",
       "91   Special Materials         20141007107   \n",
       "97   Special Materials         20141008104   \n",
       "103  Special Materials         20141008110   \n",
       "104  Special Materials         20141008112   \n",
       "107  Special Materials         20141009107   \n",
       "121  Special Materials         20141014101   \n",
       "133  Special Materials         20141016105   \n",
       "155  Special Materials         20141021105   \n",
       "157  Special Materials         20141021107   \n",
       "182  Special Materials         20141023111   \n",
       "194  Special Materials         20141027107   \n",
       "205  Special Materials         20141029102   \n",
       "224  Special Materials         20141103103   \n",
       "225  Special Materials         20141103104   \n",
       "229  Special Materials         20141103109   \n",
       "270  Special Materials         20141114110   \n",
       "271  Special Materials         20141114111   \n",
       "273  Special Materials         20141117102   \n",
       "276  Special Materials         20141117105   \n",
       "..                 ...                 ...   \n",
       "331  Special Materials         20141125102   \n",
       "334  Special Materials         20141125105   \n",
       "339  Special Materials         20141125111   \n",
       "355  Special Materials         20141201101   \n",
       "357  Special Materials         20141201103   \n",
       "368  Special Materials         20141202105   \n",
       "371  Special Materials         20141202108   \n",
       "373  Special Materials         20141202110   \n",
       "401  Special Materials         20141204117   \n",
       "405  Special Materials         20141208101   \n",
       "406  Special Materials         20141208102   \n",
       "411  Special Materials         20141209115   \n",
       "418  Special Materials         20141210103   \n",
       "419  Special Materials         20141210104   \n",
       "420  Special Materials         20141210105   \n",
       "421  Special Materials         20141210106   \n",
       "439  Special Materials         20141215102   \n",
       "444  Special Materials         20141215113   \n",
       "446  Special Materials         20141216119   \n",
       "449  Special Materials         20141216123   \n",
       "452  Special Materials         20141217106   \n",
       "454  Special Materials         20141218102   \n",
       "459  Special Materials         20141219107   \n",
       "460  Special Materials         20141219108   \n",
       "466  Special Materials         20141222103   \n",
       "467  Special Materials         20141223102   \n",
       "469  Special Materials         20141223108   \n",
       "471  Special Materials         20141224104   \n",
       "472  Special Materials         20141224105   \n",
       "473  Special Materials         20141224106   \n",
       "\n",
       "                                 AdditionalDescription  \\\n",
       "47   <p> <u>Notice of Intent to Extend Contract(s) ...   \n",
       "55   <p> <u>Notice of Intent to Issue New Solicitat...   \n",
       "60   <p> <u>Notice of Intent to Extend Contract(s) ...   \n",
       "61   <p> <u>Notice of Intent to Issue New Solicitat...   \n",
       "67   <p> <u>Notice of Intent to Issue New Solicitat...   \n",
       "68   <p> <u>Notice of Intent to Issue New Solicitat...   \n",
       "69   <p> <u>Notice of Intent to Issue New Solicitat...   \n",
       "73   <p> <u>Notice of Intent to Extend Contract(s) ...   \n",
       "75   <p> <u>Notice of Intent to Issue New Solicitat...   \n",
       "77   <p> <u>Notice of Intent to Issue New Solicitat...   \n",
       "84   <p> <u>Notice of Intent to Extend Contract(s) ...   \n",
       "91   <p> <u>Notice of Intent to Issue New Solicitat...   \n",
       "97   <p> <u>Notice of Intent to Issue New Solicitat...   \n",
       "103  <p> <u>Notice of Intent to Issue New Solicitat...   \n",
       "104  <p> <u>Notice of Intent to Issue New Solicitat...   \n",
       "107  <p style=text-align: center;\"> <strong><span>C...   \n",
       "121  <p> <u>Notice of Intent to Issue New Solicitat...   \n",
       "133  <p> <u>Notice of Intent to Extend Contract(s) ...   \n",
       "155  <p> <u>Notice of Intent to Issue New Solicitat...   \n",
       "157  <p> Please see attached document.</p> <p> &nbs...   \n",
       "182  <p> <u>Notice of Intent to Issue New Solicitat...   \n",
       "194  <p> <u>Notice of Intent to Issue New Solicitat...   \n",
       "205  <p> <u>Notice of Intent to Extend Contract(s) ...   \n",
       "224  <p> <u>Notice of Intent to Extend Contract(s) ...   \n",
       "225  <p> <u>Notice of Intent to Extend Contract(s) ...   \n",
       "229  <p> <u>Notice of Intent to Issue New Solicitat...   \n",
       "270  <p> <u>Notice of Intent to Issue New Solicitat...   \n",
       "271  <p> <u>Notice of Intent to Extend Contract(s) ...   \n",
       "273  <p> &nbsp;</p> <p> <u>Notice of Intent to Issu...   \n",
       "276  <p> <u>Notice of Intent to Issue New Solicitat...   \n",
       "..                                                 ...   \n",
       "331  <p> <u>Notice of Intent to Extend Contract(s) ...   \n",
       "334  <p> <u>Notice of Intent to Issue New Solicitat...   \n",
       "339  <p> <u>Notice of Intent to Issue New Solicitat...   \n",
       "355  <p> <u>Notice of Intent to Issue New Solicitat...   \n",
       "357  <p> <u>Notice of Intent to Issue New Solicitat...   \n",
       "368  <p> <u>Notice of Intent to Issue New Solicitat...   \n",
       "371  <p> <u>Notice of Intent to Extend Contract(s) ...   \n",
       "373  <p> <u>Notice of Intent to Issue New Solicitat...   \n",
       "401  <p> <u>Notice of Intent to Issue New Solicitat...   \n",
       "405  <p> <u>Notice of Intent to Issue New Solicitat...   \n",
       "406                                                NaN   \n",
       "411  <p> <u>Notice of Intent to Issue New Solicitat...   \n",
       "418  <p> <u>Notice of Intent to Issue New Solicitat...   \n",
       "419  <p> <u>Notice of Intent to Issue New Solicitat...   \n",
       "420  <p> <u>Notice of Intent to Extend Contract(s) ...   \n",
       "421  <p> <u>Notice of Intent to Issue New Solicitat...   \n",
       "439  <p> <u>Notice of Intent to Issue New Solicitat...   \n",
       "444  <p> <u>Notice of Intent to Issue New Solicitat...   \n",
       "446  <p> <u>Notice of Intent to Issue New Solicitat...   \n",
       "449                                                NaN   \n",
       "452  <p> <u>Notice of Intent to Issue New Solicitat...   \n",
       "454  <p> <u>Notice of Intent to Issue New Solicitat...   \n",
       "459  <p> <u>Notice of Intent to Issue New Solicitat...   \n",
       "460  <p> <u>Notice of Intent to Issue New Solicitat...   \n",
       "466  <p> <u>Notice of Intent to Issue New Solicitat...   \n",
       "467  <p> <u>Notice of Intent to Issue New Solicitat...   \n",
       "469  <p> <u>Notice of Intent to Issue New Solicitat...   \n",
       "471  <p> <u>Notice of Intent to Issue New Solicitat...   \n",
       "472  <p> <u>Notice of Intent to Issue New Solicitat...   \n",
       "473  <p> <u>Notice of Intent to Issue New Solicitat...   \n",
       "\n",
       "                                                scrape  \n",
       "47    Notice of Intent to Extend Contract(s) Not In...  \n",
       "55    Notice of Intent to Issue New Solicitation(s)...  \n",
       "60    Notice of Intent to Extend Contract(s) Not In...  \n",
       "61    Notice of Intent to Issue New Solicitation(s)...  \n",
       "67    Notice of Intent to Issue New Solicitation(s)...  \n",
       "68    Notice of Intent to Issue New Solicitation(s)...  \n",
       "69    Notice of Intent to Issue New Solicitation(s)...  \n",
       "73    Notice of Intent to Extend Contract(s) Not In...  \n",
       "75    Notice of Intent to Issue New Solicitation(s)...  \n",
       "77    Notice of Intent to Issue New Solicitation(s)...  \n",
       "84    Notice of Intent to Extend Contract(s) Not In...  \n",
       "91    Notice of Intent to Issue New Solicitation(s)...  \n",
       "97    Notice of Intent to Issue New Solicitation(s)...  \n",
       "103   Notice of Intent to Issue New Solicitation(s)...  \n",
       "104   Notice of Intent to Issue New Solicitation(s)...  \n",
       "107   CORRECTED NOTICE     Notice of Intent to Issu...  \n",
       "121   Notice of Intent to Issue New Solicitation(s)...  \n",
       "133   Notice of Intent to Extend Contract(s) Not In...  \n",
       "155   Notice of Intent to Issue New Solicitation(s)...  \n",
       "157          Please see attached document.              \n",
       "182   Notice of Intent to Issue New Solicitation(s)...  \n",
       "194   Notice of Intent to Issue New Solicitation(s)...  \n",
       "205   Notice of Intent to Extend Contract(s) Not In...  \n",
       "224   Notice of Intent to Extend Contract(s) Not In...  \n",
       "225   Notice of Intent to Extend Contract(s) Not In...  \n",
       "229   Notice of Intent to Issue New Solicitation(s)...  \n",
       "270   Notice of Intent to Issue New Solicitation(s)...  \n",
       "271   Notice of Intent to Extend Contract(s) Not In...  \n",
       "273      Notice of Intent to Issue New Solicitation...  \n",
       "276   Notice of Intent to Issue New Solicitation(s)...  \n",
       "..                                                 ...  \n",
       "331   Notice of Intent to Extend Contract(s) Not In...  \n",
       "334   Notice of Intent to Issue New Solicitation(s)...  \n",
       "339   Notice of Intent to Issue New Solicitation(s)...  \n",
       "355   Notice of Intent to Issue New Solicitation(s)...  \n",
       "357   Notice of Intent to Issue New Solicitation(s)...  \n",
       "368   Notice of Intent to Issue New Solicitation(s)...  \n",
       "371   Notice of Intent to Extend Contract(s) Not In...  \n",
       "373   Notice of Intent to Issue New Solicitation(s)...  \n",
       "401   Notice of Intent to Issue New Solicitation(s)...  \n",
       "405   Notice of Intent to Issue New Solicitation(s)...  \n",
       "406                                                     \n",
       "411   Notice of Intent to Issue New Solicitation(s)...  \n",
       "418   Notice of Intent to Issue New Solicitation(s)...  \n",
       "419   Notice of Intent to Issue New Solicitation(s)...  \n",
       "420   Notice of Intent to Extend Contract(s) Not In...  \n",
       "421   Notice of Intent to Issue New Solicitation(s)...  \n",
       "439   Notice of Intent to Issue New Solicitation(s)...  \n",
       "444   Notice of Intent to Issue New Solicitation(s)...  \n",
       "446   Notice of Intent to Issue New Solicitation(s)...  \n",
       "449                                                     \n",
       "452   Notice of Intent to Issue New Solicitation(s)...  \n",
       "454   Notice of Intent to Issue New Solicitation(s)...  \n",
       "459   Notice of Intent to Issue New Solicitation(s)...  \n",
       "460   Notice of Intent to Issue New Solicitation(s)...  \n",
       "466   Notice of Intent to Issue New Solicitation(s)...  \n",
       "467   Notice of Intent to Issue New Solicitation(s)...  \n",
       "469   Notice of Intent to Issue New Solicitation(s)...  \n",
       "471   Notice of Intent to Issue New Solicitation(s)...  \n",
       "472   Notice of Intent to Issue New Solicitation(s)...  \n",
       "473   Notice of Intent to Issue New Solicitation(s)...  \n",
       "\n",
       "[64 rows x 11 columns]"
      ]
     },
     "execution_count": 14,
     "metadata": {},
     "output_type": "execute_result"
    }
   ],
   "source": [
    "cols = ['RequestID', 'AgencyCode', 'AgencyName',  'TypeOfNoticeCode', 'TypeOfNoticeDescription', 'ShortTitle', 'SectionID', 'SectionName', 'ConfirmationNumber', 'AdditionalDescription', 'scrape']\n",
    "fixed = fixed[cols]\n",
    "fixed = fixed[mocs]\n",
    "fixed = fixed[notices]\n",
    "fixed"
   ]
  },
  {
   "cell_type": "code",
   "execution_count": 15,
   "metadata": {
    "collapsed": false
   },
   "outputs": [],
   "source": [
    "def parse_html(soup):\n",
    "    record = { 'adverts' : [] }\n",
    "    ad = {}\n",
    "    key, val = None, None\n",
    "    for para in soup.find_all('p'):\n",
    "        if para.find_all('u'):\n",
    "            record['context'] = para.get_text(strip=True).strip() \n",
    "        else:\n",
    "            txt = para.get_text(strip=True)\n",
    "            if txt.strip() == '':\n",
    "                if key:\n",
    "                    val += txt\n",
    "            elif 'NOTICE IS HEREBY' in txt:\n",
    "                ad['preamble'] = txt.strip()\n",
    "                \n",
    "            elif ':' in txt:\n",
    "                k, v = txt.split(':', 1)\n",
    "                k, v = k.strip(), v.strip()\n",
    "                \n",
    "                if key:\n",
    "                    ad[key] = val\n",
    "                else:\n",
    "                    key, val = k, v\n",
    "                    \n",
    "                if k.lower().startswith('agency'):\n",
    "                    # new record\n",
    "                    if ad.keys():\n",
    "                        record['adverts'].append(ad)\n",
    "                        ad = {}\n",
    "                key, val = k, v\n",
    "                    \n",
    "    if ad.keys():\n",
    "        ad[key] = val\n",
    "        record['adverts'].append(ad)\n",
    "    return record"
   ]
  },
  {
   "cell_type": "code",
   "execution_count": 16,
   "metadata": {
    "collapsed": false,
    "scrolled": true
   },
   "outputs": [
    {
     "data": {
      "text/html": [
       "<p> <u>Notice of Intent to Extend Contract(s) Not Included in FY 2015 Annual Contracting Plan and Schedule</u></p> <p> &nbsp;</p> <p> <strong>NOTICE IS HEREBY GIVEN</strong> that the Mayor will be entering into the following extension(s) of (a) contract(s) not included in the FY 2015 Annual Contracting Plan and Schedule that is published pursuant to New York City Charter &sect; 312(a):</p> <p> &nbsp;</p> <p> Agency: Department of Information Technology &amp; Telecommunications</p> <p> Vendor: Accenture LLP</p> <p> Description of services: Design, development and deployment of application enhancements and extensions to the existing APT system along with the appropriate documentation required.</p> <p> Award method of original contract:&nbsp; Intergovernmental</p> <p> FMS contract type: Consultant</p> <p> End date of original contract: 1/31/2015</p> <p> Method of renewal/extension the agency intends to utilize:&nbsp; Extension</p> <p> New start date of the proposed renewed/extended contract: 2/1/15</p> <p> New end date of the proposed renewed/extended contract: &nbsp;7/31/15</p> <p> Modifications sought to the nature of services performed under the contract: None</p> <p> Reason(s) the agency intends to renew/extend the contract: Continuation of services</p> <p> Personnel in substantially similar titles within agency: APT Project Manager &ndash; 1; APT Technical Lead &ndash; 1; APT Developer - 2</p> <p> Headcount of personnel in substantially similar titles within agency: 4</p>"
      ],
      "text/plain": [
       "<IPython.core.display.HTML object>"
      ]
     },
     "metadata": {},
     "output_type": "display_data"
    },
    {
     "name": "stdout",
     "output_type": "stream",
     "text": [
      "{'adverts': [{'preamble': 'NOTICE IS HEREBY GIVENthat the Mayor will be '\n",
      "                          'entering into the following extension(s) of (a) '\n",
      "                          'contract(s) not included in the FY 2015 Annual '\n",
      "                          'Contracting Plan and Schedule that is published '\n",
      "                          'pursuant to New York City Charter § 312(a):'},\n",
      "             {'Agency': 'Department of Information Technology & '\n",
      "                        'Telecommunications',\n",
      "              'Award method of original contract': 'Intergovernmental',\n",
      "              'Description of services': 'Design, development and '\n",
      "                                         'deployment of application '\n",
      "                                         'enhancements and extensions to '\n",
      "                                         'the existing APT system along '\n",
      "                                         'with the appropriate '\n",
      "                                         'documentation required.',\n",
      "              'End date of original contract': '1/31/2015',\n",
      "              'FMS contract type': 'Consultant',\n",
      "              'Headcount of personnel in substantially similar titles within agency': '4',\n",
      "              'Method of renewal/extension the agency intends to utilize': 'Extension',\n",
      "              'Modifications sought to the nature of services performed under the contract': 'None',\n",
      "              'New end date of the proposed renewed/extended contract': '7/31/15',\n",
      "              'New start date of the proposed renewed/extended contract': '2/1/15',\n",
      "              'Personnel in substantially similar titles within agency': 'APT '\n",
      "                                                                         'Project '\n",
      "                                                                         'Manager '\n",
      "                                                                         '– '\n",
      "                                                                         '1; '\n",
      "                                                                         'APT '\n",
      "                                                                         'Technical '\n",
      "                                                                         'Lead '\n",
      "                                                                         '– '\n",
      "                                                                         '1; '\n",
      "                                                                         'APT '\n",
      "                                                                         'Developer '\n",
      "                                                                         '- '\n",
      "                                                                         '2',\n",
      "              'Reason(s) the agency intends to renew/extend the contract': 'Continuation '\n",
      "                                                                           'of '\n",
      "                                                                           'services',\n",
      "              'Vendor': 'Accenture LLP'}],\n",
      " 'context': 'Notice of Intent to Extend Contract(s) Not Included in FY 2015 '\n",
      "            'Annual Contracting Plan and Schedule'}\n"
     ]
    },
    {
     "data": {
      "text/html": [
       "<hr />"
      ],
      "text/plain": [
       "<IPython.core.display.HTML object>"
      ]
     },
     "metadata": {},
     "output_type": "display_data"
    },
    {
     "data": {
      "text/html": [
       "<p> <u>Notice of Intent to Issue New Solicitation(s) Not Included in FY 2015 Annual Contracting Plan and Schedule </u></p> <p> &nbsp;</p> <p> <strong>NOTICE IS HEREBY GIVEN</strong> that the Mayor will be issuing the following solicitation(s) not included in the FY 2015 Annual Contracting Plan and Schedule that is published pursuant to New York City Charter &sect; 312(a):</p> <p> &nbsp;</p> <p> Agency: Department of Environmental Protection</p> <p> Description of services sought:&nbsp; MTR-101: Provide all necessary labor, materials and equipment for the service and repair of various electric motors located at various Pumping Stations and associated New York City Department of Environmental Protection (DEP) facilities.</p> <p> Start date of the proposed contract: May 1, 2015</p> <p> End date of the proposed contract:&nbsp; April 30, 2017</p> <p> Method of solicitation the agency intends to utilize: Competitive sealed bid</p> <p> Personnel in substantially similar titles within agency: None</p> <p> Headcount of personnel in substantially similar titles within agency:&nbsp;&nbsp; 0</p> <p> &nbsp;</p> <p> Agency: Department of Environmental Protection</p> <p> Description of services sought:. HANDHEL15-17 Provide repair and maintenance coverage for Handheld Equipment Internet Model CN3.&nbsp; Contractor provide all necessary labor, materials and equipment for the service and repair for 155 or more Intermec CN3 Handheld Equipment used by Water Meter Inspectors in their routine field work at various locations in New York City.&nbsp;</p> <p> Start date of the proposed contract: 5/1/2015</p> <p> End date of the proposed contract:&nbsp; 4/30/2017</p> <p> Method of solicitation the agency intends to utilize: Competitive Sealed Bid</p> <p> Personnel in substantially similar titles within agency: None</p> <p> Headcount of personnel in substantially similar titles within agency:&nbsp;&nbsp; 0</p> <p> &nbsp;</p> <p> Agency: Department of Transportation</p> <p> Description of the services sought:&nbsp; Rehabilitation of BQE (I-278) from Sands Street to Atlantic Avenue, Brooklyn (Contract No. HBKBQE)</p> <p> Start Date of the proposed contract:&nbsp; September 10, 2015</p> <p> End Date of the proposed contract:&nbsp; March 2, 2017</p> <p> Method of Solicitation the Agency intends to utilize:&nbsp; Required Method (RFP)</p> <p> Personnel in substantially similar titles within the Agency:&nbsp; None</p> <p> Headcount of personnel in substantially similar titles with the Agency:&nbsp; 0</p>"
      ],
      "text/plain": [
       "<IPython.core.display.HTML object>"
      ]
     },
     "metadata": {},
     "output_type": "display_data"
    },
    {
     "name": "stdout",
     "output_type": "stream",
     "text": [
      "{'adverts': [{'preamble': 'NOTICE IS HEREBY GIVENthat the Mayor will be '\n",
      "                          'issuing the following solicitation(s) not '\n",
      "                          'included in the FY 2015 Annual Contracting Plan '\n",
      "                          'and Schedule that is published pursuant to New '\n",
      "                          'York City Charter § 312(a):'},\n",
      "             {'Agency': 'Department of Environmental Protection',\n",
      "              'Description of services sought': 'MTR-101: Provide all '\n",
      "                                                'necessary labor, '\n",
      "                                                'materials and equipment '\n",
      "                                                'for the service and '\n",
      "                                                'repair of various '\n",
      "                                                'electric motors located '\n",
      "                                                'at various Pumping '\n",
      "                                                'Stations and associated '\n",
      "                                                'New York City Department '\n",
      "                                                'of Environmental '\n",
      "                                                'Protection (DEP) '\n",
      "                                                'facilities.',\n",
      "              'End date of the proposed contract': 'April 30, 2017',\n",
      "              'Headcount of personnel in substantially similar titles within agency': '0',\n",
      "              'Method of solicitation the agency intends to utilize': 'Competitive '\n",
      "                                                                      'sealed '\n",
      "                                                                      'bid',\n",
      "              'Personnel in substantially similar titles within agency': 'None',\n",
      "              'Start date of the proposed contract': 'May 1, 2015'},\n",
      "             {'Agency': 'Department of Environmental Protection',\n",
      "              'Description of services sought': '. HANDHEL15-17 Provide '\n",
      "                                                'repair and maintenance '\n",
      "                                                'coverage for Handheld '\n",
      "                                                'Equipment Internet Model '\n",
      "                                                'CN3.\\xa0 Contractor '\n",
      "                                                'provide all necessary '\n",
      "                                                'labor, materials and '\n",
      "                                                'equipment for the service '\n",
      "                                                'and repair for 155 or '\n",
      "                                                'more Intermec CN3 '\n",
      "                                                'Handheld Equipment used '\n",
      "                                                'by Water Meter Inspectors '\n",
      "                                                'in their routine field '\n",
      "                                                'work at various locations '\n",
      "                                                'in New York City.',\n",
      "              'End date of the proposed contract': '4/30/2017',\n",
      "              'Headcount of personnel in substantially similar titles within agency': '0',\n",
      "              'Method of solicitation the agency intends to utilize': 'Competitive '\n",
      "                                                                      'Sealed '\n",
      "                                                                      'Bid',\n",
      "              'Personnel in substantially similar titles within agency': 'None',\n",
      "              'Start date of the proposed contract': '5/1/2015'},\n",
      "             {'Agency': 'Department of Transportation',\n",
      "              'Description of the services sought': 'Rehabilitation of BQE '\n",
      "                                                    '(I-278) from Sands '\n",
      "                                                    'Street to Atlantic '\n",
      "                                                    'Avenue, Brooklyn '\n",
      "                                                    '(Contract No. HBKBQE)',\n",
      "              'End Date of the proposed contract': 'March 2, 2017',\n",
      "              'Headcount of personnel in substantially similar titles with the Agency': '0',\n",
      "              'Method of Solicitation the Agency intends to utilize': 'Required '\n",
      "                                                                      'Method '\n",
      "                                                                      '(RFP)',\n",
      "              'Personnel in substantially similar titles within the Agency': 'None',\n",
      "              'Start Date of the proposed contract': 'September 10, 2015'}],\n",
      " 'context': 'Notice of Intent to Issue New Solicitation(s) Not Included in '\n",
      "            'FY 2015 Annual Contracting Plan and Schedule'}\n"
     ]
    },
    {
     "data": {
      "text/html": [
       "<hr />"
      ],
      "text/plain": [
       "<IPython.core.display.HTML object>"
      ]
     },
     "metadata": {},
     "output_type": "display_data"
    },
    {
     "data": {
      "text/html": [
       "<p> <u>Notice of Intent to Extend Contract(s) Not Included in FY 2015 Annual Contracting Plan and Schedule</u></p> <p> &nbsp;</p> <p> <strong>NOTICE IS HEREBY GIVEN</strong> that the Mayor will be entering into the following extension(s) of (a) contract(s) not included in the FY 2015 Annual Contracting Plan and Schedule that is published pursuant to New York City Charter &sect; 312(a):</p> <p> &nbsp;</p> <p> Agency: DDC</p> <p> Vendor: Jacobs Project Management Co.</p> <p> Nature of services: Requirements Contract for CM Services, Citywide for Transportation Unit</p> <p> Method of extension the agency intends to utilize: Amendment Extension</p> <p> New start date of the proposed extended contract: 6/30/2015</p> <p> New end date of the proposed extended contract: 6/29/2016</p> <p> Modifications sought to the nature of services performed under the contract: No</p> <p> Reason(s) the agency intends to extend the contract: Continuity of Services</p> <p> Personnel in substantially similar titles within agency: none</p> <p> Headcount of personnel in substantially similar titles within agency: 0</p> <p> &nbsp;</p> <p> Agency: DDC</p> <p> Vendor: Hill International Inc.</p> <p> Nature of services: Requirements Contract for CM Services, Citywide for Transportation Unit</p> <p> Method of extension the agency intends to utilize: Amendment Extension</p> <p> New start date of the proposed extended contract: 7/12/2015</p> <p> New end date of the proposed extended contract: 7/11/2016</p> <p> Modifications sought to the nature of services performed under the contract: No</p> <p> Reason(s) the agency intends to extend the contract: Continuity of Services</p> <p> Personnel in substantially similar titles within agency: none</p> <p> Headcount of personnel in substantially similar titles within agency: 0</p> <p> &nbsp;</p> <p> Agency: DDC</p> <p> Vendor: Liro Program &amp; Construction Management, PC</p> <p> Nature of services: Requirements Contract for CM Services, Citywide for Transportation Unit</p> <p> Method of extension the agency intends to utilize: Amendment Extension</p> <p> New start date of the proposed extended contract: 9/30/2015</p> <p> New end date of the proposed extended contract: 9/29/2016</p> <p> Modifications sought to the nature of services performed under the contract: No</p> <p> Reason(s) the agency intends to extend the contract: Continuity of Services</p> <p> Personnel in substantially similar titles within agency: none</p> <p> Headcount of personnel in substantially similar titles within agency: 0</p> <p> &nbsp;</p> <p> Agency: DDC</p> <p> Vendor: HAKS Engineers, Architects and Land Surveyors, P.C.</p> <p> Nature of services: Requirements Contract for CM Services, Citywide for Transportation Unit</p> <p> Method of extension the agency intends to utilize: Amendment Extension</p> <p> New start date of the proposed extended contract: 12/24/2015</p> <p> New end date of the proposed extended contract: 12/23/2016</p> <p> Modifications sought to the nature of services performed under the contract: No</p> <p> Reason(s) the agency intends to extend the contract: Continuity of Services</p> <p> Personnel in substantially similar titles within agency: none</p> <p> Headcount of personnel in substantially similar titles within agency: 0</p> <p> &nbsp;</p> <p> &nbsp;</p> <p> &nbsp;</p> <p> Agency: DDC</p> <p> Vendor: Turner Construction</p> <p> Nature of services: Requirements Contract for CM Services, Citywide for Transportation Unit</p> <p> Method of extension the agency intends to utilize: Amendment Extension</p> <p> New start date of the proposed extended contract: 12/15/2015</p> <p> New end date of the proposed extended contract: 12/14/2016</p> <p> Modifications sought to the nature of services performed under the contract: No</p> <p> Reason(s) the agency intends to extend the contract: Continuity of Services</p> <p> Personnel in substantially similar titles within agency: none</p> <p> Headcount of personnel in substantially similar titles within agency: 0</p> <p> &nbsp;</p> <p> Agency: DDC</p> <p> Vendor: Syska Hennessy Group</p> <p> Nature of services: Requirements Contract for HVAC, Fire Protection, Electrical, Plumbing, Citywide</p> <p> Method of extension the agency intends to utilize: Amendment Extension</p> <p> New start date of the proposed extended contract: 4/12/2015</p> <p> New end date of the proposed extended contract: 4/11/2016</p> <p> Modifications sought to the nature of services performed under the contract: No</p> <p> Reason(s) the agency intends to extend the contract: Continuity of Services</p> <p> Personnel in substantially similar titles within agency: none</p> <p> Headcount of personnel in substantially similar titles within agency: 0</p> <p> &nbsp;</p> <p> Agency: DDC</p> <p> Vendor: WSP USA Corp.</p> <p> Nature of services: Requirements Contract for HVAC, Fire Protection, Electrical, Plumbing, Citywide</p> <p> Method of extension the agency intends to utilize: Amendment Extension</p> <p> New start date of the proposed extended contract: 4/16/2015</p> <p> New end date of the proposed extended contract: 4/15/2016</p> <p> Modifications sought to the nature of services performed under the contract: No</p> <p> Reason(s) the agency intends to extend the contract: Continuity of Services</p> <p> Personnel in substantially similar titles within agency: none</p> <p> Headcount of personnel in substantially similar titles within agency: 0</p> <p> &nbsp;</p> <p> &nbsp;</p> <p> Agency: DDC</p> <p> Vendor: TETRA TECH ENGINEERS PC COSENTINI ASSOCIATES</p> <p> Nature of services: Requirements Contract for HVAC, Fire Protection, Electrical, Plumbing, Citywide</p> <p> Method of extension the agency intends to utilize: Amendment Extension</p> <p> New start date of the proposed extended contract: 4/27/2015</p> <p> New end date of the proposed extended contract: 4/26/2016</p> <p> Modifications sought to the nature of services performed under the contract: No</p> <p> Reason(s) the agency intends to extend the contract: Continuity of Services</p> <p> Personnel in substantially similar titles within agency: none</p> <p> Headcount of personnel in substantially similar titles within agency: 0</p> <p> &nbsp;</p> <p> Agency: DDC</p> <p> Vendor: JOSEPH R LORING &amp; ASSOCIATES INC.</p> <p> Nature of services: Requirements Contract for HVAC, Fire Protection, Electrical, Plumbing, Citywide</p> <p> Method of extension the agency intends to utilize: Amendment Extension</p> <p> New start date of the proposed extended contract: 4/16/2015</p> <p> New end date of the proposed extended contract: 4/15/2016</p> <p> Modifications sought to the nature of services performed under the contract: No</p> <p> Reason(s) the agency intends to extend the contract: Continuity of Services</p> <p> Personnel in substantially similar titles within agency: none</p> <p> Headcount of personnel in substantially similar titles within agency: 0</p> <p> &nbsp;</p> <p> Agency: DDC</p> <p> Vendor: GOLDMAN COPELAND ASSOCIATES PC</p> <p> Nature of services: Requirements Contract for HVAC, Fire Protection, Electrical, Plumbing, Citywide</p> <p> Method of extension the agency intends to utilize: Amendment Extension</p> <p> New start date of the proposed extended contract: 4/16/2015</p> <p> New end date of the proposed extended contract: 4/15/2016</p> <p> Modifications sought to the nature of services performed under the contract: No</p> <p> Reason(s) the agency intends to extend the contract: Continuity of Services</p> <p> Personnel in substantially similar titles within agency: none</p> <p> Headcount of personnel in substantially similar titles within age"
      ],
      "text/plain": [
       "<IPython.core.display.HTML object>"
      ]
     },
     "metadata": {},
     "output_type": "display_data"
    },
    {
     "name": "stdout",
     "output_type": "stream",
     "text": [
      "{'adverts': [{'preamble': 'NOTICE IS HEREBY GIVENthat the Mayor will be '\n",
      "                          'entering into the following extension(s) of (a) '\n",
      "                          'contract(s) not included in the FY 2015 Annual '\n",
      "                          'Contracting Plan and Schedule that is published '\n",
      "                          'pursuant to New York City Charter § 312(a):'},\n",
      "             {'Agency': 'DDC',\n",
      "              'Headcount of personnel in substantially similar titles within agency': '0',\n",
      "              'Method of extension the agency intends to utilize': 'Amendment '\n",
      "                                                                   'Extension',\n",
      "              'Modifications sought to the nature of services performed under the contract': 'No',\n",
      "              'Nature of services': 'Requirements Contract for CM '\n",
      "                                    'Services, Citywide for Transportation '\n",
      "                                    'Unit',\n",
      "              'New end date of the proposed extended contract': '6/29/2016',\n",
      "              'New start date of the proposed extended contract': '6/30/2015',\n",
      "              'Personnel in substantially similar titles within agency': 'none',\n",
      "              'Reason(s) the agency intends to extend the contract': 'Continuity '\n",
      "                                                                     'of '\n",
      "                                                                     'Services',\n",
      "              'Vendor': 'Jacobs Project Management Co.'},\n",
      "             {'Agency': 'DDC',\n",
      "              'Headcount of personnel in substantially similar titles within agency': '0',\n",
      "              'Method of extension the agency intends to utilize': 'Amendment '\n",
      "                                                                   'Extension',\n",
      "              'Modifications sought to the nature of services performed under the contract': 'No',\n",
      "              'Nature of services': 'Requirements Contract for CM '\n",
      "                                    'Services, Citywide for Transportation '\n",
      "                                    'Unit',\n",
      "              'New end date of the proposed extended contract': '7/11/2016',\n",
      "              'New start date of the proposed extended contract': '7/12/2015',\n",
      "              'Personnel in substantially similar titles within agency': 'none',\n",
      "              'Reason(s) the agency intends to extend the contract': 'Continuity '\n",
      "                                                                     'of '\n",
      "                                                                     'Services',\n",
      "              'Vendor': 'Hill International Inc.'},\n",
      "             {'Agency': 'DDC',\n",
      "              'Headcount of personnel in substantially similar titles within agency': '0',\n",
      "              'Method of extension the agency intends to utilize': 'Amendment '\n",
      "                                                                   'Extension',\n",
      "              'Modifications sought to the nature of services performed under the contract': 'No',\n",
      "              'Nature of services': 'Requirements Contract for CM '\n",
      "                                    'Services, Citywide for Transportation '\n",
      "                                    'Unit',\n",
      "              'New end date of the proposed extended contract': '9/29/2016',\n",
      "              'New start date of the proposed extended contract': '9/30/2015',\n",
      "              'Personnel in substantially similar titles within agency': 'none',\n",
      "              'Reason(s) the agency intends to extend the contract': 'Continuity '\n",
      "                                                                     'of '\n",
      "                                                                     'Services',\n",
      "              'Vendor': 'Liro Program & Construction Management, PC'},\n",
      "             {'Agency': 'DDC',\n",
      "              'Headcount of personnel in substantially similar titles within agency': '0',\n",
      "              'Method of extension the agency intends to utilize': 'Amendment '\n",
      "                                                                   'Extension',\n",
      "              'Modifications sought to the nature of services performed under the contract': 'No',\n",
      "              'Nature of services': 'Requirements Contract for CM '\n",
      "                                    'Services, Citywide for Transportation '\n",
      "                                    'Unit',\n",
      "              'New end date of the proposed extended contract': '12/23/2016',\n",
      "              'New start date of the proposed extended contract': '12/24/2015',\n",
      "              'Personnel in substantially similar titles within agency': 'none',\n",
      "              'Reason(s) the agency intends to extend the contract': 'Continuity '\n",
      "                                                                     'of '\n",
      "                                                                     'Services',\n",
      "              'Vendor': 'HAKS Engineers, Architects and Land Surveyors, '\n",
      "                        'P.C.'},\n",
      "             {'Agency': 'DDC',\n",
      "              'Headcount of personnel in substantially similar titles within agency': '0',\n",
      "              'Method of extension the agency intends to utilize': 'Amendment '\n",
      "                                                                   'Extension',\n",
      "              'Modifications sought to the nature of services performed under the contract': 'No',\n",
      "              'Nature of services': 'Requirements Contract for CM '\n",
      "                                    'Services, Citywide for Transportation '\n",
      "                                    'Unit',\n",
      "              'New end date of the proposed extended contract': '12/14/2016',\n",
      "              'New start date of the proposed extended contract': '12/15/2015',\n",
      "              'Personnel in substantially similar titles within agency': 'none',\n",
      "              'Reason(s) the agency intends to extend the contract': 'Continuity '\n",
      "                                                                     'of '\n",
      "                                                                     'Services',\n",
      "              'Vendor': 'Turner Construction'},\n",
      "             {'Agency': 'DDC',\n",
      "              'Headcount of personnel in substantially similar titles within agency': '0',\n",
      "              'Method of extension the agency intends to utilize': 'Amendment '\n",
      "                                                                   'Extension',\n",
      "              'Modifications sought to the nature of services performed under the contract': 'No',\n",
      "              'Nature of services': 'Requirements Contract for HVAC, Fire '\n",
      "                                    'Protection, Electrical, Plumbing, '\n",
      "                                    'Citywide',\n",
      "              'New end date of the proposed extended contract': '4/11/2016',\n",
      "              'New start date of the proposed extended contract': '4/12/2015',\n",
      "              'Personnel in substantially similar titles within agency': 'none',\n",
      "              'Reason(s) the agency intends to extend the contract': 'Continuity '\n",
      "                                                                     'of '\n",
      "                                                                     'Services',\n",
      "              'Vendor': 'Syska Hennessy Group'},\n",
      "             {'Agency': 'DDC',\n",
      "              'Headcount of personnel in substantially similar titles within agency': '0',\n",
      "              'Method of extension the agency intends to utilize': 'Amendment '\n",
      "                                                                   'Extension',\n",
      "              'Modifications sought to the nature of services performed under the contract': 'No',\n",
      "              'Nature of services': 'Requirements Contract for HVAC, Fire '\n",
      "                                    'Protection, Electrical, Plumbing, '\n",
      "                                    'Citywide',\n",
      "              'New end date of the proposed extended contract': '4/15/2016',\n",
      "              'New start date of the proposed extended contract': '4/16/2015',\n",
      "              'Personnel in substantially similar titles within agency': 'none',\n",
      "              'Reason(s) the agency intends to extend the contract': 'Continuity '\n",
      "                                                                     'of '\n",
      "                                                                     'Services',\n",
      "              'Vendor': 'WSP USA Corp.'},\n",
      "             {'Agency': 'DDC',\n",
      "              'Headcount of personnel in substantially similar titles within agency': '0',\n",
      "              'Method of extension the agency intends to utilize': 'Amendment '\n",
      "                                                                   'Extension',\n",
      "              'Modifications sought to the nature of services performed under the contract': 'No',\n",
      "              'Nature of services': 'Requirements Contract for HVAC, Fire '\n",
      "                                    'Protection, Electrical, Plumbing, '\n",
      "                                    'Citywide',\n",
      "              'New end date of the proposed extended contract': '4/26/2016',\n",
      "              'New start date of the proposed extended contract': '4/27/2015',\n",
      "              'Personnel in substantially similar titles within agency': 'none',\n",
      "              'Reason(s) the agency intends to extend the contract': 'Continuity '\n",
      "                                                                     'of '\n",
      "                                                                     'Services',\n",
      "              'Vendor': 'TETRA TECH ENGINEERS PC COSENTINI ASSOCIATES'},\n",
      "             {'Agency': 'DDC',\n",
      "              'Headcount of personnel in substantially similar titles within agency': '0',\n",
      "              'Method of extension the agency intends to utilize': 'Amendment '\n",
      "                                                                   'Extension',\n",
      "              'Modifications sought to the nature of services performed under the contract': 'No',\n",
      "              'Nature of services': 'Requirements Contract for HVAC, Fire '\n",
      "                                    'Protection, Electrical, Plumbing, '\n",
      "                                    'Citywide',\n",
      "              'New end date of the proposed extended contract': '4/15/2016',\n",
      "              'New start date of the proposed extended contract': '4/16/2015',\n",
      "              'Personnel in substantially similar titles within agency': 'none',\n",
      "              'Reason(s) the agency intends to extend the contract': 'Continuity '\n",
      "                                                                     'of '\n",
      "                                                                     'Services',\n",
      "              'Vendor': 'JOSEPH R LORING & ASSOCIATES INC.'},\n",
      "             {'Agency': 'DDC',\n",
      "              'Method of extension the agency intends to utilize': 'Amendment '\n",
      "                                                                   'Extension',\n",
      "              'Modifications sought to the nature of services performed under the contract': 'No',\n",
      "              'Nature of services': 'Requirements Contract for HVAC, Fire '\n",
      "                                    'Protection, Electrical, Plumbing, '\n",
      "                                    'Citywide',\n",
      "              'New end date of the proposed extended contract': '4/15/2016',\n",
      "              'New start date of the proposed extended contract': '4/16/2015',\n",
      "              'Personnel in substantially similar titles within agency': 'none',\n",
      "              'Reason(s) the agency intends to extend the contract': 'Continuity '\n",
      "                                                                     'of '\n",
      "                                                                     'Services',\n",
      "              'Vendor': 'GOLDMAN COPELAND ASSOCIATES PC'}],\n",
      " 'context': 'Notice of Intent to Extend Contract(s) Not Included in FY 2015 '\n",
      "            'Annual Contracting Plan and Schedule'}\n"
     ]
    },
    {
     "data": {
      "text/html": [
       "<hr />"
      ],
      "text/plain": [
       "<IPython.core.display.HTML object>"
      ]
     },
     "metadata": {},
     "output_type": "display_data"
    },
    {
     "data": {
      "text/html": [
       "<p> <u>Notice of Intent to Issue New Solicitation(s) Not Included in FY 2015 Annual Contracting Plan and Schedule </u></p> <p> &nbsp;</p> <p> <strong>NOTICE IS HEREBY GIVEN</strong> that the Mayor will be issuing the following solicitation(s) not included in the FY 2015 Annual Contracting Plan and Schedule that is published pursuant to New York City Charter &sect; 312(a):</p> <p> &nbsp;</p> <p> &nbsp;</p> <p> Agency: DDC</p> <p> Description of services sought:&nbsp;&nbsp; A&amp;E Requirements Contract for Commissioning</p> <p> Start date of the proposed contract:&nbsp;&nbsp; 8/12/2015</p> <p> End date of the proposed contract:&nbsp;&nbsp; 8/11/2018</p> <p> Method of solicitation the agency intends to utilize:&nbsp;&nbsp;&nbsp; Request for Proposal</p> <p> Personnel in substantially similar titles within agency:&nbsp;&nbsp; none</p> <p> Headcount of personnel in substantially similar titles within agency:&nbsp; 0</p> <p> &nbsp;</p> <p> Agency: DDC</p> <p> Description of services sought:&nbsp;Requirements Contract for HVAC/Fire Protection/Electrical/Plumbing, Small A&amp;E Proj., Citywide (5)</p> <p> Start date of the proposed contract:&nbsp;4/11/2015</p> <p> End date of the proposed contract:&nbsp;&nbsp; 4/11/2018</p> <p> Method of solicitation the agency intends to utilize:&nbsp;&nbsp;&nbsp; Request for Proposal</p> <p> Personnel in substantially similar titles within agency:&nbsp;&nbsp; none</p> <p> Headcount of personnel in substantially similar titles within agency:&nbsp; 0</p> <p> &nbsp;</p> <p> Agency: DDC</p> <p> Description of services sought: Requirements Contract for HVAC/Fire Protection/Electrical/Plumbing, Medium A&amp;E Proj, Citywide (5)</p> <p> Start date of the proposed contract:&nbsp;4/11/2015</p> <p> End date of the proposed contract:&nbsp;&nbsp; 4/11/2018</p> <p> Method of solicitation the agency intends to utilize:&nbsp;&nbsp;&nbsp; Request for Proposal</p> <p> Personnel in substantially similar titles within agency:&nbsp;&nbsp; none</p> <p> Headcount of personnel in substantially similar titles within agency:&nbsp; 0</p> <p> &nbsp;</p> <p> Agency: DDC</p> <p> Description of services sought:&nbsp; Requirements Contract for HVAC/Fire Protection/Electrical/Plumbing, Large A&amp;E Proj., Citywide (5)</p> <p> Start date of the proposed contract:&nbsp;4/11/2015</p> <p> End date of the proposed contract:&nbsp;&nbsp; 4/11/2018</p> <p> Method of solicitation the agency intends to utilize:&nbsp;&nbsp;&nbsp; Request for Proposal</p> <p> Personnel in substantially similar titles within agency:&nbsp;&nbsp; none</p> <p> Headcount of personnel in substantially similar titles within agency:&nbsp; 0</p> <p> &nbsp;</p> <p> Agency: DDC</p> <p> Description of services sought:&nbsp; Resident Engineering Inspection Services, Small Infrastructure Projects, Citywide (5)</p> <p> Start date of the proposed contract:&nbsp;2/1/2016</p> <p> End date of the proposed contract:&nbsp;&nbsp; 2/1/2019</p> <p> Method of solicitation the agency intends to utilize:&nbsp;&nbsp;&nbsp; Request for Proposal</p> <p> Personnel in substantially similar titles within agency: This is a task order contract that does not simultaneously result in the award of a first task order; therefore, this information will be determined in conjunction with the issuance of each task order pursuant to this contract.</p> <p> Headcount of personnel in substantially similar titles within agency:&nbsp; TBD</p> <p> &nbsp;</p> <p> Agency: DDC</p> <p> Description of services sought:&nbsp;Resident Engineering Inspection Services, Medium Infrastructure Projects, Citywide (5)</p> <p> Start date of the proposed contract:&nbsp;2/1/2016</p> <p> End date of the proposed contract:&nbsp;&nbsp; 2/1/2019</p> <p> Method of solicitation the agency intends to utilize:&nbsp;&nbsp;&nbsp; Request for Proposal</p> <p> Personnel in substantially similar titles within agency:&nbsp;&nbsp; This is a task order contract that does not simultaneously result in the award of a first task order; therefore, this information will be determined in conjunction with the issuance of each task order pursuant to this contract.</p> <p> Headcount of personnel in substantially similar titles within agency:&nbsp; TBD</p> <p> &nbsp;</p> <p> Agency: DDC</p> <p> Description of services sought:&nbsp; Resident Engineering Inspection Services, Large Infrastructure Projects, Citywide (5)</p> <p> Start date of the proposed contract:&nbsp;2/1/2016</p> <p> End date of the proposed contract:&nbsp;&nbsp; 2/1/2019</p> <p> Method of solicitation the agency intends to utilize:&nbsp;&nbsp;&nbsp; Request for Proposal</p> <p> Personnel in substantially similar titles within agency:&nbsp;&nbsp; This is a task order contract that does not simultaneously result in the award of a first task order; therefore, this information will be determined in conjunction with the issuance of each task order pursuant to this contract.</p> <p> Headcount of personnel in substantially similar titles within agency:&nbsp; TBD</p> <p> &nbsp;</p> <p> Agency: DDC</p> <p> Description of services sought:&nbsp;Design and Construction Management Services for Community Recovery, Large Single Family Homes</p> <p> Start date of the proposed contract:&nbsp; 01-15-2015</p> <p> End date of the proposed contract:&nbsp;&nbsp; 01-14-2016</p> <p> Method of solicitation the agency intends to utilize:&nbsp;&nbsp;&nbsp; Request for Proposal</p> <p> Personnel in substantially similar titles within agency:&nbsp;&nbsp; none</p> <p> Headcount of personnel in substantially similar titles within agency:&nbsp; 0</p> <p> &nbsp;</p> <p> Agency: DDC</p> <p> Description of services sought:&nbsp;Requirement Contract Design Services Survey, East Side Coastal Resiliency, Manhattan</p> <p> Start date of the proposed contract:&nbsp; 11-15-2014</p> <p> End date of the proposed contract:&nbsp;&nbsp; 11-14-2015</p> <p> Method of solicitation the agency intends to utilize:&nbsp;&nbsp;&nbsp; Task Order</p> <p> Personnel in substantially similar titles within agency:&nbsp; Admin. Engineer, Asst. Civil Engineer, Civil Engineer, Associate Project Manager</p> <p> Headcount of personnel in substantially similar titles within agency:&nbsp; 296</p> <p> &nbsp;</p> <p> Agency: DDC</p> <p> Description of services sought: Requirement Contract Design Services for Feasibility Study and Pre-Scoping, East Side Coastal Resiliency, Manhattan</p> <p> Start date of the proposed contract:&nbsp; 12-15-2014</p> <p> End date of the proposed contract:&nbsp;&nbsp; 12-14-2015</p> <p> Method of solicitation the agency intends to utilize:&nbsp;Task Order</p> <p> Personnel in substantially similar titles within agency:&nbsp;Admin Engineer, Asst. Civil Engineer, Asst Landscape Architect, Civil Engineer, Landscape Architect, Associate Project Manager</p> <p> Headcount of personnel in substantially similar titles within agency:&nbsp; 304</p> <p> &nbsp;</p> <p> Agency: DDC</p> <p> Description of services sought: &nbsp;Requirement Contract Environmental Assessment Services Review, East Side Coastal Resiliency, Manhattan</p> <p> Start date of the proposed contract:&nbsp; 01-15-2015</p> <p> End date of the proposed contract:&nbsp;&nbsp; 01-14-2017</p> <p> Method of solicitation the agency intends to utilize:&nbsp;&nbsp;&nbsp; Task Order</p> <p> Personnel in substantially similar titles within agency:&nbsp;Admin. Engineer, Assistant Chemical Engineer, Assistant Civil Engineer, Assistant Mechanical Engineer, Assistant Architect, Assistant Electrical Engineer</p> <p> Headcount of personnel in substantially similar titles within agency:&nbsp; 132</p> <p> &nbsp;</p> <p> Agency: DDC</p> <p> Description of services sought: Construction Management Design Services, East Side Coastal"
      ],
      "text/plain": [
       "<IPython.core.display.HTML object>"
      ]
     },
     "metadata": {},
     "output_type": "display_data"
    },
    {
     "name": "stdout",
     "output_type": "stream",
     "text": [
      "{'adverts': [{'preamble': 'NOTICE IS HEREBY GIVENthat the Mayor will be '\n",
      "                          'issuing the following solicitation(s) not '\n",
      "                          'included in the FY 2015 Annual Contracting Plan '\n",
      "                          'and Schedule that is published pursuant to New '\n",
      "                          'York City Charter § 312(a):'},\n",
      "             {'Agency': 'DDC',\n",
      "              'Description of services sought': 'A&E Requirements Contract '\n",
      "                                                'for Commissioning',\n",
      "              'End date of the proposed contract': '8/11/2018',\n",
      "              'Headcount of personnel in substantially similar titles within agency': '0',\n",
      "              'Method of solicitation the agency intends to utilize': 'Request '\n",
      "                                                                      'for '\n",
      "                                                                      'Proposal',\n",
      "              'Personnel in substantially similar titles within agency': 'none',\n",
      "              'Start date of the proposed contract': '8/12/2015'},\n",
      "             {'Agency': 'DDC',\n",
      "              'Description of services sought': 'Requirements Contract for '\n",
      "                                                'HVAC/Fire '\n",
      "                                                'Protection/Electrical/Plumbing, '\n",
      "                                                'Small A&E Proj., Citywide '\n",
      "                                                '(5)',\n",
      "              'End date of the proposed contract': '4/11/2018',\n",
      "              'Headcount of personnel in substantially similar titles within agency': '0',\n",
      "              'Method of solicitation the agency intends to utilize': 'Request '\n",
      "                                                                      'for '\n",
      "                                                                      'Proposal',\n",
      "              'Personnel in substantially similar titles within agency': 'none',\n",
      "              'Start date of the proposed contract': '4/11/2015'},\n",
      "             {'Agency': 'DDC',\n",
      "              'Description of services sought': 'Requirements Contract for '\n",
      "                                                'HVAC/Fire '\n",
      "                                                'Protection/Electrical/Plumbing, '\n",
      "                                                'Medium A&E Proj, Citywide '\n",
      "                                                '(5)',\n",
      "              'End date of the proposed contract': '4/11/2018',\n",
      "              'Headcount of personnel in substantially similar titles within agency': '0',\n",
      "              'Method of solicitation the agency intends to utilize': 'Request '\n",
      "                                                                      'for '\n",
      "                                                                      'Proposal',\n",
      "              'Personnel in substantially similar titles within agency': 'none',\n",
      "              'Start date of the proposed contract': '4/11/2015'},\n",
      "             {'Agency': 'DDC',\n",
      "              'Description of services sought': 'Requirements Contract for '\n",
      "                                                'HVAC/Fire '\n",
      "                                                'Protection/Electrical/Plumbing, '\n",
      "                                                'Large A&E Proj., Citywide '\n",
      "                                                '(5)',\n",
      "              'End date of the proposed contract': '4/11/2018',\n",
      "              'Headcount of personnel in substantially similar titles within agency': '0',\n",
      "              'Method of solicitation the agency intends to utilize': 'Request '\n",
      "                                                                      'for '\n",
      "                                                                      'Proposal',\n",
      "              'Personnel in substantially similar titles within agency': 'none',\n",
      "              'Start date of the proposed contract': '4/11/2015'},\n",
      "             {'Agency': 'DDC',\n",
      "              'Description of services sought': 'Resident Engineering '\n",
      "                                                'Inspection Services, '\n",
      "                                                'Small Infrastructure '\n",
      "                                                'Projects, Citywide (5)',\n",
      "              'End date of the proposed contract': '2/1/2019',\n",
      "              'Headcount of personnel in substantially similar titles within agency': 'TBD',\n",
      "              'Method of solicitation the agency intends to utilize': 'Request '\n",
      "                                                                      'for '\n",
      "                                                                      'Proposal',\n",
      "              'Personnel in substantially similar titles within agency': 'This '\n",
      "                                                                         'is '\n",
      "                                                                         'a '\n",
      "                                                                         'task '\n",
      "                                                                         'order '\n",
      "                                                                         'contract '\n",
      "                                                                         'that '\n",
      "                                                                         'does '\n",
      "                                                                         'not '\n",
      "                                                                         'simultaneously '\n",
      "                                                                         'result '\n",
      "                                                                         'in '\n",
      "                                                                         'the '\n",
      "                                                                         'award '\n",
      "                                                                         'of '\n",
      "                                                                         'a '\n",
      "                                                                         'first '\n",
      "                                                                         'task '\n",
      "                                                                         'order; '\n",
      "                                                                         'therefore, '\n",
      "                                                                         'this '\n",
      "                                                                         'information '\n",
      "                                                                         'will '\n",
      "                                                                         'be '\n",
      "                                                                         'determined '\n",
      "                                                                         'in '\n",
      "                                                                         'conjunction '\n",
      "                                                                         'with '\n",
      "                                                                         'the '\n",
      "                                                                         'issuance '\n",
      "                                                                         'of '\n",
      "                                                                         'each '\n",
      "                                                                         'task '\n",
      "                                                                         'order '\n",
      "                                                                         'pursuant '\n",
      "                                                                         'to '\n",
      "                                                                         'this '\n",
      "                                                                         'contract.',\n",
      "              'Start date of the proposed contract': '2/1/2016'},\n",
      "             {'Agency': 'DDC',\n",
      "              'Description of services sought': 'Resident Engineering '\n",
      "                                                'Inspection Services, '\n",
      "                                                'Medium Infrastructure '\n",
      "                                                'Projects, Citywide (5)',\n",
      "              'End date of the proposed contract': '2/1/2019',\n",
      "              'Headcount of personnel in substantially similar titles within agency': 'TBD',\n",
      "              'Method of solicitation the agency intends to utilize': 'Request '\n",
      "                                                                      'for '\n",
      "                                                                      'Proposal',\n",
      "              'Personnel in substantially similar titles within agency': 'This '\n",
      "                                                                         'is '\n",
      "                                                                         'a '\n",
      "                                                                         'task '\n",
      "                                                                         'order '\n",
      "                                                                         'contract '\n",
      "                                                                         'that '\n",
      "                                                                         'does '\n",
      "                                                                         'not '\n",
      "                                                                         'simultaneously '\n",
      "                                                                         'result '\n",
      "                                                                         'in '\n",
      "                                                                         'the '\n",
      "                                                                         'award '\n",
      "                                                                         'of '\n",
      "                                                                         'a '\n",
      "                                                                         'first '\n",
      "                                                                         'task '\n",
      "                                                                         'order; '\n",
      "                                                                         'therefore, '\n",
      "                                                                         'this '\n",
      "                                                                         'information '\n",
      "                                                                         'will '\n",
      "                                                                         'be '\n",
      "                                                                         'determined '\n",
      "                                                                         'in '\n",
      "                                                                         'conjunction '\n",
      "                                                                         'with '\n",
      "                                                                         'the '\n",
      "                                                                         'issuance '\n",
      "                                                                         'of '\n",
      "                                                                         'each '\n",
      "                                                                         'task '\n",
      "                                                                         'order '\n",
      "                                                                         'pursuant '\n",
      "                                                                         'to '\n",
      "                                                                         'this '\n",
      "                                                                         'contract.',\n",
      "              'Start date of the proposed contract': '2/1/2016'},\n",
      "             {'Agency': 'DDC',\n",
      "              'Description of services sought': 'Resident Engineering '\n",
      "                                                'Inspection Services, '\n",
      "                                                'Large Infrastructure '\n",
      "                                                'Projects, Citywide (5)',\n",
      "              'End date of the proposed contract': '2/1/2019',\n",
      "              'Headcount of personnel in substantially similar titles within agency': 'TBD',\n",
      "              'Method of solicitation the agency intends to utilize': 'Request '\n",
      "                                                                      'for '\n",
      "                                                                      'Proposal',\n",
      "              'Personnel in substantially similar titles within agency': 'This '\n",
      "                                                                         'is '\n",
      "                                                                         'a '\n",
      "                                                                         'task '\n",
      "                                                                         'order '\n",
      "                                                                         'contract '\n",
      "                                                                         'that '\n",
      "                                                                         'does '\n",
      "                                                                         'not '\n",
      "                                                                         'simultaneously '\n",
      "                                                                         'result '\n",
      "                                                                         'in '\n",
      "                                                                         'the '\n",
      "                                                                         'award '\n",
      "                                                                         'of '\n",
      "                                                                         'a '\n",
      "                                                                         'first '\n",
      "                                                                         'task '\n",
      "                                                                         'order; '\n",
      "                                                                         'therefore, '\n",
      "                                                                         'this '\n",
      "                                                                         'information '\n",
      "                                                                         'will '\n",
      "                                                                         'be '\n",
      "                                                                         'determined '\n",
      "                                                                         'in '\n",
      "                                                                         'conjunction '\n",
      "                                                                         'with '\n",
      "                                                                         'the '\n",
      "                                                                         'issuance '\n",
      "                                                                         'of '\n",
      "                                                                         'each '\n",
      "                                                                         'task '\n",
      "                                                                         'order '\n",
      "                                                                         'pursuant '\n",
      "                                                                         'to '\n",
      "                                                                         'this '\n",
      "                                                                         'contract.',\n",
      "              'Start date of the proposed contract': '2/1/2016'},\n",
      "             {'Agency': 'DDC',\n",
      "              'Description of services sought': 'Design and Construction '\n",
      "                                                'Management Services for '\n",
      "                                                'Community Recovery, Large '\n",
      "                                                'Single Family Homes',\n",
      "              'End date of the proposed contract': '01-14-2016',\n",
      "              'Headcount of personnel in substantially similar titles within agency': '0',\n",
      "              'Method of solicitation the agency intends to utilize': 'Request '\n",
      "                                                                      'for '\n",
      "                                                                      'Proposal',\n",
      "              'Personnel in substantially similar titles within agency': 'none',\n",
      "              'Start date of the proposed contract': '01-15-2015'},\n",
      "             {'Agency': 'DDC',\n",
      "              'Description of services sought': 'Requirement Contract '\n",
      "                                                'Design Services Survey, '\n",
      "                                                'East Side Coastal '\n",
      "                                                'Resiliency, Manhattan',\n",
      "              'End date of the proposed contract': '11-14-2015',\n",
      "              'Headcount of personnel in substantially similar titles within agency': '296',\n",
      "              'Method of solicitation the agency intends to utilize': 'Task '\n",
      "                                                                      'Order',\n",
      "              'Personnel in substantially similar titles within agency': 'Admin. '\n",
      "                                                                         'Engineer, '\n",
      "                                                                         'Asst. '\n",
      "                                                                         'Civil '\n",
      "                                                                         'Engineer, '\n",
      "                                                                         'Civil '\n",
      "                                                                         'Engineer, '\n",
      "                                                                         'Associate '\n",
      "                                                                         'Project '\n",
      "                                                                         'Manager',\n",
      "              'Start date of the proposed contract': '11-15-2014'},\n",
      "             {'Agency': 'DDC',\n",
      "              'Description of services sought': 'Requirement Contract '\n",
      "                                                'Design Services for '\n",
      "                                                'Feasibility Study and '\n",
      "                                                'Pre-Scoping, East Side '\n",
      "                                                'Coastal Resiliency, '\n",
      "                                                'Manhattan',\n",
      "              'End date of the proposed contract': '12-14-2015',\n",
      "              'Headcount of personnel in substantially similar titles within agency': '304',\n",
      "              'Method of solicitation the agency intends to utilize': 'Task '\n",
      "                                                                      'Order',\n",
      "              'Personnel in substantially similar titles within agency': 'Admin '\n",
      "                                                                         'Engineer, '\n",
      "                                                                         'Asst. '\n",
      "                                                                         'Civil '\n",
      "                                                                         'Engineer, '\n",
      "                                                                         'Asst '\n",
      "                                                                         'Landscape '\n",
      "                                                                         'Architect, '\n",
      "                                                                         'Civil '\n",
      "                                                                         'Engineer, '\n",
      "                                                                         'Landscape '\n",
      "                                                                         'Architect, '\n",
      "                                                                         'Associate '\n",
      "                                                                         'Project '\n",
      "                                                                         'Manager',\n",
      "              'Start date of the proposed contract': '12-15-2014'},\n",
      "             {'Agency': 'DDC',\n",
      "              'Description of services sought': 'Requirement Contract '\n",
      "                                                'Environmental Assessment '\n",
      "                                                'Services Review, East '\n",
      "                                                'Side Coastal Resiliency, '\n",
      "                                                'Manhattan',\n",
      "              'End date of the proposed contract': '01-14-2017',\n",
      "              'Headcount of personnel in substantially similar titles within agency': '132',\n",
      "              'Method of solicitation the agency intends to utilize': 'Task '\n",
      "                                                                      'Order',\n",
      "              'Personnel in substantially similar titles within agency': 'Admin. '\n",
      "                                                                         'Engineer, '\n",
      "                                                                         'Assistant '\n",
      "                                                                         'Chemical '\n",
      "                                                                         'Engineer, '\n",
      "                                                                         'Assistant '\n",
      "                                                                         'Civil '\n",
      "                                                                         'Engineer, '\n",
      "                                                                         'Assistant '\n",
      "                                                                         'Mechanical '\n",
      "                                                                         'Engineer, '\n",
      "                                                                         'Assistant '\n",
      "                                                                         'Architect, '\n",
      "                                                                         'Assistant '\n",
      "                                                                         'Electrical '\n",
      "                                                                         'Engineer',\n",
      "              'Start date of the proposed contract': '01-15-2015'},\n",
      "             {'Agency': 'DDC',\n",
      "              'Description of services sought': 'Construction Management '\n",
      "                                                'Design Services, East '\n",
      "                                                'Side Coastal'}],\n",
      " 'context': 'Notice of Intent to Issue New Solicitation(s) Not Included in '\n",
      "            'FY 2015 Annual Contracting Plan and Schedule'}\n"
     ]
    },
    {
     "data": {
      "text/html": [
       "<hr />"
      ],
      "text/plain": [
       "<IPython.core.display.HTML object>"
      ]
     },
     "metadata": {},
     "output_type": "display_data"
    },
    {
     "data": {
      "text/html": [
       "<p> <u>Notice of Intent to Issue New Solicitation(s) Not Included in FY 2015 Annual Contracting Plan and Schedule </u></p> <p> &nbsp;</p> <p> <strong>NOTICE IS HEREBY GIVEN</strong> that the Mayor will be issuing the following solicitation(s) not included in the FY 2015 Annual Contracting Plan and Schedule that is published pursuant to New York City Charter &sect; 312(a):</p> <p> &nbsp;</p> <p> Agency: DDC</p> <p> Description of services sought:&nbsp;&nbsp; Queensboro Hall Municipal Parking Garage &ndash; Demolition</p> <p> Start date of the proposed contract:&nbsp;1/15/2015</p> <p> End date of the proposed contract:&nbsp;1/15/2018</p> <p> Method of solicitation the agency intends to utilize:&nbsp;Task Order</p> <p> Personnel in substantially similar titles within agency:&nbsp;None</p> <p> Headcount of personnel in substantially similar titles within agency:&nbsp; 0</p> <p> &nbsp;&nbsp;&nbsp;&nbsp;&nbsp;&nbsp;&nbsp;&nbsp;&nbsp;&nbsp;&nbsp;&nbsp;&nbsp;&nbsp;&nbsp;&nbsp;&nbsp;&nbsp;&nbsp;&nbsp;&nbsp;&nbsp;&nbsp;&nbsp;&nbsp;&nbsp;&nbsp;&nbsp;&nbsp;&nbsp;&nbsp;&nbsp;&nbsp;&nbsp;&nbsp;&nbsp;&nbsp;&nbsp;&nbsp;&nbsp;&nbsp;&nbsp;&nbsp;&nbsp;&nbsp;&nbsp;&nbsp;&nbsp;&nbsp;&nbsp;&nbsp;&nbsp;&nbsp;&nbsp;&nbsp;&nbsp;&nbsp;&nbsp;&nbsp;&nbsp;&nbsp;&nbsp;&nbsp;&nbsp;&nbsp;&nbsp;&nbsp;&nbsp;&nbsp;&nbsp;&nbsp;&nbsp;&nbsp;&nbsp;&nbsp;&nbsp;&nbsp;&nbsp;&nbsp;&nbsp;&nbsp;&nbsp;&nbsp;&nbsp;&nbsp;&nbsp;&nbsp;&nbsp;&nbsp;&nbsp;&nbsp;&nbsp;&nbsp;&nbsp;&nbsp;&nbsp;&nbsp;</p>"
      ],
      "text/plain": [
       "<IPython.core.display.HTML object>"
      ]
     },
     "metadata": {},
     "output_type": "display_data"
    },
    {
     "name": "stdout",
     "output_type": "stream",
     "text": [
      "{'adverts': [{'preamble': 'NOTICE IS HEREBY GIVENthat the Mayor will be '\n",
      "                          'issuing the following solicitation(s) not '\n",
      "                          'included in the FY 2015 Annual Contracting Plan '\n",
      "                          'and Schedule that is published pursuant to New '\n",
      "                          'York City Charter § 312(a):'},\n",
      "             {'Agency': 'DDC',\n",
      "              'Description of services sought': 'Queensboro Hall Municipal '\n",
      "                                                'Parking Garage – '\n",
      "                                                'Demolition',\n",
      "              'End date of the proposed contract': '1/15/2018',\n",
      "              'Headcount of personnel in substantially similar titles within agency': '0',\n",
      "              'Method of solicitation the agency intends to utilize': 'Task '\n",
      "                                                                      'Order',\n",
      "              'Personnel in substantially similar titles within agency': 'None',\n",
      "              'Start date of the proposed contract': '1/15/2015'}],\n",
      " 'context': 'Notice of Intent to Issue New Solicitation(s) Not Included in '\n",
      "            'FY 2015 Annual Contracting Plan and Schedule'}\n"
     ]
    },
    {
     "data": {
      "text/html": [
       "<hr />"
      ],
      "text/plain": [
       "<IPython.core.display.HTML object>"
      ]
     },
     "metadata": {},
     "output_type": "display_data"
    },
    {
     "data": {
      "text/html": [
       "<p> <u>Notice of Intent to Issue New Solicitation(s) Not Included in FY 2015 Annual Contracting Plan and Schedule </u></p> <p> &nbsp;</p> <p> <strong>NOTICE IS HEREBY GIVEN</strong> that the Mayor will be issuing the following solicitation(s) not included in the FY 2015 Annual Contracting Plan and Schedule that is published pursuant to New York City Charter &sect; 312(a):</p> <p> &nbsp;</p> <p> Agency: Office of Management and Budget</p> <p> Description of services sought: Developers for Microsoft Dynamics Grants Management Application &ndash; Phase II</p> <p> Start date of the proposed contract: &nbsp;2/16/2015 &nbsp;&nbsp;&nbsp;&nbsp;&nbsp;&nbsp;&nbsp;&nbsp;&nbsp;&nbsp;&nbsp;&nbsp;&nbsp;</p> <p> End date of the proposed contract: &nbsp;&nbsp;2/15/2017</p> <p> Method of solicitation the agency intends to utilize:&nbsp; Intergovernmental</p> <p> Personnel in substantially similar titles within agency:&nbsp;None</p> <p> Headcount of personnel in substantially similar titles within agency: 0</p>"
      ],
      "text/plain": [
       "<IPython.core.display.HTML object>"
      ]
     },
     "metadata": {},
     "output_type": "display_data"
    },
    {
     "name": "stdout",
     "output_type": "stream",
     "text": [
      "{'adverts': [{'preamble': 'NOTICE IS HEREBY GIVENthat the Mayor will be '\n",
      "                          'issuing the following solicitation(s) not '\n",
      "                          'included in the FY 2015 Annual Contracting Plan '\n",
      "                          'and Schedule that is published pursuant to New '\n",
      "                          'York City Charter § 312(a):'},\n",
      "             {'Agency': 'Office of Management and Budget',\n",
      "              'Description of services sought': 'Developers for Microsoft '\n",
      "                                                'Dynamics Grants '\n",
      "                                                'Management Application – '\n",
      "                                                'Phase II',\n",
      "              'End date of the proposed contract': '2/15/2017',\n",
      "              'Headcount of personnel in substantially similar titles within agency': '0',\n",
      "              'Method of solicitation the agency intends to utilize': 'Intergovernmental',\n",
      "              'Personnel in substantially similar titles within agency': 'None',\n",
      "              'Start date of the proposed contract': '2/16/2015'}],\n",
      " 'context': 'Notice of Intent to Issue New Solicitation(s) Not Included in '\n",
      "            'FY 2015 Annual Contracting Plan and Schedule'}\n"
     ]
    },
    {
     "data": {
      "text/html": [
       "<hr />"
      ],
      "text/plain": [
       "<IPython.core.display.HTML object>"
      ]
     },
     "metadata": {},
     "output_type": "display_data"
    },
    {
     "data": {
      "text/html": [
       "<p> <u>Notice of Intent to Issue New Solicitation(s) Not Included in FY 2015 Annual Contracting Plan and Schedule </u></p> <p> &nbsp;</p> <p> <strong>NOTICE IS HEREBY GIVEN</strong> that the Mayor will be issuing the following solicitation(s) not included in the FY 2015 Annual Contracting Plan and Schedule that is published pursuant to New York City Charter &sect; 312(a):</p> <p> &nbsp;</p> <p> Agency: Department of Parks and Recreation</p> <p> &nbsp;</p> <p> Nature of Services Sought:&nbsp; Architectural Design Services for the reconstruction of De-Commissioned Buildings in the Borough of Queens</p> <p> &nbsp;</p> <p> Start Date of the proposed contract:&nbsp; 12/1/2014</p> <p> &nbsp;</p> <p> End Date of the proposed contract:&nbsp; 1/1/2015</p> <p> &nbsp;</p> <p> Method of Solicitation the Agency intends to utilize:&nbsp; Task Order</p> <p> &nbsp;</p> <p> Personnel in substantially similar titles within Agency:</p> <p> &nbsp;</p> <p> Architect, Architect Intern, Assistant Architect, Landmarks Preservationist, Project Manager, Associate Project Manager, Civil Engineers, Assistant Civil Engineers</p> <p> &nbsp;</p> <p> Headcount of personnel in substantially similar titles within Agency: 78</p> <p> &nbsp;</p> <p> &nbsp;</p> <p> &nbsp;</p> <p> Agency: Department of Parks and Recreation</p> <p> &nbsp;</p> <p> Nature of Services Sought:&nbsp; Architectural Design Services for the reconstruction of De-Commissioned Buildings in the Boroughs of Brooklyn and Staten Island</p> <p> &nbsp;</p> <p> Start Date of the proposed contract:&nbsp; 12/1/2014</p> <p> &nbsp;</p> <p> End Date of the proposed contract:&nbsp; 1/1/2015</p> <p> &nbsp;</p> <p> Method of Solicitation the Agency intends to utilize:&nbsp; Task Order</p> <p> &nbsp;</p> <p> Personnel in substantially similar titles within Agency:</p> <p> &nbsp;</p> <p> Architect, Architect Intern, Assistant Architect, Landmarks Preservationist, Project Manager, Associate Project Manager, Civil Engineers, Assistant Civil Engineers</p> <p> &nbsp;</p> <p> Headcount of personnel in substantially similar titles within Agency: 78</p> <p> &nbsp;</p> <p> &nbsp;</p> <p> &nbsp;</p> <p> Agency: Department of Parks and Recreation</p> <p> &nbsp;</p> <p> Nature of Services Sought:&nbsp; Architectural Design Services for the reconstruction of De-Commissioned Buildings in the Boroughs of The Bronx and Manhattan</p> <p> &nbsp;</p> <p> Start Date of the proposed contract:&nbsp; 12/1/2014</p> <p> &nbsp;</p> <p> End Date of the proposed contract:&nbsp; 1/1/2015</p> <p> &nbsp;</p> <p> Method of Solicitation the Agency intends to utilize:&nbsp; Task Order</p> <p> &nbsp;</p> <p> Personnel in substantially similar titles within Agency:</p> <p> &nbsp;</p> <p> Architect, Architect Intern, Assistant Architect, Landmarks Preservationist, Project Manager, Associate Project Manager, Civil Engineers, Assistant Civil Engineers</p> <p> &nbsp;</p> <p> Headcount of personnel in substantially similar titles within Agency: 78</p> <p> &nbsp;</p> <p> &nbsp;</p> <p> &nbsp;</p> <p> Agency: Department of Parks and Recreation</p> <p> &nbsp;</p> <p> Nature of Services Sought:&nbsp; Architectural Design Services for reconstruction of Corlears Hook Comfort Station located in the Borough of Manhattan</p> <p> &nbsp;</p> <p> Start Date of the proposed contract:&nbsp; 1/3/2015</p> <p> &nbsp;</p> <p> End Date of the proposed contract:&nbsp; 4/3/2016</p> <p> &nbsp;</p> <p> Method of Solicitation the Agency intends to utilize:&nbsp; Task Order</p> <p> &nbsp;</p> <p> Personnel in substantially similar titles within Agency:</p> <p> &nbsp;</p> <p> Architect, Architect Intern, Assistant Architect, Landmarks Preservationist, Project Manager, Associate Project Manager, Civil Engineers, Assistant Civil Engineers, Surveyors</p> <p> &nbsp;</p> <p> Headcount of personnel in substantially similar titles within Agency: 85</p> <p> &nbsp;</p> <p> &nbsp;</p> <p> &nbsp;</p> <p> Agency: Department of Parks and Recreation</p> <p> &nbsp;</p> <p> Nature of Services Sought:&nbsp; Architectural Design Services for reconstruction of nine comfort stations located in the Boroughs of The Bronx and Manhattan</p> <p> &nbsp;</p> <p> Start Date of the proposed contract:&nbsp; 1/3/2015</p> <p> &nbsp;</p> <p> End Date of the proposed contract:&nbsp; 4/3/2016</p> <p> &nbsp;</p> <p> Method of Solicitation the Agency intends to utilize:&nbsp; Task Order</p> <p> &nbsp;</p> <p> Personnel in substantially similar titles within Agency:</p> <p> &nbsp;</p> <p> Architect, Architect Intern, Assistant Architect, Landmarks Preservationist, Project Manager, Associate Project Manager, Civil Engineers, Assistant Civil Engineers, Surveyors</p> <p> &nbsp;</p> <p> Headcount of personnel in substantially similar titles within Agency: 85</p> <p> &nbsp;</p> <p> &nbsp;</p> <p> &nbsp;</p> <p> Agency: Department of Parks and Recreation</p> <p> &nbsp;</p> <p> Nature of Services Sought:&nbsp; Architectural Design Services for&nbsp;reconstruction of eight comfort stations located in the Boroughs of Brooklyn and Staten Island</p> <p> &nbsp;</p> <p> Start Date of the proposed contract:&nbsp; 1/3/2015</p> <p> &nbsp;</p> <p> End Date of the proposed contract:&nbsp; 4/3/2016</p> <p> &nbsp;</p> <p> Method of Solicitation the Agency intends to utilize:&nbsp; Task Order</p> <p> &nbsp;</p> <p> Personnel in substantially similar titles within Agency:</p> <p> &nbsp;</p> <p> Architect, Architect Intern, Assistant Architect, Landmarks Preservationist, Project Manager, Associate Project Manager, Civil Engineers, Assistant Civil Engineers, Surveyors</p> <p> &nbsp;</p> <p> Headcount of personnel in substantially similar titles within Agency: 85</p> <p> &nbsp;</p>"
      ],
      "text/plain": [
       "<IPython.core.display.HTML object>"
      ]
     },
     "metadata": {},
     "output_type": "display_data"
    },
    {
     "name": "stdout",
     "output_type": "stream",
     "text": [
      "{'adverts': [{'preamble': 'NOTICE IS HEREBY GIVENthat the Mayor will be '\n",
      "                          'issuing the following solicitation(s) not '\n",
      "                          'included in the FY 2015 Annual Contracting Plan '\n",
      "                          'and Schedule that is published pursuant to New '\n",
      "                          'York City Charter § 312(a):'},\n",
      "             {'Agency': 'Department of Parks and Recreation',\n",
      "              'End Date of the proposed contract': '1/1/2015',\n",
      "              'Headcount of personnel in substantially similar titles within Agency': '78',\n",
      "              'Method of Solicitation the Agency intends to utilize': 'Task '\n",
      "                                                                      'Order',\n",
      "              'Nature of Services Sought': 'Architectural Design Services '\n",
      "                                           'for the reconstruction of '\n",
      "                                           'De-Commissioned Buildings in '\n",
      "                                           'the Borough of Queens',\n",
      "              'Personnel in substantially similar titles within Agency': '',\n",
      "              'Start Date of the proposed contract': '12/1/2014'},\n",
      "             {'Agency': 'Department of Parks and Recreation',\n",
      "              'End Date of the proposed contract': '1/1/2015',\n",
      "              'Headcount of personnel in substantially similar titles within Agency': '78',\n",
      "              'Method of Solicitation the Agency intends to utilize': 'Task '\n",
      "                                                                      'Order',\n",
      "              'Nature of Services Sought': 'Architectural Design Services '\n",
      "                                           'for the reconstruction of '\n",
      "                                           'De-Commissioned Buildings in '\n",
      "                                           'the Boroughs of Brooklyn and '\n",
      "                                           'Staten Island',\n",
      "              'Personnel in substantially similar titles within Agency': '',\n",
      "              'Start Date of the proposed contract': '12/1/2014'},\n",
      "             {'Agency': 'Department of Parks and Recreation',\n",
      "              'End Date of the proposed contract': '1/1/2015',\n",
      "              'Headcount of personnel in substantially similar titles within Agency': '78',\n",
      "              'Method of Solicitation the Agency intends to utilize': 'Task '\n",
      "                                                                      'Order',\n",
      "              'Nature of Services Sought': 'Architectural Design Services '\n",
      "                                           'for the reconstruction of '\n",
      "                                           'De-Commissioned Buildings in '\n",
      "                                           'the Boroughs of The Bronx and '\n",
      "                                           'Manhattan',\n",
      "              'Personnel in substantially similar titles within Agency': '',\n",
      "              'Start Date of the proposed contract': '12/1/2014'},\n",
      "             {'Agency': 'Department of Parks and Recreation',\n",
      "              'End Date of the proposed contract': '4/3/2016',\n",
      "              'Headcount of personnel in substantially similar titles within Agency': '85',\n",
      "              'Method of Solicitation the Agency intends to utilize': 'Task '\n",
      "                                                                      'Order',\n",
      "              'Nature of Services Sought': 'Architectural Design Services '\n",
      "                                           'for reconstruction of Corlears '\n",
      "                                           'Hook Comfort Station located '\n",
      "                                           'in the Borough of Manhattan',\n",
      "              'Personnel in substantially similar titles within Agency': '',\n",
      "              'Start Date of the proposed contract': '1/3/2015'},\n",
      "             {'Agency': 'Department of Parks and Recreation',\n",
      "              'End Date of the proposed contract': '4/3/2016',\n",
      "              'Headcount of personnel in substantially similar titles within Agency': '85',\n",
      "              'Method of Solicitation the Agency intends to utilize': 'Task '\n",
      "                                                                      'Order',\n",
      "              'Nature of Services Sought': 'Architectural Design Services '\n",
      "                                           'for reconstruction of nine '\n",
      "                                           'comfort stations located in '\n",
      "                                           'the Boroughs of The Bronx and '\n",
      "                                           'Manhattan',\n",
      "              'Personnel in substantially similar titles within Agency': '',\n",
      "              'Start Date of the proposed contract': '1/3/2015'},\n",
      "             {'Agency': 'Department of Parks and Recreation',\n",
      "              'End Date of the proposed contract': '4/3/2016',\n",
      "              'Headcount of personnel in substantially similar titles within Agency': '85',\n",
      "              'Method of Solicitation the Agency intends to utilize': 'Task '\n",
      "                                                                      'Order',\n",
      "              'Nature of Services Sought': 'Architectural Design Services '\n",
      "                                           'for\\xa0reconstruction of eight '\n",
      "                                           'comfort stations located in '\n",
      "                                           'the Boroughs of Brooklyn and '\n",
      "                                           'Staten Island',\n",
      "              'Personnel in substantially similar titles within Agency': '',\n",
      "              'Start Date of the proposed contract': '1/3/2015'}],\n",
      " 'context': 'Notice of Intent to Issue New Solicitation(s) Not Included in '\n",
      "            'FY 2015 Annual Contracting Plan and Schedule'}\n"
     ]
    },
    {
     "data": {
      "text/html": [
       "<hr />"
      ],
      "text/plain": [
       "<IPython.core.display.HTML object>"
      ]
     },
     "metadata": {},
     "output_type": "display_data"
    },
    {
     "data": {
      "text/html": [
       "<p> <u>Notice of Intent to Extend Contract(s) Not Included in FY 2015 Annual Contracting Plan and Schedule</u></p> <p> &nbsp;</p> <p> <strong>NOTICE IS HEREBY GIVEN</strong> that the Mayor will be entering into the following extension(s) of (a) contract(s) not included in the FY 2015 Annual Contracting Plan and Schedule that is published pursuant to New York City Charter &sect; 312(a):</p> <p> &nbsp;</p> <p> Agency: Department of Environmental Protection</p> <p> FMS Contract #: 20141402663</p> <p> Vendor:&nbsp; CBS&nbsp; Technologies&nbsp; Corp.</p> <p> Description of services:&nbsp; Service and repair of&nbsp; Mitel PBX telephone and paging systems</p> <p> Award method of original contract:&nbsp;&nbsp;&nbsp;&nbsp; Competitive Sealed Bid</p> <p> FMS Contract type: Services</p> <p> End date of original contract:&nbsp; 4/20/2014</p> <p> Method of renewal/extension the agency intends to utilize: Extension</p> <p> New start date of the proposed renewed/extended contract: 4/21/2014</p> <p> New end date of the proposed renewed/extended contract:&nbsp;&nbsp; 4/20/2015</p> <p> Modifications sought to the nature of services performed under the contract:&nbsp;&nbsp;&nbsp; None</p> <p> Reason(s) the agency intends to renew/extend the contract: Extension is needed in order to provide repair services until successor contract is in place.</p> <p> Personnel in substantially similar titles within agency:&nbsp; None</p> <p> Headcount of personnel in substantially similar titles within agency: 0</p>"
      ],
      "text/plain": [
       "<IPython.core.display.HTML object>"
      ]
     },
     "metadata": {},
     "output_type": "display_data"
    },
    {
     "name": "stdout",
     "output_type": "stream",
     "text": [
      "{'adverts': [{'preamble': 'NOTICE IS HEREBY GIVENthat the Mayor will be '\n",
      "                          'entering into the following extension(s) of (a) '\n",
      "                          'contract(s) not included in the FY 2015 Annual '\n",
      "                          'Contracting Plan and Schedule that is published '\n",
      "                          'pursuant to New York City Charter § 312(a):'},\n",
      "             {'Agency': 'Department of Environmental Protection',\n",
      "              'Award method of original contract': 'Competitive Sealed Bid',\n",
      "              'Description of services': 'Service and repair of\\xa0 Mitel '\n",
      "                                         'PBX telephone and paging systems',\n",
      "              'End date of original contract': '4/20/2014',\n",
      "              'FMS Contract #': '20141402663',\n",
      "              'FMS Contract type': 'Services',\n",
      "              'Headcount of personnel in substantially similar titles within agency': '0',\n",
      "              'Method of renewal/extension the agency intends to utilize': 'Extension',\n",
      "              'Modifications sought to the nature of services performed under the contract': 'None',\n",
      "              'New end date of the proposed renewed/extended contract': '4/20/2015',\n",
      "              'New start date of the proposed renewed/extended contract': '4/21/2014',\n",
      "              'Personnel in substantially similar titles within agency': 'None',\n",
      "              'Reason(s) the agency intends to renew/extend the contract': 'Extension '\n",
      "                                                                           'is '\n",
      "                                                                           'needed '\n",
      "                                                                           'in '\n",
      "                                                                           'order '\n",
      "                                                                           'to '\n",
      "                                                                           'provide '\n",
      "                                                                           'repair '\n",
      "                                                                           'services '\n",
      "                                                                           'until '\n",
      "                                                                           'successor '\n",
      "                                                                           'contract '\n",
      "                                                                           'is '\n",
      "                                                                           'in '\n",
      "                                                                           'place.',\n",
      "              'Vendor': 'CBS\\xa0 Technologies\\xa0 Corp.'}],\n",
      " 'context': 'Notice of Intent to Extend Contract(s) Not Included in FY 2015 '\n",
      "            'Annual Contracting Plan and Schedule'}\n"
     ]
    },
    {
     "data": {
      "text/html": [
       "<hr />"
      ],
      "text/plain": [
       "<IPython.core.display.HTML object>"
      ]
     },
     "metadata": {},
     "output_type": "display_data"
    },
    {
     "data": {
      "text/html": [
       "<p> <u>Notice of Intent to Issue New Solicitation(s) Not Included in FY 2015 Annual Contracting Plan and Schedule </u></p> <p> &nbsp;</p> <p> <strong>NOTICE IS HEREBY GIVEN</strong> that the Mayor will be issuing the following solicitation(s) not included in the FY 2015 Annual Contracting Plan and Schedule that is published pursuant to New York City Charter &sect; 312(a):</p> <p> &nbsp;</p> <p> Agency: Department of Environmental Protection</p> <p> Description of services sought: BPS-1601-Lease &amp; Maintenance of Communications System for the DEP Police &amp; BWS Upstate Operations.&nbsp;&nbsp;</p> <p> Start date of the proposed contract:&nbsp;&nbsp; 7/01/2015</p> <p> End date of the proposed contract:&nbsp;&nbsp; 7/01/2020</p> <p> Method of solicitation the agency intends to utilize: Sole Source&nbsp;&nbsp;&nbsp;</p> <p> Personnel in substantially similar titles within agency:&nbsp;&nbsp; None</p> <p> Headcount of personnel in substantially similar titles within agency: 0</p>"
      ],
      "text/plain": [
       "<IPython.core.display.HTML object>"
      ]
     },
     "metadata": {},
     "output_type": "display_data"
    },
    {
     "name": "stdout",
     "output_type": "stream",
     "text": [
      "{'adverts': [{'preamble': 'NOTICE IS HEREBY GIVENthat the Mayor will be '\n",
      "                          'issuing the following solicitation(s) not '\n",
      "                          'included in the FY 2015 Annual Contracting Plan '\n",
      "                          'and Schedule that is published pursuant to New '\n",
      "                          'York City Charter § 312(a):'},\n",
      "             {'Agency': 'Department of Environmental Protection',\n",
      "              'Description of services sought': 'BPS-1601-Lease & '\n",
      "                                                'Maintenance of '\n",
      "                                                'Communications System for '\n",
      "                                                'the DEP Police & BWS '\n",
      "                                                'Upstate Operations.',\n",
      "              'End date of the proposed contract': '7/01/2020',\n",
      "              'Headcount of personnel in substantially similar titles within agency': '0',\n",
      "              'Method of solicitation the agency intends to utilize': 'Sole '\n",
      "                                                                      'Source',\n",
      "              'Personnel in substantially similar titles within agency': 'None',\n",
      "              'Start date of the proposed contract': '7/01/2015'}],\n",
      " 'context': 'Notice of Intent to Issue New Solicitation(s) Not Included in '\n",
      "            'FY 2015 Annual Contracting Plan and Schedule'}\n"
     ]
    },
    {
     "data": {
      "text/html": [
       "<hr />"
      ],
      "text/plain": [
       "<IPython.core.display.HTML object>"
      ]
     },
     "metadata": {},
     "output_type": "display_data"
    },
    {
     "data": {
      "text/html": [
       "<p> <u>Notice of Intent to Issue New Solicitation(s) Not Included in FY 2015 Annual Contracting Plan and Schedule </u></p> <p> &nbsp;</p> <p> <strong>NOTICE IS HEREBY GIVEN</strong> that the Mayor will be issuing the following solicitation(s) not included in the FY 2015 Annual Contracting Plan and Schedule that is published pursuant to New York City Charter &sect; 312(a):</p> <p> &nbsp;</p> <p> Agency: Human Resources Administration</p> <p> &nbsp;</p> <p> Description of services sought:&nbsp;&nbsp; To provide, as needed, cargo van(s) with driver(s) to transport forms, stationery, case records, payroll, timesheets, packages, cartons with supplies and equipment for the NYC Human Resources Administration Home Energy Assistance Program (HEAP) to various locations throughout the five boroughs.&nbsp; This service is vital to assisting the HEAP program as it provides energy assistance to vulnerable, eligible clients.</p> <p> &nbsp;</p> <p> Start date of the proposed contract:&nbsp;&nbsp; 12/1/14</p> <p> &nbsp;</p> <p> End date of the proposed contract:&nbsp;&nbsp; 11/30/17</p> <p> &nbsp;</p> <p> Method of solicitation the agency intends to utilize:&nbsp;&nbsp;&nbsp; Required Method (Preferred Source)</p> <p> &nbsp;</p> <p> Personnel in substantially similar titles within agency:&nbsp;&nbsp; None</p> <p> &nbsp;</p> <p> Headcount of personnel in substantially similar titles within agency:&nbsp; 0</p>"
      ],
      "text/plain": [
       "<IPython.core.display.HTML object>"
      ]
     },
     "metadata": {},
     "output_type": "display_data"
    },
    {
     "name": "stdout",
     "output_type": "stream",
     "text": [
      "{'adverts': [{'preamble': 'NOTICE IS HEREBY GIVENthat the Mayor will be '\n",
      "                          'issuing the following solicitation(s) not '\n",
      "                          'included in the FY 2015 Annual Contracting Plan '\n",
      "                          'and Schedule that is published pursuant to New '\n",
      "                          'York City Charter § 312(a):'},\n",
      "             {'Agency': 'Human Resources Administration',\n",
      "              'Description of services sought': 'To provide, as needed, '\n",
      "                                                'cargo van(s) with '\n",
      "                                                'driver(s) to transport '\n",
      "                                                'forms, stationery, case '\n",
      "                                                'records, payroll, '\n",
      "                                                'timesheets, packages, '\n",
      "                                                'cartons with supplies and '\n",
      "                                                'equipment for the NYC '\n",
      "                                                'Human Resources '\n",
      "                                                'Administration Home '\n",
      "                                                'Energy Assistance Program '\n",
      "                                                '(HEAP) to various '\n",
      "                                                'locations throughout the '\n",
      "                                                'five boroughs.\\xa0 This '\n",
      "                                                'service is vital to '\n",
      "                                                'assisting the HEAP '\n",
      "                                                'program as it provides '\n",
      "                                                'energy assistance to '\n",
      "                                                'vulnerable, eligible '\n",
      "                                                'clients.',\n",
      "              'End date of the proposed contract': '11/30/17',\n",
      "              'Headcount of personnel in substantially similar titles within agency': '0',\n",
      "              'Method of solicitation the agency intends to utilize': 'Required '\n",
      "                                                                      'Method '\n",
      "                                                                      '(Preferred '\n",
      "                                                                      'Source)',\n",
      "              'Personnel in substantially similar titles within agency': 'None',\n",
      "              'Start date of the proposed contract': '12/1/14'}],\n",
      " 'context': 'Notice of Intent to Issue New Solicitation(s) Not Included in '\n",
      "            'FY 2015 Annual Contracting Plan and Schedule'}\n"
     ]
    },
    {
     "data": {
      "text/html": [
       "<hr />"
      ],
      "text/plain": [
       "<IPython.core.display.HTML object>"
      ]
     },
     "metadata": {},
     "output_type": "display_data"
    },
    {
     "data": {
      "text/html": [
       "<p> <u>Notice of Intent to Extend Contract(s) Not Included in FY 2015 Annual Contracting Plan and Schedule</u></p> <p> &nbsp;</p> <p> <strong>NOTICE IS HEREBY GIVEN</strong> that the Mayor will be entering into the following extension(s) of (a) contract(s) not included in the FY 2015 Annual Contracting Plan and Schedule that is published pursuant to New York City Charter &sect; 312(a):</p> <p> &nbsp;</p> <p> Agency: OMB</p> <p> Vendor: GANNETT FLEMING ENGINEERS &amp; ARCHITECTS PC</p> <p> Nature of services: ASSET MANAGEMENT / ENGINEERING SERVICES</p> <p> Method of renewal/extension the agency intends to utilize: Renewal</p> <p> New start date of the proposed renewed/extended contract: 3/1/2015</p> <p> New end date of the proposed renewed/extended contract: 2/29/2016</p> <p> Modifications sought to the nature of services performed under the contract: NONE</p> <p> Reason(s) the agency intends to renew/extend the contract: &nbsp;continued need for services</p> <p> Personnel in substantially similar titles within agency: &nbsp;&nbsp;NONE&nbsp;&nbsp;&nbsp;&nbsp;&nbsp;</p> <p> Headcount of personnel in substantially similar titles within agency:&nbsp;&nbsp; NONE</p> <p> &nbsp;</p> <p> &nbsp;</p> <p> Agency: OMB</p> <p> Vendor: OAC SERVICES INC</p> <p> Nature of services: PROVIDE VALUE ENGINEERING SERVICES ON A TASK ORDER BASIS</p> <p> Method of renewal/extension the agency intends to utilize: Renewal</p> <p> New start date of the proposed renewed/extended contract: 3/1/2015</p> <p> New end date of the proposed renewed/extended contract: 2/29/2016</p> <p> Modifications sought to the nature of services performed under the contract: NONE</p> <p> Reason(s) the agency intends to renew/extend the contract: &nbsp;continued need for services</p> <p> Personnel in substantially similar titles within agency: &nbsp;&nbsp;NONE&nbsp;&nbsp;&nbsp;&nbsp;&nbsp;</p> <p> Headcount of personnel in substantially similar titles within agency:&nbsp;&nbsp; NONE</p>"
      ],
      "text/plain": [
       "<IPython.core.display.HTML object>"
      ]
     },
     "metadata": {},
     "output_type": "display_data"
    },
    {
     "name": "stdout",
     "output_type": "stream",
     "text": [
      "{'adverts': [{'preamble': 'NOTICE IS HEREBY GIVENthat the Mayor will be '\n",
      "                          'entering into the following extension(s) of (a) '\n",
      "                          'contract(s) not included in the FY 2015 Annual '\n",
      "                          'Contracting Plan and Schedule that is published '\n",
      "                          'pursuant to New York City Charter § 312(a):'},\n",
      "             {'Agency': 'OMB',\n",
      "              'Headcount of personnel in substantially similar titles within agency': 'NONE',\n",
      "              'Method of renewal/extension the agency intends to utilize': 'Renewal',\n",
      "              'Modifications sought to the nature of services performed under the contract': 'NONE',\n",
      "              'Nature of services': 'ASSET MANAGEMENT / ENGINEERING '\n",
      "                                    'SERVICES',\n",
      "              'New end date of the proposed renewed/extended contract': '2/29/2016',\n",
      "              'New start date of the proposed renewed/extended contract': '3/1/2015',\n",
      "              'Personnel in substantially similar titles within agency': 'NONE',\n",
      "              'Reason(s) the agency intends to renew/extend the contract': 'continued '\n",
      "                                                                           'need '\n",
      "                                                                           'for '\n",
      "                                                                           'services',\n",
      "              'Vendor': 'GANNETT FLEMING ENGINEERS & ARCHITECTS PC'},\n",
      "             {'Agency': 'OMB',\n",
      "              'Headcount of personnel in substantially similar titles within agency': 'NONE',\n",
      "              'Method of renewal/extension the agency intends to utilize': 'Renewal',\n",
      "              'Modifications sought to the nature of services performed under the contract': 'NONE',\n",
      "              'Nature of services': 'PROVIDE VALUE ENGINEERING SERVICES ON '\n",
      "                                    'A TASK ORDER BASIS',\n",
      "              'New end date of the proposed renewed/extended contract': '2/29/2016',\n",
      "              'New start date of the proposed renewed/extended contract': '3/1/2015',\n",
      "              'Personnel in substantially similar titles within agency': 'NONE',\n",
      "              'Reason(s) the agency intends to renew/extend the contract': 'continued '\n",
      "                                                                           'need '\n",
      "                                                                           'for '\n",
      "                                                                           'services',\n",
      "              'Vendor': 'OAC SERVICES INC'}],\n",
      " 'context': 'Notice of Intent to Extend Contract(s) Not Included in FY 2015 '\n",
      "            'Annual Contracting Plan and Schedule'}\n"
     ]
    },
    {
     "data": {
      "text/html": [
       "<hr />"
      ],
      "text/plain": [
       "<IPython.core.display.HTML object>"
      ]
     },
     "metadata": {},
     "output_type": "display_data"
    },
    {
     "data": {
      "text/html": [
       "<p> <u>Notice of Intent to Issue New Solicitation(s) Not Included in FY 2015 Annual Contracting Plan and Schedule </u></p> <p> &nbsp;</p> <p> <strong>NOTICE IS HEREBY GIVEN</strong> that the Mayor will be issuing the following solicitation(s) not included in the FY 2015 Annual Contracting Plan and Schedule that is published pursuant to New York City Charter &sect; 312(a):</p> <p> &nbsp;</p> <p> Agency: Office of Chief Medical Examiner</p> <p> Nature of services sought: Elevator Maintenance and Repair Services</p> <p> Start date of the proposed contract: March 15, 2015</p> <p> End date of the proposed contract: March 20, 2020</p> <p> Method of solicitation the agency intends to utilize: CSB</p> <p> Personnel in substantially similar titles within agency: &nbsp;None &nbsp;&nbsp;&nbsp;&nbsp;&nbsp;&nbsp;&nbsp;&nbsp;&nbsp;&nbsp;</p> <p> Headcount of personnel in substantially similar titles within agency: &nbsp;0</p>"
      ],
      "text/plain": [
       "<IPython.core.display.HTML object>"
      ]
     },
     "metadata": {},
     "output_type": "display_data"
    },
    {
     "name": "stdout",
     "output_type": "stream",
     "text": [
      "{'adverts': [{'preamble': 'NOTICE IS HEREBY GIVENthat the Mayor will be '\n",
      "                          'issuing the following solicitation(s) not '\n",
      "                          'included in the FY 2015 Annual Contracting Plan '\n",
      "                          'and Schedule that is published pursuant to New '\n",
      "                          'York City Charter § 312(a):'},\n",
      "             {'Agency': 'Office of Chief Medical Examiner',\n",
      "              'End date of the proposed contract': 'March 20, 2020',\n",
      "              'Headcount of personnel in substantially similar titles within agency': '0',\n",
      "              'Method of solicitation the agency intends to utilize': 'CSB',\n",
      "              'Nature of services sought': 'Elevator Maintenance and '\n",
      "                                           'Repair Services',\n",
      "              'Personnel in substantially similar titles within agency': 'None',\n",
      "              'Start date of the proposed contract': 'March 15, 2015'}],\n",
      " 'context': 'Notice of Intent to Issue New Solicitation(s) Not Included in '\n",
      "            'FY 2015 Annual Contracting Plan and Schedule'}\n"
     ]
    },
    {
     "data": {
      "text/html": [
       "<hr />"
      ],
      "text/plain": [
       "<IPython.core.display.HTML object>"
      ]
     },
     "metadata": {},
     "output_type": "display_data"
    },
    {
     "data": {
      "text/html": [
       "<p> <u>Notice of Intent to Issue New Solicitation(s) Not Included in FY 2015 Annual Contracting Plan and Schedule </u></p> <p> &nbsp;</p> <p> <strong>NOTICE IS HEREBY GIVEN</strong> that the Mayor will be issuing the following solicitation(s) not included in the FY 2015 Annual Contracting Plan and Schedule that is published pursuant to New York City Charter &sect; 312(a):</p> <p> &nbsp;</p> <p> Agency: Department of Homeless Services</p> <p> Description of Services sought: Provision of Food Services for Family Shelters</p> <p> Start date of the proposed contract: 02/01/2015</p> <p> End date of the proposed contract: 01/31/2018</p> <p> Method of solicitation the agency intends to utilize: CSB</p> <p> Personnel in substantially similar titles within agency: &nbsp;None</p> <p> Headcount of personnel in substantially similar titles within agency: &nbsp;0</p> <p> &nbsp;</p> <p> Agency: Department of Homeless Services</p> <p> Description of Services sought: Provision of Low Sodium/Diabetic Meals</p> <p> Start date of the proposed contract: 02/01/2015</p> <p> End date of the proposed contract: 01/31/2018</p> <p> Method of solicitation the agency intends to utilize: CSB</p> <p> Personnel in substantially similar titles within agency: &nbsp;None</p> <p> Headcount of personnel in substantially similar titles within agency: &nbsp;0</p> <p> &nbsp;</p> <p> Agency: Department of Homeless Services</p> <p> Description of Services sought: Catering Services for Adult Meals</p> <p> Start date of the proposed contract: 02/01/2015</p> <p> End date of the proposed contract: 01/31/2018</p> <p> Method of solicitation the agency intends to utilize: CSB</p> <p> Personnel in substantially similar titles within agency:&nbsp;&nbsp;None</p> <p> Headcount of personnel in substantially similar titles within agency: &nbsp;0</p>"
      ],
      "text/plain": [
       "<IPython.core.display.HTML object>"
      ]
     },
     "metadata": {},
     "output_type": "display_data"
    },
    {
     "name": "stdout",
     "output_type": "stream",
     "text": [
      "{'adverts': [{'preamble': 'NOTICE IS HEREBY GIVENthat the Mayor will be '\n",
      "                          'issuing the following solicitation(s) not '\n",
      "                          'included in the FY 2015 Annual Contracting Plan '\n",
      "                          'and Schedule that is published pursuant to New '\n",
      "                          'York City Charter § 312(a):'},\n",
      "             {'Agency': 'Department of Homeless Services',\n",
      "              'Description of Services sought': 'Provision of Food '\n",
      "                                                'Services for Family '\n",
      "                                                'Shelters',\n",
      "              'End date of the proposed contract': '01/31/2018',\n",
      "              'Headcount of personnel in substantially similar titles within agency': '0',\n",
      "              'Method of solicitation the agency intends to utilize': 'CSB',\n",
      "              'Personnel in substantially similar titles within agency': 'None',\n",
      "              'Start date of the proposed contract': '02/01/2015'},\n",
      "             {'Agency': 'Department of Homeless Services',\n",
      "              'Description of Services sought': 'Provision of Low '\n",
      "                                                'Sodium/Diabetic Meals',\n",
      "              'End date of the proposed contract': '01/31/2018',\n",
      "              'Headcount of personnel in substantially similar titles within agency': '0',\n",
      "              'Method of solicitation the agency intends to utilize': 'CSB',\n",
      "              'Personnel in substantially similar titles within agency': 'None',\n",
      "              'Start date of the proposed contract': '02/01/2015'},\n",
      "             {'Agency': 'Department of Homeless Services',\n",
      "              'Description of Services sought': 'Catering Services for '\n",
      "                                                'Adult Meals',\n",
      "              'End date of the proposed contract': '01/31/2018',\n",
      "              'Headcount of personnel in substantially similar titles within agency': '0',\n",
      "              'Method of solicitation the agency intends to utilize': 'CSB',\n",
      "              'Personnel in substantially similar titles within agency': 'None',\n",
      "              'Start date of the proposed contract': '02/01/2015'}],\n",
      " 'context': 'Notice of Intent to Issue New Solicitation(s) Not Included in '\n",
      "            'FY 2015 Annual Contracting Plan and Schedule'}\n"
     ]
    },
    {
     "data": {
      "text/html": [
       "<hr />"
      ],
      "text/plain": [
       "<IPython.core.display.HTML object>"
      ]
     },
     "metadata": {},
     "output_type": "display_data"
    },
    {
     "data": {
      "text/html": [
       "<p> <u>Notice of Intent to Issue New Solicitation(s) Not Included in FY 2015 Annual Contracting Plan and Schedule</u></p> <p> &nbsp;</p> <p> NOTICE IS HEREBY GIVEN that the Mayor will be issuing the following solicitation(s) not included in the FY 2015 Annual Contracting Plan and Schedule that is published pursuant to New York City Charter &sect; 312(a):</p> <p> &nbsp;</p> <p> Agency: New York Police Department</p> <p> Nature of Services Sought:&nbsp; Maintenance of NYPD&rsquo;s Livescan fingerprint identification system</p> <p> Method of Solicitation: Intergovernmental</p> <p> Start Date of Proposed Contract: July 1, 2015</p> <p> End Date of Proposed Contract: June 30, 2019</p> <p> Personnel in Substantially Similar Titles Within Agency: None</p> <p> Headcount of Personnel in Substantially Similar Titles Within Agency: 0</p>"
      ],
      "text/plain": [
       "<IPython.core.display.HTML object>"
      ]
     },
     "metadata": {},
     "output_type": "display_data"
    },
    {
     "name": "stdout",
     "output_type": "stream",
     "text": [
      "{'adverts': [{'preamble': 'NOTICE IS HEREBY GIVEN that the Mayor will be '\n",
      "                          'issuing the following solicitation(s) not '\n",
      "                          'included in the FY 2015 Annual Contracting Plan '\n",
      "                          'and Schedule that is published pursuant to New '\n",
      "                          'York City Charter § 312(a):'},\n",
      "             {'Agency': 'New York Police Department',\n",
      "              'End Date of Proposed Contract': 'June 30, 2019',\n",
      "              'Headcount of Personnel in Substantially Similar Titles Within Agency': '0',\n",
      "              'Method of Solicitation': 'Intergovernmental',\n",
      "              'Nature of Services Sought': 'Maintenance of NYPD’s Livescan '\n",
      "                                           'fingerprint identification '\n",
      "                                           'system',\n",
      "              'Personnel in Substantially Similar Titles Within Agency': 'None',\n",
      "              'Start Date of Proposed Contract': 'July 1, 2015'}],\n",
      " 'context': 'Notice of Intent to Issue New Solicitation(s) Not Included in '\n",
      "            'FY 2015 Annual Contracting Plan and Schedule'}\n"
     ]
    },
    {
     "data": {
      "text/html": [
       "<hr />"
      ],
      "text/plain": [
       "<IPython.core.display.HTML object>"
      ]
     },
     "metadata": {},
     "output_type": "display_data"
    },
    {
     "data": {
      "text/html": [
       "<p> <u>Notice of Intent to Issue New Solicitation(s) Not Included in FY 2015 Annual Contracting Plan and Schedule </u></p> <p> &nbsp;</p> <p> NOTICE IS HEREBY GIVEN that the Mayor will be issuing the following solicitation(s) not included in the FY 2015 Annual Contracting Plan and Schedule that is published pursuant to New York City Charter &sect; 312(a):</p> <p> &nbsp;</p> <p> &nbsp;</p> <p> Agency: Department of Information Technology &amp; Telecommunications</p> <p> Description of services sought:&nbsp;&nbsp; Labor and material necessary to maintain Uninterruptable Power Supplies (UPS) at various locations throughout the five boroughs</p> <p> Start date of the proposed contract: 7/26/15</p> <p> End date of the proposed contract:&nbsp; 7/25/20</p> <p> Method of solicitation the agency intends to utilize:&nbsp; Competitive Sealed Bid</p> <p> Personnel in substantially similar titles within agency:&nbsp;&nbsp; None</p> <p> Headcount of personnel in substantially similar titles within agency:&nbsp;&nbsp; 0</p> <p> &nbsp;</p> <p> Agency: Department of Information Technology &amp; Telecommunications</p> <p> Description of services sought:&nbsp;&nbsp; City-Wide Standby Information Technology and Telecommunications Consulting Services</p> <p> Start date of the proposed contract: 7/1/14</p> <p> End date of the proposed contract: 6/30/15</p> <p> Method of solicitation the agency intends to utilize:&nbsp; Negotiated Acquisition Extension</p> <p> Personnel in substantially similar titles within agency:&nbsp; This is a task order contract that does not simultaneously result in the award of a first task order; therefore, this information will be determined in conjunction with the issuance of each task order pursuant to this contract.</p> <p> Headcount of personnel in substantially similar titles within agency:&nbsp; To be determined</p> <p> &nbsp;</p> <p> Agency: Department of Information Technology &amp; Telecommunications</p> <p> Description of services sought:&nbsp;&nbsp; City-Wide Standby Information Technology and Telecommunications Consulting Services</p> <p> Start date of the proposed contract: 7/1/14</p> <p> End date of the proposed contract: 6/30/15</p> <p> Method of solicitation the agency intends to utilize:&nbsp; Negotiated Acquisition Extension</p> <p> Personnel in substantially similar titles within agency:&nbsp; This is a task order contract that does not simultaneously result in the award of a first task order; therefore, this information will be determined in conjunction with the issuance of each task order pursuant to this contract.</p> <p> Headcount of personnel in substantially similar titles within agency:&nbsp; To be determined</p> <p> &nbsp;</p> <p> Agency: Department of Information Technology &amp; Telecommunications</p> <p> Description of services sought:&nbsp;&nbsp; City-Wide Standby Information Technology and Telecommunications Consulting Services</p> <p> Start date of the proposed contract: 7/1/14</p> <p> End date of the proposed contract: 6/30/15</p> <p> Method of solicitation the agency intends to utilize:&nbsp; Negotiated Acquisition Extension</p> <p> Personnel in substantially similar titles within agency:&nbsp; This is a task order contract that does not simultaneously result in the award of a first task order; therefore, this information will be determined in conjunction with the issuance of each task order pursuant to this contract.</p> <p> Headcount of personnel in substantially similar titles within agency:&nbsp; To be determined</p> <p> &nbsp;</p> <p> Agency: Department of Information Technology &amp; Telecommunications</p> <p> Description of services sought:&nbsp;&nbsp; City-Wide Standby Information Technology and Telecommunications Consulting Services</p> <p> Start date of the proposed contract: 7/1/14</p> <p> End date of the proposed contract: 6/30/15</p> <p> Method of solicitation the agency intends to utilize:&nbsp; Negotiated Acquisition Extension</p> <p> Personnel in substantially similar titles within agency:&nbsp; This is a task order contract that does not simultaneously result in the award of a first task order; therefore, this information will be determined in conjunction with the issuance of each task order pursuant to this contract.</p> <p> Headcount of personnel in substantially similar titles within agency:&nbsp; To be determined</p> <p> &nbsp;</p> <p> Agency: Department of Information Technology &amp; Telecommunications</p> <p> Description of services sought:&nbsp;&nbsp; City-Wide Standby Information Technology and Telecommunications Consulting Services</p> <p> Start date of the proposed contract: 7/1/14</p> <p> End date of the proposed contract: 6/30/15</p> <p> Method of solicitation the agency intends to utilize:&nbsp; Negotiated Acquisition Extension</p> <p> Personnel in substantially similar titles within agency:&nbsp; This is a task order contract that does not simultaneously result in the award of a first task order; therefore, this information will be determined in conjunction with the issuance of each task order pursuant to this contract.</p> <p> Headcount of personnel in substantially similar titles within agency:&nbsp; To be determined</p> <p> &nbsp;</p> <p> Agency: Department of Information Technology &amp; Telecommunications</p> <p> Description of services sought:&nbsp;&nbsp; City-Wide Standby Information Technology and Telecommunications Consulting Services</p> <p> Start date of the proposed contract: 7/1/15</p> <p> End date of the proposed contract: 6/30/16</p> <p> Method of solicitation the agency intends to utilize:&nbsp; Negotiated Acquisition Extension</p> <p> Personnel in substantially similar titles within agency:&nbsp; This is a task order contract that does not simultaneously result in the award of a first task order; therefore, this information will be determined in conjunction with the issuance of each task order pursuant to this contract.</p> <p> Headcount of personnel in substantially similar titles within agency:&nbsp; To be determined</p> <p> &nbsp;</p> <p> Agency: Department of Information Technology &amp; Telecommunications</p> <p> Description of services sought:&nbsp;&nbsp; City-Wide Standby Information Technology and Telecommunications Consulting Service</p> <p> Start date of the proposed contract: 7/1/15</p> <p> End date of the proposed contract: 6/30/16</p> <p> Method of solicitation the agency intends to utilize:&nbsp; Negotiated Acquisition Extension</p> <p> Personnel in substantially similar titles within agency:&nbsp; This is a task order contract that does not simultaneously result in the award of a first task order; therefore, this information will be determined in conjunction with the issuance of each task order pursuant to this contract.</p> <p> Headcount of personnel in substantially similar titles within agency:&nbsp; To be determined</p> <p> &nbsp;</p> <p> Agency: Department of Information Technology &amp; Telecommunications</p> <p> Description of services sought:&nbsp;&nbsp; City-Wide Standby Information Technology and Telecommunications Consulting Services</p> <p> Start date of the proposed contract: 7/1/15</p> <p> End date of the proposed contract: 6/30/16</p> <p> Method of solicitation the agency intends to utilize:&nbsp; Negotiated Acquisition Extension</p> <p> Personnel in substantially similar titles within agency:&nbsp; This is a task order contract that does not simultaneously result in the award of a first task order; therefore, this information will be determined in conjunction with the issuance of each task order pursuant to this contract.</p> <p> Headcount of personnel in substantially similar titles within agency:&nbsp; To be determined</p> <p> &nbsp;</p> <p> Agency: Department of Information Technology &amp; Telecommu"
      ],
      "text/plain": [
       "<IPython.core.display.HTML object>"
      ]
     },
     "metadata": {},
     "output_type": "display_data"
    },
    {
     "name": "stdout",
     "output_type": "stream",
     "text": [
      "{'adverts': [{'preamble': 'NOTICE IS HEREBY GIVEN that the Mayor will be '\n",
      "                          'issuing the following solicitation(s) not '\n",
      "                          'included in the FY 2015 Annual Contracting Plan '\n",
      "                          'and Schedule that is published pursuant to New '\n",
      "                          'York City Charter § 312(a):'},\n",
      "             {'Agency': 'Department of Information Technology & '\n",
      "                        'Telecommunications',\n",
      "              'Description of services sought': 'Labor and material '\n",
      "                                                'necessary to maintain '\n",
      "                                                'Uninterruptable Power '\n",
      "                                                'Supplies (UPS) at various '\n",
      "                                                'locations throughout the '\n",
      "                                                'five boroughs',\n",
      "              'End date of the proposed contract': '7/25/20',\n",
      "              'Headcount of personnel in substantially similar titles within agency': '0',\n",
      "              'Method of solicitation the agency intends to utilize': 'Competitive '\n",
      "                                                                      'Sealed '\n",
      "                                                                      'Bid',\n",
      "              'Personnel in substantially similar titles within agency': 'None',\n",
      "              'Start date of the proposed contract': '7/26/15'},\n",
      "             {'Agency': 'Department of Information Technology & '\n",
      "                        'Telecommunications',\n",
      "              'Description of services sought': 'City-Wide Standby '\n",
      "                                                'Information Technology '\n",
      "                                                'and Telecommunications '\n",
      "                                                'Consulting Services',\n",
      "              'End date of the proposed contract': '6/30/15',\n",
      "              'Headcount of personnel in substantially similar titles within agency': 'To '\n",
      "                                                                                      'be '\n",
      "                                                                                      'determined',\n",
      "              'Method of solicitation the agency intends to utilize': 'Negotiated '\n",
      "                                                                      'Acquisition '\n",
      "                                                                      'Extension',\n",
      "              'Personnel in substantially similar titles within agency': 'This '\n",
      "                                                                         'is '\n",
      "                                                                         'a '\n",
      "                                                                         'task '\n",
      "                                                                         'order '\n",
      "                                                                         'contract '\n",
      "                                                                         'that '\n",
      "                                                                         'does '\n",
      "                                                                         'not '\n",
      "                                                                         'simultaneously '\n",
      "                                                                         'result '\n",
      "                                                                         'in '\n",
      "                                                                         'the '\n",
      "                                                                         'award '\n",
      "                                                                         'of '\n",
      "                                                                         'a '\n",
      "                                                                         'first '\n",
      "                                                                         'task '\n",
      "                                                                         'order; '\n",
      "                                                                         'therefore, '\n",
      "                                                                         'this '\n",
      "                                                                         'information '\n",
      "                                                                         'will '\n",
      "                                                                         'be '\n",
      "                                                                         'determined '\n",
      "                                                                         'in '\n",
      "                                                                         'conjunction '\n",
      "                                                                         'with '\n",
      "                                                                         'the '\n",
      "                                                                         'issuance '\n",
      "                                                                         'of '\n",
      "                                                                         'each '\n",
      "                                                                         'task '\n",
      "                                                                         'order '\n",
      "                                                                         'pursuant '\n",
      "                                                                         'to '\n",
      "                                                                         'this '\n",
      "                                                                         'contract.',\n",
      "              'Start date of the proposed contract': '7/1/14'},\n",
      "             {'Agency': 'Department of Information Technology & '\n",
      "                        'Telecommunications',\n",
      "              'Description of services sought': 'City-Wide Standby '\n",
      "                                                'Information Technology '\n",
      "                                                'and Telecommunications '\n",
      "                                                'Consulting Services',\n",
      "              'End date of the proposed contract': '6/30/15',\n",
      "              'Headcount of personnel in substantially similar titles within agency': 'To '\n",
      "                                                                                      'be '\n",
      "                                                                                      'determined',\n",
      "              'Method of solicitation the agency intends to utilize': 'Negotiated '\n",
      "                                                                      'Acquisition '\n",
      "                                                                      'Extension',\n",
      "              'Personnel in substantially similar titles within agency': 'This '\n",
      "                                                                         'is '\n",
      "                                                                         'a '\n",
      "                                                                         'task '\n",
      "                                                                         'order '\n",
      "                                                                         'contract '\n",
      "                                                                         'that '\n",
      "                                                                         'does '\n",
      "                                                                         'not '\n",
      "                                                                         'simultaneously '\n",
      "                                                                         'result '\n",
      "                                                                         'in '\n",
      "                                                                         'the '\n",
      "                                                                         'award '\n",
      "                                                                         'of '\n",
      "                                                                         'a '\n",
      "                                                                         'first '\n",
      "                                                                         'task '\n",
      "                                                                         'order; '\n",
      "                                                                         'therefore, '\n",
      "                                                                         'this '\n",
      "                                                                         'information '\n",
      "                                                                         'will '\n",
      "                                                                         'be '\n",
      "                                                                         'determined '\n",
      "                                                                         'in '\n",
      "                                                                         'conjunction '\n",
      "                                                                         'with '\n",
      "                                                                         'the '\n",
      "                                                                         'issuance '\n",
      "                                                                         'of '\n",
      "                                                                         'each '\n",
      "                                                                         'task '\n",
      "                                                                         'order '\n",
      "                                                                         'pursuant '\n",
      "                                                                         'to '\n",
      "                                                                         'this '\n",
      "                                                                         'contract.',\n",
      "              'Start date of the proposed contract': '7/1/14'},\n",
      "             {'Agency': 'Department of Information Technology & '\n",
      "                        'Telecommunications',\n",
      "              'Description of services sought': 'City-Wide Standby '\n",
      "                                                'Information Technology '\n",
      "                                                'and Telecommunications '\n",
      "                                                'Consulting Services',\n",
      "              'End date of the proposed contract': '6/30/15',\n",
      "              'Headcount of personnel in substantially similar titles within agency': 'To '\n",
      "                                                                                      'be '\n",
      "                                                                                      'determined',\n",
      "              'Method of solicitation the agency intends to utilize': 'Negotiated '\n",
      "                                                                      'Acquisition '\n",
      "                                                                      'Extension',\n",
      "              'Personnel in substantially similar titles within agency': 'This '\n",
      "                                                                         'is '\n",
      "                                                                         'a '\n",
      "                                                                         'task '\n",
      "                                                                         'order '\n",
      "                                                                         'contract '\n",
      "                                                                         'that '\n",
      "                                                                         'does '\n",
      "                                                                         'not '\n",
      "                                                                         'simultaneously '\n",
      "                                                                         'result '\n",
      "                                                                         'in '\n",
      "                                                                         'the '\n",
      "                                                                         'award '\n",
      "                                                                         'of '\n",
      "                                                                         'a '\n",
      "                                                                         'first '\n",
      "                                                                         'task '\n",
      "                                                                         'order; '\n",
      "                                                                         'therefore, '\n",
      "                                                                         'this '\n",
      "                                                                         'information '\n",
      "                                                                         'will '\n",
      "                                                                         'be '\n",
      "                                                                         'determined '\n",
      "                                                                         'in '\n",
      "                                                                         'conjunction '\n",
      "                                                                         'with '\n",
      "                                                                         'the '\n",
      "                                                                         'issuance '\n",
      "                                                                         'of '\n",
      "                                                                         'each '\n",
      "                                                                         'task '\n",
      "                                                                         'order '\n",
      "                                                                         'pursuant '\n",
      "                                                                         'to '\n",
      "                                                                         'this '\n",
      "                                                                         'contract.',\n",
      "              'Start date of the proposed contract': '7/1/14'},\n",
      "             {'Agency': 'Department of Information Technology & '\n",
      "                        'Telecommunications',\n",
      "              'Description of services sought': 'City-Wide Standby '\n",
      "                                                'Information Technology '\n",
      "                                                'and Telecommunications '\n",
      "                                                'Consulting Services',\n",
      "              'End date of the proposed contract': '6/30/15',\n",
      "              'Headcount of personnel in substantially similar titles within agency': 'To '\n",
      "                                                                                      'be '\n",
      "                                                                                      'determined',\n",
      "              'Method of solicitation the agency intends to utilize': 'Negotiated '\n",
      "                                                                      'Acquisition '\n",
      "                                                                      'Extension',\n",
      "              'Personnel in substantially similar titles within agency': 'This '\n",
      "                                                                         'is '\n",
      "                                                                         'a '\n",
      "                                                                         'task '\n",
      "                                                                         'order '\n",
      "                                                                         'contract '\n",
      "                                                                         'that '\n",
      "                                                                         'does '\n",
      "                                                                         'not '\n",
      "                                                                         'simultaneously '\n",
      "                                                                         'result '\n",
      "                                                                         'in '\n",
      "                                                                         'the '\n",
      "                                                                         'award '\n",
      "                                                                         'of '\n",
      "                                                                         'a '\n",
      "                                                                         'first '\n",
      "                                                                         'task '\n",
      "                                                                         'order; '\n",
      "                                                                         'therefore, '\n",
      "                                                                         'this '\n",
      "                                                                         'information '\n",
      "                                                                         'will '\n",
      "                                                                         'be '\n",
      "                                                                         'determined '\n",
      "                                                                         'in '\n",
      "                                                                         'conjunction '\n",
      "                                                                         'with '\n",
      "                                                                         'the '\n",
      "                                                                         'issuance '\n",
      "                                                                         'of '\n",
      "                                                                         'each '\n",
      "                                                                         'task '\n",
      "                                                                         'order '\n",
      "                                                                         'pursuant '\n",
      "                                                                         'to '\n",
      "                                                                         'this '\n",
      "                                                                         'contract.',\n",
      "              'Start date of the proposed contract': '7/1/14'},\n",
      "             {'Agency': 'Department of Information Technology & '\n",
      "                        'Telecommunications',\n",
      "              'Description of services sought': 'City-Wide Standby '\n",
      "                                                'Information Technology '\n",
      "                                                'and Telecommunications '\n",
      "                                                'Consulting Services',\n",
      "              'End date of the proposed contract': '6/30/15',\n",
      "              'Headcount of personnel in substantially similar titles within agency': 'To '\n",
      "                                                                                      'be '\n",
      "                                                                                      'determined',\n",
      "              'Method of solicitation the agency intends to utilize': 'Negotiated '\n",
      "                                                                      'Acquisition '\n",
      "                                                                      'Extension',\n",
      "              'Personnel in substantially similar titles within agency': 'This '\n",
      "                                                                         'is '\n",
      "                                                                         'a '\n",
      "                                                                         'task '\n",
      "                                                                         'order '\n",
      "                                                                         'contract '\n",
      "                                                                         'that '\n",
      "                                                                         'does '\n",
      "                                                                         'not '\n",
      "                                                                         'simultaneously '\n",
      "                                                                         'result '\n",
      "                                                                         'in '\n",
      "                                                                         'the '\n",
      "                                                                         'award '\n",
      "                                                                         'of '\n",
      "                                                                         'a '\n",
      "                                                                         'first '\n",
      "                                                                         'task '\n",
      "                                                                         'order; '\n",
      "                                                                         'therefore, '\n",
      "                                                                         'this '\n",
      "                                                                         'information '\n",
      "                                                                         'will '\n",
      "                                                                         'be '\n",
      "                                                                         'determined '\n",
      "                                                                         'in '\n",
      "                                                                         'conjunction '\n",
      "                                                                         'with '\n",
      "                                                                         'the '\n",
      "                                                                         'issuance '\n",
      "                                                                         'of '\n",
      "                                                                         'each '\n",
      "                                                                         'task '\n",
      "                                                                         'order '\n",
      "                                                                         'pursuant '\n",
      "                                                                         'to '\n",
      "                                                                         'this '\n",
      "                                                                         'contract.',\n",
      "              'Start date of the proposed contract': '7/1/14'},\n",
      "             {'Agency': 'Department of Information Technology & '\n",
      "                        'Telecommunications',\n",
      "              'Description of services sought': 'City-Wide Standby '\n",
      "                                                'Information Technology '\n",
      "                                                'and Telecommunications '\n",
      "                                                'Consulting Services',\n",
      "              'End date of the proposed contract': '6/30/16',\n",
      "              'Headcount of personnel in substantially similar titles within agency': 'To '\n",
      "                                                                                      'be '\n",
      "                                                                                      'determined',\n",
      "              'Method of solicitation the agency intends to utilize': 'Negotiated '\n",
      "                                                                      'Acquisition '\n",
      "                                                                      'Extension',\n",
      "              'Personnel in substantially similar titles within agency': 'This '\n",
      "                                                                         'is '\n",
      "                                                                         'a '\n",
      "                                                                         'task '\n",
      "                                                                         'order '\n",
      "                                                                         'contract '\n",
      "                                                                         'that '\n",
      "                                                                         'does '\n",
      "                                                                         'not '\n",
      "                                                                         'simultaneously '\n",
      "                                                                         'result '\n",
      "                                                                         'in '\n",
      "                                                                         'the '\n",
      "                                                                         'award '\n",
      "                                                                         'of '\n",
      "                                                                         'a '\n",
      "                                                                         'first '\n",
      "                                                                         'task '\n",
      "                                                                         'order; '\n",
      "                                                                         'therefore, '\n",
      "                                                                         'this '\n",
      "                                                                         'information '\n",
      "                                                                         'will '\n",
      "                                                                         'be '\n",
      "                                                                         'determined '\n",
      "                                                                         'in '\n",
      "                                                                         'conjunction '\n",
      "                                                                         'with '\n",
      "                                                                         'the '\n",
      "                                                                         'issuance '\n",
      "                                                                         'of '\n",
      "                                                                         'each '\n",
      "                                                                         'task '\n",
      "                                                                         'order '\n",
      "                                                                         'pursuant '\n",
      "                                                                         'to '\n",
      "                                                                         'this '\n",
      "                                                                         'contract.',\n",
      "              'Start date of the proposed contract': '7/1/15'},\n",
      "             {'Agency': 'Department of Information Technology & '\n",
      "                        'Telecommunications',\n",
      "              'Description of services sought': 'City-Wide Standby '\n",
      "                                                'Information Technology '\n",
      "                                                'and Telecommunications '\n",
      "                                                'Consulting Service',\n",
      "              'End date of the proposed contract': '6/30/16',\n",
      "              'Headcount of personnel in substantially similar titles within agency': 'To '\n",
      "                                                                                      'be '\n",
      "                                                                                      'determined',\n",
      "              'Method of solicitation the agency intends to utilize': 'Negotiated '\n",
      "                                                                      'Acquisition '\n",
      "                                                                      'Extension',\n",
      "              'Personnel in substantially similar titles within agency': 'This '\n",
      "                                                                         'is '\n",
      "                                                                         'a '\n",
      "                                                                         'task '\n",
      "                                                                         'order '\n",
      "                                                                         'contract '\n",
      "                                                                         'that '\n",
      "                                                                         'does '\n",
      "                                                                         'not '\n",
      "                                                                         'simultaneously '\n",
      "                                                                         'result '\n",
      "                                                                         'in '\n",
      "                                                                         'the '\n",
      "                                                                         'award '\n",
      "                                                                         'of '\n",
      "                                                                         'a '\n",
      "                                                                         'first '\n",
      "                                                                         'task '\n",
      "                                                                         'order; '\n",
      "                                                                         'therefore, '\n",
      "                                                                         'this '\n",
      "                                                                         'information '\n",
      "                                                                         'will '\n",
      "                                                                         'be '\n",
      "                                                                         'determined '\n",
      "                                                                         'in '\n",
      "                                                                         'conjunction '\n",
      "                                                                         'with '\n",
      "                                                                         'the '\n",
      "                                                                         'issuance '\n",
      "                                                                         'of '\n",
      "                                                                         'each '\n",
      "                                                                         'task '\n",
      "                                                                         'order '\n",
      "                                                                         'pursuant '\n",
      "                                                                         'to '\n",
      "                                                                         'this '\n",
      "                                                                         'contract.',\n",
      "              'Start date of the proposed contract': '7/1/15'},\n",
      "             {'Agency': 'Department of Information Technology & '\n",
      "                        'Telecommunications',\n",
      "              'Description of services sought': 'City-Wide Standby '\n",
      "                                                'Information Technology '\n",
      "                                                'and Telecommunications '\n",
      "                                                'Consulting Services',\n",
      "              'End date of the proposed contract': '6/30/16',\n",
      "              'Headcount of personnel in substantially similar titles within agency': 'To '\n",
      "                                                                                      'be '\n",
      "                                                                                      'determined',\n",
      "              'Method of solicitation the agency intends to utilize': 'Negotiated '\n",
      "                                                                      'Acquisition '\n",
      "                                                                      'Extension',\n",
      "              'Personnel in substantially similar titles within agency': 'This '\n",
      "                                                                         'is '\n",
      "                                                                         'a '\n",
      "                                                                         'task '\n",
      "                                                                         'order '\n",
      "                                                                         'contract '\n",
      "                                                                         'that '\n",
      "                                                                         'does '\n",
      "                                                                         'not '\n",
      "                                                                         'simultaneously '\n",
      "                                                                         'result '\n",
      "                                                                         'in '\n",
      "                                                                         'the '\n",
      "                                                                         'award '\n",
      "                                                                         'of '\n",
      "                                                                         'a '\n",
      "                                                                         'first '\n",
      "                                                                         'task '\n",
      "                                                                         'order; '\n",
      "                                                                         'therefore, '\n",
      "                                                                         'this '\n",
      "                                                                         'information '\n",
      "                                                                         'will '\n",
      "                                                                         'be '\n",
      "                                                                         'determined '\n",
      "                                                                         'in '\n",
      "                                                                         'conjunction '\n",
      "                                                                         'with '\n",
      "                                                                         'the '\n",
      "                                                                         'issuance '\n",
      "                                                                         'of '\n",
      "                                                                         'each '\n",
      "                                                                         'task '\n",
      "                                                                         'order '\n",
      "                                                                         'pursuant '\n",
      "                                                                         'to '\n",
      "                                                                         'this '\n",
      "                                                                         'contract.',\n",
      "              'Start date of the proposed contract': '7/1/15'}],\n",
      " 'context': 'Notice of Intent to Issue New Solicitation(s) Not Included in '\n",
      "            'FY 2015 Annual Contracting Plan and Schedule'}\n"
     ]
    },
    {
     "data": {
      "text/html": [
       "<hr />"
      ],
      "text/plain": [
       "<IPython.core.display.HTML object>"
      ]
     },
     "metadata": {},
     "output_type": "display_data"
    },
    {
     "data": {
      "text/html": [
       "<p style=text-align: center;\"> <strong><span>CORRECTED NOTICE</span></strong></p> <p> &nbsp;</p> <p> <span id=\"ctl00_cphbody_lblAdditionalDescr\"><u>Notice of Intent to Issue New Solicitation(s) Not Included in FY 2015 Annual Contracting Plan and Schedule </u></span></p> <p> &nbsp;</p> <p> <span id=\"ctl00_cphbody_lblAdditionalDescr\"><strong>NOTICE IS HEREBY GIVEN</strong> that the Mayor will be issuing the following solicitation(s) not included in the FY 2015 Annual Contracting Plan and Schedule that is published pursuant to New York City Charter &sect; 312(a):</span></p> <p> &nbsp;</p> <p> <span id=\"ctl00_cphbody_lblAdditionalDescr\">Agency: DDC</span></p> <p> <span id=\"ctl00_cphbody_lblAdditionalDescr\">Description of services sought: Queensboro Hall Municipal Parking Garage &ndash; Demolition Construction Management Services &nbsp;</span></p> <p> <span id=\"ctl00_cphbody_lblAdditionalDescr\">Start date of the proposed contract: 1/15/2015</span></p> <p> <span id=\"ctl00_cphbody_lblAdditionalDescr\">End date of the proposed contract: 1/15/2018</span></p> <p> <span id=\"ctl00_cphbody_lblAdditionalDescr\">Method of solicitation the agency intends to utilize: Task Order</span></p> <p> <span id=\"ctl00_cphbody_lblAdditionalDescr\">Personnel in substantially similar titles within agency: None</span></p> <p> <span id=\"ctl00_cphbody_lblAdditionalDescr\">Headcount of personnel in substantially similar titles within agency: 0</span></p> \""
      ],
      "text/plain": [
       "<IPython.core.display.HTML object>"
      ]
     },
     "metadata": {},
     "output_type": "display_data"
    },
    {
     "name": "stdout",
     "output_type": "stream",
     "text": [
      "{'adverts': [{'preamble': 'NOTICE IS HEREBY GIVENthat the Mayor will be '\n",
      "                          'issuing the following solicitation(s) not '\n",
      "                          'included in the FY 2015 Annual Contracting Plan '\n",
      "                          'and Schedule that is published pursuant to New '\n",
      "                          'York City Charter § 312(a):'},\n",
      "             {'Agency': 'DDC',\n",
      "              'Description of services sought': 'Queensboro Hall Municipal '\n",
      "                                                'Parking Garage – '\n",
      "                                                'Demolition Construction '\n",
      "                                                'Management Services',\n",
      "              'End date of the proposed contract': '1/15/2018',\n",
      "              'Headcount of personnel in substantially similar titles within agency': '0',\n",
      "              'Method of solicitation the agency intends to utilize': 'Task '\n",
      "                                                                      'Order',\n",
      "              'Personnel in substantially similar titles within agency': 'None',\n",
      "              'Start date of the proposed contract': '1/15/2015'}],\n",
      " 'context': 'Notice of Intent to Issue New Solicitation(s) Not Included in '\n",
      "            'FY 2015 Annual Contracting Plan and Schedule'}\n"
     ]
    },
    {
     "data": {
      "text/html": [
       "<hr />"
      ],
      "text/plain": [
       "<IPython.core.display.HTML object>"
      ]
     },
     "metadata": {},
     "output_type": "display_data"
    },
    {
     "data": {
      "text/html": [
       "<p> <u>Notice of Intent to Issue New Solicitation(s) Not Included in FY 2015 Annual Contracting Plan and Schedule </u></p> <p> &nbsp;</p> <p> <strong>NOTICE IS HEREBY GIVEN</strong> that the Mayor will be issuing the following solicitation(s) not included in the FY 2015 Annual Contracting Plan and Schedule that is published pursuant to New York City Charter &sect; 312(a):</p> <p> &nbsp;</p> <p> Agency: Department of Parks and Recreation</p> <p> Nature of Services sought:&nbsp;&nbsp; Stump Removal Contract for Manhattan, Brooklyn, Bronx and Staten Island.</p> <p> Start date of the proposed contract: 07/01/2016</p> <p> End date of the proposed contract: 06/30/2018</p> <p> Method of solicitation agency intends to utilize: Competitive Sealed Bid</p> <p> Personnel with substantially similar agency titles: None</p> <p> Substantially similar agency title headcount: &nbsp;0</p> <p> &nbsp;</p> <p> &nbsp;</p> <p> Agency: Department of Parks and Recreation</p> <p> Nature of Services sought:&nbsp;&nbsp; Stump Removal Contract for Queens</p> <p> Start date of the proposed contract: 07/01/2016</p> <p> End date of the proposed contract: 06/30/2018</p> <p> Method of solicitation agency intends to utilize: Competitive Sealed Bid</p> <p> Personnel with substantially similar agency titles: None</p> <p> Substantially similar agency title headcount: &nbsp;0</p> <p> &nbsp;</p>"
      ],
      "text/plain": [
       "<IPython.core.display.HTML object>"
      ]
     },
     "metadata": {},
     "output_type": "display_data"
    },
    {
     "name": "stdout",
     "output_type": "stream",
     "text": [
      "{'adverts': [{'preamble': 'NOTICE IS HEREBY GIVENthat the Mayor will be '\n",
      "                          'issuing the following solicitation(s) not '\n",
      "                          'included in the FY 2015 Annual Contracting Plan '\n",
      "                          'and Schedule that is published pursuant to New '\n",
      "                          'York City Charter § 312(a):'},\n",
      "             {'Agency': 'Department of Parks and Recreation',\n",
      "              'End date of the proposed contract': '06/30/2018',\n",
      "              'Method of solicitation agency intends to utilize': 'Competitive '\n",
      "                                                                  'Sealed '\n",
      "                                                                  'Bid',\n",
      "              'Nature of Services sought': 'Stump Removal Contract for '\n",
      "                                           'Manhattan, Brooklyn, Bronx and '\n",
      "                                           'Staten Island.',\n",
      "              'Personnel with substantially similar agency titles': 'None',\n",
      "              'Start date of the proposed contract': '07/01/2016',\n",
      "              'Substantially similar agency title headcount': '0'},\n",
      "             {'Agency': 'Department of Parks and Recreation',\n",
      "              'End date of the proposed contract': '06/30/2018',\n",
      "              'Method of solicitation agency intends to utilize': 'Competitive '\n",
      "                                                                  'Sealed '\n",
      "                                                                  'Bid',\n",
      "              'Nature of Services sought': 'Stump Removal Contract for '\n",
      "                                           'Queens',\n",
      "              'Personnel with substantially similar agency titles': 'None',\n",
      "              'Start date of the proposed contract': '07/01/2016',\n",
      "              'Substantially similar agency title headcount': '0'}],\n",
      " 'context': 'Notice of Intent to Issue New Solicitation(s) Not Included in '\n",
      "            'FY 2015 Annual Contracting Plan and Schedule'}\n"
     ]
    },
    {
     "data": {
      "text/html": [
       "<hr />"
      ],
      "text/plain": [
       "<IPython.core.display.HTML object>"
      ]
     },
     "metadata": {},
     "output_type": "display_data"
    },
    {
     "data": {
      "text/html": [
       "<p> <u>Notice of Intent to Extend Contract(s) Not Included in FY 2015 Annual Contracting Plan and Schedule</u></p> <p> &nbsp;</p> <p> <strong>NOTICE IS HEREBY GIVEN</strong> that the Mayor will be entering into the following extension(s) of (a) contract(s) not included in the FY 2015 Annual Contracting Plan and Schedule that is published pursuant to New York City Charter &sect; 312(a):</p> <p> &nbsp;</p> <p> Agency: Office of Emergency Management</p> <p> Vendor: PUBLIC HEALTH SOLUTIONS</p> <p> Method of renewal/extension the agency intends to utilize: AMENDMENT EXTENSION</p> <p> Method of original contract: NEGOTIATED ACQUISITION</p> <p> New start date of the proposed renewed/extended contract: 3/1/2015</p> <p> New end date of the proposed renewed/extended contract: 8/31/2015</p> <p> Modifications sought to the nature of services performed under the contract:&nbsp; None</p> <p> Reason(s) the agency intends to renew/extend the contract: Continuation of services through end of grant term</p> <p> Personnel in substantially similar titles within agency: None</p> <p> Headcount of personnel in substantially similar titles within agency: 0</p>"
      ],
      "text/plain": [
       "<IPython.core.display.HTML object>"
      ]
     },
     "metadata": {},
     "output_type": "display_data"
    },
    {
     "name": "stdout",
     "output_type": "stream",
     "text": [
      "{'adverts': [{'preamble': 'NOTICE IS HEREBY GIVENthat the Mayor will be '\n",
      "                          'entering into the following extension(s) of (a) '\n",
      "                          'contract(s) not included in the FY 2015 Annual '\n",
      "                          'Contracting Plan and Schedule that is published '\n",
      "                          'pursuant to New York City Charter § 312(a):'},\n",
      "             {'Agency': 'Office of Emergency Management',\n",
      "              'Headcount of personnel in substantially similar titles within agency': '0',\n",
      "              'Method of original contract': 'NEGOTIATED ACQUISITION',\n",
      "              'Method of renewal/extension the agency intends to utilize': 'AMENDMENT '\n",
      "                                                                           'EXTENSION',\n",
      "              'Modifications sought to the nature of services performed under the contract': 'None',\n",
      "              'New end date of the proposed renewed/extended contract': '8/31/2015',\n",
      "              'New start date of the proposed renewed/extended contract': '3/1/2015',\n",
      "              'Personnel in substantially similar titles within agency': 'None',\n",
      "              'Reason(s) the agency intends to renew/extend the contract': 'Continuation '\n",
      "                                                                           'of '\n",
      "                                                                           'services '\n",
      "                                                                           'through '\n",
      "                                                                           'end '\n",
      "                                                                           'of '\n",
      "                                                                           'grant '\n",
      "                                                                           'term',\n",
      "              'Vendor': 'PUBLIC HEALTH SOLUTIONS'}],\n",
      " 'context': 'Notice of Intent to Extend Contract(s) Not Included in FY 2015 '\n",
      "            'Annual Contracting Plan and Schedule'}\n"
     ]
    },
    {
     "data": {
      "text/html": [
       "<hr />"
      ],
      "text/plain": [
       "<IPython.core.display.HTML object>"
      ]
     },
     "metadata": {},
     "output_type": "display_data"
    },
    {
     "data": {
      "text/html": [
       "<p> <u>Notice of Intent to Issue New Solicitation(s) Not Included in FY 2015 Annual Contracting Plan and Schedule </u></p> <p> &nbsp;</p> <p> <strong>NOTICE IS HEREBY GIVEN</strong> that the Mayor will be issuing the following solicitation(s) not included in the FY 2015 Annual Contracting Plan and Schedule that is published pursuant to New York City Charter &sect; 312(a):</p> <p> &nbsp;</p> <p> Agency: Department of Design and Construction</p> <p> Description of services sought: Gowanus Canal Superfund Site First Street Turning Basin&nbsp;</p> <p> Start date of the proposed contract:&nbsp;12/15/2015</p> <p> End date of the proposed contract:&nbsp;2/1/2016</p> <p> Method of solicitation the agency intends to utilize:&nbsp; Task Order&nbsp;</p> <p> Personnel in substantially similar titles within agency: Civil Engineer, Highway &amp; Sewer Inspector</p> <p> Headcount of personnel in substantially similar titles within agency:&nbsp; 82&nbsp;</p> <p> &nbsp;</p>"
      ],
      "text/plain": [
       "<IPython.core.display.HTML object>"
      ]
     },
     "metadata": {},
     "output_type": "display_data"
    },
    {
     "name": "stdout",
     "output_type": "stream",
     "text": [
      "{'adverts': [{'preamble': 'NOTICE IS HEREBY GIVENthat the Mayor will be '\n",
      "                          'issuing the following solicitation(s) not '\n",
      "                          'included in the FY 2015 Annual Contracting Plan '\n",
      "                          'and Schedule that is published pursuant to New '\n",
      "                          'York City Charter § 312(a):'},\n",
      "             {'Agency': 'Department of Design and Construction',\n",
      "              'Description of services sought': 'Gowanus Canal Superfund '\n",
      "                                                'Site First Street Turning '\n",
      "                                                'Basin',\n",
      "              'End date of the proposed contract': '2/1/2016',\n",
      "              'Headcount of personnel in substantially similar titles within agency': '82',\n",
      "              'Method of solicitation the agency intends to utilize': 'Task '\n",
      "                                                                      'Order',\n",
      "              'Personnel in substantially similar titles within agency': 'Civil '\n",
      "                                                                         'Engineer, '\n",
      "                                                                         'Highway '\n",
      "                                                                         '& '\n",
      "                                                                         'Sewer '\n",
      "                                                                         'Inspector',\n",
      "              'Start date of the proposed contract': '12/15/2015'}],\n",
      " 'context': 'Notice of Intent to Issue New Solicitation(s) Not Included in '\n",
      "            'FY 2015 Annual Contracting Plan and Schedule'}\n"
     ]
    },
    {
     "data": {
      "text/html": [
       "<hr />"
      ],
      "text/plain": [
       "<IPython.core.display.HTML object>"
      ]
     },
     "metadata": {},
     "output_type": "display_data"
    },
    {
     "data": {
      "text/html": [
       "<p> Please see attached document.</p> <p> &nbsp;</p> <p> &nbsp;</p> <p> &nbsp;</p> <p> &nbsp;</p>"
      ],
      "text/plain": [
       "<IPython.core.display.HTML object>"
      ]
     },
     "metadata": {},
     "output_type": "display_data"
    },
    {
     "name": "stdout",
     "output_type": "stream",
     "text": [
      "{'adverts': []}\n"
     ]
    },
    {
     "data": {
      "text/html": [
       "<hr />"
      ],
      "text/plain": [
       "<IPython.core.display.HTML object>"
      ]
     },
     "metadata": {},
     "output_type": "display_data"
    },
    {
     "data": {
      "text/html": [
       "<p> <u>Notice of Intent to Issue New Solicitation(s) Not Included in FY 2015 Annual Contracting Plan and Schedule </u></p> <p> &nbsp;</p> <p> <strong>NOTICE IS HEREBY GIVEN</strong> that the Mayor will be issuing the following solicitation(s) not included in the FY 2015 Annual Contracting Plan and Schedule that is published pursuant to New York City Charter &sect; 312(a):</p> <p> &nbsp;</p> <p> Agency: Administration for Children&rsquo;s Services</p> <p> Nature of services sought: Auditing and Analysis Consulting Services</p> <p> Start date of the proposed contract: 11/01/2014</p> <p> End date of the proposed contract: 10/31/2015</p> <p> Method of solicitation the agency intends to utilize: &nbsp;Negotiated Acquisition Extension</p> <p> Personnel in substantially similar titles within agency: &nbsp;Accountant, Management Auditor, Staff Analyst, Associate Staff Analyst, Admin Staff Analyst NM</p> <p> Headcount of personnel in substantially similar titles within agency: &nbsp;5</p>"
      ],
      "text/plain": [
       "<IPython.core.display.HTML object>"
      ]
     },
     "metadata": {},
     "output_type": "display_data"
    },
    {
     "name": "stdout",
     "output_type": "stream",
     "text": [
      "{'adverts': [{'preamble': 'NOTICE IS HEREBY GIVENthat the Mayor will be '\n",
      "                          'issuing the following solicitation(s) not '\n",
      "                          'included in the FY 2015 Annual Contracting Plan '\n",
      "                          'and Schedule that is published pursuant to New '\n",
      "                          'York City Charter § 312(a):'},\n",
      "             {'Agency': 'Administration for Children’s Services',\n",
      "              'End date of the proposed contract': '10/31/2015',\n",
      "              'Headcount of personnel in substantially similar titles within agency': '5',\n",
      "              'Method of solicitation the agency intends to utilize': 'Negotiated '\n",
      "                                                                      'Acquisition '\n",
      "                                                                      'Extension',\n",
      "              'Nature of services sought': 'Auditing and Analysis '\n",
      "                                           'Consulting Services',\n",
      "              'Personnel in substantially similar titles within agency': 'Accountant, '\n",
      "                                                                         'Management '\n",
      "                                                                         'Auditor, '\n",
      "                                                                         'Staff '\n",
      "                                                                         'Analyst, '\n",
      "                                                                         'Associate '\n",
      "                                                                         'Staff '\n",
      "                                                                         'Analyst, '\n",
      "                                                                         'Admin '\n",
      "                                                                         'Staff '\n",
      "                                                                         'Analyst '\n",
      "                                                                         'NM',\n",
      "              'Start date of the proposed contract': '11/01/2014'}],\n",
      " 'context': 'Notice of Intent to Issue New Solicitation(s) Not Included in '\n",
      "            'FY 2015 Annual Contracting Plan and Schedule'}\n"
     ]
    },
    {
     "data": {
      "text/html": [
       "<hr />"
      ],
      "text/plain": [
       "<IPython.core.display.HTML object>"
      ]
     },
     "metadata": {},
     "output_type": "display_data"
    },
    {
     "data": {
      "text/html": [
       "<p> <u>Notice of Intent to Issue New Solicitation(s) Not Included in FY 2015 Annual Contracting Plan and Schedule </u></p> <p> &nbsp;</p> <p> <strong>NOTICE IS HEREBY GIVEN</strong> that the Mayor will be issuing the following solicitation(s) not included in the FY 2015 Annual Contracting Plan and Schedule that is published pursuant to New York City Charter &sect; 312(a):</p> <p> &nbsp;</p> <p> Agency: Department of Environmental Protection</p> <p> Description of services sought: &nbsp;WI-298B: Design and Design Services During construction for the Conversion of the SHARON Demonstration Facility to an MBBR ANAMMOX Process</p> <p> Start date of the proposed contract: 6/30/2015</p> <p> End date of the proposed contract: 6/29/2018</p> <p> Method of solicitation the agency intends to utilize: Competitive Sealed Proposal</p> <p> Personnel in substantially similar titles within agency: None</p> <p> Headcount of personnel in substantially similar titles within agency: 0</p> <p> &nbsp;</p> <p> Agency: Department of Environmental Protection</p> <p> Description of services sought: CAT-447 National Academy of Sciences: Oversee an independent review of the City&rsquo;s application of the Operations Support Tool to turbidity issues in the Catskill System of the upstate water supply by an expert panel of nationally recognized experts.</p> <p> Start date of the proposed contract: 4/1/15</p> <p> End date of the proposed contract: 3/31/17</p> <p> Method of solicitation the agency intends to utilize: Sole Source</p> <p> Personnel in substantially similar titles within agency: None</p> <p> Headcount of personnel in substantially similar titles within agency:&nbsp; 0</p> <p> &nbsp;</p> <p> Agency:&nbsp;&nbsp; Department of Transportation</p> <p> Description of services sought:&nbsp;&nbsp; Installation of Thermoplastic Pavement Markings on Resurfaced Streets, Boroughs of Bronx, Manhattan and Staten Island</p> <p> Start date of the proposed contract: 6/26/15</p> <p> End date of the proposed contract: 6/25/17</p> <p> Method of solicitation the agency intends to utilize:&nbsp;&nbsp; CSB (Competitive Sealed Bids)</p> <p> Personnel in substantially similar titles within agency: None</p> <p> Headcount of personnel in substantially similar titles within agency: 0</p> <p> &nbsp;</p> <p> Agency:&nbsp;&nbsp; Department of Transportation</p> <p> Description of services sought: Installation of Thermoplastic Pavement Markings on Resurfaced Roads, Boroughs of Brooklyn and Queens</p> <p> Start date of the proposed contract: 6/26/15</p> <p> End date of the proposed contract: 6/25/17</p> <p> Method of solicitation the agency intends to utilize: CSB (Competitive Sealed Bids)</p> <p> Personnel in substantially similar titles within agency: None</p> <p> Headcount of personnel in substantially similar titles within agency: 0</p>"
      ],
      "text/plain": [
       "<IPython.core.display.HTML object>"
      ]
     },
     "metadata": {},
     "output_type": "display_data"
    },
    {
     "name": "stdout",
     "output_type": "stream",
     "text": [
      "{'adverts': [{'preamble': 'NOTICE IS HEREBY GIVENthat the Mayor will be '\n",
      "                          'issuing the following solicitation(s) not '\n",
      "                          'included in the FY 2015 Annual Contracting Plan '\n",
      "                          'and Schedule that is published pursuant to New '\n",
      "                          'York City Charter § 312(a):'},\n",
      "             {'Agency': 'Department of Environmental Protection',\n",
      "              'Description of services sought': 'WI-298B: Design and '\n",
      "                                                'Design Services During '\n",
      "                                                'construction for the '\n",
      "                                                'Conversion of the SHARON '\n",
      "                                                'Demonstration Facility to '\n",
      "                                                'an MBBR ANAMMOX Process',\n",
      "              'End date of the proposed contract': '6/29/2018',\n",
      "              'Headcount of personnel in substantially similar titles within agency': '0',\n",
      "              'Method of solicitation the agency intends to utilize': 'Competitive '\n",
      "                                                                      'Sealed '\n",
      "                                                                      'Proposal',\n",
      "              'Personnel in substantially similar titles within agency': 'None',\n",
      "              'Start date of the proposed contract': '6/30/2015'},\n",
      "             {'Agency': 'Department of Environmental Protection',\n",
      "              'Description of services sought': 'CAT-447 National Academy '\n",
      "                                                'of Sciences: Oversee an '\n",
      "                                                'independent review of the '\n",
      "                                                'City’s application of the '\n",
      "                                                'Operations Support Tool '\n",
      "                                                'to turbidity issues in '\n",
      "                                                'the Catskill System of '\n",
      "                                                'the upstate water supply '\n",
      "                                                'by an expert panel of '\n",
      "                                                'nationally recognized '\n",
      "                                                'experts.',\n",
      "              'End date of the proposed contract': '3/31/17',\n",
      "              'Headcount of personnel in substantially similar titles within agency': '0',\n",
      "              'Method of solicitation the agency intends to utilize': 'Sole '\n",
      "                                                                      'Source',\n",
      "              'Personnel in substantially similar titles within agency': 'None',\n",
      "              'Start date of the proposed contract': '4/1/15'},\n",
      "             {'Agency': 'Department of Transportation',\n",
      "              'Description of services sought': 'Installation of '\n",
      "                                                'Thermoplastic Pavement '\n",
      "                                                'Markings on Resurfaced '\n",
      "                                                'Streets, Boroughs of '\n",
      "                                                'Bronx, Manhattan and '\n",
      "                                                'Staten Island',\n",
      "              'End date of the proposed contract': '6/25/17',\n",
      "              'Headcount of personnel in substantially similar titles within agency': '0',\n",
      "              'Method of solicitation the agency intends to utilize': 'CSB '\n",
      "                                                                      '(Competitive '\n",
      "                                                                      'Sealed '\n",
      "                                                                      'Bids)',\n",
      "              'Personnel in substantially similar titles within agency': 'None',\n",
      "              'Start date of the proposed contract': '6/26/15'},\n",
      "             {'Agency': 'Department of Transportation',\n",
      "              'Description of services sought': 'Installation of '\n",
      "                                                'Thermoplastic Pavement '\n",
      "                                                'Markings on Resurfaced '\n",
      "                                                'Roads, Boroughs of '\n",
      "                                                'Brooklyn and Queens',\n",
      "              'End date of the proposed contract': '6/25/17',\n",
      "              'Headcount of personnel in substantially similar titles within agency': '0',\n",
      "              'Method of solicitation the agency intends to utilize': 'CSB '\n",
      "                                                                      '(Competitive '\n",
      "                                                                      'Sealed '\n",
      "                                                                      'Bids)',\n",
      "              'Personnel in substantially similar titles within agency': 'None',\n",
      "              'Start date of the proposed contract': '6/26/15'}],\n",
      " 'context': 'Notice of Intent to Issue New Solicitation(s) Not Included in '\n",
      "            'FY 2015 Annual Contracting Plan and Schedule'}\n"
     ]
    },
    {
     "data": {
      "text/html": [
       "<hr />"
      ],
      "text/plain": [
       "<IPython.core.display.HTML object>"
      ]
     },
     "metadata": {},
     "output_type": "display_data"
    },
    {
     "data": {
      "text/html": [
       "<p> <u>Notice of Intent to Extend Contract(s) Not Included in FY 2015 Annual Contracting Plan and Schedule</u></p> <p> &nbsp;</p> <p> <strong>NOTICE IS HEREBY GIVEN</strong> that the Mayor will be entering into the following extension(s) of (a) contract(s) not included in the FY 2015 Annual Contracting Plan and Schedule that is published pursuant to New York City Charter &sect; 312(a):</p> <p> &nbsp;</p> <p> Agency: Administration for Children&rsquo;s Services</p> <p> Vendor: ExecuSearch Staffing</p> <p> Nature of services: Nursing and Support&nbsp;Services at the Nicholas Scoppetta Children&rsquo;s Center</p> <p> Method of extension the agency intends to utilize: The Agency is exercising the second of three 1 year renewal options permitted in the original contract</p> <p> New start date of the proposed renewed/extended contract: 4/01/15</p> <p> New end date of the proposed renewed/extended contract: 3/31/2016</p> <p> Modifications sought to the nature of services performed under the contract: None</p> <p> Reason(s) the agency intends to renew/extend the contract: Continuity of service</p> <p> Personnel in substantially similar titles within agency: None</p> <p> Headcount of personnel in substantially similar titles within agency: 0</p> <p> &nbsp;</p>"
      ],
      "text/plain": [
       "<IPython.core.display.HTML object>"
      ]
     },
     "metadata": {},
     "output_type": "display_data"
    },
    {
     "name": "stdout",
     "output_type": "stream",
     "text": [
      "{'adverts': [{'preamble': 'NOTICE IS HEREBY GIVENthat the Mayor will be '\n",
      "                          'entering into the following extension(s) of (a) '\n",
      "                          'contract(s) not included in the FY 2015 Annual '\n",
      "                          'Contracting Plan and Schedule that is published '\n",
      "                          'pursuant to New York City Charter § 312(a):'},\n",
      "             {'Agency': 'Administration for Children’s Services',\n",
      "              'Headcount of personnel in substantially similar titles within agency': '0',\n",
      "              'Method of extension the agency intends to utilize': 'The '\n",
      "                                                                   'Agency '\n",
      "                                                                   'is '\n",
      "                                                                   'exercising '\n",
      "                                                                   'the '\n",
      "                                                                   'second '\n",
      "                                                                   'of '\n",
      "                                                                   'three '\n",
      "                                                                   '1 year '\n",
      "                                                                   'renewal '\n",
      "                                                                   'options '\n",
      "                                                                   'permitted '\n",
      "                                                                   'in the '\n",
      "                                                                   'original '\n",
      "                                                                   'contract',\n",
      "              'Modifications sought to the nature of services performed under the contract': 'None',\n",
      "              'Nature of services': 'Nursing and Support\\xa0Services at '\n",
      "                                    'the Nicholas Scoppetta Children’s '\n",
      "                                    'Center',\n",
      "              'New end date of the proposed renewed/extended contract': '3/31/2016',\n",
      "              'New start date of the proposed renewed/extended contract': '4/01/15',\n",
      "              'Personnel in substantially similar titles within agency': 'None',\n",
      "              'Reason(s) the agency intends to renew/extend the contract': 'Continuity '\n",
      "                                                                           'of '\n",
      "                                                                           'service',\n",
      "              'Vendor': 'ExecuSearch Staffing'}],\n",
      " 'context': 'Notice of Intent to Extend Contract(s) Not Included in FY 2015 '\n",
      "            'Annual Contracting Plan and Schedule'}\n"
     ]
    },
    {
     "data": {
      "text/html": [
       "<hr />"
      ],
      "text/plain": [
       "<IPython.core.display.HTML object>"
      ]
     },
     "metadata": {},
     "output_type": "display_data"
    },
    {
     "data": {
      "text/html": [
       "<p> <u>Notice of Intent to Extend Contract(s) Not Included in FY 2015 Annual Contracting Plan and Schedule</u></p> <p> &nbsp;</p> <p> <strong>NOTICE IS HEREBY GIVEN</strong> that the Mayor will be entering into the following extension(s) of (a) contract(s) not included in the FY 2015 Annual Contracting Plan and Schedule that is published pursuant to New York City Charter &sect; 312(a):</p> <p> &nbsp;</p> <p> Agency: Human Resources Administration</p> <p> Vendor: Accenture Federal&nbsp; Services LLC</p> <p> Nature of services: Support Services for on-going testing and systems integration of accelerator system</p> <p> Method of renewal/extension the agency intends to utilize: Amendment Extension</p> <p> New start date of the proposed renewed/extended contract: 2/24/15</p> <p> New end date of the proposed renewed/extended contract: 2/23/16</p> <p> Modifications sought to the nature of services performed under the contract: None</p> <p> Reason(s) the agency intends to renew/extend the contract: &nbsp;The services are still needed and a new procurement has not been completed.</p> <p> Personnel in substantially similar titles within agency: None</p> <p> Headcount of personnel in substantially similar titles within agency: 0</p>"
      ],
      "text/plain": [
       "<IPython.core.display.HTML object>"
      ]
     },
     "metadata": {},
     "output_type": "display_data"
    },
    {
     "name": "stdout",
     "output_type": "stream",
     "text": [
      "{'adverts': [{'preamble': 'NOTICE IS HEREBY GIVENthat the Mayor will be '\n",
      "                          'entering into the following extension(s) of (a) '\n",
      "                          'contract(s) not included in the FY 2015 Annual '\n",
      "                          'Contracting Plan and Schedule that is published '\n",
      "                          'pursuant to New York City Charter § 312(a):'},\n",
      "             {'Agency': 'Human Resources Administration',\n",
      "              'Headcount of personnel in substantially similar titles within agency': '0',\n",
      "              'Method of renewal/extension the agency intends to utilize': 'Amendment '\n",
      "                                                                           'Extension',\n",
      "              'Modifications sought to the nature of services performed under the contract': 'None',\n",
      "              'Nature of services': 'Support Services for on-going testing '\n",
      "                                    'and systems integration of '\n",
      "                                    'accelerator system',\n",
      "              'New end date of the proposed renewed/extended contract': '2/23/16',\n",
      "              'New start date of the proposed renewed/extended contract': '2/24/15',\n",
      "              'Personnel in substantially similar titles within agency': 'None',\n",
      "              'Reason(s) the agency intends to renew/extend the contract': 'The '\n",
      "                                                                           'services '\n",
      "                                                                           'are '\n",
      "                                                                           'still '\n",
      "                                                                           'needed '\n",
      "                                                                           'and '\n",
      "                                                                           'a '\n",
      "                                                                           'new '\n",
      "                                                                           'procurement '\n",
      "                                                                           'has '\n",
      "                                                                           'not '\n",
      "                                                                           'been '\n",
      "                                                                           'completed.',\n",
      "              'Vendor': 'Accenture Federal\\xa0 Services LLC'}],\n",
      " 'context': 'Notice of Intent to Extend Contract(s) Not Included in FY 2015 '\n",
      "            'Annual Contracting Plan and Schedule'}\n"
     ]
    },
    {
     "data": {
      "text/html": [
       "<hr />"
      ],
      "text/plain": [
       "<IPython.core.display.HTML object>"
      ]
     },
     "metadata": {},
     "output_type": "display_data"
    },
    {
     "data": {
      "text/html": [
       "<p> <u>Notice of Intent to Extend Contract(s) Not Included in FY 2015 Annual Contracting Plan and Schedule</u></p> <p> &nbsp;</p> <p> <strong>NOTICE IS HEREBY GIVEN</strong> that the Mayor will be entering into the following extension(s) of (a) contract(s) not included in the FY 2015 Annual Contracting Plan and Schedule that is published pursuant to New York City Charter &sect; 312(a):</p> <p> &nbsp;</p> <p> Agency: Department of Environmental Protection</p> <p> Vendor: Stratis Contracting Corp.</p> <p> Nature of services: Preventative Maintenance and Repair of Chemical Pumps</p> <p> Method of extension the agency intends to utilize: Amendment Extension</p> <p> New start date of the proposed extended contract: February 21, 2015</p> <p> New end date of the proposed extended contract: August 20, 2015</p> <p> Modifications sought to the nature of services performed under the contract: None</p> <p> Reason(s) the agency intends to extend the contract: Extension required in order to provide services until the successor contract is in place.</p> <p> Personnel in substantially similar titles within agency: None</p> <p> Headcount of personnel in substantially similar titles within agency: 0</p>"
      ],
      "text/plain": [
       "<IPython.core.display.HTML object>"
      ]
     },
     "metadata": {},
     "output_type": "display_data"
    },
    {
     "name": "stdout",
     "output_type": "stream",
     "text": [
      "{'adverts': [{'preamble': 'NOTICE IS HEREBY GIVENthat the Mayor will be '\n",
      "                          'entering into the following extension(s) of (a) '\n",
      "                          'contract(s) not included in the FY 2015 Annual '\n",
      "                          'Contracting Plan and Schedule that is published '\n",
      "                          'pursuant to New York City Charter § 312(a):'},\n",
      "             {'Agency': 'Department of Environmental Protection',\n",
      "              'Headcount of personnel in substantially similar titles within agency': '0',\n",
      "              'Method of extension the agency intends to utilize': 'Amendment '\n",
      "                                                                   'Extension',\n",
      "              'Modifications sought to the nature of services performed under the contract': 'None',\n",
      "              'Nature of services': 'Preventative Maintenance and Repair '\n",
      "                                    'of Chemical Pumps',\n",
      "              'New end date of the proposed extended contract': 'August '\n",
      "                                                                '20, 2015',\n",
      "              'New start date of the proposed extended contract': 'February '\n",
      "                                                                  '21, 2015',\n",
      "              'Personnel in substantially similar titles within agency': 'None',\n",
      "              'Reason(s) the agency intends to extend the contract': 'Extension '\n",
      "                                                                     'required '\n",
      "                                                                     'in '\n",
      "                                                                     'order '\n",
      "                                                                     'to '\n",
      "                                                                     'provide '\n",
      "                                                                     'services '\n",
      "                                                                     'until '\n",
      "                                                                     'the '\n",
      "                                                                     'successor '\n",
      "                                                                     'contract '\n",
      "                                                                     'is '\n",
      "                                                                     'in '\n",
      "                                                                     'place.',\n",
      "              'Vendor': 'Stratis Contracting Corp.'}],\n",
      " 'context': 'Notice of Intent to Extend Contract(s) Not Included in FY 2015 '\n",
      "            'Annual Contracting Plan and Schedule'}\n"
     ]
    },
    {
     "data": {
      "text/html": [
       "<hr />"
      ],
      "text/plain": [
       "<IPython.core.display.HTML object>"
      ]
     },
     "metadata": {},
     "output_type": "display_data"
    },
    {
     "data": {
      "text/html": [
       "<p> <u>Notice of Intent to Issue New Solicitation(s) Not Included in FY 2015 Annual Contracting Plan and Schedule </u></p> <p> &nbsp;</p> <p> <strong>NOTICE IS HEREBY GIVEN</strong> that the Mayor will be issuing the following solicitation(s) not included in the FY 2015 Annual Contracting Plan and Schedule that is published pursuant to New York City Charter &sect; 312(a):</p> <p> &nbsp;</p> <p> Agency: Department of Design &amp; Construction&nbsp;</p> <p> Description of services sought:&nbsp;&nbsp; RESIDENT ENGINEERING INSPECTION SERVICES - BMP MC-11 &amp; MC-12</p> <p> Start date of the proposed contract:&nbsp;&nbsp; 4/15/16</p> <p> End date of the proposed contract:&nbsp;&nbsp; 11/15/18</p> <p> Method of solicitation the agency intends to utilize:&nbsp;&nbsp;&nbsp; Task Order</p> <p> Personnel in substantially similar titles within agency:&nbsp;&nbsp; civil engineer, highway &amp; sewer inspector, landscape architect</p> <p> Headcount of personnel in substantially similar titles within agency: 89</p>"
      ],
      "text/plain": [
       "<IPython.core.display.HTML object>"
      ]
     },
     "metadata": {},
     "output_type": "display_data"
    },
    {
     "name": "stdout",
     "output_type": "stream",
     "text": [
      "{'adverts': [{'preamble': 'NOTICE IS HEREBY GIVENthat the Mayor will be '\n",
      "                          'issuing the following solicitation(s) not '\n",
      "                          'included in the FY 2015 Annual Contracting Plan '\n",
      "                          'and Schedule that is published pursuant to New '\n",
      "                          'York City Charter § 312(a):'},\n",
      "             {'Agency': 'Department of Design & Construction',\n",
      "              'Description of services sought': 'RESIDENT ENGINEERING '\n",
      "                                                'INSPECTION SERVICES - BMP '\n",
      "                                                'MC-11 & MC-12',\n",
      "              'End date of the proposed contract': '11/15/18',\n",
      "              'Headcount of personnel in substantially similar titles within agency': '89',\n",
      "              'Method of solicitation the agency intends to utilize': 'Task '\n",
      "                                                                      'Order',\n",
      "              'Personnel in substantially similar titles within agency': 'civil '\n",
      "                                                                         'engineer, '\n",
      "                                                                         'highway '\n",
      "                                                                         '& '\n",
      "                                                                         'sewer '\n",
      "                                                                         'inspector, '\n",
      "                                                                         'landscape '\n",
      "                                                                         'architect',\n",
      "              'Start date of the proposed contract': '4/15/16'}],\n",
      " 'context': 'Notice of Intent to Issue New Solicitation(s) Not Included in '\n",
      "            'FY 2015 Annual Contracting Plan and Schedule'}\n"
     ]
    },
    {
     "data": {
      "text/html": [
       "<hr />"
      ],
      "text/plain": [
       "<IPython.core.display.HTML object>"
      ]
     },
     "metadata": {},
     "output_type": "display_data"
    },
    {
     "data": {
      "text/html": [
       "<p> <u>Notice of Intent to Issue New Solicitation(s) Not Included in FY 2015 Annual Contracting Plan and Schedule </u></p> <p> &nbsp;</p> <p> <strong>NOTICE IS HEREBY GIVEN</strong> that the Mayor will be issuing the following solicitation(s) not included in the FY 2015 Annual Contracting Plan and Schedule that is published pursuant to New York City Charter &sect; 312(a):</p> <p> &nbsp;</p> <p> Agency: Department of Environmental Protection</p> <p> Description of services sought: CRO-530A&amp;B: Design Services contract for the replacement and removal of three bridges, and the reconstruction of 2 bridges within the Croton Watershed in Westchester County.&nbsp; This will include the analysis of the existing bridges, the design of potential alternatives and for the demolition and construction of the 5 Bridges.</p> <p> Start date of the proposed contract:&nbsp;&nbsp; 12/1/2015</p> <p> End date of the proposed contract:&nbsp;&nbsp; 6/1/2021</p> <p> Method of solicitation the agency intends to utilize:&nbsp;&nbsp;&nbsp;&nbsp;Request for Proposal</p> <p> Personnel in substantially similar titles within agency:&nbsp;&nbsp; None</p> <p> Headcount of personnel in substantially similar titles within agency:&nbsp;&nbsp;0</p> <p> &nbsp;</p> <p> Agency: Department of Environmental Protection</p> <p> Description of Service Sought:&nbsp; Specialized cleaning of Interception Sewer</p> <p> Start date of the proposed contract:&nbsp; 4/3/2015</p> <p> End date of the proposed contract: 1/31/2018</p> <p> Method of Solicitation the agency intends to utilize:&nbsp; Competitive Sealed Bids</p> <p> Personnel in substantially similar titles within agency: None</p> <p> Headcount of personnel in substantially similar titles with agency: 0</p> <p> &nbsp;</p> <p> Agency: Department of Information Technology &amp; Telecommunications</p> <p> Description of services sought: &nbsp;Subject Matter Expert to assess operational strategies for alignment with Citywide and program strategies, assess work flow, operational design and facility layouts for alignment with best practices and optimal operational plans. Develop recommendations for operational improvement, change and change management.&nbsp; Assess the impact of operational changes.</p> <p> Start date of the proposed contract: 1/1/15</p> <p> End date of the proposed contract:&nbsp; 5/31/17</p> <p> Method of solicitation the agency intends to utilize:&nbsp; Task Order</p> <p> Personnel in substantially similar titles within agency:&nbsp; None</p> <p> Headcount of personnel in substantially similar titles within agency:&nbsp; 0</p> <p> &nbsp;</p> <p> Agency: Department of Information Technology &amp; Telecommunications</p> <p> Description of services sought:&nbsp; Requirements Manager resource for development of requirements for the ECTP program that includes analysis, verification, and documentation. Manage requirements approval process as well as development of integration and UAT test procedures and test cases.</p> <p> Start date of the proposed contract: 1/1/15</p> <p> End date of the proposed contract: 12/31/15</p> <p> Method of solicitation the agency intends to utilize:&nbsp; Task Order</p> <p> Personnel in substantially similar titles within agency:&nbsp; Requirements Test Manager</p> <p> Headcount of personnel in substantially similar titles within agency:&nbsp; 1</p> <p> &nbsp;</p> <p> Agency: Department of Information Technology &amp; Telecommunications</p> <p> Description of services sought: E911 Subject Matter Expert on telecommunications and e911. Provide assessment of Verizon deliverables. Oversight of Verizon project activities. Assess Verizon project schedule. Address interface requirements with other work streams.</p> <p> Start date of the proposed contract: 1/1/15</p> <p> End date of the proposed contract: 12/31/15</p> <p> Method of solicitation the agency intends to utilize:&nbsp; Task Order</p> <p> Personnel in substantially similar titles within agency:&nbsp; None</p> <p> Headcount of personnel in substantially similar titles within agency:&nbsp; 0</p> <p> &nbsp;</p> <p> Agency: Department of Information Technology &amp; Telecommunications</p> <p> Description of services sought: E911 Subject Matter Expert on telecommunications and e911. Provide assessment of Verizon deliverables. Oversight of Verizon project activities. Assess Verizon project schedule. Address interface requirements with other work streams.</p> <p> Start date of the proposed contract: 1/1/15</p> <p> End date of the proposed contract: 12/31/15</p> <p> Method of solicitation the agency intends to utilize:&nbsp; Task Order</p> <p> Personnel in substantially similar titles within agency:&nbsp; None</p> <p> Headcount of personnel in substantially similar titles within agency:&nbsp; 0</p> <p> &nbsp;</p> <p> Agency: Department of Information Technology &amp; Telecommunications</p> <p> Description of services sought: FDCAD/CT/GIS Engineer to research and evaluate new CAD software and related solutions for FDNY, taking into account performance, stability, availability, cost- efficiency, and end user requirements. CAD infrastructure, configuration, testing,&nbsp;and reporting.</p> <p> Start date of the proposed contract: 1/1/15</p> <p> End date of the proposed contract: 8/31/16</p> <p> Method of solicitation the agency intends to utilize:&nbsp; Task Order</p> <p> Personnel in substantially similar titles within agency:&nbsp; None</p> <p> Headcount of personnel in substantially similar titles within agency:&nbsp; 0</p> <p> &nbsp;</p> <p> Agency: Department of Information Technology &amp; Telecommunications</p> <p> Description of services sought: Network Subject Matter Expert to ensure the system design and architecture meet the core technology requirements of the ECTP program in the areas of networking, facilities and infrastructure.</p> <p> Start date of the proposed contract: 1/1/15</p> <p> End date of the proposed contract:&nbsp; 12/31/15</p> <p> Method of solicitation the agency intends to utilize:&nbsp; Task Order</p> <p> Personnel in substantially similar titles within agency:&nbsp; Network Engineer</p> <p> Headcount of personnel in substantially similar titles within agency:&nbsp; 6</p> <p> &nbsp;</p> <p> Agency: Department of Information Technology &amp; Telecommunications</p> <p> Description of services sought: Network Subject Matter Expert to ensure the system design and architecture meet the core technology requirements of the ECTP program in the areas of networking, facilities and infrastructure.</p> <p> Start date of the proposed contract: 1/1/15</p> <p> End date of the proposed contract: 12/31/15</p> <p> Method of solicitation the agency intends to utilize:&nbsp; Task Order</p> <p> Personnel in substantially similar titles within agency:&nbsp; Network Engineer</p> <p> Headcount of personnel in substantially similar titles within agency:&nbsp; 6</p> <p> &nbsp;</p> <p> Agency: Department of Information Technology &amp; Telecommunications</p> <p> Description of services sought: Business Analyst to Analyze and design new Data Interoperability and Architecture</p> <p> Start date of the proposed contract: 1/1/15</p> <p> End date of the proposed contract: 12/31/15</p> <p> Method of solicitation the agency intends to utilize:&nbsp; Task Order</p> <p> Personnel in substantially similar titles within agency:&nbsp; Business Analyst</p> <p> Headcount of personnel in substantially similar titles within agency:&nbsp; 4</p> <p> &nbsp;</p> <p> Agency: Department of Information Technology &amp; Telecommunications</p> <p> Description of services sought: Business Analyst to analyze and design new Data Interoperability and Architecture</p> <p> Start date of the proposed contract: 1/1/15</p> <p> End dat"
      ],
      "text/plain": [
       "<IPython.core.display.HTML object>"
      ]
     },
     "metadata": {},
     "output_type": "display_data"
    },
    {
     "name": "stdout",
     "output_type": "stream",
     "text": [
      "{'adverts': [{'preamble': 'NOTICE IS HEREBY GIVENthat the Mayor will be '\n",
      "                          'issuing the following solicitation(s) not '\n",
      "                          'included in the FY 2015 Annual Contracting Plan '\n",
      "                          'and Schedule that is published pursuant to New '\n",
      "                          'York City Charter § 312(a):'},\n",
      "             {'Agency': 'Department of Environmental Protection',\n",
      "              'Description of services sought': 'CRO-530A&B: Design '\n",
      "                                                'Services contract for the '\n",
      "                                                'replacement and removal '\n",
      "                                                'of three bridges, and the '\n",
      "                                                'reconstruction of 2 '\n",
      "                                                'bridges within the Croton '\n",
      "                                                'Watershed in Westchester '\n",
      "                                                'County.\\xa0 This will '\n",
      "                                                'include the analysis of '\n",
      "                                                'the existing bridges, the '\n",
      "                                                'design of potential '\n",
      "                                                'alternatives and for the '\n",
      "                                                'demolition and '\n",
      "                                                'construction of the 5 '\n",
      "                                                'Bridges.',\n",
      "              'End date of the proposed contract': '6/1/2021',\n",
      "              'Headcount of personnel in substantially similar titles within agency': '0',\n",
      "              'Method of solicitation the agency intends to utilize': 'Request '\n",
      "                                                                      'for '\n",
      "                                                                      'Proposal',\n",
      "              'Personnel in substantially similar titles within agency': 'None',\n",
      "              'Start date of the proposed contract': '12/1/2015'},\n",
      "             {'Agency': 'Department of Environmental Protection',\n",
      "              'Description of Service Sought': 'Specialized cleaning of '\n",
      "                                               'Interception Sewer',\n",
      "              'End date of the proposed contract': '1/31/2018',\n",
      "              'Headcount of personnel in substantially similar titles with agency': '0',\n",
      "              'Method of Solicitation the agency intends to utilize': 'Competitive '\n",
      "                                                                      'Sealed '\n",
      "                                                                      'Bids',\n",
      "              'Personnel in substantially similar titles within agency': 'None',\n",
      "              'Start date of the proposed contract': '4/3/2015'},\n",
      "             {'Agency': 'Department of Information Technology & '\n",
      "                        'Telecommunications',\n",
      "              'Description of services sought': 'Subject Matter Expert to '\n",
      "                                                'assess operational '\n",
      "                                                'strategies for alignment '\n",
      "                                                'with Citywide and program '\n",
      "                                                'strategies, assess work '\n",
      "                                                'flow, operational design '\n",
      "                                                'and facility layouts for '\n",
      "                                                'alignment with best '\n",
      "                                                'practices and optimal '\n",
      "                                                'operational plans. '\n",
      "                                                'Develop recommendations '\n",
      "                                                'for operational '\n",
      "                                                'improvement, change and '\n",
      "                                                'change management.\\xa0 '\n",
      "                                                'Assess the impact of '\n",
      "                                                'operational changes.',\n",
      "              'End date of the proposed contract': '5/31/17',\n",
      "              'Headcount of personnel in substantially similar titles within agency': '0',\n",
      "              'Method of solicitation the agency intends to utilize': 'Task '\n",
      "                                                                      'Order',\n",
      "              'Personnel in substantially similar titles within agency': 'None',\n",
      "              'Start date of the proposed contract': '1/1/15'},\n",
      "             {'Agency': 'Department of Information Technology & '\n",
      "                        'Telecommunications',\n",
      "              'Description of services sought': 'Requirements Manager '\n",
      "                                                'resource for development '\n",
      "                                                'of requirements for the '\n",
      "                                                'ECTP program that '\n",
      "                                                'includes analysis, '\n",
      "                                                'verification, and '\n",
      "                                                'documentation. Manage '\n",
      "                                                'requirements approval '\n",
      "                                                'process as well as '\n",
      "                                                'development of '\n",
      "                                                'integration and UAT test '\n",
      "                                                'procedures and test cases.',\n",
      "              'End date of the proposed contract': '12/31/15',\n",
      "              'Headcount of personnel in substantially similar titles within agency': '1',\n",
      "              'Method of solicitation the agency intends to utilize': 'Task '\n",
      "                                                                      'Order',\n",
      "              'Personnel in substantially similar titles within agency': 'Requirements '\n",
      "                                                                         'Test '\n",
      "                                                                         'Manager',\n",
      "              'Start date of the proposed contract': '1/1/15'},\n",
      "             {'Agency': 'Department of Information Technology & '\n",
      "                        'Telecommunications',\n",
      "              'Description of services sought': 'E911 Subject Matter '\n",
      "                                                'Expert on '\n",
      "                                                'telecommunications and '\n",
      "                                                'e911. Provide assessment '\n",
      "                                                'of Verizon deliverables. '\n",
      "                                                'Oversight of Verizon '\n",
      "                                                'project activities. '\n",
      "                                                'Assess Verizon project '\n",
      "                                                'schedule. Address '\n",
      "                                                'interface requirements '\n",
      "                                                'with other work streams.',\n",
      "              'End date of the proposed contract': '12/31/15',\n",
      "              'Headcount of personnel in substantially similar titles within agency': '0',\n",
      "              'Method of solicitation the agency intends to utilize': 'Task '\n",
      "                                                                      'Order',\n",
      "              'Personnel in substantially similar titles within agency': 'None',\n",
      "              'Start date of the proposed contract': '1/1/15'},\n",
      "             {'Agency': 'Department of Information Technology & '\n",
      "                        'Telecommunications',\n",
      "              'Description of services sought': 'E911 Subject Matter '\n",
      "                                                'Expert on '\n",
      "                                                'telecommunications and '\n",
      "                                                'e911. Provide assessment '\n",
      "                                                'of Verizon deliverables. '\n",
      "                                                'Oversight of Verizon '\n",
      "                                                'project activities. '\n",
      "                                                'Assess Verizon project '\n",
      "                                                'schedule. Address '\n",
      "                                                'interface requirements '\n",
      "                                                'with other work streams.',\n",
      "              'End date of the proposed contract': '12/31/15',\n",
      "              'Headcount of personnel in substantially similar titles within agency': '0',\n",
      "              'Method of solicitation the agency intends to utilize': 'Task '\n",
      "                                                                      'Order',\n",
      "              'Personnel in substantially similar titles within agency': 'None',\n",
      "              'Start date of the proposed contract': '1/1/15'},\n",
      "             {'Agency': 'Department of Information Technology & '\n",
      "                        'Telecommunications',\n",
      "              'Description of services sought': 'FDCAD/CT/GIS Engineer to '\n",
      "                                                'research and evaluate new '\n",
      "                                                'CAD software and related '\n",
      "                                                'solutions for FDNY, '\n",
      "                                                'taking into account '\n",
      "                                                'performance, stability, '\n",
      "                                                'availability, cost- '\n",
      "                                                'efficiency, and end user '\n",
      "                                                'requirements. CAD '\n",
      "                                                'infrastructure, '\n",
      "                                                'configuration, '\n",
      "                                                'testing,\\xa0and reporting.',\n",
      "              'End date of the proposed contract': '8/31/16',\n",
      "              'Headcount of personnel in substantially similar titles within agency': '0',\n",
      "              'Method of solicitation the agency intends to utilize': 'Task '\n",
      "                                                                      'Order',\n",
      "              'Personnel in substantially similar titles within agency': 'None',\n",
      "              'Start date of the proposed contract': '1/1/15'},\n",
      "             {'Agency': 'Department of Information Technology & '\n",
      "                        'Telecommunications',\n",
      "              'Description of services sought': 'Network Subject Matter '\n",
      "                                                'Expert to ensure the '\n",
      "                                                'system design and '\n",
      "                                                'architecture meet the '\n",
      "                                                'core technology '\n",
      "                                                'requirements of the ECTP '\n",
      "                                                'program in the areas of '\n",
      "                                                'networking, facilities '\n",
      "                                                'and infrastructure.',\n",
      "              'End date of the proposed contract': '12/31/15',\n",
      "              'Headcount of personnel in substantially similar titles within agency': '6',\n",
      "              'Method of solicitation the agency intends to utilize': 'Task '\n",
      "                                                                      'Order',\n",
      "              'Personnel in substantially similar titles within agency': 'Network '\n",
      "                                                                         'Engineer',\n",
      "              'Start date of the proposed contract': '1/1/15'},\n",
      "             {'Agency': 'Department of Information Technology & '\n",
      "                        'Telecommunications',\n",
      "              'Description of services sought': 'Network Subject Matter '\n",
      "                                                'Expert to ensure the '\n",
      "                                                'system design and '\n",
      "                                                'architecture meet the '\n",
      "                                                'core technology '\n",
      "                                                'requirements of the ECTP '\n",
      "                                                'program in the areas of '\n",
      "                                                'networking, facilities '\n",
      "                                                'and infrastructure.',\n",
      "              'End date of the proposed contract': '12/31/15',\n",
      "              'Headcount of personnel in substantially similar titles within agency': '6',\n",
      "              'Method of solicitation the agency intends to utilize': 'Task '\n",
      "                                                                      'Order',\n",
      "              'Personnel in substantially similar titles within agency': 'Network '\n",
      "                                                                         'Engineer',\n",
      "              'Start date of the proposed contract': '1/1/15'},\n",
      "             {'Agency': 'Department of Information Technology & '\n",
      "                        'Telecommunications',\n",
      "              'Description of services sought': 'Business Analyst to '\n",
      "                                                'Analyze and design new '\n",
      "                                                'Data Interoperability and '\n",
      "                                                'Architecture',\n",
      "              'End date of the proposed contract': '12/31/15',\n",
      "              'Headcount of personnel in substantially similar titles within agency': '4',\n",
      "              'Method of solicitation the agency intends to utilize': 'Task '\n",
      "                                                                      'Order',\n",
      "              'Personnel in substantially similar titles within agency': 'Business '\n",
      "                                                                         'Analyst',\n",
      "              'Start date of the proposed contract': '1/1/15'},\n",
      "             {'Agency': 'Department of Information Technology & '\n",
      "                        'Telecommunications',\n",
      "              'Description of services sought': 'Business Analyst to '\n",
      "                                                'analyze and design new '\n",
      "                                                'Data Interoperability and '\n",
      "                                                'Architecture',\n",
      "              'Start date of the proposed contract': '1/1/15'}],\n",
      " 'context': 'Notice of Intent to Issue New Solicitation(s) Not Included in '\n",
      "            'FY 2015 Annual Contracting Plan and Schedule'}\n"
     ]
    },
    {
     "data": {
      "text/html": [
       "<hr />"
      ],
      "text/plain": [
       "<IPython.core.display.HTML object>"
      ]
     },
     "metadata": {},
     "output_type": "display_data"
    },
    {
     "data": {
      "text/html": [
       "<p> <u>Notice of Intent to Extend Contract(s) Not Included in FY 2015 Annual Contracting Plan and Schedule</u></p> <p> &nbsp;</p> <p> <strong>NOTICE IS HEREBY GIVEN</strong> that the Mayor will be entering into the following extension(s) of (a) contract(s) not included in the FY 2015 Annual Contracting Plan and Schedule that is published pursuant to New York City Charter &sect; 312(a):</p> <p> &nbsp;</p> <p> Agency: Department of Information Technology and Telecommunications</p> <p> FMS Contract #: 20137201489</p> <p> Vendor: PSI International Inc.</p> <p> Description of services: Computer Aid Dispatch (CAD) GIS SME to assist with&nbsp; CAD system design, architecture and implementation alternatives, functional considerations and assist with automatic vehicle locator (AVL) unit and personnel tracking options and implementations.</p> <p> Award method of original contract:&nbsp; Intergovernmental</p> <p> FMS Contract type: Consultant</p> <p> End date of original contract: 12/31/14</p> <p> Method of renewal/extension the agency intends to utilize:&nbsp; Amendment Extension</p> <p> New start date of the proposed renewed/extended contract: 1/1/15</p> <p> New end date of the proposed renewed/extended contract: 8/31/16</p> <p> Modifications sought to the nature of services performed under the contract: None</p> <p> Reason(s) the agency intends to renew/extend the contract: continuation of services</p> <p> Personnel in substantially similar titles within agency: None</p> <p> Headcount of personnel in substantially similar titles within agency: 0</p> <p> &nbsp;</p> <p> Agency: Department of Information Technology and Telecommunications</p> <p> FMS Contract #: 20137202104</p> <p> Vendor: Comsys Information Technology Services, LLC.</p> <p> Description of services: Network SME to ensure the system design and architecture meet the core technology requirements of the ECTP program in the areas of networking, facilities and infrastructure.</p> <p> Award method of original contract: Intergovernmental</p> <p> FMS Contract type: Consultant</p> <p> End date of original contract: &nbsp;12/31/14</p> <p> Method of renewal/extension the agency intends to utilize: Amendment Extension</p> <p> New start date of the proposed renewed/extended contract: 1/1/15</p> <p> New end date of the proposed renewed/extended contract:&nbsp; 12/31/15</p> <p> Modifications sought to the nature of services performed under the contract:&nbsp; None</p> <p> Reason(s) the agency intends to renew/extend the contract:&nbsp; continuation of services</p> <p> Personnel in substantially similar titles within agency: Network Engineer</p> <p> Headcount of personnel in substantially similar titles within agency: 6</p> <p> &nbsp;</p> <p> Agency: Department of Information Technology and Telecommunications</p> <p> FMS Contract #: 20137208433</p> <p> Vendor:&nbsp; GCOM Software Inc.</p> <p> Description of services: Public Safety IT System Integration SME responsible for testing, design, integration technical knowledge of specific public safety proprietary systems.</p> <p> Award method of original contract: Intergovernmental</p> <p> FMS Contract type: Consultant</p> <p> End date of original contract: 12/31/14</p> <p> Method of renewal/extension the agency intends to utilize: Amendment Extension</p> <p> New start date of the proposed renewed/extended contract: 1/1/15</p> <p> New end date of the proposed renewed/extended contract: 12/31/15</p> <p> Modifications sought to the nature of services performed under the contract: None</p> <p> Reason(s) the agency intends to renew/extend the contract: continuation of services</p> <p> Personnel in substantially similar titles within agency: None&nbsp;&nbsp;&nbsp;&nbsp;&nbsp;&nbsp;&nbsp;&nbsp;&nbsp;&nbsp;&nbsp;&nbsp;&nbsp;&nbsp;&nbsp;&nbsp;&nbsp;&nbsp;&nbsp;&nbsp;&nbsp;&nbsp;&nbsp;&nbsp;&nbsp;&nbsp;&nbsp;&nbsp;&nbsp;&nbsp;&nbsp;&nbsp;&nbsp;&nbsp;&nbsp;&nbsp;&nbsp;&nbsp;&nbsp;&nbsp;</p> <p> Headcount of personnel in substantially similar titles within agency: 0</p> <p> &nbsp;</p> <p> Agency: Department of Information Technology and Telecommunications</p> <p> FMS Contract #: 20137201488</p> <p> Vendor: Comsys Information Technology Services, LLC.</p> <p> Description of services: Telephony NOC to advise on best practices and emerging technologies in emergency communications, call taking and dispatch and complex telephony systems and directs implementation.</p> <p> Award method of original contract: Intergovernmental</p> <p> FMS Contract type: Consultant</p> <p> End date of original contract: 12/31/14</p> <p> Method of renewal/extension the agency intends to utilize: Amendment Extension</p> <p> New start date of the proposed renewed/extended contract: 1/1/15</p> <p> New end date of the proposed renewed/extended contract: 12/31/15</p> <p> Modifications sought to the nature of services performed under the contract: none</p> <p> Reason(s) the agency intends to renew/extend the contract: continuation of services</p> <p> Personnel in substantially similar titles within agency: None</p> <p> Headcount of personnel in substantially similar titles within agency:0</p> <p> &nbsp;</p> <p> Agency: Department of Information Technology and Telecommunications</p> <p> FMS Contract #: 20137208206</p> <p> Vendor: Comsys Information Technology Services, LLC.</p> <p> Description of services: FDNY Coordinator SME to provide Public Safety Communications subject matter expertise to critical program areas with particular focus on Public Safety Dispatch Systems, including but not limited to Computer Aided Dispatch and Radio Integration of FDNY and EMD systems.</p> <p> Award method of original contract: Intergovernmental</p> <p> FMS Contract type: Consultant</p> <p> End date of original contract: 12/31/14</p> <p> Method of renewal/extension the agency intends to utilize: Amendment Extension</p> <p> New start date of the proposed renewed/extended contract: 1/1/15</p> <p> New end date of the proposed renewed/extended contract:&nbsp; 8/31/16</p> <p> Modifications sought to the nature of services performed under the contract: none</p> <p> Reason(s) the agency intends to renew/extend the contract: continuation of services</p> <p> Personnel in substantially similar titles within agency: None</p> <p> Headcount of personnel in substantially similar titles within agency: 0</p> <p> &nbsp;</p> <p> Agency: Department of Information Technology and Telecommunications</p> <p> FMS Contract #: 20137208207</p> <p> Vendor: Comsys Information Technology Services, LLC.</p> <p> Description of services: Public Safety Operations/SME to provide Public Safety Communications subject matter expertise to critical program areas.</p> <p> Award method of original contract: Intergovernmental</p> <p> FMS Contract type: Consultant</p> <p> End date of original contract: 12/31/14</p> <p> Method of renewal/extension the agency intends to utilize: Amendment Extension</p> <p> New start date of the proposed renewed/extended contract: 1/1/15</p> <p> New end date of the proposed renewed/extended contract:&nbsp; 8/31/16</p> <p> Modifications sought to the nature of services performed under the contract: None</p> <p> Reason(s) the agency intends to renew/extend the contract: continuation of services</p> <p> Personnel in substantially similar titles within agency: None</p> <p> Headcount of personnel in substantially similar titles within agency: 0</p> <p> &nbsp;</p> <p> Agency: Department of Information Technology and Telecommunications</p> <p> FMS Contract #: 20137208210</p> <p> Vendor: Comsys Information Technology Services, LLC.</p> <p> Description of services: Radio (NYPD) SME Design Compliance to analyze NYPD and FDNY radio design documents for projects"
      ],
      "text/plain": [
       "<IPython.core.display.HTML object>"
      ]
     },
     "metadata": {},
     "output_type": "display_data"
    },
    {
     "name": "stdout",
     "output_type": "stream",
     "text": [
      "{'adverts': [{'preamble': 'NOTICE IS HEREBY GIVENthat the Mayor will be '\n",
      "                          'entering into the following extension(s) of (a) '\n",
      "                          'contract(s) not included in the FY 2015 Annual '\n",
      "                          'Contracting Plan and Schedule that is published '\n",
      "                          'pursuant to New York City Charter § 312(a):'},\n",
      "             {'Agency': 'Department of Information Technology and '\n",
      "                        'Telecommunications',\n",
      "              'Award method of original contract': 'Intergovernmental',\n",
      "              'Description of services': 'Computer Aid Dispatch (CAD) GIS '\n",
      "                                         'SME to assist with\\xa0 CAD '\n",
      "                                         'system design, architecture and '\n",
      "                                         'implementation alternatives, '\n",
      "                                         'functional considerations and '\n",
      "                                         'assist with automatic vehicle '\n",
      "                                         'locator (AVL) unit and personnel '\n",
      "                                         'tracking options and '\n",
      "                                         'implementations.',\n",
      "              'End date of original contract': '12/31/14',\n",
      "              'FMS Contract #': '20137201489',\n",
      "              'FMS Contract type': 'Consultant',\n",
      "              'Headcount of personnel in substantially similar titles within agency': '0',\n",
      "              'Method of renewal/extension the agency intends to utilize': 'Amendment '\n",
      "                                                                           'Extension',\n",
      "              'Modifications sought to the nature of services performed under the contract': 'None',\n",
      "              'New end date of the proposed renewed/extended contract': '8/31/16',\n",
      "              'New start date of the proposed renewed/extended contract': '1/1/15',\n",
      "              'Personnel in substantially similar titles within agency': 'None',\n",
      "              'Reason(s) the agency intends to renew/extend the contract': 'continuation '\n",
      "                                                                           'of '\n",
      "                                                                           'services',\n",
      "              'Vendor': 'PSI International Inc.'},\n",
      "             {'Agency': 'Department of Information Technology and '\n",
      "                        'Telecommunications',\n",
      "              'Award method of original contract': 'Intergovernmental',\n",
      "              'Description of services': 'Network SME to ensure the system '\n",
      "                                         'design and architecture meet the '\n",
      "                                         'core technology requirements of '\n",
      "                                         'the ECTP program in the areas of '\n",
      "                                         'networking, facilities and '\n",
      "                                         'infrastructure.',\n",
      "              'End date of original contract': '12/31/14',\n",
      "              'FMS Contract #': '20137202104',\n",
      "              'FMS Contract type': 'Consultant',\n",
      "              'Headcount of personnel in substantially similar titles within agency': '6',\n",
      "              'Method of renewal/extension the agency intends to utilize': 'Amendment '\n",
      "                                                                           'Extension',\n",
      "              'Modifications sought to the nature of services performed under the contract': 'None',\n",
      "              'New end date of the proposed renewed/extended contract': '12/31/15',\n",
      "              'New start date of the proposed renewed/extended contract': '1/1/15',\n",
      "              'Personnel in substantially similar titles within agency': 'Network '\n",
      "                                                                         'Engineer',\n",
      "              'Reason(s) the agency intends to renew/extend the contract': 'continuation '\n",
      "                                                                           'of '\n",
      "                                                                           'services',\n",
      "              'Vendor': 'Comsys Information Technology Services, LLC.'},\n",
      "             {'Agency': 'Department of Information Technology and '\n",
      "                        'Telecommunications',\n",
      "              'Award method of original contract': 'Intergovernmental',\n",
      "              'Description of services': 'Public Safety IT System '\n",
      "                                         'Integration SME responsible for '\n",
      "                                         'testing, design, integration '\n",
      "                                         'technical knowledge of specific '\n",
      "                                         'public safety proprietary '\n",
      "                                         'systems.',\n",
      "              'End date of original contract': '12/31/14',\n",
      "              'FMS Contract #': '20137208433',\n",
      "              'FMS Contract type': 'Consultant',\n",
      "              'Headcount of personnel in substantially similar titles within agency': '0',\n",
      "              'Method of renewal/extension the agency intends to utilize': 'Amendment '\n",
      "                                                                           'Extension',\n",
      "              'Modifications sought to the nature of services performed under the contract': 'None',\n",
      "              'New end date of the proposed renewed/extended contract': '12/31/15',\n",
      "              'New start date of the proposed renewed/extended contract': '1/1/15',\n",
      "              'Personnel in substantially similar titles within agency': 'None',\n",
      "              'Reason(s) the agency intends to renew/extend the contract': 'continuation '\n",
      "                                                                           'of '\n",
      "                                                                           'services',\n",
      "              'Vendor': 'GCOM Software Inc.'},\n",
      "             {'Agency': 'Department of Information Technology and '\n",
      "                        'Telecommunications',\n",
      "              'Award method of original contract': 'Intergovernmental',\n",
      "              'Description of services': 'Telephony NOC to advise on best '\n",
      "                                         'practices and emerging '\n",
      "                                         'technologies in emergency '\n",
      "                                         'communications, call taking and '\n",
      "                                         'dispatch and complex telephony '\n",
      "                                         'systems and directs '\n",
      "                                         'implementation.',\n",
      "              'End date of original contract': '12/31/14',\n",
      "              'FMS Contract #': '20137201488',\n",
      "              'FMS Contract type': 'Consultant',\n",
      "              'Headcount of personnel in substantially similar titles within agency': '0',\n",
      "              'Method of renewal/extension the agency intends to utilize': 'Amendment '\n",
      "                                                                           'Extension',\n",
      "              'Modifications sought to the nature of services performed under the contract': 'none',\n",
      "              'New end date of the proposed renewed/extended contract': '12/31/15',\n",
      "              'New start date of the proposed renewed/extended contract': '1/1/15',\n",
      "              'Personnel in substantially similar titles within agency': 'None',\n",
      "              'Reason(s) the agency intends to renew/extend the contract': 'continuation '\n",
      "                                                                           'of '\n",
      "                                                                           'services',\n",
      "              'Vendor': 'Comsys Information Technology Services, LLC.'},\n",
      "             {'Agency': 'Department of Information Technology and '\n",
      "                        'Telecommunications',\n",
      "              'Award method of original contract': 'Intergovernmental',\n",
      "              'Description of services': 'FDNY Coordinator SME to provide '\n",
      "                                         'Public Safety Communications '\n",
      "                                         'subject matter expertise to '\n",
      "                                         'critical program areas with '\n",
      "                                         'particular focus on Public '\n",
      "                                         'Safety Dispatch Systems, '\n",
      "                                         'including but not limited to '\n",
      "                                         'Computer Aided Dispatch and '\n",
      "                                         'Radio Integration of FDNY and '\n",
      "                                         'EMD systems.',\n",
      "              'End date of original contract': '12/31/14',\n",
      "              'FMS Contract #': '20137208206',\n",
      "              'FMS Contract type': 'Consultant',\n",
      "              'Headcount of personnel in substantially similar titles within agency': '0',\n",
      "              'Method of renewal/extension the agency intends to utilize': 'Amendment '\n",
      "                                                                           'Extension',\n",
      "              'Modifications sought to the nature of services performed under the contract': 'none',\n",
      "              'New end date of the proposed renewed/extended contract': '8/31/16',\n",
      "              'New start date of the proposed renewed/extended contract': '1/1/15',\n",
      "              'Personnel in substantially similar titles within agency': 'None',\n",
      "              'Reason(s) the agency intends to renew/extend the contract': 'continuation '\n",
      "                                                                           'of '\n",
      "                                                                           'services',\n",
      "              'Vendor': 'Comsys Information Technology Services, LLC.'},\n",
      "             {'Agency': 'Department of Information Technology and '\n",
      "                        'Telecommunications',\n",
      "              'Award method of original contract': 'Intergovernmental',\n",
      "              'Description of services': 'Public Safety Operations/SME to '\n",
      "                                         'provide Public Safety '\n",
      "                                         'Communications subject matter '\n",
      "                                         'expertise to critical program '\n",
      "                                         'areas.',\n",
      "              'End date of original contract': '12/31/14',\n",
      "              'FMS Contract #': '20137208207',\n",
      "              'FMS Contract type': 'Consultant',\n",
      "              'Headcount of personnel in substantially similar titles within agency': '0',\n",
      "              'Method of renewal/extension the agency intends to utilize': 'Amendment '\n",
      "                                                                           'Extension',\n",
      "              'Modifications sought to the nature of services performed under the contract': 'None',\n",
      "              'New end date of the proposed renewed/extended contract': '8/31/16',\n",
      "              'New start date of the proposed renewed/extended contract': '1/1/15',\n",
      "              'Personnel in substantially similar titles within agency': 'None',\n",
      "              'Reason(s) the agency intends to renew/extend the contract': 'continuation '\n",
      "                                                                           'of '\n",
      "                                                                           'services',\n",
      "              'Vendor': 'Comsys Information Technology Services, LLC.'},\n",
      "             {'Agency': 'Department of Information Technology and '\n",
      "                        'Telecommunications',\n",
      "              'Description of services': 'Radio (NYPD) SME Design '\n",
      "                                         'Compliance to analyze NYPD and '\n",
      "                                         'FDNY radio design documents for '\n",
      "                                         'projects',\n",
      "              'FMS Contract #': '20137208210',\n",
      "              'Vendor': 'Comsys Information Technology Services, LLC.'}],\n",
      " 'context': 'Notice of Intent to Extend Contract(s) Not Included in FY 2015 '\n",
      "            'Annual Contracting Plan and Schedule'}\n"
     ]
    },
    {
     "data": {
      "text/html": [
       "<hr />"
      ],
      "text/plain": [
       "<IPython.core.display.HTML object>"
      ]
     },
     "metadata": {},
     "output_type": "display_data"
    },
    {
     "data": {
      "text/html": [
       "<p> &nbsp;</p> <p> <u>Notice of Intent to Issue New Solicitation(s) Not Included in FY 2014 Annual Contracting Plan and Schedule </u></p> <p> &nbsp;</p> <p> <strong>NOTICE IS HEREBY GIVEN</strong> that the Mayor will be issuing the following solicitation(s) not included in the FY 2014 Annual Contracting Plan and Schedule that is published pursuant to New York City Charter &sect; 312(a):</p> <p> &nbsp;</p> <p> Agency: Department of Design and Construction</p> <p> Description of services sought:&nbsp;&nbsp; Architectural and Engineering Service for Exterior Rehabilitation of Regents Family Residence, Manhattan</p> <p> Start date of the proposed contract:&nbsp;&nbsp; June 1, 2015</p> <p> End date of the proposed contract:&nbsp;&nbsp; June 1, 2018</p> <p> Method of solicitation the agency intends to utilize:&nbsp;&nbsp; Task Order</p> <p> Personnel in substantially similar titles within agency:&nbsp;&nbsp; None</p> <p> Headcount of personnel in substantially similar titles within agency:&nbsp; 0</p> <p> &nbsp;</p> <p> Agency: Department of Design and Construction</p> <p> Description of services sought:&nbsp; Design Services for Electrical System Upgrade and Emergency Generator at Appellate Court &ndash; 45 Monroe Place</p> <p> Start date of the proposed contract:&nbsp;&nbsp; February 1, 2015</p> <p> End date of the proposed contract:&nbsp;&nbsp; February 1, 2018</p> <p> Method of solicitation the agency intends to utilize:&nbsp;&nbsp;&nbsp; Task Order</p> <p> Personnel in substantially similar titles within agency:&nbsp;&nbsp; None</p> <p> Headcount of personnel in substantially similar titles within agency: &nbsp;0</p>"
      ],
      "text/plain": [
       "<IPython.core.display.HTML object>"
      ]
     },
     "metadata": {},
     "output_type": "display_data"
    },
    {
     "name": "stdout",
     "output_type": "stream",
     "text": [
      "{'adverts': [{'preamble': 'NOTICE IS HEREBY GIVENthat the Mayor will be '\n",
      "                          'issuing the following solicitation(s) not '\n",
      "                          'included in the FY 2014 Annual Contracting Plan '\n",
      "                          'and Schedule that is published pursuant to New '\n",
      "                          'York City Charter § 312(a):'},\n",
      "             {'Agency': 'Department of Design and Construction',\n",
      "              'Description of services sought': 'Architectural and '\n",
      "                                                'Engineering Service for '\n",
      "                                                'Exterior Rehabilitation '\n",
      "                                                'of Regents Family '\n",
      "                                                'Residence, Manhattan',\n",
      "              'End date of the proposed contract': 'June 1, 2018',\n",
      "              'Headcount of personnel in substantially similar titles within agency': '0',\n",
      "              'Method of solicitation the agency intends to utilize': 'Task '\n",
      "                                                                      'Order',\n",
      "              'Personnel in substantially similar titles within agency': 'None',\n",
      "              'Start date of the proposed contract': 'June 1, 2015'},\n",
      "             {'Agency': 'Department of Design and Construction',\n",
      "              'Description of services sought': 'Design Services for '\n",
      "                                                'Electrical System Upgrade '\n",
      "                                                'and Emergency Generator '\n",
      "                                                'at Appellate Court – 45 '\n",
      "                                                'Monroe Place',\n",
      "              'End date of the proposed contract': 'February 1, 2018',\n",
      "              'Headcount of personnel in substantially similar titles within agency': '0',\n",
      "              'Method of solicitation the agency intends to utilize': 'Task '\n",
      "                                                                      'Order',\n",
      "              'Personnel in substantially similar titles within agency': 'None',\n",
      "              'Start date of the proposed contract': 'February 1, 2015'}],\n",
      " 'context': 'Notice of Intent to Issue New Solicitation(s) Not Included in '\n",
      "            'FY 2014 Annual Contracting Plan and Schedule'}\n"
     ]
    },
    {
     "data": {
      "text/html": [
       "<hr />"
      ],
      "text/plain": [
       "<IPython.core.display.HTML object>"
      ]
     },
     "metadata": {},
     "output_type": "display_data"
    },
    {
     "data": {
      "text/html": [
       "<p> <u>Notice of Intent to Issue New Solicitation(s) Not Included in FY 2015 Annual Contracting Plan and Schedule </u></p> <p> &nbsp;</p> <p> <strong>NOTICE IS HEREBY GIVEN</strong> that the Mayor will be issuing the following solicitation(s) not included in the FY 2015 Annual Contracting Plan and Schedule that is published pursuant to New York City Charter &sect; 312(a):</p> <p> &nbsp;</p> <p> Agency: Department of Parks and Recreation</p> <p> Nature of services sought:&nbsp;Construction Supervision Services in relation to furnishing an artwork&nbsp; in conjunction with the reconstruction of McCarren pool and Bathhouse, as part of the Percent for Art Program, Borough of Brooklyn, as it relates to Project #:&nbsp; B058-114M</p> <p> Start Date of the proposed contract:&nbsp; 1/15/15</p> <p> End Date of the proposed contract:&nbsp; &nbsp;1/15/17</p> <p> Method of Solicitation the Agency intends to utilize:&nbsp; Task Order</p> <p> Personnel in substantially similar titles within Agency:&nbsp; Project Manager, Associate Project Manager, Construction Project Manager, Construction Project Manager Intern, Civil Engineers, Assistant Civil Engineers</p> <p> Headcount of personnel in substantially similar titles within Agency:&nbsp; 139</p> <p> &nbsp;</p>"
      ],
      "text/plain": [
       "<IPython.core.display.HTML object>"
      ]
     },
     "metadata": {},
     "output_type": "display_data"
    },
    {
     "name": "stdout",
     "output_type": "stream",
     "text": [
      "{'adverts': [{'preamble': 'NOTICE IS HEREBY GIVENthat the Mayor will be '\n",
      "                          'issuing the following solicitation(s) not '\n",
      "                          'included in the FY 2015 Annual Contracting Plan '\n",
      "                          'and Schedule that is published pursuant to New '\n",
      "                          'York City Charter § 312(a):'},\n",
      "             {'Agency': 'Department of Parks and Recreation',\n",
      "              'End Date of the proposed contract': '1/15/17',\n",
      "              'Headcount of personnel in substantially similar titles within Agency': '139',\n",
      "              'Method of Solicitation the Agency intends to utilize': 'Task '\n",
      "                                                                      'Order',\n",
      "              'Nature of services sought': 'Construction Supervision '\n",
      "                                           'Services in relation to '\n",
      "                                           'furnishing an artwork\\xa0 in '\n",
      "                                           'conjunction with the '\n",
      "                                           'reconstruction of McCarren '\n",
      "                                           'pool and Bathhouse, as part of '\n",
      "                                           'the Percent for Art Program, '\n",
      "                                           'Borough of Brooklyn, as it '\n",
      "                                           'relates to Project #:\\xa0 '\n",
      "                                           'B058-114M',\n",
      "              'Personnel in substantially similar titles within Agency': 'Project '\n",
      "                                                                         'Manager, '\n",
      "                                                                         'Associate '\n",
      "                                                                         'Project '\n",
      "                                                                         'Manager, '\n",
      "                                                                         'Construction '\n",
      "                                                                         'Project '\n",
      "                                                                         'Manager, '\n",
      "                                                                         'Construction '\n",
      "                                                                         'Project '\n",
      "                                                                         'Manager '\n",
      "                                                                         'Intern, '\n",
      "                                                                         'Civil '\n",
      "                                                                         'Engineers, '\n",
      "                                                                         'Assistant '\n",
      "                                                                         'Civil '\n",
      "                                                                         'Engineers',\n",
      "              'Start Date of the proposed contract': '1/15/15'}],\n",
      " 'context': 'Notice of Intent to Issue New Solicitation(s) Not Included in '\n",
      "            'FY 2015 Annual Contracting Plan and Schedule'}\n"
     ]
    },
    {
     "data": {
      "text/html": [
       "<hr />"
      ],
      "text/plain": [
       "<IPython.core.display.HTML object>"
      ]
     },
     "metadata": {},
     "output_type": "display_data"
    },
    {
     "data": {
      "text/html": [
       "<p> <u>Notice of Intent to Issue New Solicitation(s) Not Included in FY 2015 Annual Contracting Plan and Schedule </u></p> <p> &nbsp;</p> <p> <strong>NOTICE IS HEREBY GIVEN</strong> that the Mayor will be issuing the following solicitation(s) not included in the FY 2015 Annual Contracting Plan and Schedule that is published pursuant to New York City Charter &sect; 312(a):</p> <p> &nbsp;</p> <p> Agency: Department of Health and Mental Hygiene</p> <p> Nature of services sought: Claims Management</p> <p> Start date of the proposed contract: 04/01/2015</p> <p> End date of the proposed contract: 03/31/2017</p> <p> Method of solicitation the agency intends to utilize: Sole Source</p> <p> Personnel in substantially similar titles within agency: None</p> <p> Headcount of personnel in substantially similar titles within agency: 0</p>"
      ],
      "text/plain": [
       "<IPython.core.display.HTML object>"
      ]
     },
     "metadata": {},
     "output_type": "display_data"
    },
    {
     "name": "stdout",
     "output_type": "stream",
     "text": [
      "{'adverts': [{'preamble': 'NOTICE IS HEREBY GIVENthat the Mayor will be '\n",
      "                          'issuing the following solicitation(s) not '\n",
      "                          'included in the FY 2015 Annual Contracting Plan '\n",
      "                          'and Schedule that is published pursuant to New '\n",
      "                          'York City Charter § 312(a):'},\n",
      "             {'Agency': 'Department of Health and Mental Hygiene',\n",
      "              'End date of the proposed contract': '03/31/2017',\n",
      "              'Headcount of personnel in substantially similar titles within agency': '0',\n",
      "              'Method of solicitation the agency intends to utilize': 'Sole '\n",
      "                                                                      'Source',\n",
      "              'Nature of services sought': 'Claims Management',\n",
      "              'Personnel in substantially similar titles within agency': 'None',\n",
      "              'Start date of the proposed contract': '04/01/2015'}],\n",
      " 'context': 'Notice of Intent to Issue New Solicitation(s) Not Included in '\n",
      "            'FY 2015 Annual Contracting Plan and Schedule'}\n"
     ]
    },
    {
     "data": {
      "text/html": [
       "<hr />"
      ],
      "text/plain": [
       "<IPython.core.display.HTML object>"
      ]
     },
     "metadata": {},
     "output_type": "display_data"
    },
    {
     "data": {
      "text/html": [
       "<p> <u>Notice of Intent to Extend Contract(s) Not Included in FY 2015 Annual Contracting Plan and Schedule</u></p> <p> &nbsp;</p> <p> <strong>NOTICE IS HEREBY GIVEN</strong> that the Mayor will be entering into the following extension(s) of (a) contract(s) not included in the FY 2015 Annual Contracting Plan and Schedule that is published pursuant to New York City Charter &sect; 312(a):</p> <p> &nbsp;</p> <p> Agency:&nbsp; Department of Information Technology &amp; Telecommunications</p> <p> FMS Contract #: 858 20121429705</p> <p> Vendor: Accenture Federal Services LLC.</p> <p> Description of services: Systems Integrator Services for HHS Accelerator (Production Services)</p> <p> Award method of original contract: Intergovernmental</p> <p> FMS contract type: Consultant</p> <p> End date of original contract: 2/23/2015</p> <p> Method of renewal/extension the agency intends to utilize:&nbsp; Extension</p> <p> New start date of the proposed renewed/extended contract: 2/24/2015</p> <p> New end date of the proposed renewed/extended contract:&nbsp;&nbsp; 2/23/2016</p> <p> Modifications sought to the nature of services performed under the contract: None</p> <p> Reason(s) the agency intends to renew/extend the contract: Production Services provided by Accenture will include implementation of fixes for Severity 1-4 issues and enhancements to the system that extend beyond standard maintenance.</p> <p> Personnel in substantially similar titles within agency: Project Manager, Senior Project Manager, Senior Manager, Application Support Manager, Application Support Lead, Systems Administrator, Development Manager, Technical Lead, Java Developer, Analytics Architect Manager, Functional Test Lead, Functional Tester.</p> <p> Headcount of personnel in substantially similar titles within agency: 55</p>"
      ],
      "text/plain": [
       "<IPython.core.display.HTML object>"
      ]
     },
     "metadata": {},
     "output_type": "display_data"
    },
    {
     "name": "stdout",
     "output_type": "stream",
     "text": [
      "{'adverts': [{'preamble': 'NOTICE IS HEREBY GIVENthat the Mayor will be '\n",
      "                          'entering into the following extension(s) of (a) '\n",
      "                          'contract(s) not included in the FY 2015 Annual '\n",
      "                          'Contracting Plan and Schedule that is published '\n",
      "                          'pursuant to New York City Charter § 312(a):'},\n",
      "             {'Agency': 'Department of Information Technology & '\n",
      "                        'Telecommunications',\n",
      "              'Award method of original contract': 'Intergovernmental',\n",
      "              'Description of services': 'Systems Integrator Services for '\n",
      "                                         'HHS Accelerator (Production '\n",
      "                                         'Services)',\n",
      "              'End date of original contract': '2/23/2015',\n",
      "              'FMS Contract #': '858 20121429705',\n",
      "              'FMS contract type': 'Consultant',\n",
      "              'Headcount of personnel in substantially similar titles within agency': '55',\n",
      "              'Method of renewal/extension the agency intends to utilize': 'Extension',\n",
      "              'Modifications sought to the nature of services performed under the contract': 'None',\n",
      "              'New end date of the proposed renewed/extended contract': '2/23/2016',\n",
      "              'New start date of the proposed renewed/extended contract': '2/24/2015',\n",
      "              'Personnel in substantially similar titles within agency': 'Project '\n",
      "                                                                         'Manager, '\n",
      "                                                                         'Senior '\n",
      "                                                                         'Project '\n",
      "                                                                         'Manager, '\n",
      "                                                                         'Senior '\n",
      "                                                                         'Manager, '\n",
      "                                                                         'Application '\n",
      "                                                                         'Support '\n",
      "                                                                         'Manager, '\n",
      "                                                                         'Application '\n",
      "                                                                         'Support '\n",
      "                                                                         'Lead, '\n",
      "                                                                         'Systems '\n",
      "                                                                         'Administrator, '\n",
      "                                                                         'Development '\n",
      "                                                                         'Manager, '\n",
      "                                                                         'Technical '\n",
      "                                                                         'Lead, '\n",
      "                                                                         'Java '\n",
      "                                                                         'Developer, '\n",
      "                                                                         'Analytics '\n",
      "                                                                         'Architect '\n",
      "                                                                         'Manager, '\n",
      "                                                                         'Functional '\n",
      "                                                                         'Test '\n",
      "                                                                         'Lead, '\n",
      "                                                                         'Functional '\n",
      "                                                                         'Tester.',\n",
      "              'Reason(s) the agency intends to renew/extend the contract': 'Production '\n",
      "                                                                           'Services '\n",
      "                                                                           'provided '\n",
      "                                                                           'by '\n",
      "                                                                           'Accenture '\n",
      "                                                                           'will '\n",
      "                                                                           'include '\n",
      "                                                                           'implementation '\n",
      "                                                                           'of '\n",
      "                                                                           'fixes '\n",
      "                                                                           'for '\n",
      "                                                                           'Severity '\n",
      "                                                                           '1-4 '\n",
      "                                                                           'issues '\n",
      "                                                                           'and '\n",
      "                                                                           'enhancements '\n",
      "                                                                           'to '\n",
      "                                                                           'the '\n",
      "                                                                           'system '\n",
      "                                                                           'that '\n",
      "                                                                           'extend '\n",
      "                                                                           'beyond '\n",
      "                                                                           'standard '\n",
      "                                                                           'maintenance.',\n",
      "              'Vendor': 'Accenture Federal Services LLC.'}],\n",
      " 'context': 'Notice of Intent to Extend Contract(s) Not Included in FY 2015 '\n",
      "            'Annual Contracting Plan and Schedule'}\n"
     ]
    },
    {
     "data": {
      "text/html": [
       "<hr />"
      ],
      "text/plain": [
       "<IPython.core.display.HTML object>"
      ]
     },
     "metadata": {},
     "output_type": "display_data"
    },
    {
     "data": {
      "text/html": [
       "<p> <u>Notice of Intent to Issue New Solicitation(s) Not Included in FY 2015 Annual Contracting Plan and Schedule </u></p> <p> &nbsp;</p> <p> <strong>NOTICE IS HEREBY GIVEN</strong> that the Mayor will be issuing the following solicitation(s) not included in the FY 2015 Annual Contracting Plan and Schedule that is published pursuant to New York City Charter &sect; 312(a):</p> <p> &nbsp;</p> <p> Agency: Department of Design and Construction</p> <p> Description of services sought:&nbsp;&nbsp; A&amp;E Services for New York City Police Museum Restoration and Systems Replacement</p> <p> Start date of the proposed contract:&nbsp;&nbsp; 4/15/2015</p> <p> End date of the proposed contract:&nbsp;&nbsp; 4/15/2018</p> <p> Method of solicitation the agency intends to utilize:&nbsp;&nbsp; Task Order</p> <p> Personnel in substantially similar titles within agency:&nbsp;&nbsp; None</p> <p> Headcount of personnel in substantially similar titles within agency:&nbsp; 0&nbsp;&nbsp;&nbsp;&nbsp;&nbsp;&nbsp;&nbsp;</p>"
      ],
      "text/plain": [
       "<IPython.core.display.HTML object>"
      ]
     },
     "metadata": {},
     "output_type": "display_data"
    },
    {
     "name": "stdout",
     "output_type": "stream",
     "text": [
      "{'adverts': [{'preamble': 'NOTICE IS HEREBY GIVENthat the Mayor will be '\n",
      "                          'issuing the following solicitation(s) not '\n",
      "                          'included in the FY 2015 Annual Contracting Plan '\n",
      "                          'and Schedule that is published pursuant to New '\n",
      "                          'York City Charter § 312(a):'},\n",
      "             {'Agency': 'Department of Design and Construction',\n",
      "              'Description of services sought': 'A&E Services for New York '\n",
      "                                                'City Police Museum '\n",
      "                                                'Restoration and Systems '\n",
      "                                                'Replacement',\n",
      "              'End date of the proposed contract': '4/15/2018',\n",
      "              'Headcount of personnel in substantially similar titles within agency': '0',\n",
      "              'Method of solicitation the agency intends to utilize': 'Task '\n",
      "                                                                      'Order',\n",
      "              'Personnel in substantially similar titles within agency': 'None',\n",
      "              'Start date of the proposed contract': '4/15/2015'}],\n",
      " 'context': 'Notice of Intent to Issue New Solicitation(s) Not Included in '\n",
      "            'FY 2015 Annual Contracting Plan and Schedule'}\n"
     ]
    },
    {
     "data": {
      "text/html": [
       "<hr />"
      ],
      "text/plain": [
       "<IPython.core.display.HTML object>"
      ]
     },
     "metadata": {},
     "output_type": "display_data"
    },
    {
     "data": {
      "text/html": [
       "<p> <u>Notice of Intent to Extend Contract(s) Not Included in FY 2015 Annual Contracting Plan and Schedule</u></p> <p> &nbsp;</p> <p> <strong>NOTICE IS HEREBY GIVEN</strong> that the Mayor will be entering into the following extension(s) of (a) contract(s) not included in the FY 2015 Annual Contracting Plan and Schedule that is published pursuant to New York City Charter &sect; 312(a):</p> <p> &nbsp;</p> <p> Agency: Department of Parks &amp; Recreation</p> <p> Vendor: Drexel University</p> <p> Nature&nbsp;of services: St. Mary&rsquo;s Green Roof Monitoring</p> <p> Method of renewal/extension the agency intends to utilize: Amendment</p> <p> New start date of the proposed renewed/extended contract: 7/1/2014</p> <p> New end date of the proposed renewed/extended contract: 5/16/2020</p> <p> Modifications sought to the nature of services performed under the contract: None</p> <p> Reason(s) the agency intends to renew/extend the contract: Allow additional time to complete the project.</p> <p> Personnel in substantially similar titles within agency: None</p> <p> Headcount of personnel in substantially similar titles within agency: 0</p>"
      ],
      "text/plain": [
       "<IPython.core.display.HTML object>"
      ]
     },
     "metadata": {},
     "output_type": "display_data"
    },
    {
     "name": "stdout",
     "output_type": "stream",
     "text": [
      "{'adverts': [{'preamble': 'NOTICE IS HEREBY GIVENthat the Mayor will be '\n",
      "                          'entering into the following extension(s) of (a) '\n",
      "                          'contract(s) not included in the FY 2015 Annual '\n",
      "                          'Contracting Plan and Schedule that is published '\n",
      "                          'pursuant to New York City Charter § 312(a):'},\n",
      "             {'Agency': 'Department of Parks & Recreation',\n",
      "              'Headcount of personnel in substantially similar titles within agency': '0',\n",
      "              'Method of renewal/extension the agency intends to utilize': 'Amendment',\n",
      "              'Modifications sought to the nature of services performed under the contract': 'None',\n",
      "              'Nature\\xa0of services': 'St. Mary’s Green Roof Monitoring',\n",
      "              'New end date of the proposed renewed/extended contract': '5/16/2020',\n",
      "              'New start date of the proposed renewed/extended contract': '7/1/2014',\n",
      "              'Personnel in substantially similar titles within agency': 'None',\n",
      "              'Reason(s) the agency intends to renew/extend the contract': 'Allow '\n",
      "                                                                           'additional '\n",
      "                                                                           'time '\n",
      "                                                                           'to '\n",
      "                                                                           'complete '\n",
      "                                                                           'the '\n",
      "                                                                           'project.',\n",
      "              'Vendor': 'Drexel University'}],\n",
      " 'context': 'Notice of Intent to Extend Contract(s) Not Included in FY 2015 '\n",
      "            'Annual Contracting Plan and Schedule'}\n"
     ]
    },
    {
     "data": {
      "text/html": [
       "<hr />"
      ],
      "text/plain": [
       "<IPython.core.display.HTML object>"
      ]
     },
     "metadata": {},
     "output_type": "display_data"
    },
    {
     "data": {
      "text/html": [
       "<p> <u>Notice of Intent to Extend Contract(s) Not Included in FY 2015 Annual Contracting Plan and Schedule</u></p> <p> &nbsp;</p> <p> <strong>NOTICE IS HEREBY GIVEN</strong> that the Mayor will be entering into the following extension(s) of (a) contract(s) not included in the FY 2015 Annual Contracting Plan and Schedule that is published pursuant to New York City Charter &sect; 312(a):</p> <p> &nbsp;</p> <p> Agency: Office of Labor Relations</p> <p> Vendor: Aon Consulting</p> <p> Nature of services: Actuarial and Benefits Consulting</p> <p> End date of original contract: 11/30/2014</p> <p> Method of renewal agency intends to utilize:&nbsp;Renewal</p> <p> New start date of the proposed renewed contract: 12/01/2014</p> <p> New end date of the proposed renewed contract: 05 31/2015</p> <p> Modifications sought to nature of services performed under the contract: None</p> <p> Reason(s) the agency intends to renew the contract: Agency anticipates need for services for six months while preparing contract for new Actuary</p> <p> Personnel in substantially similar titles within Agency: None</p> <p> Headcount of personnel in substantially similar titles: 0</p>"
      ],
      "text/plain": [
       "<IPython.core.display.HTML object>"
      ]
     },
     "metadata": {},
     "output_type": "display_data"
    },
    {
     "name": "stdout",
     "output_type": "stream",
     "text": [
      "{'adverts': [{'preamble': 'NOTICE IS HEREBY GIVENthat the Mayor will be '\n",
      "                          'entering into the following extension(s) of (a) '\n",
      "                          'contract(s) not included in the FY 2015 Annual '\n",
      "                          'Contracting Plan and Schedule that is published '\n",
      "                          'pursuant to New York City Charter § 312(a):'},\n",
      "             {'Agency': 'Office of Labor Relations',\n",
      "              'End date of original contract': '11/30/2014',\n",
      "              'Headcount of personnel in substantially similar titles': '0',\n",
      "              'Method of renewal agency intends to utilize': 'Renewal',\n",
      "              'Modifications sought to nature of services performed under the contract': 'None',\n",
      "              'Nature of services': 'Actuarial and Benefits Consulting',\n",
      "              'New end date of the proposed renewed contract': '05 31/2015',\n",
      "              'New start date of the proposed renewed contract': '12/01/2014',\n",
      "              'Personnel in substantially similar titles within Agency': 'None',\n",
      "              'Reason(s) the agency intends to renew the contract': 'Agency '\n",
      "                                                                    'anticipates '\n",
      "                                                                    'need '\n",
      "                                                                    'for '\n",
      "                                                                    'services '\n",
      "                                                                    'for '\n",
      "                                                                    'six '\n",
      "                                                                    'months '\n",
      "                                                                    'while '\n",
      "                                                                    'preparing '\n",
      "                                                                    'contract '\n",
      "                                                                    'for '\n",
      "                                                                    'new '\n",
      "                                                                    'Actuary',\n",
      "              'Vendor': 'Aon Consulting'}],\n",
      " 'context': 'Notice of Intent to Extend Contract(s) Not Included in FY 2015 '\n",
      "            'Annual Contracting Plan and Schedule'}\n"
     ]
    },
    {
     "data": {
      "text/html": [
       "<hr />"
      ],
      "text/plain": [
       "<IPython.core.display.HTML object>"
      ]
     },
     "metadata": {},
     "output_type": "display_data"
    },
    {
     "data": {
      "text/html": [
       "<p> <u>Notice of Intent to Issue New Solicitation(s) Not Included in FY 2015 Annual Contracting Plan and Schedule </u></p> <p> &nbsp;</p> <p> <strong>NOTICE IS HEREBY GIVEN</strong> that the Mayor will be issuing the following solicitation(s) not included in the FY 2015 Annual Contracting Plan and Schedule that is published pursuant to New York City Charter &sect; 312(a):</p> <p> &nbsp;</p> <p> Agency: Human Resources Administration</p> <p> Description of services sought: Equipment Pickup &amp; Delivery Services</p> <p> Start date of the proposed contract: 11/01/15</p> <p> End date of the proposed contract: 10/31/18</p> <p> Method of solicitation the agency intends to utilize: Competitive Sealed Bid</p> <p> Personnel in substantially similar titles within agency: None</p> <p> Headcount of personnel in substantially similar titles within agency: 0</p> <p> &nbsp;</p> <p> &nbsp;</p> <p> Agency: Human Resources Administration</p> <p> Description of services sought: Mail Pickup &amp; Delivery Services</p> <p> Start date of the proposed contract: 08/01/15</p> <p> End date of the proposed contract: 07/31/18</p> <p> Method of solicitation the agency intends to utilize: Competitive Sealed Bid</p> <p> Procurement Personnel in substantially similar titles within agency: None</p> <p> Headcount of personnel in substantially similar titles within agency: 0</p> <p> &nbsp;</p>"
      ],
      "text/plain": [
       "<IPython.core.display.HTML object>"
      ]
     },
     "metadata": {},
     "output_type": "display_data"
    },
    {
     "name": "stdout",
     "output_type": "stream",
     "text": [
      "{'adverts': [{'preamble': 'NOTICE IS HEREBY GIVENthat the Mayor will be '\n",
      "                          'issuing the following solicitation(s) not '\n",
      "                          'included in the FY 2015 Annual Contracting Plan '\n",
      "                          'and Schedule that is published pursuant to New '\n",
      "                          'York City Charter § 312(a):'},\n",
      "             {'Agency': 'Human Resources Administration',\n",
      "              'Description of services sought': 'Equipment Pickup & '\n",
      "                                                'Delivery Services',\n",
      "              'End date of the proposed contract': '10/31/18',\n",
      "              'Headcount of personnel in substantially similar titles within agency': '0',\n",
      "              'Method of solicitation the agency intends to utilize': 'Competitive '\n",
      "                                                                      'Sealed '\n",
      "                                                                      'Bid',\n",
      "              'Personnel in substantially similar titles within agency': 'None',\n",
      "              'Start date of the proposed contract': '11/01/15'},\n",
      "             {'Agency': 'Human Resources Administration',\n",
      "              'Description of services sought': 'Mail Pickup & Delivery '\n",
      "                                                'Services',\n",
      "              'End date of the proposed contract': '07/31/18',\n",
      "              'Headcount of personnel in substantially similar titles within agency': '0',\n",
      "              'Method of solicitation the agency intends to utilize': 'Competitive '\n",
      "                                                                      'Sealed '\n",
      "                                                                      'Bid',\n",
      "              'Procurement Personnel in substantially similar titles within agency': 'None',\n",
      "              'Start date of the proposed contract': '08/01/15'}],\n",
      " 'context': 'Notice of Intent to Issue New Solicitation(s) Not Included in '\n",
      "            'FY 2015 Annual Contracting Plan and Schedule'}\n"
     ]
    },
    {
     "data": {
      "text/html": [
       "<hr />"
      ],
      "text/plain": [
       "<IPython.core.display.HTML object>"
      ]
     },
     "metadata": {},
     "output_type": "display_data"
    },
    {
     "data": {
      "text/html": [
       "<p> <u>Notice of Intent to Issue New Solicitation(s) Not Included in FY 2015 Annual Contracting Plan and Schedule </u></p> <p> &nbsp;</p> <p> <strong>NOTICE IS HEREBY GIVEN</strong> that the Mayor will be issuing the following solicitation(s) not included in the FY 2015 Annual Contracting Plan and Schedule that is published pursuant to New York City Charter &sect; 312(a):</p> <p> &nbsp;</p> <p> Agency: Department of Parks and Recreation</p> <p> Nature of Services Sought:&nbsp; On-Call Master Agreement for Construction Management Services for Projects Greater Than $3,000,000</p> <p> Start Date:&nbsp; 4/1/2015</p> <p> End Date:&nbsp;&nbsp; 3/30/2018</p> <p> Method of Solicitation the Agency intends to utilize:&nbsp; Task Order</p> <p> Personnel in substantially similar titles within Agency:&nbsp; Project Manager, Associate Project Manager, Construction Project Manager, Construction Project Manager Intern</p> <p> Headcount of personnel in substantially similar titles within Agency:&nbsp; 127</p>"
      ],
      "text/plain": [
       "<IPython.core.display.HTML object>"
      ]
     },
     "metadata": {},
     "output_type": "display_data"
    },
    {
     "name": "stdout",
     "output_type": "stream",
     "text": [
      "{'adverts': [{'preamble': 'NOTICE IS HEREBY GIVENthat the Mayor will be '\n",
      "                          'issuing the following solicitation(s) not '\n",
      "                          'included in the FY 2015 Annual Contracting Plan '\n",
      "                          'and Schedule that is published pursuant to New '\n",
      "                          'York City Charter § 312(a):'},\n",
      "             {'Agency': 'Department of Parks and Recreation',\n",
      "              'End Date': '3/30/2018',\n",
      "              'Headcount of personnel in substantially similar titles within Agency': '127',\n",
      "              'Method of Solicitation the Agency intends to utilize': 'Task '\n",
      "                                                                      'Order',\n",
      "              'Nature of Services Sought': 'On-Call Master Agreement for '\n",
      "                                           'Construction Management '\n",
      "                                           'Services for Projects Greater '\n",
      "                                           'Than $3,000,000',\n",
      "              'Personnel in substantially similar titles within Agency': 'Project '\n",
      "                                                                         'Manager, '\n",
      "                                                                         'Associate '\n",
      "                                                                         'Project '\n",
      "                                                                         'Manager, '\n",
      "                                                                         'Construction '\n",
      "                                                                         'Project '\n",
      "                                                                         'Manager, '\n",
      "                                                                         'Construction '\n",
      "                                                                         'Project '\n",
      "                                                                         'Manager '\n",
      "                                                                         'Intern',\n",
      "              'Start Date': '4/1/2015'}],\n",
      " 'context': 'Notice of Intent to Issue New Solicitation(s) Not Included in '\n",
      "            'FY 2015 Annual Contracting Plan and Schedule'}\n"
     ]
    },
    {
     "data": {
      "text/html": [
       "<hr />"
      ],
      "text/plain": [
       "<IPython.core.display.HTML object>"
      ]
     },
     "metadata": {},
     "output_type": "display_data"
    },
    {
     "data": {
      "text/html": [
       "<p> <u>Notice of Intent to Issue New Solicitation(s) Not Included in FY 2015 Annual Contracting Plan and Schedule </u></p> <p> &nbsp;</p> <p> <strong>NOTICE IS HEREBY GIVEN</strong> that the Mayor will be issuing the following solicitation(s) not included in the FY 2015 Annual Contracting Plan and Schedule that is published pursuant to New York City Charter &sect; 312(a):</p> <p> &nbsp;</p> <p> Agency: Administration for Children Services</p> <p> Description of services sought: Online Child Assessment GOLD portfolios</p> <p> Start date of the proposed contract: 10/01/14</p> <p> End date of the proposed contract: 9/30/15</p> <p> Method of solicitation the agency intends to utilize: Negotiated Acquisition Extension</p> <p> Personnel in substantially similar titles within agency: None</p> <p> Headcount of personnel in substantially similar titles within agency: 0</p>"
      ],
      "text/plain": [
       "<IPython.core.display.HTML object>"
      ]
     },
     "metadata": {},
     "output_type": "display_data"
    },
    {
     "name": "stdout",
     "output_type": "stream",
     "text": [
      "{'adverts': [{'preamble': 'NOTICE IS HEREBY GIVENthat the Mayor will be '\n",
      "                          'issuing the following solicitation(s) not '\n",
      "                          'included in the FY 2015 Annual Contracting Plan '\n",
      "                          'and Schedule that is published pursuant to New '\n",
      "                          'York City Charter § 312(a):'},\n",
      "             {'Agency': 'Administration for Children Services',\n",
      "              'Description of services sought': 'Online Child Assessment '\n",
      "                                                'GOLD portfolios',\n",
      "              'End date of the proposed contract': '9/30/15',\n",
      "              'Headcount of personnel in substantially similar titles within agency': '0',\n",
      "              'Method of solicitation the agency intends to utilize': 'Negotiated '\n",
      "                                                                      'Acquisition '\n",
      "                                                                      'Extension',\n",
      "              'Personnel in substantially similar titles within agency': 'None',\n",
      "              'Start date of the proposed contract': '10/01/14'}],\n",
      " 'context': 'Notice of Intent to Issue New Solicitation(s) Not Included in '\n",
      "            'FY 2015 Annual Contracting Plan and Schedule'}\n"
     ]
    },
    {
     "data": {
      "text/html": [
       "<hr />"
      ],
      "text/plain": [
       "<IPython.core.display.HTML object>"
      ]
     },
     "metadata": {},
     "output_type": "display_data"
    },
    {
     "data": {
      "text/html": [
       "<p> <u>Notice of Intent to Issue New Solicitation(s) Not Included in FY 2015 Annual Contracting Plan and Schedule </u></p> <p> &nbsp;</p> <p> <strong>NOTICE IS HEREBY GIVEN</strong> that the Mayor will be issuing the following solicitation(s) not included in the FY 2015 Annual Contracting Plan and Schedule that is published pursuant to New York City Charter &sect; 312(a):</p> <p> &nbsp;</p> <p> Agency: Department of Information Technology &amp; Telecommunications</p> <p> Nature of services sought:&nbsp; Manage the development and communications of the integration strategy, service and component communication requirements; design integration architecture for security, performance, scalability and fault-tolerance requirements; and other special integration architecture initiatives for&nbsp; the ECTP System.</p> <p> Start date of the proposed contract: 2/15/15</p> <p> End date of the proposed contract:&nbsp; 12/31/15</p> <p> Method of solicitation the agency intends to utilize:&nbsp; Task Order</p> <p> Personnel in substantially similar titles within agency: None</p> <p> Headcount of personnel in substantially similar titles within agency:&nbsp; 0</p> <p> &nbsp;</p> <p> Agency: Department of Information Technology &amp; Telecommunications</p> <p> Nature of services sought: Network Subject Matter Expert to ensure the system design and architecture meet the core technology requirements of the ECTP program in the areas of networking, facilities and infrastructure.</p> <p> Start date of the proposed contract: 1/1/15</p> <p> End date of the proposed contract: 12/31/15</p> <p> Method of solicitation the agency intends to utilize:&nbsp; Task Order</p> <p> Personnel in substantially similar titles within agency:&nbsp; Network Engineer</p> <p> Headcount of personnel in substantially similar titles within agency:&nbsp; 6</p> <p> &nbsp;</p>"
      ],
      "text/plain": [
       "<IPython.core.display.HTML object>"
      ]
     },
     "metadata": {},
     "output_type": "display_data"
    },
    {
     "name": "stdout",
     "output_type": "stream",
     "text": [
      "{'adverts': [{'preamble': 'NOTICE IS HEREBY GIVENthat the Mayor will be '\n",
      "                          'issuing the following solicitation(s) not '\n",
      "                          'included in the FY 2015 Annual Contracting Plan '\n",
      "                          'and Schedule that is published pursuant to New '\n",
      "                          'York City Charter § 312(a):'},\n",
      "             {'Agency': 'Department of Information Technology & '\n",
      "                        'Telecommunications',\n",
      "              'End date of the proposed contract': '12/31/15',\n",
      "              'Headcount of personnel in substantially similar titles within agency': '0',\n",
      "              'Method of solicitation the agency intends to utilize': 'Task '\n",
      "                                                                      'Order',\n",
      "              'Nature of services sought': 'Manage the development and '\n",
      "                                           'communications of the '\n",
      "                                           'integration strategy, service '\n",
      "                                           'and component communication '\n",
      "                                           'requirements; design '\n",
      "                                           'integration architecture for '\n",
      "                                           'security, performance, '\n",
      "                                           'scalability and '\n",
      "                                           'fault-tolerance requirements; '\n",
      "                                           'and other special integration '\n",
      "                                           'architecture initiatives '\n",
      "                                           'for\\xa0 the ECTP System.',\n",
      "              'Personnel in substantially similar titles within agency': 'None',\n",
      "              'Start date of the proposed contract': '2/15/15'},\n",
      "             {'Agency': 'Department of Information Technology & '\n",
      "                        'Telecommunications',\n",
      "              'End date of the proposed contract': '12/31/15',\n",
      "              'Headcount of personnel in substantially similar titles within agency': '6',\n",
      "              'Method of solicitation the agency intends to utilize': 'Task '\n",
      "                                                                      'Order',\n",
      "              'Nature of services sought': 'Network Subject Matter Expert '\n",
      "                                           'to ensure the system design '\n",
      "                                           'and architecture meet the core '\n",
      "                                           'technology requirements of the '\n",
      "                                           'ECTP program in the areas of '\n",
      "                                           'networking, facilities and '\n",
      "                                           'infrastructure.',\n",
      "              'Personnel in substantially similar titles within agency': 'Network '\n",
      "                                                                         'Engineer',\n",
      "              'Start date of the proposed contract': '1/1/15'}],\n",
      " 'context': 'Notice of Intent to Issue New Solicitation(s) Not Included in '\n",
      "            'FY 2015 Annual Contracting Plan and Schedule'}\n"
     ]
    },
    {
     "data": {
      "text/html": [
       "<hr />"
      ],
      "text/plain": [
       "<IPython.core.display.HTML object>"
      ]
     },
     "metadata": {},
     "output_type": "display_data"
    },
    {
     "data": {
      "text/html": [
       "<p> <u>Notice of Intent to Issue New Solicitation(s) Not Included in FY 2015 Annual Contracting Plan and Schedule </u></p> <p> &nbsp;</p> <p> <strong>NOTICE IS HEREBY GIVEN</strong> that the Mayor will be issuing the following solicitation(s) not included in the FY 2015 Annual Contracting Plan and Schedule that is published pursuant to New York City Charter &sect; 312(a):</p> <p> &nbsp;</p> <p> Agency: Department of Parks and Recreation</p> <p> &nbsp;</p> <p> Nature of services sought:&nbsp; Landscape Design Services for the construction of synthetic turf</p> <p> fields, located at Maurice Park Ballfields between 54th Avenue and Borden Avenue, and Maurice and 63rd Street, Borough of Queens</p> <p> &nbsp;</p> <p> Start date of the proposed contract:&nbsp; 3/30/2015</p> <p> End date of the proposed contract:&nbsp; 9/30/2015</p> <p> &nbsp;</p> <p> Method of Solicitation the Agency intends to utilize:&nbsp; Task Order</p> <p> &nbsp;</p> <p> Personnel in substantially similar titles within Agency: Landscape Architect, Assistant</p> <p> Landscape Architect, Landscape Architect Intern, Project Manager, Associate Project Manager</p> <p> &nbsp;</p> <p> Headcount of personnel in substantially similar titles within Agency: 134</p>"
      ],
      "text/plain": [
       "<IPython.core.display.HTML object>"
      ]
     },
     "metadata": {},
     "output_type": "display_data"
    },
    {
     "name": "stdout",
     "output_type": "stream",
     "text": [
      "{'adverts': [{'preamble': 'NOTICE IS HEREBY GIVENthat the Mayor will be '\n",
      "                          'issuing the following solicitation(s) not '\n",
      "                          'included in the FY 2015 Annual Contracting Plan '\n",
      "                          'and Schedule that is published pursuant to New '\n",
      "                          'York City Charter § 312(a):'},\n",
      "             {'Agency': 'Department of Parks and Recreation',\n",
      "              'End date of the proposed contract': '9/30/2015',\n",
      "              'Headcount of personnel in substantially similar titles within Agency': '134',\n",
      "              'Method of Solicitation the Agency intends to utilize': 'Task '\n",
      "                                                                      'Order',\n",
      "              'Nature of services sought': 'Landscape Design Services for '\n",
      "                                           'the construction of synthetic '\n",
      "                                           'turf',\n",
      "              'Personnel in substantially similar titles within Agency': 'Landscape '\n",
      "                                                                         'Architect, '\n",
      "                                                                         'Assistant',\n",
      "              'Start date of the proposed contract': '3/30/2015'}],\n",
      " 'context': 'Notice of Intent to Issue New Solicitation(s) Not Included in '\n",
      "            'FY 2015 Annual Contracting Plan and Schedule'}\n"
     ]
    },
    {
     "data": {
      "text/html": [
       "<hr />"
      ],
      "text/plain": [
       "<IPython.core.display.HTML object>"
      ]
     },
     "metadata": {},
     "output_type": "display_data"
    },
    {
     "data": {
      "text/html": [
       "<p> <u>Notice of Intent to Extend Contract(s) Not Included in FY 2015 Annual Contracting Plan and Schedule</u></p> <p> &nbsp;</p> <p> <strong>NOTICE IS HEREBY GIVEN</strong> that the Mayor will be entering into the following extension(s) of (a) contract(s) not included in the FY 2015 Annual Contracting Plan and Schedule that is published pursuant to New York City Charter &sect; 312(a):</p> <p> &nbsp;</p> <p> Agency: Department of Environmental Protection</p> <p> Vendor:&nbsp; Watershed Agricultural Council, Inc.</p> <p> Nature of services:&nbsp; Development of the Whole Farm Easement Program in the New York City Watershed</p> <p> Method of renewal/extension the agency intends to utilize: Amendment Extension</p> <p> New start date of the proposed renewed/extended contract: 09/15/13</p> <p> New end date of the proposed renewed/extended contract:&nbsp;&nbsp; 09/15/15</p> <p> Modifications sought to the nature of services performed under the contract:&nbsp;&nbsp;&nbsp; none</p> <p> Reason(s) the agency intends to renew/extend the contract: Extension of time is to allow for the continuation of the Whole Farm Easement Program and full expenditure of contract funds earmarked for the acquisition of conservation easements pursuant to the FAD.&nbsp;</p> <p> Personnel in substantially similar titles within agency:&nbsp;&nbsp; None</p> <p> Headcount of personnel in substantially similar titles within agency: 0</p>"
      ],
      "text/plain": [
       "<IPython.core.display.HTML object>"
      ]
     },
     "metadata": {},
     "output_type": "display_data"
    },
    {
     "name": "stdout",
     "output_type": "stream",
     "text": [
      "{'adverts': [{'preamble': 'NOTICE IS HEREBY GIVENthat the Mayor will be '\n",
      "                          'entering into the following extension(s) of (a) '\n",
      "                          'contract(s) not included in the FY 2015 Annual '\n",
      "                          'Contracting Plan and Schedule that is published '\n",
      "                          'pursuant to New York City Charter § 312(a):'},\n",
      "             {'Agency': 'Department of Environmental Protection',\n",
      "              'Headcount of personnel in substantially similar titles within agency': '0',\n",
      "              'Method of renewal/extension the agency intends to utilize': 'Amendment '\n",
      "                                                                           'Extension',\n",
      "              'Modifications sought to the nature of services performed under the contract': 'none',\n",
      "              'Nature of services': 'Development of the Whole Farm '\n",
      "                                    'Easement Program in the New York City '\n",
      "                                    'Watershed',\n",
      "              'New end date of the proposed renewed/extended contract': '09/15/15',\n",
      "              'New start date of the proposed renewed/extended contract': '09/15/13',\n",
      "              'Personnel in substantially similar titles within agency': 'None',\n",
      "              'Reason(s) the agency intends to renew/extend the contract': 'Extension '\n",
      "                                                                           'of '\n",
      "                                                                           'time '\n",
      "                                                                           'is '\n",
      "                                                                           'to '\n",
      "                                                                           'allow '\n",
      "                                                                           'for '\n",
      "                                                                           'the '\n",
      "                                                                           'continuation '\n",
      "                                                                           'of '\n",
      "                                                                           'the '\n",
      "                                                                           'Whole '\n",
      "                                                                           'Farm '\n",
      "                                                                           'Easement '\n",
      "                                                                           'Program '\n",
      "                                                                           'and '\n",
      "                                                                           'full '\n",
      "                                                                           'expenditure '\n",
      "                                                                           'of '\n",
      "                                                                           'contract '\n",
      "                                                                           'funds '\n",
      "                                                                           'earmarked '\n",
      "                                                                           'for '\n",
      "                                                                           'the '\n",
      "                                                                           'acquisition '\n",
      "                                                                           'of '\n",
      "                                                                           'conservation '\n",
      "                                                                           'easements '\n",
      "                                                                           'pursuant '\n",
      "                                                                           'to '\n",
      "                                                                           'the '\n",
      "                                                                           'FAD.',\n",
      "              'Vendor': 'Watershed Agricultural Council, Inc.'}],\n",
      " 'context': 'Notice of Intent to Extend Contract(s) Not Included in FY 2015 '\n",
      "            'Annual Contracting Plan and Schedule'}\n"
     ]
    },
    {
     "data": {
      "text/html": [
       "<hr />"
      ],
      "text/plain": [
       "<IPython.core.display.HTML object>"
      ]
     },
     "metadata": {},
     "output_type": "display_data"
    },
    {
     "data": {
      "text/html": [
       "<p> <u>Notice of Intent to Issue New Solicitation(s) Not Included in FY 2015 Annual Contracting Plan and Schedule </u></p> <p> &nbsp;</p> <p> <strong>NOTICE IS HEREBY GIVEN</strong> that the Mayor will be issuing the following solicitation(s) not included in the FY 2015 Annual Contracting Plan and Schedule that is published pursuant to New York City Charter &sect; 312(a):</p> <p> &nbsp;</p> <p> Agency: Taxi and Limousine Commission</p> <p> Description of services sought: New York State Vehicle Inspection Program Two (NYSVIP2) Network, Warranty, and Training Services</p> <p> Start date of the proposed contract: 7/1/14</p> <p> End date of the proposed contract: 11/30/20</p> <p> Method of solicitation the agency intends to utilize: Required Source</p> <p> Personnel in substantially similar titles within agency: none&nbsp;&nbsp;</p> <p> Headcount of personnel in substantially similar titles within agency: 0</p>"
      ],
      "text/plain": [
       "<IPython.core.display.HTML object>"
      ]
     },
     "metadata": {},
     "output_type": "display_data"
    },
    {
     "name": "stdout",
     "output_type": "stream",
     "text": [
      "{'adverts': [{'preamble': 'NOTICE IS HEREBY GIVENthat the Mayor will be '\n",
      "                          'issuing the following solicitation(s) not '\n",
      "                          'included in the FY 2015 Annual Contracting Plan '\n",
      "                          'and Schedule that is published pursuant to New '\n",
      "                          'York City Charter § 312(a):'},\n",
      "             {'Agency': 'Taxi and Limousine Commission',\n",
      "              'Description of services sought': 'New York State Vehicle '\n",
      "                                                'Inspection Program Two '\n",
      "                                                '(NYSVIP2) Network, '\n",
      "                                                'Warranty, and Training '\n",
      "                                                'Services',\n",
      "              'End date of the proposed contract': '11/30/20',\n",
      "              'Headcount of personnel in substantially similar titles within agency': '0',\n",
      "              'Method of solicitation the agency intends to utilize': 'Required '\n",
      "                                                                      'Source',\n",
      "              'Personnel in substantially similar titles within agency': 'none',\n",
      "              'Start date of the proposed contract': '7/1/14'}],\n",
      " 'context': 'Notice of Intent to Issue New Solicitation(s) Not Included in '\n",
      "            'FY 2015 Annual Contracting Plan and Schedule'}\n"
     ]
    },
    {
     "data": {
      "text/html": [
       "<hr />"
      ],
      "text/plain": [
       "<IPython.core.display.HTML object>"
      ]
     },
     "metadata": {},
     "output_type": "display_data"
    },
    {
     "data": {
      "text/html": [
       "<p> <u>Notice of Intent to Issue New Solicitation(s) Not Included in FY 2015 Annual Contracting Plan and Schedule </u></p> <p> &nbsp;</p> <p> <strong>NOTICE IS HEREBY GIVEN</strong> that the Mayor will be issuing the following solicitation(s) not included in the FY 2015 Annual Contracting Plan and Schedule that is published pursuant to New York City Charter &sect; 312(a):</p> <p> &nbsp;</p> <p> Agency: Department of Sanitation</p> <p> Description of services sought: The services being procured are for the labor, materials, equipment, transport, facilities, and resources necessary and required to accept Non-Putrescible Solid Waste (&ldquo;NPSW&rdquo;). NPSW includes, but is not limited to, dirt, rock, wood, metal, plaster board, and other debris from construction and demolition which may be collected by DSNY and its authorized representatives from any location in New York City</p> <p> Start date of the proposed contract:&nbsp;&nbsp; 11/01/2015</p> <p> End date of the proposed contract:&nbsp;&nbsp; 10/31/2018</p> <p> Method of solicitation the agency intends to utilize:&nbsp;&nbsp;&nbsp;Competitive Sealed Bid</p> <p> Personnel in substantially similar titles within agency:&nbsp;&nbsp;None</p> <p> Headcount of personnel in substantially similar titles within agency:&nbsp;&nbsp;0</p> <p> &nbsp;</p>"
      ],
      "text/plain": [
       "<IPython.core.display.HTML object>"
      ]
     },
     "metadata": {},
     "output_type": "display_data"
    },
    {
     "name": "stdout",
     "output_type": "stream",
     "text": [
      "{'adverts': [{'preamble': 'NOTICE IS HEREBY GIVENthat the Mayor will be '\n",
      "                          'issuing the following solicitation(s) not '\n",
      "                          'included in the FY 2015 Annual Contracting Plan '\n",
      "                          'and Schedule that is published pursuant to New '\n",
      "                          'York City Charter § 312(a):'},\n",
      "             {'Agency': 'Department of Sanitation',\n",
      "              'Description of services sought': 'The services being '\n",
      "                                                'procured are for the '\n",
      "                                                'labor, materials, '\n",
      "                                                'equipment, transport, '\n",
      "                                                'facilities, and resources '\n",
      "                                                'necessary and required to '\n",
      "                                                'accept Non-Putrescible '\n",
      "                                                'Solid Waste (“NPSW”). '\n",
      "                                                'NPSW includes, but is not '\n",
      "                                                'limited to, dirt, rock, '\n",
      "                                                'wood, metal, plaster '\n",
      "                                                'board, and other debris '\n",
      "                                                'from construction and '\n",
      "                                                'demolition which may be '\n",
      "                                                'collected by DSNY and its '\n",
      "                                                'authorized '\n",
      "                                                'representatives from any '\n",
      "                                                'location in New York City',\n",
      "              'End date of the proposed contract': '10/31/2018',\n",
      "              'Headcount of personnel in substantially similar titles within agency': '0',\n",
      "              'Method of solicitation the agency intends to utilize': 'Competitive '\n",
      "                                                                      'Sealed '\n",
      "                                                                      'Bid',\n",
      "              'Personnel in substantially similar titles within agency': 'None',\n",
      "              'Start date of the proposed contract': '11/01/2015'}],\n",
      " 'context': 'Notice of Intent to Issue New Solicitation(s) Not Included in '\n",
      "            'FY 2015 Annual Contracting Plan and Schedule'}\n"
     ]
    },
    {
     "data": {
      "text/html": [
       "<hr />"
      ],
      "text/plain": [
       "<IPython.core.display.HTML object>"
      ]
     },
     "metadata": {},
     "output_type": "display_data"
    },
    {
     "data": {
      "text/html": [
       "<p> <u>Notice of Intent to Issue New Solicitation(s) Not Included in FY 2015 Annual Contracting Plan and Schedule </u></p> <p> &nbsp;</p> <p> <strong>NOTICE IS HEREBY GIVEN</strong> that the Mayor will be issuing the following solicitation(s) not included in the FY 2015 Annual Contracting Plan and Schedule that is published pursuant to New York City Charter &sect; 312(a):</p> <p> &nbsp;</p> <p> Agency: Department of Information Technology &amp; Telecommunications</p> <p> Description of services sought: &nbsp;Manage the development and communications of the integration strategy, service and component communication requirements; design integration architecture for security, performance, scalability and fault-tolerance requirements; and other special integration architecture initiatives for &nbsp;the ECTP System.</p> <p> Start date of the proposed contract: 2/15/15</p> <p> End date of the proposed contract:&nbsp; 12/31/15</p> <p> Method of solicitation the agency intends to utilize:&nbsp; Task Order</p> <p> Personnel in substantially similar titles within agency: None</p> <p> Headcount of personnel in substantially similar titles within agency:&nbsp; 0</p> <p> &nbsp;</p> <p> Agency: Department of Information Technology &amp; Telecommunications</p> <p> Description of services sought: Network Subject Matter Expert to ensure the system design and architecture meet the core technology requirements of the ECTP program in the areas of networking, facilities and infrastructure.</p> <p> Start date of the proposed contract: 1/1/15</p> <p> End date of the proposed contract: 12/31/15</p> <p> Method of solicitation the agency intends to utilize:&nbsp; Task Order</p> <p> Personnel in substantially similar titles within agency:&nbsp; Network Engineer</p> <p> Headcount of personnel in substantially similar titles within agency:&nbsp; 6</p> <p> &nbsp;</p> <p> Agency: Department of Information Technology &amp; Telecommunications</p> <p> Description of services sought: &nbsp;NG911 Project Lead is to provide subject matter expertise as well as management, oversight services, and a detailed strategy related to the procurement, design, implementation, and operation for the NG911 project.</p> <p> Start date of the proposed contract: &nbsp;2/15/15</p> <p> End date of the proposed contract:&nbsp; 8/31/16</p> <p> Method of solicitation the agency intends to utilize:&nbsp; Task Order</p> <p> Personnel in substantially similar titles within agency: None</p> <p> Headcount of personnel in substantially similar titles within agency:&nbsp; 0</p> <p> &nbsp;</p> <p> Agency: Department of Information Technology &amp; Telecommunications</p> <p> Description of services sought: &nbsp;Text 911 Project Lead is to provide subject matter expertise as well as management, oversight services, and a detailed strategy related to the procurement, design, implementation, and operation for the Text 911 project.</p> <p> Start date of the proposed contract: 2/15/15</p> <p> End date of the proposed contract:&nbsp; 8/31/16</p> <p> Method of solicitation the agency intends to utilize:&nbsp; Task Order</p> <p> Personnel in substantially similar titles within agency: None</p> <p> Headcount of personnel in substantially similar titles within agency:&nbsp; 0</p>"
      ],
      "text/plain": [
       "<IPython.core.display.HTML object>"
      ]
     },
     "metadata": {},
     "output_type": "display_data"
    },
    {
     "name": "stdout",
     "output_type": "stream",
     "text": [
      "{'adverts': [{'preamble': 'NOTICE IS HEREBY GIVENthat the Mayor will be '\n",
      "                          'issuing the following solicitation(s) not '\n",
      "                          'included in the FY 2015 Annual Contracting Plan '\n",
      "                          'and Schedule that is published pursuant to New '\n",
      "                          'York City Charter § 312(a):'},\n",
      "             {'Agency': 'Department of Information Technology & '\n",
      "                        'Telecommunications',\n",
      "              'Description of services sought': 'Manage the development '\n",
      "                                                'and communications of the '\n",
      "                                                'integration strategy, '\n",
      "                                                'service and component '\n",
      "                                                'communication '\n",
      "                                                'requirements; design '\n",
      "                                                'integration architecture '\n",
      "                                                'for security, '\n",
      "                                                'performance, scalability '\n",
      "                                                'and fault-tolerance '\n",
      "                                                'requirements; and other '\n",
      "                                                'special integration '\n",
      "                                                'architecture initiatives '\n",
      "                                                'for \\xa0the ECTP System.',\n",
      "              'End date of the proposed contract': '12/31/15',\n",
      "              'Headcount of personnel in substantially similar titles within agency': '0',\n",
      "              'Method of solicitation the agency intends to utilize': 'Task '\n",
      "                                                                      'Order',\n",
      "              'Personnel in substantially similar titles within agency': 'None',\n",
      "              'Start date of the proposed contract': '2/15/15'},\n",
      "             {'Agency': 'Department of Information Technology & '\n",
      "                        'Telecommunications',\n",
      "              'Description of services sought': 'Network Subject Matter '\n",
      "                                                'Expert to ensure the '\n",
      "                                                'system design and '\n",
      "                                                'architecture meet the '\n",
      "                                                'core technology '\n",
      "                                                'requirements of the ECTP '\n",
      "                                                'program in the areas of '\n",
      "                                                'networking, facilities '\n",
      "                                                'and infrastructure.',\n",
      "              'End date of the proposed contract': '12/31/15',\n",
      "              'Headcount of personnel in substantially similar titles within agency': '6',\n",
      "              'Method of solicitation the agency intends to utilize': 'Task '\n",
      "                                                                      'Order',\n",
      "              'Personnel in substantially similar titles within agency': 'Network '\n",
      "                                                                         'Engineer',\n",
      "              'Start date of the proposed contract': '1/1/15'},\n",
      "             {'Agency': 'Department of Information Technology & '\n",
      "                        'Telecommunications',\n",
      "              'Description of services sought': 'NG911 Project Lead is to '\n",
      "                                                'provide subject matter '\n",
      "                                                'expertise as well as '\n",
      "                                                'management, oversight '\n",
      "                                                'services, and a detailed '\n",
      "                                                'strategy related to the '\n",
      "                                                'procurement, design, '\n",
      "                                                'implementation, and '\n",
      "                                                'operation for the NG911 '\n",
      "                                                'project.',\n",
      "              'End date of the proposed contract': '8/31/16',\n",
      "              'Headcount of personnel in substantially similar titles within agency': '0',\n",
      "              'Method of solicitation the agency intends to utilize': 'Task '\n",
      "                                                                      'Order',\n",
      "              'Personnel in substantially similar titles within agency': 'None',\n",
      "              'Start date of the proposed contract': '2/15/15'},\n",
      "             {'Agency': 'Department of Information Technology & '\n",
      "                        'Telecommunications',\n",
      "              'Description of services sought': 'Text 911 Project Lead is '\n",
      "                                                'to provide subject matter '\n",
      "                                                'expertise as well as '\n",
      "                                                'management, oversight '\n",
      "                                                'services, and a detailed '\n",
      "                                                'strategy related to the '\n",
      "                                                'procurement, design, '\n",
      "                                                'implementation, and '\n",
      "                                                'operation for the Text '\n",
      "                                                '911 project.',\n",
      "              'End date of the proposed contract': '8/31/16',\n",
      "              'Headcount of personnel in substantially similar titles within agency': '0',\n",
      "              'Method of solicitation the agency intends to utilize': 'Task '\n",
      "                                                                      'Order',\n",
      "              'Personnel in substantially similar titles within agency': 'None',\n",
      "              'Start date of the proposed contract': '2/15/15'}],\n",
      " 'context': 'Notice of Intent to Issue New Solicitation(s) Not Included in '\n",
      "            'FY 2015 Annual Contracting Plan and Schedule'}\n"
     ]
    },
    {
     "data": {
      "text/html": [
       "<hr />"
      ],
      "text/plain": [
       "<IPython.core.display.HTML object>"
      ]
     },
     "metadata": {},
     "output_type": "display_data"
    },
    {
     "data": {
      "text/html": [
       "<p> <u>Notice of Intent to Issue New Solicitation(s) Not Included in FY 2015 Annual Contracting Plan and Schedule </u></p> <p> &nbsp;</p> <p> <strong>NOTICE IS HEREBY GIVEN</strong> that the Mayor will be issuing the following solicitation(s) not included in the FY 2015 Annual Contracting Plan and Schedule that is published pursuant to New York City Charter &sect; 312(a):</p> <p> &nbsp;</p> <p> Agency: Department of Parks and Recreation</p> <p> Nature of Service Sought:&nbsp; Engineering Design Services for bid documents for three (3) sets of modular units at Midland Beach, Staten Island and two (2) sets of modular units at Cedar Grove Beach, Staten Island</p> <p> Start Date:&nbsp; 3/1/2015</p> <p> End Date:&nbsp; &nbsp;3/1/2016</p> <p> Method of Solicitation the Agency intends to utilize:&nbsp; Task Order</p> <p> Personnel in substantially similar titles within Agency:</p> <p> Civil Engineers, Assistant Civil Engineer, Project Manager, Associated Project Manager, Architect, Architect Intern, Assistant Architect, Landmark Preservationist</p> <p> Headcount of personnel in substantially similar titles within Agency:&nbsp; 78</p> <p> &nbsp;</p> <p> Agency: Department of Parks and Recreation&nbsp;&nbsp;&nbsp;&nbsp;&nbsp;&nbsp;&nbsp;&nbsp;&nbsp;&nbsp;&nbsp;&nbsp;&nbsp;&nbsp;&nbsp;&nbsp;&nbsp;</p> <p> Nature of Service Sought:&nbsp; Architectural Design Services for bid documents for three (3) sets of modular units at Midland Beach, Staten Island and two (2) sets of modular units at Cedar Grove Beach, Staten Island</p> <p> Start Date:&nbsp; 3/1/2015</p> <p> End Date:&nbsp; &nbsp;3/1/2016</p> <p> Method of Solicitation the Agency intends to utilize:&nbsp; Task Order</p> <p> Personnel in substantially similar titles within Agency:</p> <p> Architect, Architect Intern, Assistant Architect, Landmarks Preservationist, Project Manager, Associate Project Manager, Civil Engineers, Assistant Civil Engineer</p> <p> Headcount of personnel in substantially similar titles within Agency:&nbsp; 78</p>"
      ],
      "text/plain": [
       "<IPython.core.display.HTML object>"
      ]
     },
     "metadata": {},
     "output_type": "display_data"
    },
    {
     "name": "stdout",
     "output_type": "stream",
     "text": [
      "{'adverts': [{'preamble': 'NOTICE IS HEREBY GIVENthat the Mayor will be '\n",
      "                          'issuing the following solicitation(s) not '\n",
      "                          'included in the FY 2015 Annual Contracting Plan '\n",
      "                          'and Schedule that is published pursuant to New '\n",
      "                          'York City Charter § 312(a):'},\n",
      "             {'Agency': 'Department of Parks and Recreation',\n",
      "              'End Date': '3/1/2016',\n",
      "              'Headcount of personnel in substantially similar titles within Agency': '78',\n",
      "              'Method of Solicitation the Agency intends to utilize': 'Task '\n",
      "                                                                      'Order',\n",
      "              'Nature of Service Sought': 'Engineering Design Services for '\n",
      "                                          'bid documents for three (3) '\n",
      "                                          'sets of modular units at '\n",
      "                                          'Midland Beach, Staten Island '\n",
      "                                          'and two (2) sets of modular '\n",
      "                                          'units at Cedar Grove Beach, '\n",
      "                                          'Staten Island',\n",
      "              'Personnel in substantially similar titles within Agency': '',\n",
      "              'Start Date': '3/1/2015'},\n",
      "             {'Agency': 'Department of Parks and Recreation',\n",
      "              'End Date': '3/1/2016',\n",
      "              'Headcount of personnel in substantially similar titles within Agency': '78',\n",
      "              'Method of Solicitation the Agency intends to utilize': 'Task '\n",
      "                                                                      'Order',\n",
      "              'Nature of Service Sought': 'Architectural Design Services '\n",
      "                                          'for bid documents for three (3) '\n",
      "                                          'sets of modular units at '\n",
      "                                          'Midland Beach, Staten Island '\n",
      "                                          'and two (2) sets of modular '\n",
      "                                          'units at Cedar Grove Beach, '\n",
      "                                          'Staten Island',\n",
      "              'Personnel in substantially similar titles within Agency': '',\n",
      "              'Start Date': '3/1/2015'}],\n",
      " 'context': 'Notice of Intent to Issue New Solicitation(s) Not Included in '\n",
      "            'FY 2015 Annual Contracting Plan and Schedule'}\n"
     ]
    },
    {
     "data": {
      "text/html": [
       "<hr />"
      ],
      "text/plain": [
       "<IPython.core.display.HTML object>"
      ]
     },
     "metadata": {},
     "output_type": "display_data"
    },
    {
     "data": {
      "text/html": [
       "<p> <u>Notice of Intent to Issue New Solicitation(s) Not Included in FY 2015 Annual Contracting Plan and Schedule </u></p> <p> &nbsp;</p> <p> <strong>NOTICE IS HEREBY GIVEN</strong> that the Mayor will be issuing the following solicitation(s) not included in the FY 2015 Annual Contracting Plan and Schedule that is published pursuant to New York City Charter &sect; 312(a):</p> <p> &nbsp;</p> <p> Agency: Department of Parks and Recreation</p> <p> Nature of services sought: Engineering Design Services for the reconstruction of seawalls, bulkheads, piers and paths at various Parks &amp; Recreation facilities located between East 36th and East 125th Streets, along the East River, Borough of Manhattan</p> <p> Start Date of the proposed contract:&nbsp; 3/6/2015</p> <p> End Date of the proposed contract:&nbsp;&nbsp; 1/5/2016</p> <p> Method of Solicitation the Agency intends to utilize:&nbsp; Task Order</p> <p> Personnel in substantially similar titles within Agency:</p> <p> Civil Engineer, Assistant Civil Engineer, Project Manager, Associate Project Manager, Landscape Architect, Assistant Landscape Architect, Landscape Architect Intern</p> <p> Headcount of personnel in substantially similar titles within Agency:&nbsp; 146</p>"
      ],
      "text/plain": [
       "<IPython.core.display.HTML object>"
      ]
     },
     "metadata": {},
     "output_type": "display_data"
    },
    {
     "name": "stdout",
     "output_type": "stream",
     "text": [
      "{'adverts': [{'preamble': 'NOTICE IS HEREBY GIVENthat the Mayor will be '\n",
      "                          'issuing the following solicitation(s) not '\n",
      "                          'included in the FY 2015 Annual Contracting Plan '\n",
      "                          'and Schedule that is published pursuant to New '\n",
      "                          'York City Charter § 312(a):'},\n",
      "             {'Agency': 'Department of Parks and Recreation',\n",
      "              'End Date of the proposed contract': '1/5/2016',\n",
      "              'Headcount of personnel in substantially similar titles within Agency': '146',\n",
      "              'Method of Solicitation the Agency intends to utilize': 'Task '\n",
      "                                                                      'Order',\n",
      "              'Nature of services sought': 'Engineering Design Services '\n",
      "                                           'for the reconstruction of '\n",
      "                                           'seawalls, bulkheads, piers and '\n",
      "                                           'paths at various Parks & '\n",
      "                                           'Recreation facilities located '\n",
      "                                           'between East 36th and East '\n",
      "                                           '125th Streets, along the East '\n",
      "                                           'River, Borough of Manhattan',\n",
      "              'Personnel in substantially similar titles within Agency': '',\n",
      "              'Start Date of the proposed contract': '3/6/2015'}],\n",
      " 'context': 'Notice of Intent to Issue New Solicitation(s) Not Included in '\n",
      "            'FY 2015 Annual Contracting Plan and Schedule'}\n"
     ]
    },
    {
     "data": {
      "text/html": [
       "<hr />"
      ],
      "text/plain": [
       "<IPython.core.display.HTML object>"
      ]
     },
     "metadata": {},
     "output_type": "display_data"
    },
    {
     "data": {
      "text/html": [
       "<p> <u>Notice of Intent to Issue New Solicitation(s) Not Included in FY 2015 Annual Contracting Plan and Schedule </u></p> <p> &nbsp;</p> <p> <strong>NOTICE IS HEREBY GIVEN</strong> that the Mayor will be issuing the following solicitation(s) not included in the FY 2015 Annual Contracting Plan and Schedule that is published pursuant to New York City Charter &sect; 312(a):</p> <p> &nbsp;</p> <p> Agency: Department of Design and Construction</p> <p> Description of services sought:&nbsp;&nbsp; Construction Management Services, New Firehouse/Rescue 2, Brooklyn</p> <p> Start date of the proposed contract:&nbsp;&nbsp; 2/1/2015</p> <p> End date of the proposed contract:&nbsp;&nbsp; 6/10/2017&nbsp;</p> <p> Method of solicitation the agency intends to utilize:&nbsp;&nbsp; Task Order</p> <p> Personnel in substantially similar titles within agency:&nbsp;&nbsp; none</p> <p> Headcount of personnel in substantially similar titles within agency:&nbsp; 0&nbsp;&nbsp;&nbsp;&nbsp;&nbsp;&nbsp;</p> <p> &nbsp;</p> <p> Agency: Department of Design and Construction</p> <p> Description of services sought:&nbsp;&nbsp; Special Inspection and Laboratory Testing Services for demolition of DSNY facilities and construction of a new bulkhead at Gansevoort Peninsula</p> <p> Start date of the proposed contract:&nbsp; 12/15/2014</p> <p> End date of the proposed contract:&nbsp; 12/14/2016&nbsp;&nbsp;&nbsp;&nbsp;&nbsp;&nbsp;&nbsp;&nbsp;&nbsp;&nbsp;&nbsp;&nbsp;&nbsp;&nbsp;&nbsp;</p> <p> Method of solicitation the agency intends to utilize:&nbsp;&nbsp; Task Order</p> <p> Personnel in substantially similar titles within agency:&nbsp; none</p> <p> Headcount of personnel in substantially similar titles within agency:&nbsp; 0</p> <p> &nbsp;</p> <p> Agency: Department of Design and Construction</p> <p> Description of services sought:&nbsp;&nbsp; Design Services, Queens County Farm Museum</p> <p> Start date of the proposed contract:&nbsp;&nbsp; 1/2/2015</p> <p> End date of the proposed contract:&nbsp;&nbsp; 1/2/2017&nbsp;&nbsp;&nbsp;</p> <p> Method of solicitation the agency intends to utilize:&nbsp;&nbsp; Task Order</p> <p> Personnel in substantially similar titles within agency:&nbsp;&nbsp; none</p> <p> Headcount of personnel in substantially similar titles within agency:&nbsp; 0</p> <p> &nbsp;</p> <p> Agency: Department of Design and Construction</p> <p> Description of services sought:&nbsp;&nbsp; Design Services, Two Level Municipal Parking Lot at Queens Boro Hall</p> <p> Start date of the proposed contract:&nbsp;&nbsp; 3/1/2015</p> <p> End date of the proposed contract:&nbsp;&nbsp; 5/1/2015&nbsp;&nbsp;&nbsp;</p> <p> Method of solicitation the agency intends to utilize:&nbsp;&nbsp; Task Order</p> <p> Personnel in substantially similar titles within agency:&nbsp; none</p> <p> Headcount of personnel in substantially similar titles within agency:&nbsp; 0</p>"
      ],
      "text/plain": [
       "<IPython.core.display.HTML object>"
      ]
     },
     "metadata": {},
     "output_type": "display_data"
    },
    {
     "name": "stdout",
     "output_type": "stream",
     "text": [
      "{'adverts': [{'preamble': 'NOTICE IS HEREBY GIVENthat the Mayor will be '\n",
      "                          'issuing the following solicitation(s) not '\n",
      "                          'included in the FY 2015 Annual Contracting Plan '\n",
      "                          'and Schedule that is published pursuant to New '\n",
      "                          'York City Charter § 312(a):'},\n",
      "             {'Agency': 'Department of Design and Construction',\n",
      "              'Description of services sought': 'Construction Management '\n",
      "                                                'Services, New '\n",
      "                                                'Firehouse/Rescue 2, '\n",
      "                                                'Brooklyn',\n",
      "              'End date of the proposed contract': '6/10/2017',\n",
      "              'Headcount of personnel in substantially similar titles within agency': '0',\n",
      "              'Method of solicitation the agency intends to utilize': 'Task '\n",
      "                                                                      'Order',\n",
      "              'Personnel in substantially similar titles within agency': 'none',\n",
      "              'Start date of the proposed contract': '2/1/2015'},\n",
      "             {'Agency': 'Department of Design and Construction',\n",
      "              'Description of services sought': 'Special Inspection and '\n",
      "                                                'Laboratory Testing '\n",
      "                                                'Services for demolition '\n",
      "                                                'of DSNY facilities and '\n",
      "                                                'construction of a new '\n",
      "                                                'bulkhead at Gansevoort '\n",
      "                                                'Peninsula',\n",
      "              'End date of the proposed contract': '12/14/2016',\n",
      "              'Headcount of personnel in substantially similar titles within agency': '0',\n",
      "              'Method of solicitation the agency intends to utilize': 'Task '\n",
      "                                                                      'Order',\n",
      "              'Personnel in substantially similar titles within agency': 'none',\n",
      "              'Start date of the proposed contract': '12/15/2014'},\n",
      "             {'Agency': 'Department of Design and Construction',\n",
      "              'Description of services sought': 'Design Services, Queens '\n",
      "                                                'County Farm Museum',\n",
      "              'End date of the proposed contract': '1/2/2017',\n",
      "              'Headcount of personnel in substantially similar titles within agency': '0',\n",
      "              'Method of solicitation the agency intends to utilize': 'Task '\n",
      "                                                                      'Order',\n",
      "              'Personnel in substantially similar titles within agency': 'none',\n",
      "              'Start date of the proposed contract': '1/2/2015'},\n",
      "             {'Agency': 'Department of Design and Construction',\n",
      "              'Description of services sought': 'Design Services, Two '\n",
      "                                                'Level Municipal Parking '\n",
      "                                                'Lot at Queens Boro Hall',\n",
      "              'End date of the proposed contract': '5/1/2015',\n",
      "              'Headcount of personnel in substantially similar titles within agency': '0',\n",
      "              'Method of solicitation the agency intends to utilize': 'Task '\n",
      "                                                                      'Order',\n",
      "              'Personnel in substantially similar titles within agency': 'none',\n",
      "              'Start date of the proposed contract': '3/1/2015'}],\n",
      " 'context': 'Notice of Intent to Issue New Solicitation(s) Not Included in '\n",
      "            'FY 2015 Annual Contracting Plan and Schedule'}\n"
     ]
    },
    {
     "data": {
      "text/html": [
       "<hr />"
      ],
      "text/plain": [
       "<IPython.core.display.HTML object>"
      ]
     },
     "metadata": {},
     "output_type": "display_data"
    },
    {
     "data": {
      "text/html": [
       "<p> <u>Notice of Intent to Extend Contract(s) Not Included in FY 2015 Annual Contracting Plan and Schedule</u></p> <p> &nbsp;</p> <p> <strong>NOTICE IS HEREBY GIVEN</strong> that the Mayor will be entering into the following extension(s) of (a) contract(s) not included in the FY 2015 Annual Contracting Plan and Schedule that is published pursuant to New York City Charter &sect; 312(a):</p> <p> &nbsp;</p> <p> Agency: Department of Health and Mental Hygiene</p> <p> Vendor: OPAD MEDIA SOLUTIONS LLC</p> <p> Description of services: Media Buyer</p> <p> Method of renewal/extension the agency intends to utilize: Amendment Extension</p> <p> New start date of the proposed renewed/extended contract: 01/01/2015</p> <p> New end date of the proposed renewed/extended contract: 03/31/2015</p> <p> Modifications sought to the nature of services performed under the contract: None</p> <p> Reason(s) the agency intends to renew/extend the contract: Continuation of Services</p> <p> Personnel in substantially similar titles within agency: None</p> <p> Headcount of personnel in substantially similar titles within agency: 0</p>"
      ],
      "text/plain": [
       "<IPython.core.display.HTML object>"
      ]
     },
     "metadata": {},
     "output_type": "display_data"
    },
    {
     "name": "stdout",
     "output_type": "stream",
     "text": [
      "{'adverts': [{'preamble': 'NOTICE IS HEREBY GIVENthat the Mayor will be '\n",
      "                          'entering into the following extension(s) of (a) '\n",
      "                          'contract(s) not included in the FY 2015 Annual '\n",
      "                          'Contracting Plan and Schedule that is published '\n",
      "                          'pursuant to New York City Charter § 312(a):'},\n",
      "             {'Agency': 'Department of Health and Mental Hygiene',\n",
      "              'Description of services': 'Media Buyer',\n",
      "              'Headcount of personnel in substantially similar titles within agency': '0',\n",
      "              'Method of renewal/extension the agency intends to utilize': 'Amendment '\n",
      "                                                                           'Extension',\n",
      "              'Modifications sought to the nature of services performed under the contract': 'None',\n",
      "              'New end date of the proposed renewed/extended contract': '03/31/2015',\n",
      "              'New start date of the proposed renewed/extended contract': '01/01/2015',\n",
      "              'Personnel in substantially similar titles within agency': 'None',\n",
      "              'Reason(s) the agency intends to renew/extend the contract': 'Continuation '\n",
      "                                                                           'of '\n",
      "                                                                           'Services',\n",
      "              'Vendor': 'OPAD MEDIA SOLUTIONS LLC'}],\n",
      " 'context': 'Notice of Intent to Extend Contract(s) Not Included in FY 2015 '\n",
      "            'Annual Contracting Plan and Schedule'}\n"
     ]
    },
    {
     "data": {
      "text/html": [
       "<hr />"
      ],
      "text/plain": [
       "<IPython.core.display.HTML object>"
      ]
     },
     "metadata": {},
     "output_type": "display_data"
    },
    {
     "data": {
      "text/html": [
       "<p> <u>Notice of Intent to Issue New Solicitation(s) Not Included in FY 2015 Annual Contracting Plan and Schedule </u></p> <p> &nbsp;</p> <p> <strong>NOTICE IS HEREBY GIVEN</strong> that the Mayor will be issuing the following solicitation(s) not included in the FY 2015 Annual Contracting Plan and Schedule that is published pursuant to New York City Charter &sect; 312(a):</p> <p> &nbsp;</p> <p> Agency: Department of Health and Mental Hygiene</p> <p> Description of services sought: Helicopter Storage and Maintenance&nbsp;&nbsp;&nbsp;&nbsp;&nbsp;&nbsp;&nbsp;&nbsp;&nbsp;&nbsp;</p> <p> Start date of the proposed contract: 07/01/2016</p> <p> End date of the proposed contract: 06/30/2019</p> <p> Method of solicitation the agency intends to utilize: Competitive Sealed Bid</p> <p> Personnel in substantially similar titles within agency:&nbsp; None</p> <p> Headcount of personnel in substantially similar titles within agency:&nbsp; 0</p>"
      ],
      "text/plain": [
       "<IPython.core.display.HTML object>"
      ]
     },
     "metadata": {},
     "output_type": "display_data"
    },
    {
     "name": "stdout",
     "output_type": "stream",
     "text": [
      "{'adverts': [{'preamble': 'NOTICE IS HEREBY GIVENthat the Mayor will be '\n",
      "                          'issuing the following solicitation(s) not '\n",
      "                          'included in the FY 2015 Annual Contracting Plan '\n",
      "                          'and Schedule that is published pursuant to New '\n",
      "                          'York City Charter § 312(a):'},\n",
      "             {'Agency': 'Department of Health and Mental Hygiene',\n",
      "              'Description of services sought': 'Helicopter Storage and '\n",
      "                                                'Maintenance',\n",
      "              'End date of the proposed contract': '06/30/2019',\n",
      "              'Headcount of personnel in substantially similar titles within agency': '0',\n",
      "              'Method of solicitation the agency intends to utilize': 'Competitive '\n",
      "                                                                      'Sealed '\n",
      "                                                                      'Bid',\n",
      "              'Personnel in substantially similar titles within agency': 'None',\n",
      "              'Start date of the proposed contract': '07/01/2016'}],\n",
      " 'context': 'Notice of Intent to Issue New Solicitation(s) Not Included in '\n",
      "            'FY 2015 Annual Contracting Plan and Schedule'}\n"
     ]
    },
    {
     "data": {
      "text/html": [
       "<hr />"
      ],
      "text/plain": [
       "<IPython.core.display.HTML object>"
      ]
     },
     "metadata": {},
     "output_type": "display_data"
    },
    {
     "data": {
      "text/html": [
       "<p> <u>Notice of Intent to Issue New Solicitation(s) Not Included in FY 2015 Annual Contracting Plan and Schedule </u></p> <p> &nbsp;</p> <p> <strong>NOTICE IS HEREBY GIVEN</strong> that the Mayor will be issuing the following solicitation(s) not included in the FY 2015 Annual Contracting Plan and Schedule that is published pursuant to New York City Charter &sect; 312(a):</p> <p> &nbsp;</p> <p> Agency: Department of Information Technology &amp; Telecommunications</p> <p> Description of services sought: Repair Services of Information Technology Equipment</p> <p> Start Date of proposed contract: 10/8/2015</p> <p> End date of the proposed contract:&nbsp; 10/7/2020</p> <p> Method of solicitation the agency intends to utilize:&nbsp; Competitive Sealed Bid</p> <p> Personnel in substantially similar titles within agency:&nbsp; None</p> <p> Headcount of personnel in substantially similar titles within agency: 0</p> <p> &nbsp;</p> <p> <u>Notice of Intent to Extend Contract(s) Not Included in FY 2015 Annual Contracting Plan and Schedule </u></p> <p> &nbsp;</p> <p> <strong>NOTICE IS HEREBY GIVEN</strong> that the Mayor will be entering into the following extension(s) of (a) contract(s) not included in the FY 2015 Annual Contracting Plan and Schedule that is published pursuant to New York City Charter &sect; 312(a):</p> <p> &nbsp;</p> <p> Agency:&nbsp; Department of Information Technology and Telecommunications</p> <p> FMS Contract #: CTA1-858- 20147204172</p> <p> Vendor: Comsys IT Services LLC</p> <p> Description of services:</p> <p> Provide Subject Matter Expertise in the development of the application requirements along with the design, build and deployment of the application in all environments.&nbsp;</p> <p> Develop the approach for the future business requirements, plan, design, build and deploy future enhancements and extensions to the existing system.</p> <p> Design and develop the Documentum platform as an enterprise wide content management system that can be extended to various city agencies on a shared services model.</p> <p> Report product issues and work with EMC (Documentum vendor) to resolve the issues and test all fixes and system patch releases provided by the vendor.</p> <p> Award method of original contract: Intergovernmental</p> <p> FMS Contract type: Consultant</p> <p> End date of original contract: 12/31/14</p> <p> Method of renewal/extension the agency intends to utilize: Extension</p> <p> New start date of the proposed renewed/extended contract: 01/01/15</p> <p> New end date of the proposed renewed/extended contract: 06/30/15</p> <p> Modifications sought to the nature of services performed under the contract: None</p> <p> Reason(s) the agency intends to renew/extend the contract: Continuation of Services</p> <p> Personnel in substantially similar titles within agency:&nbsp; None</p> <p> Headcount of personnel in substantially similar titles within agency: 0</p> <p> &nbsp;</p> <p> Agency: Department of Environmental Protection</p> <p> FMS Contract #: CT1 826 20141421393&nbsp;&nbsp;&nbsp;&nbsp;&nbsp;&nbsp;&nbsp;&nbsp;&nbsp;&nbsp;&nbsp;&nbsp;&nbsp;&nbsp;&nbsp;&nbsp;&nbsp;&nbsp;&nbsp;&nbsp;&nbsp;&nbsp;&nbsp;&nbsp;&nbsp;&nbsp;&nbsp;&nbsp;&nbsp;&nbsp;&nbsp;&nbsp;&nbsp;&nbsp;</p> <p> Vendor:&nbsp; JES Plumbing and Heating Corp.</p> <p> Description of services:&nbsp; To install indoor water meters and outdoor pits</p> <p> Award method of original contract:&nbsp;&nbsp; Competitive Sealed Bid</p> <p> FMS Contract type:&nbsp; Services</p> <p> End date of original contract:&nbsp; 02/15/2015</p> <p> Method of renewal/extension the agency intends to utilize:&nbsp; Time Extension</p> <p> New start date of the proposed renewed/extended contract: 2/16/15</p> <p> New end date of the proposed renewed/extended contract:&nbsp; 2/15/16</p> <p> Modifications sought to the nature of services performed under the contract:&nbsp; None&nbsp;&nbsp;&nbsp;&nbsp;&nbsp;&nbsp;&nbsp;&nbsp;&nbsp;&nbsp;&nbsp;</p> <p> Reason(s) the agency intends to renew/extend the contract:&nbsp; Funds in the contract are not exhausted. The extension continues current services while a new contract is approved.&nbsp;&nbsp;&nbsp;&nbsp;&nbsp;&nbsp;&nbsp;&nbsp;&nbsp;&nbsp;&nbsp;&nbsp;&nbsp;&nbsp;&nbsp;</p> <p> Personnel in substantially similar titles within agency:&nbsp;&nbsp;&nbsp;&nbsp;&nbsp;&nbsp;&nbsp;&nbsp; None</p> <p> Headcount of personnel in substantially similar titles within agency:&nbsp; 0</p>"
      ],
      "text/plain": [
       "<IPython.core.display.HTML object>"
      ]
     },
     "metadata": {},
     "output_type": "display_data"
    },
    {
     "name": "stdout",
     "output_type": "stream",
     "text": [
      "{'adverts': [{'preamble': 'NOTICE IS HEREBY GIVENthat the Mayor will be '\n",
      "                          'issuing the following solicitation(s) not '\n",
      "                          'included in the FY 2015 Annual Contracting Plan '\n",
      "                          'and Schedule that is published pursuant to New '\n",
      "                          'York City Charter § 312(a):'},\n",
      "             {'Agency': 'Department of Information Technology & '\n",
      "                        'Telecommunications',\n",
      "              'Description of services sought': 'Repair Services of '\n",
      "                                                'Information Technology '\n",
      "                                                'Equipment',\n",
      "              'End date of the proposed contract': '10/7/2020',\n",
      "              'Headcount of personnel in substantially similar titles within agency': '0',\n",
      "              'Method of solicitation the agency intends to utilize': 'Competitive '\n",
      "                                                                      'Sealed '\n",
      "                                                                      'Bid',\n",
      "              'Personnel in substantially similar titles within agency': 'None',\n",
      "              'Start Date of proposed contract': '10/8/2015',\n",
      "              'preamble': 'NOTICE IS HEREBY GIVENthat the Mayor will be '\n",
      "                          'entering into the following extension(s) of (a) '\n",
      "                          'contract(s) not included in the FY 2015 Annual '\n",
      "                          'Contracting Plan and Schedule that is published '\n",
      "                          'pursuant to New York City Charter § 312(a):'},\n",
      "             {'Agency': 'Department of Information Technology and '\n",
      "                        'Telecommunications',\n",
      "              'Award method of original contract': 'Intergovernmental',\n",
      "              'Description of services': '',\n",
      "              'End date of original contract': '12/31/14',\n",
      "              'FMS Contract #': 'CTA1-858- 20147204172',\n",
      "              'FMS Contract type': 'Consultant',\n",
      "              'Headcount of personnel in substantially similar titles within agency': '0',\n",
      "              'Method of renewal/extension the agency intends to utilize': 'Extension',\n",
      "              'Modifications sought to the nature of services performed under the contract': 'None',\n",
      "              'New end date of the proposed renewed/extended contract': '06/30/15',\n",
      "              'New start date of the proposed renewed/extended contract': '01/01/15',\n",
      "              'Personnel in substantially similar titles within agency': 'None',\n",
      "              'Reason(s) the agency intends to renew/extend the contract': 'Continuation '\n",
      "                                                                           'of '\n",
      "                                                                           'Services',\n",
      "              'Vendor': 'Comsys IT Services LLC'},\n",
      "             {'Agency': 'Department of Environmental Protection',\n",
      "              'Award method of original contract': 'Competitive Sealed Bid',\n",
      "              'Description of services': 'To install indoor water meters '\n",
      "                                         'and outdoor pits',\n",
      "              'End date of original contract': '02/15/2015',\n",
      "              'FMS Contract #': 'CT1 826 20141421393',\n",
      "              'FMS Contract type': 'Services',\n",
      "              'Headcount of personnel in substantially similar titles within agency': '0',\n",
      "              'Method of renewal/extension the agency intends to utilize': 'Time '\n",
      "                                                                           'Extension',\n",
      "              'Modifications sought to the nature of services performed under the contract': 'None',\n",
      "              'New end date of the proposed renewed/extended contract': '2/15/16',\n",
      "              'New start date of the proposed renewed/extended contract': '2/16/15',\n",
      "              'Personnel in substantially similar titles within agency': 'None',\n",
      "              'Reason(s) the agency intends to renew/extend the contract': 'Funds '\n",
      "                                                                           'in '\n",
      "                                                                           'the '\n",
      "                                                                           'contract '\n",
      "                                                                           'are '\n",
      "                                                                           'not '\n",
      "                                                                           'exhausted. '\n",
      "                                                                           'The '\n",
      "                                                                           'extension '\n",
      "                                                                           'continues '\n",
      "                                                                           'current '\n",
      "                                                                           'services '\n",
      "                                                                           'while '\n",
      "                                                                           'a '\n",
      "                                                                           'new '\n",
      "                                                                           'contract '\n",
      "                                                                           'is '\n",
      "                                                                           'approved.',\n",
      "              'Vendor': 'JES Plumbing and Heating Corp.'}],\n",
      " 'context': 'Notice of Intent to Extend Contract(s) Not Included in FY 2015 '\n",
      "            'Annual Contracting Plan and Schedule'}\n"
     ]
    },
    {
     "data": {
      "text/html": [
       "<hr />"
      ],
      "text/plain": [
       "<IPython.core.display.HTML object>"
      ]
     },
     "metadata": {},
     "output_type": "display_data"
    },
    {
     "data": {
      "text/html": [
       "<p> <u>Notice of Intent to Issue New Solicitation(s) Not Included in FY 2015 Annual Contracting Plan and Schedule </u></p> <p> &nbsp;</p> <p> <strong>NOTICE IS HEREBY GIVEN</strong> that the Mayor will be issuing the following solicitation(s) not included in the FY 2015 Annual Contracting Plan and Schedule that is published pursuant to New York City Charter &sect; 312(a):</p> <p> &nbsp;</p> <p> &nbsp;&nbsp;&nbsp;&nbsp;&nbsp;&nbsp;&nbsp;&nbsp;&nbsp;&nbsp;&nbsp;&nbsp;&nbsp;&nbsp;&nbsp;&nbsp;&nbsp;&nbsp;</p> <p> Agency: Department of Parks and Recreation</p> <p> &nbsp;</p> <p> Nature of services sought:&nbsp; Landscape Architectural Services to undertake a comprehensive plan for Staten Island&#39;s East Shore parks</p> <p> &nbsp;</p> <p> Start Date:&nbsp; 6/1/2015</p> <p> &nbsp;</p> <p> End Date:&nbsp; &nbsp; 3/1/2016</p> <p> &nbsp;</p> <p> Method of Solicitation the Agency intends to utilize:&nbsp; Task Order</p> <p> &nbsp;</p> <p> Personnel in substantially similar titles within Agency:</p> <p> &nbsp;</p> <p> Landscape Architect, Assistant Landscape Architect, Landscape Architect Intern. Project Manager, Associate Project Manager, Civil Engineer, Assistant Civil Engineer</p> <p> &nbsp;</p> <p> Headcount of personnel in substantially similar titles within Agency:&nbsp; 146</p> <p> &nbsp;</p> <p> &nbsp;</p> <p> &nbsp;</p> <p> &nbsp;</p> <p> &nbsp;</p> <p> Agency: Department of Parks and Recreation</p> <p> &nbsp;&nbsp;&nbsp;&nbsp;&nbsp;&nbsp;&nbsp;&nbsp;&nbsp;&nbsp;&nbsp;&nbsp;&nbsp;&nbsp;</p> <p> Nature of services sought:&nbsp; Architectural Design Services to undertake a comprehensive plan for Staten Island&#39;s East Shore parks</p> <p> &nbsp;</p> <p> Start Date:&nbsp; 6/1/2015</p> <p> &nbsp;</p> <p> End Date:&nbsp; &nbsp; 3/1/2016</p> <p> &nbsp;</p> <p> Method of Solicitation the Agency intends to utilize:&nbsp; Task Order</p> <p> &nbsp;</p> <p> Personnel in substantially similar titles within Agency:</p> <p> &nbsp;</p> <p> Architect, Architect Intern, Assistant Architect, Landmarks Preservationist, Project Manager, Associate Project Manager, Landscape Architect, Assistant Landscape Architect, Landscape Architect Intern, Civil Engineer, Assistant Civil Engineer</p> <p> &nbsp;</p> <p> Headcount of personnel in substantially similar titles within Agency:&nbsp; 161</p> <p> &nbsp;</p> <p> &nbsp;</p> <p> &nbsp;</p> <p> &nbsp;</p> <p> Agency: Department of Parks and Recreation</p> <p> &nbsp;&nbsp;&nbsp;&nbsp;&nbsp;&nbsp;&nbsp;&nbsp;&nbsp;&nbsp;&nbsp;&nbsp;&nbsp;&nbsp;&nbsp;&nbsp;&nbsp;&nbsp;&nbsp;&nbsp;&nbsp;</p> <p> Nature of services sought:&nbsp; Engineering Design Services to undertake a comprehensive plan for Staten Island&#39;s East Shore parks</p> <p> &nbsp;</p> <p> Start Date:&nbsp; 6/1/2015</p> <p> &nbsp;</p> <p> End Date:&nbsp; &nbsp; 3/1/2016</p> <p> &nbsp;</p> <p> Method of Solicitation the Agency intends to utilize:&nbsp; Task Order</p> <p> &nbsp;</p> <p> Personnel in substantially similar titles within Agency:</p> <p> &nbsp;</p> <p> Civil Engineer, Assistant Civil Engineer, Project Manager, Associate Project Manager, Landscape Architect, Assistant Landscape Architect, Landscape Architect Intern</p> <p> &nbsp;</p> <p> Headcount of personnel in substantially similar titles within Agency:&nbsp; 146</p> <p> &nbsp;</p>"
      ],
      "text/plain": [
       "<IPython.core.display.HTML object>"
      ]
     },
     "metadata": {},
     "output_type": "display_data"
    },
    {
     "name": "stdout",
     "output_type": "stream",
     "text": [
      "{'adverts': [{'preamble': 'NOTICE IS HEREBY GIVENthat the Mayor will be '\n",
      "                          'issuing the following solicitation(s) not '\n",
      "                          'included in the FY 2015 Annual Contracting Plan '\n",
      "                          'and Schedule that is published pursuant to New '\n",
      "                          'York City Charter § 312(a):'},\n",
      "             {'Agency': 'Department of Parks and Recreation',\n",
      "              'End Date': '3/1/2016',\n",
      "              'Headcount of personnel in substantially similar titles within Agency': '146',\n",
      "              'Method of Solicitation the Agency intends to utilize': 'Task '\n",
      "                                                                      'Order',\n",
      "              'Nature of services sought': 'Landscape Architectural '\n",
      "                                           'Services to undertake a '\n",
      "                                           'comprehensive plan for Staten '\n",
      "                                           \"Island's East Shore parks\",\n",
      "              'Personnel in substantially similar titles within Agency': '',\n",
      "              'Start Date': '6/1/2015'},\n",
      "             {'Agency': 'Department of Parks and Recreation',\n",
      "              'End Date': '3/1/2016',\n",
      "              'Headcount of personnel in substantially similar titles within Agency': '161',\n",
      "              'Method of Solicitation the Agency intends to utilize': 'Task '\n",
      "                                                                      'Order',\n",
      "              'Nature of services sought': 'Architectural Design Services '\n",
      "                                           'to undertake a comprehensive '\n",
      "                                           \"plan for Staten Island's East \"\n",
      "                                           'Shore parks',\n",
      "              'Personnel in substantially similar titles within Agency': '',\n",
      "              'Start Date': '6/1/2015'},\n",
      "             {'Agency': 'Department of Parks and Recreation',\n",
      "              'End Date': '3/1/2016',\n",
      "              'Headcount of personnel in substantially similar titles within Agency': '146',\n",
      "              'Method of Solicitation the Agency intends to utilize': 'Task '\n",
      "                                                                      'Order',\n",
      "              'Nature of services sought': 'Engineering Design Services to '\n",
      "                                           'undertake a comprehensive plan '\n",
      "                                           \"for Staten Island's East Shore \"\n",
      "                                           'parks',\n",
      "              'Personnel in substantially similar titles within Agency': '',\n",
      "              'Start Date': '6/1/2015'}],\n",
      " 'context': 'Notice of Intent to Issue New Solicitation(s) Not Included in '\n",
      "            'FY 2015 Annual Contracting Plan and Schedule'}\n"
     ]
    },
    {
     "data": {
      "text/html": [
       "<hr />"
      ],
      "text/plain": [
       "<IPython.core.display.HTML object>"
      ]
     },
     "metadata": {},
     "output_type": "display_data"
    },
    {
     "data": {
      "text/html": [
       "<p> <u>Notice of Intent to Issue New Solicitation(s) Not Included in FY 2015 Annual Contracting Plan and Schedule </u></p> <p> &nbsp;</p> <p> <strong>NOTICE IS HEREBY GIVEN</strong> that the Mayor will be issuing the following solicitation(s) not included in the FY 2015 Annual Contracting Plan and Schedule that is published pursuant to New York City Charter &sect; 312(a):</p> <p> &nbsp;</p> <p> Agency: Department of Small Business Services</p> <p> Description of services sought:&nbsp;&nbsp; Disparity Study</p> <p> Start date of the proposed contract:&nbsp;&nbsp; July 1, 2015</p> <p> End date of the proposed contract:&nbsp;&nbsp; June 30, 2017</p> <p> Method of solicitation the agency intends to utilize:&nbsp;&nbsp;&nbsp; Request for Proposals</p> <p> Personnel in substantially similar titles within agency:&nbsp;&nbsp; None</p> <p> Headcount of personnel in substantially similar titles within agency:&nbsp; 0</p> <p> &nbsp;</p>"
      ],
      "text/plain": [
       "<IPython.core.display.HTML object>"
      ]
     },
     "metadata": {},
     "output_type": "display_data"
    },
    {
     "name": "stdout",
     "output_type": "stream",
     "text": [
      "{'adverts': [{'preamble': 'NOTICE IS HEREBY GIVENthat the Mayor will be '\n",
      "                          'issuing the following solicitation(s) not '\n",
      "                          'included in the FY 2015 Annual Contracting Plan '\n",
      "                          'and Schedule that is published pursuant to New '\n",
      "                          'York City Charter § 312(a):'},\n",
      "             {'Agency': 'Department of Small Business Services',\n",
      "              'Description of services sought': 'Disparity Study',\n",
      "              'End date of the proposed contract': 'June 30, 2017',\n",
      "              'Headcount of personnel in substantially similar titles within agency': '0',\n",
      "              'Method of solicitation the agency intends to utilize': 'Request '\n",
      "                                                                      'for '\n",
      "                                                                      'Proposals',\n",
      "              'Personnel in substantially similar titles within agency': 'None',\n",
      "              'Start date of the proposed contract': 'July 1, 2015'}],\n",
      " 'context': 'Notice of Intent to Issue New Solicitation(s) Not Included in '\n",
      "            'FY 2015 Annual Contracting Plan and Schedule'}\n"
     ]
    },
    {
     "data": {
      "text/html": [
       "<hr />"
      ],
      "text/plain": [
       "<IPython.core.display.HTML object>"
      ]
     },
     "metadata": {},
     "output_type": "display_data"
    },
    {
     "data": {
      "text/html": [
       "<p> <u>Notice of Intent to Issue New Solicitation(s) Not Included in FY 2015 Annual Contracting Plan and Schedule </u></p> <p> &nbsp;</p> <p> <strong>NOTICE IS HEREBY GIVEN</strong> that the Mayor will be issuing the following solicitation(s) not included in the FY 2015 Annual Contracting Plan and Schedule that is published pursuant to New York City Charter &sect; 312(a):</p> <p> &nbsp;</p> <p> Agency: Office of Emergency Management</p> <p> Description of services sought:&nbsp;Urban Search and Rescue Response System Charter Bus Services for continental United States deployments</p> <p> Start date of the proposed contract:&nbsp;&nbsp; 02/05/2015</p> <p> End date of the proposed contract:&nbsp;&nbsp; 02/04/2017</p> <p> Method of solicitation the agency intends to utilize:&nbsp;&nbsp;&nbsp; Intergovernmental</p> <p> Personnel in substantially similar titles within agency:&nbsp;&nbsp; None</p> <p> Headcount of personnel in substantially similar titles within agency:&nbsp; 0</p>"
      ],
      "text/plain": [
       "<IPython.core.display.HTML object>"
      ]
     },
     "metadata": {},
     "output_type": "display_data"
    },
    {
     "name": "stdout",
     "output_type": "stream",
     "text": [
      "{'adverts': [{'preamble': 'NOTICE IS HEREBY GIVENthat the Mayor will be '\n",
      "                          'issuing the following solicitation(s) not '\n",
      "                          'included in the FY 2015 Annual Contracting Plan '\n",
      "                          'and Schedule that is published pursuant to New '\n",
      "                          'York City Charter § 312(a):'},\n",
      "             {'Agency': 'Office of Emergency Management',\n",
      "              'Description of services sought': 'Urban Search and Rescue '\n",
      "                                                'Response System Charter '\n",
      "                                                'Bus Services for '\n",
      "                                                'continental United States '\n",
      "                                                'deployments',\n",
      "              'End date of the proposed contract': '02/04/2017',\n",
      "              'Headcount of personnel in substantially similar titles within agency': '0',\n",
      "              'Method of solicitation the agency intends to utilize': 'Intergovernmental',\n",
      "              'Personnel in substantially similar titles within agency': 'None',\n",
      "              'Start date of the proposed contract': '02/05/2015'}],\n",
      " 'context': 'Notice of Intent to Issue New Solicitation(s) Not Included in '\n",
      "            'FY 2015 Annual Contracting Plan and Schedule'}\n"
     ]
    },
    {
     "data": {
      "text/html": [
       "<hr />"
      ],
      "text/plain": [
       "<IPython.core.display.HTML object>"
      ]
     },
     "metadata": {},
     "output_type": "display_data"
    },
    {
     "data": {
      "text/html": [
       "<p> <u>Notice of Intent to Issue New Solicitation(s) Not Included in FY 2015 Annual Contracting Plan and Schedule </u></p> <p> &nbsp;</p> <p> <strong>NOTICE IS HEREBY GIVEN</strong> that the Mayor will be issuing the following solicitation(s) not included in the FY 2015 Annual Contracting Plan and Schedule that is published pursuant to New York City Charter &sect; 312(a):</p> <p> &nbsp;</p> <p> Agency:&nbsp; Human Resources Administration</p> <p> Nature of services sought:&nbsp; Audio Video Equipment Maintenance</p> <p> Start date of the proposed contract:&nbsp; 10/01/15</p> <p> End date of the proposed contract:&nbsp; 09/30/18</p> <p> Method of solicitation the agency intends to utilize:&nbsp; Competitive Sealed Bidding</p> <p> Personnel in substantially similar titles within agency:&nbsp; None</p> <p> Headcount of personnel in substantially similar titles within agency:&nbsp; 0</p>"
      ],
      "text/plain": [
       "<IPython.core.display.HTML object>"
      ]
     },
     "metadata": {},
     "output_type": "display_data"
    },
    {
     "name": "stdout",
     "output_type": "stream",
     "text": [
      "{'adverts': [{'preamble': 'NOTICE IS HEREBY GIVENthat the Mayor will be '\n",
      "                          'issuing the following solicitation(s) not '\n",
      "                          'included in the FY 2015 Annual Contracting Plan '\n",
      "                          'and Schedule that is published pursuant to New '\n",
      "                          'York City Charter § 312(a):'},\n",
      "             {'Agency': 'Human Resources Administration',\n",
      "              'End date of the proposed contract': '09/30/18',\n",
      "              'Headcount of personnel in substantially similar titles within agency': '0',\n",
      "              'Method of solicitation the agency intends to utilize': 'Competitive '\n",
      "                                                                      'Sealed '\n",
      "                                                                      'Bidding',\n",
      "              'Nature of services sought': 'Audio Video Equipment '\n",
      "                                           'Maintenance',\n",
      "              'Personnel in substantially similar titles within agency': 'None',\n",
      "              'Start date of the proposed contract': '10/01/15'}],\n",
      " 'context': 'Notice of Intent to Issue New Solicitation(s) Not Included in '\n",
      "            'FY 2015 Annual Contracting Plan and Schedule'}\n"
     ]
    },
    {
     "data": {
      "text/html": [
       "<hr />"
      ],
      "text/plain": [
       "<IPython.core.display.HTML object>"
      ]
     },
     "metadata": {},
     "output_type": "display_data"
    },
    {
     "data": {
      "text/html": [
       "<p> <u>Notice of Intent to Issue New Solicitation(s) Not Included in FY 2015 Annual Contracting Plan and Schedule </u></p> <p> &nbsp;</p> <p> <strong>NOTICE IS HEREBY GIVEN</strong> that the Mayor will be issuing the following solicitation(s) not included in the FY 2015 Annual Contracting Plan and Schedule that is published pursuant to New York City Charter &sect; 312(a):</p> <p> &nbsp;</p> <p> &nbsp;</p> <p> Agency: Department of Design and Construction</p> <p> Description of services sought:&nbsp;&nbsp; Construction Management Services, Cooling Towers Replacement Spray Ponds at 100 Centre Street</p> <p> Start date of the proposed contract:&nbsp;&nbsp; 04/15/2015</p> <p> End date of the proposed contract:&nbsp;&nbsp;&nbsp;&nbsp; 12/31/2016&nbsp;&nbsp;&nbsp;&nbsp;&nbsp;&nbsp;&nbsp;&nbsp;&nbsp;&nbsp;&nbsp;&nbsp;</p> <p> Method of solicitation the agency intends to utilize:&nbsp;&nbsp; Task Order</p> <p> Personnel in substantially similar titles within agency:&nbsp;&nbsp; None</p> <p> Headcount of personnel in substantially similar titles within agency:&nbsp; 0&nbsp;&nbsp;&nbsp;&nbsp;&nbsp;&nbsp;</p> <p> &nbsp;</p> <p> Agency: Department of Design and Construction</p> <p> Description of services sought:&nbsp;&nbsp; Construction Management Services for the New Gansevoort Marine Transfer Station</p> <p> Start date of the proposed contract:&nbsp;&nbsp; 06/15/2015</p> <p> End date of the proposed contract:&nbsp;&nbsp;&nbsp;&nbsp; 07/29/2020&nbsp;</p> <p> Method of solicitation the agency intends to utilize:&nbsp;&nbsp; Request for Proposal</p> <p> Personnel in substantially similar titles within agency:&nbsp;&nbsp; None</p> <p> Headcount of personnel in substantially similar titles within agency:&nbsp; 0&nbsp;&nbsp;&nbsp;&nbsp;&nbsp;&nbsp;</p> <p> &nbsp;</p> <p> Agency: Department of Design and Construction</p> <p> Description of services sought:&nbsp;&nbsp; Design Services for the Woodhaven Community Library</p> <p> Start date of the proposed contract:&nbsp; 03/1/2015</p> <p> End date of the proposed contract:&nbsp;&nbsp;&nbsp; 03/1/2017 &nbsp;&nbsp;&nbsp;&nbsp;&nbsp;&nbsp;&nbsp;&nbsp;&nbsp;&nbsp;&nbsp;&nbsp;&nbsp;&nbsp;&nbsp;</p> <p> Method of solicitation the agency intends to utilize:&nbsp;&nbsp; Task Order</p> <p> Personnel in substantially similar titles within agency:&nbsp;&nbsp; None</p> <p> Headcount of personnel in substantially similar titles within agency:&nbsp; 0&nbsp;&nbsp; &nbsp;&nbsp;&nbsp;&nbsp;</p> <p> &nbsp;</p> <p> Agency: Department of Design and Construction</p> <p> Description of services sought:&nbsp;&nbsp; Design Services for New Beach Structures in Staten Island</p> <p> Start date of the proposed contract:&nbsp;&nbsp; 02/1/2015</p> <p> End date of the proposed contract:&nbsp;05/1/2018</p> <p> Method of solicitation the agency intends to utilize: Task Order</p> <p> Personnel in substantially similar titles within agency:&nbsp;&nbsp; None</p> <p> Headcount of personnel in substantially similar titles within agency:&nbsp; 0</p> <p> &nbsp;</p> <p> Agency: Department of Design and Construction</p> <p> Description of services sought:&nbsp;&nbsp; Construction Management Services for New Beach Structures in Staten Island</p> <p> Start date of the proposed contract:&nbsp;&nbsp; 02/1/2015</p> <p> End date of the proposed contract:&nbsp;&nbsp; &nbsp;&nbsp;05/1/2018</p> <p> Method of solicitation the agency intends to utilize: Task Order</p> <p> Personnel in substantially similar titles within agency:&nbsp;&nbsp; None</p> <p> Headcount of personnel in substantially similar titles within agency:&nbsp; 0</p> <p> &nbsp;</p>"
      ],
      "text/plain": [
       "<IPython.core.display.HTML object>"
      ]
     },
     "metadata": {},
     "output_type": "display_data"
    },
    {
     "name": "stdout",
     "output_type": "stream",
     "text": [
      "{'adverts': [{'preamble': 'NOTICE IS HEREBY GIVENthat the Mayor will be '\n",
      "                          'issuing the following solicitation(s) not '\n",
      "                          'included in the FY 2015 Annual Contracting Plan '\n",
      "                          'and Schedule that is published pursuant to New '\n",
      "                          'York City Charter § 312(a):'},\n",
      "             {'Agency': 'Department of Design and Construction',\n",
      "              'Description of services sought': 'Construction Management '\n",
      "                                                'Services, Cooling Towers '\n",
      "                                                'Replacement Spray Ponds '\n",
      "                                                'at 100 Centre Street',\n",
      "              'End date of the proposed contract': '12/31/2016',\n",
      "              'Headcount of personnel in substantially similar titles within agency': '0',\n",
      "              'Method of solicitation the agency intends to utilize': 'Task '\n",
      "                                                                      'Order',\n",
      "              'Personnel in substantially similar titles within agency': 'None',\n",
      "              'Start date of the proposed contract': '04/15/2015'},\n",
      "             {'Agency': 'Department of Design and Construction',\n",
      "              'Description of services sought': 'Construction Management '\n",
      "                                                'Services for the New '\n",
      "                                                'Gansevoort Marine '\n",
      "                                                'Transfer Station',\n",
      "              'End date of the proposed contract': '07/29/2020',\n",
      "              'Headcount of personnel in substantially similar titles within agency': '0',\n",
      "              'Method of solicitation the agency intends to utilize': 'Request '\n",
      "                                                                      'for '\n",
      "                                                                      'Proposal',\n",
      "              'Personnel in substantially similar titles within agency': 'None',\n",
      "              'Start date of the proposed contract': '06/15/2015'},\n",
      "             {'Agency': 'Department of Design and Construction',\n",
      "              'Description of services sought': 'Design Services for the '\n",
      "                                                'Woodhaven Community '\n",
      "                                                'Library',\n",
      "              'End date of the proposed contract': '03/1/2017',\n",
      "              'Headcount of personnel in substantially similar titles within agency': '0',\n",
      "              'Method of solicitation the agency intends to utilize': 'Task '\n",
      "                                                                      'Order',\n",
      "              'Personnel in substantially similar titles within agency': 'None',\n",
      "              'Start date of the proposed contract': '03/1/2015'},\n",
      "             {'Agency': 'Department of Design and Construction',\n",
      "              'Description of services sought': 'Design Services for New '\n",
      "                                                'Beach Structures in '\n",
      "                                                'Staten Island',\n",
      "              'End date of the proposed contract': '05/1/2018',\n",
      "              'Headcount of personnel in substantially similar titles within agency': '0',\n",
      "              'Method of solicitation the agency intends to utilize': 'Task '\n",
      "                                                                      'Order',\n",
      "              'Personnel in substantially similar titles within agency': 'None',\n",
      "              'Start date of the proposed contract': '02/1/2015'},\n",
      "             {'Agency': 'Department of Design and Construction',\n",
      "              'Description of services sought': 'Construction Management '\n",
      "                                                'Services for New Beach '\n",
      "                                                'Structures in Staten '\n",
      "                                                'Island',\n",
      "              'End date of the proposed contract': '05/1/2018',\n",
      "              'Headcount of personnel in substantially similar titles within agency': '0',\n",
      "              'Method of solicitation the agency intends to utilize': 'Task '\n",
      "                                                                      'Order',\n",
      "              'Personnel in substantially similar titles within agency': 'None',\n",
      "              'Start date of the proposed contract': '02/1/2015'}],\n",
      " 'context': 'Notice of Intent to Issue New Solicitation(s) Not Included in '\n",
      "            'FY 2015 Annual Contracting Plan and Schedule'}\n"
     ]
    },
    {
     "data": {
      "text/html": [
       "<hr />"
      ],
      "text/plain": [
       "<IPython.core.display.HTML object>"
      ]
     },
     "metadata": {},
     "output_type": "display_data"
    },
    {
     "data": {
      "text/html": [
       "<p> <u>Notice of Intent to Issue New Solicitation(s) Not Included in FY 2015 Annual Contracting Plan and Schedule </u></p> <p> &nbsp;</p> <p> <strong>NOTICE IS HEREBY GIVEN</strong> that the Mayor will be issuing the following solicitation(s) not included in the FY 2015 Annual Contracting Plan and Schedule that is published pursuant to New York City Charter &sect; 312(a):</p> <p> &nbsp;</p> <p> Agency:&nbsp; Department of Information Technology</p> <p> Description of services sought: Cisco Central Engineering Services will provide Subject Matter Experts to deliver best practice designs, configurations, lab testing, implementation support and leveraging various Cisco tools.</p> <p> Start date of the proposed contract: 8/1/2015</p> <p> End date of the proposed contract:&nbsp; 2/1/2017</p> <p> Method of solicitation the agency intends to utilize:&nbsp; Intergovernmental</p> <p> Personnel in substantially similar titles within agency:&nbsp;&nbsp; Senior Network Architect</p> <p> Headcount of personnel in substantially similar titles within agency:&nbsp;&nbsp; 2</p> <p> &nbsp;</p> <p> Agency:&nbsp; Department of Information Technology and Telecommunications</p> <p> Description of services sought:&nbsp; Establish a Logging and Recording (L&amp;R) system for both NYPD and FDNY at PSAC2, including the design, implementation, installation and testing.</p> <p> Start date of the proposed contract: 4/1/2015</p> <p> End date of the proposed contract:&nbsp; 3/31/2018</p> <p> Method of solicitation the agency intends to utilize:&nbsp; Negotiated Acquisition</p> <p> Personnel in substantially similar titles within agency:&nbsp;&nbsp; Infrastructure Project Manager, Infrastructure Architect, Infrastructure Engineer</p> <p> Headcount of personnel in substantially similar titles within agency:&nbsp;&nbsp; 22</p> <p> &nbsp;</p> <p> &nbsp;</p> <p> <u>Notice of Intent to Extend Contract(s) Not Included in FY 2015 Annual Contracting Plan and Schedule</u></p> <p> &nbsp;</p> <p> <strong>NOTICE IS HEREBY GIVEN</strong> that the Mayor will be entering into the following extension(s) of (a) contract(s) not included in the FY 2015 Annual Contracting Plan and Schedule that is published pursuant to New York City Charter &sect; 312(a):</p> <p> &nbsp;</p> <p> Agency:&nbsp; Department of Information Technology &amp; Telecommunications</p> <p> FMS Contract #: &nbsp;CTA1-858- 20147204172&nbsp;</p> <p> Vendor: Comsys IT Services LLC</p> <p> Description of services:</p> <p> Provide Subject Matter Expertise in the development of the application requirements along with the design, build and deployment of the application in all environments.&nbsp;</p> <p> Develop the approach for the future business requirements, plan, design, build and deploy future enhancements and extensions to the existing system.</p> <p> Design and develop the Documentum platform as an enterprise wide content management system that can be extended to various city agencies on a shared services model.</p> <p> Report product issues and work with EMC (Documentum vendor) to resolve the issues and&nbsp; test all fixes and system patch releases provided by the vendor.</p> <p> Award method of original contract: &nbsp;Intergovernmental</p> <p> FMS Contract type: ITCS Negotiated Acquisition 2</p> <p> End date of original contract: 12/31/14</p> <p> Method of renewal/extension the agency intends to utilize: Extension</p> <p> New start date of the proposed renewed/extended contract: 01/01/15</p> <p> New end date of the proposed renewed/extended contract: 06/30/15</p> <p> Modifications sought to the nature of services performed under the contract: None</p> <p> Reason(s) the agency intends to renew/extend the contract: Continuation of services.</p> <p> Personnel in substantially similar titles within agency: None</p> <p> Headcount of personnel in substantially similar titles within agency: &nbsp;0</p>"
      ],
      "text/plain": [
       "<IPython.core.display.HTML object>"
      ]
     },
     "metadata": {},
     "output_type": "display_data"
    },
    {
     "name": "stdout",
     "output_type": "stream",
     "text": [
      "{'adverts': [{'preamble': 'NOTICE IS HEREBY GIVENthat the Mayor will be '\n",
      "                          'issuing the following solicitation(s) not '\n",
      "                          'included in the FY 2015 Annual Contracting Plan '\n",
      "                          'and Schedule that is published pursuant to New '\n",
      "                          'York City Charter § 312(a):'},\n",
      "             {'Agency': 'Department of Information Technology',\n",
      "              'Description of services sought': 'Cisco Central Engineering '\n",
      "                                                'Services will provide '\n",
      "                                                'Subject Matter Experts to '\n",
      "                                                'deliver best practice '\n",
      "                                                'designs, configurations, '\n",
      "                                                'lab testing, '\n",
      "                                                'implementation support '\n",
      "                                                'and leveraging various '\n",
      "                                                'Cisco tools.',\n",
      "              'End date of the proposed contract': '2/1/2017',\n",
      "              'Headcount of personnel in substantially similar titles within agency': '2',\n",
      "              'Method of solicitation the agency intends to utilize': 'Intergovernmental',\n",
      "              'Personnel in substantially similar titles within agency': 'Senior '\n",
      "                                                                         'Network '\n",
      "                                                                         'Architect',\n",
      "              'Start date of the proposed contract': '8/1/2015'},\n",
      "             {'Agency': 'Department of Information Technology and '\n",
      "                        'Telecommunications',\n",
      "              'Description of services sought': 'Establish a Logging and '\n",
      "                                                'Recording (L&R) system '\n",
      "                                                'for both NYPD and FDNY at '\n",
      "                                                'PSAC2, including the '\n",
      "                                                'design, implementation, '\n",
      "                                                'installation and testing.',\n",
      "              'End date of the proposed contract': '3/31/2018',\n",
      "              'Headcount of personnel in substantially similar titles within agency': '22',\n",
      "              'Method of solicitation the agency intends to utilize': 'Negotiated '\n",
      "                                                                      'Acquisition',\n",
      "              'Personnel in substantially similar titles within agency': 'Infrastructure '\n",
      "                                                                         'Project '\n",
      "                                                                         'Manager, '\n",
      "                                                                         'Infrastructure '\n",
      "                                                                         'Architect, '\n",
      "                                                                         'Infrastructure '\n",
      "                                                                         'Engineer',\n",
      "              'Start date of the proposed contract': '4/1/2015',\n",
      "              'preamble': 'NOTICE IS HEREBY GIVENthat the Mayor will be '\n",
      "                          'entering into the following extension(s) of (a) '\n",
      "                          'contract(s) not included in the FY 2015 Annual '\n",
      "                          'Contracting Plan and Schedule that is published '\n",
      "                          'pursuant to New York City Charter § 312(a):'},\n",
      "             {'Agency': 'Department of Information Technology & '\n",
      "                        'Telecommunications',\n",
      "              'Award method of original contract': 'Intergovernmental',\n",
      "              'Description of services': '',\n",
      "              'End date of original contract': '12/31/14',\n",
      "              'FMS Contract #': 'CTA1-858- 20147204172',\n",
      "              'FMS Contract type': 'ITCS Negotiated Acquisition 2',\n",
      "              'Headcount of personnel in substantially similar titles within agency': '0',\n",
      "              'Method of renewal/extension the agency intends to utilize': 'Extension',\n",
      "              'Modifications sought to the nature of services performed under the contract': 'None',\n",
      "              'New end date of the proposed renewed/extended contract': '06/30/15',\n",
      "              'New start date of the proposed renewed/extended contract': '01/01/15',\n",
      "              'Personnel in substantially similar titles within agency': 'None',\n",
      "              'Reason(s) the agency intends to renew/extend the contract': 'Continuation '\n",
      "                                                                           'of '\n",
      "                                                                           'services.',\n",
      "              'Vendor': 'Comsys IT Services LLC'}],\n",
      " 'context': 'Notice of Intent to Extend Contract(s) Not Included in FY 2015 '\n",
      "            'Annual Contracting Plan and Schedule'}\n"
     ]
    },
    {
     "data": {
      "text/html": [
       "<hr />"
      ],
      "text/plain": [
       "<IPython.core.display.HTML object>"
      ]
     },
     "metadata": {},
     "output_type": "display_data"
    },
    {
     "data": {
      "text/html": [
       "<p> <u>Notice of Intent to Issue New Solicitation(s) Not Included in FY 2015 Annual Contracting Plan and Schedule </u></p> <p> &nbsp;</p> <p> <strong>NOTICE IS HEREBY GIVEN</strong> that the Mayor will be issuing the following solicitation(s) not included in the FY 2015 Annual Contracting Plan and Schedule that is published pursuant to New York City Charter &sect; 312(a):</p> <p> &nbsp;</p> <p> Agency: Department of Environmental Protection</p> <p> Description of services sought:&nbsp;&nbsp; FMC-1-2014 install, repair, maintain and inspect Plumbing, Standpipe &amp; Sprinkler Systems at DEP locations</p> <p> Start date of the proposed contract:&nbsp;&nbsp; 3/16/15</p> <p> End date of the proposed contract:&nbsp;&nbsp; 3/16/18</p> <p> Method of solicitation the agency intends to utilize:&nbsp; Competitive Sealed Bid&nbsp;</p> <p> Personnel in substantially similar titles within agency:&nbsp;&nbsp; None</p> <p> Headcount of personnel in substantially similar titles within agency:&nbsp; 0</p> <p> &nbsp;</p> <p> Agency: Department of Environmental Protection</p> <p> Description of services sought:&nbsp;&nbsp; FMC-3-2014 HVAC - Repair, maintain Boilers at DEP facilities</p> <p> Start date of the proposed contract:&nbsp;&nbsp; 3/16/15</p> <p> End date of the proposed contract:&nbsp;&nbsp; 3/16/18</p> <p> Method of solicitation the agency intends to utilize:&nbsp;&nbsp;&nbsp; Competitive Sealed Bid&nbsp;</p> <p> Personnel in substantially similar titles within agency:&nbsp;&nbsp; None</p> <p> Headcount of personnel in substantially similar titles within agency:&nbsp; 0</p>"
      ],
      "text/plain": [
       "<IPython.core.display.HTML object>"
      ]
     },
     "metadata": {},
     "output_type": "display_data"
    },
    {
     "name": "stdout",
     "output_type": "stream",
     "text": [
      "{'adverts': [{'preamble': 'NOTICE IS HEREBY GIVENthat the Mayor will be '\n",
      "                          'issuing the following solicitation(s) not '\n",
      "                          'included in the FY 2015 Annual Contracting Plan '\n",
      "                          'and Schedule that is published pursuant to New '\n",
      "                          'York City Charter § 312(a):'},\n",
      "             {'Agency': 'Department of Environmental Protection',\n",
      "              'Description of services sought': 'FMC-1-2014 install, '\n",
      "                                                'repair, maintain and '\n",
      "                                                'inspect Plumbing, '\n",
      "                                                'Standpipe & Sprinkler '\n",
      "                                                'Systems at DEP locations',\n",
      "              'End date of the proposed contract': '3/16/18',\n",
      "              'Headcount of personnel in substantially similar titles within agency': '0',\n",
      "              'Method of solicitation the agency intends to utilize': 'Competitive '\n",
      "                                                                      'Sealed '\n",
      "                                                                      'Bid',\n",
      "              'Personnel in substantially similar titles within agency': 'None',\n",
      "              'Start date of the proposed contract': '3/16/15'},\n",
      "             {'Agency': 'Department of Environmental Protection',\n",
      "              'Description of services sought': 'FMC-3-2014 HVAC - Repair, '\n",
      "                                                'maintain Boilers at DEP '\n",
      "                                                'facilities',\n",
      "              'End date of the proposed contract': '3/16/18',\n",
      "              'Headcount of personnel in substantially similar titles within agency': '0',\n",
      "              'Method of solicitation the agency intends to utilize': 'Competitive '\n",
      "                                                                      'Sealed '\n",
      "                                                                      'Bid',\n",
      "              'Personnel in substantially similar titles within agency': 'None',\n",
      "              'Start date of the proposed contract': '3/16/15'}],\n",
      " 'context': 'Notice of Intent to Issue New Solicitation(s) Not Included in '\n",
      "            'FY 2015 Annual Contracting Plan and Schedule'}\n"
     ]
    },
    {
     "data": {
      "text/html": [
       "<hr />"
      ],
      "text/plain": [
       "<IPython.core.display.HTML object>"
      ]
     },
     "metadata": {},
     "output_type": "display_data"
    },
    {
     "data": {
      "text/html": [
       "<p> <u>Notice of Intent to Issue New Solicitation(s) Not Included in FY 2015 Annual Contracting Plan and Schedule </u></p> <p> &nbsp;</p> <p> <strong>NOTICE IS HEREBY GIVEN</strong> that the Mayor will be issuing the following solicitation(s) not included in the FY 2015 Annual Contracting Plan and Schedule that is published pursuant to New York City Charter &sect; 312(a):</p> <p> &nbsp;</p> <p> Agency: &nbsp;Department of Information Technology</p> <p> Description of services sought: Technical Architect to provide System Architecture Review and Planning for NYC Business</p> <p> Start date of the proposed contract: 2/1/15</p> <p> End date of the proposed contract: &nbsp;1/31/16</p> <p> Method of solicitation the agency intends to utilize: &nbsp;Task Order</p> <p> Personnel in substantially similar titles within agency: &nbsp; None</p> <p> Headcount of personnel in substantially similar titles within agency: &nbsp; 0</p> <p> &nbsp;</p> <p> Agency: &nbsp;Department of Information Technology</p> <p> Description of services sought: Content Management System Developer to provide developer to code CRM solution for NYC Business</p> <p> Start date of the proposed contract: 2/1/2015</p> <p> End date of the proposed contract: &nbsp;1/31/2016</p> <p> Method of solicitation the agency intends to utilize: &nbsp;Task Order</p> <p> Personnel in substantially similar titles within agency: &nbsp; Sharepoint Engineer</p> <p> Headcount of personnel in substantially similar titles within agency: &nbsp; 1</p> <p> &nbsp;</p>"
      ],
      "text/plain": [
       "<IPython.core.display.HTML object>"
      ]
     },
     "metadata": {},
     "output_type": "display_data"
    },
    {
     "name": "stdout",
     "output_type": "stream",
     "text": [
      "{'adverts': [{'preamble': 'NOTICE IS HEREBY GIVENthat the Mayor will be '\n",
      "                          'issuing the following solicitation(s) not '\n",
      "                          'included in the FY 2015 Annual Contracting Plan '\n",
      "                          'and Schedule that is published pursuant to New '\n",
      "                          'York City Charter § 312(a):'},\n",
      "             {'Agency': 'Department of Information Technology',\n",
      "              'Description of services sought': 'Technical Architect to '\n",
      "                                                'provide System '\n",
      "                                                'Architecture Review and '\n",
      "                                                'Planning for NYC Business',\n",
      "              'End date of the proposed contract': '1/31/16',\n",
      "              'Headcount of personnel in substantially similar titles within agency': '0',\n",
      "              'Method of solicitation the agency intends to utilize': 'Task '\n",
      "                                                                      'Order',\n",
      "              'Personnel in substantially similar titles within agency': 'None',\n",
      "              'Start date of the proposed contract': '2/1/15'},\n",
      "             {'Agency': 'Department of Information Technology',\n",
      "              'Description of services sought': 'Content Management System '\n",
      "                                                'Developer to provide '\n",
      "                                                'developer to code CRM '\n",
      "                                                'solution for NYC Business',\n",
      "              'End date of the proposed contract': '1/31/2016',\n",
      "              'Headcount of personnel in substantially similar titles within agency': '1',\n",
      "              'Method of solicitation the agency intends to utilize': 'Task '\n",
      "                                                                      'Order',\n",
      "              'Personnel in substantially similar titles within agency': 'Sharepoint '\n",
      "                                                                         'Engineer',\n",
      "              'Start date of the proposed contract': '2/1/2015'}],\n",
      " 'context': 'Notice of Intent to Issue New Solicitation(s) Not Included in '\n",
      "            'FY 2015 Annual Contracting Plan and Schedule'}\n"
     ]
    },
    {
     "data": {
      "text/html": [
       "<hr />"
      ],
      "text/plain": [
       "<IPython.core.display.HTML object>"
      ]
     },
     "metadata": {},
     "output_type": "display_data"
    },
    {
     "data": {
      "text/html": [
       "<p> <u>Notice of Intent to Issue New Solicitation(s) Not Included in FY 2015 Annual Contracting Plan and Schedule </u></p> <p> &nbsp;</p> <p> <strong>NOTICE IS HEREBY GIVEN</strong> that the Mayor will be issuing the following solicitation(s) not included in the FY 2015 Annual Contracting Plan and Schedule that is published pursuant to New York City Charter &sect; 312(a):</p> <p> &nbsp;</p> <p> Agency:&nbsp; Department of Parks and Recreation</p> <p> Nature of services sought:&nbsp; Upgrade of Software for Recreation membership system to a web-based system</p> <p> Start date of the proposed contract:&nbsp; 6/01/2015</p> <p> End date of the proposed contract:&nbsp; 5/31/2020</p> <p> Method of solicitation the agency intends to utilize:&nbsp; Sole Source</p> <p> Personnel in substantially similar titles within agency:&nbsp; None</p> <p> Headcount of personnel in substantially similar titles within agency:&nbsp; 0</p>"
      ],
      "text/plain": [
       "<IPython.core.display.HTML object>"
      ]
     },
     "metadata": {},
     "output_type": "display_data"
    },
    {
     "name": "stdout",
     "output_type": "stream",
     "text": [
      "{'adverts': [{'preamble': 'NOTICE IS HEREBY GIVENthat the Mayor will be '\n",
      "                          'issuing the following solicitation(s) not '\n",
      "                          'included in the FY 2015 Annual Contracting Plan '\n",
      "                          'and Schedule that is published pursuant to New '\n",
      "                          'York City Charter § 312(a):'},\n",
      "             {'Agency': 'Department of Parks and Recreation',\n",
      "              'End date of the proposed contract': '5/31/2020',\n",
      "              'Headcount of personnel in substantially similar titles within agency': '0',\n",
      "              'Method of solicitation the agency intends to utilize': 'Sole '\n",
      "                                                                      'Source',\n",
      "              'Nature of services sought': 'Upgrade of Software for '\n",
      "                                           'Recreation membership system '\n",
      "                                           'to a web-based system',\n",
      "              'Personnel in substantially similar titles within agency': 'None',\n",
      "              'Start date of the proposed contract': '6/01/2015'}],\n",
      " 'context': 'Notice of Intent to Issue New Solicitation(s) Not Included in '\n",
      "            'FY 2015 Annual Contracting Plan and Schedule'}\n"
     ]
    },
    {
     "data": {
      "text/html": [
       "<hr />"
      ],
      "text/plain": [
       "<IPython.core.display.HTML object>"
      ]
     },
     "metadata": {},
     "output_type": "display_data"
    },
    {
     "data": {
      "text/html": [
       "<p> <u>Notice of Intent to Issue New Solicitation(s) Not Included in FY 2015 Annual Contracting Plan and Schedule </u></p> <p> &nbsp;</p> <p> <strong>NOTICE IS HEREBY GIVEN</strong> that the Mayor will be issuing the following solicitation(s) not included in the FY 2015 Annual Contracting Plan and Schedule that is published pursuant to New York City Charter &sect; 312(a):</p> <p> &nbsp;</p> <p> Agency: Department of Finance</p> <p> Description of services sought:&nbsp;&nbsp; On-Site Mobile Shredding Services</p> <p> Start date of the proposed contract:&nbsp;&nbsp;7/1/2015</p> <p> End date of the proposed contract:&nbsp;&nbsp; &nbsp;6/30/2020</p> <p> Method of solicitation the agency intends to utilize:&nbsp;&nbsp;&nbsp; Required Method (Preferred Source)</p> <p> Personnel in substantially similar titles within agency:&nbsp;&nbsp; None</p> <p> Headcount of personnel in substantially similar titles within agency:&nbsp; 0</p>"
      ],
      "text/plain": [
       "<IPython.core.display.HTML object>"
      ]
     },
     "metadata": {},
     "output_type": "display_data"
    },
    {
     "name": "stdout",
     "output_type": "stream",
     "text": [
      "{'adverts': [{'preamble': 'NOTICE IS HEREBY GIVENthat the Mayor will be '\n",
      "                          'issuing the following solicitation(s) not '\n",
      "                          'included in the FY 2015 Annual Contracting Plan '\n",
      "                          'and Schedule that is published pursuant to New '\n",
      "                          'York City Charter § 312(a):'},\n",
      "             {'Agency': 'Department of Finance',\n",
      "              'Description of services sought': 'On-Site Mobile Shredding '\n",
      "                                                'Services',\n",
      "              'End date of the proposed contract': '6/30/2020',\n",
      "              'Headcount of personnel in substantially similar titles within agency': '0',\n",
      "              'Method of solicitation the agency intends to utilize': 'Required '\n",
      "                                                                      'Method '\n",
      "                                                                      '(Preferred '\n",
      "                                                                      'Source)',\n",
      "              'Personnel in substantially similar titles within agency': 'None',\n",
      "              'Start date of the proposed contract': '7/1/2015'}],\n",
      " 'context': 'Notice of Intent to Issue New Solicitation(s) Not Included in '\n",
      "            'FY 2015 Annual Contracting Plan and Schedule'}\n"
     ]
    },
    {
     "data": {
      "text/html": [
       "<hr />"
      ],
      "text/plain": [
       "<IPython.core.display.HTML object>"
      ]
     },
     "metadata": {},
     "output_type": "display_data"
    },
    {
     "data": {
      "text/html": [
       "<p> <u>Notice of Intent to Issue New Solicitation(s) Not Included in FY 2015 Annual Contracting Plan and Schedule </u></p> <p> &nbsp;</p> <p> <strong>NOTICE IS HEREBY GIVEN</strong> that the Mayor will be issuing the following solicitation(s) not included in the FY 2015 Annual Contracting Plan and Schedule that is published pursuant to New York City Charter &sect; 312(a):</p> <p> &nbsp;</p> <p> Agency: Department of Health and Mental Hygiene<br /> Nature of services sought: Provision of public education messages through media campaigns services<br /> Start date of the proposed contract: 12/01/2015<br /> End date of the proposed contract: 11/30/2018<br /> Method of solicitation the agency intends to utilize: Competitive Sealed Proposal<br /> Personnel in substantially similar titles within agency: None<br /> Headcount of personnel in substantially similar titles within agency: 0</p>"
      ],
      "text/plain": [
       "<IPython.core.display.HTML object>"
      ]
     },
     "metadata": {},
     "output_type": "display_data"
    },
    {
     "name": "stdout",
     "output_type": "stream",
     "text": [
      "{'adverts': [{'preamble': 'NOTICE IS HEREBY GIVENthat the Mayor will be '\n",
      "                          'issuing the following solicitation(s) not '\n",
      "                          'included in the FY 2015 Annual Contracting Plan '\n",
      "                          'and Schedule that is published pursuant to New '\n",
      "                          'York City Charter § 312(a):'}],\n",
      " 'context': 'Notice of Intent to Issue New Solicitation(s) Not Included in '\n",
      "            'FY 2015 Annual Contracting Plan and Schedule'}\n"
     ]
    },
    {
     "data": {
      "text/html": [
       "<hr />"
      ],
      "text/plain": [
       "<IPython.core.display.HTML object>"
      ]
     },
     "metadata": {},
     "output_type": "display_data"
    },
    {
     "data": {
      "text/html": [
       "<p> <u>Notice of Intent to Issue New Solicitation(s) Not Included in FY 2015 Annual Contracting Plan and Schedule </u></p> <p> &nbsp;</p> <p> <strong>NOTICE IS HEREBY GIVEN</strong> that the Mayor will be issuing the following solicitation(s) not included in the FY 2015 Annual Contracting Plan and Schedule that is published pursuant to New York City Charter &sect; 312(a):</p> <p> &nbsp;</p> <p> Agency:&nbsp; Department of Environmental Protection</p> <p> Description of services sought:&nbsp; SEQNS-FLD DSGN: Design and Design during Construction for SE Queens Flooding Mitigation Program.</p> <p> Start date of the proposed contract:&nbsp; 1/15/2016</p> <p> End date of the proposed contract:&nbsp; 1/14/2020</p> <p> Method of solicitation the agency intends to utilize:&nbsp; Request for Proposals</p> <p> Personnel in substantially similar titles within agency:&nbsp; None</p> <p> Headcount of personnel in substantially similar titles within agency:&nbsp; 0</p>"
      ],
      "text/plain": [
       "<IPython.core.display.HTML object>"
      ]
     },
     "metadata": {},
     "output_type": "display_data"
    },
    {
     "name": "stdout",
     "output_type": "stream",
     "text": [
      "{'adverts': [{'preamble': 'NOTICE IS HEREBY GIVENthat the Mayor will be '\n",
      "                          'issuing the following solicitation(s) not '\n",
      "                          'included in the FY 2015 Annual Contracting Plan '\n",
      "                          'and Schedule that is published pursuant to New '\n",
      "                          'York City Charter § 312(a):'},\n",
      "             {'Agency': 'Department of Environmental Protection',\n",
      "              'Description of services sought': 'SEQNS-FLD DSGN: Design '\n",
      "                                                'and Design during '\n",
      "                                                'Construction for SE '\n",
      "                                                'Queens Flooding '\n",
      "                                                'Mitigation Program.',\n",
      "              'End date of the proposed contract': '1/14/2020',\n",
      "              'Headcount of personnel in substantially similar titles within agency': '0',\n",
      "              'Method of solicitation the agency intends to utilize': 'Request '\n",
      "                                                                      'for '\n",
      "                                                                      'Proposals',\n",
      "              'Personnel in substantially similar titles within agency': 'None',\n",
      "              'Start date of the proposed contract': '1/15/2016'}],\n",
      " 'context': 'Notice of Intent to Issue New Solicitation(s) Not Included in '\n",
      "            'FY 2015 Annual Contracting Plan and Schedule'}\n"
     ]
    },
    {
     "data": {
      "text/html": [
       "<hr />"
      ],
      "text/plain": [
       "<IPython.core.display.HTML object>"
      ]
     },
     "metadata": {},
     "output_type": "display_data"
    }
   ],
   "source": [
    "from IPython.display import HTML, display\n",
    "for doc in fixed[['AdditionalDescription', 'scrape']].values:\n",
    "    if not isinstance(doc[0], str):\n",
    "        continue\n",
    "    soup = Soup(doc[0])\n",
    "#     print(soup.prettify())\n",
    "    display(HTML(doc[0]))\n",
    "    record = parse_html(soup)\n",
    "    pprint.pprint(record)\n",
    "#     print('\\n-----\\n{}\\n'.format(scrape))\n",
    "    \n",
    "    display(HTML('<hr />'))\n",
    "    "
   ]
  },
  {
   "cell_type": "markdown",
   "metadata": {
    "collapsed": true
   },
   "source": [
    "#Parse Meetings (todo)"
   ]
  }
 ],
 "metadata": {
  "kernelspec": {
   "display_name": "Python 3",
   "language": "python",
   "name": "python3"
  },
  "language_info": {
   "codemirror_mode": {
    "name": "ipython",
    "version": 3
   },
   "file_extension": ".py",
   "mimetype": "text/x-python",
   "name": "python",
   "nbconvert_exporter": "python",
   "pygments_lexer": "ipython3",
   "version": "3.4.3"
  }
 },
 "nbformat": 4,
 "nbformat_minor": 0
}
