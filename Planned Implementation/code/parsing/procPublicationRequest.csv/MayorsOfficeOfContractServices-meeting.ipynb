{
 "cells": [
  {
   "cell_type": "markdown",
   "metadata": {},
   "source": [
    "**Parsing Notes for \"Mayor's Office of Contract Services\"::\"Meeting\"**\n",
    "\n",
    "These type of messages demonstrates the difficulty in parsing \n",
    "unstructured document and strengthens the case for injection\n",
    "structure/meta at the point of data-entry. "
   ]
  },
  {
   "cell_type": "code",
   "execution_count": null,
   "metadata": {
    "collapsed": false
   },
   "outputs": [],
   "source": [
    "from bs4 import BeautifulSoup as Soup\n",
    "from IPython.display import display, HTML\n",
    "import pandas as pd\n",
    "import re\n",
    "import pprint\n",
    "import json"
   ]
  },
  {
   "cell_type": "code",
   "execution_count": null,
   "metadata": {
    "collapsed": false
   },
   "outputs": [],
   "source": [
    "fn = 'orig.procPublicationRequest.oct-dec-2014.csv'\n",
    "rows = pd.read_csv(fn, header=0, sep='|', encoding='latin-1')\n",
    "cols = ['RequestID', 'StartDate', \n",
    "        'EndDate', 'AgencyCode', 'AgencyName', \n",
    "        'AgencyDivision', 'TypeOfNoticeCode', \n",
    "        'TypeOfNoticeDescription', 'ShortTitle', \n",
    "        'SectionID', 'SectionName', 'DueDate', \n",
    "        'ConfirmationNumber', 'AdditionalDescription']\n",
    "rows = rows[cols]"
   ]
  },
  {
   "cell_type": "code",
   "execution_count": null,
   "metadata": {
    "collapsed": false
   },
   "outputs": [],
   "source": [
    "def scrape(row):\n",
    "    output = {}\n",
    "    try:\n",
    "        output['text'] = Soup(row.AdditionalDescription).get_text(strip=True)\n",
    "    except Exception:\n",
    "        output = { 'error' : 'bad input', 'text': text }\n",
    "    row['output'] = json.dumps(output)\n",
    "    return row"
   ]
  },
  {
   "cell_type": "code",
   "execution_count": null,
   "metadata": {
    "collapsed": false
   },
   "outputs": [],
   "source": [
    "mocs = rows['AgencyName'] == \"Mayor's Office of Contract Services\"\n",
    "meets = rows['TypeOfNoticeDescription'] == \"Meeting\"\n",
    "fix = rows[mocs & meets].apply(scrape,1)"
   ]
  },
  {
   "cell_type": "code",
   "execution_count": null,
   "metadata": {
    "collapsed": false,
    "scrolled": false
   },
   "outputs": [],
   "source": [
    "for rec in fix[['output', 'AdditionalDescription']].values:\n",
    "    output, text = rec\n",
    "    if not isinstance(text, str):\n",
    "        text = 'NAN'\n",
    "    display(HTML(text))\n",
    "    print('---')\n",
    "    pprint.pprint(json.loads(output))\n",
    "    display(HTML('<hr />'))\n",
    "    print('\\n\\n')"
   ]
  },
  {
   "cell_type": "code",
   "execution_count": null,
   "metadata": {
    "collapsed": true
   },
   "outputs": [],
   "source": []
  },
  {
   "cell_type": "code",
   "execution_count": null,
   "metadata": {
    "collapsed": true
   },
   "outputs": [],
   "source": []
  }
 ],
 "metadata": {
  "kernelspec": {
   "display_name": "Python 3",
   "language": "python",
   "name": "python3"
  },
  "language_info": {
   "codemirror_mode": {
    "name": "ipython",
    "version": 3
   },
   "file_extension": ".py",
   "mimetype": "text/x-python",
   "name": "python",
   "nbconvert_exporter": "python",
   "pygments_lexer": "ipython3",
   "version": "3.4.3"
  }
 },
 "nbformat": 4,
 "nbformat_minor": 0
}
