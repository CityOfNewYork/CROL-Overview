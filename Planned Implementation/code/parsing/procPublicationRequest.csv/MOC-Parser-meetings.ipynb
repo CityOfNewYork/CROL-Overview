{
 "cells": [
  {
   "cell_type": "markdown",
   "metadata": {},
   "source": [
    "**Parsing Notes**\n",
    "\n",
    "Nothing to extract for now: pull data into a dict\n",
    "{ 'text' : .... }\n"
   ]
  },
  {
   "cell_type": "code",
   "execution_count": 30,
   "metadata": {
    "collapsed": false
   },
   "outputs": [],
   "source": [
    "from bs4 import BeautifulSoup as Soup\n",
    "from IPython.display import display, HTML\n",
    "import pandas as pd\n",
    "import re\n",
    "import pprint\n",
    "import json"
   ]
  },
  {
   "cell_type": "code",
   "execution_count": 31,
   "metadata": {
    "collapsed": false
   },
   "outputs": [],
   "source": [
    "fn = 'procPublicationRequest Oct-Dec 2014 (Updated) - Sheet1-2.csv'\n",
    "rows = pd.read_csv(fn, header=0)\n",
    "cols = ['RequestID', 'StartDate', \n",
    "        'EndDate', 'AgencyCode', 'AgencyName', \n",
    "        'AgencyDivision', 'TypeOfNoticeCode', \n",
    "        'TypeOfNoticeDescription', 'ShortTitle', \n",
    "        'SectionID', 'SectionName', 'DueDate', \n",
    "        'ConfirmationNumber', 'AdditionalDescription', 'Address1']\n",
    "rows = rows[cols]"
   ]
  },
  {
   "cell_type": "code",
   "execution_count": 32,
   "metadata": {
    "collapsed": false
   },
   "outputs": [],
   "source": [
    "def scrape(row):\n",
    "    output = {}\n",
    "    if row['AgencyName'] == \"Mayor's Office of Contract Services\" and \\\n",
    "       row['TypeOfNoticeDescription'] == \"Meeting\":\n",
    "        try:\n",
    "            output['text'] = Soup(row.AdditionalDescription).get_text(strip=True)\n",
    "        except Exception:\n",
    "            output = { 'error' : 'bad input', 'text': text }\n",
    "        row['output'] = json.dumps(output)\n",
    "    return row"
   ]
  },
  {
   "cell_type": "code",
   "execution_count": 33,
   "metadata": {
    "collapsed": false
   },
   "outputs": [],
   "source": [
    "fix = rows.apply(scrape,1)\n",
    "mocs = fix['AgencyName'] == \"Mayor's Office of Contract Services\"\n",
    "meets = fix['TypeOfNoticeDescription'] == \"Meeting\"\n",
    "fix = fix[meets & mocs]\n"
   ]
  },
  {
   "cell_type": "code",
   "execution_count": 34,
   "metadata": {
    "collapsed": false
   },
   "outputs": [
    {
     "name": "stdout",
     "output_type": "stream",
     "text": [
      "{'text': 'PUBLIC NOTICE IS HEREBY GIVEN THATtheFranchise and Concession '\n",
      "         'Review Committee will hold aPublic Meeting on Wednesday, October '\n",
      "         '8, 2014 at 2:30 p.m.,at 22 Reade Street, Spector Hall, Borough of '\n",
      "         'Manhattan.NOTE: Individuals requesting Sign Language '\n",
      "         \"Interpretersshould contact the Mayor's Office of Contracts \"\n",
      "         'Services,Public Hearings Unit, 253 Broadway, 9th Floor,New York, '\n",
      "         'NY 10007 (212) 788-7490, no laterthan SEVEN (7) BUSINESS DAYS '\n",
      "         'PRIOR TO THE PUBLIC MEETING. TDDusers should call Verizon relay '\n",
      "         'service.'}\n",
      "\n",
      "\n",
      "\n",
      "{'text': 'PUBLIC NOTICE IS HEREBY GIVEN THATtheFranchise and Concession '\n",
      "         'Review Committee will hold aPublic Meeting on Wednesday'}\n",
      "\n",
      "\n",
      "\n",
      "{'text': 'PUBLIC NOTICE IS HEREBY GIVEN THATtheFranchise and Concession '\n",
      "         'Review Committee will hold aPublic Meeting on Wednesday, December '\n",
      "         '10, 2014 at 2:30 p.m.,at 22 Reade Street, Spector Hall, Borough of '\n",
      "         'Manhattan.NOTE: Individuals requesting Sign Language '\n",
      "         \"Interpretersshould contact the Mayor's Office of Contracts \"\n",
      "         'Services,Public Hearings Unit, 253 Broadway, 9th Floor,New York, '\n",
      "         'NY 10007 (212) 788-7490, no laterthan SEVEN (7) BUSINESS DAYS '\n",
      "         'PRIOR TO THE PUBLIC MEETING. TDDusers should call Verizon relay '\n",
      "         'service.'}\n",
      "\n",
      "\n",
      "\n"
     ]
    }
   ],
   "source": [
    "for rec in fix['output'].values:\n",
    "    pprint.pprint(json.loads(rec))\n",
    "    print('\\n\\n')"
   ]
  },
  {
   "cell_type": "code",
   "execution_count": null,
   "metadata": {
    "collapsed": true
   },
   "outputs": [],
   "source": []
  }
 ],
 "metadata": {
  "kernelspec": {
   "display_name": "Python 3",
   "language": "python",
   "name": "python3"
  },
  "language_info": {
   "codemirror_mode": {
    "name": "ipython",
    "version": 3
   },
   "file_extension": ".py",
   "mimetype": "text/x-python",
   "name": "python",
   "nbconvert_exporter": "python",
   "pygments_lexer": "ipython3",
   "version": "3.4.3"
  }
 },
 "nbformat": 4,
 "nbformat_minor": 0
}
