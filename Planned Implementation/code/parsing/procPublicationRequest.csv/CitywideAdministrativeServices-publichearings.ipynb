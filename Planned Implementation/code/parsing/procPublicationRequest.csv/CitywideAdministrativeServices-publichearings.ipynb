{
 "cells": [
  {
   "cell_type": "markdown",
   "metadata": {},
   "source": [
    "**Parsing Notes**\n",
    "\n",
    "Some entries seem to be missing context"
   ]
  },
  {
   "cell_type": "code",
   "execution_count": 17,
   "metadata": {
    "collapsed": false
   },
   "outputs": [],
   "source": [
    "from bs4 import BeautifulSoup as Soup\n",
    "from IPython.display import display, HTML\n",
    "import pandas as pd\n",
    "import re\n",
    "import pprint\n",
    "import json"
   ]
  },
  {
   "cell_type": "code",
   "execution_count": 18,
   "metadata": {
    "collapsed": false
   },
   "outputs": [],
   "source": [
    "fn = 'procPublicationRequest Oct-Dec 2014 (Updated) - Sheet1-2.csv'\n",
    "rows = pd.read_csv(fn, header=0)"
   ]
  },
  {
   "cell_type": "code",
   "execution_count": 19,
   "metadata": {
    "collapsed": false
   },
   "outputs": [],
   "source": [
    "def scrape(row):\n",
    "    output = {}\n",
    "    if row['AgencyName'] == \"Citywide Administrative Services\" and \\\n",
    "       row['TypeOfNoticeDescription'] == \"Public Hearings\":\n",
    "        try:\n",
    "            if not isinstance(row.AdditionalDescription, str):\n",
    "                output = { 'error' : row.AdditionalDescription }\n",
    "            else:    \n",
    "                soup = Soup(row.AdditionalDescription)\n",
    "                text = soup.get_text(strip=True)\n",
    "                print('BEGIN: ' +'=-=-=-=-==-==-='*7)\n",
    "                pprint.pprint(soup.prettify())\n",
    "                print('---'*22)\n",
    "                display(HTML(row.AdditionalDescription))\n",
    "                print('---'*22)\n",
    "                print('END: ' + '=-=-=-=-==-==-='*7)\n",
    "                display(HTML('<br/><hr/><br/>'))\n",
    "        except Exception:\n",
    "            output = { 'error' : 'bad input', 'text': text }\n",
    "    row['output'] = json.dumps(output)\n",
    "    return row"
   ]
  },
  {
   "cell_type": "code",
   "execution_count": 20,
   "metadata": {
    "collapsed": false,
    "scrolled": true
   },
   "outputs": [
    {
     "name": "stdout",
     "output_type": "stream",
     "text": [
      "BEGIN: =-=-=-=-==-==-==-=-=-=-==-==-==-=-=-=-==-==-==-=-=-=-==-==-==-=-=-=-==-==-==-=-=-=-==-==-==-=-=-=-==-==-=\n",
      "('<p align=\\'center\"\\'>\\n'\n",
      " '</p>\\n'\n",
      " '<p>\\n'\n",
      " ' <strong>\\n'\n",
      " '  NOTICE IS HEREBY GIVEN THAT A REAL PROPERTY ACQUISITIONS AND '\n",
      " 'DISPOSITIONS PUBLIC HEARING\\n'\n",
      " ' </strong>\\n'\n",
      " '</p>')\n",
      "------------------------------------------------------------------\n"
     ]
    },
    {
     "data": {
      "text/html": [
       "<p align=center\"> &nbsp;</p> <p> <strong>NOTICE IS HEREBY GIVEN THAT A REAL PROPERTY ACQUISITIONS AND DISPOSITIONS PUBLIC HEARING</strong>"
      ],
      "text/plain": [
       "<IPython.core.display.HTML object>"
      ]
     },
     "metadata": {},
     "output_type": "display_data"
    },
    {
     "name": "stdout",
     "output_type": "stream",
     "text": [
      "------------------------------------------------------------------\n",
      "END: =-=-=-=-==-==-==-=-=-=-==-==-==-=-=-=-==-==-==-=-=-=-==-==-==-=-=-=-==-==-==-=-=-=-==-==-==-=-=-=-==-==-=\n"
     ]
    },
    {
     "data": {
      "text/html": [
       "<br/><hr/><br/>"
      ],
      "text/plain": [
       "<IPython.core.display.HTML object>"
      ]
     },
     "metadata": {},
     "output_type": "display_data"
    },
    {
     "name": "stdout",
     "output_type": "stream",
     "text": [
      "BEGIN: =-=-=-=-==-==-==-=-=-=-==-==-==-=-=-=-==-==-==-=-=-=-==-==-==-=-=-=-==-==-==-=-=-=-==-==-==-=-=-=-==-==-=\n",
      "('<p>\\n'\n",
      " ' <strong>\\n'\n",
      " '  NOTICE IS HEREBY GIVEN THAT A REAL PROPERTY ACQUISITIONS AND '\n",
      " 'DISPOSITIONS PUBLIC HEARING\\n'\n",
      " ' </strong>\\n'\n",
      " ' , in accordance with Section 824 of the New York City Charter, will be '\n",
      " 'held on Wednesday October 22, 2014 at 10:00 a.m., 22 Reade Street, 2\\n'\n",
      " ' <sup>\\n'\n",
      " '  nd\\n'\n",
      " ' </sup>\\n'\n",
      " ' floor conference room, Borough of Manhattan\\n'\n",
      " '</p>\\n'\n",
      " '<p>\\n'\n",
      " ' <strong>\\n'\n",
      " '  IN THE MATTER OF\\n'\n",
      " ' </strong>\\n'\n",
      " ' a lease for The City of New York, as Tenant, of approximately 10,826 '\n",
      " 'rentable square feet of space on part of the second\\xa0 floor in a '\n",
      " 'building located at 1 Teleport Drive\\xa0 (Block 2165, Lot 170), in the '\n",
      " 'Borough of Staten Island, for the Traffic Enforcement Division of the '\n",
      " 'Police Department to use as an office.\\n'\n",
      " '</p>\\n'\n",
      " '<p>\\n'\n",
      " '</p>\\n'\n",
      " '<p>\\n'\n",
      " ' The proposed lease shall be for a period of twenty (20) years and three '\n",
      " '(3) months from Substantial Completion of alterations and improvements, at '\n",
      " 'an annual rent of $278,064.15 from rent commencement through the first '\n",
      " 'five (5) years, $308,119.21 for the following five (5) years, $341,135.90 '\n",
      " 'for the following five (5) years and $377,443.29 for the last five (5) '\n",
      " 'years, payable in equal monthly installments at the end of each month.\\xa0 '\n",
      " 'The first three (3) months’ rent shall be abated.\\n'\n",
      " '</p>\\n'\n",
      " '<p>\\n'\n",
      " '</p>\\n'\n",
      " '<p>\\n'\n",
      " ' The lease may be terminated by the Tenant at the end of five (5) years, '\n",
      " 'or anytime thereafter, provided the Tenant gives the Landlord one (1) year '\n",
      " 'prior written notice.\\xa0 In the event that the lease is terminated by the '\n",
      " 'Tenant, the Tenant shall pay to the Landlord all rents and charges due and '\n",
      " 'payable up to and including the termination date, as well as the '\n",
      " 'unamortized portion of the Tenant’s broker’s commission and Landlord’s '\n",
      " 'contribution to the Tenant Work.\\n'\n",
      " '</p>\\n'\n",
      " '<p>\\n'\n",
      " '</p>\\n'\n",
      " '<p>\\n'\n",
      " ' The Tenant shall have the right to renew the lease for a period of five '\n",
      " '(5) years at 95% of Fair Market Value (FMV).\\n'\n",
      " '</p>\\n'\n",
      " '<p>\\n'\n",
      " ' The Landlord shall prepare final architectural plans and engineering '\n",
      " 'plans and make alterations and improvements in accordance with preliminary '\n",
      " 'architectural plans and specifications which are attached to the lease. '\n",
      " 'The alterations and improvements consist of Base Building Work, which the '\n",
      " 'landlord shall provide at its sole cost and expense, and Tenant Work.\\xa0 '\n",
      " 'The total cost of the Tenant Work shall not exceed $2,230,900.00 of which '\n",
      " 'the Landlord shall contribute $278,613.00 and the balance up to '\n",
      " '$1,952,287.00 will be paid by the Tenant pursuant to the terms of the '\n",
      " 'lease.\\n'\n",
      " '</p>\\n'\n",
      " '<p>\\n'\n",
      " '</p>\\n'\n",
      " '<p>\\n'\n",
      " ' <strong>\\n'\n",
      " '  IN THE MATTER OF\\n'\n",
      " ' </strong>\\n'\n",
      " ' a lease for The City of New York, as Tenant, of approximately 15,270 '\n",
      " 'rentable square feet of space on part of the fifth\\xa0 floor in a building '\n",
      " 'located at 1775 Grand Concourse (Block 2822, Lot 1001), in the Borough of '\n",
      " 'Bronx, for the Bronx Tort Division of the Department of Law to use as '\n",
      " 'office or for such other use as the Commissioner of the Department of '\n",
      " 'Citywide Administrative Services may determine.\\n'\n",
      " '</p>\\n'\n",
      " '<p>\\n'\n",
      " '</p>\\n'\n",
      " '<p>\\n'\n",
      " ' The proposed use was approved by the City Planning Commission pursuant to '\n",
      " 'NYC Charter Section 195 on January 8, 2014 (CPC Appl. No. N 140214 PXX ).\\n'\n",
      " '</p>\\n'\n",
      " '<p>\\n'\n",
      " '</p>\\n'\n",
      " '<p>\\n'\n",
      " ' The proposed lease shall be for a period of ten (10) years from '\n",
      " 'Substantial Completion of alterations and improvements, at an annual rent '\n",
      " 'of $498,080.00 ($32.61 per square foot) for the first five (5) years, and '\n",
      " '$562,080.00 ($36.80 per square foot) for the last five (5) years, payable '\n",
      " 'in equal monthly installments at the end of each month.\\xa0 The first '\n",
      " 'months’ rent shall be abated.\\xa0 Five (5) parking spaces are included in '\n",
      " 'the annual rent at no additional charge.\\n'\n",
      " '</p>\\n'\n",
      " '<p>\\n'\n",
      " '</p>\\n'\n",
      " '<p>\\n'\n",
      " ' The lease may be terminated by the Tenant at the end of five (5) years, '\n",
      " 'or anytime thereafter, provided the Tenant gives the Landlord nine (9) '\n",
      " 'months prior written notice.\\xa0 In the event that the lease is terminated '\n",
      " 'by the Tenant, the Tenant shall pay to the Landlord the unamortized '\n",
      " 'portion of the Tenant’s broker’s commission, the free rent, and Landlord’s '\n",
      " 'contribution to the Tenant Work.\\n'\n",
      " '</p>\\n'\n",
      " '<p>\\n'\n",
      " '</p>\\n'\n",
      " '<p>\\n'\n",
      " ' The Tenant shall have 2 (two) options to renew the lease for periods of '\n",
      " 'five (5) years each at 90% of Fair Market Value (FMV) which shall be no '\n",
      " 'less than the previous year’s base rent.\\n'\n",
      " '</p>\\n'\n",
      " '<p>\\n'\n",
      " ' The Landlord shall prepare final architectural plans and engineering '\n",
      " 'plans and make alterations and improvements in accordance with preliminary '\n",
      " 'architectural plans and specifications which are attached to the lease. '\n",
      " 'The alterations and improvements consist of Base Building Work, which the '\n",
      " 'landlord shall provide at its sole cost and expense, and Tenant Work.\\xa0 '\n",
      " 'The total cost the final architectural plans and engineering plans for the '\n",
      " 'Tenant Work and the Tenant Work shall not exceed $2,705,200.00 ($177.16 '\n",
      " 'per square foot) of which the Landlord shall contribute $560,000.00 '\n",
      " '($36.67 per square foot) and the balance up to $2,145,200.00 will be paid '\n",
      " 'by the Tenant, to be disbursed in one lump sum payment upon the '\n",
      " 'substantial completion of the alterations and improvements.\\n'\n",
      " '</p>\\n'\n",
      " '<p>\\n'\n",
      " '</p>\\n'\n",
      " '<p>\\n'\n",
      " ' Further information, including public inspection of the proposed lease '\n",
      " 'may be obtained at One Centre Street, Room 2000 North, New York, N.Y. '\n",
      " '10007. To schedule an inspection, please contact Chris Fleming at (212) '\n",
      " '386-0315.\\n'\n",
      " '</p>\\n'\n",
      " '<p>\\n'\n",
      " '</p>\\n'\n",
      " '<p>\\n'\n",
      " ' Individuals requesting Sign Language Interpreters should contact the '\n",
      " 'Mayor’s Office of Contract Services, Public Hearings Unit, 253 Broadway, '\n",
      " '2\\n'\n",
      " ' <sup>\\n'\n",
      " '  nd\\n'\n",
      " ' </sup>\\n'\n",
      " ' Floor, New York, N.Y. 10007, (212) 788-7490, no later than SEVEN (7) '\n",
      " 'BUSINESS DAYS PRIOR TO THE PUBLIC HEARING. TDD users should call VERIZON '\n",
      " 'relay service.\\n'\n",
      " '</p>')\n",
      "------------------------------------------------------------------\n"
     ]
    },
    {
     "data": {
      "text/html": [
       "<p> <strong>NOTICE IS HEREBY GIVEN THAT A REAL PROPERTY ACQUISITIONS AND DISPOSITIONS PUBLIC HEARING</strong>, in accordance with Section 824 of the New York City Charter, will be held on Wednesday October 22, 2014 at 10:00 a.m., 22 Reade Street, 2<sup>nd</sup> floor conference room, Borough of Manhattan</p> <p> <strong>IN THE MATTER OF</strong> a lease for The City of New York, as Tenant, of approximately 10,826 rentable square feet of space on part of the second&nbsp; floor in a building located at 1 Teleport Drive&nbsp; (Block 2165, Lot 170), in the Borough of Staten Island, for the Traffic Enforcement Division of the Police Department to use as an office.</p> <p> &nbsp;</p> <p> The proposed lease shall be for a period of twenty (20) years and three (3) months from Substantial Completion of alterations and improvements, at an annual rent of $278,064.15 from rent commencement through the first five (5) years, $308,119.21 for the following five (5) years, $341,135.90 for the following five (5) years and $377,443.29 for the last five (5) years, payable in equal monthly installments at the end of each month.&nbsp; The first three (3) months&rsquo; rent shall be abated.</p> <p> &nbsp;</p> <p> The lease may be terminated by the Tenant at the end of five (5) years, or anytime thereafter, provided the Tenant gives the Landlord one (1) year prior written notice.&nbsp; In the event that the lease is terminated by the Tenant, the Tenant shall pay to the Landlord all rents and charges due and payable up to and including the termination date, as well as the unamortized portion of the Tenant&rsquo;s broker&rsquo;s commission and Landlord&rsquo;s contribution to the Tenant Work.</p> <p> &nbsp;</p> <p> The Tenant shall have the right to renew the lease for a period of five (5) years at 95% of Fair Market Value (FMV).</p> <p> The Landlord shall prepare final architectural plans and engineering plans and make alterations and improvements in accordance with preliminary architectural plans and specifications which are attached to the lease. The alterations and improvements consist of Base Building Work, which the landlord shall provide at its sole cost and expense, and Tenant Work.&nbsp; The total cost of the Tenant Work shall not exceed $2,230,900.00 of which the Landlord shall contribute $278,613.00 and the balance up to $1,952,287.00 will be paid by the Tenant pursuant to the terms of the lease.</p> <p> &nbsp;</p> <p> <strong>IN THE MATTER OF</strong> a lease for The City of New York, as Tenant, of approximately 15,270 rentable square feet of space on part of the fifth&nbsp; floor in a building located at 1775 Grand Concourse (Block 2822, Lot 1001), in the Borough of Bronx, for the Bronx Tort Division of the Department of Law to use as office or for such other use as the Commissioner of the Department of Citywide Administrative Services may determine.</p> <p> &nbsp;</p> <p> The proposed use was approved by the City Planning Commission pursuant to NYC Charter Section 195 on January 8, 2014 (CPC Appl. No. N 140214 PXX ).</p> <p> &nbsp;</p> <p> The proposed lease shall be for a period of ten (10) years from Substantial Completion of alterations and improvements, at an annual rent of $498,080.00 ($32.61 per square foot) for the first five (5) years, and $562,080.00 ($36.80 per square foot) for the last five (5) years, payable in equal monthly installments at the end of each month.&nbsp; The first months&rsquo; rent shall be abated.&nbsp; Five (5) parking spaces are included in the annual rent at no additional charge.</p> <p> &nbsp;</p> <p> The lease may be terminated by the Tenant at the end of five (5) years, or anytime thereafter, provided the Tenant gives the Landlord nine (9) months prior written notice.&nbsp; In the event that the lease is terminated by the Tenant, the Tenant shall pay to the Landlord the unamortized portion of the Tenant&rsquo;s broker&rsquo;s commission, the free rent, and Landlord&rsquo;s contribution to the Tenant Work.</p> <p> &nbsp;</p> <p> The Tenant shall have 2 (two) options to renew the lease for periods of five (5) years each at 90% of Fair Market Value (FMV) which shall be no less than the previous year&rsquo;s base rent.</p> <p> The Landlord shall prepare final architectural plans and engineering plans and make alterations and improvements in accordance with preliminary architectural plans and specifications which are attached to the lease. The alterations and improvements consist of Base Building Work, which the landlord shall provide at its sole cost and expense, and Tenant Work.&nbsp; The total cost the final architectural plans and engineering plans for the Tenant Work and the Tenant Work shall not exceed $2,705,200.00 ($177.16 per square foot) of which the Landlord shall contribute $560,000.00 ($36.67 per square foot) and the balance up to $2,145,200.00 will be paid by the Tenant, to be disbursed in one lump sum payment upon the substantial completion of the alterations and improvements.</p> <p> &nbsp;</p> <p> Further information, including public inspection of the proposed lease may be obtained at One Centre Street, Room 2000 North, New York, N.Y. 10007. To schedule an inspection, please contact Chris Fleming at (212) 386-0315.</p> <p> &nbsp;</p> <p> Individuals requesting Sign Language Interpreters should contact the Mayor&rsquo;s Office of Contract Services, Public Hearings Unit, 253 Broadway, 2<sup>nd</sup> Floor, New York, N.Y. 10007, (212) 788-7490, no later than SEVEN (7) BUSINESS DAYS PRIOR TO THE PUBLIC HEARING. TDD users should call VERIZON relay service.</p>"
      ],
      "text/plain": [
       "<IPython.core.display.HTML object>"
      ]
     },
     "metadata": {},
     "output_type": "display_data"
    },
    {
     "name": "stdout",
     "output_type": "stream",
     "text": [
      "------------------------------------------------------------------\n",
      "END: =-=-=-=-==-==-==-=-=-=-==-==-==-=-=-=-==-==-==-=-=-=-==-==-==-=-=-=-==-==-==-=-=-=-==-==-==-=-=-=-==-==-=\n"
     ]
    },
    {
     "data": {
      "text/html": [
       "<br/><hr/><br/>"
      ],
      "text/plain": [
       "<IPython.core.display.HTML object>"
      ]
     },
     "metadata": {},
     "output_type": "display_data"
    },
    {
     "name": "stdout",
     "output_type": "stream",
     "text": [
      "BEGIN: =-=-=-=-==-==-==-=-=-=-==-==-==-=-=-=-==-==-==-=-=-=-==-==-==-=-=-=-==-==-==-=-=-=-==-==-==-=-=-=-==-==-=\n",
      "('<p align=\\'center\"\\'>\\n'\n",
      " ' <strong>\\n'\n",
      " '  Notice of Public Hearing\\n'\n",
      " ' </strong>\\n'\n",
      " '</p>\\n'\n",
      " '<p>\\n'\n",
      " '</p>\\n'\n",
      " '<p>\\n'\n",
      " ' <strong>\\n'\n",
      " '  NOTICE IS HEREBY GIVEN THAT A REAL PROPERTY ACQUISITIONS AND '\n",
      " 'DISPOSITIONS PUBLIC HEARING\\n'\n",
      " ' </strong>\\n'\n",
      " '</p>')\n",
      "------------------------------------------------------------------\n"
     ]
    },
    {
     "data": {
      "text/html": [
       "<p align=center\"> <strong>Notice of Public Hearing</strong></p> <p> &nbsp;</p> <p> <strong>NOTICE IS HEREBY GIVEN THAT A REAL PROPERTY ACQUISITIONS AND DISPOSITIONS PUBLIC HEARING</strong>"
      ],
      "text/plain": [
       "<IPython.core.display.HTML object>"
      ]
     },
     "metadata": {},
     "output_type": "display_data"
    },
    {
     "name": "stdout",
     "output_type": "stream",
     "text": [
      "------------------------------------------------------------------\n",
      "END: =-=-=-=-==-==-==-=-=-=-==-==-==-=-=-=-==-==-==-=-=-=-==-==-==-=-=-=-==-==-==-=-=-=-==-==-==-=-=-=-==-==-=\n"
     ]
    },
    {
     "data": {
      "text/html": [
       "<br/><hr/><br/>"
      ],
      "text/plain": [
       "<IPython.core.display.HTML object>"
      ]
     },
     "metadata": {},
     "output_type": "display_data"
    },
    {
     "name": "stdout",
     "output_type": "stream",
     "text": [
      "BEGIN: =-=-=-=-==-==-==-=-=-=-==-==-==-=-=-=-==-==-==-=-=-=-==-==-==-=-=-=-==-==-==-=-=-=-==-==-==-=-=-=-==-==-=\n",
      "('<p>\\n'\n",
      " ' <strong>\\n'\n",
      " '  NOTICE IS HEREBY GIVEN THAT A REAL PROPERTY ACQUISITIONS AND '\n",
      " 'DISPOSITIONS PUBLIC HEARING\\n'\n",
      " ' </strong>\\n'\n",
      " ' , in accordance with Section 824 of the New York City Charter, will be '\n",
      " 'held on November 24, 2014 at 10:00 a.m., 22 Reade Street, 2\\n'\n",
      " ' <sup>\\n'\n",
      " '  nd\\n'\n",
      " ' </sup>\\n'\n",
      " ' floor conference room, Borough of Manhattan.\\n'\n",
      " '</p>\\n'\n",
      " '<p>\\n'\n",
      " ' <strong>\\n'\n",
      " '  IN THE MATTER OF\\n'\n",
      " ' </strong>\\n'\n",
      " ' a lease renewal and amendment agreement for The City of New York, as '\n",
      " 'Tenant, of approximately 21,741 rentable square feet of space on the tenth '\n",
      " 'floor in a building located at 200 Varick Street (Block 520, Lot 1) in the '\n",
      " 'Borough of Manhattan for the Board of Elections to use as an office, or '\n",
      " 'any other use that the Department of Citywide Administrative Services may '\n",
      " 'determine.\\n'\n",
      " '</p>\\n'\n",
      " '<p>\\n'\n",
      " '</p>\\n'\n",
      " '<p>\\n'\n",
      " ' The proposed lease renewal and amendment agreement (the “Agreement”) '\n",
      " 'shall be for the term of ten (10) years from October 1, 2013, at an annual '\n",
      " 'rent of $885,640.00 ($40.73 per square foot) for the first five (5) years, '\n",
      " 'and thereafter at an annual rent of $931,152.00 ($42.83 per square foot) '\n",
      " 'for the final five (5) years, payable in equal monthly installments at the '\n",
      " 'end of each month.\\xa0 The first month’s rent payment shall include '\n",
      " 'retroactive rent to September 30, 2013, and as more fully set forth in the '\n",
      " 'Agreement.\\n'\n",
      " '</p>\\n'\n",
      " '<p>\\n'\n",
      " '</p>\\n'\n",
      " '<p>\\n'\n",
      " ' The Tenant shall have the option to renew the lease for an additional '\n",
      " 'term of five (5) years at a base annual rental for each year of 90% of the '\n",
      " 'then Fair Market Value Rental.\\n'\n",
      " '</p>\\n'\n",
      " '<p>\\n'\n",
      " '</p>\\n'\n",
      " '<p>\\n'\n",
      " ' The Tenant may terminate the Agreement at the end of two (2) years, or at '\n",
      " 'any time thereafter, provided the Tenant gives the Landlord six (6) months '\n",
      " 'prior written notice.\\xa0 In the event the Tenant exercises its right to '\n",
      " 'terminate, the Tenant shall pay to the Landlord the unamortized portion of '\n",
      " 'the cost of Tenant’s work on a five (5) year straight-line basis.\\n'\n",
      " '</p>\\n'\n",
      " '<p>\\n'\n",
      " '</p>\\n'\n",
      " '<p>\\n'\n",
      " ' <strong>\\n'\n",
      " '  IN THE MATTER OF\\n'\n",
      " ' </strong>\\n'\n",
      " ' renewal of the lease for the City of New York, as tenant, of '\n",
      " 'approximately 1,429 rentable square feet of space on the ground floor of '\n",
      " 'the building located at 61-23 Myrtle Avenue (Block 3638, Lot 65) in the '\n",
      " 'Borough of Queens for Community Board No. 5 to use as an office or for '\n",
      " 'such other use that the Commissioner of Department of Citywide '\n",
      " 'Administration may determine.\\n'\n",
      " '</p>\\n'\n",
      " '<p>\\n'\n",
      " '</p>\\n'\n",
      " '<p>\\n'\n",
      " ' The proposed renewal of the lease shall be for the term of fifteen (15) '\n",
      " 'years from January 1, 2015 at an annual rent of $36,740.00 ($25.71 per '\n",
      " 'square foot) for the first five (5) years, then $40,425.00 ($31.11 per '\n",
      " 'square foot) for the next five (5) years, then $44,455.00 ($31.11 per '\n",
      " 'square foot) for the final five (5) years, payable in equal monthly '\n",
      " 'installments at the end of each month.\\n'\n",
      " '</p>\\n'\n",
      " '<p>\\n'\n",
      " '</p>\\n'\n",
      " '<p>\\n'\n",
      " ' The Lease may be terminated by the Tenant without penalty at any time '\n",
      " 'after the second anniversary of the Extended Term Commencement Date of '\n",
      " 'January 1, 2015 upon sixty (60) days prior written notice to Landlord.\\n'\n",
      " '</p>\\n'\n",
      " '<p>\\n'\n",
      " '</p>\\n'\n",
      " '<p>\\n'\n",
      " ' Landlord will perform alterations and improvements at his sole cost and '\n",
      " 'expense based on a scope of work.\\n'\n",
      " '</p>\\n'\n",
      " '<p>\\n'\n",
      " ' Further information, including public inspection of the proposed lease '\n",
      " 'may be obtained at One Centre Street, Room 2000 North, New York, N.Y.\\xa0 '\n",
      " '10007.\\xa0 To schedule an inspection, please contact Chris Fleming at '\n",
      " '(212) 386-0315.\\n'\n",
      " '</p>\\n'\n",
      " '<p>\\n'\n",
      " '</p>\\n'\n",
      " '<p>\\n'\n",
      " ' Individuals requesting Sign Language Interpreters should contact the '\n",
      " 'Mayor’s Office of Contract Services, Public Hearings Unit, 253 Broadway, '\n",
      " '2nd Floor, New York, N.Y.\\xa0 10007,\\xa0 (212) 788-7490, no later than '\n",
      " 'SEVEN (7) BUSINESS DAYS PRIOR TO THE PUBLIC HEARING.\\xa0 TDD users should '\n",
      " 'call VERIZON relay services.\\n'\n",
      " '</p>')\n",
      "------------------------------------------------------------------\n"
     ]
    },
    {
     "data": {
      "text/html": [
       "<p> <strong>NOTICE IS HEREBY GIVEN THAT A REAL PROPERTY ACQUISITIONS AND DISPOSITIONS PUBLIC HEARING</strong>, in accordance with Section 824 of the New York City Charter, will be held on November 24, 2014 at 10:00 a.m., 22 Reade Street, 2<sup>nd</sup> floor conference room, Borough of Manhattan.</p> <p> <strong>IN THE MATTER OF </strong>a lease renewal and amendment agreement for The City of New York, as Tenant, of approximately 21,741 rentable square feet of space on the tenth floor in a building located at 200 Varick Street (Block 520, Lot 1) in the Borough of Manhattan for the Board of Elections to use as an office, or any other use that the Department of Citywide Administrative Services may determine.</p> <p> &nbsp;</p> <p> The proposed lease renewal and amendment agreement (the &ldquo;Agreement&rdquo;) shall be for the term of ten (10) years from October 1, 2013, at an annual rent of $885,640.00 ($40.73 per square foot) for the first five (5) years, and thereafter at an annual rent of $931,152.00 ($42.83 per square foot) for the final five (5) years, payable in equal monthly installments at the end of each month.&nbsp; The first month&rsquo;s rent payment shall include retroactive rent to September 30, 2013, and as more fully set forth in the Agreement.</p> <p> &nbsp;&nbsp;&nbsp;&nbsp;&nbsp;&nbsp;&nbsp;&nbsp;&nbsp;&nbsp;&nbsp;</p> <p> The Tenant shall have the option to renew the lease for an additional term of five (5) years at a base annual rental for each year of 90% of the then Fair Market Value Rental.</p> <p> &nbsp;</p> <p> The Tenant may terminate the Agreement at the end of two (2) years, or at any time thereafter, provided the Tenant gives the Landlord six (6) months prior written notice.&nbsp; In the event the Tenant exercises its right to terminate, the Tenant shall pay to the Landlord the unamortized portion of the cost of Tenant&rsquo;s work on a five (5) year straight-line basis.</p> <p> &nbsp;</p> <p> <strong>IN THE MATTER OF </strong>renewal of the lease for the City of New York, as tenant, of approximately 1,429 rentable square feet of space on the ground floor of the building located at 61-23 Myrtle Avenue (Block 3638, Lot 65) in the Borough of Queens for Community Board No. 5 to use as an office or for such other use that the Commissioner of Department of Citywide Administration may determine.</p> <p> &nbsp;</p> <p> The proposed renewal of the lease shall be for the term of fifteen (15) years from January 1, 2015 at an annual rent of $36,740.00 ($25.71 per square foot) for the first five (5) years, then $40,425.00 ($31.11 per square foot) for the next five (5) years, then $44,455.00 ($31.11 per square foot) for the final five (5) years, payable in equal monthly installments at the end of each month.&nbsp;</p> <p> &nbsp;</p> <p> The Lease may be terminated by the Tenant without penalty at any time after the second anniversary of the Extended Term Commencement Date of January 1, 2015 upon sixty (60) days prior written notice to Landlord.</p> <p> &nbsp;</p> <p> Landlord will perform alterations and improvements at his sole cost and expense based on a scope of work.</p> <p> Further information, including public inspection of the proposed lease may be obtained at One Centre Street, Room 2000 North, New York, N.Y.&nbsp; 10007.&nbsp; To schedule an inspection, please contact Chris Fleming at (212) 386-0315.</p> <p> &nbsp;</p> <p> Individuals requesting Sign Language Interpreters should contact the Mayor&rsquo;s Office of Contract Services, Public Hearings Unit, 253 Broadway, 2nd Floor, New York, N.Y.&nbsp; 10007,&nbsp; (212) 788-7490, no later than SEVEN (7) BUSINESS DAYS PRIOR TO THE PUBLIC HEARING.&nbsp; TDD users should call VERIZON relay services.</p>"
      ],
      "text/plain": [
       "<IPython.core.display.HTML object>"
      ]
     },
     "metadata": {},
     "output_type": "display_data"
    },
    {
     "name": "stdout",
     "output_type": "stream",
     "text": [
      "------------------------------------------------------------------\n",
      "END: =-=-=-=-==-==-==-=-=-=-==-==-==-=-=-=-==-==-==-=-=-=-==-==-==-=-=-=-==-==-==-=-=-=-==-==-==-=-=-=-==-==-=\n"
     ]
    },
    {
     "data": {
      "text/html": [
       "<br/><hr/><br/>"
      ],
      "text/plain": [
       "<IPython.core.display.HTML object>"
      ]
     },
     "metadata": {},
     "output_type": "display_data"
    },
    {
     "name": "stdout",
     "output_type": "stream",
     "text": [
      "BEGIN: =-=-=-=-==-==-==-=-=-=-==-==-==-=-=-=-==-==-==-=-=-=-==-==-==-=-=-=-==-==-==-=-=-=-==-==-==-=-=-=-==-==-=\n",
      "('<p align=\\'center\"\\'>\\n'\n",
      " '</p>\\n'\n",
      " '<p>\\n'\n",
      " ' <strong>\\n'\n",
      " '  NOTICE IS HEREBY GIVEN THAT A REAL PROPERTY ACQUISITIONS AND '\n",
      " 'DISPOSITIONS PUBLIC HEARING\\n'\n",
      " ' </strong>\\n'\n",
      " '</p>')\n",
      "------------------------------------------------------------------\n"
     ]
    },
    {
     "data": {
      "text/html": [
       "<p align=center\"> &nbsp;</p> <p> <strong>NOTICE IS HEREBY GIVEN THAT A REAL PROPERTY ACQUISITIONS AND DISPOSITIONS PUBLIC HEARING</strong>"
      ],
      "text/plain": [
       "<IPython.core.display.HTML object>"
      ]
     },
     "metadata": {},
     "output_type": "display_data"
    },
    {
     "name": "stdout",
     "output_type": "stream",
     "text": [
      "------------------------------------------------------------------\n",
      "END: =-=-=-=-==-==-==-=-=-=-==-==-==-=-=-=-==-==-==-=-=-=-==-==-==-=-=-=-==-==-==-=-=-=-==-==-==-=-=-=-==-==-=\n"
     ]
    },
    {
     "data": {
      "text/html": [
       "<br/><hr/><br/>"
      ],
      "text/plain": [
       "<IPython.core.display.HTML object>"
      ]
     },
     "metadata": {},
     "output_type": "display_data"
    },
    {
     "name": "stdout",
     "output_type": "stream",
     "text": [
      "BEGIN: =-=-=-=-==-==-==-=-=-=-==-==-==-=-=-=-==-==-==-=-=-=-==-==-==-=-=-=-==-==-==-=-=-=-==-==-==-=-=-=-==-==-=\n",
      "('<p>\\n'\n",
      " ' <strong>\\n'\n",
      " '  NOTICE IS HEREBY GIVEN THAT A REAL PROPERTY ACQUISITIONS AND '\n",
      " 'DISPOSITIONS PUBLIC HEARING\\n'\n",
      " ' </strong>\\n'\n",
      " ' , in accordance with Section 824 of the New York City Charter, will be '\n",
      " 'held on December 10, 2014 at 10:30 a.m., 22 Reade Street, 2\\n'\n",
      " ' <sup>\\n'\n",
      " '  nd\\n'\n",
      " ' </sup>\\n'\n",
      " ' floor conference room, Borough of Manhattan, in the matter of a lease for '\n",
      " 'the City of New York, as tenant, of approximately 16,334 rentable square '\n",
      " 'feet of space on the entire fifth (5\\n'\n",
      " ' <sup>\\n'\n",
      " '  th\\n'\n",
      " ' </sup>\\n'\n",
      " ' ) floor of the building located at 118-35 Queens Boulevard (Block 2270, '\n",
      " 'Lot 41) in the Borough of Queens for a Computerized Testing and '\n",
      " 'Applications Center, or for such other use as the Commissioner of the '\n",
      " 'Department of Citywide Administrative Services may determine.\\n'\n",
      " '</p>\\n'\n",
      " '<p>\\n'\n",
      " '</p>\\n'\n",
      " '<p>\\n'\n",
      " ' The proposed use was approved by the City Planning Commission pursuant to '\n",
      " 'NYC Charter Section 195 on May 7, 2014 (CPC Appl. No. 140293 PXQ, Public '\n",
      " 'Hearing Cal. No. 10).\\n'\n",
      " '</p>\\n'\n",
      " '<p>\\n'\n",
      " '</p>\\n'\n",
      " '<p>\\n'\n",
      " ' The proposed lease shall be for a period of twenty (20) years from '\n",
      " 'Substantial Completion of alterations and improvements, at an annual rent '\n",
      " 'of $612,103.00 ($37.47 per square foot) for the first five (5) years, '\n",
      " '$685,555.36 ($41.97 per square foot) for the next five (5) years, '\n",
      " '$767,872.66 ($47.01 per square foot) for the next five (5) years, and '\n",
      " '$859,899.18 ($52.64 per square foot) for the final five (5) years, payable '\n",
      " 'in equal monthly installments at the end of each month.\\xa0 The first six '\n",
      " '(6) months’ rent shall be abated.\\n'\n",
      " '</p>\\n'\n",
      " '<p>\\n'\n",
      " '</p>\\n'\n",
      " '<p>\\n'\n",
      " ' The lease may be terminated by the Tenant on the fifth (5\\n'\n",
      " ' <sup>\\n'\n",
      " '  th\\n'\n",
      " ' </sup>\\n'\n",
      " ' ), tenth (10\\n'\n",
      " ' <sup>\\n'\n",
      " '  th\\n'\n",
      " ' </sup>\\n'\n",
      " ' ), and fifteenth (15\\n'\n",
      " ' <sup>\\n'\n",
      " '  th\\n'\n",
      " ' </sup>\\n'\n",
      " ' ) anniversaries of the commencement date, provided the Tenant gives the '\n",
      " 'Landlord no less than twelve (12) months prior written notice.\\xa0 In the '\n",
      " 'event that the lease is terminated by the Tenant, the Tenant shall pay the '\n",
      " 'Landlord the unamortized portion of the Tenant’s broker’s commission, '\n",
      " 'Tenant Improvement Allowance, and free rent.\\n'\n",
      " '</p>\\n'\n",
      " '<p>\\n'\n",
      " '</p>\\n'\n",
      " '<p>\\n'\n",
      " ' The Tenant shall have the right to renew the lease for a period of five '\n",
      " '(5) years at 95% of Fair Market Value (FMV).\\n'\n",
      " '</p>\\n'\n",
      " '<p>\\n'\n",
      " '</p>\\n'\n",
      " '<p>\\n'\n",
      " ' The Landlord shall prepare final architectural plans and engineering '\n",
      " 'plans and make alterations and improvements in accordance with preliminary '\n",
      " 'architectural plans and specifications which are attached to the lease. '\n",
      " 'The alterations and improvements consist of Base Building Work, which the '\n",
      " 'landlord shall provide at its sole cost and expense, and Tenant Work.\\xa0 '\n",
      " 'The total cost of the Tenant Work shall not exceed $3,269,800 ($200.18 per '\n",
      " 'rentable square foot) of which the Landlord shall contribute $714,280.00 '\n",
      " '($43.73 per rentable square foot) and the balance up to 2,555,520.00 '\n",
      " '($156.45 per rentable square foot) will be paid by the Tenant, to be '\n",
      " 'disbursed in accordance with the terms of the lease.\\n'\n",
      " '</p>\\n'\n",
      " '<p>\\n'\n",
      " '</p>\\n'\n",
      " '<p>\\n'\n",
      " ' Further information, including public inspection of the proposed lease '\n",
      " 'may be obtained at One Centre Street, Room 2000 North, New York, N.Y.\\xa0 '\n",
      " '10007.\\xa0 To schedule an inspection, please contact Chris Fleming at '\n",
      " '(212) 386-0315.\\n'\n",
      " '</p>\\n'\n",
      " '<p>\\n'\n",
      " '</p>\\n'\n",
      " '<p>\\n'\n",
      " ' Individuals requesting Sign Language Interpreters should contact the '\n",
      " 'Mayor’s Office of Contract Services, Public Hearings Unit, 253 Broadway, '\n",
      " '2\\n'\n",
      " ' <sup>\\n'\n",
      " '  nd\\n'\n",
      " ' </sup>\\n'\n",
      " ' Floor, New York, N.Y.\\xa0 10007,\\xa0 (212) 788-7490, no later than SEVEN '\n",
      " '(7) BUSINESS DAYS PRIOR TO THE PUBLIC HEARING.\\xa0 TDD users should call '\n",
      " 'VERIZON relay services.\\n'\n",
      " '</p>')\n",
      "------------------------------------------------------------------\n"
     ]
    },
    {
     "data": {
      "text/html": [
       "<p> <strong>NOTICE IS HEREBY GIVEN THAT A REAL PROPERTY ACQUISITIONS AND DISPOSITIONS PUBLIC HEARING</strong>, in accordance with Section 824 of the New York City Charter, will be held on December 10, 2014 at 10:30 a.m., 22 Reade Street, 2<sup>nd</sup> floor conference room, Borough of Manhattan, in the matter of a lease for the City of New York, as tenant, of approximately 16,334 rentable square feet of space on the entire fifth (5<sup>th</sup>) floor of the building located at 118-35 Queens Boulevard (Block 2270, Lot 41) in the Borough of Queens for a Computerized Testing and Applications Center, or for such other use as the Commissioner of the Department of Citywide Administrative Services may determine.</p> <p> &nbsp;</p> <p> The proposed use was approved by the City Planning Commission pursuant to NYC Charter Section 195 on May 7, 2014 (CPC Appl. No. 140293 PXQ, Public Hearing Cal. No. 10).</p> <p> &nbsp;</p> <p> The proposed lease shall be for a period of twenty (20) years from Substantial Completion of alterations and improvements, at an annual rent of $612,103.00 ($37.47 per square foot) for the first five (5) years, $685,555.36 ($41.97 per square foot) for the next five (5) years, $767,872.66 ($47.01 per square foot) for the next five (5) years, and $859,899.18 ($52.64 per square foot) for the final five (5) years, payable in equal monthly installments at the end of each month.&nbsp; The first six (6) months&rsquo; rent shall be abated.</p> <p> &nbsp;</p> <p> The lease may be terminated by the Tenant on the fifth (5<sup>th</sup>), tenth (10<sup>th</sup>), and fifteenth (15<sup>th</sup>) anniversaries of the commencement date, provided the Tenant gives the Landlord no less than twelve (12) months prior written notice.&nbsp; In the event that the lease is terminated by the Tenant, the Tenant shall pay the Landlord the unamortized portion of the Tenant&rsquo;s broker&rsquo;s commission, Tenant Improvement Allowance, and free rent.</p> <p> &nbsp;</p> <p> The Tenant shall have the right to renew the lease for a period of five (5) years at 95% of Fair Market Value (FMV).</p> <p> &nbsp;</p> <p> The Landlord shall prepare final architectural plans and engineering plans and make alterations and improvements in accordance with preliminary architectural plans and specifications which are attached to the lease. The alterations and improvements consist of Base Building Work, which the landlord shall provide at its sole cost and expense, and Tenant Work.&nbsp; The total cost of the Tenant Work shall not exceed $3,269,800 ($200.18 per rentable square foot) of which the Landlord shall contribute $714,280.00 ($43.73 per rentable square foot) and the balance up to 2,555,520.00 ($156.45 per rentable square foot) will be paid by the Tenant, to be disbursed in accordance with the terms of the lease.</p> <p> &nbsp;</p> <p> Further information, including public inspection of the proposed lease may be obtained at One Centre Street, Room 2000 North, New York, N.Y.&nbsp; 10007.&nbsp; To schedule an inspection, please contact Chris Fleming at (212) 386-0315.</p> <p> &nbsp;</p> <p> Individuals requesting Sign Language Interpreters should contact the Mayor&rsquo;s Office of Contract Services, Public Hearings Unit, 253 Broadway, 2<sup>nd</sup> Floor, New York, N.Y.&nbsp; 10007,&nbsp; (212) 788-7490, no later than SEVEN (7) BUSINESS DAYS PRIOR TO THE PUBLIC HEARING.&nbsp; TDD users should call VERIZON relay services.</p>"
      ],
      "text/plain": [
       "<IPython.core.display.HTML object>"
      ]
     },
     "metadata": {},
     "output_type": "display_data"
    },
    {
     "name": "stdout",
     "output_type": "stream",
     "text": [
      "------------------------------------------------------------------\n",
      "END: =-=-=-=-==-==-==-=-=-=-==-==-==-=-=-=-==-==-==-=-=-=-==-==-==-=-=-=-==-==-==-=-=-=-==-==-==-=-=-=-==-==-=\n"
     ]
    },
    {
     "data": {
      "text/html": [
       "<br/><hr/><br/>"
      ],
      "text/plain": [
       "<IPython.core.display.HTML object>"
      ]
     },
     "metadata": {},
     "output_type": "display_data"
    },
    {
     "name": "stdout",
     "output_type": "stream",
     "text": [
      "BEGIN: =-=-=-=-==-==-==-=-=-=-==-==-==-=-=-=-==-==-==-=-=-=-==-==-==-=-=-=-==-==-==-=-=-=-==-==-==-=-=-=-==-==-=\n",
      "('<p align=\\'center\"\\'>\\n'\n",
      " '</p>\\n'\n",
      " '<p>\\n'\n",
      " ' <strong>\\n'\n",
      " '  NOTICE IS HEREBY GIVEN THAT A REAL PROPERTY ACQUISITIONS AND '\n",
      " 'DISPOSITIONS PUBLIC HEARING\\n'\n",
      " ' </strong>\\n'\n",
      " '</p>')\n",
      "------------------------------------------------------------------\n"
     ]
    },
    {
     "data": {
      "text/html": [
       "<p align=center\"> &nbsp;</p> <p> <strong>NOTICE IS HEREBY GIVEN THAT A REAL PROPERTY ACQUISITIONS AND DISPOSITIONS PUBLIC HEARING</strong>"
      ],
      "text/plain": [
       "<IPython.core.display.HTML object>"
      ]
     },
     "metadata": {},
     "output_type": "display_data"
    },
    {
     "name": "stdout",
     "output_type": "stream",
     "text": [
      "------------------------------------------------------------------\n",
      "END: =-=-=-=-==-==-==-=-=-=-==-==-==-=-=-=-==-==-==-=-=-=-==-==-==-=-=-=-==-==-==-=-=-=-==-==-==-=-=-=-==-==-=\n"
     ]
    },
    {
     "data": {
      "text/html": [
       "<br/><hr/><br/>"
      ],
      "text/plain": [
       "<IPython.core.display.HTML object>"
      ]
     },
     "metadata": {},
     "output_type": "display_data"
    },
    {
     "name": "stdout",
     "output_type": "stream",
     "text": [
      "BEGIN: =-=-=-=-==-==-==-=-=-=-==-==-==-=-=-=-==-==-==-=-=-=-==-==-==-=-=-=-==-==-==-=-=-=-==-==-==-=-=-=-==-==-=\n",
      "('<p align=\\'center\"\\'>\\n'\n",
      " '</p>\\n'\n",
      " '<p>\\n'\n",
      " ' <strong>\\n'\n",
      " '  NOTICE IS HEREBY GIVEN THAT A REAL PROPERTY ACQUISITIONS AND '\n",
      " 'DISPOSITIONS PUBLIC HEARING\\n'\n",
      " ' </strong>\\n'\n",
      " '</p>')\n",
      "------------------------------------------------------------------\n"
     ]
    },
    {
     "data": {
      "text/html": [
       "<p align=center\"> &nbsp;</p> <p> <strong>NOTICE IS HEREBY GIVEN THAT A REAL PROPERTY ACQUISITIONS AND DISPOSITIONS PUBLIC HEARING</strong>"
      ],
      "text/plain": [
       "<IPython.core.display.HTML object>"
      ]
     },
     "metadata": {},
     "output_type": "display_data"
    },
    {
     "name": "stdout",
     "output_type": "stream",
     "text": [
      "------------------------------------------------------------------\n",
      "END: =-=-=-=-==-==-==-=-=-=-==-==-==-=-=-=-==-==-==-=-=-=-==-==-==-=-=-=-==-==-==-=-=-=-==-==-==-=-=-=-==-==-=\n"
     ]
    },
    {
     "data": {
      "text/html": [
       "<br/><hr/><br/>"
      ],
      "text/plain": [
       "<IPython.core.display.HTML object>"
      ]
     },
     "metadata": {},
     "output_type": "display_data"
    },
    {
     "name": "stdout",
     "output_type": "stream",
     "text": [
      "BEGIN: =-=-=-=-==-==-==-=-=-=-==-==-==-=-=-=-==-==-==-=-=-=-==-==-==-=-=-=-==-==-==-=-=-=-==-==-==-=-=-=-==-==-=\n",
      "('<p align=\\'center\"\\'>\\n'\n",
      " ' <strong>\\n'\n",
      " '  Notice of Public Hearing\\n'\n",
      " ' </strong>\\n'\n",
      " '</p>\\n'\n",
      " '<p>\\n'\n",
      " '</p>\\n'\n",
      " '<p>\\n'\n",
      " ' <strong>\\n'\n",
      " '  NOTICE IS HEREBY GIVEN THAT A REAL PROPERTY ACQUISITIONS AND '\n",
      " 'DISPOSITIONS PUBLIC HEARING\\n'\n",
      " ' </strong>\\n'\n",
      " '</p>')\n",
      "------------------------------------------------------------------\n"
     ]
    },
    {
     "data": {
      "text/html": [
       "<p align=center\"> <strong>Notice of Public Hearing</strong></p> <p> &nbsp;</p> <p> <strong>NOTICE IS HEREBY GIVEN THAT A REAL PROPERTY ACQUISITIONS AND DISPOSITIONS PUBLIC HEARING</strong>"
      ],
      "text/plain": [
       "<IPython.core.display.HTML object>"
      ]
     },
     "metadata": {},
     "output_type": "display_data"
    },
    {
     "name": "stdout",
     "output_type": "stream",
     "text": [
      "------------------------------------------------------------------\n",
      "END: =-=-=-=-==-==-==-=-=-=-==-==-==-=-=-=-==-==-==-=-=-=-==-==-==-=-=-=-==-==-==-=-=-=-==-==-==-=-=-=-==-==-=\n"
     ]
    },
    {
     "data": {
      "text/html": [
       "<br/><hr/><br/>"
      ],
      "text/plain": [
       "<IPython.core.display.HTML object>"
      ]
     },
     "metadata": {},
     "output_type": "display_data"
    },
    {
     "name": "stdout",
     "output_type": "stream",
     "text": [
      "BEGIN: =-=-=-=-==-==-==-=-=-=-==-==-==-=-=-=-==-==-==-=-=-=-==-==-==-=-=-=-==-==-==-=-=-=-==-==-==-=-=-=-==-==-=\n",
      "('<p align=\\'center\"\\'>\\n'\n",
      " ' <strong>\\n'\n",
      " '  Notice of Public Hearing\\n'\n",
      " ' </strong>\\n'\n",
      " '</p>\\n'\n",
      " '<p>\\n'\n",
      " '</p>\\n'\n",
      " '<p>\\n'\n",
      " ' <strong>\\n'\n",
      " '  NOTICE IS HEREBY GIVEN THAT A REAL PROPERTY ACQUISITIONS AND '\n",
      " 'DISPOSITIONS PUBLIC HEARING\\n'\n",
      " ' </strong>\\n'\n",
      " '</p>')\n",
      "------------------------------------------------------------------\n"
     ]
    },
    {
     "data": {
      "text/html": [
       "<p align=center\"> <strong>Notice of Public Hearing</strong></p> <p> &nbsp;</p> <p> <strong>NOTICE IS HEREBY GIVEN THAT A REAL PROPERTY ACQUISITIONS AND DISPOSITIONS PUBLIC HEARING</strong>"
      ],
      "text/plain": [
       "<IPython.core.display.HTML object>"
      ]
     },
     "metadata": {},
     "output_type": "display_data"
    },
    {
     "name": "stdout",
     "output_type": "stream",
     "text": [
      "------------------------------------------------------------------\n",
      "END: =-=-=-=-==-==-==-=-=-=-==-==-==-=-=-=-==-==-==-=-=-=-==-==-==-=-=-=-==-==-==-=-=-=-==-==-==-=-=-=-==-==-=\n"
     ]
    },
    {
     "data": {
      "text/html": [
       "<br/><hr/><br/>"
      ],
      "text/plain": [
       "<IPython.core.display.HTML object>"
      ]
     },
     "metadata": {},
     "output_type": "display_data"
    },
    {
     "name": "stdout",
     "output_type": "stream",
     "text": [
      "BEGIN: =-=-=-=-==-==-==-=-=-=-==-==-==-=-=-=-==-==-==-=-=-=-==-==-==-=-=-=-==-==-==-=-=-=-==-==-==-=-=-=-==-==-=\n",
      "('<p align=\\'center\"\\'>\\n'\n",
      " ' <strong>\\n'\n",
      " '  Notice of Public Hearing\\n'\n",
      " ' </strong>\\n'\n",
      " '</p>\\n'\n",
      " '<p>\\n'\n",
      " '</p>\\n'\n",
      " '<p>\\n'\n",
      " ' <strong>\\n'\n",
      " '  NOTICE IS HEREBY GIVEN THAT A REAL PROPERTY ACQUISITIONS AND '\n",
      " 'DISPOSITIONS PUBLIC HEARING\\n'\n",
      " ' </strong>\\n'\n",
      " '</p>')\n",
      "------------------------------------------------------------------\n"
     ]
    },
    {
     "data": {
      "text/html": [
       "<p align=center\"> <strong>Notice of Public Hearing</strong></p> <p> &nbsp;</p> <p> <strong>NOTICE IS HEREBY GIVEN THAT A REAL PROPERTY ACQUISITIONS AND DISPOSITIONS PUBLIC HEARING</strong>"
      ],
      "text/plain": [
       "<IPython.core.display.HTML object>"
      ]
     },
     "metadata": {},
     "output_type": "display_data"
    },
    {
     "name": "stdout",
     "output_type": "stream",
     "text": [
      "------------------------------------------------------------------\n",
      "END: =-=-=-=-==-==-==-=-=-=-==-==-==-=-=-=-==-==-==-=-=-=-==-==-==-=-=-=-==-==-==-=-=-=-==-==-==-=-=-=-==-==-=\n"
     ]
    },
    {
     "data": {
      "text/html": [
       "<br/><hr/><br/>"
      ],
      "text/plain": [
       "<IPython.core.display.HTML object>"
      ]
     },
     "metadata": {},
     "output_type": "display_data"
    },
    {
     "name": "stdout",
     "output_type": "stream",
     "text": [
      "BEGIN: =-=-=-=-==-==-==-=-=-=-==-==-==-=-=-=-==-==-==-=-=-=-==-==-==-=-=-=-==-==-==-=-=-=-==-==-==-=-=-=-==-==-=\n",
      "('<p align=\\'center\"\\'>\\n'\n",
      " ' <strong>\\n'\n",
      " '  Notice of Public Hearing\\n'\n",
      " ' </strong>\\n'\n",
      " '</p>\\n'\n",
      " '<p>\\n'\n",
      " '</p>\\n'\n",
      " '<p>\\n'\n",
      " ' <strong>\\n'\n",
      " '  NOTICE IS HEREBY GIVEN THAT A REAL PROPERTY ACQUISITIONS AND '\n",
      " 'DISPOSITIONS PUBLIC HEARING\\n'\n",
      " ' </strong>\\n'\n",
      " '</p>')\n",
      "------------------------------------------------------------------\n"
     ]
    },
    {
     "data": {
      "text/html": [
       "<p align=center\"> <strong>Notice of Public Hearing</strong></p> <p> &nbsp;</p> <p> <strong>NOTICE IS HEREBY GIVEN THAT A REAL PROPERTY ACQUISITIONS AND DISPOSITIONS PUBLIC HEARING</strong>"
      ],
      "text/plain": [
       "<IPython.core.display.HTML object>"
      ]
     },
     "metadata": {},
     "output_type": "display_data"
    },
    {
     "name": "stdout",
     "output_type": "stream",
     "text": [
      "------------------------------------------------------------------\n",
      "END: =-=-=-=-==-==-==-=-=-=-==-==-==-=-=-=-==-==-==-=-=-=-==-==-==-=-=-=-==-==-==-=-=-=-==-==-==-=-=-=-==-==-=\n"
     ]
    },
    {
     "data": {
      "text/html": [
       "<br/><hr/><br/>"
      ],
      "text/plain": [
       "<IPython.core.display.HTML object>"
      ]
     },
     "metadata": {},
     "output_type": "display_data"
    },
    {
     "name": "stdout",
     "output_type": "stream",
     "text": [
      "BEGIN: =-=-=-=-==-==-==-=-=-=-==-==-==-=-=-=-==-==-==-=-=-=-==-==-==-=-=-=-==-==-==-=-=-=-==-==-==-=-=-=-==-==-=\n",
      "('<p align=\\'center\"\\'>\\n'\n",
      " '</p>\\n'\n",
      " '<p>\\n'\n",
      " ' <strong>\\n'\n",
      " '  NOTICE IS HEREBY GIVEN THAT A REAL PROPERTY ACQUISITIONS AND '\n",
      " 'DISPOSITIONS PUBLIC HEARING\\n'\n",
      " ' </strong>\\n'\n",
      " '</p>')\n",
      "------------------------------------------------------------------\n"
     ]
    },
    {
     "data": {
      "text/html": [
       "<p align=center\"> &nbsp;</p> <p> <strong>NOTICE IS HEREBY GIVEN THAT A REAL PROPERTY ACQUISITIONS AND DISPOSITIONS PUBLIC HEARING</strong>"
      ],
      "text/plain": [
       "<IPython.core.display.HTML object>"
      ]
     },
     "metadata": {},
     "output_type": "display_data"
    },
    {
     "name": "stdout",
     "output_type": "stream",
     "text": [
      "------------------------------------------------------------------\n",
      "END: =-=-=-=-==-==-==-=-=-=-==-==-==-=-=-=-==-==-==-=-=-=-==-==-==-=-=-=-==-==-==-=-=-=-==-==-==-=-=-=-==-==-=\n"
     ]
    },
    {
     "data": {
      "text/html": [
       "<br/><hr/><br/>"
      ],
      "text/plain": [
       "<IPython.core.display.HTML object>"
      ]
     },
     "metadata": {},
     "output_type": "display_data"
    },
    {
     "name": "stdout",
     "output_type": "stream",
     "text": [
      "BEGIN: =-=-=-=-==-==-==-=-=-=-==-==-==-=-=-=-==-==-==-=-=-=-==-==-==-=-=-=-==-==-==-=-=-=-==-==-==-=-=-=-==-==-=\n",
      "('<p align=\\'center\"\\'>\\n'\n",
      " ' <strong>\\n'\n",
      " '  Corrected Notice of Public Hearing\\n'\n",
      " ' </strong>\\n'\n",
      " '</p>\\n'\n",
      " '<p>\\n'\n",
      " '</p>\\n'\n",
      " '<p>\\n'\n",
      " ' <strong>\\n'\n",
      " '  NOTICE IS HEREBY GIVEN THAT A REAL PROPERTY ACQUISITIONS AND '\n",
      " 'DISPOSITIONS PUBLIC HEARING\\n'\n",
      " ' </strong>\\n'\n",
      " '</p>')\n",
      "------------------------------------------------------------------\n"
     ]
    },
    {
     "data": {
      "text/html": [
       "<p align=center\"> <strong>Corrected Notice of Public Hearing</strong></p> <p> &nbsp;</p> <p> <strong>NOTICE IS HEREBY GIVEN THAT A REAL PROPERTY ACQUISITIONS AND DISPOSITIONS PUBLIC HEARING</strong>"
      ],
      "text/plain": [
       "<IPython.core.display.HTML object>"
      ]
     },
     "metadata": {},
     "output_type": "display_data"
    },
    {
     "name": "stdout",
     "output_type": "stream",
     "text": [
      "------------------------------------------------------------------\n",
      "END: =-=-=-=-==-==-==-=-=-=-==-==-==-=-=-=-==-==-==-=-=-=-==-==-==-=-=-=-==-==-==-=-=-=-==-==-==-=-=-=-==-==-=\n"
     ]
    },
    {
     "data": {
      "text/html": [
       "<br/><hr/><br/>"
      ],
      "text/plain": [
       "<IPython.core.display.HTML object>"
      ]
     },
     "metadata": {},
     "output_type": "display_data"
    }
   ],
   "source": [
    "fix = rows.apply(scrape,1)\n",
    "# fix"
   ]
  },
  {
   "cell_type": "code",
   "execution_count": null,
   "metadata": {
    "collapsed": true
   },
   "outputs": [],
   "source": []
  },
  {
   "cell_type": "code",
   "execution_count": null,
   "metadata": {
    "collapsed": true
   },
   "outputs": [],
   "source": []
  },
  {
   "cell_type": "code",
   "execution_count": null,
   "metadata": {
    "collapsed": true
   },
   "outputs": [],
   "source": []
  }
 ],
 "metadata": {
  "kernelspec": {
   "display_name": "Python 3",
   "language": "python",
   "name": "python3"
  },
  "language_info": {
   "codemirror_mode": {
    "name": "ipython",
    "version": 3
   },
   "file_extension": ".py",
   "mimetype": "text/x-python",
   "name": "python",
   "nbconvert_exporter": "python",
   "pygments_lexer": "ipython3",
   "version": "3.4.3"
  }
 },
 "nbformat": 4,
 "nbformat_minor": 0
}
