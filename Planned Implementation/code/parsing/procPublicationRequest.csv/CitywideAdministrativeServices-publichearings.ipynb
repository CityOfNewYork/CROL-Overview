{
 "cells": [
  {
   "cell_type": "markdown",
   "metadata": {},
   "source": [
    "**Parsing Notes**\n",
    "1. The parsing states and transitions are not understood\n",
    "2. Some entries seem to be missing context"
   ]
  },
  {
   "cell_type": "code",
   "execution_count": 355,
   "metadata": {
    "collapsed": false
   },
   "outputs": [],
   "source": [
    "from bs4 import BeautifulSoup as Soup\n",
    "from IPython.display import display, HTML\n",
    "import pandas as pd\n",
    "import re\n",
    "import pprint\n",
    "import json"
   ]
  },
  {
   "cell_type": "code",
   "execution_count": 356,
   "metadata": {
    "collapsed": false
   },
   "outputs": [],
   "source": [
    "#test text\n",
    "test_text = '<p> <strong>NOTICE IS HEREBY GIVEN THAT A REAL PROPERTY ' \\\n",
    "         'ACQUISITIONS AND DISPOSITIONS PUBLIC HEARING</strong>, in ' \\\n",
    "         'accordance with Section 824 of the New York City Charter, will be ' \\\n",
    "         'held on December 10, 2014 at 10:30 a.m., 22 Reade Street, ' \\\n",
    "         '2<sup>nd</sup> floor conference room, Borough of Manhattan, in the ' \\\n",
    "         'matter of a lease for the City of New York, as tenant, of ' \\\n",
    "         'approximately 16,334 rentable square feet of space on the entire ' \\\n",
    "         'fifth (5<sup>th</sup>) floor of the building located at 118-35 ' \\\n",
    "         'Queens Boulevard (Block 2270, Lot 41) in the Borough of Queens for ' \\\n",
    "         'a Computerized Testing and Applications Center, or for such other ' \\\n",
    "         'use as the Commissioner of the Department of Citywide ' \\\n",
    "         'Administrative Services may determine.</p> <p> &nbsp;</p> <p> The ' \\\n",
    "         'proposed use was approved by the City Planning Commission pursuant ' \\\n",
    "         'to NYC Charter Section 195 on May 7, 2014 (CPC Appl. No. 140293 ' \\\n",
    "         'PXQ, Public Hearing Cal. No. 10).</p> <p> &nbsp;</p> <p> The ' \\\n",
    "         'proposed lease shall be for a period of twenty (20) years from ' \\\n",
    "         'Substantial Completion of alterations and improvements, at an ' \\\n",
    "         'annual rent of $612,103.00 ($37.47 per square foot) for the first ' \\\n",
    "         'five (5) years, $685,555.36 ($41.97 per square foot) for the next ' \\\n",
    "         'five (5) years, $767,872.66 ($47.01 per square foot) for the next ' \\\n",
    "         'five (5) years, and $859,899.18 ($52.64 per square foot) for the ' \\\n",
    "         'final five (5) years, payable in equal monthly installments at the ' \\\n",
    "         'end of each month.&nbsp; The first six (6) months&rsquo; rent ' \\\n",
    "         'shall be abated.</p> <p> &nbsp;</p> <p> The lease may be ' \\\n",
    "         'terminated by the Tenant on the fifth (5<sup>th</sup>), tenth ' \\\n",
    "         '(10<sup>th</sup>), and fifteenth (15<sup>th</sup>) anniversaries ' \\\n",
    "         'of the commencement date, provided the Tenant gives the Landlord ' \\\n",
    "         'no less than twelve (12) months prior written notice.&nbsp; In the ' \\\n",
    "         'event that the lease is terminated by the Tenant, the Tenant shall ' \\\n",
    "         'pay the Landlord the unamortized portion of the Tenant&rsquo;s ' \\\n",
    "         'broker&rsquo;s commission, Tenant Improvement Allowance, and free ' \\\n",
    "         'rent.</p> <p> &nbsp;</p> <p> The Tenant shall have the right to ' \\\n",
    "         'renew the lease for a period of five (5) years at 95% of Fair ' \\\n",
    "         'Market Value (FMV).</p> <p> &nbsp;</p> <p> The Landlord shall ' \\\n",
    "         'prepare final architectural plans and engineering plans and make ' \\\n",
    "         'alterations and improvements in accordance with preliminary ' \\\n",
    "         'architectural plans and specifications which are attached to the ' \\\n",
    "         'lease. The alterations and improvements consist of Base Building ' \\\n",
    "         'Work, which the landlord shall provide at its sole cost and ' \\\n",
    "         'expense, and Tenant Work.&nbsp; The total cost of the Tenant Work ' \\\n",
    "         'shall not exceed $3,269,800 ($200.18 per rentable square foot) of ' \\\n",
    "         'which the Landlord shall contribute $714,280.00 ($43.73 per ' \\\n",
    "         'rentable square foot) and the balance up to 2,555,520.00 ($156.45 ' \\\n",
    "         'per rentable square foot) will be paid by the Tenant, to be ' \\\n",
    "         'disbursed in accordance with the terms of the lease.</p> <p> ' \\\n",
    "         '&nbsp;</p> <p> Further information, including public inspection of ' \\\n",
    "         'the proposed lease may be obtained at One Centre Street, Room 2000 ' \\\n",
    "         'North, New York, N.Y.&nbsp; 10007.&nbsp; To schedule an ' \\\n",
    "         'inspection, please contact Chris Fleming at (212) 386-0315.</p> ' \\\n",
    "         '<p> &nbsp;</p> <p> Individuals requesting Sign Language ' \\\n",
    "         'Interpreters should contact the Mayor&rsquo;s Office of Contract ' \\\n",
    "         'Services, Public Hearings Unit, 253 Broadway, 2<sup>nd</sup> ' \\\n",
    "         'Floor, New York, N.Y.&nbsp; 10007,&nbsp; (212) 788-7490, no later ' \\\n",
    "         'than SEVEN (7) BUSINESS DAYS PRIOR TO THE PUBLIC HEARING.&nbsp; ' \\\n",
    "         'TDD users should call VERIZON relay services.</p>'"
   ]
  },
  {
   "cell_type": "code",
   "execution_count": 370,
   "metadata": {
    "collapsed": false
   },
   "outputs": [
    {
     "name": "stdout",
     "output_type": "stream",
     "text": [
      "NOTICE : \n",
      "TEXT : NOTICE IS HEREBY GIVEN THAT A REAL PROPERTY ACQUISITIONS AND DISPOSITIONS PUBLIC HEARING, in accordance with Section 824 of the New York City Charter, will be held on December 10, 2014 at 10:30 a.m., 22 Reade Street, 2ndfloor conference room, Borough of Manhattan, \n",
      "MATTER : \n",
      "TEXT : in the matter of a lease for the City of New York, as tenant, of approximately 16,334 rentable square feet of space on the entire fifth (5th) floor of the building located at 118-35 Queens Boulevard (Block 2270, Lot 41) in the Borough of Queens for a Computerized Testing and Applications Center, or for such other use as the Commissioner of the Department of Citywide Administrative Services may determine.\n",
      "MATTER : \n"
     ]
    }
   ],
   "source": [
    "class Token:\n",
    "    def __init__(self, name, value=''):\n",
    "        self.name = name\n",
    "        self.value = value\n",
    "    \n",
    "    def __repr__(self):\n",
    "        return '{} : {}'.format(self.name, self.value)\n",
    "        \n",
    "# we will use these tokens:\n",
    "# NOTICE -> when NOTICE IS HEREBY GIVEN is detected\n",
    "# MATTER -> when IN THE MATTER OF is detected\n",
    "\n",
    "def tokenize(fragment):\n",
    "    soup = Soup(fragment)\n",
    "    state = None\n",
    "    for para in soup.find_all('p'):\n",
    "        text = para.get_text(strip=True)\n",
    "        if state is None:\n",
    "            if 'notice is hereby given' in text.lower():\n",
    "                yield Token('NOTICE')\n",
    "                if 'in the matter' in text.lower():\n",
    "                    loc = text.lower().find('in the matter')\n",
    "                    yield Token('TEXT', text[:loc])\n",
    "                    yield Token('MATTER')\n",
    "                    yield Token('TEXT', text[loc:])\n",
    "                    state = 'MATTER'\n",
    "                else:\n",
    "                    yield Token('TEXT', text)\n",
    "        elif state == 'MATTER':\n",
    "            if 'in the matter' in text.lower():\n",
    "                loc = text.lower().find('in the matter')\n",
    "                yield Token('TEXT', text[:loc])\n",
    "                yield Token('MATTER')\n",
    "                yield Token('TEXT', text[loc:])\n",
    "                state = 'MATTER'\n",
    "    if state == 'MATTER':\n",
    "        yield Token('MATTER')\n",
    "                \n",
    "            \n",
    "for tok in tokenize(test_text):\n",
    "    print(tok)\n",
    "        \n",
    "        \n",
    "        "
   ]
  },
  {
   "cell_type": "code",
   "execution_count": 371,
   "metadata": {
    "collapsed": false,
    "scrolled": false
   },
   "outputs": [],
   "source": [
    "def test(text):\n",
    "    state = Init()\n",
    "    soup = Soup(text)\n",
    "    display(HTML(text))\n",
    "    record = { 'matters' : [], 'context' : '' }\n",
    "    for para in soup.find_all('p'):\n",
    "        state.run()\n",
    "        state = state.next(para, record)\n",
    "    state.flush(record)\n",
    "    pprint.pprint(record)\n",
    "# test(test_text)    \n",
    "    "
   ]
  },
  {
   "cell_type": "code",
   "execution_count": 372,
   "metadata": {
    "collapsed": false
   },
   "outputs": [],
   "source": [
    "fn = 'procPublicationRequest Oct-Dec 2014 (Updated) - Sheet1-2.csv'\n",
    "rows = pd.read_csv(fn, header=0)"
   ]
  },
  {
   "cell_type": "code",
   "execution_count": 373,
   "metadata": {
    "collapsed": true
   },
   "outputs": [],
   "source": [
    "class State:\n",
    "    def run(self):\n",
    "        # implement this for printing trace statements\n",
    "        assert 0, \"implement me\"\n",
    "        \n",
    "    def next(self, input):\n",
    "        assert 0, \"implement me\"\n",
    "        \n",
    "    def flush(self, record):\n",
    "        raise Exception('wtf!')\n"
   ]
  },
  {
   "cell_type": "code",
   "execution_count": 379,
   "metadata": {
    "collapsed": false
   },
   "outputs": [],
   "source": [
    "class Matters(State):\n",
    "    \n",
    "    def __init__(self):\n",
    "        State.__init__(self)\n",
    "        self.matter = ''\n",
    "    \n",
    "    def run(self):\n",
    "        print('Process MATTERS')\n",
    "        \n",
    "    def flush(self, record):\n",
    "        record['matters'].append({ 'matter' : self.matter })\n",
    "        self.matter = ''\n",
    "        \n",
    "    def next(self, tok, record):\n",
    "        if tok.name == 'TEXT':\n",
    "            self.matter += tok.value\n",
    "        if tok.name == 'MATTER':\n",
    "            self.flush(record)\n",
    "        return self\n",
    "            \n",
    "\n",
    "class Notice(State):\n",
    "    \n",
    "    def __init__(self, notice=''):\n",
    "        State.__init__(self)\n",
    "        self.notice = notice\n",
    "        \n",
    "    def run(self):\n",
    "        print('NOTICE')\n",
    "        \n",
    "    def next(self, tok, record):\n",
    "        if tok.name == 'TEXT':\n",
    "            self.notice += tok.value\n",
    "            return self\n",
    "        if tok.name == 'MATTER':\n",
    "            record['context'] = self.notice\n",
    "            return Matters()\n",
    "        return self\n",
    "    \n",
    "    def flush(self, record):\n",
    "        record['error'] = 'no transition out of NOTICE'\n",
    "        \n",
    "    \n",
    "class Init(State):\n",
    "    \n",
    "    def run(self):\n",
    "        print('INIT')\n",
    "        \n",
    "    def next(self, tok, record):\n",
    "        if tok.name == 'NOTICE':\n",
    "            return Notice()\n",
    "        return self\n",
    "                                  \n",
    "    def flush(self, record):\n",
    "        record['error'] = 'no transition out of INIT'\n",
    "                                  "
   ]
  },
  {
   "cell_type": "code",
   "execution_count": 380,
   "metadata": {
    "collapsed": false
   },
   "outputs": [],
   "source": [
    "agency = rows['AgencyName'] == \"Citywide Administrative Services\"\n",
    "description = rows['TypeOfNoticeDescription'] == \"Public Hearings\"\n",
    "target_rows = rows[agency & description]\n"
   ]
  },
  {
   "cell_type": "code",
   "execution_count": 381,
   "metadata": {
    "collapsed": false
   },
   "outputs": [],
   "source": [
    "# def scrape(row):\n",
    "#     output = {}\n",
    "#     if not isinstance(row.AdditionalDescription, str):\n",
    "#         output = { 'error' : 'source is not a string: {}'.format(row.AdditionalDescription) }\n",
    "#     else:    \n",
    "#         soup = Soup(row.AdditionalDescription)\n",
    "#         state = Init()\n",
    "#         record = { 'matters' :[], 'context' : '' }\n",
    "#         for para in soup.find_all('p'):\n",
    "#             state = state.next(para, record)\n",
    "#         state.flush(record)\n",
    "#         output = record\n",
    "\n",
    "#     row['output'] = json.dumps(output)\n",
    "#     return row"
   ]
  },
  {
   "cell_type": "code",
   "execution_count": 382,
   "metadata": {
    "collapsed": true
   },
   "outputs": [],
   "source": [
    "def scrape(row):\n",
    "    output = {}\n",
    "    if not isinstance(row.AdditionalDescription, str):\n",
    "        output = { 'error' : 'source is not a string: {}'.format(row.AdditionalDescription) }\n",
    "    else:   \n",
    "        state = Init()\n",
    "        record = { 'matters' :[], 'context' : '' }\n",
    "        for tok in tokenize(row.AdditionalDescription):\n",
    "            state = state.next(tok, record)\n",
    "        output = record\n",
    "\n",
    "    row['output'] = json.dumps(output)\n",
    "    return row"
   ]
  },
  {
   "cell_type": "code",
   "execution_count": 383,
   "metadata": {
    "collapsed": false,
    "scrolled": true
   },
   "outputs": [],
   "source": [
    "processed_rows = target_rows.apply(scrape,1)"
   ]
  },
  {
   "cell_type": "code",
   "execution_count": 384,
   "metadata": {
    "collapsed": false,
    "scrolled": false
   },
   "outputs": [
    {
     "name": "stdout",
     "output_type": "stream",
     "text": [
      "RequestID: 20140930111\n",
      "{'context': '', 'matters': []}\n"
     ]
    },
    {
     "data": {
      "text/html": [
       "<hr/>"
      ],
      "text/plain": [
       "<IPython.core.display.HTML object>"
      ]
     },
     "metadata": {},
     "output_type": "display_data"
    },
    {
     "name": "stdout",
     "output_type": "stream",
     "text": [
      "RequestID: 20141006102\n",
      "{'context': '', 'matters': []}\n"
     ]
    },
    {
     "data": {
      "text/html": [
       "<hr/>"
      ],
      "text/plain": [
       "<IPython.core.display.HTML object>"
      ]
     },
     "metadata": {},
     "output_type": "display_data"
    },
    {
     "name": "stdout",
     "output_type": "stream",
     "text": [
      "RequestID: 20141007108\n",
      "{'context': '', 'matters': []}\n"
     ]
    },
    {
     "data": {
      "text/html": [
       "<hr/>"
      ],
      "text/plain": [
       "<IPython.core.display.HTML object>"
      ]
     },
     "metadata": {},
     "output_type": "display_data"
    },
    {
     "name": "stdout",
     "output_type": "stream",
     "text": [
      "RequestID: 20141105101\n",
      "{'context': '', 'matters': []}\n"
     ]
    },
    {
     "data": {
      "text/html": [
       "<hr/>"
      ],
      "text/plain": [
       "<IPython.core.display.HTML object>"
      ]
     },
     "metadata": {},
     "output_type": "display_data"
    },
    {
     "name": "stdout",
     "output_type": "stream",
     "text": [
      "RequestID: 20141106101\n",
      "{'context': '', 'matters': []}\n"
     ]
    },
    {
     "data": {
      "text/html": [
       "<hr/>"
      ],
      "text/plain": [
       "<IPython.core.display.HTML object>"
      ]
     },
     "metadata": {},
     "output_type": "display_data"
    },
    {
     "name": "stdout",
     "output_type": "stream",
     "text": [
      "RequestID: 20141118109\n",
      "{'context': 'NOTICE IS HEREBY GIVEN THAT A REAL PROPERTY ACQUISITIONS AND '\n",
      "            'DISPOSITIONS PUBLIC HEARING, in accordance with Section 824 of '\n",
      "            'the New York City Charter, will be held on December 10, 2014 at '\n",
      "            '10:30 a.m., 22 Reade Street, 2ndfloor conference room, Borough '\n",
      "            'of Manhattan, ',\n",
      " 'matters': [{'matter': 'in the matter of a lease for the City of New '\n",
      "                        'York, as tenant, of approximately 16,334 rentable '\n",
      "                        'square feet of space on the entire fifth (5th) '\n",
      "                        'floor of the building located at 118-35 Queens '\n",
      "                        'Boulevard (Block 2270, Lot 41) in the Borough of '\n",
      "                        'Queens for a Computerized Testing and '\n",
      "                        'Applications Center, or for such other use as the '\n",
      "                        'Commissioner of the Department of Citywide '\n",
      "                        'Administrative Services may determine.'}]}\n"
     ]
    },
    {
     "data": {
      "text/html": [
       "<hr/>"
      ],
      "text/plain": [
       "<IPython.core.display.HTML object>"
      ]
     },
     "metadata": {},
     "output_type": "display_data"
    },
    {
     "name": "stdout",
     "output_type": "stream",
     "text": [
      "RequestID: 20141119103\n",
      "{'context': '', 'matters': []}\n"
     ]
    },
    {
     "data": {
      "text/html": [
       "<hr/>"
      ],
      "text/plain": [
       "<IPython.core.display.HTML object>"
      ]
     },
     "metadata": {},
     "output_type": "display_data"
    },
    {
     "name": "stdout",
     "output_type": "stream",
     "text": [
      "RequestID: 20141120105\n",
      "{'context': '', 'matters': []}\n"
     ]
    },
    {
     "data": {
      "text/html": [
       "<hr/>"
      ],
      "text/plain": [
       "<IPython.core.display.HTML object>"
      ]
     },
     "metadata": {},
     "output_type": "display_data"
    },
    {
     "name": "stdout",
     "output_type": "stream",
     "text": [
      "RequestID: 20141128107\n",
      "{'context': '', 'matters': []}\n"
     ]
    },
    {
     "data": {
      "text/html": [
       "<hr/>"
      ],
      "text/plain": [
       "<IPython.core.display.HTML object>"
      ]
     },
     "metadata": {},
     "output_type": "display_data"
    },
    {
     "name": "stdout",
     "output_type": "stream",
     "text": [
      "RequestID: 20141201104\n",
      "{'context': '', 'matters': []}\n"
     ]
    },
    {
     "data": {
      "text/html": [
       "<hr/>"
      ],
      "text/plain": [
       "<IPython.core.display.HTML object>"
      ]
     },
     "metadata": {},
     "output_type": "display_data"
    },
    {
     "name": "stdout",
     "output_type": "stream",
     "text": [
      "RequestID: 20141201109\n",
      "{'context': '', 'matters': []}\n"
     ]
    },
    {
     "data": {
      "text/html": [
       "<hr/>"
      ],
      "text/plain": [
       "<IPython.core.display.HTML object>"
      ]
     },
     "metadata": {},
     "output_type": "display_data"
    },
    {
     "name": "stdout",
     "output_type": "stream",
     "text": [
      "RequestID: 20141219102\n",
      "{'context': '', 'matters': []}\n"
     ]
    },
    {
     "data": {
      "text/html": [
       "<hr/>"
      ],
      "text/plain": [
       "<IPython.core.display.HTML object>"
      ]
     },
     "metadata": {},
     "output_type": "display_data"
    },
    {
     "name": "stdout",
     "output_type": "stream",
     "text": [
      "RequestID: 20141219106\n",
      "{'context': '', 'matters': []}\n"
     ]
    },
    {
     "data": {
      "text/html": [
       "<hr/>"
      ],
      "text/plain": [
       "<IPython.core.display.HTML object>"
      ]
     },
     "metadata": {},
     "output_type": "display_data"
    },
    {
     "name": "stdout",
     "output_type": "stream",
     "text": [
      "RequestID: 20141223103\n",
      "{'context': '', 'matters': []}\n"
     ]
    },
    {
     "data": {
      "text/html": [
       "<hr/>"
      ],
      "text/plain": [
       "<IPython.core.display.HTML object>"
      ]
     },
     "metadata": {},
     "output_type": "display_data"
    }
   ],
   "source": [
    "errors = []\n",
    "for rec in processed_rows[['RequestID', 'output', 'AdditionalDescription']].values:\n",
    "    id, output, desc = rec\n",
    "    output = json.loads(output)\n",
    "    if output.get('error', None):\n",
    "        errors.append({'RequestID' : id, 'error': output, 'desc' : desc})\n",
    "        continue\n",
    "    print('RequestID: {}'.format(id))\n",
    "#     display(HTML(desc))\n",
    "    pprint.pprint(output)\n",
    "    \n",
    "#     print('\\n\\n')\n",
    "#     pprint.pprint(Soup(desc).prettify())\n",
    "#     print('\\n\\n')\n",
    "    display(HTML('<hr/>'))"
   ]
  },
  {
   "cell_type": "code",
   "execution_count": 385,
   "metadata": {
    "collapsed": false,
    "scrolled": false
   },
   "outputs": [
    {
     "data": {
      "text/html": [
       "<h1>6 Errors parsing Citywide Administrative Services::Public Hearings"
      ],
      "text/plain": [
       "<IPython.core.display.HTML object>"
      ]
     },
     "metadata": {},
     "output_type": "display_data"
    },
    {
     "name": "stdout",
     "output_type": "stream",
     "text": [
      "{'RequestID': 20141030107,\n",
      " 'desc': nan,\n",
      " 'error': {'error': 'source is not a string: nan'}}\n",
      "\n",
      "\n",
      "\n",
      "{'RequestID': 20141031112,\n",
      " 'desc': nan,\n",
      " 'error': {'error': 'source is not a string: nan'}}\n",
      "\n",
      "\n",
      "\n",
      "{'RequestID': 20141103110,\n",
      " 'desc': nan,\n",
      " 'error': {'error': 'source is not a string: nan'}}\n",
      "\n",
      "\n",
      "\n",
      "{'RequestID': 20141120108,\n",
      " 'desc': nan,\n",
      " 'error': {'error': 'source is not a string: nan'}}\n",
      "\n",
      "\n",
      "\n",
      "{'RequestID': 20141128101,\n",
      " 'desc': nan,\n",
      " 'error': {'error': 'source is not a string: nan'}}\n",
      "\n",
      "\n",
      "\n",
      "{'RequestID': 20141203109,\n",
      " 'desc': nan,\n",
      " 'error': {'error': 'source is not a string: nan'}}\n",
      "\n",
      "\n",
      "\n"
     ]
    }
   ],
   "source": [
    "err_summary = '<h1>{} Errors parsing Citywide Administrative Services::Public Hearings'.format(len(errors))\n",
    "display(HTML(err_summary))\n",
    "for error in errors:\n",
    "    pprint.pprint(error)\n",
    "    print('\\n\\n')\n",
    "    desc = error['desc']\n",
    "#     if isinstance(desc, str):\n",
    "#         pprint.pprint(Soup(error['desc']).prettify())\n",
    "#     print('\\n\\n')\n"
   ]
  },
  {
   "cell_type": "code",
   "execution_count": null,
   "metadata": {
    "collapsed": true
   },
   "outputs": [],
   "source": []
  },
  {
   "cell_type": "code",
   "execution_count": null,
   "metadata": {
    "collapsed": true
   },
   "outputs": [],
   "source": []
  },
  {
   "cell_type": "code",
   "execution_count": null,
   "metadata": {
    "collapsed": true
   },
   "outputs": [],
   "source": []
  }
 ],
 "metadata": {
  "kernelspec": {
   "display_name": "Python 3",
   "language": "python",
   "name": "python3"
  },
  "language_info": {
   "codemirror_mode": {
    "name": "ipython",
    "version": 3
   },
   "file_extension": ".py",
   "mimetype": "text/x-python",
   "name": "python",
   "nbconvert_exporter": "python",
   "pygments_lexer": "ipython3",
   "version": "3.4.3"
  }
 },
 "nbformat": 4,
 "nbformat_minor": 0
}
