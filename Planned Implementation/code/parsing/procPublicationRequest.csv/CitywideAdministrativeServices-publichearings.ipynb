{
 "cells": [
  {
   "cell_type": "markdown",
   "metadata": {},
   "source": [
    "**Status**\n",
    "* Some entries seem to be missing context\n",
    "\n",
    "* ![](http://yuml.me/822a77d9)\n"
   ]
  },
  {
   "cell_type": "code",
   "execution_count": 5,
   "metadata": {
    "collapsed": false
   },
   "outputs": [],
   "source": [
    "from bs4 import BeautifulSoup as Soup\n",
    "from IPython.display import display, HTML\n",
    "import pandas as pd\n",
    "import re\n",
    "import pprint\n",
    "import json"
   ]
  },
  {
   "cell_type": "code",
   "execution_count": 6,
   "metadata": {
    "collapsed": false
   },
   "outputs": [],
   "source": [
    "class Token:\n",
    "    def __init__(self, name, value=''):\n",
    "        self.name = name\n",
    "        self.value = value\n",
    "    \n",
    "    def __repr__(self):\n",
    "        return '{} : {}'.format(self.name, self.value)\n",
    "        \n",
    "# we will use these tokens:\n",
    "# NOTICE -> when NOTICE IS HEREBY GIVEN is detected\n",
    "# MATTER -> when IN THE MATTER OF is detected\n",
    "def tokenize(fragment):\n",
    "    soup = Soup(fragment)\n",
    "    for para in soup.find_all('p'):\n",
    "        text = para.get_text(strip=True)\n",
    "        \n",
    "        if 'notice is hereby given' in text.lower():\n",
    "            yield Token('NOTICE')\n",
    "            \n",
    "            # 'in the matter' could be part of the same text\n",
    "            # that contained the 'notice is hereby given'\n",
    "            # so check immediately after yielding NOTICE\n",
    "            if 'in the matter' in text.lower():\n",
    "                loc = text.lower().find('in the matter')\n",
    "                yield Token('TEXT', text[:loc])\n",
    "                yield Token('MATTER')\n",
    "                yield Token('TEXT', ' ' + text[loc:])\n",
    "            else:\n",
    "                yield Token('TEXT', text) \n",
    "        elif 'in the matter' in text.lower():\n",
    "            loc = text.lower().find('in the matter')\n",
    "            yield Token('TEXT', text[:loc])\n",
    "            yield Token('MATTER')\n",
    "            yield Token('TEXT', ' ' + text[loc:])\n",
    "        else:\n",
    "            yield Token('TEXT', text)\n"
   ]
  },
  {
   "cell_type": "code",
   "execution_count": 7,
   "metadata": {
    "collapsed": false
   },
   "outputs": [],
   "source": [
    "fn = 'procPublicationRequest Oct-Dec 2014 (Updated) - Sheet1-2.csv'\n",
    "rows = pd.read_csv(fn, header=0)"
   ]
  },
  {
   "cell_type": "code",
   "execution_count": 8,
   "metadata": {
    "collapsed": true
   },
   "outputs": [],
   "source": [
    "class State:\n",
    "    def run(self):\n",
    "        # implement this for printing trace statements\n",
    "        assert 0, \"implement me\"\n",
    "        \n",
    "    def next(self, input):\n",
    "        assert 0, \"implement me\"\n",
    "        \n",
    "    def flush(self, record):\n",
    "        raise Exception('wtf!')\n"
   ]
  },
  {
   "cell_type": "code",
   "execution_count": 9,
   "metadata": {
    "collapsed": false
   },
   "outputs": [],
   "source": [
    "class Matters(State):\n",
    "    \n",
    "    def __init__(self):\n",
    "        State.__init__(self)\n",
    "        self.matter = ''\n",
    "    \n",
    "    def run(self):\n",
    "        print('Process MATTERS')\n",
    "        \n",
    "    def flush(self, record):\n",
    "        record['matters'].append({ 'matter' : self.matter })\n",
    "        self.matter = ''\n",
    "        \n",
    "    def next(self, tok, record):\n",
    "        if tok.name == 'TEXT':\n",
    "            self.matter += tok.value\n",
    "        if tok.name == 'MATTER':\n",
    "            self.flush(record)\n",
    "        return self\n",
    "            \n",
    "\n",
    "class Notice(State):\n",
    "    \n",
    "    def __init__(self, notice=''):\n",
    "        State.__init__(self)\n",
    "        self.notice = notice\n",
    "        \n",
    "    def run(self):\n",
    "        print('NOTICE')\n",
    "        \n",
    "    def next(self, tok, record):\n",
    "        if tok.name == 'TEXT':\n",
    "            self.notice += tok.value\n",
    "            return self\n",
    "        if tok.name == 'MATTER':\n",
    "            record['context'] = self.notice\n",
    "            return Matters()\n",
    "        return self\n",
    "    \n",
    "    def flush(self, record):\n",
    "        record['error'] = 'no transition out of NOTICE'\n",
    "        \n",
    "    \n",
    "class Init(State):\n",
    "    \n",
    "    def run(self):\n",
    "        print('INIT')\n",
    "        \n",
    "    def next(self, tok, record):\n",
    "        if tok.name == 'NOTICE':\n",
    "            return Notice()\n",
    "        return self\n",
    "                                  \n",
    "    def flush(self, record):\n",
    "        record['error'] = 'no transition out of INIT'\n",
    "                                  "
   ]
  },
  {
   "cell_type": "code",
   "execution_count": 10,
   "metadata": {
    "collapsed": false
   },
   "outputs": [],
   "source": [
    "agency = rows['AgencyName'] == \"Citywide Administrative Services\"\n",
    "description = rows['TypeOfNoticeDescription'] == \"Public Hearings\"\n",
    "target_rows = rows[agency & description]\n"
   ]
  },
  {
   "cell_type": "code",
   "execution_count": 11,
   "metadata": {
    "collapsed": true
   },
   "outputs": [],
   "source": [
    "def scrape(row):\n",
    "    output = {}\n",
    "    if not isinstance(row.AdditionalDescription, str):\n",
    "        output = { 'error' : 'source is not a string: {}'.format(row.AdditionalDescription) }\n",
    "    else:   \n",
    "        state = Init()\n",
    "        record = { 'matters' :[], 'context' : '' }\n",
    "        for tok in tokenize(row.AdditionalDescription):\n",
    "            state = state.next(tok, record)\n",
    "        state.flush(record)\n",
    "        output = record\n",
    "\n",
    "    row['output'] = json.dumps(output)\n",
    "    return row"
   ]
  },
  {
   "cell_type": "code",
   "execution_count": 12,
   "metadata": {
    "collapsed": false,
    "scrolled": false
   },
   "outputs": [],
   "source": [
    "processed_rows = target_rows.apply(scrape,1)"
   ]
  },
  {
   "cell_type": "code",
   "execution_count": 13,
   "metadata": {
    "collapsed": false,
    "scrolled": false
   },
   "outputs": [
    {
     "name": "stdout",
     "output_type": "stream",
     "text": [
      "RequestID: 20141006102\n",
      "{'context': 'NOTICE IS HEREBY GIVEN THAT A REAL PROPERTY ACQUISITIONS AND '\n",
      "            'DISPOSITIONS PUBLIC HEARING, in accordance with Section 824 of '\n",
      "            'the New York City Charter, will be held on Wednesday October '\n",
      "            '22, 2014 at 10:00 a.m., 22 Reade Street, 2ndfloor conference '\n",
      "            'room, Borough of Manhattan',\n",
      " 'matters': [{'matter': ' IN THE MATTER OFa lease for The City of New '\n",
      "                        'York, as Tenant, of approximately 10,826 rentable '\n",
      "                        'square feet of space on part of the second\\xa0 '\n",
      "                        'floor in a building located at 1 Teleport '\n",
      "                        'Drive\\xa0 (Block 2165, Lot 170), in the Borough '\n",
      "                        'of Staten Island, for the Traffic Enforcement '\n",
      "                        'Division of the Police Department to use as an '\n",
      "                        'office.The proposed lease shall be for a period '\n",
      "                        'of twenty (20) years and three (3) months from '\n",
      "                        'Substantial Completion of alterations and '\n",
      "                        'improvements, at an annual rent of $278,064.15 '\n",
      "                        'from rent commencement through the first five (5) '\n",
      "                        'years, $308,119.21 for the following five (5) '\n",
      "                        'years, $341,135.90 for the following five (5) '\n",
      "                        'years and $377,443.29 for the last five (5) '\n",
      "                        'years, payable in equal monthly installments at '\n",
      "                        'the end of each month.\\xa0 The first three (3) '\n",
      "                        'months’ rent shall be abated.The lease may be '\n",
      "                        'terminated by the Tenant at the end of five (5) '\n",
      "                        'years, or anytime thereafter, provided the Tenant '\n",
      "                        'gives the Landlord one (1) year prior written '\n",
      "                        'notice.\\xa0 In the event that the lease is '\n",
      "                        'terminated by the Tenant, the Tenant shall pay to '\n",
      "                        'the Landlord all rents and charges due and '\n",
      "                        'payable up to and including the termination date, '\n",
      "                        'as well as the unamortized portion of the '\n",
      "                        'Tenant’s broker’s commission and Landlord’s '\n",
      "                        'contribution to the Tenant Work.The Tenant shall '\n",
      "                        'have the right to renew the lease for a period of '\n",
      "                        'five (5) years at 95% of Fair Market Value '\n",
      "                        '(FMV).The Landlord shall prepare final '\n",
      "                        'architectural plans and engineering plans and '\n",
      "                        'make alterations and improvements in accordance '\n",
      "                        'with preliminary architectural plans and '\n",
      "                        'specifications which are attached to the lease. '\n",
      "                        'The alterations and improvements consist of Base '\n",
      "                        'Building Work, which the landlord shall provide '\n",
      "                        'at its sole cost and expense, and Tenant '\n",
      "                        'Work.\\xa0 The total cost of the Tenant Work shall '\n",
      "                        'not exceed $2,230,900.00 of which the Landlord '\n",
      "                        'shall contribute $278,613.00 and the balance up '\n",
      "                        'to $1,952,287.00 will be paid by the Tenant '\n",
      "                        'pursuant to the terms of the lease.'},\n",
      "             {'matter': ' IN THE MATTER OFa lease for The City of New '\n",
      "                        'York, as Tenant, of approximately 15,270 rentable '\n",
      "                        'square feet of space on part of the fifth\\xa0 '\n",
      "                        'floor in a building located at 1775 Grand '\n",
      "                        'Concourse (Block 2822, Lot 1001), in the Borough '\n",
      "                        'of Bronx, for the Bronx Tort Division of the '\n",
      "                        'Department of Law to use as office or for such '\n",
      "                        'other use as the Commissioner of the Department '\n",
      "                        'of Citywide Administrative Services may '\n",
      "                        'determine.The proposed use was approved by the '\n",
      "                        'City Planning Commission pursuant to NYC Charter '\n",
      "                        'Section 195 on January 8, 2014 (CPC Appl. No. N '\n",
      "                        '140214 PXX ).The proposed lease shall be for a '\n",
      "                        'period of ten (10) years from Substantial '\n",
      "                        'Completion of alterations and improvements, at an '\n",
      "                        'annual rent of $498,080.00 ($32.61 per square '\n",
      "                        'foot) for the first five (5) years, and '\n",
      "                        '$562,080.00 ($36.80 per square foot) for the last '\n",
      "                        'five (5) years, payable in equal monthly '\n",
      "                        'installments at the end of each month.\\xa0 The '\n",
      "                        'first months’ rent shall be abated.\\xa0 Five (5) '\n",
      "                        'parking spaces are included in the annual rent at '\n",
      "                        'no additional charge.The lease may be terminated '\n",
      "                        'by the Tenant at the end of five (5) years, or '\n",
      "                        'anytime thereafter, provided the Tenant gives the '\n",
      "                        'Landlord nine (9) months prior written '\n",
      "                        'notice.\\xa0 In the event that the lease is '\n",
      "                        'terminated by the Tenant, the Tenant shall pay to '\n",
      "                        'the Landlord the unamortized portion of the '\n",
      "                        'Tenant’s broker’s commission, the free rent, and '\n",
      "                        'Landlord’s contribution to the Tenant Work.The '\n",
      "                        'Tenant shall have 2 (two) options to renew the '\n",
      "                        'lease for periods of five (5) years each at 90% '\n",
      "                        'of Fair Market Value (FMV) which shall be no less '\n",
      "                        'than the previous year’s base rent.The Landlord '\n",
      "                        'shall prepare final architectural plans and '\n",
      "                        'engineering plans and make alterations and '\n",
      "                        'improvements in accordance with preliminary '\n",
      "                        'architectural plans and specifications which are '\n",
      "                        'attached to the lease. The alterations and '\n",
      "                        'improvements consist of Base Building Work, which '\n",
      "                        'the landlord shall provide at its sole cost and '\n",
      "                        'expense, and Tenant Work.\\xa0 The total cost the '\n",
      "                        'final architectural plans and engineering plans '\n",
      "                        'for the Tenant Work and the Tenant Work shall not '\n",
      "                        'exceed $2,705,200.00 ($177.16 per square foot) of '\n",
      "                        'which the Landlord shall contribute $560,000.00 '\n",
      "                        '($36.67 per square foot) and the balance up to '\n",
      "                        '$2,145,200.00 will be paid by the Tenant, to be '\n",
      "                        'disbursed in one lump sum payment upon the '\n",
      "                        'substantial completion of the alterations and '\n",
      "                        'improvements.Further information, including '\n",
      "                        'public inspection of the proposed lease may be '\n",
      "                        'obtained at One Centre Street, Room 2000 North, '\n",
      "                        'New York, N.Y. 10007. To schedule an inspection, '\n",
      "                        'please contact Chris Fleming at (212) '\n",
      "                        '386-0315.Individuals requesting Sign Language '\n",
      "                        'Interpreters should contact the Mayor’s Office of '\n",
      "                        'Contract Services, Public Hearings Unit, 253 '\n",
      "                        'Broadway, 2ndFloor, New York, N.Y. 10007, (212) '\n",
      "                        '788-7490, no later than SEVEN (7) BUSINESS DAYS '\n",
      "                        'PRIOR TO THE PUBLIC HEARING. TDD users should '\n",
      "                        'call VERIZON relay service.'}]}\n"
     ]
    },
    {
     "data": {
      "text/html": [
       "<p> <strong>NOTICE IS HEREBY GIVEN THAT A REAL PROPERTY ACQUISITIONS AND DISPOSITIONS PUBLIC HEARING</strong>, in accordance with Section 824 of the New York City Charter, will be held on Wednesday October 22, 2014 at 10:00 a.m., 22 Reade Street, 2<sup>nd</sup> floor conference room, Borough of Manhattan</p> <p> <strong>IN THE MATTER OF</strong> a lease for The City of New York, as Tenant, of approximately 10,826 rentable square feet of space on part of the second&nbsp; floor in a building located at 1 Teleport Drive&nbsp; (Block 2165, Lot 170), in the Borough of Staten Island, for the Traffic Enforcement Division of the Police Department to use as an office.</p> <p> &nbsp;</p> <p> The proposed lease shall be for a period of twenty (20) years and three (3) months from Substantial Completion of alterations and improvements, at an annual rent of $278,064.15 from rent commencement through the first five (5) years, $308,119.21 for the following five (5) years, $341,135.90 for the following five (5) years and $377,443.29 for the last five (5) years, payable in equal monthly installments at the end of each month.&nbsp; The first three (3) months&rsquo; rent shall be abated.</p> <p> &nbsp;</p> <p> The lease may be terminated by the Tenant at the end of five (5) years, or anytime thereafter, provided the Tenant gives the Landlord one (1) year prior written notice.&nbsp; In the event that the lease is terminated by the Tenant, the Tenant shall pay to the Landlord all rents and charges due and payable up to and including the termination date, as well as the unamortized portion of the Tenant&rsquo;s broker&rsquo;s commission and Landlord&rsquo;s contribution to the Tenant Work.</p> <p> &nbsp;</p> <p> The Tenant shall have the right to renew the lease for a period of five (5) years at 95% of Fair Market Value (FMV).</p> <p> The Landlord shall prepare final architectural plans and engineering plans and make alterations and improvements in accordance with preliminary architectural plans and specifications which are attached to the lease. The alterations and improvements consist of Base Building Work, which the landlord shall provide at its sole cost and expense, and Tenant Work.&nbsp; The total cost of the Tenant Work shall not exceed $2,230,900.00 of which the Landlord shall contribute $278,613.00 and the balance up to $1,952,287.00 will be paid by the Tenant pursuant to the terms of the lease.</p> <p> &nbsp;</p> <p> <strong>IN THE MATTER OF</strong> a lease for The City of New York, as Tenant, of approximately 15,270 rentable square feet of space on part of the fifth&nbsp; floor in a building located at 1775 Grand Concourse (Block 2822, Lot 1001), in the Borough of Bronx, for the Bronx Tort Division of the Department of Law to use as office or for such other use as the Commissioner of the Department of Citywide Administrative Services may determine.</p> <p> &nbsp;</p> <p> The proposed use was approved by the City Planning Commission pursuant to NYC Charter Section 195 on January 8, 2014 (CPC Appl. No. N 140214 PXX ).</p> <p> &nbsp;</p> <p> The proposed lease shall be for a period of ten (10) years from Substantial Completion of alterations and improvements, at an annual rent of $498,080.00 ($32.61 per square foot) for the first five (5) years, and $562,080.00 ($36.80 per square foot) for the last five (5) years, payable in equal monthly installments at the end of each month.&nbsp; The first months&rsquo; rent shall be abated.&nbsp; Five (5) parking spaces are included in the annual rent at no additional charge.</p> <p> &nbsp;</p> <p> The lease may be terminated by the Tenant at the end of five (5) years, or anytime thereafter, provided the Tenant gives the Landlord nine (9) months prior written notice.&nbsp; In the event that the lease is terminated by the Tenant, the Tenant shall pay to the Landlord the unamortized portion of the Tenant&rsquo;s broker&rsquo;s commission, the free rent, and Landlord&rsquo;s contribution to the Tenant Work.</p> <p> &nbsp;</p> <p> The Tenant shall have 2 (two) options to renew the lease for periods of five (5) years each at 90% of Fair Market Value (FMV) which shall be no less than the previous year&rsquo;s base rent.</p> <p> The Landlord shall prepare final architectural plans and engineering plans and make alterations and improvements in accordance with preliminary architectural plans and specifications which are attached to the lease. The alterations and improvements consist of Base Building Work, which the landlord shall provide at its sole cost and expense, and Tenant Work.&nbsp; The total cost the final architectural plans and engineering plans for the Tenant Work and the Tenant Work shall not exceed $2,705,200.00 ($177.16 per square foot) of which the Landlord shall contribute $560,000.00 ($36.67 per square foot) and the balance up to $2,145,200.00 will be paid by the Tenant, to be disbursed in one lump sum payment upon the substantial completion of the alterations and improvements.</p> <p> &nbsp;</p> <p> Further information, including public inspection of the proposed lease may be obtained at One Centre Street, Room 2000 North, New York, N.Y. 10007. To schedule an inspection, please contact Chris Fleming at (212) 386-0315.</p> <p> &nbsp;</p> <p> Individuals requesting Sign Language Interpreters should contact the Mayor&rsquo;s Office of Contract Services, Public Hearings Unit, 253 Broadway, 2<sup>nd</sup> Floor, New York, N.Y. 10007, (212) 788-7490, no later than SEVEN (7) BUSINESS DAYS PRIOR TO THE PUBLIC HEARING. TDD users should call VERIZON relay service.</p>"
      ],
      "text/plain": [
       "<IPython.core.display.HTML object>"
      ]
     },
     "metadata": {},
     "output_type": "display_data"
    },
    {
     "data": {
      "text/html": [
       "<hr/>"
      ],
      "text/plain": [
       "<IPython.core.display.HTML object>"
      ]
     },
     "metadata": {},
     "output_type": "display_data"
    },
    {
     "name": "stdout",
     "output_type": "stream",
     "text": [
      "RequestID: 20141105101\n",
      "{'context': 'NOTICE IS HEREBY GIVEN THAT A REAL PROPERTY ACQUISITIONS AND '\n",
      "            'DISPOSITIONS PUBLIC HEARING, in accordance with Section 824 of '\n",
      "            'the New York City Charter, will be held on November 24, 2014 at '\n",
      "            '10:00 a.m., 22 Reade Street, 2ndfloor conference room, Borough '\n",
      "            'of Manhattan.',\n",
      " 'matters': [{'matter': ' IN THE MATTER OFa lease renewal and amendment '\n",
      "                        'agreement for The City of New York, as Tenant, of '\n",
      "                        'approximately 21,741 rentable square feet of '\n",
      "                        'space on the tenth floor in a building located at '\n",
      "                        '200 Varick Street (Block 520, Lot 1) in the '\n",
      "                        'Borough of Manhattan for the Board of Elections '\n",
      "                        'to use as an office, or any other use that the '\n",
      "                        'Department of Citywide Administrative Services '\n",
      "                        'may determine.The proposed lease renewal and '\n",
      "                        'amendment agreement (the “Agreement”) shall be '\n",
      "                        'for the term of ten (10) years from October 1, '\n",
      "                        '2013, at an annual rent of $885,640.00 ($40.73 '\n",
      "                        'per square foot) for the first five (5) years, '\n",
      "                        'and thereafter at an annual rent of $931,152.00 '\n",
      "                        '($42.83 per square foot) for the final five (5) '\n",
      "                        'years, payable in equal monthly installments at '\n",
      "                        'the end of each month.\\xa0 The first month’s rent '\n",
      "                        'payment shall include retroactive rent to '\n",
      "                        'September 30, 2013, and as more fully set forth '\n",
      "                        'in the Agreement.The Tenant shall have the option '\n",
      "                        'to renew the lease for an additional term of five '\n",
      "                        '(5) years at a base annual rental for each year '\n",
      "                        'of 90% of the then Fair Market Value Rental.The '\n",
      "                        'Tenant may terminate the Agreement at the end of '\n",
      "                        'two (2) years, or at any time thereafter, '\n",
      "                        'provided the Tenant gives the Landlord six (6) '\n",
      "                        'months prior written notice.\\xa0 In the event the '\n",
      "                        'Tenant exercises its right to terminate, the '\n",
      "                        'Tenant shall pay to the Landlord the unamortized '\n",
      "                        'portion of the cost of Tenant’s work on a five '\n",
      "                        '(5) year straight-line basis.'},\n",
      "             {'matter': ' IN THE MATTER OFrenewal of the lease for the '\n",
      "                        'City of New York, as tenant, of approximately '\n",
      "                        '1,429 rentable square feet of space on the ground '\n",
      "                        'floor of the building located at 61-23 Myrtle '\n",
      "                        'Avenue (Block 3638, Lot 65) in the Borough of '\n",
      "                        'Queens for Community Board No. 5 to use as an '\n",
      "                        'office or for such other use that the '\n",
      "                        'Commissioner of Department of Citywide '\n",
      "                        'Administration may determine.The proposed renewal '\n",
      "                        'of the lease shall be for the term of fifteen '\n",
      "                        '(15) years from January 1, 2015 at an annual rent '\n",
      "                        'of $36,740.00 ($25.71 per square foot) for the '\n",
      "                        'first five (5) years, then $40,425.00 ($31.11 per '\n",
      "                        'square foot) for the next five (5) years, then '\n",
      "                        '$44,455.00 ($31.11 per square foot) for the final '\n",
      "                        'five (5) years, payable in equal monthly '\n",
      "                        'installments at the end of each month.The Lease '\n",
      "                        'may be terminated by the Tenant without penalty '\n",
      "                        'at any time after the second anniversary of the '\n",
      "                        'Extended Term Commencement Date of January 1, '\n",
      "                        '2015 upon sixty (60) days prior written notice to '\n",
      "                        'Landlord.Landlord will perform alterations and '\n",
      "                        'improvements at his sole cost and expense based '\n",
      "                        'on a scope of work.Further information, including '\n",
      "                        'public inspection of the proposed lease may be '\n",
      "                        'obtained at One Centre Street, Room 2000 North, '\n",
      "                        'New York, N.Y.\\xa0 10007.\\xa0 To schedule an '\n",
      "                        'inspection, please contact Chris Fleming at (212) '\n",
      "                        '386-0315.Individuals requesting Sign Language '\n",
      "                        'Interpreters should contact the Mayor’s Office of '\n",
      "                        'Contract Services, Public Hearings Unit, 253 '\n",
      "                        'Broadway, 2nd Floor, New York, N.Y.\\xa0 '\n",
      "                        '10007,\\xa0 (212) 788-7490, no later than SEVEN '\n",
      "                        '(7) BUSINESS DAYS PRIOR TO THE PUBLIC '\n",
      "                        'HEARING.\\xa0 TDD users should call VERIZON relay '\n",
      "                        'services.'}]}\n"
     ]
    },
    {
     "data": {
      "text/html": [
       "<p> <strong>NOTICE IS HEREBY GIVEN THAT A REAL PROPERTY ACQUISITIONS AND DISPOSITIONS PUBLIC HEARING</strong>, in accordance with Section 824 of the New York City Charter, will be held on November 24, 2014 at 10:00 a.m., 22 Reade Street, 2<sup>nd</sup> floor conference room, Borough of Manhattan.</p> <p> <strong>IN THE MATTER OF </strong>a lease renewal and amendment agreement for The City of New York, as Tenant, of approximately 21,741 rentable square feet of space on the tenth floor in a building located at 200 Varick Street (Block 520, Lot 1) in the Borough of Manhattan for the Board of Elections to use as an office, or any other use that the Department of Citywide Administrative Services may determine.</p> <p> &nbsp;</p> <p> The proposed lease renewal and amendment agreement (the &ldquo;Agreement&rdquo;) shall be for the term of ten (10) years from October 1, 2013, at an annual rent of $885,640.00 ($40.73 per square foot) for the first five (5) years, and thereafter at an annual rent of $931,152.00 ($42.83 per square foot) for the final five (5) years, payable in equal monthly installments at the end of each month.&nbsp; The first month&rsquo;s rent payment shall include retroactive rent to September 30, 2013, and as more fully set forth in the Agreement.</p> <p> &nbsp;&nbsp;&nbsp;&nbsp;&nbsp;&nbsp;&nbsp;&nbsp;&nbsp;&nbsp;&nbsp;</p> <p> The Tenant shall have the option to renew the lease for an additional term of five (5) years at a base annual rental for each year of 90% of the then Fair Market Value Rental.</p> <p> &nbsp;</p> <p> The Tenant may terminate the Agreement at the end of two (2) years, or at any time thereafter, provided the Tenant gives the Landlord six (6) months prior written notice.&nbsp; In the event the Tenant exercises its right to terminate, the Tenant shall pay to the Landlord the unamortized portion of the cost of Tenant&rsquo;s work on a five (5) year straight-line basis.</p> <p> &nbsp;</p> <p> <strong>IN THE MATTER OF </strong>renewal of the lease for the City of New York, as tenant, of approximately 1,429 rentable square feet of space on the ground floor of the building located at 61-23 Myrtle Avenue (Block 3638, Lot 65) in the Borough of Queens for Community Board No. 5 to use as an office or for such other use that the Commissioner of Department of Citywide Administration may determine.</p> <p> &nbsp;</p> <p> The proposed renewal of the lease shall be for the term of fifteen (15) years from January 1, 2015 at an annual rent of $36,740.00 ($25.71 per square foot) for the first five (5) years, then $40,425.00 ($31.11 per square foot) for the next five (5) years, then $44,455.00 ($31.11 per square foot) for the final five (5) years, payable in equal monthly installments at the end of each month.&nbsp;</p> <p> &nbsp;</p> <p> The Lease may be terminated by the Tenant without penalty at any time after the second anniversary of the Extended Term Commencement Date of January 1, 2015 upon sixty (60) days prior written notice to Landlord.</p> <p> &nbsp;</p> <p> Landlord will perform alterations and improvements at his sole cost and expense based on a scope of work.</p> <p> Further information, including public inspection of the proposed lease may be obtained at One Centre Street, Room 2000 North, New York, N.Y.&nbsp; 10007.&nbsp; To schedule an inspection, please contact Chris Fleming at (212) 386-0315.</p> <p> &nbsp;</p> <p> Individuals requesting Sign Language Interpreters should contact the Mayor&rsquo;s Office of Contract Services, Public Hearings Unit, 253 Broadway, 2nd Floor, New York, N.Y.&nbsp; 10007,&nbsp; (212) 788-7490, no later than SEVEN (7) BUSINESS DAYS PRIOR TO THE PUBLIC HEARING.&nbsp; TDD users should call VERIZON relay services.</p>"
      ],
      "text/plain": [
       "<IPython.core.display.HTML object>"
      ]
     },
     "metadata": {},
     "output_type": "display_data"
    },
    {
     "data": {
      "text/html": [
       "<hr/>"
      ],
      "text/plain": [
       "<IPython.core.display.HTML object>"
      ]
     },
     "metadata": {},
     "output_type": "display_data"
    },
    {
     "name": "stdout",
     "output_type": "stream",
     "text": [
      "RequestID: 20141118109\n",
      "{'context': 'NOTICE IS HEREBY GIVEN THAT A REAL PROPERTY ACQUISITIONS AND '\n",
      "            'DISPOSITIONS PUBLIC HEARING, in accordance with Section 824 of '\n",
      "            'the New York City Charter, will be held on December 10, 2014 at '\n",
      "            '10:30 a.m., 22 Reade Street, 2ndfloor conference room, Borough '\n",
      "            'of Manhattan, ',\n",
      " 'matters': [{'matter': ' in the matter of a lease for the City of New '\n",
      "                        'York, as tenant, of approximately 16,334 rentable '\n",
      "                        'square feet of space on the entire fifth (5th) '\n",
      "                        'floor of the building located at 118-35 Queens '\n",
      "                        'Boulevard (Block 2270, Lot 41) in the Borough of '\n",
      "                        'Queens for a Computerized Testing and '\n",
      "                        'Applications Center, or for such other use as the '\n",
      "                        'Commissioner of the Department of Citywide '\n",
      "                        'Administrative Services may determine.The '\n",
      "                        'proposed use was approved by the City Planning '\n",
      "                        'Commission pursuant to NYC Charter Section 195 on '\n",
      "                        'May 7, 2014 (CPC Appl. No. 140293 PXQ, Public '\n",
      "                        'Hearing Cal. No. 10).The proposed lease shall be '\n",
      "                        'for a period of twenty (20) years from '\n",
      "                        'Substantial Completion of alterations and '\n",
      "                        'improvements, at an annual rent of $612,103.00 '\n",
      "                        '($37.47 per square foot) for the first five (5) '\n",
      "                        'years, $685,555.36 ($41.97 per square foot) for '\n",
      "                        'the next five (5) years, $767,872.66 ($47.01 per '\n",
      "                        'square foot) for the next five (5) years, and '\n",
      "                        '$859,899.18 ($52.64 per square foot) for the '\n",
      "                        'final five (5) years, payable in equal monthly '\n",
      "                        'installments at the end of each month.\\xa0 The '\n",
      "                        'first six (6) months’ rent shall be abated.The '\n",
      "                        'lease may be terminated by the Tenant on the '\n",
      "                        'fifth (5th), tenth (10th), and fifteenth (15th) '\n",
      "                        'anniversaries of the commencement date, provided '\n",
      "                        'the Tenant gives the Landlord no less than twelve '\n",
      "                        '(12) months prior written notice.\\xa0 In the '\n",
      "                        'event that the lease is terminated by the Tenant, '\n",
      "                        'the Tenant shall pay the Landlord the unamortized '\n",
      "                        'portion of the Tenant’s broker’s commission, '\n",
      "                        'Tenant Improvement Allowance, and free rent.The '\n",
      "                        'Tenant shall have the right to renew the lease '\n",
      "                        'for a period of five (5) years at 95% of Fair '\n",
      "                        'Market Value (FMV).The Landlord shall prepare '\n",
      "                        'final architectural plans and engineering plans '\n",
      "                        'and make alterations and improvements in '\n",
      "                        'accordance with preliminary architectural plans '\n",
      "                        'and specifications which are attached to the '\n",
      "                        'lease. The alterations and improvements consist '\n",
      "                        'of Base Building Work, which the landlord shall '\n",
      "                        'provide at its sole cost and expense, and Tenant '\n",
      "                        'Work.\\xa0 The total cost of the Tenant Work shall '\n",
      "                        'not exceed $3,269,800 ($200.18 per rentable '\n",
      "                        'square foot) of which the Landlord shall '\n",
      "                        'contribute $714,280.00 ($43.73 per rentable '\n",
      "                        'square foot) and the balance up to 2,555,520.00 '\n",
      "                        '($156.45 per rentable square foot) will be paid '\n",
      "                        'by the Tenant, to be disbursed in accordance with '\n",
      "                        'the terms of the lease.Further information, '\n",
      "                        'including public inspection of the proposed lease '\n",
      "                        'may be obtained at One Centre Street, Room 2000 '\n",
      "                        'North, New York, N.Y.\\xa0 10007.\\xa0 To schedule '\n",
      "                        'an inspection, please contact Chris Fleming at '\n",
      "                        '(212) 386-0315.Individuals requesting Sign '\n",
      "                        'Language Interpreters should contact the Mayor’s '\n",
      "                        'Office of Contract Services, Public Hearings '\n",
      "                        'Unit, 253 Broadway, 2ndFloor, New York, N.Y.\\xa0 '\n",
      "                        '10007,\\xa0 (212) 788-7490, no later than SEVEN '\n",
      "                        '(7) BUSINESS DAYS PRIOR TO THE PUBLIC '\n",
      "                        'HEARING.\\xa0 TDD users should call VERIZON relay '\n",
      "                        'services.'}]}\n"
     ]
    },
    {
     "data": {
      "text/html": [
       "<p> <strong>NOTICE IS HEREBY GIVEN THAT A REAL PROPERTY ACQUISITIONS AND DISPOSITIONS PUBLIC HEARING</strong>, in accordance with Section 824 of the New York City Charter, will be held on December 10, 2014 at 10:30 a.m., 22 Reade Street, 2<sup>nd</sup> floor conference room, Borough of Manhattan, in the matter of a lease for the City of New York, as tenant, of approximately 16,334 rentable square feet of space on the entire fifth (5<sup>th</sup>) floor of the building located at 118-35 Queens Boulevard (Block 2270, Lot 41) in the Borough of Queens for a Computerized Testing and Applications Center, or for such other use as the Commissioner of the Department of Citywide Administrative Services may determine.</p> <p> &nbsp;</p> <p> The proposed use was approved by the City Planning Commission pursuant to NYC Charter Section 195 on May 7, 2014 (CPC Appl. No. 140293 PXQ, Public Hearing Cal. No. 10).</p> <p> &nbsp;</p> <p> The proposed lease shall be for a period of twenty (20) years from Substantial Completion of alterations and improvements, at an annual rent of $612,103.00 ($37.47 per square foot) for the first five (5) years, $685,555.36 ($41.97 per square foot) for the next five (5) years, $767,872.66 ($47.01 per square foot) for the next five (5) years, and $859,899.18 ($52.64 per square foot) for the final five (5) years, payable in equal monthly installments at the end of each month.&nbsp; The first six (6) months&rsquo; rent shall be abated.</p> <p> &nbsp;</p> <p> The lease may be terminated by the Tenant on the fifth (5<sup>th</sup>), tenth (10<sup>th</sup>), and fifteenth (15<sup>th</sup>) anniversaries of the commencement date, provided the Tenant gives the Landlord no less than twelve (12) months prior written notice.&nbsp; In the event that the lease is terminated by the Tenant, the Tenant shall pay the Landlord the unamortized portion of the Tenant&rsquo;s broker&rsquo;s commission, Tenant Improvement Allowance, and free rent.</p> <p> &nbsp;</p> <p> The Tenant shall have the right to renew the lease for a period of five (5) years at 95% of Fair Market Value (FMV).</p> <p> &nbsp;</p> <p> The Landlord shall prepare final architectural plans and engineering plans and make alterations and improvements in accordance with preliminary architectural plans and specifications which are attached to the lease. The alterations and improvements consist of Base Building Work, which the landlord shall provide at its sole cost and expense, and Tenant Work.&nbsp; The total cost of the Tenant Work shall not exceed $3,269,800 ($200.18 per rentable square foot) of which the Landlord shall contribute $714,280.00 ($43.73 per rentable square foot) and the balance up to 2,555,520.00 ($156.45 per rentable square foot) will be paid by the Tenant, to be disbursed in accordance with the terms of the lease.</p> <p> &nbsp;</p> <p> Further information, including public inspection of the proposed lease may be obtained at One Centre Street, Room 2000 North, New York, N.Y.&nbsp; 10007.&nbsp; To schedule an inspection, please contact Chris Fleming at (212) 386-0315.</p> <p> &nbsp;</p> <p> Individuals requesting Sign Language Interpreters should contact the Mayor&rsquo;s Office of Contract Services, Public Hearings Unit, 253 Broadway, 2<sup>nd</sup> Floor, New York, N.Y.&nbsp; 10007,&nbsp; (212) 788-7490, no later than SEVEN (7) BUSINESS DAYS PRIOR TO THE PUBLIC HEARING.&nbsp; TDD users should call VERIZON relay services.</p>"
      ],
      "text/plain": [
       "<IPython.core.display.HTML object>"
      ]
     },
     "metadata": {},
     "output_type": "display_data"
    },
    {
     "data": {
      "text/html": [
       "<hr/>"
      ],
      "text/plain": [
       "<IPython.core.display.HTML object>"
      ]
     },
     "metadata": {},
     "output_type": "display_data"
    }
   ],
   "source": [
    "errors = []\n",
    "cols = ['RequestID', 'output', 'AdditionalDescription', 'StartDate', 'EndDate', 'DueDate']\n",
    "for rec in processed_rows[cols].values:\n",
    "    id, output, desc, dtStart, dtEnd, dtDue = rec\n",
    "    output = json.loads(output)\n",
    "    if output.get('error', None):\n",
    "        errors.append({'RequestID' : id, 'error': output, 'desc' : desc, \n",
    "                       'StartDate' : dtStart, 'EndDate' : dtEnd, 'DueDate' :  dtDue\n",
    "                      })\n",
    "        continue\n",
    "    print('RequestID: {}'.format(id))\n",
    "    pprint.pprint(output)\n",
    "    display(HTML(desc))\n",
    "    \n",
    "    display(HTML('<hr/>'))"
   ]
  },
  {
   "cell_type": "code",
   "execution_count": 14,
   "metadata": {
    "collapsed": false,
    "scrolled": false
   },
   "outputs": [
    {
     "data": {
      "text/html": [
       "<h1>17 Errors parsing Citywide Administrative Services::Public Hearings"
      ],
      "text/plain": [
       "<IPython.core.display.HTML object>"
      ]
     },
     "metadata": {},
     "output_type": "display_data"
    },
    {
     "name": "stdout",
     "output_type": "stream",
     "text": [
      "{'DueDate': nan,\n",
      " 'EndDate': '10/8/2014 0:00:00',\n",
      " 'RequestID': 20140930111,\n",
      " 'StartDate': '10/8/2014 0:00:00',\n",
      " 'desc': '<p align=center\"> &nbsp;</p> <p> <strong>NOTICE IS HEREBY GIVEN '\n",
      "         'THAT A REAL PROPERTY ACQUISITIONS AND DISPOSITIONS PUBLIC '\n",
      "         'HEARING</strong>',\n",
      " 'error': {'context': '',\n",
      "           'error': 'no transition out of NOTICE',\n",
      "           'matters': []}}\n",
      "\n",
      "\n",
      "\n"
     ]
    },
    {
     "data": {
      "text/html": [
       "<p align=center\"> &nbsp;</p> <p> <strong>NOTICE IS HEREBY GIVEN THAT A REAL PROPERTY ACQUISITIONS AND DISPOSITIONS PUBLIC HEARING</strong>"
      ],
      "text/plain": [
       "<IPython.core.display.HTML object>"
      ]
     },
     "metadata": {},
     "output_type": "display_data"
    },
    {
     "data": {
      "text/html": [
       "<hr/>"
      ],
      "text/plain": [
       "<IPython.core.display.HTML object>"
      ]
     },
     "metadata": {},
     "output_type": "display_data"
    },
    {
     "name": "stdout",
     "output_type": "stream",
     "text": [
      "{'DueDate': nan,\n",
      " 'EndDate': '10/10/2014 0:00:00',\n",
      " 'RequestID': 20141007108,\n",
      " 'StartDate': '10/10/2014 0:00:00',\n",
      " 'desc': '<p align=center\"> <strong>Notice of Public Hearing</strong></p> '\n",
      "         '<p> &nbsp;</p> <p> <strong>NOTICE IS HEREBY GIVEN THAT A REAL '\n",
      "         'PROPERTY ACQUISITIONS AND DISPOSITIONS PUBLIC HEARING</strong>',\n",
      " 'error': {'context': '',\n",
      "           'error': 'no transition out of NOTICE',\n",
      "           'matters': []}}\n",
      "\n",
      "\n",
      "\n"
     ]
    },
    {
     "data": {
      "text/html": [
       "<p align=center\"> <strong>Notice of Public Hearing</strong></p> <p> &nbsp;</p> <p> <strong>NOTICE IS HEREBY GIVEN THAT A REAL PROPERTY ACQUISITIONS AND DISPOSITIONS PUBLIC HEARING</strong>"
      ],
      "text/plain": [
       "<IPython.core.display.HTML object>"
      ]
     },
     "metadata": {},
     "output_type": "display_data"
    },
    {
     "data": {
      "text/html": [
       "<hr/>"
      ],
      "text/plain": [
       "<IPython.core.display.HTML object>"
      ]
     },
     "metadata": {},
     "output_type": "display_data"
    },
    {
     "name": "stdout",
     "output_type": "stream",
     "text": [
      "{'DueDate': '11/13/2014 10:00:00',\n",
      " 'EndDate': '11/3/2014 0:00:00',\n",
      " 'RequestID': 20141030107,\n",
      " 'StartDate': '11/3/2014 0:00:00',\n",
      " 'desc': nan,\n",
      " 'error': {'error': 'source is not a string: nan'}}\n",
      "\n",
      "\n",
      "\n"
     ]
    },
    {
     "data": {
      "text/html": [
       "<hr/>"
      ],
      "text/plain": [
       "<IPython.core.display.HTML object>"
      ]
     },
     "metadata": {},
     "output_type": "display_data"
    },
    {
     "name": "stdout",
     "output_type": "stream",
     "text": [
      "{'DueDate': '11/13/2014 10:00:00',\n",
      " 'EndDate': '11/3/2014 0:00:00',\n",
      " 'RequestID': 20141031112,\n",
      " 'StartDate': '11/3/2014 0:00:00',\n",
      " 'desc': nan,\n",
      " 'error': {'error': 'source is not a string: nan'}}\n",
      "\n",
      "\n",
      "\n"
     ]
    },
    {
     "data": {
      "text/html": [
       "<hr/>"
      ],
      "text/plain": [
       "<IPython.core.display.HTML object>"
      ]
     },
     "metadata": {},
     "output_type": "display_data"
    },
    {
     "name": "stdout",
     "output_type": "stream",
     "text": [
      "{'DueDate': '11/13/2014 10:00:00',\n",
      " 'EndDate': '11/6/2014 0:00:00',\n",
      " 'RequestID': 20141103110,\n",
      " 'StartDate': '11/6/2014 0:00:00',\n",
      " 'desc': nan,\n",
      " 'error': {'error': 'source is not a string: nan'}}\n",
      "\n",
      "\n",
      "\n"
     ]
    },
    {
     "data": {
      "text/html": [
       "<hr/>"
      ],
      "text/plain": [
       "<IPython.core.display.HTML object>"
      ]
     },
     "metadata": {},
     "output_type": "display_data"
    },
    {
     "name": "stdout",
     "output_type": "stream",
     "text": [
      "{'DueDate': nan,\n",
      " 'EndDate': '11/13/2014 0:00:00',\n",
      " 'RequestID': 20141106101,\n",
      " 'StartDate': '11/13/2014 0:00:00',\n",
      " 'desc': '<p align=center\"> &nbsp;</p> <p> <strong>NOTICE IS HEREBY GIVEN '\n",
      "         'THAT A REAL PROPERTY ACQUISITIONS AND DISPOSITIONS PUBLIC '\n",
      "         'HEARING</strong>',\n",
      " 'error': {'context': '',\n",
      "           'error': 'no transition out of NOTICE',\n",
      "           'matters': []}}\n",
      "\n",
      "\n",
      "\n"
     ]
    },
    {
     "data": {
      "text/html": [
       "<p align=center\"> &nbsp;</p> <p> <strong>NOTICE IS HEREBY GIVEN THAT A REAL PROPERTY ACQUISITIONS AND DISPOSITIONS PUBLIC HEARING</strong>"
      ],
      "text/plain": [
       "<IPython.core.display.HTML object>"
      ]
     },
     "metadata": {},
     "output_type": "display_data"
    },
    {
     "data": {
      "text/html": [
       "<hr/>"
      ],
      "text/plain": [
       "<IPython.core.display.HTML object>"
      ]
     },
     "metadata": {},
     "output_type": "display_data"
    },
    {
     "name": "stdout",
     "output_type": "stream",
     "text": [
      "{'DueDate': nan,\n",
      " 'EndDate': '11/26/2014 0:00:00',\n",
      " 'RequestID': 20141119103,\n",
      " 'StartDate': '11/26/2014 0:00:00',\n",
      " 'desc': '<p align=center\"> &nbsp;</p> <p> <strong>NOTICE IS HEREBY GIVEN '\n",
      "         'THAT A REAL PROPERTY ACQUISITIONS AND DISPOSITIONS PUBLIC '\n",
      "         'HEARING</strong>',\n",
      " 'error': {'context': '',\n",
      "           'error': 'no transition out of NOTICE',\n",
      "           'matters': []}}\n",
      "\n",
      "\n",
      "\n"
     ]
    },
    {
     "data": {
      "text/html": [
       "<p align=center\"> &nbsp;</p> <p> <strong>NOTICE IS HEREBY GIVEN THAT A REAL PROPERTY ACQUISITIONS AND DISPOSITIONS PUBLIC HEARING</strong>"
      ],
      "text/plain": [
       "<IPython.core.display.HTML object>"
      ]
     },
     "metadata": {},
     "output_type": "display_data"
    },
    {
     "data": {
      "text/html": [
       "<hr/>"
      ],
      "text/plain": [
       "<IPython.core.display.HTML object>"
      ]
     },
     "metadata": {},
     "output_type": "display_data"
    },
    {
     "name": "stdout",
     "output_type": "stream",
     "text": [
      "{'DueDate': nan,\n",
      " 'EndDate': '11/28/2014 0:00:00',\n",
      " 'RequestID': 20141120105,\n",
      " 'StartDate': '11/28/2014 0:00:00',\n",
      " 'desc': '<p align=center\"> &nbsp;</p> <p> <strong>NOTICE IS HEREBY GIVEN '\n",
      "         'THAT A REAL PROPERTY ACQUISITIONS AND DISPOSITIONS PUBLIC '\n",
      "         'HEARING</strong>',\n",
      " 'error': {'context': '',\n",
      "           'error': 'no transition out of NOTICE',\n",
      "           'matters': []}}\n",
      "\n",
      "\n",
      "\n"
     ]
    },
    {
     "data": {
      "text/html": [
       "<p align=center\"> &nbsp;</p> <p> <strong>NOTICE IS HEREBY GIVEN THAT A REAL PROPERTY ACQUISITIONS AND DISPOSITIONS PUBLIC HEARING</strong>"
      ],
      "text/plain": [
       "<IPython.core.display.HTML object>"
      ]
     },
     "metadata": {},
     "output_type": "display_data"
    },
    {
     "data": {
      "text/html": [
       "<hr/>"
      ],
      "text/plain": [
       "<IPython.core.display.HTML object>"
      ]
     },
     "metadata": {},
     "output_type": "display_data"
    },
    {
     "name": "stdout",
     "output_type": "stream",
     "text": [
      "{'DueDate': '12/11/2014 10:00:00',\n",
      " 'EndDate': '11/28/2014 0:00:00',\n",
      " 'RequestID': 20141120108,\n",
      " 'StartDate': '11/28/2014 0:00:00',\n",
      " 'desc': nan,\n",
      " 'error': {'error': 'source is not a string: nan'}}\n",
      "\n",
      "\n",
      "\n"
     ]
    },
    {
     "data": {
      "text/html": [
       "<hr/>"
      ],
      "text/plain": [
       "<IPython.core.display.HTML object>"
      ]
     },
     "metadata": {},
     "output_type": "display_data"
    },
    {
     "name": "stdout",
     "output_type": "stream",
     "text": [
      "{'DueDate': '12/11/2014 10:00:00',\n",
      " 'EndDate': '12/1/2014 0:00:00',\n",
      " 'RequestID': 20141128101,\n",
      " 'StartDate': '12/1/2014 0:00:00',\n",
      " 'desc': nan,\n",
      " 'error': {'error': 'source is not a string: nan'}}\n",
      "\n",
      "\n",
      "\n"
     ]
    },
    {
     "data": {
      "text/html": [
       "<hr/>"
      ],
      "text/plain": [
       "<IPython.core.display.HTML object>"
      ]
     },
     "metadata": {},
     "output_type": "display_data"
    },
    {
     "name": "stdout",
     "output_type": "stream",
     "text": [
      "{'DueDate': nan,\n",
      " 'EndDate': '12/8/2014 0:00:00',\n",
      " 'RequestID': 20141128107,\n",
      " 'StartDate': '12/8/2014 0:00:00',\n",
      " 'desc': '<p align=center\"> <strong>Notice of Public Hearing</strong></p> '\n",
      "         '<p> &nbsp;</p> <p> <strong>NOTICE IS HEREBY GIVEN THAT A REAL '\n",
      "         'PROPERTY ACQUISITIONS AND DISPOSITIONS PUBLIC HEARING</strong>',\n",
      " 'error': {'context': '',\n",
      "           'error': 'no transition out of NOTICE',\n",
      "           'matters': []}}\n",
      "\n",
      "\n",
      "\n"
     ]
    },
    {
     "data": {
      "text/html": [
       "<p align=center\"> <strong>Notice of Public Hearing</strong></p> <p> &nbsp;</p> <p> <strong>NOTICE IS HEREBY GIVEN THAT A REAL PROPERTY ACQUISITIONS AND DISPOSITIONS PUBLIC HEARING</strong>"
      ],
      "text/plain": [
       "<IPython.core.display.HTML object>"
      ]
     },
     "metadata": {},
     "output_type": "display_data"
    },
    {
     "data": {
      "text/html": [
       "<hr/>"
      ],
      "text/plain": [
       "<IPython.core.display.HTML object>"
      ]
     },
     "metadata": {},
     "output_type": "display_data"
    },
    {
     "name": "stdout",
     "output_type": "stream",
     "text": [
      "{'DueDate': nan,\n",
      " 'EndDate': '12/4/2014 0:00:00',\n",
      " 'RequestID': 20141201104,\n",
      " 'StartDate': '12/4/2014 0:00:00',\n",
      " 'desc': '<p align=center\"> <strong>Notice of Public Hearing</strong></p> '\n",
      "         '<p> &nbsp;</p> <p> <strong>NOTICE IS HEREBY GIVEN THAT A REAL '\n",
      "         'PROPERTY ACQUISITIONS AND DISPOSITIONS PUBLIC HEARING</strong>',\n",
      " 'error': {'context': '',\n",
      "           'error': 'no transition out of NOTICE',\n",
      "           'matters': []}}\n",
      "\n",
      "\n",
      "\n"
     ]
    },
    {
     "data": {
      "text/html": [
       "<p align=center\"> <strong>Notice of Public Hearing</strong></p> <p> &nbsp;</p> <p> <strong>NOTICE IS HEREBY GIVEN THAT A REAL PROPERTY ACQUISITIONS AND DISPOSITIONS PUBLIC HEARING</strong>"
      ],
      "text/plain": [
       "<IPython.core.display.HTML object>"
      ]
     },
     "metadata": {},
     "output_type": "display_data"
    },
    {
     "data": {
      "text/html": [
       "<hr/>"
      ],
      "text/plain": [
       "<IPython.core.display.HTML object>"
      ]
     },
     "metadata": {},
     "output_type": "display_data"
    },
    {
     "name": "stdout",
     "output_type": "stream",
     "text": [
      "{'DueDate': nan,\n",
      " 'EndDate': '12/8/2014 0:00:00',\n",
      " 'RequestID': 20141201109,\n",
      " 'StartDate': '12/8/2014 0:00:00',\n",
      " 'desc': '<p align=center\"> <strong>Notice of Public Hearing</strong></p> '\n",
      "         '<p> &nbsp;</p> <p> <strong>NOTICE IS HEREBY GIVEN THAT A REAL '\n",
      "         'PROPERTY ACQUISITIONS AND DISPOSITIONS PUBLIC HEARING</strong>',\n",
      " 'error': {'context': '',\n",
      "           'error': 'no transition out of NOTICE',\n",
      "           'matters': []}}\n",
      "\n",
      "\n",
      "\n"
     ]
    },
    {
     "data": {
      "text/html": [
       "<p align=center\"> <strong>Notice of Public Hearing</strong></p> <p> &nbsp;</p> <p> <strong>NOTICE IS HEREBY GIVEN THAT A REAL PROPERTY ACQUISITIONS AND DISPOSITIONS PUBLIC HEARING</strong>"
      ],
      "text/plain": [
       "<IPython.core.display.HTML object>"
      ]
     },
     "metadata": {},
     "output_type": "display_data"
    },
    {
     "data": {
      "text/html": [
       "<hr/>"
      ],
      "text/plain": [
       "<IPython.core.display.HTML object>"
      ]
     },
     "metadata": {},
     "output_type": "display_data"
    },
    {
     "name": "stdout",
     "output_type": "stream",
     "text": [
      "{'DueDate': '12/11/2014 10:00:00',\n",
      " 'EndDate': '12/4/2014 0:00:00',\n",
      " 'RequestID': 20141203109,\n",
      " 'StartDate': '12/4/2014 0:00:00',\n",
      " 'desc': nan,\n",
      " 'error': {'error': 'source is not a string: nan'}}\n",
      "\n",
      "\n",
      "\n"
     ]
    },
    {
     "data": {
      "text/html": [
       "<hr/>"
      ],
      "text/plain": [
       "<IPython.core.display.HTML object>"
      ]
     },
     "metadata": {},
     "output_type": "display_data"
    },
    {
     "name": "stdout",
     "output_type": "stream",
     "text": [
      "{'DueDate': nan,\n",
      " 'EndDate': '12/26/2014 0:00:00',\n",
      " 'RequestID': 20141219102,\n",
      " 'StartDate': '12/26/2014 0:00:00',\n",
      " 'desc': '<p align=center\"> <strong>Notice of Public Hearing</strong></p> '\n",
      "         '<p> &nbsp;</p> <p> <strong>NOTICE IS HEREBY GIVEN THAT A REAL '\n",
      "         'PROPERTY ACQUISITIONS AND DISPOSITIONS PUBLIC HEARING</strong>',\n",
      " 'error': {'context': '',\n",
      "           'error': 'no transition out of NOTICE',\n",
      "           'matters': []}}\n",
      "\n",
      "\n",
      "\n"
     ]
    },
    {
     "data": {
      "text/html": [
       "<p align=center\"> <strong>Notice of Public Hearing</strong></p> <p> &nbsp;</p> <p> <strong>NOTICE IS HEREBY GIVEN THAT A REAL PROPERTY ACQUISITIONS AND DISPOSITIONS PUBLIC HEARING</strong>"
      ],
      "text/plain": [
       "<IPython.core.display.HTML object>"
      ]
     },
     "metadata": {},
     "output_type": "display_data"
    },
    {
     "data": {
      "text/html": [
       "<hr/>"
      ],
      "text/plain": [
       "<IPython.core.display.HTML object>"
      ]
     },
     "metadata": {},
     "output_type": "display_data"
    },
    {
     "name": "stdout",
     "output_type": "stream",
     "text": [
      "{'DueDate': nan,\n",
      " 'EndDate': '12/29/2014 0:00:00',\n",
      " 'RequestID': 20141219106,\n",
      " 'StartDate': '12/29/2014 0:00:00',\n",
      " 'desc': '<p align=center\"> &nbsp;</p> <p> <strong>NOTICE IS HEREBY GIVEN '\n",
      "         'THAT A REAL PROPERTY ACQUISITIONS AND DISPOSITIONS PUBLIC '\n",
      "         'HEARING</strong>',\n",
      " 'error': {'context': '',\n",
      "           'error': 'no transition out of NOTICE',\n",
      "           'matters': []}}\n",
      "\n",
      "\n",
      "\n"
     ]
    },
    {
     "data": {
      "text/html": [
       "<p align=center\"> &nbsp;</p> <p> <strong>NOTICE IS HEREBY GIVEN THAT A REAL PROPERTY ACQUISITIONS AND DISPOSITIONS PUBLIC HEARING</strong>"
      ],
      "text/plain": [
       "<IPython.core.display.HTML object>"
      ]
     },
     "metadata": {},
     "output_type": "display_data"
    },
    {
     "data": {
      "text/html": [
       "<hr/>"
      ],
      "text/plain": [
       "<IPython.core.display.HTML object>"
      ]
     },
     "metadata": {},
     "output_type": "display_data"
    },
    {
     "name": "stdout",
     "output_type": "stream",
     "text": [
      "{'DueDate': nan,\n",
      " 'EndDate': '12/31/2014 0:00:00',\n",
      " 'RequestID': 20141223103,\n",
      " 'StartDate': '12/31/2014 0:00:00',\n",
      " 'desc': '<p align=center\"> <strong>Corrected Notice of Public '\n",
      "         'Hearing</strong></p> <p> &nbsp;</p> <p> <strong>NOTICE IS HEREBY '\n",
      "         'GIVEN THAT A REAL PROPERTY ACQUISITIONS AND DISPOSITIONS PUBLIC '\n",
      "         'HEARING</strong>',\n",
      " 'error': {'context': '',\n",
      "           'error': 'no transition out of NOTICE',\n",
      "           'matters': []}}\n",
      "\n",
      "\n",
      "\n"
     ]
    },
    {
     "data": {
      "text/html": [
       "<p align=center\"> <strong>Corrected Notice of Public Hearing</strong></p> <p> &nbsp;</p> <p> <strong>NOTICE IS HEREBY GIVEN THAT A REAL PROPERTY ACQUISITIONS AND DISPOSITIONS PUBLIC HEARING</strong>"
      ],
      "text/plain": [
       "<IPython.core.display.HTML object>"
      ]
     },
     "metadata": {},
     "output_type": "display_data"
    },
    {
     "data": {
      "text/html": [
       "<hr/>"
      ],
      "text/plain": [
       "<IPython.core.display.HTML object>"
      ]
     },
     "metadata": {},
     "output_type": "display_data"
    }
   ],
   "source": [
    "err_summary = '<h1>{} Errors parsing Citywide Administrative Services::Public Hearings'.format(len(errors))\n",
    "display(HTML(err_summary))\n",
    "for error in errors:\n",
    "    pprint.pprint(error)\n",
    "    print('\\n\\n')\n",
    "    desc = error['desc']\n",
    "    if isinstance(desc, str):\n",
    "        display(HTML(error['desc']))\n",
    "    display(HTML('<hr/>'))\n"
   ]
  },
  {
   "cell_type": "code",
   "execution_count": null,
   "metadata": {
    "collapsed": true
   },
   "outputs": [],
   "source": []
  },
  {
   "cell_type": "code",
   "execution_count": null,
   "metadata": {
    "collapsed": true
   },
   "outputs": [],
   "source": []
  }
 ],
 "metadata": {
  "kernelspec": {
   "display_name": "Python 3",
   "language": "python",
   "name": "python3"
  },
  "language_info": {
   "codemirror_mode": {
    "name": "ipython",
    "version": 3
   },
   "file_extension": ".py",
   "mimetype": "text/x-python",
   "name": "python",
   "nbconvert_exporter": "python",
   "pygments_lexer": "ipython3",
   "version": "3.4.3"
  }
 },
 "nbformat": 4,
 "nbformat_minor": 0
}
