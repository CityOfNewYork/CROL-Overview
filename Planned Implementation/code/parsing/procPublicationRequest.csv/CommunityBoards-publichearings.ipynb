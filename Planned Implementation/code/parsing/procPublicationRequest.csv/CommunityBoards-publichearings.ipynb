{
 "cells": [
  {
   "cell_type": "markdown",
   "metadata": {},
   "source": [
    "**Parsing Notes**\n",
    "\n",
    "Work in progress\n",
    "* A majority of these entry seem too brief\n"
   ]
  },
  {
   "cell_type": "code",
   "execution_count": 10,
   "metadata": {
    "collapsed": false
   },
   "outputs": [],
   "source": [
    "from bs4 import BeautifulSoup as Soup\n",
    "from IPython.display import display, HTML\n",
    "import pandas as pd\n",
    "import re\n",
    "import pprint\n",
    "import json"
   ]
  },
  {
   "cell_type": "code",
   "execution_count": 11,
   "metadata": {
    "collapsed": false
   },
   "outputs": [],
   "source": [
    "fn = 'procPublicationRequest Oct-Dec 2014 (Updated) - Sheet1-2.csv'\n",
    "rows = pd.read_csv(fn, header=0)"
   ]
  },
  {
   "cell_type": "code",
   "execution_count": 16,
   "metadata": {
    "collapsed": false
   },
   "outputs": [],
   "source": [
    "def scrape(row):\n",
    "    output = {}\n",
    "    if row['AgencyName'] == \"Community Boards\" and \\\n",
    "       row['TypeOfNoticeDescription'] == \"Public Hearings\":\n",
    "        try:\n",
    "            soup = Soup(row.AdditionalDescription)\n",
    "            text = soup.get_text(strip=True)\n",
    "            print('BEGIN: ' +'=-=-=-=-==-==-='*7)\n",
    "            pprint.pprint(row.AdditionalDescription)\n",
    "            print('---'*22)\n",
    "            display(HTML(row.AdditionalDescription))\n",
    "            print('---'*22)\n",
    "            print('END: ' + '=-=-=-=-==-==-='*7)\n",
    "            display(HTML('<br/><hr/><br/>'))\n",
    "        except Exception:\n",
    "            output = { 'error' : 'bad input', 'text': text }\n",
    "    row['output'] = json.dumps(output)\n",
    "    return row"
   ]
  },
  {
   "cell_type": "code",
   "execution_count": 17,
   "metadata": {
    "collapsed": false,
    "scrolled": false
   },
   "outputs": [
    {
     "name": "stdout",
     "output_type": "stream",
     "text": [
      "BEGIN: =-=-=-=-==-==-==-=-=-=-==-==-==-=-=-=-==-==-==-=-=-=-==-==-==-=-=-=-==-==-==-=-=-=-==-==-==-=-=-=-==-==-=\n",
      "('<p> <strong>PUBLIC NOTICE IS HEREBY GIVEN </strong>that the following '\n",
      " 'matters have been scheduled for public hearing by Community Board:</p> <p '\n",
      " 'align=center\"> <u>BOROUGH OF THE BRONX</u></p> <p> COMMUNITY BOARD '\n",
      " 'NO.&nbsp;03 - Tuesday')\n",
      "------------------------------------------------------------------\n"
     ]
    },
    {
     "data": {
      "text/html": [
       "<p> <strong>PUBLIC NOTICE IS HEREBY GIVEN </strong>that the following matters have been scheduled for public hearing by Community Board:</p> <p align=center\"> <u>BOROUGH OF THE BRONX</u></p> <p> COMMUNITY BOARD NO.&nbsp;03 - Tuesday"
      ],
      "text/plain": [
       "<IPython.core.display.HTML object>"
      ]
     },
     "metadata": {},
     "output_type": "display_data"
    },
    {
     "name": "stdout",
     "output_type": "stream",
     "text": [
      "------------------------------------------------------------------\n",
      "END: =-=-=-=-==-==-==-=-=-=-==-==-==-=-=-=-==-==-==-=-=-=-==-==-==-=-=-=-==-==-==-=-=-=-==-==-==-=-=-=-==-==-=\n"
     ]
    },
    {
     "data": {
      "text/html": [
       "<br/><hr/><br/>"
      ],
      "text/plain": [
       "<IPython.core.display.HTML object>"
      ]
     },
     "metadata": {},
     "output_type": "display_data"
    },
    {
     "name": "stdout",
     "output_type": "stream",
     "text": [
      "BEGIN: =-=-=-=-==-==-==-=-=-=-==-==-==-=-=-=-==-==-==-=-=-=-==-==-==-=-=-=-==-==-==-=-=-=-==-==-==-=-=-=-==-==-=\n",
      "('<p> <strong>PUBLIC NOTICE IS HEREBY GIVEN </strong>that the following '\n",
      " 'matters have been scheduled for public hearing by Community Board:</p> <p '\n",
      " 'align=center\"> <u>BOROUGH OF THE BRONX</u></p> <p> COMMUNITY BOARD '\n",
      " 'NO.&nbsp;06 -&nbsp;Wednesday')\n",
      "------------------------------------------------------------------\n"
     ]
    },
    {
     "data": {
      "text/html": [
       "<p> <strong>PUBLIC NOTICE IS HEREBY GIVEN </strong>that the following matters have been scheduled for public hearing by Community Board:</p> <p align=center\"> <u>BOROUGH OF THE BRONX</u></p> <p> COMMUNITY BOARD NO.&nbsp;06 -&nbsp;Wednesday"
      ],
      "text/plain": [
       "<IPython.core.display.HTML object>"
      ]
     },
     "metadata": {},
     "output_type": "display_data"
    },
    {
     "name": "stdout",
     "output_type": "stream",
     "text": [
      "------------------------------------------------------------------\n",
      "END: =-=-=-=-==-==-==-=-=-=-==-==-==-=-=-=-==-==-==-=-=-=-==-==-==-=-=-=-==-==-==-=-=-=-==-==-==-=-=-=-==-==-=\n"
     ]
    },
    {
     "data": {
      "text/html": [
       "<br/><hr/><br/>"
      ],
      "text/plain": [
       "<IPython.core.display.HTML object>"
      ]
     },
     "metadata": {},
     "output_type": "display_data"
    },
    {
     "name": "stdout",
     "output_type": "stream",
     "text": [
      "BEGIN: =-=-=-=-==-==-==-=-=-=-==-==-==-=-=-=-==-==-==-=-=-=-==-==-==-=-=-=-==-==-==-=-=-=-==-==-==-=-=-=-==-==-=\n",
      "('<p> <strong>PUBLIC NOTICE IS HEREBY GIVEN </strong>that the following '\n",
      " 'matters have been scheduled for public hearing by Community Board:</p> <p '\n",
      " 'align=center\"> <u>BOROUGH OF BROOKLYN</u></p> <p> COMMUNITY BOARD '\n",
      " 'NO.&nbsp;11 - Tuesday')\n",
      "------------------------------------------------------------------\n"
     ]
    },
    {
     "data": {
      "text/html": [
       "<p> <strong>PUBLIC NOTICE IS HEREBY GIVEN </strong>that the following matters have been scheduled for public hearing by Community Board:</p> <p align=center\"> <u>BOROUGH OF BROOKLYN</u></p> <p> COMMUNITY BOARD NO.&nbsp;11 - Tuesday"
      ],
      "text/plain": [
       "<IPython.core.display.HTML object>"
      ]
     },
     "metadata": {},
     "output_type": "display_data"
    },
    {
     "name": "stdout",
     "output_type": "stream",
     "text": [
      "------------------------------------------------------------------\n",
      "END: =-=-=-=-==-==-==-=-=-=-==-==-==-=-=-=-==-==-==-=-=-=-==-==-==-=-=-=-==-==-==-=-=-=-==-==-==-=-=-=-==-==-=\n"
     ]
    },
    {
     "data": {
      "text/html": [
       "<br/><hr/><br/>"
      ],
      "text/plain": [
       "<IPython.core.display.HTML object>"
      ]
     },
     "metadata": {},
     "output_type": "display_data"
    },
    {
     "name": "stdout",
     "output_type": "stream",
     "text": [
      "BEGIN: =-=-=-=-==-==-==-=-=-=-==-==-==-=-=-=-==-==-==-=-=-=-==-==-==-=-=-=-==-==-==-=-=-=-==-==-==-=-=-=-==-==-=\n",
      "('<p> <strong>PUBLIC NOTICE IS HEREBY GIVEN </strong>that the following '\n",
      " 'matters have been scheduled for public hearing by Community Board:</p> <p '\n",
      " 'align=center\"> <u>BOROUGH OF BROOKLYN</u></p> <p> COMMUNITY BOARD '\n",
      " 'NO.&nbsp;10 -&nbsp;Monday')\n",
      "------------------------------------------------------------------\n"
     ]
    },
    {
     "data": {
      "text/html": [
       "<p> <strong>PUBLIC NOTICE IS HEREBY GIVEN </strong>that the following matters have been scheduled for public hearing by Community Board:</p> <p align=center\"> <u>BOROUGH OF BROOKLYN</u></p> <p> COMMUNITY BOARD NO.&nbsp;10 -&nbsp;Monday"
      ],
      "text/plain": [
       "<IPython.core.display.HTML object>"
      ]
     },
     "metadata": {},
     "output_type": "display_data"
    },
    {
     "name": "stdout",
     "output_type": "stream",
     "text": [
      "------------------------------------------------------------------\n",
      "END: =-=-=-=-==-==-==-=-=-=-==-==-==-=-=-=-==-==-==-=-=-=-==-==-==-=-=-=-==-==-==-=-=-=-==-==-==-=-=-=-==-==-=\n"
     ]
    },
    {
     "data": {
      "text/html": [
       "<br/><hr/><br/>"
      ],
      "text/plain": [
       "<IPython.core.display.HTML object>"
      ]
     },
     "metadata": {},
     "output_type": "display_data"
    },
    {
     "name": "stdout",
     "output_type": "stream",
     "text": [
      "BEGIN: =-=-=-=-==-==-==-=-=-=-==-==-==-=-=-=-==-==-==-=-=-=-==-==-==-=-=-=-==-==-==-=-=-=-==-==-==-=-=-=-==-==-=\n",
      "('<p> <strong>PUBLIC NOTICE IS HEREBY GIVEN </strong>that the following '\n",
      " 'matters have been scheduled for public hearing by Community Board:</p> <p '\n",
      " 'align=center\"> <u>BOROUGH OF BROOKLYN</u></p> <p> COMMUNITY BOARD '\n",
      " 'NO.&nbsp;03 - Monday')\n",
      "------------------------------------------------------------------\n"
     ]
    },
    {
     "data": {
      "text/html": [
       "<p> <strong>PUBLIC NOTICE IS HEREBY GIVEN </strong>that the following matters have been scheduled for public hearing by Community Board:</p> <p align=center\"> <u>BOROUGH OF BROOKLYN</u></p> <p> COMMUNITY BOARD NO.&nbsp;03 - Monday"
      ],
      "text/plain": [
       "<IPython.core.display.HTML object>"
      ]
     },
     "metadata": {},
     "output_type": "display_data"
    },
    {
     "name": "stdout",
     "output_type": "stream",
     "text": [
      "------------------------------------------------------------------\n",
      "END: =-=-=-=-==-==-==-=-=-=-==-==-==-=-=-=-==-==-==-=-=-=-==-==-==-=-=-=-==-==-==-=-=-=-==-==-==-=-=-=-==-==-=\n"
     ]
    },
    {
     "data": {
      "text/html": [
       "<br/><hr/><br/>"
      ],
      "text/plain": [
       "<IPython.core.display.HTML object>"
      ]
     },
     "metadata": {},
     "output_type": "display_data"
    },
    {
     "name": "stdout",
     "output_type": "stream",
     "text": [
      "BEGIN: =-=-=-=-==-==-==-=-=-=-==-==-==-=-=-=-==-==-==-=-=-=-==-==-==-=-=-=-==-==-==-=-=-=-==-==-==-=-=-=-==-==-=\n",
      "('<p> <strong>PUBLIC NOTICE IS HEREBY GIVEN </strong>that the following '\n",
      " 'matters have been scheduled for public hearing by Community Board:</p> <p '\n",
      " 'align=center\"> <u>BOROUGH OF QUEENS</u></p> <p> COMMUNITY BOARD '\n",
      " 'NO.&nbsp;04 -&nbsp;Tuesday')\n",
      "------------------------------------------------------------------\n"
     ]
    },
    {
     "data": {
      "text/html": [
       "<p> <strong>PUBLIC NOTICE IS HEREBY GIVEN </strong>that the following matters have been scheduled for public hearing by Community Board:</p> <p align=center\"> <u>BOROUGH OF QUEENS</u></p> <p> COMMUNITY BOARD NO.&nbsp;04 -&nbsp;Tuesday"
      ],
      "text/plain": [
       "<IPython.core.display.HTML object>"
      ]
     },
     "metadata": {},
     "output_type": "display_data"
    },
    {
     "name": "stdout",
     "output_type": "stream",
     "text": [
      "------------------------------------------------------------------\n",
      "END: =-=-=-=-==-==-==-=-=-=-==-==-==-=-=-=-==-==-==-=-=-=-==-==-==-=-=-=-==-==-==-=-=-=-==-==-==-=-=-=-==-==-=\n"
     ]
    },
    {
     "data": {
      "text/html": [
       "<br/><hr/><br/>"
      ],
      "text/plain": [
       "<IPython.core.display.HTML object>"
      ]
     },
     "metadata": {},
     "output_type": "display_data"
    },
    {
     "name": "stdout",
     "output_type": "stream",
     "text": [
      "BEGIN: =-=-=-=-==-==-==-=-=-=-==-==-==-=-=-=-==-==-==-=-=-=-==-==-==-=-=-=-==-==-==-=-=-=-==-==-==-=-=-=-==-==-=\n",
      "('<p> <strong>PUBLIC NOTICE IS HEREBY GIVEN </strong>that the following '\n",
      " 'matters have been scheduled for public hearing by Community Board:</p> <p '\n",
      " 'align=center\"> <u>BOROUGH OF THE BRONX</u></p> <p> COMMUNITY BOARD '\n",
      " 'NO.&nbsp;05 -&nbsp;Wednesday')\n",
      "------------------------------------------------------------------\n"
     ]
    },
    {
     "data": {
      "text/html": [
       "<p> <strong>PUBLIC NOTICE IS HEREBY GIVEN </strong>that the following matters have been scheduled for public hearing by Community Board:</p> <p align=center\"> <u>BOROUGH OF THE BRONX</u></p> <p> COMMUNITY BOARD NO.&nbsp;05 -&nbsp;Wednesday"
      ],
      "text/plain": [
       "<IPython.core.display.HTML object>"
      ]
     },
     "metadata": {},
     "output_type": "display_data"
    },
    {
     "name": "stdout",
     "output_type": "stream",
     "text": [
      "------------------------------------------------------------------\n",
      "END: =-=-=-=-==-==-==-=-=-=-==-==-==-=-=-=-==-==-==-=-=-=-==-==-==-=-=-=-==-==-==-=-=-=-==-==-==-=-=-=-==-==-=\n"
     ]
    },
    {
     "data": {
      "text/html": [
       "<br/><hr/><br/>"
      ],
      "text/plain": [
       "<IPython.core.display.HTML object>"
      ]
     },
     "metadata": {},
     "output_type": "display_data"
    },
    {
     "name": "stdout",
     "output_type": "stream",
     "text": [
      "BEGIN: =-=-=-=-==-==-==-=-=-=-==-==-==-=-=-=-==-==-==-=-=-=-==-==-==-=-=-=-==-==-==-=-=-=-==-==-==-=-=-=-==-==-=\n",
      "('<p> <strong>PUBLIC NOTICE IS HEREBY GIVEN </strong>that the following '\n",
      " 'matters have been scheduled for public hearing by Community Board:</p> <p '\n",
      " 'align=center\"> <u>BOROUGH OF THE BRONX</u></p> <p> COMMUNITY BOARD '\n",
      " 'NO.&nbsp;09 -&nbsp;Wednesday')\n",
      "------------------------------------------------------------------\n"
     ]
    },
    {
     "data": {
      "text/html": [
       "<p> <strong>PUBLIC NOTICE IS HEREBY GIVEN </strong>that the following matters have been scheduled for public hearing by Community Board:</p> <p align=center\"> <u>BOROUGH OF THE BRONX</u></p> <p> COMMUNITY BOARD NO.&nbsp;09 -&nbsp;Wednesday"
      ],
      "text/plain": [
       "<IPython.core.display.HTML object>"
      ]
     },
     "metadata": {},
     "output_type": "display_data"
    },
    {
     "name": "stdout",
     "output_type": "stream",
     "text": [
      "------------------------------------------------------------------\n",
      "END: =-=-=-=-==-==-==-=-=-=-==-==-==-=-=-=-==-==-==-=-=-=-==-==-==-=-=-=-==-==-==-=-=-=-==-==-==-=-=-=-==-==-=\n"
     ]
    },
    {
     "data": {
      "text/html": [
       "<br/><hr/><br/>"
      ],
      "text/plain": [
       "<IPython.core.display.HTML object>"
      ]
     },
     "metadata": {},
     "output_type": "display_data"
    },
    {
     "name": "stdout",
     "output_type": "stream",
     "text": [
      "BEGIN: =-=-=-=-==-==-==-=-=-=-==-==-==-=-=-=-==-==-==-=-=-=-==-==-==-=-=-=-==-==-==-=-=-=-==-==-==-=-=-=-==-==-=\n",
      "('<p> <strong>PUBLIC NOTICE IS HEREBY GIVEN </strong>that the following '\n",
      " 'matters have been scheduled for public hearing by Community Board:</p> <p '\n",
      " 'align=center\"> <u>BOROUGH OF THE BRONX</u></p> <p> COMMUNITY BOARD '\n",
      " 'NO.&nbsp;08 -&nbsp;Tuesday')\n",
      "------------------------------------------------------------------\n"
     ]
    },
    {
     "data": {
      "text/html": [
       "<p> <strong>PUBLIC NOTICE IS HEREBY GIVEN </strong>that the following matters have been scheduled for public hearing by Community Board:</p> <p align=center\"> <u>BOROUGH OF THE BRONX</u></p> <p> COMMUNITY BOARD NO.&nbsp;08 -&nbsp;Tuesday"
      ],
      "text/plain": [
       "<IPython.core.display.HTML object>"
      ]
     },
     "metadata": {},
     "output_type": "display_data"
    },
    {
     "name": "stdout",
     "output_type": "stream",
     "text": [
      "------------------------------------------------------------------\n",
      "END: =-=-=-=-==-==-==-=-=-=-==-==-==-=-=-=-==-==-==-=-=-=-==-==-==-=-=-=-==-==-==-=-=-=-==-==-==-=-=-=-==-==-=\n"
     ]
    },
    {
     "data": {
      "text/html": [
       "<br/><hr/><br/>"
      ],
      "text/plain": [
       "<IPython.core.display.HTML object>"
      ]
     },
     "metadata": {},
     "output_type": "display_data"
    },
    {
     "name": "stdout",
     "output_type": "stream",
     "text": [
      "BEGIN: =-=-=-=-==-==-==-=-=-=-==-==-==-=-=-=-==-==-==-=-=-=-==-==-==-=-=-=-==-==-==-=-=-=-==-==-==-=-=-=-==-==-=\n",
      "('<p> <strong>PUBLIC NOTICE IS HEREBY GIVEN </strong>that the following '\n",
      " 'matters have been scheduled for public hearing by Community Board:</p> <p '\n",
      " 'align=center\"> <u>BOROUGH OF BROOKLYN</u></p> <p> COMMUNITY BOARD '\n",
      " 'NO.&nbsp;17 -&nbsp;Wednesday')\n",
      "------------------------------------------------------------------\n"
     ]
    },
    {
     "data": {
      "text/html": [
       "<p> <strong>PUBLIC NOTICE IS HEREBY GIVEN </strong>that the following matters have been scheduled for public hearing by Community Board:</p> <p align=center\"> <u>BOROUGH OF BROOKLYN</u></p> <p> COMMUNITY BOARD NO.&nbsp;17 -&nbsp;Wednesday"
      ],
      "text/plain": [
       "<IPython.core.display.HTML object>"
      ]
     },
     "metadata": {},
     "output_type": "display_data"
    },
    {
     "name": "stdout",
     "output_type": "stream",
     "text": [
      "------------------------------------------------------------------\n",
      "END: =-=-=-=-==-==-==-=-=-=-==-==-==-=-=-=-==-==-==-=-=-=-==-==-==-=-=-=-==-==-==-=-=-=-==-==-==-=-=-=-==-==-=\n"
     ]
    },
    {
     "data": {
      "text/html": [
       "<br/><hr/><br/>"
      ],
      "text/plain": [
       "<IPython.core.display.HTML object>"
      ]
     },
     "metadata": {},
     "output_type": "display_data"
    },
    {
     "name": "stdout",
     "output_type": "stream",
     "text": [
      "BEGIN: =-=-=-=-==-==-==-=-=-=-==-==-==-=-=-=-==-==-==-=-=-=-==-==-==-=-=-=-==-==-==-=-=-=-==-==-==-=-=-=-==-==-=\n",
      "('<p> <strong>PUBLIC NOTICE IS HEREBY GIVEN </strong>that the following '\n",
      " 'matters have been scheduled for public hearing by Community Board:</p> <p '\n",
      " 'align=center\"> <u>BOROUGH OF THE BRONX</u></p> <p> COMMUNITY BOARD '\n",
      " 'NO.&nbsp;01 -&nbsp;Thursday')\n",
      "------------------------------------------------------------------\n"
     ]
    },
    {
     "data": {
      "text/html": [
       "<p> <strong>PUBLIC NOTICE IS HEREBY GIVEN </strong>that the following matters have been scheduled for public hearing by Community Board:</p> <p align=center\"> <u>BOROUGH OF THE BRONX</u></p> <p> COMMUNITY BOARD NO.&nbsp;01 -&nbsp;Thursday"
      ],
      "text/plain": [
       "<IPython.core.display.HTML object>"
      ]
     },
     "metadata": {},
     "output_type": "display_data"
    },
    {
     "name": "stdout",
     "output_type": "stream",
     "text": [
      "------------------------------------------------------------------\n",
      "END: =-=-=-=-==-==-==-=-=-=-==-==-==-=-=-=-==-==-==-=-=-=-==-==-==-=-=-=-==-==-==-=-=-=-==-==-==-=-=-=-==-==-=\n"
     ]
    },
    {
     "data": {
      "text/html": [
       "<br/><hr/><br/>"
      ],
      "text/plain": [
       "<IPython.core.display.HTML object>"
      ]
     },
     "metadata": {},
     "output_type": "display_data"
    },
    {
     "name": "stdout",
     "output_type": "stream",
     "text": [
      "BEGIN: =-=-=-=-==-==-==-=-=-=-==-==-==-=-=-=-==-==-==-=-=-=-==-==-==-=-=-=-==-==-==-=-=-=-==-==-==-=-=-=-==-==-=\n",
      "('<p> <strong>PUBLIC NOTICE IS HEREBY GIVEN </strong>that the following '\n",
      " 'matters have been scheduled for public hearing by Community Board:</p> <p '\n",
      " 'align=center\"> <u>BOROUGH OF BROOKLYN</u></p> <p> COMMUNITY BOARD '\n",
      " 'NO.&nbsp;08 -&nbsp;Thursday')\n",
      "------------------------------------------------------------------\n"
     ]
    },
    {
     "data": {
      "text/html": [
       "<p> <strong>PUBLIC NOTICE IS HEREBY GIVEN </strong>that the following matters have been scheduled for public hearing by Community Board:</p> <p align=center\"> <u>BOROUGH OF BROOKLYN</u></p> <p> COMMUNITY BOARD NO.&nbsp;08 -&nbsp;Thursday"
      ],
      "text/plain": [
       "<IPython.core.display.HTML object>"
      ]
     },
     "metadata": {},
     "output_type": "display_data"
    },
    {
     "name": "stdout",
     "output_type": "stream",
     "text": [
      "------------------------------------------------------------------\n",
      "END: =-=-=-=-==-==-==-=-=-=-==-==-==-=-=-=-==-==-==-=-=-=-==-==-==-=-=-=-==-==-==-=-=-=-==-==-==-=-=-=-==-==-=\n"
     ]
    },
    {
     "data": {
      "text/html": [
       "<br/><hr/><br/>"
      ],
      "text/plain": [
       "<IPython.core.display.HTML object>"
      ]
     },
     "metadata": {},
     "output_type": "display_data"
    },
    {
     "name": "stdout",
     "output_type": "stream",
     "text": [
      "BEGIN: =-=-=-=-==-==-==-=-=-=-==-==-==-=-=-=-==-==-==-=-=-=-==-==-==-=-=-=-==-==-==-=-=-=-==-==-==-=-=-=-==-==-=\n",
      "('<p> <strong>PUBLIC NOTICE IS HEREBY GIVEN </strong>that the following '\n",
      " 'matters have been scheduled for public hearing by Community Board:</p> <p '\n",
      " 'align=center\"> <u>BOROUGH OF QUEENS</u></p> <p> COMMUNITY BOARD '\n",
      " 'NO.&nbsp;09 -Tuesday')\n",
      "------------------------------------------------------------------\n"
     ]
    },
    {
     "data": {
      "text/html": [
       "<p> <strong>PUBLIC NOTICE IS HEREBY GIVEN </strong>that the following matters have been scheduled for public hearing by Community Board:</p> <p align=center\"> <u>BOROUGH OF QUEENS</u></p> <p> COMMUNITY BOARD NO.&nbsp;09 -Tuesday"
      ],
      "text/plain": [
       "<IPython.core.display.HTML object>"
      ]
     },
     "metadata": {},
     "output_type": "display_data"
    },
    {
     "name": "stdout",
     "output_type": "stream",
     "text": [
      "------------------------------------------------------------------\n",
      "END: =-=-=-=-==-==-==-=-=-=-==-==-==-=-=-=-==-==-==-=-=-=-==-==-==-=-=-=-==-==-==-=-=-=-==-==-==-=-=-=-==-==-=\n"
     ]
    },
    {
     "data": {
      "text/html": [
       "<br/><hr/><br/>"
      ],
      "text/plain": [
       "<IPython.core.display.HTML object>"
      ]
     },
     "metadata": {},
     "output_type": "display_data"
    },
    {
     "name": "stdout",
     "output_type": "stream",
     "text": [
      "BEGIN: =-=-=-=-==-==-==-=-=-=-==-==-==-=-=-=-==-==-==-=-=-=-==-==-==-=-=-=-==-==-==-=-=-=-==-==-==-=-=-=-==-==-=\n",
      "('<p> <strong>PUBLIC NOTICE IS HEREBY GIVEN </strong>that the following '\n",
      " 'matters have been scheduled for public hearing by Community Board:</p> <p '\n",
      " 'align=center\"> <u>BOROUGH OF BROOKLYN</u></p> <p> COMMUNITY BOARD '\n",
      " 'NO.&nbsp;18 -&nbsp;Wednesday')\n",
      "------------------------------------------------------------------\n"
     ]
    },
    {
     "data": {
      "text/html": [
       "<p> <strong>PUBLIC NOTICE IS HEREBY GIVEN </strong>that the following matters have been scheduled for public hearing by Community Board:</p> <p align=center\"> <u>BOROUGH OF BROOKLYN</u></p> <p> COMMUNITY BOARD NO.&nbsp;18 -&nbsp;Wednesday"
      ],
      "text/plain": [
       "<IPython.core.display.HTML object>"
      ]
     },
     "metadata": {},
     "output_type": "display_data"
    },
    {
     "name": "stdout",
     "output_type": "stream",
     "text": [
      "------------------------------------------------------------------\n",
      "END: =-=-=-=-==-==-==-=-=-=-==-==-==-=-=-=-==-==-==-=-=-=-==-==-==-=-=-=-==-==-==-=-=-=-==-==-==-=-=-=-==-==-=\n"
     ]
    },
    {
     "data": {
      "text/html": [
       "<br/><hr/><br/>"
      ],
      "text/plain": [
       "<IPython.core.display.HTML object>"
      ]
     },
     "metadata": {},
     "output_type": "display_data"
    },
    {
     "name": "stdout",
     "output_type": "stream",
     "text": [
      "BEGIN: =-=-=-=-==-==-==-=-=-=-==-==-==-=-=-=-==-==-==-=-=-=-==-==-==-=-=-=-==-==-==-=-=-=-==-==-==-=-=-=-==-==-=\n",
      "('<p> <strong>PUBLIC NOTICE IS HEREBY GIVEN </strong>that the following '\n",
      " 'matters have been scheduled for public hearing by Community Board:</p> <p '\n",
      " 'align=center\"> <u>BOROUGH OF BROOKLYN</u></p> <p> COMMUNITY BOARD '\n",
      " 'NO.&nbsp;16 -&nbsp;Tuesday')\n",
      "------------------------------------------------------------------\n"
     ]
    },
    {
     "data": {
      "text/html": [
       "<p> <strong>PUBLIC NOTICE IS HEREBY GIVEN </strong>that the following matters have been scheduled for public hearing by Community Board:</p> <p align=center\"> <u>BOROUGH OF BROOKLYN</u></p> <p> COMMUNITY BOARD NO.&nbsp;16 -&nbsp;Tuesday"
      ],
      "text/plain": [
       "<IPython.core.display.HTML object>"
      ]
     },
     "metadata": {},
     "output_type": "display_data"
    },
    {
     "name": "stdout",
     "output_type": "stream",
     "text": [
      "------------------------------------------------------------------\n",
      "END: =-=-=-=-==-==-==-=-=-=-==-==-==-=-=-=-==-==-==-=-=-=-==-==-==-=-=-=-==-==-==-=-=-=-==-==-==-=-=-=-==-==-=\n"
     ]
    },
    {
     "data": {
      "text/html": [
       "<br/><hr/><br/>"
      ],
      "text/plain": [
       "<IPython.core.display.HTML object>"
      ]
     },
     "metadata": {},
     "output_type": "display_data"
    },
    {
     "name": "stdout",
     "output_type": "stream",
     "text": [
      "BEGIN: =-=-=-=-==-==-==-=-=-=-==-==-==-=-=-=-==-==-==-=-=-=-==-==-==-=-=-=-==-==-==-=-=-=-==-==-==-=-=-=-==-==-=\n",
      "('<p> <strong>PUBLIC NOTICE IS HEREBY GIVEN </strong>that the following '\n",
      " 'matters have been scheduled for public hearing by Community Board:</p> <p '\n",
      " 'align=center\"> <u>BOROUGH OF QUEENS</u></p> <p> COMMUNITY BOARD '\n",
      " 'NO.&nbsp;01 -&nbsp;Tuesday')\n",
      "------------------------------------------------------------------\n"
     ]
    },
    {
     "data": {
      "text/html": [
       "<p> <strong>PUBLIC NOTICE IS HEREBY GIVEN </strong>that the following matters have been scheduled for public hearing by Community Board:</p> <p align=center\"> <u>BOROUGH OF QUEENS</u></p> <p> COMMUNITY BOARD NO.&nbsp;01 -&nbsp;Tuesday"
      ],
      "text/plain": [
       "<IPython.core.display.HTML object>"
      ]
     },
     "metadata": {},
     "output_type": "display_data"
    },
    {
     "name": "stdout",
     "output_type": "stream",
     "text": [
      "------------------------------------------------------------------\n",
      "END: =-=-=-=-==-==-==-=-=-=-==-==-==-=-=-=-==-==-==-=-=-=-==-==-==-=-=-=-==-==-==-=-=-=-==-==-==-=-=-=-==-==-=\n"
     ]
    },
    {
     "data": {
      "text/html": [
       "<br/><hr/><br/>"
      ],
      "text/plain": [
       "<IPython.core.display.HTML object>"
      ]
     },
     "metadata": {},
     "output_type": "display_data"
    },
    {
     "name": "stdout",
     "output_type": "stream",
     "text": [
      "BEGIN: =-=-=-=-==-==-==-=-=-=-==-==-==-=-=-=-==-==-==-=-=-=-==-==-==-=-=-=-==-==-==-=-=-=-==-==-==-=-=-=-==-==-=\n",
      "('<p> <strong>PUBLIC NOTICE IS HEREBY GIVEN </strong>that the following '\n",
      " 'matters have been scheduled for public hearing by Community Board:</p> <p '\n",
      " 'align=center\"> <u>BOROUGH OF QUEENS</u></p> <p> COMMUNITY BOARD '\n",
      " 'NO.&nbsp;13 -&nbsp;Monday')\n",
      "------------------------------------------------------------------\n"
     ]
    },
    {
     "data": {
      "text/html": [
       "<p> <strong>PUBLIC NOTICE IS HEREBY GIVEN </strong>that the following matters have been scheduled for public hearing by Community Board:</p> <p align=center\"> <u>BOROUGH OF QUEENS</u></p> <p> COMMUNITY BOARD NO.&nbsp;13 -&nbsp;Monday"
      ],
      "text/plain": [
       "<IPython.core.display.HTML object>"
      ]
     },
     "metadata": {},
     "output_type": "display_data"
    },
    {
     "name": "stdout",
     "output_type": "stream",
     "text": [
      "------------------------------------------------------------------\n",
      "END: =-=-=-=-==-==-==-=-=-=-==-==-==-=-=-=-==-==-==-=-=-=-==-==-==-=-=-=-==-==-==-=-=-=-==-==-==-=-=-=-==-==-=\n"
     ]
    },
    {
     "data": {
      "text/html": [
       "<br/><hr/><br/>"
      ],
      "text/plain": [
       "<IPython.core.display.HTML object>"
      ]
     },
     "metadata": {},
     "output_type": "display_data"
    },
    {
     "name": "stdout",
     "output_type": "stream",
     "text": [
      "BEGIN: =-=-=-=-==-==-==-=-=-=-==-==-==-=-=-=-==-==-==-=-=-=-==-==-==-=-=-=-==-==-==-=-=-=-==-==-==-=-=-=-==-==-=\n",
      "('<p> <strong>PUBLIC NOTICE IS HEREBY GIVEN </strong>that the following '\n",
      " 'matters have been scheduled for public hearing by Community Board:</p> <p '\n",
      " 'align=center\"> <u>BOROUGH OF MANHATTAN</u></p> <p> COMMUNITY BOARD '\n",
      " 'NO.&nbsp;01 -&nbsp;Tuesday')\n",
      "------------------------------------------------------------------\n"
     ]
    },
    {
     "data": {
      "text/html": [
       "<p> <strong>PUBLIC NOTICE IS HEREBY GIVEN </strong>that the following matters have been scheduled for public hearing by Community Board:</p> <p align=center\"> <u>BOROUGH OF MANHATTAN</u></p> <p> COMMUNITY BOARD NO.&nbsp;01 -&nbsp;Tuesday"
      ],
      "text/plain": [
       "<IPython.core.display.HTML object>"
      ]
     },
     "metadata": {},
     "output_type": "display_data"
    },
    {
     "name": "stdout",
     "output_type": "stream",
     "text": [
      "------------------------------------------------------------------\n",
      "END: =-=-=-=-==-==-==-=-=-=-==-==-==-=-=-=-==-==-==-=-=-=-==-==-==-=-=-=-==-==-==-=-=-=-==-==-==-=-=-=-==-==-=\n"
     ]
    },
    {
     "data": {
      "text/html": [
       "<br/><hr/><br/>"
      ],
      "text/plain": [
       "<IPython.core.display.HTML object>"
      ]
     },
     "metadata": {},
     "output_type": "display_data"
    },
    {
     "name": "stdout",
     "output_type": "stream",
     "text": [
      "BEGIN: =-=-=-=-==-==-==-=-=-=-==-==-==-=-=-=-==-==-==-=-=-=-==-==-==-=-=-=-==-==-==-=-=-=-==-==-==-=-=-=-==-==-=\n",
      "('<p> <strong>PUBLIC NOTICE IS HEREBY GIVEN </strong>that the following '\n",
      " 'matters have been scheduled for public hearing by Community Board:</p> <p '\n",
      " 'align=center\"> <u>BOROUGH OF BROOKLYN</u></p> <p> COMMUNITY BOARD '\n",
      " 'NO.&nbsp;09&nbsp;-&nbsp;Tuesday')\n",
      "------------------------------------------------------------------\n"
     ]
    },
    {
     "data": {
      "text/html": [
       "<p> <strong>PUBLIC NOTICE IS HEREBY GIVEN </strong>that the following matters have been scheduled for public hearing by Community Board:</p> <p align=center\"> <u>BOROUGH OF BROOKLYN</u></p> <p> COMMUNITY BOARD NO.&nbsp;09&nbsp;-&nbsp;Tuesday"
      ],
      "text/plain": [
       "<IPython.core.display.HTML object>"
      ]
     },
     "metadata": {},
     "output_type": "display_data"
    },
    {
     "name": "stdout",
     "output_type": "stream",
     "text": [
      "------------------------------------------------------------------\n",
      "END: =-=-=-=-==-==-==-=-=-=-==-==-==-=-=-=-==-==-==-=-=-=-==-==-==-=-=-=-==-==-==-=-=-=-==-==-==-=-=-=-==-==-=\n"
     ]
    },
    {
     "data": {
      "text/html": [
       "<br/><hr/><br/>"
      ],
      "text/plain": [
       "<IPython.core.display.HTML object>"
      ]
     },
     "metadata": {},
     "output_type": "display_data"
    },
    {
     "name": "stdout",
     "output_type": "stream",
     "text": [
      "BEGIN: =-=-=-=-==-==-==-=-=-=-==-==-==-=-=-=-==-==-==-=-=-=-==-==-==-=-=-=-==-==-==-=-=-=-==-==-==-=-=-=-==-==-=\n",
      "('<p> <strong>PUBLIC NOTICE IS HEREBY GIVEN </strong>that the following '\n",
      " 'matters have been scheduled for public hearing by Community Board:</p> <p '\n",
      " 'align=center\"> <u>BOROUGH OF THE BRONX</u></p> <p> COMMUNITY BOARD '\n",
      " 'NO.&nbsp;07 -&nbsp;Wednesday')\n",
      "------------------------------------------------------------------\n"
     ]
    },
    {
     "data": {
      "text/html": [
       "<p> <strong>PUBLIC NOTICE IS HEREBY GIVEN </strong>that the following matters have been scheduled for public hearing by Community Board:</p> <p align=center\"> <u>BOROUGH OF THE BRONX</u></p> <p> COMMUNITY BOARD NO.&nbsp;07 -&nbsp;Wednesday"
      ],
      "text/plain": [
       "<IPython.core.display.HTML object>"
      ]
     },
     "metadata": {},
     "output_type": "display_data"
    },
    {
     "name": "stdout",
     "output_type": "stream",
     "text": [
      "------------------------------------------------------------------\n",
      "END: =-=-=-=-==-==-==-=-=-=-==-==-==-=-=-=-==-==-==-=-=-=-==-==-==-=-=-=-==-==-==-=-=-=-==-==-==-=-=-=-==-==-=\n"
     ]
    },
    {
     "data": {
      "text/html": [
       "<br/><hr/><br/>"
      ],
      "text/plain": [
       "<IPython.core.display.HTML object>"
      ]
     },
     "metadata": {},
     "output_type": "display_data"
    },
    {
     "name": "stdout",
     "output_type": "stream",
     "text": [
      "BEGIN: =-=-=-=-==-==-==-=-=-=-==-==-==-=-=-=-==-==-==-=-=-=-==-==-==-=-=-=-==-==-==-=-=-=-==-==-==-=-=-=-==-==-=\n",
      "('<p> <strong>PUBLIC NOTICE IS HEREBY GIVEN </strong>that the following '\n",
      " 'matters have been scheduled for public hearing by Community Board:</p> <p '\n",
      " 'align=center\"> <u>BOROUGH OF MANHATTAN</u></p> <p> COMMUNITY BOARD '\n",
      " 'NO.&nbsp;05 -&nbsp;Wednesday')\n",
      "------------------------------------------------------------------\n"
     ]
    },
    {
     "data": {
      "text/html": [
       "<p> <strong>PUBLIC NOTICE IS HEREBY GIVEN </strong>that the following matters have been scheduled for public hearing by Community Board:</p> <p align=center\"> <u>BOROUGH OF MANHATTAN</u></p> <p> COMMUNITY BOARD NO.&nbsp;05 -&nbsp;Wednesday"
      ],
      "text/plain": [
       "<IPython.core.display.HTML object>"
      ]
     },
     "metadata": {},
     "output_type": "display_data"
    },
    {
     "name": "stdout",
     "output_type": "stream",
     "text": [
      "------------------------------------------------------------------\n",
      "END: =-=-=-=-==-==-==-=-=-=-==-==-==-=-=-=-==-==-==-=-=-=-==-==-==-=-=-=-==-==-==-=-=-=-==-==-==-=-=-=-==-==-=\n"
     ]
    },
    {
     "data": {
      "text/html": [
       "<br/><hr/><br/>"
      ],
      "text/plain": [
       "<IPython.core.display.HTML object>"
      ]
     },
     "metadata": {},
     "output_type": "display_data"
    },
    {
     "name": "stdout",
     "output_type": "stream",
     "text": [
      "BEGIN: =-=-=-=-==-==-==-=-=-=-==-==-==-=-=-=-==-==-==-=-=-=-==-==-==-=-=-=-==-==-==-=-=-=-==-==-==-=-=-=-==-==-=\n",
      "('<p> <strong>PUBLIC NOTICE IS HEREBY GIVEN </strong>that the following '\n",
      " 'matters have been scheduled for public hearing by Community Board:</p> <p '\n",
      " 'align=center\"> <u>BOROUGH OF MANHATTAN</u></p> <p> COMMUNITY BOARD '\n",
      " 'NO.&nbsp;09 -&nbsp;Tuesday')\n",
      "------------------------------------------------------------------\n"
     ]
    },
    {
     "data": {
      "text/html": [
       "<p> <strong>PUBLIC NOTICE IS HEREBY GIVEN </strong>that the following matters have been scheduled for public hearing by Community Board:</p> <p align=center\"> <u>BOROUGH OF MANHATTAN</u></p> <p> COMMUNITY BOARD NO.&nbsp;09 -&nbsp;Tuesday"
      ],
      "text/plain": [
       "<IPython.core.display.HTML object>"
      ]
     },
     "metadata": {},
     "output_type": "display_data"
    },
    {
     "name": "stdout",
     "output_type": "stream",
     "text": [
      "------------------------------------------------------------------\n",
      "END: =-=-=-=-==-==-==-=-=-=-==-==-==-=-=-=-==-==-==-=-=-=-==-==-==-=-=-=-==-==-==-=-=-=-==-==-==-=-=-=-==-==-=\n"
     ]
    },
    {
     "data": {
      "text/html": [
       "<br/><hr/><br/>"
      ],
      "text/plain": [
       "<IPython.core.display.HTML object>"
      ]
     },
     "metadata": {},
     "output_type": "display_data"
    },
    {
     "name": "stdout",
     "output_type": "stream",
     "text": [
      "BEGIN: =-=-=-=-==-==-==-=-=-=-==-==-==-=-=-=-==-==-==-=-=-=-==-==-==-=-=-=-==-==-==-=-=-=-==-==-==-=-=-=-==-==-=\n",
      "('<p> <strong>PUBLIC NOTICE IS HEREBY GIVEN </strong>that the following '\n",
      " 'matters have been scheduled for public hearing by Community Board:</p> <p '\n",
      " 'align=center\"> <u>BOROUGH OF BROOKLYN</u></p> <p> COMMUNITY BOARD '\n",
      " 'NO.&nbsp;10 -&nbsp;Monday')\n",
      "------------------------------------------------------------------\n"
     ]
    },
    {
     "data": {
      "text/html": [
       "<p> <strong>PUBLIC NOTICE IS HEREBY GIVEN </strong>that the following matters have been scheduled for public hearing by Community Board:</p> <p align=center\"> <u>BOROUGH OF BROOKLYN</u></p> <p> COMMUNITY BOARD NO.&nbsp;10 -&nbsp;Monday"
      ],
      "text/plain": [
       "<IPython.core.display.HTML object>"
      ]
     },
     "metadata": {},
     "output_type": "display_data"
    },
    {
     "name": "stdout",
     "output_type": "stream",
     "text": [
      "------------------------------------------------------------------\n",
      "END: =-=-=-=-==-==-==-=-=-=-==-==-==-=-=-=-==-==-==-=-=-=-==-==-==-=-=-=-==-==-==-=-=-=-==-==-==-=-=-=-==-==-=\n"
     ]
    },
    {
     "data": {
      "text/html": [
       "<br/><hr/><br/>"
      ],
      "text/plain": [
       "<IPython.core.display.HTML object>"
      ]
     },
     "metadata": {},
     "output_type": "display_data"
    },
    {
     "name": "stdout",
     "output_type": "stream",
     "text": [
      "BEGIN: =-=-=-=-==-==-==-=-=-=-==-==-==-=-=-=-==-==-==-=-=-=-==-==-==-=-=-=-==-==-==-=-=-=-==-==-==-=-=-=-==-==-=\n",
      "('<p> <strong>PUBLIC NOTICE IS HEREBY GIVEN </strong>that the following '\n",
      " 'matters have been scheduled for public hearing by Community Board:</p> <p '\n",
      " 'align=center\"> <u>BOROUGH OF QUEENS</u></p> <p> COMMUNITY BOARD NO. 02 '\n",
      " '-&nbsp;Thursday')\n",
      "------------------------------------------------------------------\n"
     ]
    },
    {
     "data": {
      "text/html": [
       "<p> <strong>PUBLIC NOTICE IS HEREBY GIVEN </strong>that the following matters have been scheduled for public hearing by Community Board:</p> <p align=center\"> <u>BOROUGH OF QUEENS</u></p> <p> COMMUNITY BOARD NO. 02 -&nbsp;Thursday"
      ],
      "text/plain": [
       "<IPython.core.display.HTML object>"
      ]
     },
     "metadata": {},
     "output_type": "display_data"
    },
    {
     "name": "stdout",
     "output_type": "stream",
     "text": [
      "------------------------------------------------------------------\n",
      "END: =-=-=-=-==-==-==-=-=-=-==-==-==-=-=-=-==-==-==-=-=-=-==-==-==-=-=-=-==-==-==-=-=-=-==-==-==-=-=-=-==-==-=\n"
     ]
    },
    {
     "data": {
      "text/html": [
       "<br/><hr/><br/>"
      ],
      "text/plain": [
       "<IPython.core.display.HTML object>"
      ]
     },
     "metadata": {},
     "output_type": "display_data"
    },
    {
     "name": "stdout",
     "output_type": "stream",
     "text": [
      "BEGIN: =-=-=-=-==-==-==-=-=-=-==-==-==-=-=-=-==-==-==-=-=-=-==-==-==-=-=-=-==-==-==-=-=-=-==-==-==-=-=-=-==-==-=\n",
      "('<p> <strong>PUBLIC NOTICE IS HEREBY GIVEN </strong>that the following '\n",
      " 'matters have been scheduled for public hearing by Community Board:</p> <p '\n",
      " 'align=center\"> <u>BOROUGH OF BROOKLYN</u></p> <p> COMMUNITY BOARD '\n",
      " 'NO.&nbsp;08 -&nbsp;Thursday')\n",
      "------------------------------------------------------------------\n"
     ]
    },
    {
     "data": {
      "text/html": [
       "<p> <strong>PUBLIC NOTICE IS HEREBY GIVEN </strong>that the following matters have been scheduled for public hearing by Community Board:</p> <p align=center\"> <u>BOROUGH OF BROOKLYN</u></p> <p> COMMUNITY BOARD NO.&nbsp;08 -&nbsp;Thursday"
      ],
      "text/plain": [
       "<IPython.core.display.HTML object>"
      ]
     },
     "metadata": {},
     "output_type": "display_data"
    },
    {
     "name": "stdout",
     "output_type": "stream",
     "text": [
      "------------------------------------------------------------------\n",
      "END: =-=-=-=-==-==-==-=-=-=-==-==-==-=-=-=-==-==-==-=-=-=-==-==-==-=-=-=-==-==-==-=-=-=-==-==-==-=-=-=-==-==-=\n"
     ]
    },
    {
     "data": {
      "text/html": [
       "<br/><hr/><br/>"
      ],
      "text/plain": [
       "<IPython.core.display.HTML object>"
      ]
     },
     "metadata": {},
     "output_type": "display_data"
    },
    {
     "name": "stdout",
     "output_type": "stream",
     "text": [
      "BEGIN: =-=-=-=-==-==-==-=-=-=-==-==-==-=-=-=-==-==-==-=-=-=-==-==-==-=-=-=-==-==-==-=-=-=-==-==-==-=-=-=-==-==-=\n",
      "('<p> PUBLIC NOTICE IS HEREBY GIVEN THAT the following matters have been '\n",
      " 'scheduled for public hearing by Community Boards:</p> <p> '\n",
      " '&nbsp;&nbsp;&nbsp;&nbsp;&nbsp;&nbsp;&nbsp;&nbsp;&nbsp;&nbsp;&nbsp;&nbsp;&nbsp;&nbsp;&nbsp;&nbsp;&nbsp;&nbsp;&nbsp;&nbsp;&nbsp;&nbsp;&nbsp;&nbsp;&nbsp;&nbsp;&nbsp;&nbsp;&nbsp;&nbsp;&nbsp;&nbsp;&nbsp;&nbsp;&nbsp;&nbsp;&nbsp;&nbsp;&nbsp;&nbsp;&nbsp;&nbsp;&nbsp;&nbsp;&nbsp;&nbsp;&nbsp;&nbsp;&nbsp;&nbsp;&nbsp;&nbsp; '\n",
      " '&nbsp;&nbsp;&nbsp;&nbsp;&nbsp;&nbsp;&nbsp;&nbsp;&nbsp;&nbsp;&nbsp;&nbsp;&nbsp;&nbsp;&nbsp;&nbsp;&nbsp;&nbsp;&nbsp;&nbsp;&nbsp;&nbsp;&nbsp;&nbsp;&nbsp; '\n",
      " '<u>BOROUGH OF MANHATTAN</u></p> <p> COMMUNITY BOARD NO-&nbsp;03, '\n",
      " 'Wednesday,&nbsp;November 12, 2014 at 6:30 P.M.,&nbsp;University Settlement '\n",
      " 'at Houston Street Center, 273 Bowery, NYC, NY</p> <p> &nbsp;</p> <p> #C '\n",
      " '130321ZSM</p> <p> <strong>IN THE MATTER OF </strong>an application '\n",
      " 'submitted by 180 Orchard Retail LLC pursuant to Sections 197-c and 201 of '\n",
      " 'the New York City Charter for the grant of a special permit pursuant to '\n",
      " 'Zoning Resolution Section 13-45 (Special Permits for additional parking '\n",
      " 'spaces) and Section 13-451 (Additional parking spaces for residential '\n",
      " 'growth) to allow an attended public parking garage with a maximum capacity '\n",
      " 'of 99 spaces on portions of the ground floor, cellar and sub-cellar of a '\n",
      " 'proposed mixed-use building on property located at 180 Orchard Street '\n",
      " '(Block 412, Lots 8-11, 27-29, 32-36, &amp; 1001-1003), in a C4-4A '\n",
      " 'District, Borough of Manhattan, Community District 3.</p> <p> &nbsp;</p> '\n",
      " '<p> &nbsp;</p> <p> &nbsp;</p>')\n",
      "------------------------------------------------------------------\n"
     ]
    },
    {
     "data": {
      "text/html": [
       "<p> PUBLIC NOTICE IS HEREBY GIVEN THAT the following matters have been scheduled for public hearing by Community Boards:</p> <p> &nbsp;&nbsp;&nbsp;&nbsp;&nbsp;&nbsp;&nbsp;&nbsp;&nbsp;&nbsp;&nbsp;&nbsp;&nbsp;&nbsp;&nbsp;&nbsp;&nbsp;&nbsp;&nbsp;&nbsp;&nbsp;&nbsp;&nbsp;&nbsp;&nbsp;&nbsp;&nbsp;&nbsp;&nbsp;&nbsp;&nbsp;&nbsp;&nbsp;&nbsp;&nbsp;&nbsp;&nbsp;&nbsp;&nbsp;&nbsp;&nbsp;&nbsp;&nbsp;&nbsp;&nbsp;&nbsp;&nbsp;&nbsp;&nbsp;&nbsp;&nbsp;&nbsp; &nbsp;&nbsp;&nbsp;&nbsp;&nbsp;&nbsp;&nbsp;&nbsp;&nbsp;&nbsp;&nbsp;&nbsp;&nbsp;&nbsp;&nbsp;&nbsp;&nbsp;&nbsp;&nbsp;&nbsp;&nbsp;&nbsp;&nbsp;&nbsp;&nbsp; <u>BOROUGH OF MANHATTAN</u></p> <p> COMMUNITY BOARD NO-&nbsp;03, Wednesday,&nbsp;November 12, 2014 at 6:30 P.M.,&nbsp;University Settlement at Houston Street Center, 273 Bowery, NYC, NY</p> <p> &nbsp;</p> <p> #C 130321ZSM</p> <p> <strong>IN THE MATTER OF </strong>an application submitted by 180 Orchard Retail LLC pursuant to Sections 197-c and 201 of the New York City Charter for the grant of a special permit pursuant to Zoning Resolution Section 13-45 (Special Permits for additional parking spaces) and Section 13-451 (Additional parking spaces for residential growth) to allow an attended public parking garage with a maximum capacity of 99 spaces on portions of the ground floor, cellar and sub-cellar of a proposed mixed-use building on property located at 180 Orchard Street (Block 412, Lots 8-11, 27-29, 32-36, &amp; 1001-1003), in a C4-4A District, Borough of Manhattan, Community District 3.</p> <p> &nbsp;</p> <p> &nbsp;</p> <p> &nbsp;</p>"
      ],
      "text/plain": [
       "<IPython.core.display.HTML object>"
      ]
     },
     "metadata": {},
     "output_type": "display_data"
    },
    {
     "name": "stdout",
     "output_type": "stream",
     "text": [
      "------------------------------------------------------------------\n",
      "END: =-=-=-=-==-==-==-=-=-=-==-==-==-=-=-=-==-==-==-=-=-=-==-==-==-=-=-=-==-==-==-=-=-=-==-==-==-=-=-=-==-==-=\n"
     ]
    },
    {
     "data": {
      "text/html": [
       "<br/><hr/><br/>"
      ],
      "text/plain": [
       "<IPython.core.display.HTML object>"
      ]
     },
     "metadata": {},
     "output_type": "display_data"
    },
    {
     "name": "stdout",
     "output_type": "stream",
     "text": [
      "BEGIN: =-=-=-=-==-==-==-=-=-=-==-==-==-=-=-=-==-==-==-=-=-=-==-==-==-=-=-=-==-==-==-=-=-=-==-==-==-=-=-=-==-==-=\n",
      "('<p> <strong>PUBLIC NOTICE IS HEREBY GIVEN </strong>that the following '\n",
      " 'matters have been scheduled for public hearing by Community Board:</p> <p '\n",
      " 'align=center\"> <u>BOROUGH OF BROOKLYN</u></p> <p> COMMUNITY BOARD '\n",
      " 'NO.&nbsp;13 -&nbsp;Wednesday')\n",
      "------------------------------------------------------------------\n"
     ]
    },
    {
     "data": {
      "text/html": [
       "<p> <strong>PUBLIC NOTICE IS HEREBY GIVEN </strong>that the following matters have been scheduled for public hearing by Community Board:</p> <p align=center\"> <u>BOROUGH OF BROOKLYN</u></p> <p> COMMUNITY BOARD NO.&nbsp;13 -&nbsp;Wednesday"
      ],
      "text/plain": [
       "<IPython.core.display.HTML object>"
      ]
     },
     "metadata": {},
     "output_type": "display_data"
    },
    {
     "name": "stdout",
     "output_type": "stream",
     "text": [
      "------------------------------------------------------------------\n",
      "END: =-=-=-=-==-==-==-=-=-=-==-==-==-=-=-=-==-==-==-=-=-=-==-==-==-=-=-=-==-==-==-=-=-=-==-==-==-=-=-=-==-==-=\n"
     ]
    },
    {
     "data": {
      "text/html": [
       "<br/><hr/><br/>"
      ],
      "text/plain": [
       "<IPython.core.display.HTML object>"
      ]
     },
     "metadata": {},
     "output_type": "display_data"
    },
    {
     "name": "stdout",
     "output_type": "stream",
     "text": [
      "BEGIN: =-=-=-=-==-==-==-=-=-=-==-==-==-=-=-=-==-==-==-=-=-=-==-==-==-=-=-=-==-==-==-=-=-=-==-==-==-=-=-=-==-==-=\n",
      "('<p> <strong>PUBLIC NOTICE IS HEREBY GIVEN </strong>that the following '\n",
      " 'matters have been scheduled for public hearing by Community Board:</p> <p '\n",
      " 'align=center\"> <u>BOROUGH OF BROOKLYN</u></p> <p> COMMUNITY BOARD NO. 02 '\n",
      " '-&nbsp;Wednesday')\n",
      "------------------------------------------------------------------\n"
     ]
    },
    {
     "data": {
      "text/html": [
       "<p> <strong>PUBLIC NOTICE IS HEREBY GIVEN </strong>that the following matters have been scheduled for public hearing by Community Board:</p> <p align=center\"> <u>BOROUGH OF BROOKLYN</u></p> <p> COMMUNITY BOARD NO. 02 -&nbsp;Wednesday"
      ],
      "text/plain": [
       "<IPython.core.display.HTML object>"
      ]
     },
     "metadata": {},
     "output_type": "display_data"
    },
    {
     "name": "stdout",
     "output_type": "stream",
     "text": [
      "------------------------------------------------------------------\n",
      "END: =-=-=-=-==-==-==-=-=-=-==-==-==-=-=-=-==-==-==-=-=-=-==-==-==-=-=-=-==-==-==-=-=-=-==-==-==-=-=-=-==-==-=\n"
     ]
    },
    {
     "data": {
      "text/html": [
       "<br/><hr/><br/>"
      ],
      "text/plain": [
       "<IPython.core.display.HTML object>"
      ]
     },
     "metadata": {},
     "output_type": "display_data"
    },
    {
     "name": "stdout",
     "output_type": "stream",
     "text": [
      "BEGIN: =-=-=-=-==-==-==-=-=-=-==-==-==-=-=-=-==-==-==-=-=-=-==-==-==-=-=-=-==-==-==-=-=-=-==-==-==-=-=-=-==-==-=\n",
      "('<p> <strong>PUBLIC NOTICE IS HEREBY GIVEN </strong>that the following '\n",
      " 'matters have been scheduled for public hearing by Community Board:</p> <p '\n",
      " 'align=center\"> <u>BOROUGH OF MANHATTAN</u></p> <p> COMMUNITY BOARD '\n",
      " 'NO.&nbsp;05 -&nbsp;Monday')\n",
      "------------------------------------------------------------------\n"
     ]
    },
    {
     "data": {
      "text/html": [
       "<p> <strong>PUBLIC NOTICE IS HEREBY GIVEN </strong>that the following matters have been scheduled for public hearing by Community Board:</p> <p align=center\"> <u>BOROUGH OF MANHATTAN</u></p> <p> COMMUNITY BOARD NO.&nbsp;05 -&nbsp;Monday"
      ],
      "text/plain": [
       "<IPython.core.display.HTML object>"
      ]
     },
     "metadata": {},
     "output_type": "display_data"
    },
    {
     "name": "stdout",
     "output_type": "stream",
     "text": [
      "------------------------------------------------------------------\n",
      "END: =-=-=-=-==-==-==-=-=-=-==-==-==-=-=-=-==-==-==-=-=-=-==-==-==-=-=-=-==-==-==-=-=-=-==-==-==-=-=-=-==-==-=\n"
     ]
    },
    {
     "data": {
      "text/html": [
       "<br/><hr/><br/>"
      ],
      "text/plain": [
       "<IPython.core.display.HTML object>"
      ]
     },
     "metadata": {},
     "output_type": "display_data"
    },
    {
     "name": "stdout",
     "output_type": "stream",
     "text": [
      "BEGIN: =-=-=-=-==-==-==-=-=-=-==-==-==-=-=-=-==-==-==-=-=-=-==-==-==-=-=-=-==-==-==-=-=-=-==-==-==-=-=-=-==-==-=\n",
      "('<p> <strong>PUBLIC NOTICE IS HEREBY GIVEN </strong>that the following '\n",
      " 'matters have been scheduled for public hearing by Community Board:</p> <p '\n",
      " 'align=center\"> <u>BOROUGH OF BROOKLYN</u></p> <p> COMMUNITY BOARD '\n",
      " 'NO.&nbsp;12 -&nbsp;Monday')\n",
      "------------------------------------------------------------------\n"
     ]
    },
    {
     "data": {
      "text/html": [
       "<p> <strong>PUBLIC NOTICE IS HEREBY GIVEN </strong>that the following matters have been scheduled for public hearing by Community Board:</p> <p align=center\"> <u>BOROUGH OF BROOKLYN</u></p> <p> COMMUNITY BOARD NO.&nbsp;12 -&nbsp;Monday"
      ],
      "text/plain": [
       "<IPython.core.display.HTML object>"
      ]
     },
     "metadata": {},
     "output_type": "display_data"
    },
    {
     "name": "stdout",
     "output_type": "stream",
     "text": [
      "------------------------------------------------------------------\n",
      "END: =-=-=-=-==-==-==-=-=-=-==-==-==-=-=-=-==-==-==-=-=-=-==-==-==-=-=-=-==-==-==-=-=-=-==-==-==-=-=-=-==-==-=\n"
     ]
    },
    {
     "data": {
      "text/html": [
       "<br/><hr/><br/>"
      ],
      "text/plain": [
       "<IPython.core.display.HTML object>"
      ]
     },
     "metadata": {},
     "output_type": "display_data"
    },
    {
     "name": "stdout",
     "output_type": "stream",
     "text": [
      "BEGIN: =-=-=-=-==-==-==-=-=-=-==-==-==-=-=-=-==-==-==-=-=-=-==-==-==-=-=-=-==-==-==-=-=-=-==-==-==-=-=-=-==-==-=\n",
      "('<p> <strong>PUBLIC NOTICE IS HEREBY GIVEN </strong>that the following '\n",
      " 'matters have been scheduled for public hearing by Community Board:</p> <p '\n",
      " 'align=center\"> <u>BOROUGH OF QUEENS</u></p> <p> COMMUNITY BOARD '\n",
      " 'NO.&nbsp;04 -&nbsp;Tuesday')\n",
      "------------------------------------------------------------------\n"
     ]
    },
    {
     "data": {
      "text/html": [
       "<p> <strong>PUBLIC NOTICE IS HEREBY GIVEN </strong>that the following matters have been scheduled for public hearing by Community Board:</p> <p align=center\"> <u>BOROUGH OF QUEENS</u></p> <p> COMMUNITY BOARD NO.&nbsp;04 -&nbsp;Tuesday"
      ],
      "text/plain": [
       "<IPython.core.display.HTML object>"
      ]
     },
     "metadata": {},
     "output_type": "display_data"
    },
    {
     "name": "stdout",
     "output_type": "stream",
     "text": [
      "------------------------------------------------------------------\n",
      "END: =-=-=-=-==-==-==-=-=-=-==-==-==-=-=-=-==-==-==-=-=-=-==-==-==-=-=-=-==-==-==-=-=-=-==-==-==-=-=-=-==-==-=\n"
     ]
    },
    {
     "data": {
      "text/html": [
       "<br/><hr/><br/>"
      ],
      "text/plain": [
       "<IPython.core.display.HTML object>"
      ]
     },
     "metadata": {},
     "output_type": "display_data"
    },
    {
     "name": "stdout",
     "output_type": "stream",
     "text": [
      "BEGIN: =-=-=-=-==-==-==-=-=-=-==-==-==-=-=-=-==-==-==-=-=-=-==-==-==-=-=-=-==-==-==-=-=-=-==-==-==-=-=-=-==-==-=\n",
      "('<p> <strong>PUBLIC NOTICE IS HEREBY GIVEN </strong>that the following '\n",
      " 'matters have been scheduled for public hearing by Community Board:</p> <p '\n",
      " 'align=center\"> <u>BOROUGH OF THE BRONX</u></p> <p> COMMUNITY BOARD '\n",
      " 'NO.&nbsp;03 - Tuesday')\n",
      "------------------------------------------------------------------\n"
     ]
    },
    {
     "data": {
      "text/html": [
       "<p> <strong>PUBLIC NOTICE IS HEREBY GIVEN </strong>that the following matters have been scheduled for public hearing by Community Board:</p> <p align=center\"> <u>BOROUGH OF THE BRONX</u></p> <p> COMMUNITY BOARD NO.&nbsp;03 - Tuesday"
      ],
      "text/plain": [
       "<IPython.core.display.HTML object>"
      ]
     },
     "metadata": {},
     "output_type": "display_data"
    },
    {
     "name": "stdout",
     "output_type": "stream",
     "text": [
      "------------------------------------------------------------------\n",
      "END: =-=-=-=-==-==-==-=-=-=-==-==-==-=-=-=-==-==-==-=-=-=-==-==-==-=-=-=-==-==-==-=-=-=-==-==-==-=-=-=-==-==-=\n"
     ]
    },
    {
     "data": {
      "text/html": [
       "<br/><hr/><br/>"
      ],
      "text/plain": [
       "<IPython.core.display.HTML object>"
      ]
     },
     "metadata": {},
     "output_type": "display_data"
    },
    {
     "name": "stdout",
     "output_type": "stream",
     "text": [
      "BEGIN: =-=-=-=-==-==-==-=-=-=-==-==-==-=-=-=-==-==-==-=-=-=-==-==-==-=-=-=-==-==-==-=-=-=-==-==-==-=-=-=-==-==-=\n",
      "('<p> <strong>PUBLIC NOTICE IS HEREBY GIVEN </strong>that the following '\n",
      " 'matters have been scheduled for public hearing by Community Board:</p> <p '\n",
      " 'align=center\"> <u>BOROUGH OF BROOKLYN</u></p> <p> COMMUNITY BOARD '\n",
      " 'NO.&nbsp;13 -&nbsp;Monday')\n",
      "------------------------------------------------------------------\n"
     ]
    },
    {
     "data": {
      "text/html": [
       "<p> <strong>PUBLIC NOTICE IS HEREBY GIVEN </strong>that the following matters have been scheduled for public hearing by Community Board:</p> <p align=center\"> <u>BOROUGH OF BROOKLYN</u></p> <p> COMMUNITY BOARD NO.&nbsp;13 -&nbsp;Monday"
      ],
      "text/plain": [
       "<IPython.core.display.HTML object>"
      ]
     },
     "metadata": {},
     "output_type": "display_data"
    },
    {
     "name": "stdout",
     "output_type": "stream",
     "text": [
      "------------------------------------------------------------------\n",
      "END: =-=-=-=-==-==-==-=-=-=-==-==-==-=-=-=-==-==-==-=-=-=-==-==-==-=-=-=-==-==-==-=-=-=-==-==-==-=-=-=-==-==-=\n"
     ]
    },
    {
     "data": {
      "text/html": [
       "<br/><hr/><br/>"
      ],
      "text/plain": [
       "<IPython.core.display.HTML object>"
      ]
     },
     "metadata": {},
     "output_type": "display_data"
    },
    {
     "name": "stdout",
     "output_type": "stream",
     "text": [
      "BEGIN: =-=-=-=-==-==-==-=-=-=-==-==-==-=-=-=-==-==-==-=-=-=-==-==-==-=-=-=-==-==-==-=-=-=-==-==-==-=-=-=-==-==-=\n",
      "('<p> <strong>PUBLIC NOTICE IS HEREBY GIVEN </strong>that the following '\n",
      " 'matters have been scheduled for public hearing by Community Board:</p> <p '\n",
      " 'align=center\"> <u>BOROUGH OF BROOKLYN</u></p> <p> COMMUNITY BOARD NO. 02 - '\n",
      " 'Wednesday')\n",
      "------------------------------------------------------------------\n"
     ]
    },
    {
     "data": {
      "text/html": [
       "<p> <strong>PUBLIC NOTICE IS HEREBY GIVEN </strong>that the following matters have been scheduled for public hearing by Community Board:</p> <p align=center\"> <u>BOROUGH OF BROOKLYN</u></p> <p> COMMUNITY BOARD NO. 02 - Wednesday"
      ],
      "text/plain": [
       "<IPython.core.display.HTML object>"
      ]
     },
     "metadata": {},
     "output_type": "display_data"
    },
    {
     "name": "stdout",
     "output_type": "stream",
     "text": [
      "------------------------------------------------------------------\n",
      "END: =-=-=-=-==-==-==-=-=-=-==-==-==-=-=-=-==-==-==-=-=-=-==-==-==-=-=-=-==-==-==-=-=-=-==-==-==-=-=-=-==-==-=\n"
     ]
    },
    {
     "data": {
      "text/html": [
       "<br/><hr/><br/>"
      ],
      "text/plain": [
       "<IPython.core.display.HTML object>"
      ]
     },
     "metadata": {},
     "output_type": "display_data"
    },
    {
     "name": "stdout",
     "output_type": "stream",
     "text": [
      "BEGIN: =-=-=-=-==-==-==-=-=-=-==-==-==-=-=-=-==-==-==-=-=-=-==-==-==-=-=-=-==-==-==-=-=-=-==-==-==-=-=-=-==-==-=\n",
      "('<p> <strong>PUBLIC NOTICE IS HEREBY GIVEN </strong>that the following '\n",
      " 'matters have been scheduled for public hearing by Community Board:</p> <p '\n",
      " 'align=center\"> <u>BOROUGH OF QUEENS</u></p> <p> COMMUNITY BOARD '\n",
      " 'NO.&nbsp;07 - Monday')\n",
      "------------------------------------------------------------------\n"
     ]
    },
    {
     "data": {
      "text/html": [
       "<p> <strong>PUBLIC NOTICE IS HEREBY GIVEN </strong>that the following matters have been scheduled for public hearing by Community Board:</p> <p align=center\"> <u>BOROUGH OF QUEENS</u></p> <p> COMMUNITY BOARD NO.&nbsp;07 - Monday"
      ],
      "text/plain": [
       "<IPython.core.display.HTML object>"
      ]
     },
     "metadata": {},
     "output_type": "display_data"
    },
    {
     "name": "stdout",
     "output_type": "stream",
     "text": [
      "------------------------------------------------------------------\n",
      "END: =-=-=-=-==-==-==-=-=-=-==-==-==-=-=-=-==-==-==-=-=-=-==-==-==-=-=-=-==-==-==-=-=-=-==-==-==-=-=-=-==-==-=\n"
     ]
    },
    {
     "data": {
      "text/html": [
       "<br/><hr/><br/>"
      ],
      "text/plain": [
       "<IPython.core.display.HTML object>"
      ]
     },
     "metadata": {},
     "output_type": "display_data"
    },
    {
     "name": "stdout",
     "output_type": "stream",
     "text": [
      "BEGIN: =-=-=-=-==-==-==-=-=-=-==-==-==-=-=-=-==-==-==-=-=-=-==-==-==-=-=-=-==-==-==-=-=-=-==-==-==-=-=-=-==-==-=\n",
      "('<p> <strong>PUBLIC NOTICE IS HEREBY GIVEN </strong>that the following '\n",
      " 'matters have been scheduled for public hearing by Community Board:</p> <p '\n",
      " 'align=center\"> <u>BOROUGH OF QUEENS</u></p> <p> COMMUNITY BOARD '\n",
      " 'NO.&nbsp;13 - Monday')\n",
      "------------------------------------------------------------------\n"
     ]
    },
    {
     "data": {
      "text/html": [
       "<p> <strong>PUBLIC NOTICE IS HEREBY GIVEN </strong>that the following matters have been scheduled for public hearing by Community Board:</p> <p align=center\"> <u>BOROUGH OF QUEENS</u></p> <p> COMMUNITY BOARD NO.&nbsp;13 - Monday"
      ],
      "text/plain": [
       "<IPython.core.display.HTML object>"
      ]
     },
     "metadata": {},
     "output_type": "display_data"
    },
    {
     "name": "stdout",
     "output_type": "stream",
     "text": [
      "------------------------------------------------------------------\n",
      "END: =-=-=-=-==-==-==-=-=-=-==-==-==-=-=-=-==-==-==-=-=-=-==-==-==-=-=-=-==-==-==-=-=-=-==-==-==-=-=-=-==-==-=\n"
     ]
    },
    {
     "data": {
      "text/html": [
       "<br/><hr/><br/>"
      ],
      "text/plain": [
       "<IPython.core.display.HTML object>"
      ]
     },
     "metadata": {},
     "output_type": "display_data"
    }
   ],
   "source": [
    "fix = rows.apply(scrape,1)\n",
    "# fix"
   ]
  },
  {
   "cell_type": "code",
   "execution_count": null,
   "metadata": {
    "collapsed": true
   },
   "outputs": [],
   "source": []
  }
 ],
 "metadata": {
  "kernelspec": {
   "display_name": "Python 3",
   "language": "python",
   "name": "python3"
  },
  "language_info": {
   "codemirror_mode": {
    "name": "ipython",
    "version": 3
   },
   "file_extension": ".py",
   "mimetype": "text/x-python",
   "name": "python",
   "nbconvert_exporter": "python",
   "pygments_lexer": "ipython3",
   "version": "3.4.3"
  }
 },
 "nbformat": 4,
 "nbformat_minor": 0
}
