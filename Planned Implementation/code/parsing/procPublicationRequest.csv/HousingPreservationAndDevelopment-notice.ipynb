{
 "cells": [
  {
   "cell_type": "markdown",
   "metadata": {},
   "source": [
    "**Status**\n",
    "* Starter notebook for Parsing: Housing Preservation and Development Notice\n",
    "\n"
   ]
  },
  {
   "cell_type": "code",
   "execution_count": 2,
   "metadata": {
    "collapsed": false
   },
   "outputs": [],
   "source": [
    "from bs4 import BeautifulSoup as Soup\n",
    "from IPython.display import display, HTML\n",
    "import pandas as pd\n",
    "import re\n",
    "import pprint\n",
    "import json"
   ]
  },
  {
   "cell_type": "code",
   "execution_count": 3,
   "metadata": {
    "collapsed": false
   },
   "outputs": [],
   "source": [
    "fn = 'procPublicationRequest Oct-Dec 2014 (Updated) - Sheet1-2.csv'\n",
    "rows = pd.read_csv(fn, header=0)"
   ]
  },
  {
   "cell_type": "code",
   "execution_count": 4,
   "metadata": {
    "collapsed": false
   },
   "outputs": [],
   "source": [
    "agency = rows['AgencyName'] == \"Housing Preservation and Development\"\n",
    "description = rows['TypeOfNoticeDescription'] == \"Notice\"\n",
    "target_rows = rows[agency & description]\n"
   ]
  },
  {
   "cell_type": "markdown",
   "metadata": {},
   "source": [
    "strong starts a new section\n",
    "document ends when strong contains Notice Date:\\xa0\\xa0 October 10\\n\n",
    "\n",
    "**tokenize**\n",
    "* iterate over paragraphs\n",
    "* if strong detected\n",
    "  * if date is detected\n",
    "    * emit transition(section_end)\n",
    "    * emit transition(date)\n",
    "    * emit text\n",
    "  * emit transition(section_start | section_end)\n",
    "    * emit strong.text (this is the section name)\n",
    "    * emit transition(eof)"
   ]
  },
  {
   "cell_type": "code",
   "execution_count": 5,
   "metadata": {
    "collapsed": false
   },
   "outputs": [],
   "source": [
    "class Token:\n",
    "    def __init__(self, name, value=''):\n",
    "        self.name = name\n",
    "        self.value = value\n",
    "\n",
    "    def __repr__(self):\n",
    "        return '\\t\\t{} : {}'.format(self.name, self.value)\n",
    "    \n",
    "def tokenize(fragment):\n",
    "    parsing = False\n",
    "    for para in Soup(fragment).find_all('p'):\n",
    "        strong = para.find('strong')\n",
    "        if strong:\n",
    "            text = strong.get_text(strip=True).strip()\n",
    "            if text.lower().startswith('notice date'):\n",
    "                yield Token('END_SECTION')\n",
    "                yield Token('DATE', para.get_text(strip=True))\n",
    "            else:\n",
    "                if parsing:\n",
    "                    yield Token('END_SECTION')\n",
    "                    yield Token('SECTION_NAME', text)\n",
    "                else:\n",
    "                    parsing = True\n",
    "                    yield Token('SECTION_NAME', text)\n",
    "        else:\n",
    "            text = para.get_text(strip=True)\n",
    "            yield Token('TEXT', text)\n",
    "            \n",
    "    yield Token('EOF')\n",
    "        "
   ]
  },
  {
   "cell_type": "code",
   "execution_count": 6,
   "metadata": {
    "collapsed": true
   },
   "outputs": [],
   "source": [
    "class State:\n",
    "    \n",
    "    def __repr__(self):\n",
    "        return 'State: {}'.format(self.__class__.__name__).upper()\n",
    "    \n",
    "    def run(self):\n",
    "        pass\n",
    "        \n",
    "    def next(self, input, record):\n",
    "        assert 0, \"implement me\"\n",
    "        \n",
    "    def flush(self, record):\n",
    "        raise Exception('wtf!')\n"
   ]
  },
  {
   "cell_type": "code",
   "execution_count": 7,
   "metadata": {
    "collapsed": false
   },
   "outputs": [],
   "source": [
    "class Section(State):\n",
    "    \n",
    "    def __init__(self):\n",
    "        State.__init__(self)\n",
    "        self.name = None\n",
    "        self.text = ''\n",
    "        self.date = ''\n",
    "        print ('\\n\\nState: {}'.format(self))\n",
    "        \n",
    "    def next(self, tok, record):\n",
    "        print(tok)\n",
    "        if tok.name == 'SECTION_NAME':\n",
    "            self.name = tok.value\n",
    "        elif tok.name == 'END_SECTION':\n",
    "            record['sections'].append({'name' : self.name, 'text' : self.text })\n",
    "            self.name, self.text = None, ''\n",
    "        elif tok.name == 'TEXT':\n",
    "            self.text += tok.value\n",
    "        elif tok.name == 'DATE':\n",
    "            record['date'] = tok.value\n",
    "        elif tok.name == 'EOF':\n",
    "            print('EOF detected')\n",
    "        else:\n",
    "            raise Exception( '{}: Unknown token [{}]'.format(self, tok))\n",
    "        return self\n",
    "    \n",
    "    def flush(self, record):\n",
    "        record['error'] = 'no transition from {}'.format(self)\n",
    "        return record\n",
    "                \n",
    "        "
   ]
  },
  {
   "cell_type": "code",
   "execution_count": 8,
   "metadata": {
    "collapsed": true
   },
   "outputs": [],
   "source": [
    "class Init(State):\n",
    "    \n",
    "    def next(self, tok, record):\n",
    "        if tok.name == 'BEGIN_SECTION':\n",
    "            return Section()\n",
    "        return self\n",
    "        "
   ]
  },
  {
   "cell_type": "code",
   "execution_count": 9,
   "metadata": {
    "collapsed": false
   },
   "outputs": [],
   "source": [
    "orig_prettify = Soup.prettify\n",
    "r = re.compile(r'^(\\s*)', re.MULTILINE)\n",
    "def prettify(self, encoding=None, formatter=\"minimal\", indent_width=4):\n",
    "    return r.sub(r'\\1' * indent_width, orig_prettify(self, encoding, formatter))\n",
    "Soup.prettify = prettify"
   ]
  },
  {
   "cell_type": "code",
   "execution_count": 10,
   "metadata": {
    "collapsed": false
   },
   "outputs": [],
   "source": [
    "def xscrape(row):\n",
    "    output = {'sections' : []}\n",
    "    text = row.AdditionalDescription\n",
    "    if not isinstance(text, str):\n",
    "        output = { 'error' : 'source is not a string: {}'.format(row.AdditionalDescription) }\n",
    "    else:\n",
    "        pprint.pprint(Soup(text).prettify(indent_width=5))\n",
    "        print ('---'*15)\n",
    "        display(HTML(text))\n",
    "        state = Init()\n",
    "        for tok in tokenize(text):\n",
    "            state.run()\n",
    "            state = state.next(tok, output)\n",
    "            print (tok)\n",
    "        pprint.pprint(output)\n",
    "    display(HTML('<hr/>'))\n",
    "\n",
    "    row['output'] = json.dumps(output)\n",
    "    return row"
   ]
  },
  {
   "cell_type": "code",
   "execution_count": 11,
   "metadata": {
    "collapsed": true
   },
   "outputs": [],
   "source": [
    "def scrape(row):\n",
    "    output = {}\n",
    "    text = row.AdditionalDescription\n",
    "    if not isinstance(text, str):\n",
    "        output = { 'error' : 'source is not a string: {}'.format(text) }\n",
    "    else:\n",
    "        display(HTML(text))\n",
    "        display(HTML('<hr/>'))\n",
    "\n",
    "    row['output'] = json.dumps(output)\n",
    "    return row"
   ]
  },
  {
   "cell_type": "code",
   "execution_count": 12,
   "metadata": {
    "collapsed": false,
    "scrolled": false
   },
   "outputs": [
    {
     "data": {
      "text/html": [
       "<p> <strong>&nbsp;&nbsp;&nbsp;&nbsp;&nbsp;&nbsp;&nbsp;&nbsp;&nbsp;&nbsp;&nbsp;&nbsp;&nbsp;&nbsp;&nbsp;&nbsp;&nbsp;&nbsp;&nbsp;&nbsp;&nbsp;&nbsp;&nbsp;&nbsp;&nbsp;&nbsp;&nbsp;&nbsp;&nbsp;&nbsp;&nbsp;&nbsp;&nbsp;&nbsp;&nbsp;&nbsp;&nbsp;&nbsp;&nbsp;&nbsp;&nbsp;&nbsp;&nbsp;&nbsp;&nbsp;&nbsp;&nbsp;&nbsp;&nbsp;&nbsp;&nbsp;&nbsp;&nbsp;&nbsp;&nbsp;&nbsp;&nbsp;&nbsp;&nbsp;&nbsp;&nbsp;&nbsp;&nbsp;&nbsp;&nbsp;&nbsp;&nbsp;&nbsp;&nbsp;&nbsp;&nbsp;&nbsp;&nbsp;&nbsp;&nbsp;&nbsp;&nbsp;&nbsp;&nbsp;&nbsp;&nbsp;&nbsp;&nbsp;&nbsp;&nbsp;&nbsp;&nbsp;&nbsp; CITY OF NEW YORK</strong></p> <p style=text-align: center;\"> <strong>DEPARTMENT OF HOUSING PRESERVATION AND DEVELOPMENT</strong></p> <p align=\"center\"> &nbsp;</p> <p align=\"center\"> <strong>REQUEST FOR COMMENT</strong></p> <p align=\"center\"> <strong>REGARDING AN APPLICATION FOR A</strong></p> <p style=\"text-align: center;\"> <strong>CERTIFICATION OF NO HARASSMENT</strong></p> <p align=\"center\"> &nbsp;</p> <p> <strong>Notice Date:&nbsp;&nbsp; October 10"
      ],
      "text/plain": [
       "<IPython.core.display.HTML object>"
      ]
     },
     "metadata": {},
     "output_type": "display_data"
    },
    {
     "data": {
      "text/html": [
       "<hr/>"
      ],
      "text/plain": [
       "<IPython.core.display.HTML object>"
      ]
     },
     "metadata": {},
     "output_type": "display_data"
    },
    {
     "data": {
      "text/html": [
       "<p> <strong>&nbsp;&nbsp;&nbsp;&nbsp;&nbsp;&nbsp;&nbsp;&nbsp;&nbsp;&nbsp;&nbsp;&nbsp;&nbsp;&nbsp;&nbsp;&nbsp;&nbsp;&nbsp;&nbsp;&nbsp;&nbsp;&nbsp;&nbsp;&nbsp;&nbsp;&nbsp;&nbsp;&nbsp;&nbsp;&nbsp;&nbsp;&nbsp;&nbsp;&nbsp;&nbsp;&nbsp;&nbsp;&nbsp;&nbsp;&nbsp;&nbsp;&nbsp;&nbsp;&nbsp;&nbsp;&nbsp;&nbsp;&nbsp;&nbsp;&nbsp;&nbsp;&nbsp;&nbsp;&nbsp;&nbsp;&nbsp;&nbsp;&nbsp;&nbsp;&nbsp;&nbsp;&nbsp;&nbsp;&nbsp;&nbsp;&nbsp;&nbsp;&nbsp;&nbsp;&nbsp;&nbsp;&nbsp;&nbsp;&nbsp;&nbsp;&nbsp;&nbsp;&nbsp;&nbsp;&nbsp;&nbsp;&nbsp;&nbsp;&nbsp;&nbsp;&nbsp;&nbsp;&nbsp; CITY OF NEW YORK</strong></p> <p style=text-align: center;\"> <strong>DEPARTMENT OF HOUSING PRESERVATION AND DEVELOPMENT</strong></p> <p align=\"center\"> &nbsp;</p> <p align=\"center\"> <strong>REQUEST FOR COMMENT</strong></p> <p align=\"center\"> <strong>REGARDING AN APPLICATION FOR A</strong></p> <p style=\"text-align: center;\"> <strong>CERTIFICATION OF NO HARASSMENT</strong></p> <p align=\"center\"> &nbsp;</p> <p> <strong>Notice Date:&nbsp;&nbsp; October 10"
      ],
      "text/plain": [
       "<IPython.core.display.HTML object>"
      ]
     },
     "metadata": {},
     "output_type": "display_data"
    },
    {
     "data": {
      "text/html": [
       "<hr/>"
      ],
      "text/plain": [
       "<IPython.core.display.HTML object>"
      ]
     },
     "metadata": {},
     "output_type": "display_data"
    },
    {
     "data": {
      "text/html": [
       "<p> &nbsp;</p> <p> &nbsp;</p> <p> &nbsp;</p> <p> &nbsp;</p> <p> &nbsp;</p>"
      ],
      "text/plain": [
       "<IPython.core.display.HTML object>"
      ]
     },
     "metadata": {},
     "output_type": "display_data"
    },
    {
     "data": {
      "text/html": [
       "<hr/>"
      ],
      "text/plain": [
       "<IPython.core.display.HTML object>"
      ]
     },
     "metadata": {},
     "output_type": "display_data"
    },
    {
     "data": {
      "text/html": [
       "<p> <strong>CEQR Type I Negative Declaration - Northern Manhattan Equities Year 15 (4 sites), CEQR No. 15HPD028M</strong></p> <p> &nbsp;</p> <p> The City of New York - Department of Housing Preservation &amp; Development (HPD), through its Low-Income Housing Tax Credit Portfolio Preservation (Year 15) Program, is proposing to extend existing debt and is seeking approval of a tax exemption pursuant to Section 577 of the Private Housing Finance Law (PHFL) of the State of New York for the four existing residential properties located at 166 West 120th Street, 101 West 118th Street, 191 Lenox Avenue and 86 West 120th Street in the Harlem neighborhood in Manhattan, Community District 10. The proposed actions are intended to preserve and extend the affordability of the existing 37 dwelling units within these four buildings.&nbsp; The developer intends to moderately rehabilitate all four buildings.</p> <p> &nbsp;</p> <p> All four buildings are located within the National Register- listed Mt. Morris Park Historic District.&nbsp; In addition, 191 Lenox Avenue and 86 West 120th Street are located within the Landmarks Preservation Commission (LPC)-designated Mt. Morris Park Historic district.&nbsp; Pursuant to Section 25-306 of the Administrative Code of the City of New York, the developer is required to perform all rehabilitation activities at 191 Lenox Avenue and 86 West 120th Street in accordance with permits issued by LPC.&nbsp; In addition, if any State of Federal funding is sought in connection with the proposed project, consultation with the New York State Office of Parks, Recreation, and Historic Preservation (OPRHP) in accordance with Section 106 of the National Historic Preservation Act of 1966 would be required for all four properties prior to the release of funds and start of construction.</p>"
      ],
      "text/plain": [
       "<IPython.core.display.HTML object>"
      ]
     },
     "metadata": {},
     "output_type": "display_data"
    },
    {
     "data": {
      "text/html": [
       "<hr/>"
      ],
      "text/plain": [
       "<IPython.core.display.HTML object>"
      ]
     },
     "metadata": {},
     "output_type": "display_data"
    },
    {
     "data": {
      "text/html": [
       "<p align=center\"> <strong>Affordable Housing Development Opportunity</strong></p> <p> &nbsp;</p> <p> The New York City Department of Housing Preservation and Development (HPD) is inviting developers to submit qualifications.&nbsp; The Request for Qualifications (RFQ) will be available starting December 2"
      ],
      "text/plain": [
       "<IPython.core.display.HTML object>"
      ]
     },
     "metadata": {},
     "output_type": "display_data"
    },
    {
     "data": {
      "text/html": [
       "<hr/>"
      ],
      "text/plain": [
       "<IPython.core.display.HTML object>"
      ]
     },
     "metadata": {},
     "output_type": "display_data"
    },
    {
     "data": {
      "text/html": [
       "<p align=center\"> <strong>Affordable Housing Development Opportunities </strong></p> <p align=\"center\"> <strong>In New York City</strong></p> <p> &nbsp;</p> <p> &nbsp;</p> <p> The New York City Department of Housing Preservation and Development (HPD) is&nbsp; inviting developers to submit qualifications for the design and construction of high-quality"
      ],
      "text/plain": [
       "<IPython.core.display.HTML object>"
      ]
     },
     "metadata": {},
     "output_type": "display_data"
    },
    {
     "data": {
      "text/html": [
       "<hr/>"
      ],
      "text/plain": [
       "<IPython.core.display.HTML object>"
      ]
     },
     "metadata": {},
     "output_type": "display_data"
    }
   ],
   "source": [
    "processed_rows = target_rows.apply(scrape,1)"
   ]
  },
  {
   "cell_type": "code",
   "execution_count": 13,
   "metadata": {
    "collapsed": false,
    "scrolled": false
   },
   "outputs": [],
   "source": [
    "errors = []\n",
    "cols = ['RequestID', 'output', 'AdditionalDescription', 'StartDate', 'EndDate', 'DueDate']\n",
    "for rec in processed_rows[cols].values:\n",
    "    id, output, desc, dtStart, dtEnd, dtDue = rec\n",
    "    output = json.loads(output)\n",
    "    if output.get('error', None):\n",
    "        errors.append({'RequestID' : id, 'error': output, 'desc' : desc, \n",
    "                       'StartDate' : dtStart, 'EndDate' : dtEnd, 'DueDate' :  dtDue\n",
    "                      })\n",
    "        continue"
   ]
  },
  {
   "cell_type": "code",
   "execution_count": 14,
   "metadata": {
    "collapsed": false,
    "scrolled": true
   },
   "outputs": [
    {
     "data": {
      "text/html": [
       "<h1>10 Errors parsing Notice::Housing Preservation and Development</h1>"
      ],
      "text/plain": [
       "<IPython.core.display.HTML object>"
      ]
     },
     "metadata": {},
     "output_type": "display_data"
    },
    {
     "name": "stdout",
     "output_type": "stream",
     "text": [
      "{'DueDate': nan,\n",
      " 'EndDate': '10/16/2014 0:00:00',\n",
      " 'RequestID': 20141003106,\n",
      " 'StartDate': '10/16/2014 0:00:00',\n",
      " 'desc': nan,\n",
      " 'error': {'error': 'source is not a string: nan'}}\n",
      "\n",
      "\n",
      "\n"
     ]
    },
    {
     "data": {
      "text/html": [
       "<hr/>"
      ],
      "text/plain": [
       "<IPython.core.display.HTML object>"
      ]
     },
     "metadata": {},
     "output_type": "display_data"
    },
    {
     "name": "stdout",
     "output_type": "stream",
     "text": [
      "{'DueDate': nan,\n",
      " 'EndDate': '10/27/2014 0:00:00',\n",
      " 'RequestID': 20141020105,\n",
      " 'StartDate': '10/27/2014 0:00:00',\n",
      " 'desc': nan,\n",
      " 'error': {'error': 'source is not a string: nan'}}\n",
      "\n",
      "\n",
      "\n"
     ]
    },
    {
     "data": {
      "text/html": [
       "<hr/>"
      ],
      "text/plain": [
       "<IPython.core.display.HTML object>"
      ]
     },
     "metadata": {},
     "output_type": "display_data"
    },
    {
     "name": "stdout",
     "output_type": "stream",
     "text": [
      "{'DueDate': nan,\n",
      " 'EndDate': '10/24/2014 0:00:00',\n",
      " 'RequestID': 20141022107,\n",
      " 'StartDate': '10/24/2014 0:00:00',\n",
      " 'desc': nan,\n",
      " 'error': {'error': 'source is not a string: nan'}}\n",
      "\n",
      "\n",
      "\n"
     ]
    },
    {
     "data": {
      "text/html": [
       "<hr/>"
      ],
      "text/plain": [
       "<IPython.core.display.HTML object>"
      ]
     },
     "metadata": {},
     "output_type": "display_data"
    },
    {
     "name": "stdout",
     "output_type": "stream",
     "text": [
      "{'DueDate': nan,\n",
      " 'EndDate': '11/3/2014 0:00:00',\n",
      " 'RequestID': 20141027101,\n",
      " 'StartDate': '11/3/2014 0:00:00',\n",
      " 'desc': nan,\n",
      " 'error': {'error': 'source is not a string: nan'}}\n",
      "\n",
      "\n",
      "\n"
     ]
    },
    {
     "data": {
      "text/html": [
       "<hr/>"
      ],
      "text/plain": [
       "<IPython.core.display.HTML object>"
      ]
     },
     "metadata": {},
     "output_type": "display_data"
    },
    {
     "name": "stdout",
     "output_type": "stream",
     "text": [
      "{'DueDate': nan,\n",
      " 'EndDate': '11/24/2014 0:00:00',\n",
      " 'RequestID': 20141103108,\n",
      " 'StartDate': '11/14/2014 0:00:00',\n",
      " 'desc': nan,\n",
      " 'error': {'error': 'source is not a string: nan'}}\n",
      "\n",
      "\n",
      "\n"
     ]
    },
    {
     "data": {
      "text/html": [
       "<hr/>"
      ],
      "text/plain": [
       "<IPython.core.display.HTML object>"
      ]
     },
     "metadata": {},
     "output_type": "display_data"
    },
    {
     "name": "stdout",
     "output_type": "stream",
     "text": [
      "{'DueDate': nan,\n",
      " 'EndDate': '11/28/2014 0:00:00',\n",
      " 'RequestID': 20141118108,\n",
      " 'StartDate': '11/28/2014 0:00:00',\n",
      " 'desc': nan,\n",
      " 'error': {'error': 'source is not a string: nan'}}\n",
      "\n",
      "\n",
      "\n"
     ]
    },
    {
     "data": {
      "text/html": [
       "<hr/>"
      ],
      "text/plain": [
       "<IPython.core.display.HTML object>"
      ]
     },
     "metadata": {},
     "output_type": "display_data"
    },
    {
     "name": "stdout",
     "output_type": "stream",
     "text": [
      "{'DueDate': nan,\n",
      " 'EndDate': '11/25/2014 0:00:00',\n",
      " 'RequestID': 20141118110,\n",
      " 'StartDate': '11/25/2014 0:00:00',\n",
      " 'desc': nan,\n",
      " 'error': {'error': 'source is not a string: nan'}}\n",
      "\n",
      "\n",
      "\n"
     ]
    },
    {
     "data": {
      "text/html": [
       "<hr/>"
      ],
      "text/plain": [
       "<IPython.core.display.HTML object>"
      ]
     },
     "metadata": {},
     "output_type": "display_data"
    },
    {
     "name": "stdout",
     "output_type": "stream",
     "text": [
      "{'DueDate': nan,\n",
      " 'EndDate': '12/22/2014 0:00:00',\n",
      " 'RequestID': 20141202102,\n",
      " 'StartDate': '12/12/2014 0:00:00',\n",
      " 'desc': nan,\n",
      " 'error': {'error': 'source is not a string: nan'}}\n",
      "\n",
      "\n",
      "\n"
     ]
    },
    {
     "data": {
      "text/html": [
       "<hr/>"
      ],
      "text/plain": [
       "<IPython.core.display.HTML object>"
      ]
     },
     "metadata": {},
     "output_type": "display_data"
    },
    {
     "name": "stdout",
     "output_type": "stream",
     "text": [
      "{'DueDate': nan,\n",
      " 'EndDate': '12/9/2014 0:00:00',\n",
      " 'RequestID': 20141202111,\n",
      " 'StartDate': '12/9/2014 0:00:00',\n",
      " 'desc': nan,\n",
      " 'error': {'error': 'source is not a string: nan'}}\n",
      "\n",
      "\n",
      "\n"
     ]
    },
    {
     "data": {
      "text/html": [
       "<hr/>"
      ],
      "text/plain": [
       "<IPython.core.display.HTML object>"
      ]
     },
     "metadata": {},
     "output_type": "display_data"
    },
    {
     "name": "stdout",
     "output_type": "stream",
     "text": [
      "{'DueDate': nan,\n",
      " 'EndDate': '12/12/2014 0:00:00',\n",
      " 'RequestID': 20141210101,\n",
      " 'StartDate': '12/12/2014 0:00:00',\n",
      " 'desc': nan,\n",
      " 'error': {'error': 'source is not a string: nan'}}\n",
      "\n",
      "\n",
      "\n"
     ]
    },
    {
     "data": {
      "text/html": [
       "<hr/>"
      ],
      "text/plain": [
       "<IPython.core.display.HTML object>"
      ]
     },
     "metadata": {},
     "output_type": "display_data"
    }
   ],
   "source": [
    "err_summary = '''<h1>{} Errors parsing Notice::Housing Preservation and Development</h1>'''.format(len(errors))\n",
    "display(HTML(err_summary))\n",
    "for error in errors:\n",
    "    pprint.pprint(error)\n",
    "    print('\\n\\n')\n",
    "    desc = error['desc']\n",
    "    if isinstance(desc, str):\n",
    "        display(HTML(error['desc']))\n",
    "    display(HTML('<hr/>'))\n"
   ]
  },
  {
   "cell_type": "code",
   "execution_count": null,
   "metadata": {
    "collapsed": true
   },
   "outputs": [],
   "source": []
  },
  {
   "cell_type": "code",
   "execution_count": null,
   "metadata": {
    "collapsed": true
   },
   "outputs": [],
   "source": []
  },
  {
   "cell_type": "code",
   "execution_count": null,
   "metadata": {
    "collapsed": true
   },
   "outputs": [],
   "source": []
  }
 ],
 "metadata": {
  "kernelspec": {
   "display_name": "Python 3",
   "language": "python",
   "name": "python3"
  },
  "language_info": {
   "codemirror_mode": {
    "name": "ipython",
    "version": 3
   },
   "file_extension": ".py",
   "mimetype": "text/x-python",
   "name": "python",
   "nbconvert_exporter": "python",
   "pygments_lexer": "ipython3",
   "version": "3.4.3"
  }
 },
 "nbformat": 4,
 "nbformat_minor": 0
}
