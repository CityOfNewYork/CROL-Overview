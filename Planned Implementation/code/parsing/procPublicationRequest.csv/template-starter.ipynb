{
 "cells": [
  {
   "cell_type": "code",
   "execution_count": null,
   "metadata": {
    "collapsed": false
   },
   "outputs": [],
   "source": [
    "from bs4 import BeautifulSoup as Soup\n",
    "from IPython.display import HTML\n",
    "import pandas as pd\n",
    "import numpy as np\n",
    "import re\n",
    "import pprint\n",
    "from IPython.display import display"
   ]
  },
  {
   "cell_type": "code",
   "execution_count": null,
   "metadata": {
    "collapsed": false
   },
   "outputs": [],
   "source": [
    "fn = 'orig.procPublicationRequestDMSSPortal.oct-dec-2014.csv'\n",
    "rows = pd.read_csv(fn, header=0, sep='|', encoding='latin-1')"
   ]
  },
  {
   "cell_type": "code",
   "execution_count": null,
   "metadata": {
    "collapsed": false
   },
   "outputs": [],
   "source": [
    "cols = ['RequestID', 'StartDate', 'EndDate', \n",
    "        'AgencyCode', 'AgencyName', 'AgencyDivision', \n",
    "        'TypeOfNoticeCode', 'TypeOfNoticeDescription', \n",
    "        'CategoryCode', 'CategoryDescription', 'ShortTitle', \n",
    "        'SelectionMethodCode', 'SelectionMethodDescription', \n",
    "        'SectionID', 'SectionName', 'SpecialCaseReasonCode', \n",
    "        'SpecialCaseReasonDescription', 'PIN', 'DueDate', \n",
    "        'AddressToRequest', 'ContactName', 'ContactPhone', \n",
    "        'Email', 'AddressToSubmit', 'ContractAmount', \n",
    "        'RequestedBy', 'PhoneRequested', 'ConfirmationNumber', \n",
    "        'ContactFax', 'AdditionalDescription', 'OtherInfo', \n",
    "        'VendorName', 'VendorAddress', 'Printout']"
   ]
  },
  {
   "cell_type": "code",
   "execution_count": null,
   "metadata": {
    "collapsed": false
   },
   "outputs": [],
   "source": [
    "cas = rows['AgencyName'] == \"Citywide Administrative Services\"\n",
    "awards = rows['TypeOfNoticeDescription'] == \"Award\"\n",
    "rows = rows[cas & awards][cols]\n",
    "rows"
   ]
  },
  {
   "cell_type": "code",
   "execution_count": null,
   "metadata": {
    "collapsed": false,
    "scrolled": false
   },
   "outputs": [],
   "source": [
    "from IPython.display import display\n",
    "badcount = 0\n",
    "for html in rows.AdditionalDescription.values:\n",
    "    if not isinstance(html, str):\n",
    "        badcount += 1\n",
    "    else:\n",
    "        display(HTML(html))\n",
    "        try:\n",
    "            parse_notice(Soup(html))\n",
    "        except Exception:\n",
    "            badcount += 1"
   ]
  },
  {
   "cell_type": "code",
   "execution_count": null,
   "metadata": {
    "collapsed": false
   },
   "outputs": [],
   "source": [
    "import json\n",
    "def scrape(row):\n",
    "    output = None\n",
    "    try:\n",
    "        output = parse_notice(Soup(row.AdditionalDescription))\n",
    "    except Exception :\n",
    "        output = {'error' : 'bad input: [{}]'.format(row.AdditionalDescription)}\n",
    "    row['output'] = json.dumps(output)\n",
    "    return row"
   ]
  },
  {
   "cell_type": "code",
   "execution_count": null,
   "metadata": {
    "collapsed": false
   },
   "outputs": [],
   "source": [
    "fix = rows.apply(scrape,1)"
   ]
  },
  {
   "cell_type": "code",
   "execution_count": null,
   "metadata": {
    "collapsed": false,
    "scrolled": false
   },
   "outputs": [],
   "source": [
    "for rec in fix[['output', 'AdditionalDescription']].values:\n",
    "    output, text = rec\n",
    "    if not isinstance(text, str):\n",
    "        text = 'NAN'\n",
    "    display(HTML(text))\n",
    "    print('---')\n",
    "    pprint.pprint(json.loads(output))\n",
    "    display(HTML('<hr />'))\n",
    "    print('\\n\\n')"
   ]
  },
  {
   "cell_type": "code",
   "execution_count": null,
   "metadata": {
    "collapsed": true
   },
   "outputs": [],
   "source": []
  }
 ],
 "metadata": {
  "kernelspec": {
   "display_name": "Python 3",
   "language": "python",
   "name": "python3"
  },
  "language_info": {
   "codemirror_mode": {
    "name": "ipython",
    "version": 3
   },
   "file_extension": ".py",
   "mimetype": "text/x-python",
   "name": "python",
   "nbconvert_exporter": "python",
   "pygments_lexer": "ipython3",
   "version": "3.4.3"
  }
 },
 "nbformat": 4,
 "nbformat_minor": 0
}
